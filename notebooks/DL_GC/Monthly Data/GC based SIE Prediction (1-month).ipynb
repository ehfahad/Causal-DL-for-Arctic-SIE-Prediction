{
 "cells": [
  {
   "cell_type": "code",
   "execution_count": 1,
   "id": "1507a9c1",
   "metadata": {
    "executionInfo": {
     "elapsed": 1022,
     "status": "ok",
     "timestamp": 1670228536675,
     "user": {
      "displayName": "Emam Hossain",
      "userId": "13589795966077461357"
     },
     "user_tz": 300
    },
    "id": "1507a9c1"
   },
   "outputs": [],
   "source": [
    "import numpy as np\n",
    "import pandas as pd\n",
    "import matplotlib.pyplot as plt\n",
    "import seaborn as sns\n",
    "from sklearn.preprocessing import MinMaxScaler"
   ]
  },
  {
   "cell_type": "code",
   "execution_count": 2,
   "id": "ZkC-CdqrYGLW",
   "metadata": {
    "executionInfo": {
     "elapsed": 6,
     "status": "ok",
     "timestamp": 1670228536676,
     "user": {
      "displayName": "Emam Hossain",
      "userId": "13589795966077461357"
     },
     "user_tz": 300
    },
    "id": "ZkC-CdqrYGLW"
   },
   "outputs": [],
   "source": [
    "# global variables\n",
    "\n",
    "look_back = 20\n",
    "lead_time = 1\n",
    "filename = '../../../data/Arctic_Monthy_Mean_1979_2021.csv'\n",
    "gc_features = ['wind_10m', 'specific_humidity', 'LW_down', 'SW_down', 'rainfall', 'snowfall', 't2m', 'surface_pressure', 'sea_ice_extent']"
   ]
  },
  {
   "cell_type": "code",
   "execution_count": 3,
   "id": "zlPFdfw7F9-_",
   "metadata": {
    "colab": {
     "base_uri": "https://localhost:8080/",
     "height": 74
    },
    "executionInfo": {
     "elapsed": 7879,
     "status": "ok",
     "timestamp": 1670228544549,
     "user": {
      "displayName": "Emam Hossain",
      "userId": "13589795966077461357"
     },
     "user_tz": 300
    },
    "id": "zlPFdfw7F9-_",
    "outputId": "67e9e871-3de6-4c91-e1c0-507bc4e503f2"
   },
   "outputs": [
    {
     "data": {
      "text/html": [
       "<div>\n",
       "<style scoped>\n",
       "    .dataframe tbody tr th:only-of-type {\n",
       "        vertical-align: middle;\n",
       "    }\n",
       "\n",
       "    .dataframe tbody tr th {\n",
       "        vertical-align: top;\n",
       "    }\n",
       "\n",
       "    .dataframe thead th {\n",
       "        text-align: right;\n",
       "    }\n",
       "</style>\n",
       "<table border=\"1\" class=\"dataframe\">\n",
       "  <thead>\n",
       "    <tr style=\"text-align: right;\">\n",
       "      <th></th>\n",
       "      <th>Date</th>\n",
       "      <th>wind_10m</th>\n",
       "      <th>specific_humidity</th>\n",
       "      <th>LW_down</th>\n",
       "      <th>SW_down</th>\n",
       "      <th>rainfall</th>\n",
       "      <th>snowfall</th>\n",
       "      <th>sst</th>\n",
       "      <th>t2m</th>\n",
       "      <th>surface_pressure</th>\n",
       "      <th>sea_ice_extent</th>\n",
       "    </tr>\n",
       "  </thead>\n",
       "  <tbody>\n",
       "    <tr>\n",
       "      <th>0</th>\n",
       "      <td>1/1/1979</td>\n",
       "      <td>5.531398</td>\n",
       "      <td>0.811961</td>\n",
       "      <td>186.687054</td>\n",
       "      <td>3.127880</td>\n",
       "      <td>1.009872</td>\n",
       "      <td>0.892319</td>\n",
       "      <td>273.355237</td>\n",
       "      <td>250.388101</td>\n",
       "      <td>984.633032</td>\n",
       "      <td>15604191</td>\n",
       "    </tr>\n",
       "    <tr>\n",
       "      <th>1</th>\n",
       "      <td>2/1/1979</td>\n",
       "      <td>5.328020</td>\n",
       "      <td>0.688896</td>\n",
       "      <td>174.794571</td>\n",
       "      <td>18.541594</td>\n",
       "      <td>0.920831</td>\n",
       "      <td>0.781347</td>\n",
       "      <td>273.121885</td>\n",
       "      <td>247.071202</td>\n",
       "      <td>983.980418</td>\n",
       "      <td>16378929</td>\n",
       "    </tr>\n",
       "    <tr>\n",
       "      <th>2</th>\n",
       "      <td>3/1/1979</td>\n",
       "      <td>5.432511</td>\n",
       "      <td>0.916124</td>\n",
       "      <td>190.741933</td>\n",
       "      <td>67.690429</td>\n",
       "      <td>0.983327</td>\n",
       "      <td>0.855266</td>\n",
       "      <td>273.088099</td>\n",
       "      <td>252.954138</td>\n",
       "      <td>985.140468</td>\n",
       "      <td>16521089</td>\n",
       "    </tr>\n",
       "    <tr>\n",
       "      <th>3</th>\n",
       "      <td>4/1/1979</td>\n",
       "      <td>4.792836</td>\n",
       "      <td>1.272056</td>\n",
       "      <td>212.937925</td>\n",
       "      <td>156.223673</td>\n",
       "      <td>0.890723</td>\n",
       "      <td>0.705203</td>\n",
       "      <td>273.126062</td>\n",
       "      <td>259.557456</td>\n",
       "      <td>989.314698</td>\n",
       "      <td>15561238</td>\n",
       "    </tr>\n",
       "    <tr>\n",
       "      <th>4</th>\n",
       "      <td>5/1/1979</td>\n",
       "      <td>4.819028</td>\n",
       "      <td>2.239776</td>\n",
       "      <td>253.690478</td>\n",
       "      <td>230.950833</td>\n",
       "      <td>1.201308</td>\n",
       "      <td>0.688723</td>\n",
       "      <td>273.393551</td>\n",
       "      <td>269.375118</td>\n",
       "      <td>984.483658</td>\n",
       "      <td>14085613</td>\n",
       "    </tr>\n",
       "  </tbody>\n",
       "</table>\n",
       "</div>"
      ],
      "text/plain": [
       "       Date  wind_10m  specific_humidity     LW_down     SW_down  rainfall  \\\n",
       "0  1/1/1979  5.531398           0.811961  186.687054    3.127880  1.009872   \n",
       "1  2/1/1979  5.328020           0.688896  174.794571   18.541594  0.920831   \n",
       "2  3/1/1979  5.432511           0.916124  190.741933   67.690429  0.983327   \n",
       "3  4/1/1979  4.792836           1.272056  212.937925  156.223673  0.890723   \n",
       "4  5/1/1979  4.819028           2.239776  253.690478  230.950833  1.201308   \n",
       "\n",
       "   snowfall         sst         t2m  surface_pressure  sea_ice_extent  \n",
       "0  0.892319  273.355237  250.388101        984.633032        15604191  \n",
       "1  0.781347  273.121885  247.071202        983.980418        16378929  \n",
       "2  0.855266  273.088099  252.954138        985.140468        16521089  \n",
       "3  0.705203  273.126062  259.557456        989.314698        15561238  \n",
       "4  0.688723  273.393551  269.375118        984.483658        14085613  "
      ]
     },
     "execution_count": 3,
     "metadata": {},
     "output_type": "execute_result"
    }
   ],
   "source": [
    "# from google.colab import files\n",
    "# import io\n",
    "\n",
    "# uploaded = files.upload()\n",
    "# df = pd.read_csv(io.BytesIO(uploaded[filename]))\n",
    "\n",
    "# Reading the dataset\n",
    "df = pd.read_csv(filename)\n",
    "df.head()"
   ]
  },
  {
   "cell_type": "code",
   "execution_count": 4,
   "id": "683fdbc4",
   "metadata": {
    "colab": {
     "base_uri": "https://localhost:8080/",
     "height": 692
    },
    "executionInfo": {
     "elapsed": 6,
     "status": "ok",
     "timestamp": 1670228544550,
     "user": {
      "displayName": "Emam Hossain",
      "userId": "13589795966077461357"
     },
     "user_tz": 300
    },
    "id": "683fdbc4",
    "outputId": "0290e1cd-da78-4e01-a9cb-1b9248a6da9e"
   },
   "outputs": [
    {
     "data": {
      "text/html": [
       "\n",
       "  <div id=\"df-97ea299a-7512-4126-8a67-0f8b9adeb269\">\n",
       "    <div class=\"colab-df-container\">\n",
       "      <div>\n",
       "<style scoped>\n",
       "    .dataframe tbody tr th:only-of-type {\n",
       "        vertical-align: middle;\n",
       "    }\n",
       "\n",
       "    .dataframe tbody tr th {\n",
       "        vertical-align: top;\n",
       "    }\n",
       "\n",
       "    .dataframe thead th {\n",
       "        text-align: right;\n",
       "    }\n",
       "</style>\n",
       "<table border=\"1\" class=\"dataframe\">\n",
       "  <thead>\n",
       "    <tr style=\"text-align: right;\">\n",
       "      <th></th>\n",
       "      <th>wind_10m</th>\n",
       "      <th>specific_humidity</th>\n",
       "      <th>LW_down</th>\n",
       "      <th>SW_down</th>\n",
       "      <th>rainfall</th>\n",
       "      <th>snowfall</th>\n",
       "      <th>t2m</th>\n",
       "      <th>surface_pressure</th>\n",
       "      <th>sea_ice_extent</th>\n",
       "    </tr>\n",
       "    <tr>\n",
       "      <th>Date</th>\n",
       "      <th></th>\n",
       "      <th></th>\n",
       "      <th></th>\n",
       "      <th></th>\n",
       "      <th></th>\n",
       "      <th></th>\n",
       "      <th></th>\n",
       "      <th></th>\n",
       "      <th></th>\n",
       "    </tr>\n",
       "  </thead>\n",
       "  <tbody>\n",
       "    <tr>\n",
       "      <th>1979-01-01</th>\n",
       "      <td>5.531398</td>\n",
       "      <td>0.811961</td>\n",
       "      <td>186.687054</td>\n",
       "      <td>3.127880</td>\n",
       "      <td>1.009872</td>\n",
       "      <td>0.892319</td>\n",
       "      <td>250.388101</td>\n",
       "      <td>984.633032</td>\n",
       "      <td>15604191.0</td>\n",
       "    </tr>\n",
       "    <tr>\n",
       "      <th>1979-02-01</th>\n",
       "      <td>5.328020</td>\n",
       "      <td>0.688896</td>\n",
       "      <td>174.794571</td>\n",
       "      <td>18.541594</td>\n",
       "      <td>0.920831</td>\n",
       "      <td>0.781347</td>\n",
       "      <td>247.071202</td>\n",
       "      <td>983.980418</td>\n",
       "      <td>16378929.0</td>\n",
       "    </tr>\n",
       "    <tr>\n",
       "      <th>1979-03-01</th>\n",
       "      <td>5.432511</td>\n",
       "      <td>0.916124</td>\n",
       "      <td>190.741933</td>\n",
       "      <td>67.690429</td>\n",
       "      <td>0.983327</td>\n",
       "      <td>0.855266</td>\n",
       "      <td>252.954138</td>\n",
       "      <td>985.140468</td>\n",
       "      <td>16521089.0</td>\n",
       "    </tr>\n",
       "    <tr>\n",
       "      <th>1979-04-01</th>\n",
       "      <td>4.792836</td>\n",
       "      <td>1.272056</td>\n",
       "      <td>212.937925</td>\n",
       "      <td>156.223673</td>\n",
       "      <td>0.890723</td>\n",
       "      <td>0.705203</td>\n",
       "      <td>259.557456</td>\n",
       "      <td>989.314698</td>\n",
       "      <td>15561238.0</td>\n",
       "    </tr>\n",
       "    <tr>\n",
       "      <th>1979-05-01</th>\n",
       "      <td>4.819028</td>\n",
       "      <td>2.239776</td>\n",
       "      <td>253.690478</td>\n",
       "      <td>230.950833</td>\n",
       "      <td>1.201308</td>\n",
       "      <td>0.688723</td>\n",
       "      <td>269.375118</td>\n",
       "      <td>984.483658</td>\n",
       "      <td>14085613.0</td>\n",
       "    </tr>\n",
       "    <tr>\n",
       "      <th>...</th>\n",
       "      <td>...</td>\n",
       "      <td>...</td>\n",
       "      <td>...</td>\n",
       "      <td>...</td>\n",
       "      <td>...</td>\n",
       "      <td>...</td>\n",
       "      <td>...</td>\n",
       "      <td>...</td>\n",
       "      <td>...</td>\n",
       "    </tr>\n",
       "    <tr>\n",
       "      <th>2021-04-01</th>\n",
       "      <td>5.383687</td>\n",
       "      <td>1.529497</td>\n",
       "      <td>225.171796</td>\n",
       "      <td>156.567743</td>\n",
       "      <td>1.159049</td>\n",
       "      <td>0.929777</td>\n",
       "      <td>263.146395</td>\n",
       "      <td>985.801841</td>\n",
       "      <td>13840000.0</td>\n",
       "    </tr>\n",
       "    <tr>\n",
       "      <th>2021-05-01</th>\n",
       "      <td>4.777020</td>\n",
       "      <td>2.451088</td>\n",
       "      <td>260.956781</td>\n",
       "      <td>229.604138</td>\n",
       "      <td>1.077705</td>\n",
       "      <td>0.575494</td>\n",
       "      <td>271.557464</td>\n",
       "      <td>985.606182</td>\n",
       "      <td>12660000.0</td>\n",
       "    </tr>\n",
       "    <tr>\n",
       "      <th>2021-06-01</th>\n",
       "      <td>4.771453</td>\n",
       "      <td>4.176458</td>\n",
       "      <td>294.931709</td>\n",
       "      <td>244.702852</td>\n",
       "      <td>1.585094</td>\n",
       "      <td>0.360146</td>\n",
       "      <td>278.360921</td>\n",
       "      <td>978.436682</td>\n",
       "      <td>10710000.0</td>\n",
       "    </tr>\n",
       "    <tr>\n",
       "      <th>2021-07-01</th>\n",
       "      <td>4.754014</td>\n",
       "      <td>5.193846</td>\n",
       "      <td>313.311345</td>\n",
       "      <td>196.774631</td>\n",
       "      <td>1.957911</td>\n",
       "      <td>0.248088</td>\n",
       "      <td>280.413695</td>\n",
       "      <td>978.293303</td>\n",
       "      <td>7690000.0</td>\n",
       "    </tr>\n",
       "    <tr>\n",
       "      <th>2021-08-01</th>\n",
       "      <td>4.635243</td>\n",
       "      <td>5.077386</td>\n",
       "      <td>313.003568</td>\n",
       "      <td>126.146891</td>\n",
       "      <td>2.046782</td>\n",
       "      <td>0.235519</td>\n",
       "      <td>279.556077</td>\n",
       "      <td>980.453507</td>\n",
       "      <td>5750000.0</td>\n",
       "    </tr>\n",
       "  </tbody>\n",
       "</table>\n",
       "<p>512 rows × 9 columns</p>\n",
       "</div>\n",
       "      <button class=\"colab-df-convert\" onclick=\"convertToInteractive('df-97ea299a-7512-4126-8a67-0f8b9adeb269')\"\n",
       "              title=\"Convert this dataframe to an interactive table.\"\n",
       "              style=\"display:none;\">\n",
       "        \n",
       "  <svg xmlns=\"http://www.w3.org/2000/svg\" height=\"24px\"viewBox=\"0 0 24 24\"\n",
       "       width=\"24px\">\n",
       "    <path d=\"M0 0h24v24H0V0z\" fill=\"none\"/>\n",
       "    <path d=\"M18.56 5.44l.94 2.06.94-2.06 2.06-.94-2.06-.94-.94-2.06-.94 2.06-2.06.94zm-11 1L8.5 8.5l.94-2.06 2.06-.94-2.06-.94L8.5 2.5l-.94 2.06-2.06.94zm10 10l.94 2.06.94-2.06 2.06-.94-2.06-.94-.94-2.06-.94 2.06-2.06.94z\"/><path d=\"M17.41 7.96l-1.37-1.37c-.4-.4-.92-.59-1.43-.59-.52 0-1.04.2-1.43.59L10.3 9.45l-7.72 7.72c-.78.78-.78 2.05 0 2.83L4 21.41c.39.39.9.59 1.41.59.51 0 1.02-.2 1.41-.59l7.78-7.78 2.81-2.81c.8-.78.8-2.07 0-2.86zM5.41 20L4 18.59l7.72-7.72 1.47 1.35L5.41 20z\"/>\n",
       "  </svg>\n",
       "      </button>\n",
       "      \n",
       "  <style>\n",
       "    .colab-df-container {\n",
       "      display:flex;\n",
       "      flex-wrap:wrap;\n",
       "      gap: 12px;\n",
       "    }\n",
       "\n",
       "    .colab-df-convert {\n",
       "      background-color: #E8F0FE;\n",
       "      border: none;\n",
       "      border-radius: 50%;\n",
       "      cursor: pointer;\n",
       "      display: none;\n",
       "      fill: #1967D2;\n",
       "      height: 32px;\n",
       "      padding: 0 0 0 0;\n",
       "      width: 32px;\n",
       "    }\n",
       "\n",
       "    .colab-df-convert:hover {\n",
       "      background-color: #E2EBFA;\n",
       "      box-shadow: 0px 1px 2px rgba(60, 64, 67, 0.3), 0px 1px 3px 1px rgba(60, 64, 67, 0.15);\n",
       "      fill: #174EA6;\n",
       "    }\n",
       "\n",
       "    [theme=dark] .colab-df-convert {\n",
       "      background-color: #3B4455;\n",
       "      fill: #D2E3FC;\n",
       "    }\n",
       "\n",
       "    [theme=dark] .colab-df-convert:hover {\n",
       "      background-color: #434B5C;\n",
       "      box-shadow: 0px 1px 3px 1px rgba(0, 0, 0, 0.15);\n",
       "      filter: drop-shadow(0px 1px 2px rgba(0, 0, 0, 0.3));\n",
       "      fill: #FFFFFF;\n",
       "    }\n",
       "  </style>\n",
       "\n",
       "      <script>\n",
       "        const buttonEl =\n",
       "          document.querySelector('#df-97ea299a-7512-4126-8a67-0f8b9adeb269 button.colab-df-convert');\n",
       "        buttonEl.style.display =\n",
       "          google.colab.kernel.accessAllowed ? 'block' : 'none';\n",
       "\n",
       "        async function convertToInteractive(key) {\n",
       "          const element = document.querySelector('#df-97ea299a-7512-4126-8a67-0f8b9adeb269');\n",
       "          const dataTable =\n",
       "            await google.colab.kernel.invokeFunction('convertToInteractive',\n",
       "                                                     [key], {});\n",
       "          if (!dataTable) return;\n",
       "\n",
       "          const docLinkHtml = 'Like what you see? Visit the ' +\n",
       "            '<a target=\"_blank\" href=https://colab.research.google.com/notebooks/data_table.ipynb>data table notebook</a>'\n",
       "            + ' to learn more about interactive tables.';\n",
       "          element.innerHTML = '';\n",
       "          dataTable['output_type'] = 'display_data';\n",
       "          await google.colab.output.renderOutput(dataTable, element);\n",
       "          const docLink = document.createElement('div');\n",
       "          docLink.innerHTML = docLinkHtml;\n",
       "          element.appendChild(docLink);\n",
       "        }\n",
       "      </script>\n",
       "    </div>\n",
       "  </div>\n",
       "  "
      ],
      "text/plain": [
       "            wind_10m  specific_humidity     LW_down     SW_down  rainfall  \\\n",
       "Date                                                                        \n",
       "1979-01-01  5.531398           0.811961  186.687054    3.127880  1.009872   \n",
       "1979-02-01  5.328020           0.688896  174.794571   18.541594  0.920831   \n",
       "1979-03-01  5.432511           0.916124  190.741933   67.690429  0.983327   \n",
       "1979-04-01  4.792836           1.272056  212.937925  156.223673  0.890723   \n",
       "1979-05-01  4.819028           2.239776  253.690478  230.950833  1.201308   \n",
       "...              ...                ...         ...         ...       ...   \n",
       "2021-04-01  5.383687           1.529497  225.171796  156.567743  1.159049   \n",
       "2021-05-01  4.777020           2.451088  260.956781  229.604138  1.077705   \n",
       "2021-06-01  4.771453           4.176458  294.931709  244.702852  1.585094   \n",
       "2021-07-01  4.754014           5.193846  313.311345  196.774631  1.957911   \n",
       "2021-08-01  4.635243           5.077386  313.003568  126.146891  2.046782   \n",
       "\n",
       "            snowfall         t2m  surface_pressure  sea_ice_extent  \n",
       "Date                                                                \n",
       "1979-01-01  0.892319  250.388101        984.633032      15604191.0  \n",
       "1979-02-01  0.781347  247.071202        983.980418      16378929.0  \n",
       "1979-03-01  0.855266  252.954138        985.140468      16521089.0  \n",
       "1979-04-01  0.705203  259.557456        989.314698      15561238.0  \n",
       "1979-05-01  0.688723  269.375118        984.483658      14085613.0  \n",
       "...              ...         ...               ...             ...  \n",
       "2021-04-01  0.929777  263.146395        985.801841      13840000.0  \n",
       "2021-05-01  0.575494  271.557464        985.606182      12660000.0  \n",
       "2021-06-01  0.360146  278.360921        978.436682      10710000.0  \n",
       "2021-07-01  0.248088  280.413695        978.293303       7690000.0  \n",
       "2021-08-01  0.235519  279.556077        980.453507       5750000.0  \n",
       "\n",
       "[512 rows x 9 columns]"
      ]
     },
     "execution_count": 4,
     "metadata": {},
     "output_type": "execute_result"
    }
   ],
   "source": [
    "df['Date'] = pd.to_datetime(df['Date'], infer_datetime_format=True)\n",
    "df.set_index('Date', inplace=True)\n",
    "df = df.astype(float)                 # cast df to float\n",
    "df = df[gc_features]\n",
    "df.tail(len(df))"
   ]
  },
  {
   "cell_type": "code",
   "execution_count": 5,
   "id": "e5014c30",
   "metadata": {
    "executionInfo": {
     "elapsed": 5,
     "status": "ok",
     "timestamp": 1670228544550,
     "user": {
      "displayName": "Emam Hossain",
      "userId": "13589795966077461357"
     },
     "user_tz": 300
    },
    "id": "e5014c30"
   },
   "outputs": [],
   "source": [
    "def create_model_data (dataset, look_back, lead_time):\n",
    "    dataX, dataY = [], []\n",
    "    \n",
    "    for i in range(len(dataset)-look_back-lead_time):\n",
    "        a = dataset[i:(i+look_back)]\n",
    "        dataX.append(a)\n",
    "        dataY.append(dataset[i + look_back + (lead_time-1)])\n",
    "    return np.array(dataX), np.array(dataY)"
   ]
  },
  {
   "cell_type": "code",
   "execution_count": 6,
   "id": "c1aaa5e4",
   "metadata": {
    "executionInfo": {
     "elapsed": 5,
     "status": "ok",
     "timestamp": 1670228544550,
     "user": {
      "displayName": "Emam Hossain",
      "userId": "13589795966077461357"
     },
     "user_tz": 300
    },
    "id": "c1aaa5e4",
    "scrolled": true
   },
   "outputs": [],
   "source": [
    "target_index = df.columns.tolist().index('sea_ice_extent')\n",
    "\n",
    "dataset = df.values.astype('float32')               # DataFrame converted to Numpy Array\n",
    "\n",
    "scaler = MinMaxScaler(feature_range=(0, 1))\n",
    "dataset = scaler.fit_transform(dataset)\n",
    "\n",
    "X, y = create_model_data (dataset, look_back=look_back, lead_time=lead_time)\n",
    "y = y[:,target_index]"
   ]
  },
  {
   "cell_type": "code",
   "execution_count": 7,
   "id": "KGbRA39Br3S9",
   "metadata": {
    "executionInfo": {
     "elapsed": 6,
     "status": "ok",
     "timestamp": 1670228544551,
     "user": {
      "displayName": "Emam Hossain",
      "userId": "13589795966077461357"
     },
     "user_tz": 300
    },
    "id": "KGbRA39Br3S9"
   },
   "outputs": [],
   "source": [
    "from sklearn.model_selection import train_test_split\n",
    "\n",
    "X_train, X_test, y_train, y_test = train_test_split(X, y, test_size=0.2, shuffle=False)"
   ]
  },
  {
   "cell_type": "code",
   "execution_count": 8,
   "id": "9405d356",
   "metadata": {
    "colab": {
     "base_uri": "https://localhost:8080/",
     "height": 431
    },
    "executionInfo": {
     "elapsed": 1622,
     "status": "ok",
     "timestamp": 1670228546168,
     "user": {
      "displayName": "Emam Hossain",
      "userId": "13589795966077461357"
     },
     "user_tz": 300
    },
    "id": "9405d356",
    "outputId": "78f8ecc3-abc2-4aeb-d7b1-2682ba7a79b5"
   },
   "outputs": [
    {
     "data": {
      "text/plain": [
       "<function matplotlib.pyplot.show(*args, **kw)>"
      ]
     },
     "execution_count": 8,
     "metadata": {},
     "output_type": "execute_result"
    },
    {
     "data": {
      "image/png": "[encoded data removed]",
      "text/plain": [
       "<Figure size 1152x432 with 1 Axes>"
      ]
     },
     "metadata": {
      "needs_background": "light"
     },
     "output_type": "display_data"
    }
   ],
   "source": [
    "plt.figure(figsize = (16,6))\n",
    "ax = plt.axes()\n",
    "# ax.set_facecolor('#dcdcdc')\n",
    "\n",
    "plt.title('Arctic Sea Ice Extent Trend from 1979-2018', fontsize = 20,fontweight = \"bold\")\n",
    "plt.xlabel('Time' , fontsize = 14,fontweight = \"bold\")\n",
    "plt.ylabel('Sea Ice Extent (10\\u2076 km\\u00b2)', fontsize = 14,fontweight = \"bold\")\n",
    "plt.plot(df['sea_ice_extent'][:len(df)-len(y_test)]/10**6, 'blue', label='Training Data')\n",
    "plt.plot(df['sea_ice_extent'][len(df)-len(y_test):]/10**6, 'red', label='Testing Data')\n",
    "plt.legend()\n",
    "plt.grid()\n",
    "plt.show"
   ]
  },
  {
   "cell_type": "code",
   "execution_count": 9,
   "id": "86f5e0f3",
   "metadata": {
    "colab": {
     "base_uri": "https://localhost:8080/"
    },
    "executionInfo": {
     "elapsed": 11682,
     "status": "ok",
     "timestamp": 1670228557847,
     "user": {
      "displayName": "Emam Hossain",
      "userId": "13589795966077461357"
     },
     "user_tz": 300
    },
    "id": "86f5e0f3",
    "outputId": "2acec1e4-efcb-4cb6-c28a-ee6ebeba9915"
   },
   "outputs": [
    {
     "name": "stdout",
     "output_type": "stream",
     "text": [
      "Model: \"sequential\"\n",
      "_________________________________________________________________\n",
      " Layer (type)                Output Shape              Param #   \n",
      "=================================================================\n",
      " gru (GRU)                   (None, 20, 64)            14400     \n",
      "                                                                 \n",
      " dropout (Dropout)           (None, 20, 64)            0         \n",
      "                                                                 \n",
      " gru_1 (GRU)                 (None, 20, 128)           74496     \n",
      "                                                                 \n",
      " dropout_1 (Dropout)         (None, 20, 128)           0         \n",
      "                                                                 \n",
      " gru_2 (GRU)                 (None, 20, 256)           296448    \n",
      "                                                                 \n",
      " dropout_2 (Dropout)         (None, 20, 256)           0         \n",
      "                                                                 \n",
      " gru_3 (GRU)                 (None, 20, 512)           1182720   \n",
      "                                                                 \n",
      " dropout_3 (Dropout)         (None, 20, 512)           0         \n",
      "                                                                 \n",
      " lstm (LSTM)                 (None, 20, 1024)          6295552   \n",
      "                                                                 \n",
      " dropout_4 (Dropout)         (None, 20, 1024)          0         \n",
      "                                                                 \n",
      " lstm_1 (LSTM)               (None, 20, 512)           3147776   \n",
      "                                                                 \n",
      " dropout_5 (Dropout)         (None, 20, 512)           0         \n",
      "                                                                 \n",
      " lstm_2 (LSTM)               (None, 20, 256)           787456    \n",
      "                                                                 \n",
      " dropout_6 (Dropout)         (None, 20, 256)           0         \n",
      "                                                                 \n",
      " lstm_3 (LSTM)               (None, 128)               197120    \n",
      "                                                                 \n",
      " dropout_7 (Dropout)         (None, 128)               0         \n",
      "                                                                 \n",
      " dense (Dense)               (None, 64)                8256      \n",
      "                                                                 \n",
      " dense_1 (Dense)             (None, 1)                 65        \n",
      "                                                                 \n",
      "=================================================================\n",
      "Total params: 12,004,289\n",
      "Trainable params: 12,004,289\n",
      "Non-trainable params: 0\n",
      "_________________________________________________________________\n",
      "None\n"
     ]
    }
   ],
   "source": [
    "from keras.models import Sequential\n",
    "from keras.layers import Dense, Dropout, Activation, Input, LSTM, GRU, Dense\n",
    "\n",
    "input_shape=(X.shape[1], X.shape[2])\n",
    "\n",
    "model = Sequential()\n",
    "model.add(GRU(64, input_shape=(X.shape[1], X.shape[2]), return_sequences=True))\n",
    "model.add(Dropout(0.2))\n",
    "\n",
    "model.add(GRU(128, return_sequences=True))\n",
    "model.add(Dropout(0.2))\n",
    "\n",
    "model.add(GRU(256, return_sequences=True))\n",
    "model.add(Dropout(0.2))\n",
    "\n",
    "model.add(GRU(512, return_sequences=True))\n",
    "model.add(Dropout(0.2))\n",
    "\n",
    "model.add(LSTM(1024, return_sequences=True))\n",
    "model.add(Dropout(0.2))\n",
    "\n",
    "model.add(LSTM(512, return_sequences=True))\n",
    "model.add(Dropout(0.2))\n",
    "\n",
    "model.add(LSTM(256, return_sequences=True))\n",
    "model.add(Dropout(0.2))\n",
    "\n",
    "model.add(LSTM(128))\n",
    "model.add(Dropout(0.2))\n",
    "\n",
    "model.add(Dense(64 ,  activation = 'relu'))\n",
    "model.add(Dense(1))\n",
    "\n",
    "model.compile(loss='mean_squared_error', optimizer='adam', metrics=['mae', 'mse'])\n",
    "print(model.summary())"
   ]
  },
  {
   "cell_type": "code",
   "execution_count": 10,
   "id": "8a6be2cb",
   "metadata": {
    "colab": {
     "base_uri": "https://localhost:8080/"
    },
    "executionInfo": {
     "elapsed": 45670,
     "status": "ok",
     "timestamp": 1670228603513,
     "user": {
      "displayName": "Emam Hossain",
      "userId": "13589795966077461357"
     },
     "user_tz": 300
    },
    "id": "8a6be2cb",
    "outputId": "39a2ab12-50bb-42c8-bea8-231c8d095e0c",
    "scrolled": true
   },
   "outputs": [
    {
     "name": "stdout",
     "output_type": "stream",
     "text": [
      "Epoch 1/100\n",
      "5/6 [========================>.....] - ETA: 0s - loss: 0.2921 - mae: 0.4723 - mse: 0.2921"
     ]
    },
    {
     "name": "stderr",
     "output_type": "stream",
     "text": [
      "WARNING:tensorflow:Can save best model only with val_mean_squared_error available, skipping.\n"
     ]
    },
    {
     "name": "stdout",
     "output_type": "stream",
     "text": [
      "6/6 [==============================] - 17s 526ms/step - loss: 0.2706 - mae: 0.4474 - mse: 0.2706 - val_loss: 0.1318 - val_mae: 0.2601 - val_mse: 0.1318\n",
      "Epoch 2/100\n",
      "5/6 [========================>.....] - ETA: 0s - loss: 0.0747 - mae: 0.2263 - mse: 0.0747"
     ]
    },
    {
     "name": "stderr",
     "output_type": "stream",
     "text": [
      "WARNING:tensorflow:Can save best model only with val_mean_squared_error available, skipping.\n"
     ]
    },
    {
     "name": "stdout",
     "output_type": "stream",
     "text": [
      "6/6 [==============================] - 0s 60ms/step - loss: 0.0730 - mae: 0.2243 - mse: 0.0730 - val_loss: 0.0856 - val_mae: 0.2287 - val_mse: 0.0856\n",
      "Epoch 3/100\n",
      "5/6 [========================>.....] - ETA: 0s - loss: 0.0795 - mae: 0.2256 - mse: 0.0795"
     ]
    },
    {
     "name": "stderr",
     "output_type": "stream",
     "text": [
      "WARNING:tensorflow:Can save best model only with val_mean_squared_error available, skipping.\n"
     ]
    },
    {
     "name": "stdout",
     "output_type": "stream",
     "text": [
      "6/6 [==============================] - 0s 46ms/step - loss: 0.0818 - mae: 0.2283 - mse: 0.0818 - val_loss: 0.0807 - val_mae: 0.2377 - val_mse: 0.0807\n",
      "Epoch 4/100\n",
      "5/6 [========================>.....] - ETA: 0s - loss: 0.0744 - mae: 0.2362 - mse: 0.0744"
     ]
    },
    {
     "name": "stderr",
     "output_type": "stream",
     "text": [
      "WARNING:tensorflow:Can save best model only with val_mean_squared_error available, skipping.\n"
     ]
    },
    {
     "name": "stdout",
     "output_type": "stream",
     "text": [
      "6/6 [==============================] - 0s 47ms/step - loss: 0.0733 - mae: 0.2342 - mse: 0.0733 - val_loss: 0.0894 - val_mae: 0.2349 - val_mse: 0.0894\n",
      "Epoch 5/100\n",
      "5/6 [========================>.....] - ETA: 0s - loss: 0.0648 - mae: 0.2060 - mse: 0.0648"
     ]
    },
    {
     "name": "stderr",
     "output_type": "stream",
     "text": [
      "WARNING:tensorflow:Can save best model only with val_mean_squared_error available, skipping.\n"
     ]
    },
    {
     "name": "stdout",
     "output_type": "stream",
     "text": [
      "6/6 [==============================] - 0s 45ms/step - loss: 0.0661 - mae: 0.2097 - mse: 0.0661 - val_loss: 0.0774 - val_mae: 0.2421 - val_mse: 0.0774\n",
      "Epoch 6/100\n",
      "5/6 [========================>.....] - ETA: 0s - loss: 0.0685 - mae: 0.2281 - mse: 0.0685"
     ]
    },
    {
     "name": "stderr",
     "output_type": "stream",
     "text": [
      "WARNING:tensorflow:Can save best model only with val_mean_squared_error available, skipping.\n"
     ]
    },
    {
     "name": "stdout",
     "output_type": "stream",
     "text": [
      "6/6 [==============================] - 0s 48ms/step - loss: 0.0681 - mae: 0.2276 - mse: 0.0681 - val_loss: 0.0821 - val_mae: 0.2351 - val_mse: 0.0821\n",
      "Epoch 7/100\n",
      "5/6 [========================>.....] - ETA: 0s - loss: 0.0645 - mae: 0.2101 - mse: 0.0645"
     ]
    },
    {
     "name": "stderr",
     "output_type": "stream",
     "text": [
      "WARNING:tensorflow:Can save best model only with val_mean_squared_error available, skipping.\n"
     ]
    },
    {
     "name": "stdout",
     "output_type": "stream",
     "text": [
      "6/6 [==============================] - 0s 47ms/step - loss: 0.0629 - mae: 0.2071 - mse: 0.0629 - val_loss: 0.0874 - val_mae: 0.2343 - val_mse: 0.0874\n",
      "Epoch 8/100\n",
      "5/6 [========================>.....] - ETA: 0s - loss: 0.0575 - mae: 0.2077 - mse: 0.0575"
     ]
    },
    {
     "name": "stderr",
     "output_type": "stream",
     "text": [
      "WARNING:tensorflow:Can save best model only with val_mean_squared_error available, skipping.\n"
     ]
    },
    {
     "name": "stdout",
     "output_type": "stream",
     "text": [
      "6/6 [==============================] - 0s 45ms/step - loss: 0.0580 - mae: 0.2096 - mse: 0.0580 - val_loss: 0.0770 - val_mae: 0.2385 - val_mse: 0.0770\n",
      "Epoch 9/100\n",
      "5/6 [========================>.....] - ETA: 0s - loss: 0.0606 - mae: 0.2147 - mse: 0.0606"
     ]
    },
    {
     "name": "stderr",
     "output_type": "stream",
     "text": [
      "WARNING:tensorflow:Can save best model only with val_mean_squared_error available, skipping.\n"
     ]
    },
    {
     "name": "stdout",
     "output_type": "stream",
     "text": [
      "6/6 [==============================] - 0s 43ms/step - loss: 0.0616 - mae: 0.2158 - mse: 0.0616 - val_loss: 0.0773 - val_mae: 0.2288 - val_mse: 0.0773\n",
      "Epoch 10/100\n",
      "5/6 [========================>.....] - ETA: 0s - loss: 0.3218 - mae: 0.3100 - mse: 0.3218"
     ]
    },
    {
     "name": "stderr",
     "output_type": "stream",
     "text": [
      "WARNING:tensorflow:Can save best model only with val_mean_squared_error available, skipping.\n"
     ]
    },
    {
     "name": "stdout",
     "output_type": "stream",
     "text": [
      "6/6 [==============================] - 0s 45ms/step - loss: 0.2962 - mae: 0.2961 - mse: 0.2962 - val_loss: 0.0807 - val_mae: 0.2334 - val_mse: 0.0807\n",
      "Epoch 11/100\n",
      "5/6 [========================>.....] - ETA: 0s - loss: 0.0628 - mae: 0.2155 - mse: 0.0628"
     ]
    },
    {
     "name": "stderr",
     "output_type": "stream",
     "text": [
      "WARNING:tensorflow:Can save best model only with val_mean_squared_error available, skipping.\n"
     ]
    },
    {
     "name": "stdout",
     "output_type": "stream",
     "text": [
      "6/6 [==============================] - 0s 45ms/step - loss: 0.0627 - mae: 0.2154 - mse: 0.0627 - val_loss: 0.0956 - val_mae: 0.2347 - val_mse: 0.0956\n",
      "Epoch 12/100\n",
      "5/6 [========================>.....] - ETA: 0s - loss: 0.0673 - mae: 0.2179 - mse: 0.0673"
     ]
    },
    {
     "name": "stderr",
     "output_type": "stream",
     "text": [
      "WARNING:tensorflow:Can save best model only with val_mean_squared_error available, skipping.\n"
     ]
    },
    {
     "name": "stdout",
     "output_type": "stream",
     "text": [
      "6/6 [==============================] - 0s 45ms/step - loss: 0.0675 - mae: 0.2184 - mse: 0.0675 - val_loss: 0.0765 - val_mae: 0.2409 - val_mse: 0.0765\n",
      "Epoch 13/100\n",
      "5/6 [========================>.....] - ETA: 0s - loss: 0.0628 - mae: 0.2122 - mse: 0.0628"
     ]
    },
    {
     "name": "stderr",
     "output_type": "stream",
     "text": [
      "WARNING:tensorflow:Can save best model only with val_mean_squared_error available, skipping.\n"
     ]
    },
    {
     "name": "stdout",
     "output_type": "stream",
     "text": [
      "6/6 [==============================] - 0s 44ms/step - loss: 0.0638 - mae: 0.2130 - mse: 0.0638 - val_loss: 0.0874 - val_mae: 0.2336 - val_mse: 0.0874\n",
      "Epoch 14/100\n",
      "5/6 [========================>.....] - ETA: 0s - loss: 0.0625 - mae: 0.2127 - mse: 0.0625"
     ]
    },
    {
     "name": "stderr",
     "output_type": "stream",
     "text": [
      "WARNING:tensorflow:Can save best model only with val_mean_squared_error available, skipping.\n"
     ]
    },
    {
     "name": "stdout",
     "output_type": "stream",
     "text": [
      "6/6 [==============================] - 0s 46ms/step - loss: 0.0624 - mae: 0.2122 - mse: 0.0624 - val_loss: 0.0773 - val_mae: 0.2374 - val_mse: 0.0773\n",
      "Epoch 15/100\n",
      "5/6 [========================>.....] - ETA: 0s - loss: 0.0615 - mae: 0.2120 - mse: 0.0615"
     ]
    },
    {
     "name": "stderr",
     "output_type": "stream",
     "text": [
      "WARNING:tensorflow:Can save best model only with val_mean_squared_error available, skipping.\n"
     ]
    },
    {
     "name": "stdout",
     "output_type": "stream",
     "text": [
      "6/6 [==============================] - 0s 48ms/step - loss: 0.0612 - mae: 0.2122 - mse: 0.0612 - val_loss: 0.0825 - val_mae: 0.2325 - val_mse: 0.0825\n",
      "Epoch 16/100\n",
      "5/6 [========================>.....] - ETA: 0s - loss: 0.0578 - mae: 0.2048 - mse: 0.0578"
     ]
    },
    {
     "name": "stderr",
     "output_type": "stream",
     "text": [
      "WARNING:tensorflow:Can save best model only with val_mean_squared_error available, skipping.\n"
     ]
    },
    {
     "name": "stdout",
     "output_type": "stream",
     "text": [
      "6/6 [==============================] - 0s 46ms/step - loss: 0.0581 - mae: 0.2059 - mse: 0.0581 - val_loss: 0.0792 - val_mae: 0.2321 - val_mse: 0.0792\n",
      "Epoch 17/100\n",
      "5/6 [========================>.....] - ETA: 0s - loss: 0.0586 - mae: 0.2062 - mse: 0.0586"
     ]
    },
    {
     "name": "stderr",
     "output_type": "stream",
     "text": [
      "WARNING:tensorflow:Can save best model only with val_mean_squared_error available, skipping.\n"
     ]
    },
    {
     "name": "stdout",
     "output_type": "stream",
     "text": [
      "6/6 [==============================] - 0s 46ms/step - loss: 0.0591 - mae: 0.2077 - mse: 0.0591 - val_loss: 0.0731 - val_mae: 0.2377 - val_mse: 0.0731\n",
      "Epoch 18/100\n",
      "5/6 [========================>.....] - ETA: 0s - loss: 0.0625 - mae: 0.2170 - mse: 0.0625"
     ]
    },
    {
     "name": "stderr",
     "output_type": "stream",
     "text": [
      "WARNING:tensorflow:Can save best model only with val_mean_squared_error available, skipping.\n"
     ]
    },
    {
     "name": "stdout",
     "output_type": "stream",
     "text": [
      "6/6 [==============================] - 0s 44ms/step - loss: 0.0603 - mae: 0.2117 - mse: 0.0603 - val_loss: 0.0731 - val_mae: 0.2278 - val_mse: 0.0731\n",
      "Epoch 19/100\n",
      "5/6 [========================>.....] - ETA: 0s - loss: 0.0570 - mae: 0.2053 - mse: 0.0570"
     ]
    },
    {
     "name": "stderr",
     "output_type": "stream",
     "text": [
      "WARNING:tensorflow:Can save best model only with val_mean_squared_error available, skipping.\n"
     ]
    },
    {
     "name": "stdout",
     "output_type": "stream",
     "text": [
      "6/6 [==============================] - 0s 43ms/step - loss: 0.0570 - mae: 0.2058 - mse: 0.0570 - val_loss: 0.0681 - val_mae: 0.2199 - val_mse: 0.0681\n",
      "Epoch 20/100\n",
      "5/6 [========================>.....] - ETA: 0s - loss: 0.0564 - mae: 0.2011 - mse: 0.0564"
     ]
    },
    {
     "name": "stderr",
     "output_type": "stream",
     "text": [
      "WARNING:tensorflow:Can save best model only with val_mean_squared_error available, skipping.\n"
     ]
    },
    {
     "name": "stdout",
     "output_type": "stream",
     "text": [
      "6/6 [==============================] - 0s 45ms/step - loss: 0.0560 - mae: 0.2010 - mse: 0.0560 - val_loss: 0.0664 - val_mae: 0.2261 - val_mse: 0.0664\n",
      "Epoch 21/100\n",
      "5/6 [========================>.....] - ETA: 0s - loss: 0.0523 - mae: 0.1940 - mse: 0.0523"
     ]
    },
    {
     "name": "stderr",
     "output_type": "stream",
     "text": [
      "WARNING:tensorflow:Can save best model only with val_mean_squared_error available, skipping.\n"
     ]
    },
    {
     "name": "stdout",
     "output_type": "stream",
     "text": [
      "6/6 [==============================] - 0s 50ms/step - loss: 0.0542 - mae: 0.1961 - mse: 0.0542 - val_loss: 0.0586 - val_mae: 0.1997 - val_mse: 0.0586\n",
      "Epoch 22/100\n",
      "5/6 [========================>.....] - ETA: 0s - loss: 0.0434 - mae: 0.1823 - mse: 0.0434"
     ]
    },
    {
     "name": "stderr",
     "output_type": "stream",
     "text": [
      "WARNING:tensorflow:Can save best model only with val_mean_squared_error available, skipping.\n"
     ]
    },
    {
     "name": "stdout",
     "output_type": "stream",
     "text": [
      "6/6 [==============================] - 0s 49ms/step - loss: 0.0420 - mae: 0.1780 - mse: 0.0420 - val_loss: 0.0380 - val_mae: 0.1721 - val_mse: 0.0380\n",
      "Epoch 23/100\n",
      "5/6 [========================>.....] - ETA: 0s - loss: 0.0897 - mae: 0.2435 - mse: 0.0897"
     ]
    },
    {
     "name": "stderr",
     "output_type": "stream",
     "text": [
      "WARNING:tensorflow:Can save best model only with val_mean_squared_error available, skipping.\n"
     ]
    },
    {
     "name": "stdout",
     "output_type": "stream",
     "text": [
      "6/6 [==============================] - 0s 58ms/step - loss: 0.0867 - mae: 0.2405 - mse: 0.0867 - val_loss: 0.0796 - val_mae: 0.2530 - val_mse: 0.0796\n",
      "Epoch 24/100\n",
      "5/6 [========================>.....] - ETA: 0s - loss: 0.0659 - mae: 0.2218 - mse: 0.0659"
     ]
    },
    {
     "name": "stderr",
     "output_type": "stream",
     "text": [
      "WARNING:tensorflow:Can save best model only with val_mean_squared_error available, skipping.\n"
     ]
    },
    {
     "name": "stdout",
     "output_type": "stream",
     "text": [
      "6/6 [==============================] - 0s 54ms/step - loss: 0.0658 - mae: 0.2224 - mse: 0.0658 - val_loss: 0.0924 - val_mae: 0.2354 - val_mse: 0.0924\n",
      "Epoch 25/100\n",
      "5/6 [========================>.....] - ETA: 0s - loss: 0.0655 - mae: 0.2138 - mse: 0.0655"
     ]
    },
    {
     "name": "stderr",
     "output_type": "stream",
     "text": [
      "WARNING:tensorflow:Can save best model only with val_mean_squared_error available, skipping.\n"
     ]
    },
    {
     "name": "stdout",
     "output_type": "stream",
     "text": [
      "6/6 [==============================] - 0s 53ms/step - loss: 0.0654 - mae: 0.2142 - mse: 0.0654 - val_loss: 0.0789 - val_mae: 0.2378 - val_mse: 0.0789\n",
      "Epoch 26/100\n",
      "5/6 [========================>.....] - ETA: 0s - loss: 0.0625 - mae: 0.2147 - mse: 0.0625"
     ]
    },
    {
     "name": "stderr",
     "output_type": "stream",
     "text": [
      "WARNING:tensorflow:Can save best model only with val_mean_squared_error available, skipping.\n"
     ]
    },
    {
     "name": "stdout",
     "output_type": "stream",
     "text": [
      "6/6 [==============================] - 0s 48ms/step - loss: 0.0633 - mae: 0.2154 - mse: 0.0633 - val_loss: 0.0810 - val_mae: 0.2360 - val_mse: 0.0810\n",
      "Epoch 27/100\n",
      "5/6 [========================>.....] - ETA: 0s - loss: 0.0635 - mae: 0.2117 - mse: 0.0635"
     ]
    },
    {
     "name": "stderr",
     "output_type": "stream",
     "text": [
      "WARNING:tensorflow:Can save best model only with val_mean_squared_error available, skipping.\n"
     ]
    },
    {
     "name": "stdout",
     "output_type": "stream",
     "text": [
      "6/6 [==============================] - 0s 49ms/step - loss: 0.0622 - mae: 0.2106 - mse: 0.0622 - val_loss: 0.0835 - val_mae: 0.2349 - val_mse: 0.0835\n",
      "Epoch 28/100\n",
      "5/6 [========================>.....] - ETA: 0s - loss: 0.0565 - mae: 0.2010 - mse: 0.0565"
     ]
    },
    {
     "name": "stderr",
     "output_type": "stream",
     "text": [
      "WARNING:tensorflow:Can save best model only with val_mean_squared_error available, skipping.\n"
     ]
    },
    {
     "name": "stdout",
     "output_type": "stream",
     "text": [
      "6/6 [==============================] - 0s 50ms/step - loss: 0.0596 - mae: 0.2071 - mse: 0.0596 - val_loss: 0.0788 - val_mae: 0.2382 - val_mse: 0.0788\n",
      "Epoch 29/100\n",
      "5/6 [========================>.....] - ETA: 0s - loss: 0.0620 - mae: 0.2179 - mse: 0.0620"
     ]
    },
    {
     "name": "stderr",
     "output_type": "stream",
     "text": [
      "WARNING:tensorflow:Can save best model only with val_mean_squared_error available, skipping.\n"
     ]
    },
    {
     "name": "stdout",
     "output_type": "stream",
     "text": [
      "6/6 [==============================] - 0s 49ms/step - loss: 0.0625 - mae: 0.2190 - mse: 0.0625 - val_loss: 0.0817 - val_mae: 0.2355 - val_mse: 0.0817\n",
      "Epoch 30/100\n",
      "5/6 [========================>.....] - ETA: 0s - loss: 0.0613 - mae: 0.2108 - mse: 0.0613"
     ]
    },
    {
     "name": "stderr",
     "output_type": "stream",
     "text": [
      "WARNING:tensorflow:Can save best model only with val_mean_squared_error available, skipping.\n"
     ]
    },
    {
     "name": "stdout",
     "output_type": "stream",
     "text": [
      "6/6 [==============================] - 0s 45ms/step - loss: 0.0607 - mae: 0.2107 - mse: 0.0607 - val_loss: 0.0859 - val_mae: 0.2345 - val_mse: 0.0859\n",
      "Epoch 31/100\n",
      "5/6 [========================>.....] - ETA: 0s - loss: 0.0599 - mae: 0.2066 - mse: 0.0599"
     ]
    },
    {
     "name": "stderr",
     "output_type": "stream",
     "text": [
      "WARNING:tensorflow:Can save best model only with val_mean_squared_error available, skipping.\n"
     ]
    },
    {
     "name": "stdout",
     "output_type": "stream",
     "text": [
      "6/6 [==============================] - 0s 46ms/step - loss: 0.0606 - mae: 0.2093 - mse: 0.0606 - val_loss: 0.0780 - val_mae: 0.2389 - val_mse: 0.0780\n",
      "Epoch 32/100\n",
      "5/6 [========================>.....] - ETA: 0s - loss: 0.0617 - mae: 0.2180 - mse: 0.0617"
     ]
    },
    {
     "name": "stderr",
     "output_type": "stream",
     "text": [
      "WARNING:tensorflow:Can save best model only with val_mean_squared_error available, skipping.\n"
     ]
    },
    {
     "name": "stdout",
     "output_type": "stream",
     "text": [
      "6/6 [==============================] - 0s 46ms/step - loss: 0.0616 - mae: 0.2175 - mse: 0.0616 - val_loss: 0.0821 - val_mae: 0.2351 - val_mse: 0.0821\n",
      "Epoch 33/100\n",
      "5/6 [========================>.....] - ETA: 0s - loss: 0.0634 - mae: 0.2080 - mse: 0.0634"
     ]
    },
    {
     "name": "stderr",
     "output_type": "stream",
     "text": [
      "WARNING:tensorflow:Can save best model only with val_mean_squared_error available, skipping.\n"
     ]
    },
    {
     "name": "stdout",
     "output_type": "stream",
     "text": [
      "6/6 [==============================] - 0s 47ms/step - loss: 0.0630 - mae: 0.2079 - mse: 0.0630 - val_loss: 0.0809 - val_mae: 0.2356 - val_mse: 0.0809\n",
      "Epoch 34/100\n",
      "5/6 [========================>.....] - ETA: 0s - loss: 0.0580 - mae: 0.2094 - mse: 0.0580"
     ]
    },
    {
     "name": "stderr",
     "output_type": "stream",
     "text": [
      "WARNING:tensorflow:Can save best model only with val_mean_squared_error available, skipping.\n"
     ]
    },
    {
     "name": "stdout",
     "output_type": "stream",
     "text": [
      "6/6 [==============================] - 0s 46ms/step - loss: 0.0587 - mae: 0.2109 - mse: 0.0587 - val_loss: 0.0781 - val_mae: 0.2381 - val_mse: 0.0781\n",
      "Epoch 35/100\n",
      "5/6 [========================>.....] - ETA: 0s - loss: 0.0585 - mae: 0.2103 - mse: 0.0585"
     ]
    },
    {
     "name": "stderr",
     "output_type": "stream",
     "text": [
      "WARNING:tensorflow:Can save best model only with val_mean_squared_error available, skipping.\n"
     ]
    },
    {
     "name": "stdout",
     "output_type": "stream",
     "text": [
      "6/6 [==============================] - 0s 45ms/step - loss: 0.0576 - mae: 0.2084 - mse: 0.0576 - val_loss: 0.0848 - val_mae: 0.2339 - val_mse: 0.0848\n",
      "Epoch 36/100\n",
      "5/6 [========================>.....] - ETA: 0s - loss: 0.0579 - mae: 0.2027 - mse: 0.0579"
     ]
    },
    {
     "name": "stderr",
     "output_type": "stream",
     "text": [
      "WARNING:tensorflow:Can save best model only with val_mean_squared_error available, skipping.\n"
     ]
    },
    {
     "name": "stdout",
     "output_type": "stream",
     "text": [
      "6/6 [==============================] - 0s 46ms/step - loss: 0.0586 - mae: 0.2039 - mse: 0.0586 - val_loss: 0.0796 - val_mae: 0.2355 - val_mse: 0.0796\n",
      "Epoch 37/100\n",
      "5/6 [========================>.....] - ETA: 0s - loss: 0.0558 - mae: 0.2036 - mse: 0.0558"
     ]
    },
    {
     "name": "stderr",
     "output_type": "stream",
     "text": [
      "WARNING:tensorflow:Can save best model only with val_mean_squared_error available, skipping.\n"
     ]
    },
    {
     "name": "stdout",
     "output_type": "stream",
     "text": [
      "6/6 [==============================] - 0s 46ms/step - loss: 0.0568 - mae: 0.2059 - mse: 0.0568 - val_loss: 0.0781 - val_mae: 0.2361 - val_mse: 0.0781\n",
      "Epoch 38/100\n",
      "5/6 [========================>.....] - ETA: 0s - loss: 0.0593 - mae: 0.2107 - mse: 0.0593"
     ]
    },
    {
     "name": "stderr",
     "output_type": "stream",
     "text": [
      "WARNING:tensorflow:Can save best model only with val_mean_squared_error available, skipping.\n"
     ]
    },
    {
     "name": "stdout",
     "output_type": "stream",
     "text": [
      "6/6 [==============================] - 0s 47ms/step - loss: 0.0580 - mae: 0.2082 - mse: 0.0580 - val_loss: 0.0810 - val_mae: 0.2325 - val_mse: 0.0810\n",
      "Epoch 39/100\n",
      "5/6 [========================>.....] - ETA: 0s - loss: 0.0598 - mae: 0.2118 - mse: 0.0598"
     ]
    },
    {
     "name": "stderr",
     "output_type": "stream",
     "text": [
      "WARNING:tensorflow:Can save best model only with val_mean_squared_error available, skipping.\n"
     ]
    },
    {
     "name": "stdout",
     "output_type": "stream",
     "text": [
      "6/6 [==============================] - 0s 47ms/step - loss: 0.0580 - mae: 0.2087 - mse: 0.0580 - val_loss: 0.0793 - val_mae: 0.2301 - val_mse: 0.0793\n",
      "Epoch 40/100\n",
      "5/6 [========================>.....] - ETA: 0s - loss: 0.0552 - mae: 0.2021 - mse: 0.0552"
     ]
    },
    {
     "name": "stderr",
     "output_type": "stream",
     "text": [
      "WARNING:tensorflow:Can save best model only with val_mean_squared_error available, skipping.\n"
     ]
    },
    {
     "name": "stdout",
     "output_type": "stream",
     "text": [
      "6/6 [==============================] - 0s 45ms/step - loss: 0.0565 - mae: 0.2036 - mse: 0.0565 - val_loss: 0.0778 - val_mae: 0.2236 - val_mse: 0.0778\n",
      "Epoch 41/100\n",
      "5/6 [========================>.....] - ETA: 0s - loss: 0.0528 - mae: 0.1939 - mse: 0.0528"
     ]
    },
    {
     "name": "stderr",
     "output_type": "stream",
     "text": [
      "WARNING:tensorflow:Can save best model only with val_mean_squared_error available, skipping.\n"
     ]
    },
    {
     "name": "stdout",
     "output_type": "stream",
     "text": [
      "6/6 [==============================] - 0s 45ms/step - loss: 0.0536 - mae: 0.1958 - mse: 0.0536 - val_loss: 0.0751 - val_mae: 0.2472 - val_mse: 0.0751\n",
      "Epoch 42/100\n",
      "5/6 [========================>.....] - ETA: 0s - loss: 0.0592 - mae: 0.2026 - mse: 0.0592"
     ]
    },
    {
     "name": "stderr",
     "output_type": "stream",
     "text": [
      "WARNING:tensorflow:Can save best model only with val_mean_squared_error available, skipping.\n"
     ]
    },
    {
     "name": "stdout",
     "output_type": "stream",
     "text": [
      "6/6 [==============================] - 0s 47ms/step - loss: 0.0572 - mae: 0.1986 - mse: 0.0572 - val_loss: 0.0688 - val_mae: 0.2207 - val_mse: 0.0688\n",
      "Epoch 43/100\n",
      "5/6 [========================>.....] - ETA: 0s - loss: 0.0452 - mae: 0.1840 - mse: 0.0452"
     ]
    },
    {
     "name": "stderr",
     "output_type": "stream",
     "text": [
      "WARNING:tensorflow:Can save best model only with val_mean_squared_error available, skipping.\n"
     ]
    },
    {
     "name": "stdout",
     "output_type": "stream",
     "text": [
      "6/6 [==============================] - 0s 46ms/step - loss: 0.0448 - mae: 0.1829 - mse: 0.0448 - val_loss: 0.0794 - val_mae: 0.2050 - val_mse: 0.0794\n",
      "Epoch 44/100\n",
      "5/6 [========================>.....] - ETA: 0s - loss: 0.0378 - mae: 0.1558 - mse: 0.0378"
     ]
    },
    {
     "name": "stderr",
     "output_type": "stream",
     "text": [
      "WARNING:tensorflow:Can save best model only with val_mean_squared_error available, skipping.\n"
     ]
    },
    {
     "name": "stdout",
     "output_type": "stream",
     "text": [
      "6/6 [==============================] - 0s 48ms/step - loss: 0.0371 - mae: 0.1538 - mse: 0.0371 - val_loss: 0.0384 - val_mae: 0.1399 - val_mse: 0.0384\n",
      "Epoch 45/100\n",
      "5/6 [========================>.....] - ETA: 0s - loss: 0.0279 - mae: 0.1344 - mse: 0.0279"
     ]
    },
    {
     "name": "stderr",
     "output_type": "stream",
     "text": [
      "WARNING:tensorflow:Can save best model only with val_mean_squared_error available, skipping.\n"
     ]
    },
    {
     "name": "stdout",
     "output_type": "stream",
     "text": [
      "6/6 [==============================] - 0s 47ms/step - loss: 0.0268 - mae: 0.1316 - mse: 0.0268 - val_loss: 0.0166 - val_mae: 0.0986 - val_mse: 0.0166\n",
      "Epoch 46/100\n",
      "5/6 [========================>.....] - ETA: 0s - loss: 0.0173 - mae: 0.1063 - mse: 0.0173"
     ]
    },
    {
     "name": "stderr",
     "output_type": "stream",
     "text": [
      "WARNING:tensorflow:Can save best model only with val_mean_squared_error available, skipping.\n"
     ]
    },
    {
     "name": "stdout",
     "output_type": "stream",
     "text": [
      "6/6 [==============================] - 0s 48ms/step - loss: 0.0190 - mae: 0.1111 - mse: 0.0190 - val_loss: 0.0397 - val_mae: 0.1726 - val_mse: 0.0397\n",
      "Epoch 47/100\n",
      "5/6 [========================>.....] - ETA: 0s - loss: 0.0185 - mae: 0.1087 - mse: 0.0185"
     ]
    },
    {
     "name": "stderr",
     "output_type": "stream",
     "text": [
      "WARNING:tensorflow:Can save best model only with val_mean_squared_error available, skipping.\n"
     ]
    },
    {
     "name": "stdout",
     "output_type": "stream",
     "text": [
      "6/6 [==============================] - 0s 45ms/step - loss: 0.0174 - mae: 0.1047 - mse: 0.0174 - val_loss: 0.0406 - val_mae: 0.1613 - val_mse: 0.0406\n",
      "Epoch 48/100\n",
      "5/6 [========================>.....] - ETA: 0s - loss: 0.0148 - mae: 0.0958 - mse: 0.0148"
     ]
    },
    {
     "name": "stderr",
     "output_type": "stream",
     "text": [
      "WARNING:tensorflow:Can save best model only with val_mean_squared_error available, skipping.\n"
     ]
    },
    {
     "name": "stdout",
     "output_type": "stream",
     "text": [
      "6/6 [==============================] - 0s 47ms/step - loss: 0.0148 - mae: 0.0949 - mse: 0.0148 - val_loss: 0.0259 - val_mae: 0.1326 - val_mse: 0.0259\n",
      "Epoch 49/100\n",
      "5/6 [========================>.....] - ETA: 0s - loss: 0.0103 - mae: 0.0789 - mse: 0.0103"
     ]
    },
    {
     "name": "stderr",
     "output_type": "stream",
     "text": [
      "WARNING:tensorflow:Can save best model only with val_mean_squared_error available, skipping.\n"
     ]
    },
    {
     "name": "stdout",
     "output_type": "stream",
     "text": [
      "6/6 [==============================] - 0s 49ms/step - loss: 0.0102 - mae: 0.0788 - mse: 0.0102 - val_loss: 0.0177 - val_mae: 0.0969 - val_mse: 0.0177\n",
      "Epoch 50/100\n",
      "5/6 [========================>.....] - ETA: 0s - loss: 0.0102 - mae: 0.0806 - mse: 0.0102"
     ]
    },
    {
     "name": "stderr",
     "output_type": "stream",
     "text": [
      "WARNING:tensorflow:Can save best model only with val_mean_squared_error available, skipping.\n"
     ]
    },
    {
     "name": "stdout",
     "output_type": "stream",
     "text": [
      "6/6 [==============================] - 0s 46ms/step - loss: 0.0107 - mae: 0.0819 - mse: 0.0107 - val_loss: 0.0129 - val_mae: 0.0767 - val_mse: 0.0129\n",
      "Epoch 51/100\n",
      "5/6 [========================>.....] - ETA: 0s - loss: 0.0105 - mae: 0.0805 - mse: 0.0105"
     ]
    },
    {
     "name": "stderr",
     "output_type": "stream",
     "text": [
      "WARNING:tensorflow:Can save best model only with val_mean_squared_error available, skipping.\n"
     ]
    },
    {
     "name": "stdout",
     "output_type": "stream",
     "text": [
      "6/6 [==============================] - 0s 43ms/step - loss: 0.0101 - mae: 0.0792 - mse: 0.0101 - val_loss: 0.0225 - val_mae: 0.1191 - val_mse: 0.0225\n",
      "Epoch 52/100\n",
      "5/6 [========================>.....] - ETA: 0s - loss: 0.0099 - mae: 0.0795 - mse: 0.0099"
     ]
    },
    {
     "name": "stderr",
     "output_type": "stream",
     "text": [
      "WARNING:tensorflow:Can save best model only with val_mean_squared_error available, skipping.\n"
     ]
    },
    {
     "name": "stdout",
     "output_type": "stream",
     "text": [
      "6/6 [==============================] - 0s 44ms/step - loss: 0.0098 - mae: 0.0791 - mse: 0.0098 - val_loss: 0.0188 - val_mae: 0.1052 - val_mse: 0.0188\n",
      "Epoch 53/100\n",
      "5/6 [========================>.....] - ETA: 0s - loss: 0.0086 - mae: 0.0731 - mse: 0.0086"
     ]
    },
    {
     "name": "stderr",
     "output_type": "stream",
     "text": [
      "WARNING:tensorflow:Can save best model only with val_mean_squared_error available, skipping.\n"
     ]
    },
    {
     "name": "stdout",
     "output_type": "stream",
     "text": [
      "6/6 [==============================] - 0s 44ms/step - loss: 0.0090 - mae: 0.0746 - mse: 0.0090 - val_loss: 0.0121 - val_mae: 0.0838 - val_mse: 0.0121\n",
      "Epoch 54/100\n",
      "5/6 [========================>.....] - ETA: 0s - loss: 0.0094 - mae: 0.0752 - mse: 0.0094"
     ]
    },
    {
     "name": "stderr",
     "output_type": "stream",
     "text": [
      "WARNING:tensorflow:Can save best model only with val_mean_squared_error available, skipping.\n"
     ]
    },
    {
     "name": "stdout",
     "output_type": "stream",
     "text": [
      "6/6 [==============================] - 0s 46ms/step - loss: 0.0091 - mae: 0.0744 - mse: 0.0091 - val_loss: 0.0206 - val_mae: 0.1136 - val_mse: 0.0206\n",
      "Epoch 55/100\n",
      "5/6 [========================>.....] - ETA: 0s - loss: 0.0089 - mae: 0.0743 - mse: 0.0089"
     ]
    },
    {
     "name": "stderr",
     "output_type": "stream",
     "text": [
      "WARNING:tensorflow:Can save best model only with val_mean_squared_error available, skipping.\n"
     ]
    },
    {
     "name": "stdout",
     "output_type": "stream",
     "text": [
      "6/6 [==============================] - 0s 45ms/step - loss: 0.0090 - mae: 0.0753 - mse: 0.0090 - val_loss: 0.0241 - val_mae: 0.1380 - val_mse: 0.0241\n",
      "Epoch 56/100\n",
      "5/6 [========================>.....] - ETA: 0s - loss: 0.0088 - mae: 0.0769 - mse: 0.0088"
     ]
    },
    {
     "name": "stderr",
     "output_type": "stream",
     "text": [
      "WARNING:tensorflow:Can save best model only with val_mean_squared_error available, skipping.\n"
     ]
    },
    {
     "name": "stdout",
     "output_type": "stream",
     "text": [
      "6/6 [==============================] - 0s 49ms/step - loss: 0.0088 - mae: 0.0764 - mse: 0.0088 - val_loss: 0.0253 - val_mae: 0.1318 - val_mse: 0.0253\n",
      "Epoch 57/100\n",
      "5/6 [========================>.....] - ETA: 0s - loss: 0.0093 - mae: 0.0739 - mse: 0.0093"
     ]
    },
    {
     "name": "stderr",
     "output_type": "stream",
     "text": [
      "WARNING:tensorflow:Can save best model only with val_mean_squared_error available, skipping.\n"
     ]
    },
    {
     "name": "stdout",
     "output_type": "stream",
     "text": [
      "6/6 [==============================] - 0s 46ms/step - loss: 0.0091 - mae: 0.0737 - mse: 0.0091 - val_loss: 0.0153 - val_mae: 0.1016 - val_mse: 0.0153\n",
      "Epoch 58/100\n",
      "5/6 [========================>.....] - ETA: 0s - loss: 0.0089 - mae: 0.0734 - mse: 0.0089"
     ]
    },
    {
     "name": "stderr",
     "output_type": "stream",
     "text": [
      "WARNING:tensorflow:Can save best model only with val_mean_squared_error available, skipping.\n"
     ]
    },
    {
     "name": "stdout",
     "output_type": "stream",
     "text": [
      "6/6 [==============================] - 0s 47ms/step - loss: 0.0087 - mae: 0.0722 - mse: 0.0087 - val_loss: 0.0243 - val_mae: 0.1325 - val_mse: 0.0243\n",
      "Epoch 59/100\n",
      "5/6 [========================>.....] - ETA: 0s - loss: 0.0105 - mae: 0.0810 - mse: 0.0105"
     ]
    },
    {
     "name": "stderr",
     "output_type": "stream",
     "text": [
      "WARNING:tensorflow:Can save best model only with val_mean_squared_error available, skipping.\n"
     ]
    },
    {
     "name": "stdout",
     "output_type": "stream",
     "text": [
      "6/6 [==============================] - 0s 44ms/step - loss: 0.0105 - mae: 0.0807 - mse: 0.0105 - val_loss: 0.0157 - val_mae: 0.1007 - val_mse: 0.0157\n",
      "Epoch 60/100\n",
      "5/6 [========================>.....] - ETA: 0s - loss: 0.0089 - mae: 0.0757 - mse: 0.0089"
     ]
    },
    {
     "name": "stderr",
     "output_type": "stream",
     "text": [
      "WARNING:tensorflow:Can save best model only with val_mean_squared_error available, skipping.\n"
     ]
    },
    {
     "name": "stdout",
     "output_type": "stream",
     "text": [
      "6/6 [==============================] - 0s 44ms/step - loss: 0.0089 - mae: 0.0750 - mse: 0.0089 - val_loss: 0.0134 - val_mae: 0.0904 - val_mse: 0.0134\n",
      "Epoch 61/100\n",
      "5/6 [========================>.....] - ETA: 0s - loss: 0.0093 - mae: 0.0756 - mse: 0.0093"
     ]
    },
    {
     "name": "stderr",
     "output_type": "stream",
     "text": [
      "WARNING:tensorflow:Can save best model only with val_mean_squared_error available, skipping.\n"
     ]
    },
    {
     "name": "stdout",
     "output_type": "stream",
     "text": [
      "6/6 [==============================] - 0s 48ms/step - loss: 0.0090 - mae: 0.0739 - mse: 0.0090 - val_loss: 0.0154 - val_mae: 0.1000 - val_mse: 0.0154\n",
      "Epoch 62/100\n",
      "5/6 [========================>.....] - ETA: 0s - loss: 0.0072 - mae: 0.0682 - mse: 0.0072"
     ]
    },
    {
     "name": "stderr",
     "output_type": "stream",
     "text": [
      "WARNING:tensorflow:Can save best model only with val_mean_squared_error available, skipping.\n"
     ]
    },
    {
     "name": "stdout",
     "output_type": "stream",
     "text": [
      "6/6 [==============================] - 0s 46ms/step - loss: 0.0074 - mae: 0.0690 - mse: 0.0074 - val_loss: 0.0129 - val_mae: 0.0894 - val_mse: 0.0129\n",
      "Epoch 63/100\n",
      "5/6 [========================>.....] - ETA: 0s - loss: 0.0075 - mae: 0.0681 - mse: 0.0075"
     ]
    },
    {
     "name": "stderr",
     "output_type": "stream",
     "text": [
      "WARNING:tensorflow:Can save best model only with val_mean_squared_error available, skipping.\n"
     ]
    },
    {
     "name": "stdout",
     "output_type": "stream",
     "text": [
      "6/6 [==============================] - 0s 48ms/step - loss: 0.0076 - mae: 0.0684 - mse: 0.0076 - val_loss: 0.0172 - val_mae: 0.1093 - val_mse: 0.0172\n",
      "Epoch 64/100\n",
      "5/6 [========================>.....] - ETA: 0s - loss: 0.0076 - mae: 0.0686 - mse: 0.0076"
     ]
    },
    {
     "name": "stderr",
     "output_type": "stream",
     "text": [
      "WARNING:tensorflow:Can save best model only with val_mean_squared_error available, skipping.\n"
     ]
    },
    {
     "name": "stdout",
     "output_type": "stream",
     "text": [
      "6/6 [==============================] - 0s 48ms/step - loss: 0.0075 - mae: 0.0685 - mse: 0.0075 - val_loss: 0.0125 - val_mae: 0.0881 - val_mse: 0.0125\n",
      "Epoch 65/100\n",
      "5/6 [========================>.....] - ETA: 0s - loss: 0.0080 - mae: 0.0697 - mse: 0.0080"
     ]
    },
    {
     "name": "stderr",
     "output_type": "stream",
     "text": [
      "WARNING:tensorflow:Can save best model only with val_mean_squared_error available, skipping.\n"
     ]
    },
    {
     "name": "stdout",
     "output_type": "stream",
     "text": [
      "6/6 [==============================] - 0s 47ms/step - loss: 0.0083 - mae: 0.0710 - mse: 0.0083 - val_loss: 0.0134 - val_mae: 0.0858 - val_mse: 0.0134\n",
      "Epoch 66/100\n",
      "5/6 [========================>.....] - ETA: 0s - loss: 0.0072 - mae: 0.0645 - mse: 0.0072"
     ]
    },
    {
     "name": "stderr",
     "output_type": "stream",
     "text": [
      "WARNING:tensorflow:Can save best model only with val_mean_squared_error available, skipping.\n"
     ]
    },
    {
     "name": "stdout",
     "output_type": "stream",
     "text": [
      "6/6 [==============================] - 0s 47ms/step - loss: 0.0073 - mae: 0.0652 - mse: 0.0073 - val_loss: 0.0099 - val_mae: 0.0748 - val_mse: 0.0099\n",
      "Epoch 67/100\n",
      "5/6 [========================>.....] - ETA: 0s - loss: 0.0076 - mae: 0.0680 - mse: 0.0076"
     ]
    },
    {
     "name": "stderr",
     "output_type": "stream",
     "text": [
      "WARNING:tensorflow:Can save best model only with val_mean_squared_error available, skipping.\n"
     ]
    },
    {
     "name": "stdout",
     "output_type": "stream",
     "text": [
      "6/6 [==============================] - 0s 48ms/step - loss: 0.0074 - mae: 0.0676 - mse: 0.0074 - val_loss: 0.0096 - val_mae: 0.0672 - val_mse: 0.0096\n",
      "Epoch 68/100\n",
      "5/6 [========================>.....] - ETA: 0s - loss: 0.0064 - mae: 0.0646 - mse: 0.0064"
     ]
    },
    {
     "name": "stderr",
     "output_type": "stream",
     "text": [
      "WARNING:tensorflow:Can save best model only with val_mean_squared_error available, skipping.\n"
     ]
    },
    {
     "name": "stdout",
     "output_type": "stream",
     "text": [
      "6/6 [==============================] - 0s 47ms/step - loss: 0.0065 - mae: 0.0648 - mse: 0.0065 - val_loss: 0.0158 - val_mae: 0.0942 - val_mse: 0.0158\n",
      "Epoch 69/100\n",
      "5/6 [========================>.....] - ETA: 0s - loss: 0.0064 - mae: 0.0632 - mse: 0.0064"
     ]
    },
    {
     "name": "stderr",
     "output_type": "stream",
     "text": [
      "WARNING:tensorflow:Can save best model only with val_mean_squared_error available, skipping.\n"
     ]
    },
    {
     "name": "stdout",
     "output_type": "stream",
     "text": [
      "6/6 [==============================] - 0s 47ms/step - loss: 0.0064 - mae: 0.0634 - mse: 0.0064 - val_loss: 0.0118 - val_mae: 0.0913 - val_mse: 0.0118\n",
      "Epoch 70/100\n",
      "5/6 [========================>.....] - ETA: 0s - loss: 0.0062 - mae: 0.0634 - mse: 0.0062"
     ]
    },
    {
     "name": "stderr",
     "output_type": "stream",
     "text": [
      "WARNING:tensorflow:Can save best model only with val_mean_squared_error available, skipping.\n"
     ]
    },
    {
     "name": "stdout",
     "output_type": "stream",
     "text": [
      "6/6 [==============================] - 0s 45ms/step - loss: 0.0063 - mae: 0.0635 - mse: 0.0063 - val_loss: 0.0098 - val_mae: 0.0693 - val_mse: 0.0098\n",
      "Epoch 71/100\n",
      "5/6 [========================>.....] - ETA: 0s - loss: 0.0066 - mae: 0.0648 - mse: 0.0066"
     ]
    },
    {
     "name": "stderr",
     "output_type": "stream",
     "text": [
      "WARNING:tensorflow:Can save best model only with val_mean_squared_error available, skipping.\n"
     ]
    },
    {
     "name": "stdout",
     "output_type": "stream",
     "text": [
      "6/6 [==============================] - 0s 47ms/step - loss: 0.0067 - mae: 0.0654 - mse: 0.0067 - val_loss: 0.0104 - val_mae: 0.0733 - val_mse: 0.0104\n",
      "Epoch 72/100\n",
      "5/6 [========================>.....] - ETA: 0s - loss: 0.0069 - mae: 0.0666 - mse: 0.0069"
     ]
    },
    {
     "name": "stderr",
     "output_type": "stream",
     "text": [
      "WARNING:tensorflow:Can save best model only with val_mean_squared_error available, skipping.\n"
     ]
    },
    {
     "name": "stdout",
     "output_type": "stream",
     "text": [
      "6/6 [==============================] - 0s 47ms/step - loss: 0.0070 - mae: 0.0668 - mse: 0.0070 - val_loss: 0.0127 - val_mae: 0.0994 - val_mse: 0.0127\n",
      "Epoch 73/100\n",
      "5/6 [========================>.....] - ETA: 0s - loss: 0.0066 - mae: 0.0634 - mse: 0.0066"
     ]
    },
    {
     "name": "stderr",
     "output_type": "stream",
     "text": [
      "WARNING:tensorflow:Can save best model only with val_mean_squared_error available, skipping.\n"
     ]
    },
    {
     "name": "stdout",
     "output_type": "stream",
     "text": [
      "6/6 [==============================] - 0s 47ms/step - loss: 0.0070 - mae: 0.0653 - mse: 0.0070 - val_loss: 0.0095 - val_mae: 0.0791 - val_mse: 0.0095\n",
      "Epoch 74/100\n",
      "5/6 [========================>.....] - ETA: 0s - loss: 0.0070 - mae: 0.0685 - mse: 0.0070"
     ]
    },
    {
     "name": "stderr",
     "output_type": "stream",
     "text": [
      "WARNING:tensorflow:Can save best model only with val_mean_squared_error available, skipping.\n"
     ]
    },
    {
     "name": "stdout",
     "output_type": "stream",
     "text": [
      "6/6 [==============================] - 0s 44ms/step - loss: 0.0067 - mae: 0.0666 - mse: 0.0067 - val_loss: 0.0247 - val_mae: 0.1291 - val_mse: 0.0247\n",
      "Epoch 75/100\n",
      "5/6 [========================>.....] - ETA: 0s - loss: 0.0072 - mae: 0.0679 - mse: 0.0072"
     ]
    },
    {
     "name": "stderr",
     "output_type": "stream",
     "text": [
      "WARNING:tensorflow:Can save best model only with val_mean_squared_error available, skipping.\n"
     ]
    },
    {
     "name": "stdout",
     "output_type": "stream",
     "text": [
      "6/6 [==============================] - 0s 48ms/step - loss: 0.0071 - mae: 0.0676 - mse: 0.0071 - val_loss: 0.0094 - val_mae: 0.0785 - val_mse: 0.0094\n",
      "Epoch 76/100\n",
      "5/6 [========================>.....] - ETA: 0s - loss: 0.0061 - mae: 0.0618 - mse: 0.0061"
     ]
    },
    {
     "name": "stderr",
     "output_type": "stream",
     "text": [
      "WARNING:tensorflow:Can save best model only with val_mean_squared_error available, skipping.\n"
     ]
    },
    {
     "name": "stdout",
     "output_type": "stream",
     "text": [
      "6/6 [==============================] - 0s 47ms/step - loss: 0.0060 - mae: 0.0615 - mse: 0.0060 - val_loss: 0.0158 - val_mae: 0.0998 - val_mse: 0.0158\n",
      "Epoch 77/100\n",
      "5/6 [========================>.....] - ETA: 0s - loss: 0.0068 - mae: 0.0645 - mse: 0.0068"
     ]
    },
    {
     "name": "stderr",
     "output_type": "stream",
     "text": [
      "WARNING:tensorflow:Can save best model only with val_mean_squared_error available, skipping.\n"
     ]
    },
    {
     "name": "stdout",
     "output_type": "stream",
     "text": [
      "6/6 [==============================] - 0s 49ms/step - loss: 0.0066 - mae: 0.0633 - mse: 0.0066 - val_loss: 0.0088 - val_mae: 0.0813 - val_mse: 0.0088\n",
      "Epoch 78/100\n",
      "5/6 [========================>.....] - ETA: 0s - loss: 0.0068 - mae: 0.0637 - mse: 0.0068"
     ]
    },
    {
     "name": "stderr",
     "output_type": "stream",
     "text": [
      "WARNING:tensorflow:Can save best model only with val_mean_squared_error available, skipping.\n"
     ]
    },
    {
     "name": "stdout",
     "output_type": "stream",
     "text": [
      "6/6 [==============================] - 0s 47ms/step - loss: 0.0066 - mae: 0.0628 - mse: 0.0066 - val_loss: 0.0101 - val_mae: 0.0731 - val_mse: 0.0101\n",
      "Epoch 79/100\n",
      "5/6 [========================>.....] - ETA: 0s - loss: 0.0061 - mae: 0.0610 - mse: 0.0061"
     ]
    },
    {
     "name": "stderr",
     "output_type": "stream",
     "text": [
      "WARNING:tensorflow:Can save best model only with val_mean_squared_error available, skipping.\n"
     ]
    },
    {
     "name": "stdout",
     "output_type": "stream",
     "text": [
      "6/6 [==============================] - 0s 47ms/step - loss: 0.0060 - mae: 0.0604 - mse: 0.0060 - val_loss: 0.0099 - val_mae: 0.0827 - val_mse: 0.0099\n",
      "Epoch 80/100\n",
      "5/6 [========================>.....] - ETA: 0s - loss: 0.0058 - mae: 0.0621 - mse: 0.0058"
     ]
    },
    {
     "name": "stderr",
     "output_type": "stream",
     "text": [
      "WARNING:tensorflow:Can save best model only with val_mean_squared_error available, skipping.\n"
     ]
    },
    {
     "name": "stdout",
     "output_type": "stream",
     "text": [
      "6/6 [==============================] - 0s 47ms/step - loss: 0.0061 - mae: 0.0634 - mse: 0.0061 - val_loss: 0.0122 - val_mae: 0.0854 - val_mse: 0.0122\n",
      "Epoch 81/100\n",
      "5/6 [========================>.....] - ETA: 0s - loss: 0.0051 - mae: 0.0563 - mse: 0.0051"
     ]
    },
    {
     "name": "stderr",
     "output_type": "stream",
     "text": [
      "WARNING:tensorflow:Can save best model only with val_mean_squared_error available, skipping.\n"
     ]
    },
    {
     "name": "stdout",
     "output_type": "stream",
     "text": [
      "6/6 [==============================] - 0s 47ms/step - loss: 0.0052 - mae: 0.0565 - mse: 0.0052 - val_loss: 0.0099 - val_mae: 0.0867 - val_mse: 0.0099\n",
      "Epoch 82/100\n",
      "5/6 [========================>.....] - ETA: 0s - loss: 0.0056 - mae: 0.0606 - mse: 0.0056"
     ]
    },
    {
     "name": "stderr",
     "output_type": "stream",
     "text": [
      "WARNING:tensorflow:Can save best model only with val_mean_squared_error available, skipping.\n"
     ]
    },
    {
     "name": "stdout",
     "output_type": "stream",
     "text": [
      "6/6 [==============================] - 0s 48ms/step - loss: 0.0055 - mae: 0.0600 - mse: 0.0055 - val_loss: 0.0172 - val_mae: 0.1047 - val_mse: 0.0172\n",
      "Epoch 83/100\n",
      "5/6 [========================>.....] - ETA: 0s - loss: 0.0064 - mae: 0.0642 - mse: 0.0064"
     ]
    },
    {
     "name": "stderr",
     "output_type": "stream",
     "text": [
      "WARNING:tensorflow:Can save best model only with val_mean_squared_error available, skipping.\n"
     ]
    },
    {
     "name": "stdout",
     "output_type": "stream",
     "text": [
      "6/6 [==============================] - 0s 47ms/step - loss: 0.0066 - mae: 0.0654 - mse: 0.0066 - val_loss: 0.0213 - val_mae: 0.1247 - val_mse: 0.0213\n",
      "Epoch 84/100\n",
      "5/6 [========================>.....] - ETA: 0s - loss: 0.0061 - mae: 0.0614 - mse: 0.0061"
     ]
    },
    {
     "name": "stderr",
     "output_type": "stream",
     "text": [
      "WARNING:tensorflow:Can save best model only with val_mean_squared_error available, skipping.\n"
     ]
    },
    {
     "name": "stdout",
     "output_type": "stream",
     "text": [
      "6/6 [==============================] - 0s 47ms/step - loss: 0.0062 - mae: 0.0620 - mse: 0.0062 - val_loss: 0.0153 - val_mae: 0.1073 - val_mse: 0.0153\n",
      "Epoch 85/100\n",
      "5/6 [========================>.....] - ETA: 0s - loss: 0.0058 - mae: 0.0592 - mse: 0.0058"
     ]
    },
    {
     "name": "stderr",
     "output_type": "stream",
     "text": [
      "WARNING:tensorflow:Can save best model only with val_mean_squared_error available, skipping.\n"
     ]
    },
    {
     "name": "stdout",
     "output_type": "stream",
     "text": [
      "6/6 [==============================] - 0s 49ms/step - loss: 0.0058 - mae: 0.0596 - mse: 0.0058 - val_loss: 0.0092 - val_mae: 0.0790 - val_mse: 0.0092\n",
      "Epoch 86/100\n",
      "5/6 [========================>.....] - ETA: 0s - loss: 0.0048 - mae: 0.0540 - mse: 0.0048"
     ]
    },
    {
     "name": "stderr",
     "output_type": "stream",
     "text": [
      "WARNING:tensorflow:Can save best model only with val_mean_squared_error available, skipping.\n"
     ]
    },
    {
     "name": "stdout",
     "output_type": "stream",
     "text": [
      "6/6 [==============================] - 0s 47ms/step - loss: 0.0048 - mae: 0.0541 - mse: 0.0048 - val_loss: 0.0093 - val_mae: 0.0765 - val_mse: 0.0093\n",
      "Epoch 87/100\n",
      "5/6 [========================>.....] - ETA: 0s - loss: 0.0051 - mae: 0.0572 - mse: 0.0051"
     ]
    },
    {
     "name": "stderr",
     "output_type": "stream",
     "text": [
      "WARNING:tensorflow:Can save best model only with val_mean_squared_error available, skipping.\n"
     ]
    },
    {
     "name": "stdout",
     "output_type": "stream",
     "text": [
      "6/6 [==============================] - 0s 48ms/step - loss: 0.0051 - mae: 0.0573 - mse: 0.0051 - val_loss: 0.0077 - val_mae: 0.0686 - val_mse: 0.0077\n",
      "Epoch 88/100\n",
      "5/6 [========================>.....] - ETA: 0s - loss: 0.0044 - mae: 0.0514 - mse: 0.0044"
     ]
    },
    {
     "name": "stderr",
     "output_type": "stream",
     "text": [
      "WARNING:tensorflow:Can save best model only with val_mean_squared_error available, skipping.\n"
     ]
    },
    {
     "name": "stdout",
     "output_type": "stream",
     "text": [
      "6/6 [==============================] - 0s 47ms/step - loss: 0.0046 - mae: 0.0532 - mse: 0.0046 - val_loss: 0.0095 - val_mae: 0.0794 - val_mse: 0.0095\n",
      "Epoch 89/100\n",
      "5/6 [========================>.....] - ETA: 0s - loss: 0.0049 - mae: 0.0560 - mse: 0.0049"
     ]
    },
    {
     "name": "stderr",
     "output_type": "stream",
     "text": [
      "WARNING:tensorflow:Can save best model only with val_mean_squared_error available, skipping.\n"
     ]
    },
    {
     "name": "stdout",
     "output_type": "stream",
     "text": [
      "6/6 [==============================] - 0s 48ms/step - loss: 0.0049 - mae: 0.0564 - mse: 0.0049 - val_loss: 0.0092 - val_mae: 0.0860 - val_mse: 0.0092\n",
      "Epoch 90/100\n",
      "5/6 [========================>.....] - ETA: 0s - loss: 0.0053 - mae: 0.0571 - mse: 0.0053"
     ]
    },
    {
     "name": "stderr",
     "output_type": "stream",
     "text": [
      "WARNING:tensorflow:Can save best model only with val_mean_squared_error available, skipping.\n"
     ]
    },
    {
     "name": "stdout",
     "output_type": "stream",
     "text": [
      "6/6 [==============================] - 0s 47ms/step - loss: 0.0051 - mae: 0.0560 - mse: 0.0051 - val_loss: 0.0151 - val_mae: 0.1103 - val_mse: 0.0151\n",
      "Epoch 91/100\n",
      "5/6 [========================>.....] - ETA: 0s - loss: 0.0049 - mae: 0.0539 - mse: 0.0049"
     ]
    },
    {
     "name": "stderr",
     "output_type": "stream",
     "text": [
      "WARNING:tensorflow:Can save best model only with val_mean_squared_error available, skipping.\n"
     ]
    },
    {
     "name": "stdout",
     "output_type": "stream",
     "text": [
      "6/6 [==============================] - 0s 47ms/step - loss: 0.0048 - mae: 0.0534 - mse: 0.0048 - val_loss: 0.0116 - val_mae: 0.0949 - val_mse: 0.0116\n",
      "Epoch 92/100\n",
      "5/6 [========================>.....] - ETA: 0s - loss: 0.0048 - mae: 0.0543 - mse: 0.0048"
     ]
    },
    {
     "name": "stderr",
     "output_type": "stream",
     "text": [
      "WARNING:tensorflow:Can save best model only with val_mean_squared_error available, skipping.\n"
     ]
    },
    {
     "name": "stdout",
     "output_type": "stream",
     "text": [
      "6/6 [==============================] - 0s 47ms/step - loss: 0.0049 - mae: 0.0548 - mse: 0.0049 - val_loss: 0.0070 - val_mae: 0.0650 - val_mse: 0.0070\n",
      "Epoch 93/100\n",
      "5/6 [========================>.....] - ETA: 0s - loss: 0.0051 - mae: 0.0570 - mse: 0.0051"
     ]
    },
    {
     "name": "stderr",
     "output_type": "stream",
     "text": [
      "WARNING:tensorflow:Can save best model only with val_mean_squared_error available, skipping.\n"
     ]
    },
    {
     "name": "stdout",
     "output_type": "stream",
     "text": [
      "6/6 [==============================] - 0s 49ms/step - loss: 0.0050 - mae: 0.0565 - mse: 0.0050 - val_loss: 0.0059 - val_mae: 0.0620 - val_mse: 0.0059\n",
      "Epoch 94/100\n",
      "5/6 [========================>.....] - ETA: 0s - loss: 0.0058 - mae: 0.0598 - mse: 0.0058"
     ]
    },
    {
     "name": "stderr",
     "output_type": "stream",
     "text": [
      "WARNING:tensorflow:Can save best model only with val_mean_squared_error available, skipping.\n"
     ]
    },
    {
     "name": "stdout",
     "output_type": "stream",
     "text": [
      "6/6 [==============================] - 0s 47ms/step - loss: 0.0057 - mae: 0.0594 - mse: 0.0057 - val_loss: 0.0104 - val_mae: 0.0832 - val_mse: 0.0104\n",
      "Epoch 95/100\n",
      "5/6 [========================>.....] - ETA: 0s - loss: 0.0043 - mae: 0.0513 - mse: 0.0043"
     ]
    },
    {
     "name": "stderr",
     "output_type": "stream",
     "text": [
      "WARNING:tensorflow:Can save best model only with val_mean_squared_error available, skipping.\n"
     ]
    },
    {
     "name": "stdout",
     "output_type": "stream",
     "text": [
      "6/6 [==============================] - 0s 46ms/step - loss: 0.0042 - mae: 0.0509 - mse: 0.0042 - val_loss: 0.0108 - val_mae: 0.0926 - val_mse: 0.0108\n",
      "Epoch 96/100\n",
      "5/6 [========================>.....] - ETA: 0s - loss: 0.0042 - mae: 0.0523 - mse: 0.0042"
     ]
    },
    {
     "name": "stderr",
     "output_type": "stream",
     "text": [
      "WARNING:tensorflow:Can save best model only with val_mean_squared_error available, skipping.\n"
     ]
    },
    {
     "name": "stdout",
     "output_type": "stream",
     "text": [
      "6/6 [==============================] - 0s 50ms/step - loss: 0.0041 - mae: 0.0522 - mse: 0.0041 - val_loss: 0.0070 - val_mae: 0.0633 - val_mse: 0.0070\n",
      "Epoch 97/100\n",
      "5/6 [========================>.....] - ETA: 0s - loss: 0.0043 - mae: 0.0519 - mse: 0.0043"
     ]
    },
    {
     "name": "stderr",
     "output_type": "stream",
     "text": [
      "WARNING:tensorflow:Can save best model only with val_mean_squared_error available, skipping.\n"
     ]
    },
    {
     "name": "stdout",
     "output_type": "stream",
     "text": [
      "6/6 [==============================] - 0s 46ms/step - loss: 0.0043 - mae: 0.0522 - mse: 0.0043 - val_loss: 0.0090 - val_mae: 0.0777 - val_mse: 0.0090\n",
      "Epoch 98/100\n",
      "5/6 [========================>.....] - ETA: 0s - loss: 0.0045 - mae: 0.0551 - mse: 0.0045"
     ]
    },
    {
     "name": "stderr",
     "output_type": "stream",
     "text": [
      "WARNING:tensorflow:Can save best model only with val_mean_squared_error available, skipping.\n"
     ]
    },
    {
     "name": "stdout",
     "output_type": "stream",
     "text": [
      "6/6 [==============================] - 0s 45ms/step - loss: 0.0047 - mae: 0.0562 - mse: 0.0047 - val_loss: 0.0111 - val_mae: 0.0874 - val_mse: 0.0111\n",
      "Epoch 99/100\n",
      "5/6 [========================>.....] - ETA: 0s - loss: 0.0046 - mae: 0.0536 - mse: 0.0046"
     ]
    },
    {
     "name": "stderr",
     "output_type": "stream",
     "text": [
      "WARNING:tensorflow:Can save best model only with val_mean_squared_error available, skipping.\n"
     ]
    },
    {
     "name": "stdout",
     "output_type": "stream",
     "text": [
      "6/6 [==============================] - 0s 46ms/step - loss: 0.0046 - mae: 0.0535 - mse: 0.0046 - val_loss: 0.0071 - val_mae: 0.0700 - val_mse: 0.0071\n",
      "Epoch 100/100\n",
      "5/6 [========================>.....] - ETA: 0s - loss: 0.0043 - mae: 0.0514 - mse: 0.0043"
     ]
    },
    {
     "name": "stderr",
     "output_type": "stream",
     "text": [
      "WARNING:tensorflow:Can save best model only with val_mean_squared_error available, skipping.\n"
     ]
    },
    {
     "name": "stdout",
     "output_type": "stream",
     "text": [
      "6/6 [==============================] - 0s 48ms/step - loss: 0.0043 - mae: 0.0520 - mse: 0.0043 - val_loss: 0.0127 - val_mae: 0.0995 - val_mse: 0.0127\n"
     ]
    }
   ],
   "source": [
    "from keras.callbacks import ModelCheckpoint\n",
    "checkpoint = ModelCheckpoint(\"weights.best.hdf5\", monitor='val_mean_squared_error', verbose=1, save_best_only=True, mode='min')\n",
    "\n",
    "callbacks_list = [checkpoint]\n",
    "history = model.fit(X_train, y_train, epochs=100, batch_size=64, verbose=1, callbacks=callbacks_list, validation_split=0.1)"
   ]
  },
  {
   "cell_type": "code",
   "execution_count": 11,
   "id": "520a7400",
   "metadata": {
    "colab": {
     "base_uri": "https://localhost:8080/",
     "height": 851
    },
    "executionInfo": {
     "elapsed": 442,
     "status": "ok",
     "timestamp": 1670228603943,
     "user": {
      "displayName": "Emam Hossain",
      "userId": "13589795966077461357"
     },
     "user_tz": 300
    },
    "id": "520a7400",
    "outputId": "edffe3e2-5418-40ea-c54a-6068b2ef2bdb"
   },
   "outputs": [
    {
     "data": {
      "image/png": "[encoded data removed]",
      "text/plain": [
       "<Figure size 432x288 with 1 Axes>"
      ]
     },
     "metadata": {
      "needs_background": "light"
     },
     "output_type": "display_data"
    },
    {
     "data": {
      "image/png": "[encoded data removed]",
      "text/plain": [
       "<Figure size 432x288 with 1 Axes>"
      ]
     },
     "metadata": {
      "needs_background": "light"
     },
     "output_type": "display_data"
    },
    {
     "data": {
      "image/png": "[encoded data removed]",
      "text/plain": [
       "<Figure size 432x288 with 1 Axes>"
      ]
     },
     "metadata": {
      "needs_background": "light"
     },
     "output_type": "display_data"
    }
   ],
   "source": [
    "plt.plot(history.history['mse'])\n",
    "plt.plot(history.history['val_mse'])\n",
    "plt.title('Mean Squared Error of SIE Prediction')\n",
    "plt.ylabel('MSE')\n",
    "plt.xlabel('Epoch')\n",
    "plt.legend(['train', 'validation'], loc='upper right')\n",
    "plt.show()\n",
    "\n",
    "plt.plot(history.history['mae'])\n",
    "plt.plot(history.history['val_mae'])\n",
    "plt.title('Mean Absolute Error of SIE Prediction')\n",
    "plt.ylabel('MAE')\n",
    "plt.xlabel('Epoch')\n",
    "plt.legend(['train', 'validation'], loc='upper right')\n",
    "plt.show()\n",
    "\n",
    "plt.plot(history.history['loss'])\n",
    "plt.plot(history.history['val_loss'])\n",
    "plt.title('Loss of SIE Prediction')\n",
    "plt.ylabel('Loss')\n",
    "plt.xlabel('Epoch')\n",
    "plt.legend(['train', 'validation'], loc='upper right')\n",
    "plt.show()"
   ]
  },
  {
   "cell_type": "code",
   "execution_count": 12,
   "id": "733c794b",
   "metadata": {
    "colab": {
     "base_uri": "https://localhost:8080/"
    },
    "executionInfo": {
     "elapsed": 2160,
     "status": "ok",
     "timestamp": 1670228606102,
     "user": {
      "displayName": "Emam Hossain",
      "userId": "13589795966077461357"
     },
     "user_tz": 300
    },
    "id": "733c794b",
    "outputId": "6720317d-4377-4a2e-b68d-4e44c924c367"
   },
   "outputs": [
    {
     "name": "stdout",
     "output_type": "stream",
     "text": [
      "4/4 [==============================] - 2s 20ms/step\n"
     ]
    }
   ],
   "source": [
    "from sklearn.metrics import mean_squared_error, mean_absolute_error, mean_absolute_percentage_error, r2_score\n",
    "from numpy import sqrt\n",
    "\n",
    "#model.load_weights(\"weights.best.hdf5\")\n",
    "\n",
    "cols = len(df.columns)\n",
    "pred = model.predict(X_test)\n",
    "\n",
    "predicted_dataset = dataset\n",
    "predicted_dataset[len(predicted_dataset)-len(pred):, cols-1] = pred[:, 0]\n",
    "scaled_predicted_dataset = scaler.inverse_transform(predicted_dataset)\n",
    "\n",
    "predicted_df = df.copy()\n",
    "predicted_df['sea_ice_extent'][len(predicted_dataset)-len(pred):] = scaled_predicted_dataset[len(predicted_dataset)-len(pred):, cols-1]\n",
    "\n",
    "predictions = pd.DataFrame()\n",
    "predictions['predicted'] = (predicted_df['sea_ice_extent'][len(predicted_dataset)-len(pred):])\n",
    "predictions['actual'] = (df['sea_ice_extent'][len(predicted_dataset)-len(pred):])\n",
    "predictions = predictions.astype(float)"
   ]
  },
  {
   "cell_type": "code",
   "execution_count": 13,
   "id": "O8XcnKMZNPgv",
   "metadata": {
    "colab": {
     "base_uri": "https://localhost:8080/",
     "height": 1000
    },
    "executionInfo": {
     "elapsed": 1072,
     "status": "ok",
     "timestamp": 1670228607172,
     "user": {
      "displayName": "Emam Hossain",
      "userId": "13589795966077461357"
     },
     "user_tz": 300
    },
    "id": "O8XcnKMZNPgv",
    "outputId": "2bac8cb9-9699-43cd-a3b4-02b7ac4e2bf0"
   },
   "outputs": [
    {
     "data": {
      "image/png": "[encoded data removed]",
      "text/plain": [
       "<Figure size 1152x432 with 1 Axes>"
      ]
     },
     "metadata": {
      "needs_background": "light"
     },
     "output_type": "display_data"
    },
    {
     "data": {
      "image/png": "[encoded data removed]",
      "text/plain": [
       "<Figure size 720x720 with 1 Axes>"
      ]
     },
     "metadata": {
      "needs_background": "light"
     },
     "output_type": "display_data"
    },
    {
     "name": "stdout",
     "output_type": "stream",
     "text": [
      "MSE :  5120917963539.086 (10⁶ km²)\n",
      "MSPE : 9.727 %\n",
      "RMSE :  2262944.5339068933 (10⁶ km²)\n",
      "RMSPE : 31.188 %\n",
      "MAE :  1781064.5353535353 (10⁶ km²)\n",
      "MAPE :  15.839 %\n",
      "R2 :  44.228\n"
     ]
    }
   ],
   "source": [
    "plt.figure(figsize = (16,6))\n",
    "ax = plt.axes()\n",
    "# ax.set_facecolor('#dcdcdc')\n",
    "\n",
    "plt.title('Arctic Sea Ice Extent Actual vs Prediction Curve for Test Data', fontsize = 20,fontweight = \"bold\")\n",
    "plt.xlabel('Time' , fontsize = 14,fontweight = \"bold\")\n",
    "plt.ylabel('Sea Ice Extent (10\\u2076 km\\u00b2)', fontsize = 14,fontweight = \"bold\")\n",
    "plt.plot(predictions['actual']/10**6, 'blue', label='Actual SIE')\n",
    "plt.plot(predictions['predicted']/10**6, 'red', label='Predicted SIE')\n",
    "plt.legend()\n",
    "plt.grid()\n",
    "plt.show\n",
    "\n",
    "predictions['diff'] = predictions['predicted'] - predictions['actual']\n",
    "plt.figure(figsize=(10,10))\n",
    "plt.xlabel('Difference between actual and predicted SIE (10\\u2076 km\\u00b2)')\n",
    "sns.histplot(predictions['diff'])\n",
    "plt.title('Distribution of differences between actual and predicted SIE')\n",
    "plt.show()\n",
    "\n",
    "mspe = (np.mean(np.square((predictions['actual'].values - predictions['predicted'].values) / predictions['actual'].values))) * 100\n",
    "rmspe = (np.sqrt(np.mean(np.square((predictions['actual'].values - predictions['predicted'].values) / predictions['actual'].values)))) * 100\n",
    "\n",
    "print(\"MSE : \", mean_squared_error(predictions['predicted'].values, predictions['actual'].values), \"(10\\u2076 km\\u00b2)\")\n",
    "print(\"MSPE :\", round(mspe,3), \"%\")\n",
    "print(\"RMSE : \", sqrt(mean_squared_error(predictions['predicted'].values, predictions['actual'].values)), \"(10\\u2076 km\\u00b2)\")\n",
    "print(\"RMSPE :\", round(rmspe,3), \"%\")\n",
    "print(\"MAE : \", mean_absolute_error(predictions['predicted'].values, predictions['actual'].values), \"(10\\u2076 km\\u00b2)\")\n",
    "print(\"MAPE : \", round(mean_absolute_percentage_error(predictions['predicted'].values, predictions['actual'].values)*100,3), \"%\")\n",
    "print(\"R2 : \", round(r2_score(predictions['predicted'].values, predictions['actual'].values)*100,3))"
   ]
  },
  {
   "cell_type": "code",
   "execution_count": 14,
   "id": "3f3aaf6d",
   "metadata": {
    "executionInfo": {
     "elapsed": 5,
     "status": "ok",
     "timestamp": 1670228607172,
     "user": {
      "displayName": "Emam Hossain",
      "userId": "13589795966077461357"
     },
     "user_tz": 300
    },
    "id": "3f3aaf6d"
   },
   "outputs": [],
   "source": [
    "# while True:pass"
   ]
  }
 ],
 "metadata": {
  "accelerator": "GPU",
  "colab": {
   "provenance": [
    {
     "file_id": "1tsdSY4XF8dbRdNGZQhWw6nd--RLFP4EX",
     "timestamp": 1670202049252
    },
    {
     "file_id": "1L3ixnLeRDivuLSWCq04VtDKnU7YIw_C7",
     "timestamp": 1670201891016
    },
    {
     "file_id": "1VJInZTaupyMxQ6JprjJi2D6639FmXJ-t",
     "timestamp": 1670201115947
    },
    {
     "file_id": "1f-ct_NOq__M1QDGjYMyualvRlVNWtnum",
     "timestamp": 1670201096560
    },
    {
     "file_id": "1S71KBLYU9q_J7PpD1i3PdHnejHsyHk2A",
     "timestamp": 1670201029903
    },
    {
     "file_id": "1ZW2CDeL2Z4e4d7GVtf1CCEU8ioKr_ozr",
     "timestamp": 1670200993047
    },
    {
     "file_id": "11ezPDxEfETgGwyGSoqr5wscr_t65bvL6",
     "timestamp": 1669223899169
    },
    {
     "file_id": "https://github.com/ehfahad/SIE-Prediction-using-Causal-Deep-Learning/blob/main/Models/SIE%20Prediction%20(1-day%20lead)%20upto%202014%20with%20day%2C%20week%2C%20month.ipynb",
     "timestamp": 1666883273850
    }
   ]
  },
  "gpuClass": "standard",
  "kernelspec": {
   "display_name": "Python 3 (ipykernel)",
   "language": "python",
   "name": "python3"
  },
  "language_info": {
   "codemirror_mode": {
    "name": "ipython",
    "version": 3
   },
   "file_extension": ".py",
   "mimetype": "text/x-python",
   "name": "python",
   "nbconvert_exporter": "python",
   "pygments_lexer": "ipython3",
   "version": "3.8.15"
  },
  "varInspector": {
   "cols": {
    "lenName": 16,
    "lenType": 16,
    "lenVar": 40
   },
   "kernels_config": {
    "python": {
     "delete_cmd_postfix": "",
     "delete_cmd_prefix": "del ",
     "library": "var_list.py",
     "varRefreshCmd": "print(var_dic_list())"
    },
    "r": {
     "delete_cmd_postfix": ") ",
     "delete_cmd_prefix": "rm(",
     "library": "var_list.r",
     "varRefreshCmd": "cat(var_dic_list()) "
    }
   },
   "position": {
    "height": "417.844px",
    "left": "1538px",
    "right": "20px",
    "top": "131px",
    "width": "350px"
   },
   "types_to_exclude": [
    "module",
    "function",
    "builtin_function_or_method",
    "instance",
    "_Feature"
   ],
   "window_display": true
  }
 },
 "nbformat": 4,
 "nbformat_minor": 5
}
