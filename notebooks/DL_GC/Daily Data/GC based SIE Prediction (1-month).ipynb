{
 "cells": [
  {
   "cell_type": "code",
   "execution_count": 1,
   "id": "1507a9c1",
   "metadata": {
    "executionInfo": {
     "elapsed": 1114,
     "status": "ok",
     "timestamp": 1670205569944,
     "user": {
      "displayName": "Emam Hossain",
      "userId": "00475912484380842878"
     },
     "user_tz": 300
    },
    "id": "1507a9c1"
   },
   "outputs": [],
   "source": [
    "import numpy as np\n",
    "import pandas as pd\n",
    "import matplotlib.pyplot as plt\n",
    "import seaborn as sns\n",
    "from sklearn.preprocessing import MinMaxScaler"
   ]
  },
  {
   "cell_type": "code",
   "execution_count": 2,
   "id": "ZkC-CdqrYGLW",
   "metadata": {
    "executionInfo": {
     "elapsed": 6,
     "status": "ok",
     "timestamp": 1670205569944,
     "user": {
      "displayName": "Emam Hossain",
      "userId": "00475912484380842878"
     },
     "user_tz": 300
    },
    "id": "ZkC-CdqrYGLW"
   },
   "outputs": [],
   "source": [
    "# global variables\n",
    "\n",
    "look_back = 21\n",
    "lead_time = 30\n",
    "filename = '../../../data/Arctic_domain_mean_1979_2018 - Curated.csv'\n",
    "gc_features = ['wind_10m', 'specific_humidity', 'LW_down', 'SW_down', 'rainfall', 'snowfall', 'sosaline', 't2m', 'surface_pressure', 'sea_ice_extent']"
   ]
  },
  {
   "cell_type": "code",
   "execution_count": 3,
   "id": "zlPFdfw7F9-_",
   "metadata": {
    "colab": {
     "base_uri": "https://localhost:8080/",
     "height": 545
    },
    "executionInfo": {
     "elapsed": 26515,
     "status": "ok",
     "timestamp": 1670205596454,
     "user": {
      "displayName": "Emam Hossain",
      "userId": "00475912484380842878"
     },
     "user_tz": 300
    },
    "id": "zlPFdfw7F9-_",
    "outputId": "b05245d0-e8e0-45e5-bef2-414cd3287d1e"
   },
   "outputs": [
    {
     "data": {
      "text/html": [
       "<div>\n",
       "<style scoped>\n",
       "    .dataframe tbody tr th:only-of-type {\n",
       "        vertical-align: middle;\n",
       "    }\n",
       "\n",
       "    .dataframe tbody tr th {\n",
       "        vertical-align: top;\n",
       "    }\n",
       "\n",
       "    .dataframe thead th {\n",
       "        text-align: right;\n",
       "    }\n",
       "</style>\n",
       "<table border=\"1\" class=\"dataframe\">\n",
       "  <thead>\n",
       "    <tr style=\"text-align: right;\">\n",
       "      <th></th>\n",
       "      <th>Day</th>\n",
       "      <th>wind_10m</th>\n",
       "      <th>specific_humidity</th>\n",
       "      <th>LW_down</th>\n",
       "      <th>SW_down</th>\n",
       "      <th>rainfall</th>\n",
       "      <th>snowfall</th>\n",
       "      <th>sosaline</th>\n",
       "      <th>sst</th>\n",
       "      <th>t2m</th>\n",
       "      <th>surface_pressure</th>\n",
       "      <th>sea_ice_extent</th>\n",
       "    </tr>\n",
       "  </thead>\n",
       "  <tbody>\n",
       "    <tr>\n",
       "      <th>7305</th>\n",
       "      <td>1/1/1999</td>\n",
       "      <td>4.987515</td>\n",
       "      <td>0.891843</td>\n",
       "      <td>183.786092</td>\n",
       "      <td>1.120906</td>\n",
       "      <td>0.700735</td>\n",
       "      <td>0.501109</td>\n",
       "      <td>33.316996</td>\n",
       "      <td>273.467869</td>\n",
       "      <td>250.884060</td>\n",
       "      <td>985.112721</td>\n",
       "      <td>13823248</td>\n",
       "    </tr>\n",
       "    <tr>\n",
       "      <th>7306</th>\n",
       "      <td>1/2/1999</td>\n",
       "      <td>5.075952</td>\n",
       "      <td>0.905535</td>\n",
       "      <td>183.851814</td>\n",
       "      <td>1.193514</td>\n",
       "      <td>0.712730</td>\n",
       "      <td>0.482221</td>\n",
       "      <td>33.316996</td>\n",
       "      <td>273.453826</td>\n",
       "      <td>250.359328</td>\n",
       "      <td>984.092282</td>\n",
       "      <td>13885522</td>\n",
       "    </tr>\n",
       "    <tr>\n",
       "      <th>7307</th>\n",
       "      <td>1/3/1999</td>\n",
       "      <td>4.931520</td>\n",
       "      <td>0.911672</td>\n",
       "      <td>184.426913</td>\n",
       "      <td>1.263909</td>\n",
       "      <td>0.677339</td>\n",
       "      <td>0.480718</td>\n",
       "      <td>33.316996</td>\n",
       "      <td>273.454385</td>\n",
       "      <td>250.327500</td>\n",
       "      <td>982.300080</td>\n",
       "      <td>13884279</td>\n",
       "    </tr>\n",
       "    <tr>\n",
       "      <th>7308</th>\n",
       "      <td>1/4/1999</td>\n",
       "      <td>4.761644</td>\n",
       "      <td>0.911301</td>\n",
       "      <td>187.528326</td>\n",
       "      <td>1.269229</td>\n",
       "      <td>0.824016</td>\n",
       "      <td>0.697950</td>\n",
       "      <td>33.316996</td>\n",
       "      <td>273.459797</td>\n",
       "      <td>249.905730</td>\n",
       "      <td>983.250565</td>\n",
       "      <td>13912624</td>\n",
       "    </tr>\n",
       "    <tr>\n",
       "      <th>7309</th>\n",
       "      <td>1/5/1999</td>\n",
       "      <td>4.739850</td>\n",
       "      <td>0.901353</td>\n",
       "      <td>187.326709</td>\n",
       "      <td>1.552208</td>\n",
       "      <td>0.926681</td>\n",
       "      <td>0.835868</td>\n",
       "      <td>33.316996</td>\n",
       "      <td>273.463975</td>\n",
       "      <td>250.254873</td>\n",
       "      <td>984.247389</td>\n",
       "      <td>13890148</td>\n",
       "    </tr>\n",
       "  </tbody>\n",
       "</table>\n",
       "</div>"
      ],
      "text/plain": [
       "           Day  wind_10m  specific_humidity     LW_down   SW_down  rainfall  \\\n",
       "7305  1/1/1999  4.987515           0.891843  183.786092  1.120906  0.700735   \n",
       "7306  1/2/1999  5.075952           0.905535  183.851814  1.193514  0.712730   \n",
       "7307  1/3/1999  4.931520           0.911672  184.426913  1.263909  0.677339   \n",
       "7308  1/4/1999  4.761644           0.911301  187.528326  1.269229  0.824016   \n",
       "7309  1/5/1999  4.739850           0.901353  187.326709  1.552208  0.926681   \n",
       "\n",
       "      snowfall   sosaline         sst         t2m  surface_pressure  \\\n",
       "7305  0.501109  33.316996  273.467869  250.884060        985.112721   \n",
       "7306  0.482221  33.316996  273.453826  250.359328        984.092282   \n",
       "7307  0.480718  33.316996  273.454385  250.327500        982.300080   \n",
       "7308  0.697950  33.316996  273.459797  249.905730        983.250565   \n",
       "7309  0.835868  33.316996  273.463975  250.254873        984.247389   \n",
       "\n",
       "      sea_ice_extent  \n",
       "7305        13823248  \n",
       "7306        13885522  \n",
       "7307        13884279  \n",
       "7308        13912624  \n",
       "7309        13890148  "
      ]
     },
     "execution_count": 3,
     "metadata": {},
     "output_type": "execute_result"
    }
   ],
   "source": [
    "# from google.colab import files\n",
    "# import io\n",
    "\n",
    "# uploaded = files.upload()\n",
    "# df = pd.read_csv(io.BytesIO(uploaded[filename]))\n",
    "# df = df[7305:]\n",
    "# df\n",
    "\n",
    "# Reading the dataset\n",
    "df = pd.read_csv(filename)\n",
    "df = df[7305:]\n",
    "df.head()"
   ]
  },
  {
   "cell_type": "code",
   "execution_count": 4,
   "id": "683fdbc4",
   "metadata": {
    "executionInfo": {
     "elapsed": 7,
     "status": "ok",
     "timestamp": 1670205596455,
     "user": {
      "displayName": "Emam Hossain",
      "userId": "00475912484380842878"
     },
     "user_tz": 300
    },
    "id": "683fdbc4"
   },
   "outputs": [],
   "source": [
    "df['Day'] = pd.to_datetime(df['Day'], infer_datetime_format=True)\n",
    "df.set_index('Day', inplace=True)\n",
    "df = df.astype(float)                 # cast df to float\n",
    "df = df[gc_features]\n",
    "# df.tail(len(df))"
   ]
  },
  {
   "cell_type": "code",
   "execution_count": 5,
   "id": "e5014c30",
   "metadata": {
    "executionInfo": {
     "elapsed": 6,
     "status": "ok",
     "timestamp": 1670205596455,
     "user": {
      "displayName": "Emam Hossain",
      "userId": "00475912484380842878"
     },
     "user_tz": 300
    },
    "id": "e5014c30"
   },
   "outputs": [],
   "source": [
    "def create_model_data (dataset, look_back, lead_time):\n",
    "    dataX, dataY = [], []\n",
    "    \n",
    "    for i in range(len(dataset)-look_back-lead_time):\n",
    "        a = dataset[i:(i+look_back)]\n",
    "        dataX.append(a)\n",
    "        dataY.append(dataset[i + look_back + (lead_time-1)])\n",
    "    return np.array(dataX), np.array(dataY)"
   ]
  },
  {
   "cell_type": "code",
   "execution_count": 6,
   "id": "c1aaa5e4",
   "metadata": {
    "executionInfo": {
     "elapsed": 5,
     "status": "ok",
     "timestamp": 1670205596455,
     "user": {
      "displayName": "Emam Hossain",
      "userId": "00475912484380842878"
     },
     "user_tz": 300
    },
    "id": "c1aaa5e4",
    "scrolled": true
   },
   "outputs": [],
   "source": [
    "target_index = df.columns.tolist().index('sea_ice_extent')\n",
    "\n",
    "dataset = df.values.astype('float32')               # DataFrame converted to Numpy Array\n",
    "\n",
    "scaler = MinMaxScaler(feature_range=(0, 1))\n",
    "dataset = scaler.fit_transform(dataset)\n",
    "\n",
    "X, y = create_model_data (dataset, look_back=look_back, lead_time=lead_time)\n",
    "y = y[:,target_index]"
   ]
  },
  {
   "cell_type": "code",
   "execution_count": 7,
   "id": "KGbRA39Br3S9",
   "metadata": {
    "executionInfo": {
     "elapsed": 6,
     "status": "ok",
     "timestamp": 1670205596456,
     "user": {
      "displayName": "Emam Hossain",
      "userId": "00475912484380842878"
     },
     "user_tz": 300
    },
    "id": "KGbRA39Br3S9"
   },
   "outputs": [],
   "source": [
    "from sklearn.model_selection import train_test_split\n",
    "\n",
    "X_train, X_test, y_train, y_test = train_test_split(X, y, test_size=0.2, shuffle=False)"
   ]
  },
  {
   "cell_type": "code",
   "execution_count": 8,
   "id": "9405d356",
   "metadata": {
    "colab": {
     "base_uri": "https://localhost:8080/",
     "height": 431
    },
    "executionInfo": {
     "elapsed": 598,
     "status": "ok",
     "timestamp": 1670205597048,
     "user": {
      "displayName": "Emam Hossain",
      "userId": "00475912484380842878"
     },
     "user_tz": 300
    },
    "id": "9405d356",
    "outputId": "de4ed717-85e0-4020-cbc3-2851b67de4b0"
   },
   "outputs": [
    {
     "data": {
      "text/plain": [
       "<function matplotlib.pyplot.show(*args, **kw)>"
      ]
     },
     "execution_count": 8,
     "metadata": {},
     "output_type": "execute_result"
    },
    {
     "data": {
      "image/png": "[encoded data removed]",
      "text/plain": [
       "<Figure size 1152x432 with 1 Axes>"
      ]
     },
     "metadata": {
      "needs_background": "light"
     },
     "output_type": "display_data"
    }
   ],
   "source": [
    "plt.figure(figsize = (16,6))\n",
    "ax = plt.axes()\n",
    "# ax.set_facecolor('#dcdcdc')\n",
    "\n",
    "plt.title('Arctic Sea Ice Extent Trend from 1979-2018', fontsize = 20,fontweight = \"bold\")\n",
    "plt.xlabel('Time' , fontsize = 14,fontweight = \"bold\")\n",
    "plt.ylabel('Sea Ice Extent (10\\u2076 km\\u00b2)', fontsize = 14,fontweight = \"bold\")\n",
    "plt.plot(df['sea_ice_extent'][:len(df)-len(y_test)]/10**6, 'blue', label='Training Data')\n",
    "plt.plot(df['sea_ice_extent'][len(df)-len(y_test):]/10**6, 'red', label='Testing Data')\n",
    "plt.legend()\n",
    "plt.grid()\n",
    "plt.show"
   ]
  },
  {
   "cell_type": "code",
   "execution_count": 9,
   "id": "86f5e0f3",
   "metadata": {
    "colab": {
     "base_uri": "https://localhost:8080/"
    },
    "executionInfo": {
     "elapsed": 5122,
     "status": "ok",
     "timestamp": 1670205602166,
     "user": {
      "displayName": "Emam Hossain",
      "userId": "00475912484380842878"
     },
     "user_tz": 300
    },
    "id": "86f5e0f3",
    "outputId": "4ed5a3f8-a67c-4aed-dde9-8201a6eb1910"
   },
   "outputs": [
    {
     "name": "stdout",
     "output_type": "stream",
     "text": [
      "Model: \"sequential\"\n",
      "_________________________________________________________________\n",
      " Layer (type)                Output Shape              Param #   \n",
      "=================================================================\n",
      " gru (GRU)                   (None, 21, 64)            14592     \n",
      "                                                                 \n",
      " dropout (Dropout)           (None, 21, 64)            0         \n",
      "                                                                 \n",
      " lstm (LSTM)                 (None, 128)               98816     \n",
      "                                                                 \n",
      " dropout_1 (Dropout)         (None, 128)               0         \n",
      "                                                                 \n",
      " dense (Dense)               (None, 64)                8256      \n",
      "                                                                 \n",
      " dense_1 (Dense)             (None, 1)                 65        \n",
      "                                                                 \n",
      "=================================================================\n",
      "Total params: 121,729\n",
      "Trainable params: 121,729\n",
      "Non-trainable params: 0\n",
      "_________________________________________________________________\n",
      "None\n"
     ]
    }
   ],
   "source": [
    "from keras.models import Sequential\n",
    "from keras.layers import Dense, Dropout, Activation, Input, LSTM, GRU, Dense\n",
    "\n",
    "input_shape=(X.shape[1], X.shape[2])\n",
    "\n",
    "model = Sequential()\n",
    "model.add(GRU(64, input_shape=(X.shape[1], X.shape[2]), return_sequences=True))\n",
    "model.add(Dropout(0.2))\n",
    "\n",
    "model.add(LSTM(128))\n",
    "model.add(Dropout(0.2))\n",
    "\n",
    "model.add(Dense(64 ,  activation = 'relu'))\n",
    "model.add(Dense(1))\n",
    "\n",
    "model.compile(loss='mean_squared_error', optimizer='adam', metrics=['mae', 'mse'])\n",
    "print(model.summary())"
   ]
  },
  {
   "cell_type": "code",
   "execution_count": 10,
   "id": "8a6be2cb",
   "metadata": {
    "colab": {
     "base_uri": "https://localhost:8080/"
    },
    "executionInfo": {
     "elapsed": 84880,
     "status": "ok",
     "timestamp": 1670205687039,
     "user": {
      "displayName": "Emam Hossain",
      "userId": "00475912484380842878"
     },
     "user_tz": 300
    },
    "id": "8a6be2cb",
    "outputId": "0a754cc3-fe52-43c9-a015-e91176eae460",
    "scrolled": true
   },
   "outputs": [
    {
     "name": "stdout",
     "output_type": "stream",
     "text": [
      "Epoch 1/100\n",
      "82/82 [==============================] - ETA: 0s - loss: 0.0225 - mae: 0.0907 - mse: 0.0225"
     ]
    },
    {
     "name": "stderr",
     "output_type": "stream",
     "text": [
      "WARNING:tensorflow:Can save best model only with val_mean_squared_error available, skipping.\n"
     ]
    },
    {
     "name": "stdout",
     "output_type": "stream",
     "text": [
      "82/82 [==============================] - 9s 19ms/step - loss: 0.0225 - mae: 0.0907 - mse: 0.0225 - val_loss: 0.0011 - val_mae: 0.0271 - val_mse: 0.0011\n",
      "Epoch 2/100\n",
      "80/82 [============================>.] - ETA: 0s - loss: 0.0035 - mae: 0.0469 - mse: 0.0035"
     ]
    },
    {
     "name": "stderr",
     "output_type": "stream",
     "text": [
      "WARNING:tensorflow:Can save best model only with val_mean_squared_error available, skipping.\n"
     ]
    },
    {
     "name": "stdout",
     "output_type": "stream",
     "text": [
      "82/82 [==============================] - 1s 8ms/step - loss: 0.0035 - mae: 0.0469 - mse: 0.0035 - val_loss: 0.0014 - val_mae: 0.0306 - val_mse: 0.0014\n",
      "Epoch 3/100\n",
      "82/82 [==============================] - ETA: 0s - loss: 0.0027 - mae: 0.0414 - mse: 0.0027"
     ]
    },
    {
     "name": "stderr",
     "output_type": "stream",
     "text": [
      "WARNING:tensorflow:Can save best model only with val_mean_squared_error available, skipping.\n"
     ]
    },
    {
     "name": "stdout",
     "output_type": "stream",
     "text": [
      "82/82 [==============================] - 1s 8ms/step - loss: 0.0027 - mae: 0.0414 - mse: 0.0027 - val_loss: 0.0015 - val_mae: 0.0329 - val_mse: 0.0015\n",
      "Epoch 4/100\n",
      "81/82 [============================>.] - ETA: 0s - loss: 0.0024 - mae: 0.0388 - mse: 0.0024"
     ]
    },
    {
     "name": "stderr",
     "output_type": "stream",
     "text": [
      "WARNING:tensorflow:Can save best model only with val_mean_squared_error available, skipping.\n"
     ]
    },
    {
     "name": "stdout",
     "output_type": "stream",
     "text": [
      "82/82 [==============================] - 1s 8ms/step - loss: 0.0024 - mae: 0.0388 - mse: 0.0024 - val_loss: 8.3865e-04 - val_mae: 0.0235 - val_mse: 8.3865e-04\n",
      "Epoch 5/100\n",
      "79/82 [===========================>..] - ETA: 0s - loss: 0.0022 - mae: 0.0373 - mse: 0.0022"
     ]
    },
    {
     "name": "stderr",
     "output_type": "stream",
     "text": [
      "WARNING:tensorflow:Can save best model only with val_mean_squared_error available, skipping.\n"
     ]
    },
    {
     "name": "stdout",
     "output_type": "stream",
     "text": [
      "82/82 [==============================] - 1s 8ms/step - loss: 0.0022 - mae: 0.0374 - mse: 0.0022 - val_loss: 0.0014 - val_mae: 0.0277 - val_mse: 0.0014\n",
      "Epoch 6/100\n",
      "76/82 [==========================>...] - ETA: 0s - loss: 0.0022 - mae: 0.0374 - mse: 0.0022"
     ]
    },
    {
     "name": "stderr",
     "output_type": "stream",
     "text": [
      "WARNING:tensorflow:Can save best model only with val_mean_squared_error available, skipping.\n"
     ]
    },
    {
     "name": "stdout",
     "output_type": "stream",
     "text": [
      "82/82 [==============================] - 1s 8ms/step - loss: 0.0022 - mae: 0.0374 - mse: 0.0022 - val_loss: 7.5366e-04 - val_mae: 0.0211 - val_mse: 7.5366e-04\n",
      "Epoch 7/100\n",
      "79/82 [===========================>..] - ETA: 0s - loss: 0.0019 - mae: 0.0349 - mse: 0.0019"
     ]
    },
    {
     "name": "stderr",
     "output_type": "stream",
     "text": [
      "WARNING:tensorflow:Can save best model only with val_mean_squared_error available, skipping.\n"
     ]
    },
    {
     "name": "stdout",
     "output_type": "stream",
     "text": [
      "82/82 [==============================] - 1s 8ms/step - loss: 0.0019 - mae: 0.0348 - mse: 0.0019 - val_loss: 8.7787e-04 - val_mae: 0.0255 - val_mse: 8.7787e-04\n",
      "Epoch 8/100\n",
      "80/82 [============================>.] - ETA: 0s - loss: 0.0016 - mae: 0.0321 - mse: 0.0016"
     ]
    },
    {
     "name": "stderr",
     "output_type": "stream",
     "text": [
      "WARNING:tensorflow:Can save best model only with val_mean_squared_error available, skipping.\n"
     ]
    },
    {
     "name": "stdout",
     "output_type": "stream",
     "text": [
      "82/82 [==============================] - 1s 8ms/step - loss: 0.0016 - mae: 0.0321 - mse: 0.0016 - val_loss: 9.9312e-04 - val_mae: 0.0268 - val_mse: 9.9312e-04\n",
      "Epoch 9/100\n",
      "77/82 [===========================>..] - ETA: 0s - loss: 0.0017 - mae: 0.0327 - mse: 0.0017"
     ]
    },
    {
     "name": "stderr",
     "output_type": "stream",
     "text": [
      "WARNING:tensorflow:Can save best model only with val_mean_squared_error available, skipping.\n"
     ]
    },
    {
     "name": "stdout",
     "output_type": "stream",
     "text": [
      "82/82 [==============================] - 1s 8ms/step - loss: 0.0017 - mae: 0.0328 - mse: 0.0017 - val_loss: 7.2467e-04 - val_mae: 0.0230 - val_mse: 7.2467e-04\n",
      "Epoch 10/100\n",
      "78/82 [===========================>..] - ETA: 0s - loss: 0.0016 - mae: 0.0319 - mse: 0.0016"
     ]
    },
    {
     "name": "stderr",
     "output_type": "stream",
     "text": [
      "WARNING:tensorflow:Can save best model only with val_mean_squared_error available, skipping.\n"
     ]
    },
    {
     "name": "stdout",
     "output_type": "stream",
     "text": [
      "82/82 [==============================] - 1s 8ms/step - loss: 0.0016 - mae: 0.0319 - mse: 0.0016 - val_loss: 9.7477e-04 - val_mae: 0.0271 - val_mse: 9.7477e-04\n",
      "Epoch 11/100\n",
      "76/82 [==========================>...] - ETA: 0s - loss: 0.0015 - mae: 0.0310 - mse: 0.0015"
     ]
    },
    {
     "name": "stderr",
     "output_type": "stream",
     "text": [
      "WARNING:tensorflow:Can save best model only with val_mean_squared_error available, skipping.\n"
     ]
    },
    {
     "name": "stdout",
     "output_type": "stream",
     "text": [
      "82/82 [==============================] - 1s 8ms/step - loss: 0.0015 - mae: 0.0310 - mse: 0.0015 - val_loss: 8.1150e-04 - val_mae: 0.0230 - val_mse: 8.1150e-04\n",
      "Epoch 12/100\n",
      "78/82 [===========================>..] - ETA: 0s - loss: 0.0016 - mae: 0.0315 - mse: 0.0016"
     ]
    },
    {
     "name": "stderr",
     "output_type": "stream",
     "text": [
      "WARNING:tensorflow:Can save best model only with val_mean_squared_error available, skipping.\n"
     ]
    },
    {
     "name": "stdout",
     "output_type": "stream",
     "text": [
      "82/82 [==============================] - 1s 8ms/step - loss: 0.0016 - mae: 0.0314 - mse: 0.0016 - val_loss: 8.2849e-04 - val_mae: 0.0241 - val_mse: 8.2849e-04\n",
      "Epoch 13/100\n",
      "78/82 [===========================>..] - ETA: 0s - loss: 0.0014 - mae: 0.0294 - mse: 0.0014"
     ]
    },
    {
     "name": "stderr",
     "output_type": "stream",
     "text": [
      "WARNING:tensorflow:Can save best model only with val_mean_squared_error available, skipping.\n"
     ]
    },
    {
     "name": "stdout",
     "output_type": "stream",
     "text": [
      "82/82 [==============================] - 1s 8ms/step - loss: 0.0014 - mae: 0.0294 - mse: 0.0014 - val_loss: 0.0013 - val_mae: 0.0312 - val_mse: 0.0013\n",
      "Epoch 14/100\n",
      "77/82 [===========================>..] - ETA: 0s - loss: 0.0013 - mae: 0.0291 - mse: 0.0013"
     ]
    },
    {
     "name": "stderr",
     "output_type": "stream",
     "text": [
      "WARNING:tensorflow:Can save best model only with val_mean_squared_error available, skipping.\n"
     ]
    },
    {
     "name": "stdout",
     "output_type": "stream",
     "text": [
      "82/82 [==============================] - 1s 8ms/step - loss: 0.0013 - mae: 0.0290 - mse: 0.0013 - val_loss: 0.0014 - val_mae: 0.0315 - val_mse: 0.0014\n",
      "Epoch 15/100\n",
      "81/82 [============================>.] - ETA: 0s - loss: 0.0012 - mae: 0.0277 - mse: 0.0012"
     ]
    },
    {
     "name": "stderr",
     "output_type": "stream",
     "text": [
      "WARNING:tensorflow:Can save best model only with val_mean_squared_error available, skipping.\n"
     ]
    },
    {
     "name": "stdout",
     "output_type": "stream",
     "text": [
      "82/82 [==============================] - 1s 8ms/step - loss: 0.0012 - mae: 0.0277 - mse: 0.0012 - val_loss: 0.0016 - val_mae: 0.0350 - val_mse: 0.0016\n",
      "Epoch 16/100\n",
      "80/82 [============================>.] - ETA: 0s - loss: 0.0012 - mae: 0.0279 - mse: 0.0012"
     ]
    },
    {
     "name": "stderr",
     "output_type": "stream",
     "text": [
      "WARNING:tensorflow:Can save best model only with val_mean_squared_error available, skipping.\n"
     ]
    },
    {
     "name": "stdout",
     "output_type": "stream",
     "text": [
      "82/82 [==============================] - 1s 7ms/step - loss: 0.0013 - mae: 0.0280 - mse: 0.0013 - val_loss: 5.6574e-04 - val_mae: 0.0199 - val_mse: 5.6574e-04\n",
      "Epoch 17/100\n",
      "77/82 [===========================>..] - ETA: 0s - loss: 0.0013 - mae: 0.0282 - mse: 0.0013"
     ]
    },
    {
     "name": "stderr",
     "output_type": "stream",
     "text": [
      "WARNING:tensorflow:Can save best model only with val_mean_squared_error available, skipping.\n"
     ]
    },
    {
     "name": "stdout",
     "output_type": "stream",
     "text": [
      "82/82 [==============================] - 1s 8ms/step - loss: 0.0013 - mae: 0.0282 - mse: 0.0013 - val_loss: 9.6440e-04 - val_mae: 0.0263 - val_mse: 9.6440e-04\n",
      "Epoch 18/100\n",
      "80/82 [============================>.] - ETA: 0s - loss: 0.0012 - mae: 0.0278 - mse: 0.0012"
     ]
    },
    {
     "name": "stderr",
     "output_type": "stream",
     "text": [
      "WARNING:tensorflow:Can save best model only with val_mean_squared_error available, skipping.\n"
     ]
    },
    {
     "name": "stdout",
     "output_type": "stream",
     "text": [
      "82/82 [==============================] - 1s 8ms/step - loss: 0.0012 - mae: 0.0278 - mse: 0.0012 - val_loss: 0.0022 - val_mae: 0.0415 - val_mse: 0.0022\n",
      "Epoch 19/100\n",
      "82/82 [==============================] - ETA: 0s - loss: 0.0011 - mae: 0.0268 - mse: 0.0011"
     ]
    },
    {
     "name": "stderr",
     "output_type": "stream",
     "text": [
      "WARNING:tensorflow:Can save best model only with val_mean_squared_error available, skipping.\n"
     ]
    },
    {
     "name": "stdout",
     "output_type": "stream",
     "text": [
      "82/82 [==============================] - 1s 8ms/step - loss: 0.0011 - mae: 0.0268 - mse: 0.0011 - val_loss: 0.0019 - val_mae: 0.0380 - val_mse: 0.0019\n",
      "Epoch 20/100\n",
      "82/82 [==============================] - ETA: 0s - loss: 0.0011 - mae: 0.0258 - mse: 0.0011"
     ]
    },
    {
     "name": "stderr",
     "output_type": "stream",
     "text": [
      "WARNING:tensorflow:Can save best model only with val_mean_squared_error available, skipping.\n"
     ]
    },
    {
     "name": "stdout",
     "output_type": "stream",
     "text": [
      "82/82 [==============================] - 1s 8ms/step - loss: 0.0011 - mae: 0.0258 - mse: 0.0011 - val_loss: 0.0015 - val_mae: 0.0332 - val_mse: 0.0015\n",
      "Epoch 21/100\n",
      "79/82 [===========================>..] - ETA: 0s - loss: 0.0011 - mae: 0.0259 - mse: 0.0011"
     ]
    },
    {
     "name": "stderr",
     "output_type": "stream",
     "text": [
      "WARNING:tensorflow:Can save best model only with val_mean_squared_error available, skipping.\n"
     ]
    },
    {
     "name": "stdout",
     "output_type": "stream",
     "text": [
      "82/82 [==============================] - 1s 8ms/step - loss: 0.0011 - mae: 0.0259 - mse: 0.0011 - val_loss: 0.0011 - val_mae: 0.0294 - val_mse: 0.0011\n",
      "Epoch 22/100\n",
      "78/82 [===========================>..] - ETA: 0s - loss: 0.0011 - mae: 0.0259 - mse: 0.0011"
     ]
    },
    {
     "name": "stderr",
     "output_type": "stream",
     "text": [
      "WARNING:tensorflow:Can save best model only with val_mean_squared_error available, skipping.\n"
     ]
    },
    {
     "name": "stdout",
     "output_type": "stream",
     "text": [
      "82/82 [==============================] - 1s 7ms/step - loss: 0.0011 - mae: 0.0258 - mse: 0.0011 - val_loss: 0.0011 - val_mae: 0.0290 - val_mse: 0.0011\n",
      "Epoch 23/100\n",
      "79/82 [===========================>..] - ETA: 0s - loss: 0.0010 - mae: 0.0254 - mse: 0.0010"
     ]
    },
    {
     "name": "stderr",
     "output_type": "stream",
     "text": [
      "WARNING:tensorflow:Can save best model only with val_mean_squared_error available, skipping.\n"
     ]
    },
    {
     "name": "stdout",
     "output_type": "stream",
     "text": [
      "82/82 [==============================] - 1s 8ms/step - loss: 0.0010 - mae: 0.0255 - mse: 0.0010 - val_loss: 0.0016 - val_mae: 0.0354 - val_mse: 0.0016\n",
      "Epoch 24/100\n",
      "76/82 [==========================>...] - ETA: 0s - loss: 0.0010 - mae: 0.0256 - mse: 0.0010"
     ]
    },
    {
     "name": "stderr",
     "output_type": "stream",
     "text": [
      "WARNING:tensorflow:Can save best model only with val_mean_squared_error available, skipping.\n"
     ]
    },
    {
     "name": "stdout",
     "output_type": "stream",
     "text": [
      "82/82 [==============================] - 1s 8ms/step - loss: 0.0010 - mae: 0.0254 - mse: 0.0010 - val_loss: 0.0013 - val_mae: 0.0311 - val_mse: 0.0013\n",
      "Epoch 25/100\n",
      "78/82 [===========================>..] - ETA: 0s - loss: 0.0010 - mae: 0.0251 - mse: 0.0010"
     ]
    },
    {
     "name": "stderr",
     "output_type": "stream",
     "text": [
      "WARNING:tensorflow:Can save best model only with val_mean_squared_error available, skipping.\n"
     ]
    },
    {
     "name": "stdout",
     "output_type": "stream",
     "text": [
      "82/82 [==============================] - 1s 8ms/step - loss: 9.9967e-04 - mae: 0.0251 - mse: 9.9967e-04 - val_loss: 0.0014 - val_mae: 0.0333 - val_mse: 0.0014\n",
      "Epoch 26/100\n",
      "76/82 [==========================>...] - ETA: 0s - loss: 9.6913e-04 - mae: 0.0247 - mse: 9.6913e-04"
     ]
    },
    {
     "name": "stderr",
     "output_type": "stream",
     "text": [
      "WARNING:tensorflow:Can save best model only with val_mean_squared_error available, skipping.\n"
     ]
    },
    {
     "name": "stdout",
     "output_type": "stream",
     "text": [
      "82/82 [==============================] - 1s 8ms/step - loss: 9.6909e-04 - mae: 0.0246 - mse: 9.6909e-04 - val_loss: 0.0014 - val_mae: 0.0324 - val_mse: 0.0014\n",
      "Epoch 27/100\n",
      "77/82 [===========================>..] - ETA: 0s - loss: 9.2520e-04 - mae: 0.0242 - mse: 9.2520e-04"
     ]
    },
    {
     "name": "stderr",
     "output_type": "stream",
     "text": [
      "WARNING:tensorflow:Can save best model only with val_mean_squared_error available, skipping.\n"
     ]
    },
    {
     "name": "stdout",
     "output_type": "stream",
     "text": [
      "82/82 [==============================] - 1s 8ms/step - loss: 9.2444e-04 - mae: 0.0242 - mse: 9.2444e-04 - val_loss: 0.0015 - val_mae: 0.0332 - val_mse: 0.0015\n",
      "Epoch 28/100\n",
      "79/82 [===========================>..] - ETA: 0s - loss: 8.9724e-04 - mae: 0.0238 - mse: 8.9724e-04"
     ]
    },
    {
     "name": "stderr",
     "output_type": "stream",
     "text": [
      "WARNING:tensorflow:Can save best model only with val_mean_squared_error available, skipping.\n"
     ]
    },
    {
     "name": "stdout",
     "output_type": "stream",
     "text": [
      "82/82 [==============================] - 1s 8ms/step - loss: 8.9342e-04 - mae: 0.0237 - mse: 8.9342e-04 - val_loss: 0.0013 - val_mae: 0.0320 - val_mse: 0.0013\n",
      "Epoch 29/100\n",
      "80/82 [============================>.] - ETA: 0s - loss: 8.8758e-04 - mae: 0.0234 - mse: 8.8758e-04"
     ]
    },
    {
     "name": "stderr",
     "output_type": "stream",
     "text": [
      "WARNING:tensorflow:Can save best model only with val_mean_squared_error available, skipping.\n"
     ]
    },
    {
     "name": "stdout",
     "output_type": "stream",
     "text": [
      "82/82 [==============================] - 1s 8ms/step - loss: 8.9072e-04 - mae: 0.0234 - mse: 8.9072e-04 - val_loss: 0.0022 - val_mae: 0.0404 - val_mse: 0.0022\n",
      "Epoch 30/100\n",
      "79/82 [===========================>..] - ETA: 0s - loss: 9.1692e-04 - mae: 0.0241 - mse: 9.1692e-04"
     ]
    },
    {
     "name": "stderr",
     "output_type": "stream",
     "text": [
      "WARNING:tensorflow:Can save best model only with val_mean_squared_error available, skipping.\n"
     ]
    },
    {
     "name": "stdout",
     "output_type": "stream",
     "text": [
      "82/82 [==============================] - 1s 7ms/step - loss: 9.0964e-04 - mae: 0.0240 - mse: 9.0964e-04 - val_loss: 0.0018 - val_mae: 0.0373 - val_mse: 0.0018\n",
      "Epoch 31/100\n",
      "78/82 [===========================>..] - ETA: 0s - loss: 9.6313e-04 - mae: 0.0245 - mse: 9.6313e-04"
     ]
    },
    {
     "name": "stderr",
     "output_type": "stream",
     "text": [
      "WARNING:tensorflow:Can save best model only with val_mean_squared_error available, skipping.\n"
     ]
    },
    {
     "name": "stdout",
     "output_type": "stream",
     "text": [
      "82/82 [==============================] - 1s 8ms/step - loss: 9.5367e-04 - mae: 0.0244 - mse: 9.5367e-04 - val_loss: 0.0010 - val_mae: 0.0277 - val_mse: 0.0010\n",
      "Epoch 32/100\n",
      "77/82 [===========================>..] - ETA: 0s - loss: 9.2011e-04 - mae: 0.0240 - mse: 9.2011e-04"
     ]
    },
    {
     "name": "stderr",
     "output_type": "stream",
     "text": [
      "WARNING:tensorflow:Can save best model only with val_mean_squared_error available, skipping.\n"
     ]
    },
    {
     "name": "stdout",
     "output_type": "stream",
     "text": [
      "82/82 [==============================] - 1s 8ms/step - loss: 9.2156e-04 - mae: 0.0240 - mse: 9.2156e-04 - val_loss: 0.0016 - val_mae: 0.0345 - val_mse: 0.0016\n",
      "Epoch 33/100\n",
      "78/82 [===========================>..] - ETA: 0s - loss: 8.6925e-04 - mae: 0.0233 - mse: 8.6925e-04"
     ]
    },
    {
     "name": "stderr",
     "output_type": "stream",
     "text": [
      "WARNING:tensorflow:Can save best model only with val_mean_squared_error available, skipping.\n"
     ]
    },
    {
     "name": "stdout",
     "output_type": "stream",
     "text": [
      "82/82 [==============================] - 1s 8ms/step - loss: 8.6569e-04 - mae: 0.0233 - mse: 8.6569e-04 - val_loss: 8.8258e-04 - val_mae: 0.0262 - val_mse: 8.8258e-04\n",
      "Epoch 34/100\n",
      "75/82 [==========================>...] - ETA: 0s - loss: 8.9161e-04 - mae: 0.0235 - mse: 8.9161e-04"
     ]
    },
    {
     "name": "stderr",
     "output_type": "stream",
     "text": [
      "WARNING:tensorflow:Can save best model only with val_mean_squared_error available, skipping.\n"
     ]
    },
    {
     "name": "stdout",
     "output_type": "stream",
     "text": [
      "82/82 [==============================] - 1s 8ms/step - loss: 8.8103e-04 - mae: 0.0234 - mse: 8.8103e-04 - val_loss: 0.0017 - val_mae: 0.0366 - val_mse: 0.0017\n",
      "Epoch 35/100\n",
      "78/82 [===========================>..] - ETA: 0s - loss: 8.6954e-04 - mae: 0.0234 - mse: 8.6954e-04"
     ]
    },
    {
     "name": "stderr",
     "output_type": "stream",
     "text": [
      "WARNING:tensorflow:Can save best model only with val_mean_squared_error available, skipping.\n"
     ]
    },
    {
     "name": "stdout",
     "output_type": "stream",
     "text": [
      "82/82 [==============================] - 1s 8ms/step - loss: 8.6317e-04 - mae: 0.0233 - mse: 8.6317e-04 - val_loss: 0.0015 - val_mae: 0.0337 - val_mse: 0.0015\n",
      "Epoch 36/100\n",
      "78/82 [===========================>..] - ETA: 0s - loss: 8.6925e-04 - mae: 0.0233 - mse: 8.6925e-04"
     ]
    },
    {
     "name": "stderr",
     "output_type": "stream",
     "text": [
      "WARNING:tensorflow:Can save best model only with val_mean_squared_error available, skipping.\n"
     ]
    },
    {
     "name": "stdout",
     "output_type": "stream",
     "text": [
      "82/82 [==============================] - 1s 8ms/step - loss: 8.7734e-04 - mae: 0.0234 - mse: 8.7734e-04 - val_loss: 0.0016 - val_mae: 0.0345 - val_mse: 0.0016\n",
      "Epoch 37/100\n",
      "79/82 [===========================>..] - ETA: 0s - loss: 8.6522e-04 - mae: 0.0231 - mse: 8.6522e-04"
     ]
    },
    {
     "name": "stderr",
     "output_type": "stream",
     "text": [
      "WARNING:tensorflow:Can save best model only with val_mean_squared_error available, skipping.\n"
     ]
    },
    {
     "name": "stdout",
     "output_type": "stream",
     "text": [
      "82/82 [==============================] - 1s 7ms/step - loss: 8.5916e-04 - mae: 0.0230 - mse: 8.5916e-04 - val_loss: 0.0019 - val_mae: 0.0389 - val_mse: 0.0019\n",
      "Epoch 38/100\n",
      "79/82 [===========================>..] - ETA: 0s - loss: 8.1913e-04 - mae: 0.0226 - mse: 8.1913e-04"
     ]
    },
    {
     "name": "stderr",
     "output_type": "stream",
     "text": [
      "WARNING:tensorflow:Can save best model only with val_mean_squared_error available, skipping.\n"
     ]
    },
    {
     "name": "stdout",
     "output_type": "stream",
     "text": [
      "82/82 [==============================] - 1s 8ms/step - loss: 8.2050e-04 - mae: 0.0226 - mse: 8.2050e-04 - val_loss: 0.0024 - val_mae: 0.0429 - val_mse: 0.0024\n",
      "Epoch 39/100\n",
      "77/82 [===========================>..] - ETA: 0s - loss: 8.9011e-04 - mae: 0.0235 - mse: 8.9011e-04"
     ]
    },
    {
     "name": "stderr",
     "output_type": "stream",
     "text": [
      "WARNING:tensorflow:Can save best model only with val_mean_squared_error available, skipping.\n"
     ]
    },
    {
     "name": "stdout",
     "output_type": "stream",
     "text": [
      "82/82 [==============================] - 1s 8ms/step - loss: 8.8646e-04 - mae: 0.0234 - mse: 8.8646e-04 - val_loss: 0.0010 - val_mae: 0.0273 - val_mse: 0.0010\n",
      "Epoch 40/100\n",
      "80/82 [============================>.] - ETA: 0s - loss: 8.1567e-04 - mae: 0.0225 - mse: 8.1567e-04"
     ]
    },
    {
     "name": "stderr",
     "output_type": "stream",
     "text": [
      "WARNING:tensorflow:Can save best model only with val_mean_squared_error available, skipping.\n"
     ]
    },
    {
     "name": "stdout",
     "output_type": "stream",
     "text": [
      "82/82 [==============================] - 1s 7ms/step - loss: 8.2529e-04 - mae: 0.0226 - mse: 8.2529e-04 - val_loss: 9.0090e-04 - val_mae: 0.0257 - val_mse: 9.0090e-04\n",
      "Epoch 41/100\n",
      "78/82 [===========================>..] - ETA: 0s - loss: 8.2170e-04 - mae: 0.0227 - mse: 8.2170e-04"
     ]
    },
    {
     "name": "stderr",
     "output_type": "stream",
     "text": [
      "WARNING:tensorflow:Can save best model only with val_mean_squared_error available, skipping.\n"
     ]
    },
    {
     "name": "stdout",
     "output_type": "stream",
     "text": [
      "82/82 [==============================] - 1s 8ms/step - loss: 8.2505e-04 - mae: 0.0227 - mse: 8.2505e-04 - val_loss: 0.0015 - val_mae: 0.0340 - val_mse: 0.0015\n",
      "Epoch 42/100\n",
      "79/82 [===========================>..] - ETA: 0s - loss: 8.8161e-04 - mae: 0.0234 - mse: 8.8161e-04"
     ]
    },
    {
     "name": "stderr",
     "output_type": "stream",
     "text": [
      "WARNING:tensorflow:Can save best model only with val_mean_squared_error available, skipping.\n"
     ]
    },
    {
     "name": "stdout",
     "output_type": "stream",
     "text": [
      "82/82 [==============================] - 1s 8ms/step - loss: 8.8317e-04 - mae: 0.0234 - mse: 8.8317e-04 - val_loss: 0.0023 - val_mae: 0.0420 - val_mse: 0.0023\n",
      "Epoch 43/100\n",
      "78/82 [===========================>..] - ETA: 0s - loss: 7.9644e-04 - mae: 0.0222 - mse: 7.9644e-04"
     ]
    },
    {
     "name": "stderr",
     "output_type": "stream",
     "text": [
      "WARNING:tensorflow:Can save best model only with val_mean_squared_error available, skipping.\n"
     ]
    },
    {
     "name": "stdout",
     "output_type": "stream",
     "text": [
      "82/82 [==============================] - 1s 8ms/step - loss: 7.9865e-04 - mae: 0.0222 - mse: 7.9865e-04 - val_loss: 0.0019 - val_mae: 0.0374 - val_mse: 0.0019\n",
      "Epoch 44/100\n",
      "80/82 [============================>.] - ETA: 0s - loss: 8.3594e-04 - mae: 0.0229 - mse: 8.3594e-04"
     ]
    },
    {
     "name": "stderr",
     "output_type": "stream",
     "text": [
      "WARNING:tensorflow:Can save best model only with val_mean_squared_error available, skipping.\n"
     ]
    },
    {
     "name": "stdout",
     "output_type": "stream",
     "text": [
      "82/82 [==============================] - 1s 8ms/step - loss: 8.3653e-04 - mae: 0.0230 - mse: 8.3653e-04 - val_loss: 0.0014 - val_mae: 0.0314 - val_mse: 0.0014\n",
      "Epoch 45/100\n",
      "78/82 [===========================>..] - ETA: 0s - loss: 8.4676e-04 - mae: 0.0230 - mse: 8.4676e-04"
     ]
    },
    {
     "name": "stderr",
     "output_type": "stream",
     "text": [
      "WARNING:tensorflow:Can save best model only with val_mean_squared_error available, skipping.\n"
     ]
    },
    {
     "name": "stdout",
     "output_type": "stream",
     "text": [
      "82/82 [==============================] - 1s 8ms/step - loss: 8.4346e-04 - mae: 0.0230 - mse: 8.4346e-04 - val_loss: 0.0022 - val_mae: 0.0403 - val_mse: 0.0022\n",
      "Epoch 46/100\n",
      "76/82 [==========================>...] - ETA: 0s - loss: 8.6709e-04 - mae: 0.0233 - mse: 8.6709e-04"
     ]
    },
    {
     "name": "stderr",
     "output_type": "stream",
     "text": [
      "WARNING:tensorflow:Can save best model only with val_mean_squared_error available, skipping.\n"
     ]
    },
    {
     "name": "stdout",
     "output_type": "stream",
     "text": [
      "82/82 [==============================] - 1s 8ms/step - loss: 8.7058e-04 - mae: 0.0234 - mse: 8.7058e-04 - val_loss: 0.0014 - val_mae: 0.0324 - val_mse: 0.0014\n",
      "Epoch 47/100\n",
      "78/82 [===========================>..] - ETA: 0s - loss: 8.0549e-04 - mae: 0.0225 - mse: 8.0549e-04"
     ]
    },
    {
     "name": "stderr",
     "output_type": "stream",
     "text": [
      "WARNING:tensorflow:Can save best model only with val_mean_squared_error available, skipping.\n"
     ]
    },
    {
     "name": "stdout",
     "output_type": "stream",
     "text": [
      "82/82 [==============================] - 1s 8ms/step - loss: 8.0564e-04 - mae: 0.0225 - mse: 8.0564e-04 - val_loss: 0.0022 - val_mae: 0.0412 - val_mse: 0.0022\n",
      "Epoch 48/100\n",
      "81/82 [============================>.] - ETA: 0s - loss: 7.9497e-04 - mae: 0.0223 - mse: 7.9497e-04"
     ]
    },
    {
     "name": "stderr",
     "output_type": "stream",
     "text": [
      "WARNING:tensorflow:Can save best model only with val_mean_squared_error available, skipping.\n"
     ]
    },
    {
     "name": "stdout",
     "output_type": "stream",
     "text": [
      "82/82 [==============================] - 1s 12ms/step - loss: 7.9345e-04 - mae: 0.0223 - mse: 7.9345e-04 - val_loss: 0.0013 - val_mae: 0.0308 - val_mse: 0.0013\n",
      "Epoch 49/100\n",
      "75/82 [==========================>...] - ETA: 0s - loss: 7.6691e-04 - mae: 0.0217 - mse: 7.6691e-04"
     ]
    },
    {
     "name": "stderr",
     "output_type": "stream",
     "text": [
      "WARNING:tensorflow:Can save best model only with val_mean_squared_error available, skipping.\n"
     ]
    },
    {
     "name": "stdout",
     "output_type": "stream",
     "text": [
      "82/82 [==============================] - 1s 10ms/step - loss: 7.7318e-04 - mae: 0.0218 - mse: 7.7318e-04 - val_loss: 0.0025 - val_mae: 0.0406 - val_mse: 0.0025\n",
      "Epoch 50/100\n",
      "79/82 [===========================>..] - ETA: 0s - loss: 7.4914e-04 - mae: 0.0219 - mse: 7.4914e-04"
     ]
    },
    {
     "name": "stderr",
     "output_type": "stream",
     "text": [
      "WARNING:tensorflow:Can save best model only with val_mean_squared_error available, skipping.\n"
     ]
    },
    {
     "name": "stdout",
     "output_type": "stream",
     "text": [
      "82/82 [==============================] - 1s 15ms/step - loss: 7.5190e-04 - mae: 0.0219 - mse: 7.5190e-04 - val_loss: 0.0017 - val_mae: 0.0349 - val_mse: 0.0017\n",
      "Epoch 51/100\n",
      "79/82 [===========================>..] - ETA: 0s - loss: 7.3896e-04 - mae: 0.0214 - mse: 7.3896e-04"
     ]
    },
    {
     "name": "stderr",
     "output_type": "stream",
     "text": [
      "WARNING:tensorflow:Can save best model only with val_mean_squared_error available, skipping.\n"
     ]
    },
    {
     "name": "stdout",
     "output_type": "stream",
     "text": [
      "82/82 [==============================] - 1s 14ms/step - loss: 7.3470e-04 - mae: 0.0214 - mse: 7.3470e-04 - val_loss: 0.0013 - val_mae: 0.0322 - val_mse: 0.0013\n",
      "Epoch 52/100\n",
      "78/82 [===========================>..] - ETA: 0s - loss: 7.3426e-04 - mae: 0.0213 - mse: 7.3426e-04"
     ]
    },
    {
     "name": "stderr",
     "output_type": "stream",
     "text": [
      "WARNING:tensorflow:Can save best model only with val_mean_squared_error available, skipping.\n"
     ]
    },
    {
     "name": "stdout",
     "output_type": "stream",
     "text": [
      "82/82 [==============================] - 1s 8ms/step - loss: 7.3169e-04 - mae: 0.0213 - mse: 7.3169e-04 - val_loss: 0.0019 - val_mae: 0.0360 - val_mse: 0.0019\n",
      "Epoch 53/100\n",
      "76/82 [==========================>...] - ETA: 0s - loss: 7.5426e-04 - mae: 0.0216 - mse: 7.5426e-04"
     ]
    },
    {
     "name": "stderr",
     "output_type": "stream",
     "text": [
      "WARNING:tensorflow:Can save best model only with val_mean_squared_error available, skipping.\n"
     ]
    },
    {
     "name": "stdout",
     "output_type": "stream",
     "text": [
      "82/82 [==============================] - 1s 8ms/step - loss: 7.5328e-04 - mae: 0.0216 - mse: 7.5328e-04 - val_loss: 0.0020 - val_mae: 0.0381 - val_mse: 0.0020\n",
      "Epoch 54/100\n",
      "78/82 [===========================>..] - ETA: 0s - loss: 7.3887e-04 - mae: 0.0214 - mse: 7.3887e-04"
     ]
    },
    {
     "name": "stderr",
     "output_type": "stream",
     "text": [
      "WARNING:tensorflow:Can save best model only with val_mean_squared_error available, skipping.\n"
     ]
    },
    {
     "name": "stdout",
     "output_type": "stream",
     "text": [
      "82/82 [==============================] - 1s 8ms/step - loss: 7.3988e-04 - mae: 0.0215 - mse: 7.3988e-04 - val_loss: 0.0032 - val_mae: 0.0469 - val_mse: 0.0032\n",
      "Epoch 55/100\n",
      "77/82 [===========================>..] - ETA: 0s - loss: 7.5291e-04 - mae: 0.0217 - mse: 7.5291e-04"
     ]
    },
    {
     "name": "stderr",
     "output_type": "stream",
     "text": [
      "WARNING:tensorflow:Can save best model only with val_mean_squared_error available, skipping.\n"
     ]
    },
    {
     "name": "stdout",
     "output_type": "stream",
     "text": [
      "82/82 [==============================] - 1s 8ms/step - loss: 7.5607e-04 - mae: 0.0217 - mse: 7.5607e-04 - val_loss: 0.0021 - val_mae: 0.0392 - val_mse: 0.0021\n",
      "Epoch 56/100\n",
      "77/82 [===========================>..] - ETA: 0s - loss: 7.2913e-04 - mae: 0.0214 - mse: 7.2913e-04"
     ]
    },
    {
     "name": "stderr",
     "output_type": "stream",
     "text": [
      "WARNING:tensorflow:Can save best model only with val_mean_squared_error available, skipping.\n"
     ]
    },
    {
     "name": "stdout",
     "output_type": "stream",
     "text": [
      "82/82 [==============================] - 1s 8ms/step - loss: 7.3931e-04 - mae: 0.0215 - mse: 7.3931e-04 - val_loss: 0.0023 - val_mae: 0.0416 - val_mse: 0.0023\n",
      "Epoch 57/100\n",
      "82/82 [==============================] - ETA: 0s - loss: 7.2857e-04 - mae: 0.0213 - mse: 7.2857e-04"
     ]
    },
    {
     "name": "stderr",
     "output_type": "stream",
     "text": [
      "WARNING:tensorflow:Can save best model only with val_mean_squared_error available, skipping.\n"
     ]
    },
    {
     "name": "stdout",
     "output_type": "stream",
     "text": [
      "82/82 [==============================] - 1s 8ms/step - loss: 7.2857e-04 - mae: 0.0213 - mse: 7.2857e-04 - val_loss: 0.0023 - val_mae: 0.0417 - val_mse: 0.0023\n",
      "Epoch 58/100\n",
      "81/82 [============================>.] - ETA: 0s - loss: 7.0646e-04 - mae: 0.0210 - mse: 7.0646e-04"
     ]
    },
    {
     "name": "stderr",
     "output_type": "stream",
     "text": [
      "WARNING:tensorflow:Can save best model only with val_mean_squared_error available, skipping.\n"
     ]
    },
    {
     "name": "stdout",
     "output_type": "stream",
     "text": [
      "82/82 [==============================] - 1s 8ms/step - loss: 7.0777e-04 - mae: 0.0210 - mse: 7.0777e-04 - val_loss: 0.0033 - val_mae: 0.0506 - val_mse: 0.0033\n",
      "Epoch 59/100\n",
      "76/82 [==========================>...] - ETA: 0s - loss: 7.2671e-04 - mae: 0.0214 - mse: 7.2671e-04"
     ]
    },
    {
     "name": "stderr",
     "output_type": "stream",
     "text": [
      "WARNING:tensorflow:Can save best model only with val_mean_squared_error available, skipping.\n"
     ]
    },
    {
     "name": "stdout",
     "output_type": "stream",
     "text": [
      "82/82 [==============================] - 1s 8ms/step - loss: 7.2699e-04 - mae: 0.0213 - mse: 7.2699e-04 - val_loss: 0.0022 - val_mae: 0.0412 - val_mse: 0.0022\n",
      "Epoch 60/100\n",
      "77/82 [===========================>..] - ETA: 0s - loss: 7.5159e-04 - mae: 0.0215 - mse: 7.5159e-04"
     ]
    },
    {
     "name": "stderr",
     "output_type": "stream",
     "text": [
      "WARNING:tensorflow:Can save best model only with val_mean_squared_error available, skipping.\n"
     ]
    },
    {
     "name": "stdout",
     "output_type": "stream",
     "text": [
      "82/82 [==============================] - 1s 8ms/step - loss: 7.5378e-04 - mae: 0.0216 - mse: 7.5378e-04 - val_loss: 0.0021 - val_mae: 0.0415 - val_mse: 0.0021\n",
      "Epoch 61/100\n",
      "77/82 [===========================>..] - ETA: 0s - loss: 7.2272e-04 - mae: 0.0212 - mse: 7.2272e-04"
     ]
    },
    {
     "name": "stderr",
     "output_type": "stream",
     "text": [
      "WARNING:tensorflow:Can save best model only with val_mean_squared_error available, skipping.\n"
     ]
    },
    {
     "name": "stdout",
     "output_type": "stream",
     "text": [
      "82/82 [==============================] - 1s 8ms/step - loss: 7.1977e-04 - mae: 0.0211 - mse: 7.1977e-04 - val_loss: 0.0025 - val_mae: 0.0410 - val_mse: 0.0025\n",
      "Epoch 62/100\n",
      "76/82 [==========================>...] - ETA: 0s - loss: 7.0223e-04 - mae: 0.0208 - mse: 7.0223e-04"
     ]
    },
    {
     "name": "stderr",
     "output_type": "stream",
     "text": [
      "WARNING:tensorflow:Can save best model only with val_mean_squared_error available, skipping.\n"
     ]
    },
    {
     "name": "stdout",
     "output_type": "stream",
     "text": [
      "82/82 [==============================] - 1s 8ms/step - loss: 7.1167e-04 - mae: 0.0210 - mse: 7.1167e-04 - val_loss: 0.0020 - val_mae: 0.0375 - val_mse: 0.0020\n",
      "Epoch 63/100\n",
      "80/82 [============================>.] - ETA: 0s - loss: 6.9320e-04 - mae: 0.0209 - mse: 6.9320e-04"
     ]
    },
    {
     "name": "stderr",
     "output_type": "stream",
     "text": [
      "WARNING:tensorflow:Can save best model only with val_mean_squared_error available, skipping.\n"
     ]
    },
    {
     "name": "stdout",
     "output_type": "stream",
     "text": [
      "82/82 [==============================] - 1s 8ms/step - loss: 6.9718e-04 - mae: 0.0209 - mse: 6.9718e-04 - val_loss: 0.0020 - val_mae: 0.0371 - val_mse: 0.0020\n",
      "Epoch 64/100\n",
      "79/82 [===========================>..] - ETA: 0s - loss: 7.7612e-04 - mae: 0.0220 - mse: 7.7612e-04"
     ]
    },
    {
     "name": "stderr",
     "output_type": "stream",
     "text": [
      "WARNING:tensorflow:Can save best model only with val_mean_squared_error available, skipping.\n"
     ]
    },
    {
     "name": "stdout",
     "output_type": "stream",
     "text": [
      "82/82 [==============================] - 1s 8ms/step - loss: 7.6981e-04 - mae: 0.0219 - mse: 7.6981e-04 - val_loss: 0.0020 - val_mae: 0.0393 - val_mse: 0.0020\n",
      "Epoch 65/100\n",
      "80/82 [============================>.] - ETA: 0s - loss: 6.5473e-04 - mae: 0.0202 - mse: 6.5473e-04"
     ]
    },
    {
     "name": "stderr",
     "output_type": "stream",
     "text": [
      "WARNING:tensorflow:Can save best model only with val_mean_squared_error available, skipping.\n"
     ]
    },
    {
     "name": "stdout",
     "output_type": "stream",
     "text": [
      "82/82 [==============================] - 1s 8ms/step - loss: 6.5301e-04 - mae: 0.0202 - mse: 6.5301e-04 - val_loss: 0.0026 - val_mae: 0.0434 - val_mse: 0.0026\n",
      "Epoch 66/100\n",
      "82/82 [==============================] - ETA: 0s - loss: 7.4758e-04 - mae: 0.0214 - mse: 7.4758e-04"
     ]
    },
    {
     "name": "stderr",
     "output_type": "stream",
     "text": [
      "WARNING:tensorflow:Can save best model only with val_mean_squared_error available, skipping.\n"
     ]
    },
    {
     "name": "stdout",
     "output_type": "stream",
     "text": [
      "82/82 [==============================] - 1s 8ms/step - loss: 7.4758e-04 - mae: 0.0214 - mse: 7.4758e-04 - val_loss: 0.0025 - val_mae: 0.0442 - val_mse: 0.0025\n",
      "Epoch 67/100\n",
      "79/82 [===========================>..] - ETA: 0s - loss: 7.4219e-04 - mae: 0.0216 - mse: 7.4219e-04"
     ]
    },
    {
     "name": "stderr",
     "output_type": "stream",
     "text": [
      "WARNING:tensorflow:Can save best model only with val_mean_squared_error available, skipping.\n"
     ]
    },
    {
     "name": "stdout",
     "output_type": "stream",
     "text": [
      "82/82 [==============================] - 1s 8ms/step - loss: 7.3867e-04 - mae: 0.0216 - mse: 7.3867e-04 - val_loss: 0.0022 - val_mae: 0.0391 - val_mse: 0.0022\n",
      "Epoch 68/100\n",
      "79/82 [===========================>..] - ETA: 0s - loss: 7.4863e-04 - mae: 0.0217 - mse: 7.4863e-04"
     ]
    },
    {
     "name": "stderr",
     "output_type": "stream",
     "text": [
      "WARNING:tensorflow:Can save best model only with val_mean_squared_error available, skipping.\n"
     ]
    },
    {
     "name": "stdout",
     "output_type": "stream",
     "text": [
      "82/82 [==============================] - 1s 8ms/step - loss: 7.4715e-04 - mae: 0.0217 - mse: 7.4715e-04 - val_loss: 0.0026 - val_mae: 0.0420 - val_mse: 0.0026\n",
      "Epoch 69/100\n",
      "79/82 [===========================>..] - ETA: 0s - loss: 6.7864e-04 - mae: 0.0204 - mse: 6.7864e-04"
     ]
    },
    {
     "name": "stderr",
     "output_type": "stream",
     "text": [
      "WARNING:tensorflow:Can save best model only with val_mean_squared_error available, skipping.\n"
     ]
    },
    {
     "name": "stdout",
     "output_type": "stream",
     "text": [
      "82/82 [==============================] - 1s 8ms/step - loss: 6.7948e-04 - mae: 0.0205 - mse: 6.7948e-04 - val_loss: 0.0024 - val_mae: 0.0419 - val_mse: 0.0024\n",
      "Epoch 70/100\n",
      "78/82 [===========================>..] - ETA: 0s - loss: 7.6874e-04 - mae: 0.0221 - mse: 7.6874e-04"
     ]
    },
    {
     "name": "stderr",
     "output_type": "stream",
     "text": [
      "WARNING:tensorflow:Can save best model only with val_mean_squared_error available, skipping.\n"
     ]
    },
    {
     "name": "stdout",
     "output_type": "stream",
     "text": [
      "82/82 [==============================] - 1s 8ms/step - loss: 7.6888e-04 - mae: 0.0221 - mse: 7.6888e-04 - val_loss: 0.0032 - val_mae: 0.0487 - val_mse: 0.0032\n",
      "Epoch 71/100\n",
      "76/82 [==========================>...] - ETA: 0s - loss: 6.6657e-04 - mae: 0.0205 - mse: 6.6657e-04"
     ]
    },
    {
     "name": "stderr",
     "output_type": "stream",
     "text": [
      "WARNING:tensorflow:Can save best model only with val_mean_squared_error available, skipping.\n"
     ]
    },
    {
     "name": "stdout",
     "output_type": "stream",
     "text": [
      "82/82 [==============================] - 1s 8ms/step - loss: 6.5917e-04 - mae: 0.0204 - mse: 6.5917e-04 - val_loss: 0.0017 - val_mae: 0.0361 - val_mse: 0.0017\n",
      "Epoch 72/100\n",
      "77/82 [===========================>..] - ETA: 0s - loss: 6.4675e-04 - mae: 0.0201 - mse: 6.4675e-04"
     ]
    },
    {
     "name": "stderr",
     "output_type": "stream",
     "text": [
      "WARNING:tensorflow:Can save best model only with val_mean_squared_error available, skipping.\n"
     ]
    },
    {
     "name": "stdout",
     "output_type": "stream",
     "text": [
      "82/82 [==============================] - 1s 8ms/step - loss: 6.4205e-04 - mae: 0.0200 - mse: 6.4205e-04 - val_loss: 0.0023 - val_mae: 0.0410 - val_mse: 0.0023\n",
      "Epoch 73/100\n",
      "76/82 [==========================>...] - ETA: 0s - loss: 6.8210e-04 - mae: 0.0206 - mse: 6.8210e-04"
     ]
    },
    {
     "name": "stderr",
     "output_type": "stream",
     "text": [
      "WARNING:tensorflow:Can save best model only with val_mean_squared_error available, skipping.\n"
     ]
    },
    {
     "name": "stdout",
     "output_type": "stream",
     "text": [
      "82/82 [==============================] - 1s 8ms/step - loss: 6.8861e-04 - mae: 0.0206 - mse: 6.8861e-04 - val_loss: 0.0031 - val_mae: 0.0495 - val_mse: 0.0031\n",
      "Epoch 74/100\n",
      "76/82 [==========================>...] - ETA: 0s - loss: 6.8061e-04 - mae: 0.0205 - mse: 6.8061e-04"
     ]
    },
    {
     "name": "stderr",
     "output_type": "stream",
     "text": [
      "WARNING:tensorflow:Can save best model only with val_mean_squared_error available, skipping.\n"
     ]
    },
    {
     "name": "stdout",
     "output_type": "stream",
     "text": [
      "82/82 [==============================] - 1s 8ms/step - loss: 6.7540e-04 - mae: 0.0204 - mse: 6.7540e-04 - val_loss: 0.0023 - val_mae: 0.0405 - val_mse: 0.0023\n",
      "Epoch 75/100\n",
      "76/82 [==========================>...] - ETA: 0s - loss: 6.1956e-04 - mae: 0.0197 - mse: 6.1956e-04"
     ]
    },
    {
     "name": "stderr",
     "output_type": "stream",
     "text": [
      "WARNING:tensorflow:Can save best model only with val_mean_squared_error available, skipping.\n"
     ]
    },
    {
     "name": "stdout",
     "output_type": "stream",
     "text": [
      "82/82 [==============================] - 1s 8ms/step - loss: 6.2581e-04 - mae: 0.0198 - mse: 6.2581e-04 - val_loss: 0.0020 - val_mae: 0.0381 - val_mse: 0.0020\n",
      "Epoch 76/100\n",
      "82/82 [==============================] - ETA: 0s - loss: 6.6049e-04 - mae: 0.0204 - mse: 6.6049e-04"
     ]
    },
    {
     "name": "stderr",
     "output_type": "stream",
     "text": [
      "WARNING:tensorflow:Can save best model only with val_mean_squared_error available, skipping.\n"
     ]
    },
    {
     "name": "stdout",
     "output_type": "stream",
     "text": [
      "82/82 [==============================] - 1s 8ms/step - loss: 6.6049e-04 - mae: 0.0204 - mse: 6.6049e-04 - val_loss: 0.0028 - val_mae: 0.0436 - val_mse: 0.0028\n",
      "Epoch 77/100\n",
      "76/82 [==========================>...] - ETA: 0s - loss: 6.4804e-04 - mae: 0.0201 - mse: 6.4804e-04"
     ]
    },
    {
     "name": "stderr",
     "output_type": "stream",
     "text": [
      "WARNING:tensorflow:Can save best model only with val_mean_squared_error available, skipping.\n"
     ]
    },
    {
     "name": "stdout",
     "output_type": "stream",
     "text": [
      "82/82 [==============================] - 1s 8ms/step - loss: 6.5631e-04 - mae: 0.0202 - mse: 6.5631e-04 - val_loss: 0.0024 - val_mae: 0.0410 - val_mse: 0.0024\n",
      "Epoch 78/100\n",
      "78/82 [===========================>..] - ETA: 0s - loss: 6.4768e-04 - mae: 0.0201 - mse: 6.4768e-04"
     ]
    },
    {
     "name": "stderr",
     "output_type": "stream",
     "text": [
      "WARNING:tensorflow:Can save best model only with val_mean_squared_error available, skipping.\n"
     ]
    },
    {
     "name": "stdout",
     "output_type": "stream",
     "text": [
      "82/82 [==============================] - 1s 8ms/step - loss: 6.5092e-04 - mae: 0.0201 - mse: 6.5092e-04 - val_loss: 0.0022 - val_mae: 0.0404 - val_mse: 0.0022\n",
      "Epoch 79/100\n",
      "78/82 [===========================>..] - ETA: 0s - loss: 6.1011e-04 - mae: 0.0195 - mse: 6.1011e-04"
     ]
    },
    {
     "name": "stderr",
     "output_type": "stream",
     "text": [
      "WARNING:tensorflow:Can save best model only with val_mean_squared_error available, skipping.\n"
     ]
    },
    {
     "name": "stdout",
     "output_type": "stream",
     "text": [
      "82/82 [==============================] - 1s 9ms/step - loss: 6.1317e-04 - mae: 0.0196 - mse: 6.1317e-04 - val_loss: 0.0024 - val_mae: 0.0428 - val_mse: 0.0024\n",
      "Epoch 80/100\n",
      "79/82 [===========================>..] - ETA: 0s - loss: 6.5074e-04 - mae: 0.0203 - mse: 6.5074e-04"
     ]
    },
    {
     "name": "stderr",
     "output_type": "stream",
     "text": [
      "WARNING:tensorflow:Can save best model only with val_mean_squared_error available, skipping.\n"
     ]
    },
    {
     "name": "stdout",
     "output_type": "stream",
     "text": [
      "82/82 [==============================] - 1s 8ms/step - loss: 6.5357e-04 - mae: 0.0203 - mse: 6.5357e-04 - val_loss: 0.0037 - val_mae: 0.0516 - val_mse: 0.0037\n",
      "Epoch 81/100\n",
      "78/82 [===========================>..] - ETA: 0s - loss: 7.1036e-04 - mae: 0.0210 - mse: 7.1036e-04"
     ]
    },
    {
     "name": "stderr",
     "output_type": "stream",
     "text": [
      "WARNING:tensorflow:Can save best model only with val_mean_squared_error available, skipping.\n"
     ]
    },
    {
     "name": "stdout",
     "output_type": "stream",
     "text": [
      "82/82 [==============================] - 1s 8ms/step - loss: 7.0868e-04 - mae: 0.0210 - mse: 7.0868e-04 - val_loss: 0.0021 - val_mae: 0.0395 - val_mse: 0.0021\n",
      "Epoch 82/100\n",
      "77/82 [===========================>..] - ETA: 0s - loss: 6.3523e-04 - mae: 0.0199 - mse: 6.3523e-04"
     ]
    },
    {
     "name": "stderr",
     "output_type": "stream",
     "text": [
      "WARNING:tensorflow:Can save best model only with val_mean_squared_error available, skipping.\n"
     ]
    },
    {
     "name": "stdout",
     "output_type": "stream",
     "text": [
      "82/82 [==============================] - 1s 8ms/step - loss: 6.3264e-04 - mae: 0.0198 - mse: 6.3264e-04 - val_loss: 0.0026 - val_mae: 0.0431 - val_mse: 0.0026\n",
      "Epoch 83/100\n",
      "82/82 [==============================] - ETA: 0s - loss: 6.3966e-04 - mae: 0.0200 - mse: 6.3966e-04"
     ]
    },
    {
     "name": "stderr",
     "output_type": "stream",
     "text": [
      "WARNING:tensorflow:Can save best model only with val_mean_squared_error available, skipping.\n"
     ]
    },
    {
     "name": "stdout",
     "output_type": "stream",
     "text": [
      "82/82 [==============================] - 1s 8ms/step - loss: 6.3966e-04 - mae: 0.0200 - mse: 6.3966e-04 - val_loss: 0.0029 - val_mae: 0.0467 - val_mse: 0.0029\n",
      "Epoch 84/100\n",
      "79/82 [===========================>..] - ETA: 0s - loss: 6.5881e-04 - mae: 0.0203 - mse: 6.5881e-04"
     ]
    },
    {
     "name": "stderr",
     "output_type": "stream",
     "text": [
      "WARNING:tensorflow:Can save best model only with val_mean_squared_error available, skipping.\n"
     ]
    },
    {
     "name": "stdout",
     "output_type": "stream",
     "text": [
      "82/82 [==============================] - 1s 8ms/step - loss: 6.5829e-04 - mae: 0.0203 - mse: 6.5829e-04 - val_loss: 0.0022 - val_mae: 0.0398 - val_mse: 0.0022\n",
      "Epoch 85/100\n",
      "76/82 [==========================>...] - ETA: 0s - loss: 6.0222e-04 - mae: 0.0195 - mse: 6.0222e-04"
     ]
    },
    {
     "name": "stderr",
     "output_type": "stream",
     "text": [
      "WARNING:tensorflow:Can save best model only with val_mean_squared_error available, skipping.\n"
     ]
    },
    {
     "name": "stdout",
     "output_type": "stream",
     "text": [
      "82/82 [==============================] - 1s 8ms/step - loss: 5.9928e-04 - mae: 0.0195 - mse: 5.9928e-04 - val_loss: 0.0024 - val_mae: 0.0424 - val_mse: 0.0024\n",
      "Epoch 86/100\n",
      "78/82 [===========================>..] - ETA: 0s - loss: 6.1708e-04 - mae: 0.0196 - mse: 6.1708e-04"
     ]
    },
    {
     "name": "stderr",
     "output_type": "stream",
     "text": [
      "WARNING:tensorflow:Can save best model only with val_mean_squared_error available, skipping.\n"
     ]
    },
    {
     "name": "stdout",
     "output_type": "stream",
     "text": [
      "82/82 [==============================] - 1s 8ms/step - loss: 6.1771e-04 - mae: 0.0196 - mse: 6.1771e-04 - val_loss: 0.0021 - val_mae: 0.0406 - val_mse: 0.0021\n",
      "Epoch 87/100\n",
      "82/82 [==============================] - ETA: 0s - loss: 6.1783e-04 - mae: 0.0197 - mse: 6.1783e-04"
     ]
    },
    {
     "name": "stderr",
     "output_type": "stream",
     "text": [
      "WARNING:tensorflow:Can save best model only with val_mean_squared_error available, skipping.\n"
     ]
    },
    {
     "name": "stdout",
     "output_type": "stream",
     "text": [
      "82/82 [==============================] - 1s 8ms/step - loss: 6.1783e-04 - mae: 0.0197 - mse: 6.1783e-04 - val_loss: 0.0022 - val_mae: 0.0396 - val_mse: 0.0022\n",
      "Epoch 88/100\n",
      "81/82 [============================>.] - ETA: 0s - loss: 6.0164e-04 - mae: 0.0193 - mse: 6.0164e-04"
     ]
    },
    {
     "name": "stderr",
     "output_type": "stream",
     "text": [
      "WARNING:tensorflow:Can save best model only with val_mean_squared_error available, skipping.\n"
     ]
    },
    {
     "name": "stdout",
     "output_type": "stream",
     "text": [
      "82/82 [==============================] - 1s 8ms/step - loss: 6.0394e-04 - mae: 0.0193 - mse: 6.0394e-04 - val_loss: 0.0025 - val_mae: 0.0422 - val_mse: 0.0025\n",
      "Epoch 89/100\n",
      "81/82 [============================>.] - ETA: 0s - loss: 6.0802e-04 - mae: 0.0196 - mse: 6.0802e-04"
     ]
    },
    {
     "name": "stderr",
     "output_type": "stream",
     "text": [
      "WARNING:tensorflow:Can save best model only with val_mean_squared_error available, skipping.\n"
     ]
    },
    {
     "name": "stdout",
     "output_type": "stream",
     "text": [
      "82/82 [==============================] - 1s 8ms/step - loss: 6.0740e-04 - mae: 0.0196 - mse: 6.0740e-04 - val_loss: 0.0027 - val_mae: 0.0426 - val_mse: 0.0027\n",
      "Epoch 90/100\n",
      "81/82 [============================>.] - ETA: 0s - loss: 6.1818e-04 - mae: 0.0196 - mse: 6.1818e-04"
     ]
    },
    {
     "name": "stderr",
     "output_type": "stream",
     "text": [
      "WARNING:tensorflow:Can save best model only with val_mean_squared_error available, skipping.\n"
     ]
    },
    {
     "name": "stdout",
     "output_type": "stream",
     "text": [
      "82/82 [==============================] - 1s 8ms/step - loss: 6.1761e-04 - mae: 0.0196 - mse: 6.1761e-04 - val_loss: 0.0028 - val_mae: 0.0453 - val_mse: 0.0028\n",
      "Epoch 91/100\n",
      "77/82 [===========================>..] - ETA: 0s - loss: 5.9564e-04 - mae: 0.0193 - mse: 5.9564e-04"
     ]
    },
    {
     "name": "stderr",
     "output_type": "stream",
     "text": [
      "WARNING:tensorflow:Can save best model only with val_mean_squared_error available, skipping.\n"
     ]
    },
    {
     "name": "stdout",
     "output_type": "stream",
     "text": [
      "82/82 [==============================] - 1s 8ms/step - loss: 5.9551e-04 - mae: 0.0193 - mse: 5.9551e-04 - val_loss: 0.0021 - val_mae: 0.0387 - val_mse: 0.0021\n",
      "Epoch 92/100\n",
      "78/82 [===========================>..] - ETA: 0s - loss: 5.6639e-04 - mae: 0.0188 - mse: 5.6639e-04"
     ]
    },
    {
     "name": "stderr",
     "output_type": "stream",
     "text": [
      "WARNING:tensorflow:Can save best model only with val_mean_squared_error available, skipping.\n"
     ]
    },
    {
     "name": "stdout",
     "output_type": "stream",
     "text": [
      "82/82 [==============================] - 1s 8ms/step - loss: 5.7326e-04 - mae: 0.0189 - mse: 5.7326e-04 - val_loss: 0.0022 - val_mae: 0.0389 - val_mse: 0.0022\n",
      "Epoch 93/100\n",
      "76/82 [==========================>...] - ETA: 0s - loss: 5.9254e-04 - mae: 0.0192 - mse: 5.9254e-04"
     ]
    },
    {
     "name": "stderr",
     "output_type": "stream",
     "text": [
      "WARNING:tensorflow:Can save best model only with val_mean_squared_error available, skipping.\n"
     ]
    },
    {
     "name": "stdout",
     "output_type": "stream",
     "text": [
      "82/82 [==============================] - 1s 8ms/step - loss: 5.9781e-04 - mae: 0.0194 - mse: 5.9781e-04 - val_loss: 0.0020 - val_mae: 0.0402 - val_mse: 0.0020\n",
      "Epoch 94/100\n",
      "81/82 [============================>.] - ETA: 0s - loss: 5.4607e-04 - mae: 0.0185 - mse: 5.4607e-04"
     ]
    },
    {
     "name": "stderr",
     "output_type": "stream",
     "text": [
      "WARNING:tensorflow:Can save best model only with val_mean_squared_error available, skipping.\n"
     ]
    },
    {
     "name": "stdout",
     "output_type": "stream",
     "text": [
      "82/82 [==============================] - 1s 8ms/step - loss: 5.4693e-04 - mae: 0.0186 - mse: 5.4693e-04 - val_loss: 0.0028 - val_mae: 0.0443 - val_mse: 0.0028\n",
      "Epoch 95/100\n",
      "76/82 [==========================>...] - ETA: 0s - loss: 6.2418e-04 - mae: 0.0197 - mse: 6.2418e-04"
     ]
    },
    {
     "name": "stderr",
     "output_type": "stream",
     "text": [
      "WARNING:tensorflow:Can save best model only with val_mean_squared_error available, skipping.\n"
     ]
    },
    {
     "name": "stdout",
     "output_type": "stream",
     "text": [
      "82/82 [==============================] - 1s 8ms/step - loss: 6.2715e-04 - mae: 0.0197 - mse: 6.2715e-04 - val_loss: 0.0026 - val_mae: 0.0435 - val_mse: 0.0026\n",
      "Epoch 96/100\n",
      "82/82 [==============================] - ETA: 0s - loss: 5.8355e-04 - mae: 0.0191 - mse: 5.8355e-04"
     ]
    },
    {
     "name": "stderr",
     "output_type": "stream",
     "text": [
      "WARNING:tensorflow:Can save best model only with val_mean_squared_error available, skipping.\n"
     ]
    },
    {
     "name": "stdout",
     "output_type": "stream",
     "text": [
      "82/82 [==============================] - 1s 8ms/step - loss: 5.8355e-04 - mae: 0.0191 - mse: 5.8355e-04 - val_loss: 0.0024 - val_mae: 0.0411 - val_mse: 0.0024\n",
      "Epoch 97/100\n",
      "77/82 [===========================>..] - ETA: 0s - loss: 5.2529e-04 - mae: 0.0182 - mse: 5.2529e-04"
     ]
    },
    {
     "name": "stderr",
     "output_type": "stream",
     "text": [
      "WARNING:tensorflow:Can save best model only with val_mean_squared_error available, skipping.\n"
     ]
    },
    {
     "name": "stdout",
     "output_type": "stream",
     "text": [
      "82/82 [==============================] - 1s 8ms/step - loss: 5.2965e-04 - mae: 0.0182 - mse: 5.2965e-04 - val_loss: 0.0029 - val_mae: 0.0468 - val_mse: 0.0029\n",
      "Epoch 98/100\n",
      "78/82 [===========================>..] - ETA: 0s - loss: 5.9577e-04 - mae: 0.0193 - mse: 5.9577e-04"
     ]
    },
    {
     "name": "stderr",
     "output_type": "stream",
     "text": [
      "WARNING:tensorflow:Can save best model only with val_mean_squared_error available, skipping.\n"
     ]
    },
    {
     "name": "stdout",
     "output_type": "stream",
     "text": [
      "82/82 [==============================] - 1s 8ms/step - loss: 5.9452e-04 - mae: 0.0193 - mse: 5.9452e-04 - val_loss: 0.0024 - val_mae: 0.0419 - val_mse: 0.0024\n",
      "Epoch 99/100\n",
      "78/82 [===========================>..] - ETA: 0s - loss: 5.4298e-04 - mae: 0.0186 - mse: 5.4298e-04"
     ]
    },
    {
     "name": "stderr",
     "output_type": "stream",
     "text": [
      "WARNING:tensorflow:Can save best model only with val_mean_squared_error available, skipping.\n"
     ]
    },
    {
     "name": "stdout",
     "output_type": "stream",
     "text": [
      "82/82 [==============================] - 1s 8ms/step - loss: 5.4254e-04 - mae: 0.0186 - mse: 5.4254e-04 - val_loss: 0.0029 - val_mae: 0.0438 - val_mse: 0.0029\n",
      "Epoch 100/100\n",
      "78/82 [===========================>..] - ETA: 0s - loss: 5.8553e-04 - mae: 0.0191 - mse: 5.8553e-04"
     ]
    },
    {
     "name": "stderr",
     "output_type": "stream",
     "text": [
      "WARNING:tensorflow:Can save best model only with val_mean_squared_error available, skipping.\n"
     ]
    },
    {
     "name": "stdout",
     "output_type": "stream",
     "text": [
      "82/82 [==============================] - 1s 8ms/step - loss: 5.8153e-04 - mae: 0.0190 - mse: 5.8153e-04 - val_loss: 0.0027 - val_mae: 0.0440 - val_mse: 0.0027\n"
     ]
    }
   ],
   "source": [
    "from keras.callbacks import ModelCheckpoint\n",
    "checkpoint = ModelCheckpoint(\"weights.best.hdf5\", monitor='val_mean_squared_error', verbose=1, save_best_only=True, mode='min')\n",
    "\n",
    "callbacks_list = [checkpoint]\n",
    "history = model.fit(X_train, y_train, epochs=100, batch_size=64, verbose=1, callbacks=callbacks_list, validation_split=0.1)"
   ]
  },
  {
   "cell_type": "code",
   "execution_count": 11,
   "id": "520a7400",
   "metadata": {
    "colab": {
     "base_uri": "https://localhost:8080/",
     "height": 851
    },
    "executionInfo": {
     "elapsed": 482,
     "status": "ok",
     "timestamp": 1670205687517,
     "user": {
      "displayName": "Emam Hossain",
      "userId": "00475912484380842878"
     },
     "user_tz": 300
    },
    "id": "520a7400",
    "outputId": "a60cead1-42b3-4afc-c4d0-c62e75a7dae6"
   },
   "outputs": [
    {
     "data": {
      "image/png": "[encoded data removed]",
      "text/plain": [
       "<Figure size 432x288 with 1 Axes>"
      ]
     },
     "metadata": {
      "needs_background": "light"
     },
     "output_type": "display_data"
    },
    {
     "data": {
      "image/png": "[encoded data removed]",
      "text/plain": [
       "<Figure size 432x288 with 1 Axes>"
      ]
     },
     "metadata": {
      "needs_background": "light"
     },
     "output_type": "display_data"
    },
    {
     "data": {
      "image/png": "[encoded data removed]",
      "text/plain": [
       "<Figure size 432x288 with 1 Axes>"
      ]
     },
     "metadata": {
      "needs_background": "light"
     },
     "output_type": "display_data"
    }
   ],
   "source": [
    "plt.plot(history.history['mse'])\n",
    "plt.plot(history.history['val_mse'])\n",
    "plt.title('Mean Squared Error of SIE Prediction')\n",
    "plt.ylabel('MSE')\n",
    "plt.xlabel('Epoch')\n",
    "plt.legend(['train', 'validation'], loc='upper right')\n",
    "plt.show()\n",
    "\n",
    "plt.plot(history.history['mae'])\n",
    "plt.plot(history.history['val_mae'])\n",
    "plt.title('Mean Absolute Error of SIE Prediction')\n",
    "plt.ylabel('MAE')\n",
    "plt.xlabel('Epoch')\n",
    "plt.legend(['train', 'validation'], loc='upper right')\n",
    "plt.show()\n",
    "\n",
    "plt.plot(history.history['loss'])\n",
    "plt.plot(history.history['val_loss'])\n",
    "plt.title('Loss of SIE Prediction')\n",
    "plt.ylabel('Loss')\n",
    "plt.xlabel('Epoch')\n",
    "plt.legend(['train', 'validation'], loc='upper right')\n",
    "plt.show()"
   ]
  },
  {
   "cell_type": "code",
   "execution_count": 12,
   "id": "733c794b",
   "metadata": {
    "colab": {
     "base_uri": "https://localhost:8080/"
    },
    "executionInfo": {
     "elapsed": 1171,
     "status": "ok",
     "timestamp": 1670205688687,
     "user": {
      "displayName": "Emam Hossain",
      "userId": "00475912484380842878"
     },
     "user_tz": 300
    },
    "id": "733c794b",
    "outputId": "cf8c2b8b-ae1d-4161-fc4c-c2e83a7e854c"
   },
   "outputs": [
    {
     "name": "stdout",
     "output_type": "stream",
     "text": [
      "46/46 [==============================] - 1s 5ms/step\n"
     ]
    }
   ],
   "source": [
    "from sklearn.metrics import mean_squared_error, mean_absolute_error, mean_absolute_percentage_error, r2_score\n",
    "from numpy import sqrt\n",
    "\n",
    "#model.load_weights(\"weights.best.hdf5\")\n",
    "\n",
    "cols = len(df.columns)\n",
    "pred = model.predict(X_test)\n",
    "\n",
    "predicted_dataset = dataset\n",
    "predicted_dataset[len(predicted_dataset)-len(pred):, cols-1] = pred[:, 0]\n",
    "scaled_predicted_dataset = scaler.inverse_transform(predicted_dataset)\n",
    "\n",
    "predicted_df = df.copy()\n",
    "predicted_df['sea_ice_extent'][len(predicted_dataset)-len(pred):] = scaled_predicted_dataset[len(predicted_dataset)-len(pred):, cols-1]\n",
    "\n",
    "predictions = pd.DataFrame()\n",
    "predictions['predicted'] = (predicted_df['sea_ice_extent'][len(predicted_dataset)-len(pred):])\n",
    "predictions['actual'] = (df['sea_ice_extent'][len(predicted_dataset)-len(pred):])\n",
    "predictions = predictions.astype(float)"
   ]
  },
  {
   "cell_type": "code",
   "execution_count": 13,
   "id": "3c545246",
   "metadata": {
    "colab": {
     "base_uri": "https://localhost:8080/",
     "height": 1000
    },
    "executionInfo": {
     "elapsed": 1402,
     "status": "ok",
     "timestamp": 1670205690087,
     "user": {
      "displayName": "Emam Hossain",
      "userId": "00475912484380842878"
     },
     "user_tz": 300
    },
    "id": "3c545246",
    "outputId": "de016c05-a93e-4ed4-937a-a6838a20e75b"
   },
   "outputs": [
    {
     "data": {
      "image/png": "[encoded data removed]",
      "text/plain": [
       "<Figure size 1152x432 with 1 Axes>"
      ]
     },
     "metadata": {
      "needs_background": "light"
     },
     "output_type": "display_data"
    },
    {
     "data": {
      "image/png": "[encoded data removed]",
      "text/plain": [
       "<Figure size 720x720 with 1 Axes>"
      ]
     },
     "metadata": {
      "needs_background": "light"
     },
     "output_type": "display_data"
    },
    {
     "name": "stdout",
     "output_type": "stream",
     "text": [
      "MSE :  404299614605.99414 (10⁶ km²)\n",
      "MSPE : 0.6427975676738652 %\n",
      "RMSE :  635845.5902229677 (10⁶ km²)\n",
      "RMSPE : 8.017465732224025 %\n",
      "MAE :  527471.3850792557 (10⁶ km²)\n",
      "MAPE :  5.555746066590932 %\n",
      "R2 :  0.9540113447503706\n"
     ]
    }
   ],
   "source": [
    "plt.figure(figsize = (16,6))\n",
    "ax = plt.axes()\n",
    "# ax.set_facecolor('#dcdcdc')\n",
    "\n",
    "plt.title('Arctic Sea Ice Extent Actual vs Prediction Curve for Test Data', fontsize = 20,fontweight = \"bold\")\n",
    "plt.xlabel('Time' , fontsize = 14,fontweight = \"bold\")\n",
    "plt.ylabel('Sea Ice Extent (10\\u2076 km\\u00b2)', fontsize = 14,fontweight = \"bold\")\n",
    "plt.plot(predictions['actual']/10**6, 'blue', label='Actual SIE')\n",
    "plt.plot(predictions['predicted']/10**6, 'red', label='Predicted SIE')\n",
    "plt.legend()\n",
    "plt.grid()\n",
    "plt.show\n",
    "\n",
    "predictions['diff'] = predictions['predicted'] - predictions['actual']\n",
    "plt.figure(figsize=(10,10))\n",
    "plt.xlabel('Difference between actual and predicted SIE (10\\u2076 km\\u00b2)')\n",
    "sns.histplot(predictions['diff'])\n",
    "plt.title('Distribution of differences between actual and predicted SIE')\n",
    "plt.show()\n",
    "\n",
    "mspe = (np.mean(np.square((predictions['actual'].values - predictions['predicted'].values) / predictions['actual'].values))) * 100\n",
    "rmspe = (np.sqrt(np.mean(np.square((predictions['actual'].values - predictions['predicted'].values) / predictions['actual'].values)))) * 100\n",
    "\n",
    "print(\"MSE : \", mean_squared_error(predictions['predicted'].values, predictions['actual'].values), \"(10\\u2076 km\\u00b2)\")\n",
    "print(\"MSPE :\", mspe, \"%\")\n",
    "print(\"RMSE : \", sqrt(mean_squared_error(predictions['predicted'].values, predictions['actual'].values)), \"(10\\u2076 km\\u00b2)\")\n",
    "print(\"RMSPE :\", rmspe, \"%\")\n",
    "print(\"MAE : \", mean_absolute_error(predictions['predicted'].values, predictions['actual'].values), \"(10\\u2076 km\\u00b2)\")\n",
    "print(\"MAPE : \", mean_absolute_percentage_error(predictions['predicted'].values, predictions['actual'].values)*100, \"%\")\n",
    "print(\"R2 : \", r2_score(predictions['predicted'].values, predictions['actual'].values))"
   ]
  },
  {
   "cell_type": "code",
   "execution_count": 14,
   "id": "3f3aaf6d",
   "metadata": {
    "executionInfo": {
     "elapsed": 4,
     "status": "ok",
     "timestamp": 1670205690088,
     "user": {
      "displayName": "Emam Hossain",
      "userId": "00475912484380842878"
     },
     "user_tz": 300
    },
    "id": "3f3aaf6d"
   },
   "outputs": [],
   "source": [
    "# while True:pass"
   ]
  }
 ],
 "metadata": {
  "accelerator": "GPU",
  "colab": {
   "provenance": [
    {
     "file_id": "1tsdSY4XF8dbRdNGZQhWw6nd--RLFP4EX",
     "timestamp": 1670202049252
    },
    {
     "file_id": "1L3ixnLeRDivuLSWCq04VtDKnU7YIw_C7",
     "timestamp": 1670201891016
    },
    {
     "file_id": "1VJInZTaupyMxQ6JprjJi2D6639FmXJ-t",
     "timestamp": 1670201115947
    },
    {
     "file_id": "1f-ct_NOq__M1QDGjYMyualvRlVNWtnum",
     "timestamp": 1670201096560
    },
    {
     "file_id": "1S71KBLYU9q_J7PpD1i3PdHnejHsyHk2A",
     "timestamp": 1670201029903
    },
    {
     "file_id": "1ZW2CDeL2Z4e4d7GVtf1CCEU8ioKr_ozr",
     "timestamp": 1670200993047
    },
    {
     "file_id": "11ezPDxEfETgGwyGSoqr5wscr_t65bvL6",
     "timestamp": 1669223899169
    },
    {
     "file_id": "https://github.com/ehfahad/SIE-Prediction-using-Causal-Deep-Learning/blob/main/Models/SIE%20Prediction%20(1-day%20lead)%20upto%202014%20with%20day%2C%20week%2C%20month.ipynb",
     "timestamp": 1666883273850
    }
   ]
  },
  "gpuClass": "standard",
  "kernelspec": {
   "display_name": "Python 3 (ipykernel)",
   "language": "python",
   "name": "python3"
  },
  "language_info": {
   "codemirror_mode": {
    "name": "ipython",
    "version": 3
   },
   "file_extension": ".py",
   "mimetype": "text/x-python",
   "name": "python",
   "nbconvert_exporter": "python",
   "pygments_lexer": "ipython3",
   "version": "3.8.15"
  },
  "varInspector": {
   "cols": {
    "lenName": 16,
    "lenType": 16,
    "lenVar": 40
   },
   "kernels_config": {
    "python": {
     "delete_cmd_postfix": "",
     "delete_cmd_prefix": "del ",
     "library": "var_list.py",
     "varRefreshCmd": "print(var_dic_list())"
    },
    "r": {
     "delete_cmd_postfix": ") ",
     "delete_cmd_prefix": "rm(",
     "library": "var_list.r",
     "varRefreshCmd": "cat(var_dic_list()) "
    }
   },
   "position": {
    "height": "417.844px",
    "left": "1538px",
    "right": "20px",
    "top": "131px",
    "width": "350px"
   },
   "types_to_exclude": [
    "module",
    "function",
    "builtin_function_or_method",
    "instance",
    "_Feature"
   ],
   "window_display": true
  }
 },
 "nbformat": 4,
 "nbformat_minor": 5
}
