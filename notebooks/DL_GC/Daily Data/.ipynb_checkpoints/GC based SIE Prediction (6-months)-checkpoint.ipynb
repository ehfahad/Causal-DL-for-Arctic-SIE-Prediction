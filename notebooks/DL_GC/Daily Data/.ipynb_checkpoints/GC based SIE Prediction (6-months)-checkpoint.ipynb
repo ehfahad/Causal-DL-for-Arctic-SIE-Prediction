{
 "cells": [
  {
   "cell_type": "code",
   "execution_count": 4,
   "id": "1507a9c1",
   "metadata": {
    "executionInfo": {
     "elapsed": 2703,
     "status": "ok",
     "timestamp": 1670209188345,
     "user": {
      "displayName": "Emam Hossain",
      "userId": "00475912484380842878"
     },
     "user_tz": 300
    },
    "id": "1507a9c1"
   },
   "outputs": [],
   "source": [
    "import numpy as np\n",
    "import pandas as pd\n",
    "import matplotlib.pyplot as plt\n",
    "import seaborn as sns\n",
    "from sklearn.preprocessing import MinMaxScaler"
   ]
  },
  {
   "cell_type": "code",
   "execution_count": 5,
   "id": "ZkC-CdqrYGLW",
   "metadata": {
    "executionInfo": {
     "elapsed": 8,
     "status": "ok",
     "timestamp": 1670209188345,
     "user": {
      "displayName": "Emam Hossain",
      "userId": "00475912484380842878"
     },
     "user_tz": 300
    },
    "id": "ZkC-CdqrYGLW"
   },
   "outputs": [],
   "source": [
    "# global variables\n",
    "\n",
    "look_back = 21\n",
    "lead_time = 180\n",
    "filename = '../../../data/Arctic_domain_mean_1979_2018 - Curated.csv'\n",
    "gc_features = ['wind_10m', 'specific_humidity', 'LW_down', 'SW_down', 'rainfall', 'snowfall', 'sosaline', 't2m', 'surface_pressure', 'sea_ice_extent']"
   ]
  },
  {
   "cell_type": "code",
   "execution_count": 6,
   "id": "zlPFdfw7F9-_",
   "metadata": {
    "colab": {
     "base_uri": "https://localhost:8080/",
     "height": 481
    },
    "executionInfo": {
     "elapsed": 17988,
     "status": "ok",
     "timestamp": 1670209206326,
     "user": {
      "displayName": "Emam Hossain",
      "userId": "00475912484380842878"
     },
     "user_tz": 300
    },
    "id": "zlPFdfw7F9-_",
    "outputId": "28fa0b9a-4508-4140-8430-b3bde2ba87ae"
   },
   "outputs": [
    {
     "data": {
      "text/html": [
       "<div>\n",
       "<style scoped>\n",
       "    .dataframe tbody tr th:only-of-type {\n",
       "        vertical-align: middle;\n",
       "    }\n",
       "\n",
       "    .dataframe tbody tr th {\n",
       "        vertical-align: top;\n",
       "    }\n",
       "\n",
       "    .dataframe thead th {\n",
       "        text-align: right;\n",
       "    }\n",
       "</style>\n",
       "<table border=\"1\" class=\"dataframe\">\n",
       "  <thead>\n",
       "    <tr style=\"text-align: right;\">\n",
       "      <th></th>\n",
       "      <th>Day</th>\n",
       "      <th>wind_10m</th>\n",
       "      <th>specific_humidity</th>\n",
       "      <th>LW_down</th>\n",
       "      <th>SW_down</th>\n",
       "      <th>rainfall</th>\n",
       "      <th>snowfall</th>\n",
       "      <th>sosaline</th>\n",
       "      <th>sst</th>\n",
       "      <th>t2m</th>\n",
       "      <th>surface_pressure</th>\n",
       "      <th>sea_ice_extent</th>\n",
       "    </tr>\n",
       "  </thead>\n",
       "  <tbody>\n",
       "    <tr>\n",
       "      <th>7305</th>\n",
       "      <td>1/1/1999</td>\n",
       "      <td>4.987515</td>\n",
       "      <td>0.891843</td>\n",
       "      <td>183.786092</td>\n",
       "      <td>1.120906</td>\n",
       "      <td>0.700735</td>\n",
       "      <td>0.501109</td>\n",
       "      <td>33.316996</td>\n",
       "      <td>273.467869</td>\n",
       "      <td>250.884060</td>\n",
       "      <td>985.112721</td>\n",
       "      <td>13823248</td>\n",
       "    </tr>\n",
       "    <tr>\n",
       "      <th>7306</th>\n",
       "      <td>1/2/1999</td>\n",
       "      <td>5.075952</td>\n",
       "      <td>0.905535</td>\n",
       "      <td>183.851814</td>\n",
       "      <td>1.193514</td>\n",
       "      <td>0.712730</td>\n",
       "      <td>0.482221</td>\n",
       "      <td>33.316996</td>\n",
       "      <td>273.453826</td>\n",
       "      <td>250.359328</td>\n",
       "      <td>984.092282</td>\n",
       "      <td>13885522</td>\n",
       "    </tr>\n",
       "    <tr>\n",
       "      <th>7307</th>\n",
       "      <td>1/3/1999</td>\n",
       "      <td>4.931520</td>\n",
       "      <td>0.911672</td>\n",
       "      <td>184.426913</td>\n",
       "      <td>1.263909</td>\n",
       "      <td>0.677339</td>\n",
       "      <td>0.480718</td>\n",
       "      <td>33.316996</td>\n",
       "      <td>273.454385</td>\n",
       "      <td>250.327500</td>\n",
       "      <td>982.300080</td>\n",
       "      <td>13884279</td>\n",
       "    </tr>\n",
       "    <tr>\n",
       "      <th>7308</th>\n",
       "      <td>1/4/1999</td>\n",
       "      <td>4.761644</td>\n",
       "      <td>0.911301</td>\n",
       "      <td>187.528326</td>\n",
       "      <td>1.269229</td>\n",
       "      <td>0.824016</td>\n",
       "      <td>0.697950</td>\n",
       "      <td>33.316996</td>\n",
       "      <td>273.459797</td>\n",
       "      <td>249.905730</td>\n",
       "      <td>983.250565</td>\n",
       "      <td>13912624</td>\n",
       "    </tr>\n",
       "    <tr>\n",
       "      <th>7309</th>\n",
       "      <td>1/5/1999</td>\n",
       "      <td>4.739850</td>\n",
       "      <td>0.901353</td>\n",
       "      <td>187.326709</td>\n",
       "      <td>1.552208</td>\n",
       "      <td>0.926681</td>\n",
       "      <td>0.835868</td>\n",
       "      <td>33.316996</td>\n",
       "      <td>273.463975</td>\n",
       "      <td>250.254873</td>\n",
       "      <td>984.247389</td>\n",
       "      <td>13890148</td>\n",
       "    </tr>\n",
       "  </tbody>\n",
       "</table>\n",
       "</div>"
      ],
      "text/plain": [
       "           Day  wind_10m  specific_humidity     LW_down   SW_down  rainfall  \\\n",
       "7305  1/1/1999  4.987515           0.891843  183.786092  1.120906  0.700735   \n",
       "7306  1/2/1999  5.075952           0.905535  183.851814  1.193514  0.712730   \n",
       "7307  1/3/1999  4.931520           0.911672  184.426913  1.263909  0.677339   \n",
       "7308  1/4/1999  4.761644           0.911301  187.528326  1.269229  0.824016   \n",
       "7309  1/5/1999  4.739850           0.901353  187.326709  1.552208  0.926681   \n",
       "\n",
       "      snowfall   sosaline         sst         t2m  surface_pressure  \\\n",
       "7305  0.501109  33.316996  273.467869  250.884060        985.112721   \n",
       "7306  0.482221  33.316996  273.453826  250.359328        984.092282   \n",
       "7307  0.480718  33.316996  273.454385  250.327500        982.300080   \n",
       "7308  0.697950  33.316996  273.459797  249.905730        983.250565   \n",
       "7309  0.835868  33.316996  273.463975  250.254873        984.247389   \n",
       "\n",
       "      sea_ice_extent  \n",
       "7305        13823248  \n",
       "7306        13885522  \n",
       "7307        13884279  \n",
       "7308        13912624  \n",
       "7309        13890148  "
      ]
     },
     "execution_count": 6,
     "metadata": {},
     "output_type": "execute_result"
    }
   ],
   "source": [
    "# from google.colab import files\n",
    "# import io\n",
    "\n",
    "# uploaded = files.upload()\n",
    "# df = pd.read_csv(io.BytesIO(uploaded[filename]))\n",
    "# df = df[7305:]\n",
    "# df\n",
    "\n",
    "# Reading the dataset\n",
    "df = pd.read_csv(filename)\n",
    "df = df[7305:]\n",
    "df.head()"
   ]
  },
  {
   "cell_type": "code",
   "execution_count": 4,
   "id": "683fdbc4",
   "metadata": {
    "executionInfo": {
     "elapsed": 267,
     "status": "ok",
     "timestamp": 1670209206588,
     "user": {
      "displayName": "Emam Hossain",
      "userId": "00475912484380842878"
     },
     "user_tz": 300
    },
    "id": "683fdbc4"
   },
   "outputs": [],
   "source": [
    "df['Day'] = pd.to_datetime(df['Day'], infer_datetime_format=True)\n",
    "df.set_index('Day', inplace=True)\n",
    "df = df.astype(float)                 # cast df to float\n",
    "df = df[gc_features]\n",
    "# df.tail(len(df))"
   ]
  },
  {
   "cell_type": "code",
   "execution_count": 5,
   "id": "e5014c30",
   "metadata": {
    "executionInfo": {
     "elapsed": 3,
     "status": "ok",
     "timestamp": 1670209206588,
     "user": {
      "displayName": "Emam Hossain",
      "userId": "00475912484380842878"
     },
     "user_tz": 300
    },
    "id": "e5014c30"
   },
   "outputs": [],
   "source": [
    "def create_model_data (dataset, look_back, lead_time):\n",
    "    dataX, dataY = [], []\n",
    "    \n",
    "    for i in range(len(dataset)-look_back-lead_time):\n",
    "        a = dataset[i:(i+look_back)]\n",
    "        dataX.append(a)\n",
    "        dataY.append(dataset[i + look_back + (lead_time-1)])\n",
    "    return np.array(dataX), np.array(dataY)"
   ]
  },
  {
   "cell_type": "code",
   "execution_count": 6,
   "id": "c1aaa5e4",
   "metadata": {
    "executionInfo": {
     "elapsed": 3,
     "status": "ok",
     "timestamp": 1670209206588,
     "user": {
      "displayName": "Emam Hossain",
      "userId": "00475912484380842878"
     },
     "user_tz": 300
    },
    "id": "c1aaa5e4",
    "scrolled": true
   },
   "outputs": [],
   "source": [
    "target_index = df.columns.tolist().index('sea_ice_extent')\n",
    "\n",
    "dataset = df.values.astype('float32')               # DataFrame converted to Numpy Array\n",
    "\n",
    "scaler = MinMaxScaler(feature_range=(0, 1))\n",
    "dataset = scaler.fit_transform(dataset)\n",
    "\n",
    "X, y = create_model_data (dataset, look_back=look_back, lead_time=lead_time)\n",
    "y = y[:,target_index]"
   ]
  },
  {
   "cell_type": "code",
   "execution_count": 7,
   "id": "KGbRA39Br3S9",
   "metadata": {
    "executionInfo": {
     "elapsed": 254,
     "status": "ok",
     "timestamp": 1670209206840,
     "user": {
      "displayName": "Emam Hossain",
      "userId": "00475912484380842878"
     },
     "user_tz": 300
    },
    "id": "KGbRA39Br3S9"
   },
   "outputs": [],
   "source": [
    "from sklearn.model_selection import train_test_split\n",
    "\n",
    "X_train, X_test, y_train, y_test = train_test_split(X, y, test_size=0.2, shuffle=False)"
   ]
  },
  {
   "cell_type": "code",
   "execution_count": 8,
   "id": "9405d356",
   "metadata": {
    "colab": {
     "base_uri": "https://localhost:8080/",
     "height": 431
    },
    "executionInfo": {
     "elapsed": 919,
     "status": "ok",
     "timestamp": 1670209207755,
     "user": {
      "displayName": "Emam Hossain",
      "userId": "00475912484380842878"
     },
     "user_tz": 300
    },
    "id": "9405d356",
    "outputId": "1ed1f3cd-49fa-4fa4-b107-06ef99319cf3"
   },
   "outputs": [
    {
     "data": {
      "text/plain": [
       "<function matplotlib.pyplot.show(*args, **kw)>"
      ]
     },
     "execution_count": 8,
     "metadata": {},
     "output_type": "execute_result"
    },
    {
     "data": {
      "image/png": "[encoded data removed]",
      "text/plain": [
       "<Figure size 1152x432 with 1 Axes>"
      ]
     },
     "metadata": {
      "needs_background": "light"
     },
     "output_type": "display_data"
    }
   ],
   "source": [
    "plt.figure(figsize = (16,6))\n",
    "ax = plt.axes()\n",
    "# ax.set_facecolor('#dcdcdc')\n",
    "\n",
    "plt.title('Arctic Sea Ice Extent Trend from 1979-2018', fontsize = 20,fontweight = \"bold\")\n",
    "plt.xlabel('Time' , fontsize = 14,fontweight = \"bold\")\n",
    "plt.ylabel('Sea Ice Extent (10\\u2076 km\\u00b2)', fontsize = 14,fontweight = \"bold\")\n",
    "plt.plot(df['sea_ice_extent'][:len(df)-len(y_test)]/10**6, 'blue', label='Training Data')\n",
    "plt.plot(df['sea_ice_extent'][len(df)-len(y_test):]/10**6, 'red', label='Testing Data')\n",
    "plt.legend()\n",
    "plt.grid()\n",
    "plt.show"
   ]
  },
  {
   "cell_type": "code",
   "execution_count": 9,
   "id": "86f5e0f3",
   "metadata": {
    "colab": {
     "base_uri": "https://localhost:8080/"
    },
    "executionInfo": {
     "elapsed": 9738,
     "status": "ok",
     "timestamp": 1670209217490,
     "user": {
      "displayName": "Emam Hossain",
      "userId": "00475912484380842878"
     },
     "user_tz": 300
    },
    "id": "86f5e0f3",
    "outputId": "1169f770-f424-4460-88be-8254cd19095a"
   },
   "outputs": [
    {
     "name": "stdout",
     "output_type": "stream",
     "text": [
      "Model: \"sequential\"\n",
      "_________________________________________________________________\n",
      " Layer (type)                Output Shape              Param #   \n",
      "=================================================================\n",
      " gru (GRU)                   (None, 21, 64)            14592     \n",
      "                                                                 \n",
      " dropout (Dropout)           (None, 21, 64)            0         \n",
      "                                                                 \n",
      " lstm (LSTM)                 (None, 128)               98816     \n",
      "                                                                 \n",
      " dropout_1 (Dropout)         (None, 128)               0         \n",
      "                                                                 \n",
      " dense (Dense)               (None, 64)                8256      \n",
      "                                                                 \n",
      " dense_1 (Dense)             (None, 1)                 65        \n",
      "                                                                 \n",
      "=================================================================\n",
      "Total params: 121,729\n",
      "Trainable params: 121,729\n",
      "Non-trainable params: 0\n",
      "_________________________________________________________________\n",
      "None\n"
     ]
    }
   ],
   "source": [
    "from keras.models import Sequential\n",
    "from keras.layers import Dense, Dropout, Activation, Input, LSTM, GRU, Dense\n",
    "\n",
    "input_shape=(X.shape[1], X.shape[2])\n",
    "\n",
    "model = Sequential()\n",
    "model.add(GRU(64, input_shape=(X.shape[1], X.shape[2]), return_sequences=True))\n",
    "model.add(Dropout(0.2))\n",
    "\n",
    "model.add(LSTM(128))\n",
    "model.add(Dropout(0.2))\n",
    "\n",
    "model.add(Dense(64 ,  activation = 'relu'))\n",
    "model.add(Dense(1))\n",
    "\n",
    "model.compile(loss='mean_squared_error', optimizer='adam', metrics=['mae', 'mse'])\n",
    "print(model.summary())"
   ]
  },
  {
   "cell_type": "code",
   "execution_count": 10,
   "id": "8a6be2cb",
   "metadata": {
    "colab": {
     "base_uri": "https://localhost:8080/"
    },
    "executionInfo": {
     "elapsed": 84906,
     "status": "ok",
     "timestamp": 1670209302392,
     "user": {
      "displayName": "Emam Hossain",
      "userId": "00475912484380842878"
     },
     "user_tz": 300
    },
    "id": "8a6be2cb",
    "outputId": "766c16aa-1369-4f8c-f2ad-b8b68dc61ace",
    "scrolled": true
   },
   "outputs": [
    {
     "name": "stdout",
     "output_type": "stream",
     "text": [
      "Epoch 1/100\n",
      "78/80 [============================>.] - ETA: 0s - loss: 0.0324 - mae: 0.1282 - mse: 0.0324"
     ]
    },
    {
     "name": "stderr",
     "output_type": "stream",
     "text": [
      "WARNING:tensorflow:Can save best model only with val_mean_squared_error available, skipping.\n"
     ]
    },
    {
     "name": "stdout",
     "output_type": "stream",
     "text": [
      "80/80 [==============================] - 9s 19ms/step - loss: 0.0319 - mae: 0.1269 - mse: 0.0319 - val_loss: 0.0028 - val_mae: 0.0388 - val_mse: 0.0028\n",
      "Epoch 2/100\n",
      "76/80 [===========================>..] - ETA: 0s - loss: 0.0084 - mae: 0.0709 - mse: 0.0084"
     ]
    },
    {
     "name": "stderr",
     "output_type": "stream",
     "text": [
      "WARNING:tensorflow:Can save best model only with val_mean_squared_error available, skipping.\n"
     ]
    },
    {
     "name": "stdout",
     "output_type": "stream",
     "text": [
      "80/80 [==============================] - 1s 8ms/step - loss: 0.0084 - mae: 0.0708 - mse: 0.0084 - val_loss: 0.0019 - val_mae: 0.0354 - val_mse: 0.0019\n",
      "Epoch 3/100\n",
      "78/80 [============================>.] - ETA: 0s - loss: 0.0072 - mae: 0.0652 - mse: 0.0072"
     ]
    },
    {
     "name": "stderr",
     "output_type": "stream",
     "text": [
      "WARNING:tensorflow:Can save best model only with val_mean_squared_error available, skipping.\n"
     ]
    },
    {
     "name": "stdout",
     "output_type": "stream",
     "text": [
      "80/80 [==============================] - 1s 9ms/step - loss: 0.0072 - mae: 0.0652 - mse: 0.0072 - val_loss: 0.0032 - val_mae: 0.0398 - val_mse: 0.0032\n",
      "Epoch 4/100\n",
      "77/80 [===========================>..] - ETA: 0s - loss: 0.0063 - mae: 0.0611 - mse: 0.0063"
     ]
    },
    {
     "name": "stderr",
     "output_type": "stream",
     "text": [
      "WARNING:tensorflow:Can save best model only with val_mean_squared_error available, skipping.\n"
     ]
    },
    {
     "name": "stdout",
     "output_type": "stream",
     "text": [
      "80/80 [==============================] - 1s 8ms/step - loss: 0.0062 - mae: 0.0609 - mse: 0.0062 - val_loss: 0.0027 - val_mae: 0.0431 - val_mse: 0.0027\n",
      "Epoch 5/100\n",
      "75/80 [===========================>..] - ETA: 0s - loss: 0.0056 - mae: 0.0582 - mse: 0.0056"
     ]
    },
    {
     "name": "stderr",
     "output_type": "stream",
     "text": [
      "WARNING:tensorflow:Can save best model only with val_mean_squared_error available, skipping.\n"
     ]
    },
    {
     "name": "stdout",
     "output_type": "stream",
     "text": [
      "80/80 [==============================] - 1s 9ms/step - loss: 0.0055 - mae: 0.0579 - mse: 0.0055 - val_loss: 9.5359e-04 - val_mae: 0.0230 - val_mse: 9.5359e-04\n",
      "Epoch 6/100\n",
      "77/80 [===========================>..] - ETA: 0s - loss: 0.0046 - mae: 0.0523 - mse: 0.0046"
     ]
    },
    {
     "name": "stderr",
     "output_type": "stream",
     "text": [
      "WARNING:tensorflow:Can save best model only with val_mean_squared_error available, skipping.\n"
     ]
    },
    {
     "name": "stdout",
     "output_type": "stream",
     "text": [
      "80/80 [==============================] - 1s 8ms/step - loss: 0.0046 - mae: 0.0523 - mse: 0.0046 - val_loss: 0.0023 - val_mae: 0.0426 - val_mse: 0.0023\n",
      "Epoch 7/100\n",
      "77/80 [===========================>..] - ETA: 0s - loss: 0.0043 - mae: 0.0508 - mse: 0.0043"
     ]
    },
    {
     "name": "stderr",
     "output_type": "stream",
     "text": [
      "WARNING:tensorflow:Can save best model only with val_mean_squared_error available, skipping.\n"
     ]
    },
    {
     "name": "stdout",
     "output_type": "stream",
     "text": [
      "80/80 [==============================] - 1s 8ms/step - loss: 0.0043 - mae: 0.0507 - mse: 0.0043 - val_loss: 0.0021 - val_mae: 0.0353 - val_mse: 0.0021\n",
      "Epoch 8/100\n",
      "75/80 [===========================>..] - ETA: 0s - loss: 0.0042 - mae: 0.0506 - mse: 0.0042"
     ]
    },
    {
     "name": "stderr",
     "output_type": "stream",
     "text": [
      "WARNING:tensorflow:Can save best model only with val_mean_squared_error available, skipping.\n"
     ]
    },
    {
     "name": "stdout",
     "output_type": "stream",
     "text": [
      "80/80 [==============================] - 1s 9ms/step - loss: 0.0042 - mae: 0.0504 - mse: 0.0042 - val_loss: 0.0019 - val_mae: 0.0343 - val_mse: 0.0019\n",
      "Epoch 9/100\n",
      "77/80 [===========================>..] - ETA: 0s - loss: 0.0038 - mae: 0.0482 - mse: 0.0038"
     ]
    },
    {
     "name": "stderr",
     "output_type": "stream",
     "text": [
      "WARNING:tensorflow:Can save best model only with val_mean_squared_error available, skipping.\n"
     ]
    },
    {
     "name": "stdout",
     "output_type": "stream",
     "text": [
      "80/80 [==============================] - 1s 9ms/step - loss: 0.0038 - mae: 0.0483 - mse: 0.0038 - val_loss: 0.0011 - val_mae: 0.0264 - val_mse: 0.0011\n",
      "Epoch 10/100\n",
      "74/80 [==========================>...] - ETA: 0s - loss: 0.0038 - mae: 0.0484 - mse: 0.0038"
     ]
    },
    {
     "name": "stderr",
     "output_type": "stream",
     "text": [
      "WARNING:tensorflow:Can save best model only with val_mean_squared_error available, skipping.\n"
     ]
    },
    {
     "name": "stdout",
     "output_type": "stream",
     "text": [
      "80/80 [==============================] - 1s 9ms/step - loss: 0.0038 - mae: 0.0483 - mse: 0.0038 - val_loss: 0.0018 - val_mae: 0.0327 - val_mse: 0.0018\n",
      "Epoch 11/100\n",
      "75/80 [===========================>..] - ETA: 0s - loss: 0.0037 - mae: 0.0477 - mse: 0.0037"
     ]
    },
    {
     "name": "stderr",
     "output_type": "stream",
     "text": [
      "WARNING:tensorflow:Can save best model only with val_mean_squared_error available, skipping.\n"
     ]
    },
    {
     "name": "stdout",
     "output_type": "stream",
     "text": [
      "80/80 [==============================] - 1s 8ms/step - loss: 0.0036 - mae: 0.0477 - mse: 0.0036 - val_loss: 0.0014 - val_mae: 0.0298 - val_mse: 0.0014\n",
      "Epoch 12/100\n",
      "78/80 [============================>.] - ETA: 0s - loss: 0.0035 - mae: 0.0468 - mse: 0.0035"
     ]
    },
    {
     "name": "stderr",
     "output_type": "stream",
     "text": [
      "WARNING:tensorflow:Can save best model only with val_mean_squared_error available, skipping.\n"
     ]
    },
    {
     "name": "stdout",
     "output_type": "stream",
     "text": [
      "80/80 [==============================] - 1s 8ms/step - loss: 0.0035 - mae: 0.0467 - mse: 0.0035 - val_loss: 9.6930e-04 - val_mae: 0.0246 - val_mse: 9.6930e-04\n",
      "Epoch 13/100\n",
      "77/80 [===========================>..] - ETA: 0s - loss: 0.0032 - mae: 0.0445 - mse: 0.0032"
     ]
    },
    {
     "name": "stderr",
     "output_type": "stream",
     "text": [
      "WARNING:tensorflow:Can save best model only with val_mean_squared_error available, skipping.\n"
     ]
    },
    {
     "name": "stdout",
     "output_type": "stream",
     "text": [
      "80/80 [==============================] - 1s 9ms/step - loss: 0.0032 - mae: 0.0447 - mse: 0.0032 - val_loss: 9.9487e-04 - val_mae: 0.0247 - val_mse: 9.9487e-04\n",
      "Epoch 14/100\n",
      "80/80 [==============================] - ETA: 0s - loss: 0.0033 - mae: 0.0446 - mse: 0.0033"
     ]
    },
    {
     "name": "stderr",
     "output_type": "stream",
     "text": [
      "WARNING:tensorflow:Can save best model only with val_mean_squared_error available, skipping.\n"
     ]
    },
    {
     "name": "stdout",
     "output_type": "stream",
     "text": [
      "80/80 [==============================] - 1s 9ms/step - loss: 0.0033 - mae: 0.0446 - mse: 0.0033 - val_loss: 8.7259e-04 - val_mae: 0.0227 - val_mse: 8.7259e-04\n",
      "Epoch 15/100\n",
      "77/80 [===========================>..] - ETA: 0s - loss: 0.0031 - mae: 0.0443 - mse: 0.0031"
     ]
    },
    {
     "name": "stderr",
     "output_type": "stream",
     "text": [
      "WARNING:tensorflow:Can save best model only with val_mean_squared_error available, skipping.\n"
     ]
    },
    {
     "name": "stdout",
     "output_type": "stream",
     "text": [
      "80/80 [==============================] - 1s 8ms/step - loss: 0.0031 - mae: 0.0442 - mse: 0.0031 - val_loss: 0.0040 - val_mae: 0.0457 - val_mse: 0.0040\n",
      "Epoch 16/100\n",
      "79/80 [============================>.] - ETA: 0s - loss: 0.0033 - mae: 0.0452 - mse: 0.0033"
     ]
    },
    {
     "name": "stderr",
     "output_type": "stream",
     "text": [
      "WARNING:tensorflow:Can save best model only with val_mean_squared_error available, skipping.\n"
     ]
    },
    {
     "name": "stdout",
     "output_type": "stream",
     "text": [
      "80/80 [==============================] - 1s 8ms/step - loss: 0.0033 - mae: 0.0452 - mse: 0.0033 - val_loss: 0.0020 - val_mae: 0.0360 - val_mse: 0.0020\n",
      "Epoch 17/100\n",
      "77/80 [===========================>..] - ETA: 0s - loss: 0.0029 - mae: 0.0421 - mse: 0.0029"
     ]
    },
    {
     "name": "stderr",
     "output_type": "stream",
     "text": [
      "WARNING:tensorflow:Can save best model only with val_mean_squared_error available, skipping.\n"
     ]
    },
    {
     "name": "stdout",
     "output_type": "stream",
     "text": [
      "80/80 [==============================] - 1s 8ms/step - loss: 0.0029 - mae: 0.0421 - mse: 0.0029 - val_loss: 0.0022 - val_mae: 0.0351 - val_mse: 0.0022\n",
      "Epoch 18/100\n",
      "76/80 [===========================>..] - ETA: 0s - loss: 0.0029 - mae: 0.0428 - mse: 0.0029"
     ]
    },
    {
     "name": "stderr",
     "output_type": "stream",
     "text": [
      "WARNING:tensorflow:Can save best model only with val_mean_squared_error available, skipping.\n"
     ]
    },
    {
     "name": "stdout",
     "output_type": "stream",
     "text": [
      "80/80 [==============================] - 1s 8ms/step - loss: 0.0029 - mae: 0.0425 - mse: 0.0029 - val_loss: 0.0021 - val_mae: 0.0318 - val_mse: 0.0021\n",
      "Epoch 19/100\n",
      "76/80 [===========================>..] - ETA: 0s - loss: 0.0030 - mae: 0.0435 - mse: 0.0030"
     ]
    },
    {
     "name": "stderr",
     "output_type": "stream",
     "text": [
      "WARNING:tensorflow:Can save best model only with val_mean_squared_error available, skipping.\n"
     ]
    },
    {
     "name": "stdout",
     "output_type": "stream",
     "text": [
      "80/80 [==============================] - 1s 8ms/step - loss: 0.0030 - mae: 0.0435 - mse: 0.0030 - val_loss: 0.0023 - val_mae: 0.0396 - val_mse: 0.0023\n",
      "Epoch 20/100\n",
      "77/80 [===========================>..] - ETA: 0s - loss: 0.0027 - mae: 0.0410 - mse: 0.0027"
     ]
    },
    {
     "name": "stderr",
     "output_type": "stream",
     "text": [
      "WARNING:tensorflow:Can save best model only with val_mean_squared_error available, skipping.\n"
     ]
    },
    {
     "name": "stdout",
     "output_type": "stream",
     "text": [
      "80/80 [==============================] - 1s 8ms/step - loss: 0.0027 - mae: 0.0412 - mse: 0.0027 - val_loss: 0.0011 - val_mae: 0.0251 - val_mse: 0.0011\n",
      "Epoch 21/100\n",
      "75/80 [===========================>..] - ETA: 0s - loss: 0.0025 - mae: 0.0393 - mse: 0.0025"
     ]
    },
    {
     "name": "stderr",
     "output_type": "stream",
     "text": [
      "WARNING:tensorflow:Can save best model only with val_mean_squared_error available, skipping.\n"
     ]
    },
    {
     "name": "stdout",
     "output_type": "stream",
     "text": [
      "80/80 [==============================] - 1s 9ms/step - loss: 0.0025 - mae: 0.0393 - mse: 0.0025 - val_loss: 0.0014 - val_mae: 0.0288 - val_mse: 0.0014\n",
      "Epoch 22/100\n",
      "77/80 [===========================>..] - ETA: 0s - loss: 0.0028 - mae: 0.0417 - mse: 0.0028"
     ]
    },
    {
     "name": "stderr",
     "output_type": "stream",
     "text": [
      "WARNING:tensorflow:Can save best model only with val_mean_squared_error available, skipping.\n"
     ]
    },
    {
     "name": "stdout",
     "output_type": "stream",
     "text": [
      "80/80 [==============================] - 1s 8ms/step - loss: 0.0028 - mae: 0.0418 - mse: 0.0028 - val_loss: 0.0014 - val_mae: 0.0284 - val_mse: 0.0014\n",
      "Epoch 23/100\n",
      "76/80 [===========================>..] - ETA: 0s - loss: 0.0028 - mae: 0.0415 - mse: 0.0028"
     ]
    },
    {
     "name": "stderr",
     "output_type": "stream",
     "text": [
      "WARNING:tensorflow:Can save best model only with val_mean_squared_error available, skipping.\n"
     ]
    },
    {
     "name": "stdout",
     "output_type": "stream",
     "text": [
      "80/80 [==============================] - 1s 9ms/step - loss: 0.0028 - mae: 0.0415 - mse: 0.0028 - val_loss: 0.0019 - val_mae: 0.0333 - val_mse: 0.0019\n",
      "Epoch 24/100\n",
      "75/80 [===========================>..] - ETA: 0s - loss: 0.0026 - mae: 0.0404 - mse: 0.0026"
     ]
    },
    {
     "name": "stderr",
     "output_type": "stream",
     "text": [
      "WARNING:tensorflow:Can save best model only with val_mean_squared_error available, skipping.\n"
     ]
    },
    {
     "name": "stdout",
     "output_type": "stream",
     "text": [
      "80/80 [==============================] - 1s 9ms/step - loss: 0.0026 - mae: 0.0402 - mse: 0.0026 - val_loss: 0.0019 - val_mae: 0.0346 - val_mse: 0.0019\n",
      "Epoch 25/100\n",
      "76/80 [===========================>..] - ETA: 0s - loss: 0.0025 - mae: 0.0393 - mse: 0.0025"
     ]
    },
    {
     "name": "stderr",
     "output_type": "stream",
     "text": [
      "WARNING:tensorflow:Can save best model only with val_mean_squared_error available, skipping.\n"
     ]
    },
    {
     "name": "stdout",
     "output_type": "stream",
     "text": [
      "80/80 [==============================] - 1s 8ms/step - loss: 0.0025 - mae: 0.0394 - mse: 0.0025 - val_loss: 0.0030 - val_mae: 0.0393 - val_mse: 0.0030\n",
      "Epoch 26/100\n",
      "76/80 [===========================>..] - ETA: 0s - loss: 0.0023 - mae: 0.0376 - mse: 0.0023"
     ]
    },
    {
     "name": "stderr",
     "output_type": "stream",
     "text": [
      "WARNING:tensorflow:Can save best model only with val_mean_squared_error available, skipping.\n"
     ]
    },
    {
     "name": "stdout",
     "output_type": "stream",
     "text": [
      "80/80 [==============================] - 1s 8ms/step - loss: 0.0023 - mae: 0.0376 - mse: 0.0023 - val_loss: 0.0018 - val_mae: 0.0306 - val_mse: 0.0018\n",
      "Epoch 27/100\n",
      "76/80 [===========================>..] - ETA: 0s - loss: 0.0025 - mae: 0.0394 - mse: 0.0025"
     ]
    },
    {
     "name": "stderr",
     "output_type": "stream",
     "text": [
      "WARNING:tensorflow:Can save best model only with val_mean_squared_error available, skipping.\n"
     ]
    },
    {
     "name": "stdout",
     "output_type": "stream",
     "text": [
      "80/80 [==============================] - 1s 9ms/step - loss: 0.0025 - mae: 0.0394 - mse: 0.0025 - val_loss: 0.0015 - val_mae: 0.0308 - val_mse: 0.0015\n",
      "Epoch 28/100\n",
      "77/80 [===========================>..] - ETA: 0s - loss: 0.0022 - mae: 0.0372 - mse: 0.0022"
     ]
    },
    {
     "name": "stderr",
     "output_type": "stream",
     "text": [
      "WARNING:tensorflow:Can save best model only with val_mean_squared_error available, skipping.\n"
     ]
    },
    {
     "name": "stdout",
     "output_type": "stream",
     "text": [
      "80/80 [==============================] - 1s 8ms/step - loss: 0.0022 - mae: 0.0372 - mse: 0.0022 - val_loss: 0.0018 - val_mae: 0.0342 - val_mse: 0.0018\n",
      "Epoch 29/100\n",
      "74/80 [==========================>...] - ETA: 0s - loss: 0.0022 - mae: 0.0368 - mse: 0.0022"
     ]
    },
    {
     "name": "stderr",
     "output_type": "stream",
     "text": [
      "WARNING:tensorflow:Can save best model only with val_mean_squared_error available, skipping.\n"
     ]
    },
    {
     "name": "stdout",
     "output_type": "stream",
     "text": [
      "80/80 [==============================] - 1s 9ms/step - loss: 0.0022 - mae: 0.0368 - mse: 0.0022 - val_loss: 0.0020 - val_mae: 0.0342 - val_mse: 0.0020\n",
      "Epoch 30/100\n",
      "76/80 [===========================>..] - ETA: 0s - loss: 0.0022 - mae: 0.0366 - mse: 0.0022"
     ]
    },
    {
     "name": "stderr",
     "output_type": "stream",
     "text": [
      "WARNING:tensorflow:Can save best model only with val_mean_squared_error available, skipping.\n"
     ]
    },
    {
     "name": "stdout",
     "output_type": "stream",
     "text": [
      "80/80 [==============================] - 1s 9ms/step - loss: 0.0022 - mae: 0.0365 - mse: 0.0022 - val_loss: 0.0032 - val_mae: 0.0426 - val_mse: 0.0032\n",
      "Epoch 31/100\n",
      "78/80 [============================>.] - ETA: 0s - loss: 0.0023 - mae: 0.0375 - mse: 0.0023"
     ]
    },
    {
     "name": "stderr",
     "output_type": "stream",
     "text": [
      "WARNING:tensorflow:Can save best model only with val_mean_squared_error available, skipping.\n"
     ]
    },
    {
     "name": "stdout",
     "output_type": "stream",
     "text": [
      "80/80 [==============================] - 1s 8ms/step - loss: 0.0023 - mae: 0.0375 - mse: 0.0023 - val_loss: 0.0024 - val_mae: 0.0397 - val_mse: 0.0024\n",
      "Epoch 32/100\n",
      "76/80 [===========================>..] - ETA: 0s - loss: 0.0023 - mae: 0.0371 - mse: 0.0023"
     ]
    },
    {
     "name": "stderr",
     "output_type": "stream",
     "text": [
      "WARNING:tensorflow:Can save best model only with val_mean_squared_error available, skipping.\n"
     ]
    },
    {
     "name": "stdout",
     "output_type": "stream",
     "text": [
      "80/80 [==============================] - 1s 8ms/step - loss: 0.0023 - mae: 0.0374 - mse: 0.0023 - val_loss: 0.0021 - val_mae: 0.0386 - val_mse: 0.0021\n",
      "Epoch 33/100\n",
      "78/80 [============================>.] - ETA: 0s - loss: 0.0022 - mae: 0.0365 - mse: 0.0022"
     ]
    },
    {
     "name": "stderr",
     "output_type": "stream",
     "text": [
      "WARNING:tensorflow:Can save best model only with val_mean_squared_error available, skipping.\n"
     ]
    },
    {
     "name": "stdout",
     "output_type": "stream",
     "text": [
      "80/80 [==============================] - 1s 8ms/step - loss: 0.0022 - mae: 0.0365 - mse: 0.0022 - val_loss: 0.0017 - val_mae: 0.0352 - val_mse: 0.0017\n",
      "Epoch 34/100\n",
      "76/80 [===========================>..] - ETA: 0s - loss: 0.0022 - mae: 0.0366 - mse: 0.0022"
     ]
    },
    {
     "name": "stderr",
     "output_type": "stream",
     "text": [
      "WARNING:tensorflow:Can save best model only with val_mean_squared_error available, skipping.\n"
     ]
    },
    {
     "name": "stdout",
     "output_type": "stream",
     "text": [
      "80/80 [==============================] - 1s 8ms/step - loss: 0.0022 - mae: 0.0368 - mse: 0.0022 - val_loss: 0.0017 - val_mae: 0.0350 - val_mse: 0.0017\n",
      "Epoch 35/100\n",
      "76/80 [===========================>..] - ETA: 0s - loss: 0.0022 - mae: 0.0367 - mse: 0.0022"
     ]
    },
    {
     "name": "stderr",
     "output_type": "stream",
     "text": [
      "WARNING:tensorflow:Can save best model only with val_mean_squared_error available, skipping.\n"
     ]
    },
    {
     "name": "stdout",
     "output_type": "stream",
     "text": [
      "80/80 [==============================] - 1s 8ms/step - loss: 0.0022 - mae: 0.0366 - mse: 0.0022 - val_loss: 0.0028 - val_mae: 0.0421 - val_mse: 0.0028\n",
      "Epoch 36/100\n",
      "75/80 [===========================>..] - ETA: 0s - loss: 0.0021 - mae: 0.0352 - mse: 0.0021"
     ]
    },
    {
     "name": "stderr",
     "output_type": "stream",
     "text": [
      "WARNING:tensorflow:Can save best model only with val_mean_squared_error available, skipping.\n"
     ]
    },
    {
     "name": "stdout",
     "output_type": "stream",
     "text": [
      "80/80 [==============================] - 1s 8ms/step - loss: 0.0021 - mae: 0.0353 - mse: 0.0021 - val_loss: 0.0024 - val_mae: 0.0362 - val_mse: 0.0024\n",
      "Epoch 37/100\n",
      "76/80 [===========================>..] - ETA: 0s - loss: 0.0021 - mae: 0.0363 - mse: 0.0021"
     ]
    },
    {
     "name": "stderr",
     "output_type": "stream",
     "text": [
      "WARNING:tensorflow:Can save best model only with val_mean_squared_error available, skipping.\n"
     ]
    },
    {
     "name": "stdout",
     "output_type": "stream",
     "text": [
      "80/80 [==============================] - 1s 8ms/step - loss: 0.0021 - mae: 0.0362 - mse: 0.0021 - val_loss: 0.0030 - val_mae: 0.0434 - val_mse: 0.0030\n",
      "Epoch 38/100\n",
      "76/80 [===========================>..] - ETA: 0s - loss: 0.0019 - mae: 0.0345 - mse: 0.0019"
     ]
    },
    {
     "name": "stderr",
     "output_type": "stream",
     "text": [
      "WARNING:tensorflow:Can save best model only with val_mean_squared_error available, skipping.\n"
     ]
    },
    {
     "name": "stdout",
     "output_type": "stream",
     "text": [
      "80/80 [==============================] - 1s 8ms/step - loss: 0.0019 - mae: 0.0344 - mse: 0.0019 - val_loss: 0.0032 - val_mae: 0.0472 - val_mse: 0.0032\n",
      "Epoch 39/100\n",
      "75/80 [===========================>..] - ETA: 0s - loss: 0.0019 - mae: 0.0339 - mse: 0.0019"
     ]
    },
    {
     "name": "stderr",
     "output_type": "stream",
     "text": [
      "WARNING:tensorflow:Can save best model only with val_mean_squared_error available, skipping.\n"
     ]
    },
    {
     "name": "stdout",
     "output_type": "stream",
     "text": [
      "80/80 [==============================] - 1s 8ms/step - loss: 0.0019 - mae: 0.0341 - mse: 0.0019 - val_loss: 0.0033 - val_mae: 0.0478 - val_mse: 0.0033\n",
      "Epoch 40/100\n",
      "75/80 [===========================>..] - ETA: 0s - loss: 0.0019 - mae: 0.0339 - mse: 0.0019"
     ]
    },
    {
     "name": "stderr",
     "output_type": "stream",
     "text": [
      "WARNING:tensorflow:Can save best model only with val_mean_squared_error available, skipping.\n"
     ]
    },
    {
     "name": "stdout",
     "output_type": "stream",
     "text": [
      "80/80 [==============================] - 1s 8ms/step - loss: 0.0019 - mae: 0.0339 - mse: 0.0019 - val_loss: 0.0030 - val_mae: 0.0461 - val_mse: 0.0030\n",
      "Epoch 41/100\n",
      "75/80 [===========================>..] - ETA: 0s - loss: 0.0018 - mae: 0.0335 - mse: 0.0018"
     ]
    },
    {
     "name": "stderr",
     "output_type": "stream",
     "text": [
      "WARNING:tensorflow:Can save best model only with val_mean_squared_error available, skipping.\n"
     ]
    },
    {
     "name": "stdout",
     "output_type": "stream",
     "text": [
      "80/80 [==============================] - 1s 9ms/step - loss: 0.0018 - mae: 0.0336 - mse: 0.0018 - val_loss: 0.0023 - val_mae: 0.0392 - val_mse: 0.0023\n",
      "Epoch 42/100\n",
      "76/80 [===========================>..] - ETA: 0s - loss: 0.0018 - mae: 0.0329 - mse: 0.0018"
     ]
    },
    {
     "name": "stderr",
     "output_type": "stream",
     "text": [
      "WARNING:tensorflow:Can save best model only with val_mean_squared_error available, skipping.\n"
     ]
    },
    {
     "name": "stdout",
     "output_type": "stream",
     "text": [
      "80/80 [==============================] - 1s 8ms/step - loss: 0.0018 - mae: 0.0329 - mse: 0.0018 - val_loss: 0.0032 - val_mae: 0.0457 - val_mse: 0.0032\n",
      "Epoch 43/100\n",
      "77/80 [===========================>..] - ETA: 0s - loss: 0.0018 - mae: 0.0332 - mse: 0.0018"
     ]
    },
    {
     "name": "stderr",
     "output_type": "stream",
     "text": [
      "WARNING:tensorflow:Can save best model only with val_mean_squared_error available, skipping.\n"
     ]
    },
    {
     "name": "stdout",
     "output_type": "stream",
     "text": [
      "80/80 [==============================] - 1s 8ms/step - loss: 0.0018 - mae: 0.0332 - mse: 0.0018 - val_loss: 0.0022 - val_mae: 0.0330 - val_mse: 0.0022\n",
      "Epoch 44/100\n",
      "77/80 [===========================>..] - ETA: 0s - loss: 0.0018 - mae: 0.0327 - mse: 0.0018"
     ]
    },
    {
     "name": "stderr",
     "output_type": "stream",
     "text": [
      "WARNING:tensorflow:Can save best model only with val_mean_squared_error available, skipping.\n"
     ]
    },
    {
     "name": "stdout",
     "output_type": "stream",
     "text": [
      "80/80 [==============================] - 1s 8ms/step - loss: 0.0018 - mae: 0.0327 - mse: 0.0018 - val_loss: 0.0022 - val_mae: 0.0367 - val_mse: 0.0022\n",
      "Epoch 45/100\n",
      "74/80 [==========================>...] - ETA: 0s - loss: 0.0018 - mae: 0.0329 - mse: 0.0018"
     ]
    },
    {
     "name": "stderr",
     "output_type": "stream",
     "text": [
      "WARNING:tensorflow:Can save best model only with val_mean_squared_error available, skipping.\n"
     ]
    },
    {
     "name": "stdout",
     "output_type": "stream",
     "text": [
      "80/80 [==============================] - 1s 9ms/step - loss: 0.0018 - mae: 0.0327 - mse: 0.0018 - val_loss: 0.0028 - val_mae: 0.0455 - val_mse: 0.0028\n",
      "Epoch 46/100\n",
      "75/80 [===========================>..] - ETA: 0s - loss: 0.0019 - mae: 0.0337 - mse: 0.0019"
     ]
    },
    {
     "name": "stderr",
     "output_type": "stream",
     "text": [
      "WARNING:tensorflow:Can save best model only with val_mean_squared_error available, skipping.\n"
     ]
    },
    {
     "name": "stdout",
     "output_type": "stream",
     "text": [
      "80/80 [==============================] - 1s 8ms/step - loss: 0.0019 - mae: 0.0335 - mse: 0.0019 - val_loss: 0.0030 - val_mae: 0.0467 - val_mse: 0.0030\n",
      "Epoch 47/100\n",
      "78/80 [============================>.] - ETA: 0s - loss: 0.0016 - mae: 0.0314 - mse: 0.0016"
     ]
    },
    {
     "name": "stderr",
     "output_type": "stream",
     "text": [
      "WARNING:tensorflow:Can save best model only with val_mean_squared_error available, skipping.\n"
     ]
    },
    {
     "name": "stdout",
     "output_type": "stream",
     "text": [
      "80/80 [==============================] - 1s 9ms/step - loss: 0.0016 - mae: 0.0313 - mse: 0.0016 - val_loss: 0.0019 - val_mae: 0.0340 - val_mse: 0.0019\n",
      "Epoch 48/100\n",
      "76/80 [===========================>..] - ETA: 0s - loss: 0.0017 - mae: 0.0319 - mse: 0.0017"
     ]
    },
    {
     "name": "stderr",
     "output_type": "stream",
     "text": [
      "WARNING:tensorflow:Can save best model only with val_mean_squared_error available, skipping.\n"
     ]
    },
    {
     "name": "stdout",
     "output_type": "stream",
     "text": [
      "80/80 [==============================] - 1s 8ms/step - loss: 0.0017 - mae: 0.0319 - mse: 0.0017 - val_loss: 0.0028 - val_mae: 0.0425 - val_mse: 0.0028\n",
      "Epoch 49/100\n",
      "77/80 [===========================>..] - ETA: 0s - loss: 0.0015 - mae: 0.0308 - mse: 0.0015"
     ]
    },
    {
     "name": "stderr",
     "output_type": "stream",
     "text": [
      "WARNING:tensorflow:Can save best model only with val_mean_squared_error available, skipping.\n"
     ]
    },
    {
     "name": "stdout",
     "output_type": "stream",
     "text": [
      "80/80 [==============================] - 1s 8ms/step - loss: 0.0016 - mae: 0.0310 - mse: 0.0016 - val_loss: 0.0043 - val_mae: 0.0479 - val_mse: 0.0043\n",
      "Epoch 50/100\n",
      "75/80 [===========================>..] - ETA: 0s - loss: 0.0015 - mae: 0.0308 - mse: 0.0015"
     ]
    },
    {
     "name": "stderr",
     "output_type": "stream",
     "text": [
      "WARNING:tensorflow:Can save best model only with val_mean_squared_error available, skipping.\n"
     ]
    },
    {
     "name": "stdout",
     "output_type": "stream",
     "text": [
      "80/80 [==============================] - 1s 8ms/step - loss: 0.0015 - mae: 0.0309 - mse: 0.0015 - val_loss: 0.0029 - val_mae: 0.0455 - val_mse: 0.0029\n",
      "Epoch 51/100\n",
      "77/80 [===========================>..] - ETA: 0s - loss: 0.0017 - mae: 0.0318 - mse: 0.0017"
     ]
    },
    {
     "name": "stderr",
     "output_type": "stream",
     "text": [
      "WARNING:tensorflow:Can save best model only with val_mean_squared_error available, skipping.\n"
     ]
    },
    {
     "name": "stdout",
     "output_type": "stream",
     "text": [
      "80/80 [==============================] - 1s 8ms/step - loss: 0.0017 - mae: 0.0320 - mse: 0.0017 - val_loss: 0.0035 - val_mae: 0.0520 - val_mse: 0.0035\n",
      "Epoch 52/100\n",
      "78/80 [============================>.] - ETA: 0s - loss: 0.0017 - mae: 0.0321 - mse: 0.0017"
     ]
    },
    {
     "name": "stderr",
     "output_type": "stream",
     "text": [
      "WARNING:tensorflow:Can save best model only with val_mean_squared_error available, skipping.\n"
     ]
    },
    {
     "name": "stdout",
     "output_type": "stream",
     "text": [
      "80/80 [==============================] - 1s 8ms/step - loss: 0.0017 - mae: 0.0321 - mse: 0.0017 - val_loss: 0.0028 - val_mae: 0.0459 - val_mse: 0.0028\n",
      "Epoch 53/100\n",
      "77/80 [===========================>..] - ETA: 0s - loss: 0.0015 - mae: 0.0300 - mse: 0.0015"
     ]
    },
    {
     "name": "stderr",
     "output_type": "stream",
     "text": [
      "WARNING:tensorflow:Can save best model only with val_mean_squared_error available, skipping.\n"
     ]
    },
    {
     "name": "stdout",
     "output_type": "stream",
     "text": [
      "80/80 [==============================] - 1s 9ms/step - loss: 0.0015 - mae: 0.0300 - mse: 0.0015 - val_loss: 0.0029 - val_mae: 0.0423 - val_mse: 0.0029\n",
      "Epoch 54/100\n",
      "77/80 [===========================>..] - ETA: 0s - loss: 0.0014 - mae: 0.0289 - mse: 0.0014"
     ]
    },
    {
     "name": "stderr",
     "output_type": "stream",
     "text": [
      "WARNING:tensorflow:Can save best model only with val_mean_squared_error available, skipping.\n"
     ]
    },
    {
     "name": "stdout",
     "output_type": "stream",
     "text": [
      "80/80 [==============================] - 1s 8ms/step - loss: 0.0014 - mae: 0.0288 - mse: 0.0014 - val_loss: 0.0035 - val_mae: 0.0526 - val_mse: 0.0035\n",
      "Epoch 55/100\n",
      "76/80 [===========================>..] - ETA: 0s - loss: 0.0015 - mae: 0.0301 - mse: 0.0015"
     ]
    },
    {
     "name": "stderr",
     "output_type": "stream",
     "text": [
      "WARNING:tensorflow:Can save best model only with val_mean_squared_error available, skipping.\n"
     ]
    },
    {
     "name": "stdout",
     "output_type": "stream",
     "text": [
      "80/80 [==============================] - 1s 8ms/step - loss: 0.0015 - mae: 0.0300 - mse: 0.0015 - val_loss: 0.0043 - val_mae: 0.0564 - val_mse: 0.0043\n",
      "Epoch 56/100\n",
      "76/80 [===========================>..] - ETA: 0s - loss: 0.0015 - mae: 0.0303 - mse: 0.0015"
     ]
    },
    {
     "name": "stderr",
     "output_type": "stream",
     "text": [
      "WARNING:tensorflow:Can save best model only with val_mean_squared_error available, skipping.\n"
     ]
    },
    {
     "name": "stdout",
     "output_type": "stream",
     "text": [
      "80/80 [==============================] - 1s 8ms/step - loss: 0.0015 - mae: 0.0303 - mse: 0.0015 - val_loss: 0.0025 - val_mae: 0.0416 - val_mse: 0.0025\n",
      "Epoch 57/100\n",
      "77/80 [===========================>..] - ETA: 0s - loss: 0.0014 - mae: 0.0291 - mse: 0.0014"
     ]
    },
    {
     "name": "stderr",
     "output_type": "stream",
     "text": [
      "WARNING:tensorflow:Can save best model only with val_mean_squared_error available, skipping.\n"
     ]
    },
    {
     "name": "stdout",
     "output_type": "stream",
     "text": [
      "80/80 [==============================] - 1s 9ms/step - loss: 0.0014 - mae: 0.0292 - mse: 0.0014 - val_loss: 0.0037 - val_mae: 0.0522 - val_mse: 0.0037\n",
      "Epoch 58/100\n",
      "76/80 [===========================>..] - ETA: 0s - loss: 0.0015 - mae: 0.0301 - mse: 0.0015"
     ]
    },
    {
     "name": "stderr",
     "output_type": "stream",
     "text": [
      "WARNING:tensorflow:Can save best model only with val_mean_squared_error available, skipping.\n"
     ]
    },
    {
     "name": "stdout",
     "output_type": "stream",
     "text": [
      "80/80 [==============================] - 1s 8ms/step - loss: 0.0015 - mae: 0.0300 - mse: 0.0015 - val_loss: 0.0034 - val_mae: 0.0484 - val_mse: 0.0034\n",
      "Epoch 59/100\n",
      "79/80 [============================>.] - ETA: 0s - loss: 0.0014 - mae: 0.0292 - mse: 0.0014"
     ]
    },
    {
     "name": "stderr",
     "output_type": "stream",
     "text": [
      "WARNING:tensorflow:Can save best model only with val_mean_squared_error available, skipping.\n"
     ]
    },
    {
     "name": "stdout",
     "output_type": "stream",
     "text": [
      "80/80 [==============================] - 1s 8ms/step - loss: 0.0014 - mae: 0.0292 - mse: 0.0014 - val_loss: 0.0022 - val_mae: 0.0377 - val_mse: 0.0022\n",
      "Epoch 60/100\n",
      "75/80 [===========================>..] - ETA: 0s - loss: 0.0015 - mae: 0.0298 - mse: 0.0015"
     ]
    },
    {
     "name": "stderr",
     "output_type": "stream",
     "text": [
      "WARNING:tensorflow:Can save best model only with val_mean_squared_error available, skipping.\n"
     ]
    },
    {
     "name": "stdout",
     "output_type": "stream",
     "text": [
      "80/80 [==============================] - 1s 9ms/step - loss: 0.0015 - mae: 0.0299 - mse: 0.0015 - val_loss: 0.0037 - val_mae: 0.0487 - val_mse: 0.0037\n",
      "Epoch 61/100\n",
      "76/80 [===========================>..] - ETA: 0s - loss: 0.0015 - mae: 0.0302 - mse: 0.0015"
     ]
    },
    {
     "name": "stderr",
     "output_type": "stream",
     "text": [
      "WARNING:tensorflow:Can save best model only with val_mean_squared_error available, skipping.\n"
     ]
    },
    {
     "name": "stdout",
     "output_type": "stream",
     "text": [
      "80/80 [==============================] - 1s 8ms/step - loss: 0.0015 - mae: 0.0300 - mse: 0.0015 - val_loss: 0.0032 - val_mae: 0.0508 - val_mse: 0.0032\n",
      "Epoch 62/100\n",
      "74/80 [==========================>...] - ETA: 0s - loss: 0.0013 - mae: 0.0282 - mse: 0.0013"
     ]
    },
    {
     "name": "stderr",
     "output_type": "stream",
     "text": [
      "WARNING:tensorflow:Can save best model only with val_mean_squared_error available, skipping.\n"
     ]
    },
    {
     "name": "stdout",
     "output_type": "stream",
     "text": [
      "80/80 [==============================] - 1s 9ms/step - loss: 0.0013 - mae: 0.0281 - mse: 0.0013 - val_loss: 0.0043 - val_mae: 0.0555 - val_mse: 0.0043\n",
      "Epoch 63/100\n",
      "77/80 [===========================>..] - ETA: 0s - loss: 0.0014 - mae: 0.0293 - mse: 0.0014"
     ]
    },
    {
     "name": "stderr",
     "output_type": "stream",
     "text": [
      "WARNING:tensorflow:Can save best model only with val_mean_squared_error available, skipping.\n"
     ]
    },
    {
     "name": "stdout",
     "output_type": "stream",
     "text": [
      "80/80 [==============================] - 1s 8ms/step - loss: 0.0014 - mae: 0.0294 - mse: 0.0014 - val_loss: 0.0034 - val_mae: 0.0517 - val_mse: 0.0034\n",
      "Epoch 64/100\n",
      "76/80 [===========================>..] - ETA: 0s - loss: 0.0012 - mae: 0.0277 - mse: 0.0012"
     ]
    },
    {
     "name": "stderr",
     "output_type": "stream",
     "text": [
      "WARNING:tensorflow:Can save best model only with val_mean_squared_error available, skipping.\n"
     ]
    },
    {
     "name": "stdout",
     "output_type": "stream",
     "text": [
      "80/80 [==============================] - 1s 9ms/step - loss: 0.0012 - mae: 0.0278 - mse: 0.0012 - val_loss: 0.0034 - val_mae: 0.0503 - val_mse: 0.0034\n",
      "Epoch 65/100\n",
      "75/80 [===========================>..] - ETA: 0s - loss: 0.0013 - mae: 0.0281 - mse: 0.0013"
     ]
    },
    {
     "name": "stderr",
     "output_type": "stream",
     "text": [
      "WARNING:tensorflow:Can save best model only with val_mean_squared_error available, skipping.\n"
     ]
    },
    {
     "name": "stdout",
     "output_type": "stream",
     "text": [
      "80/80 [==============================] - 1s 9ms/step - loss: 0.0013 - mae: 0.0279 - mse: 0.0013 - val_loss: 0.0033 - val_mae: 0.0476 - val_mse: 0.0033\n",
      "Epoch 66/100\n",
      "76/80 [===========================>..] - ETA: 0s - loss: 0.0011 - mae: 0.0263 - mse: 0.0011"
     ]
    },
    {
     "name": "stderr",
     "output_type": "stream",
     "text": [
      "WARNING:tensorflow:Can save best model only with val_mean_squared_error available, skipping.\n"
     ]
    },
    {
     "name": "stdout",
     "output_type": "stream",
     "text": [
      "80/80 [==============================] - 1s 8ms/step - loss: 0.0011 - mae: 0.0263 - mse: 0.0011 - val_loss: 0.0029 - val_mae: 0.0452 - val_mse: 0.0029\n",
      "Epoch 67/100\n",
      "77/80 [===========================>..] - ETA: 0s - loss: 0.0013 - mae: 0.0278 - mse: 0.0013"
     ]
    },
    {
     "name": "stderr",
     "output_type": "stream",
     "text": [
      "WARNING:tensorflow:Can save best model only with val_mean_squared_error available, skipping.\n"
     ]
    },
    {
     "name": "stdout",
     "output_type": "stream",
     "text": [
      "80/80 [==============================] - 1s 8ms/step - loss: 0.0013 - mae: 0.0280 - mse: 0.0013 - val_loss: 0.0030 - val_mae: 0.0414 - val_mse: 0.0030\n",
      "Epoch 68/100\n",
      "76/80 [===========================>..] - ETA: 0s - loss: 0.0012 - mae: 0.0276 - mse: 0.0012"
     ]
    },
    {
     "name": "stderr",
     "output_type": "stream",
     "text": [
      "WARNING:tensorflow:Can save best model only with val_mean_squared_error available, skipping.\n"
     ]
    },
    {
     "name": "stdout",
     "output_type": "stream",
     "text": [
      "80/80 [==============================] - 1s 8ms/step - loss: 0.0012 - mae: 0.0274 - mse: 0.0012 - val_loss: 0.0033 - val_mae: 0.0485 - val_mse: 0.0033\n",
      "Epoch 69/100\n",
      "74/80 [==========================>...] - ETA: 0s - loss: 0.0010 - mae: 0.0255 - mse: 0.0010"
     ]
    },
    {
     "name": "stderr",
     "output_type": "stream",
     "text": [
      "WARNING:tensorflow:Can save best model only with val_mean_squared_error available, skipping.\n"
     ]
    },
    {
     "name": "stdout",
     "output_type": "stream",
     "text": [
      "80/80 [==============================] - 1s 9ms/step - loss: 0.0011 - mae: 0.0256 - mse: 0.0011 - val_loss: 0.0024 - val_mae: 0.0399 - val_mse: 0.0024\n",
      "Epoch 70/100\n",
      "76/80 [===========================>..] - ETA: 0s - loss: 0.0014 - mae: 0.0293 - mse: 0.0014"
     ]
    },
    {
     "name": "stderr",
     "output_type": "stream",
     "text": [
      "WARNING:tensorflow:Can save best model only with val_mean_squared_error available, skipping.\n"
     ]
    },
    {
     "name": "stdout",
     "output_type": "stream",
     "text": [
      "80/80 [==============================] - 1s 8ms/step - loss: 0.0014 - mae: 0.0292 - mse: 0.0014 - val_loss: 0.0028 - val_mae: 0.0431 - val_mse: 0.0028\n",
      "Epoch 71/100\n",
      "74/80 [==========================>...] - ETA: 0s - loss: 0.0012 - mae: 0.0271 - mse: 0.0012"
     ]
    },
    {
     "name": "stderr",
     "output_type": "stream",
     "text": [
      "WARNING:tensorflow:Can save best model only with val_mean_squared_error available, skipping.\n"
     ]
    },
    {
     "name": "stdout",
     "output_type": "stream",
     "text": [
      "80/80 [==============================] - 1s 9ms/step - loss: 0.0012 - mae: 0.0269 - mse: 0.0012 - val_loss: 0.0026 - val_mae: 0.0442 - val_mse: 0.0026\n",
      "Epoch 72/100\n",
      "76/80 [===========================>..] - ETA: 0s - loss: 0.0011 - mae: 0.0256 - mse: 0.0011"
     ]
    },
    {
     "name": "stderr",
     "output_type": "stream",
     "text": [
      "WARNING:tensorflow:Can save best model only with val_mean_squared_error available, skipping.\n"
     ]
    },
    {
     "name": "stdout",
     "output_type": "stream",
     "text": [
      "80/80 [==============================] - 1s 8ms/step - loss: 0.0011 - mae: 0.0256 - mse: 0.0011 - val_loss: 0.0034 - val_mae: 0.0514 - val_mse: 0.0034\n",
      "Epoch 73/100\n",
      "78/80 [============================>.] - ETA: 0s - loss: 0.0010 - mae: 0.0251 - mse: 0.0010"
     ]
    },
    {
     "name": "stderr",
     "output_type": "stream",
     "text": [
      "WARNING:tensorflow:Can save best model only with val_mean_squared_error available, skipping.\n"
     ]
    },
    {
     "name": "stdout",
     "output_type": "stream",
     "text": [
      "80/80 [==============================] - 1s 8ms/step - loss: 9.9879e-04 - mae: 0.0251 - mse: 9.9879e-04 - val_loss: 0.0028 - val_mae: 0.0445 - val_mse: 0.0028\n",
      "Epoch 74/100\n",
      "75/80 [===========================>..] - ETA: 0s - loss: 0.0011 - mae: 0.0263 - mse: 0.0011"
     ]
    },
    {
     "name": "stderr",
     "output_type": "stream",
     "text": [
      "WARNING:tensorflow:Can save best model only with val_mean_squared_error available, skipping.\n"
     ]
    },
    {
     "name": "stdout",
     "output_type": "stream",
     "text": [
      "80/80 [==============================] - 1s 9ms/step - loss: 0.0011 - mae: 0.0263 - mse: 0.0011 - val_loss: 0.0031 - val_mae: 0.0465 - val_mse: 0.0031\n",
      "Epoch 75/100\n",
      "75/80 [===========================>..] - ETA: 0s - loss: 9.9584e-04 - mae: 0.0248 - mse: 9.9584e-04"
     ]
    },
    {
     "name": "stderr",
     "output_type": "stream",
     "text": [
      "WARNING:tensorflow:Can save best model only with val_mean_squared_error available, skipping.\n"
     ]
    },
    {
     "name": "stdout",
     "output_type": "stream",
     "text": [
      "80/80 [==============================] - 1s 9ms/step - loss: 9.8477e-04 - mae: 0.0247 - mse: 9.8477e-04 - val_loss: 0.0027 - val_mae: 0.0448 - val_mse: 0.0027\n",
      "Epoch 76/100\n",
      "76/80 [===========================>..] - ETA: 0s - loss: 9.8916e-04 - mae: 0.0248 - mse: 9.8916e-04"
     ]
    },
    {
     "name": "stderr",
     "output_type": "stream",
     "text": [
      "WARNING:tensorflow:Can save best model only with val_mean_squared_error available, skipping.\n"
     ]
    },
    {
     "name": "stdout",
     "output_type": "stream",
     "text": [
      "80/80 [==============================] - 1s 8ms/step - loss: 9.8248e-04 - mae: 0.0247 - mse: 9.8248e-04 - val_loss: 0.0028 - val_mae: 0.0430 - val_mse: 0.0028\n",
      "Epoch 77/100\n",
      "78/80 [============================>.] - ETA: 0s - loss: 9.8104e-04 - mae: 0.0247 - mse: 9.8104e-04"
     ]
    },
    {
     "name": "stderr",
     "output_type": "stream",
     "text": [
      "WARNING:tensorflow:Can save best model only with val_mean_squared_error available, skipping.\n"
     ]
    },
    {
     "name": "stdout",
     "output_type": "stream",
     "text": [
      "80/80 [==============================] - 1s 8ms/step - loss: 9.7532e-04 - mae: 0.0246 - mse: 9.7532e-04 - val_loss: 0.0041 - val_mae: 0.0571 - val_mse: 0.0041\n",
      "Epoch 78/100\n",
      "75/80 [===========================>..] - ETA: 0s - loss: 0.0011 - mae: 0.0261 - mse: 0.0011"
     ]
    },
    {
     "name": "stderr",
     "output_type": "stream",
     "text": [
      "WARNING:tensorflow:Can save best model only with val_mean_squared_error available, skipping.\n"
     ]
    },
    {
     "name": "stdout",
     "output_type": "stream",
     "text": [
      "80/80 [==============================] - 1s 9ms/step - loss: 0.0011 - mae: 0.0260 - mse: 0.0011 - val_loss: 0.0032 - val_mae: 0.0497 - val_mse: 0.0032\n",
      "Epoch 79/100\n",
      "77/80 [===========================>..] - ETA: 0s - loss: 9.8552e-04 - mae: 0.0247 - mse: 9.8552e-04"
     ]
    },
    {
     "name": "stderr",
     "output_type": "stream",
     "text": [
      "WARNING:tensorflow:Can save best model only with val_mean_squared_error available, skipping.\n"
     ]
    },
    {
     "name": "stdout",
     "output_type": "stream",
     "text": [
      "80/80 [==============================] - 1s 8ms/step - loss: 9.9472e-04 - mae: 0.0248 - mse: 9.9472e-04 - val_loss: 0.0032 - val_mae: 0.0433 - val_mse: 0.0032\n",
      "Epoch 80/100\n",
      "78/80 [============================>.] - ETA: 0s - loss: 0.0010 - mae: 0.0252 - mse: 0.0010"
     ]
    },
    {
     "name": "stderr",
     "output_type": "stream",
     "text": [
      "WARNING:tensorflow:Can save best model only with val_mean_squared_error available, skipping.\n"
     ]
    },
    {
     "name": "stdout",
     "output_type": "stream",
     "text": [
      "80/80 [==============================] - 1s 8ms/step - loss: 0.0010 - mae: 0.0252 - mse: 0.0010 - val_loss: 0.0032 - val_mae: 0.0474 - val_mse: 0.0032\n",
      "Epoch 81/100\n",
      "77/80 [===========================>..] - ETA: 0s - loss: 0.0010 - mae: 0.0252 - mse: 0.0010"
     ]
    },
    {
     "name": "stderr",
     "output_type": "stream",
     "text": [
      "WARNING:tensorflow:Can save best model only with val_mean_squared_error available, skipping.\n"
     ]
    },
    {
     "name": "stdout",
     "output_type": "stream",
     "text": [
      "80/80 [==============================] - 1s 8ms/step - loss: 0.0010 - mae: 0.0252 - mse: 0.0010 - val_loss: 0.0028 - val_mae: 0.0399 - val_mse: 0.0028\n",
      "Epoch 82/100\n",
      "80/80 [==============================] - ETA: 0s - loss: 0.0011 - mae: 0.0259 - mse: 0.0011"
     ]
    },
    {
     "name": "stderr",
     "output_type": "stream",
     "text": [
      "WARNING:tensorflow:Can save best model only with val_mean_squared_error available, skipping.\n"
     ]
    },
    {
     "name": "stdout",
     "output_type": "stream",
     "text": [
      "80/80 [==============================] - 1s 9ms/step - loss: 0.0011 - mae: 0.0259 - mse: 0.0011 - val_loss: 0.0023 - val_mae: 0.0390 - val_mse: 0.0023\n",
      "Epoch 83/100\n",
      "76/80 [===========================>..] - ETA: 0s - loss: 8.4750e-04 - mae: 0.0231 - mse: 8.4750e-04"
     ]
    },
    {
     "name": "stderr",
     "output_type": "stream",
     "text": [
      "WARNING:tensorflow:Can save best model only with val_mean_squared_error available, skipping.\n"
     ]
    },
    {
     "name": "stdout",
     "output_type": "stream",
     "text": [
      "80/80 [==============================] - 1s 8ms/step - loss: 8.4593e-04 - mae: 0.0230 - mse: 8.4593e-04 - val_loss: 0.0021 - val_mae: 0.0374 - val_mse: 0.0021\n",
      "Epoch 84/100\n",
      "75/80 [===========================>..] - ETA: 0s - loss: 7.7729e-04 - mae: 0.0221 - mse: 7.7729e-04"
     ]
    },
    {
     "name": "stderr",
     "output_type": "stream",
     "text": [
      "WARNING:tensorflow:Can save best model only with val_mean_squared_error available, skipping.\n"
     ]
    },
    {
     "name": "stdout",
     "output_type": "stream",
     "text": [
      "80/80 [==============================] - 1s 9ms/step - loss: 7.8166e-04 - mae: 0.0221 - mse: 7.8166e-04 - val_loss: 0.0032 - val_mae: 0.0485 - val_mse: 0.0032\n",
      "Epoch 85/100\n",
      "79/80 [============================>.] - ETA: 0s - loss: 9.8970e-04 - mae: 0.0248 - mse: 9.8970e-04"
     ]
    },
    {
     "name": "stderr",
     "output_type": "stream",
     "text": [
      "WARNING:tensorflow:Can save best model only with val_mean_squared_error available, skipping.\n"
     ]
    },
    {
     "name": "stdout",
     "output_type": "stream",
     "text": [
      "80/80 [==============================] - 1s 9ms/step - loss: 9.8951e-04 - mae: 0.0248 - mse: 9.8951e-04 - val_loss: 0.0026 - val_mae: 0.0419 - val_mse: 0.0026\n",
      "Epoch 86/100\n",
      "78/80 [============================>.] - ETA: 0s - loss: 8.6723e-04 - mae: 0.0233 - mse: 8.6723e-04"
     ]
    },
    {
     "name": "stderr",
     "output_type": "stream",
     "text": [
      "WARNING:tensorflow:Can save best model only with val_mean_squared_error available, skipping.\n"
     ]
    },
    {
     "name": "stdout",
     "output_type": "stream",
     "text": [
      "80/80 [==============================] - 1s 8ms/step - loss: 8.6992e-04 - mae: 0.0233 - mse: 8.6992e-04 - val_loss: 0.0029 - val_mae: 0.0465 - val_mse: 0.0029\n",
      "Epoch 87/100\n",
      "75/80 [===========================>..] - ETA: 0s - loss: 9.3578e-04 - mae: 0.0242 - mse: 9.3578e-04"
     ]
    },
    {
     "name": "stderr",
     "output_type": "stream",
     "text": [
      "WARNING:tensorflow:Can save best model only with val_mean_squared_error available, skipping.\n"
     ]
    },
    {
     "name": "stdout",
     "output_type": "stream",
     "text": [
      "80/80 [==============================] - 1s 8ms/step - loss: 9.3903e-04 - mae: 0.0242 - mse: 9.3903e-04 - val_loss: 0.0019 - val_mae: 0.0359 - val_mse: 0.0019\n",
      "Epoch 88/100\n",
      "74/80 [==========================>...] - ETA: 0s - loss: 0.0011 - mae: 0.0260 - mse: 0.0011"
     ]
    },
    {
     "name": "stderr",
     "output_type": "stream",
     "text": [
      "WARNING:tensorflow:Can save best model only with val_mean_squared_error available, skipping.\n"
     ]
    },
    {
     "name": "stdout",
     "output_type": "stream",
     "text": [
      "80/80 [==============================] - 1s 9ms/step - loss: 0.0011 - mae: 0.0259 - mse: 0.0011 - val_loss: 0.0026 - val_mae: 0.0427 - val_mse: 0.0026\n",
      "Epoch 89/100\n",
      "79/80 [============================>.] - ETA: 0s - loss: 8.3545e-04 - mae: 0.0227 - mse: 8.3545e-04"
     ]
    },
    {
     "name": "stderr",
     "output_type": "stream",
     "text": [
      "WARNING:tensorflow:Can save best model only with val_mean_squared_error available, skipping.\n"
     ]
    },
    {
     "name": "stdout",
     "output_type": "stream",
     "text": [
      "80/80 [==============================] - 1s 8ms/step - loss: 8.3618e-04 - mae: 0.0227 - mse: 8.3618e-04 - val_loss: 0.0029 - val_mae: 0.0465 - val_mse: 0.0029\n",
      "Epoch 90/100\n",
      "80/80 [==============================] - ETA: 0s - loss: 7.4363e-04 - mae: 0.0216 - mse: 7.4363e-04"
     ]
    },
    {
     "name": "stderr",
     "output_type": "stream",
     "text": [
      "WARNING:tensorflow:Can save best model only with val_mean_squared_error available, skipping.\n"
     ]
    },
    {
     "name": "stdout",
     "output_type": "stream",
     "text": [
      "80/80 [==============================] - 1s 9ms/step - loss: 7.4363e-04 - mae: 0.0216 - mse: 7.4363e-04 - val_loss: 0.0032 - val_mae: 0.0487 - val_mse: 0.0032\n",
      "Epoch 91/100\n",
      "75/80 [===========================>..] - ETA: 0s - loss: 8.3095e-04 - mae: 0.0226 - mse: 8.3095e-04"
     ]
    },
    {
     "name": "stderr",
     "output_type": "stream",
     "text": [
      "WARNING:tensorflow:Can save best model only with val_mean_squared_error available, skipping.\n"
     ]
    },
    {
     "name": "stdout",
     "output_type": "stream",
     "text": [
      "80/80 [==============================] - 1s 9ms/step - loss: 8.2585e-04 - mae: 0.0225 - mse: 8.2585e-04 - val_loss: 0.0031 - val_mae: 0.0447 - val_mse: 0.0031\n",
      "Epoch 92/100\n",
      "76/80 [===========================>..] - ETA: 0s - loss: 7.7274e-04 - mae: 0.0221 - mse: 7.7274e-04"
     ]
    },
    {
     "name": "stderr",
     "output_type": "stream",
     "text": [
      "WARNING:tensorflow:Can save best model only with val_mean_squared_error available, skipping.\n"
     ]
    },
    {
     "name": "stdout",
     "output_type": "stream",
     "text": [
      "80/80 [==============================] - 1s 8ms/step - loss: 7.7037e-04 - mae: 0.0220 - mse: 7.7037e-04 - val_loss: 0.0020 - val_mae: 0.0373 - val_mse: 0.0020\n",
      "Epoch 93/100\n",
      "80/80 [==============================] - ETA: 0s - loss: 7.5954e-04 - mae: 0.0217 - mse: 7.5954e-04"
     ]
    },
    {
     "name": "stderr",
     "output_type": "stream",
     "text": [
      "WARNING:tensorflow:Can save best model only with val_mean_squared_error available, skipping.\n"
     ]
    },
    {
     "name": "stdout",
     "output_type": "stream",
     "text": [
      "80/80 [==============================] - 1s 10ms/step - loss: 7.5954e-04 - mae: 0.0217 - mse: 7.5954e-04 - val_loss: 0.0025 - val_mae: 0.0434 - val_mse: 0.0025\n",
      "Epoch 94/100\n",
      "79/80 [============================>.] - ETA: 0s - loss: 7.5667e-04 - mae: 0.0217 - mse: 7.5667e-04"
     ]
    },
    {
     "name": "stderr",
     "output_type": "stream",
     "text": [
      "WARNING:tensorflow:Can save best model only with val_mean_squared_error available, skipping.\n"
     ]
    },
    {
     "name": "stdout",
     "output_type": "stream",
     "text": [
      "80/80 [==============================] - 1s 12ms/step - loss: 7.5784e-04 - mae: 0.0218 - mse: 7.5784e-04 - val_loss: 0.0034 - val_mae: 0.0501 - val_mse: 0.0034\n",
      "Epoch 95/100\n",
      "78/80 [============================>.] - ETA: 0s - loss: 7.1927e-04 - mae: 0.0211 - mse: 7.1927e-04"
     ]
    },
    {
     "name": "stderr",
     "output_type": "stream",
     "text": [
      "WARNING:tensorflow:Can save best model only with val_mean_squared_error available, skipping.\n"
     ]
    },
    {
     "name": "stdout",
     "output_type": "stream",
     "text": [
      "80/80 [==============================] - 1s 11ms/step - loss: 7.1714e-04 - mae: 0.0211 - mse: 7.1714e-04 - val_loss: 0.0025 - val_mae: 0.0424 - val_mse: 0.0025\n",
      "Epoch 96/100\n",
      "75/80 [===========================>..] - ETA: 0s - loss: 6.4882e-04 - mae: 0.0202 - mse: 6.4882e-04"
     ]
    },
    {
     "name": "stderr",
     "output_type": "stream",
     "text": [
      "WARNING:tensorflow:Can save best model only with val_mean_squared_error available, skipping.\n"
     ]
    },
    {
     "name": "stdout",
     "output_type": "stream",
     "text": [
      "80/80 [==============================] - 1s 10ms/step - loss: 6.5754e-04 - mae: 0.0203 - mse: 6.5754e-04 - val_loss: 0.0043 - val_mae: 0.0542 - val_mse: 0.0043\n",
      "Epoch 97/100\n",
      "80/80 [==============================] - ETA: 0s - loss: 7.6965e-04 - mae: 0.0219 - mse: 7.6965e-04"
     ]
    },
    {
     "name": "stderr",
     "output_type": "stream",
     "text": [
      "WARNING:tensorflow:Can save best model only with val_mean_squared_error available, skipping.\n"
     ]
    },
    {
     "name": "stdout",
     "output_type": "stream",
     "text": [
      "80/80 [==============================] - 1s 9ms/step - loss: 7.6965e-04 - mae: 0.0219 - mse: 7.6965e-04 - val_loss: 0.0022 - val_mae: 0.0392 - val_mse: 0.0022\n",
      "Epoch 98/100\n",
      "76/80 [===========================>..] - ETA: 0s - loss: 8.2371e-04 - mae: 0.0224 - mse: 8.2371e-04"
     ]
    },
    {
     "name": "stderr",
     "output_type": "stream",
     "text": [
      "WARNING:tensorflow:Can save best model only with val_mean_squared_error available, skipping.\n"
     ]
    },
    {
     "name": "stdout",
     "output_type": "stream",
     "text": [
      "80/80 [==============================] - 1s 8ms/step - loss: 8.3923e-04 - mae: 0.0225 - mse: 8.3923e-04 - val_loss: 0.0021 - val_mae: 0.0372 - val_mse: 0.0021\n",
      "Epoch 99/100\n",
      "74/80 [==========================>...] - ETA: 0s - loss: 7.6671e-04 - mae: 0.0218 - mse: 7.6671e-04"
     ]
    },
    {
     "name": "stderr",
     "output_type": "stream",
     "text": [
      "WARNING:tensorflow:Can save best model only with val_mean_squared_error available, skipping.\n"
     ]
    },
    {
     "name": "stdout",
     "output_type": "stream",
     "text": [
      "80/80 [==============================] - 1s 9ms/step - loss: 7.6925e-04 - mae: 0.0218 - mse: 7.6925e-04 - val_loss: 0.0034 - val_mae: 0.0491 - val_mse: 0.0034\n",
      "Epoch 100/100\n",
      "80/80 [==============================] - ETA: 0s - loss: 7.6708e-04 - mae: 0.0219 - mse: 7.6708e-04"
     ]
    },
    {
     "name": "stderr",
     "output_type": "stream",
     "text": [
      "WARNING:tensorflow:Can save best model only with val_mean_squared_error available, skipping.\n"
     ]
    },
    {
     "name": "stdout",
     "output_type": "stream",
     "text": [
      "80/80 [==============================] - 1s 9ms/step - loss: 7.6708e-04 - mae: 0.0219 - mse: 7.6708e-04 - val_loss: 0.0024 - val_mae: 0.0406 - val_mse: 0.0024\n"
     ]
    }
   ],
   "source": [
    "from keras.callbacks import ModelCheckpoint\n",
    "checkpoint = ModelCheckpoint(\"weights.best.hdf5\", monitor='val_mean_squared_error', verbose=1, save_best_only=True, mode='min')\n",
    "\n",
    "callbacks_list = [checkpoint]\n",
    "history = model.fit(X_train, y_train, epochs=100, batch_size=64, verbose=1, callbacks=callbacks_list, validation_split=0.1)"
   ]
  },
  {
   "cell_type": "code",
   "execution_count": 11,
   "id": "520a7400",
   "metadata": {
    "colab": {
     "base_uri": "https://localhost:8080/",
     "height": 851
    },
    "executionInfo": {
     "elapsed": 539,
     "status": "ok",
     "timestamp": 1670209302925,
     "user": {
      "displayName": "Emam Hossain",
      "userId": "00475912484380842878"
     },
     "user_tz": 300
    },
    "id": "520a7400",
    "outputId": "e56c1046-7ed5-4e92-a25d-517baeb52a85"
   },
   "outputs": [
    {
     "data": {
      "image/png": "[encoded data removed]",
      "text/plain": [
       "<Figure size 432x288 with 1 Axes>"
      ]
     },
     "metadata": {
      "needs_background": "light"
     },
     "output_type": "display_data"
    },
    {
     "data": {
      "image/png": "[encoded data removed]",
      "text/plain": [
       "<Figure size 432x288 with 1 Axes>"
      ]
     },
     "metadata": {
      "needs_background": "light"
     },
     "output_type": "display_data"
    },
    {
     "data": {
      "image/png": "[encoded data removed]",
      "text/plain": [
       "<Figure size 432x288 with 1 Axes>"
      ]
     },
     "metadata": {
      "needs_background": "light"
     },
     "output_type": "display_data"
    }
   ],
   "source": [
    "plt.plot(history.history['mse'])\n",
    "plt.plot(history.history['val_mse'])\n",
    "plt.title('Mean Squared Error of SIE Prediction')\n",
    "plt.ylabel('MSE')\n",
    "plt.xlabel('Epoch')\n",
    "plt.legend(['train', 'validation'], loc='upper right')\n",
    "plt.show()\n",
    "\n",
    "plt.plot(history.history['mae'])\n",
    "plt.plot(history.history['val_mae'])\n",
    "plt.title('Mean Absolute Error of SIE Prediction')\n",
    "plt.ylabel('MAE')\n",
    "plt.xlabel('Epoch')\n",
    "plt.legend(['train', 'validation'], loc='upper right')\n",
    "plt.show()\n",
    "\n",
    "plt.plot(history.history['loss'])\n",
    "plt.plot(history.history['val_loss'])\n",
    "plt.title('Loss of SIE Prediction')\n",
    "plt.ylabel('Loss')\n",
    "plt.xlabel('Epoch')\n",
    "plt.legend(['train', 'validation'], loc='upper right')\n",
    "plt.show()"
   ]
  },
  {
   "cell_type": "code",
   "execution_count": 12,
   "id": "733c794b",
   "metadata": {
    "colab": {
     "base_uri": "https://localhost:8080/"
    },
    "executionInfo": {
     "elapsed": 806,
     "status": "ok",
     "timestamp": 1670209303729,
     "user": {
      "displayName": "Emam Hossain",
      "userId": "00475912484380842878"
     },
     "user_tz": 300
    },
    "id": "733c794b",
    "outputId": "9f1c32b3-7cb1-4218-a2f6-2d5a9dd4fedc"
   },
   "outputs": [
    {
     "name": "stdout",
     "output_type": "stream",
     "text": [
      "45/45 [==============================] - 1s 4ms/step\n"
     ]
    }
   ],
   "source": [
    "from sklearn.metrics import mean_squared_error, mean_absolute_error, mean_absolute_percentage_error, r2_score\n",
    "from numpy import sqrt\n",
    "\n",
    "#model.load_weights(\"weights.best.hdf5\")\n",
    "\n",
    "cols = len(df.columns)\n",
    "pred = model.predict(X_test)\n",
    "\n",
    "predicted_dataset = dataset\n",
    "predicted_dataset[len(predicted_dataset)-len(pred):, cols-1] = pred[:, 0]\n",
    "scaled_predicted_dataset = scaler.inverse_transform(predicted_dataset)\n",
    "\n",
    "predicted_df = df.copy()\n",
    "predicted_df['sea_ice_extent'][len(predicted_dataset)-len(pred):] = scaled_predicted_dataset[len(predicted_dataset)-len(pred):, cols-1]\n",
    "\n",
    "predictions = pd.DataFrame()\n",
    "predictions['predicted'] = (predicted_df['sea_ice_extent'][len(predicted_dataset)-len(pred):])\n",
    "predictions['actual'] = (df['sea_ice_extent'][len(predicted_dataset)-len(pred):])\n",
    "predictions = predictions.astype(float)"
   ]
  },
  {
   "cell_type": "code",
   "execution_count": 13,
   "id": "3c545246",
   "metadata": {
    "colab": {
     "base_uri": "https://localhost:8080/",
     "height": 1000
    },
    "executionInfo": {
     "elapsed": 1385,
     "status": "ok",
     "timestamp": 1670209305112,
     "user": {
      "displayName": "Emam Hossain",
      "userId": "00475912484380842878"
     },
     "user_tz": 300
    },
    "id": "3c545246",
    "outputId": "ceca0344-b183-4e66-c484-2f9313d587b0"
   },
   "outputs": [
    {
     "data": {
      "image/png": "[encoded data removed]",
      "text/plain": [
       "<Figure size 1152x432 with 1 Axes>"
      ]
     },
     "metadata": {
      "needs_background": "light"
     },
     "output_type": "display_data"
    },
    {
     "data": {
      "image/png": "[encoded data removed]",
      "text/plain": [
       "<Figure size 720x720 with 1 Axes>"
      ]
     },
     "metadata": {
      "needs_background": "light"
     },
     "output_type": "display_data"
    },
    {
     "name": "stdout",
     "output_type": "stream",
     "text": [
      "MSE :  899717804418.7839 (10⁶ km²)\n",
      "MSPE : 2.2614630277122862 %\n",
      "RMSE :  948534.5562596989 (10⁶ km²)\n",
      "RMSPE : 15.03816154891377 %\n",
      "MAE :  664304.6111893033 (10⁶ km²)\n",
      "MAPE :  7.2102959621189395 %\n",
      "R2 :  0.9014639954652595\n"
     ]
    }
   ],
   "source": [
    "plt.figure(figsize = (16,6))\n",
    "ax = plt.axes()\n",
    "# ax.set_facecolor('#dcdcdc')\n",
    "\n",
    "plt.title('Arctic Sea Ice Extent Actual vs Prediction Curve for Test Data', fontsize = 20,fontweight = \"bold\")\n",
    "plt.xlabel('Time' , fontsize = 14,fontweight = \"bold\")\n",
    "plt.ylabel('Sea Ice Extent (10\\u2076 km\\u00b2)', fontsize = 14,fontweight = \"bold\")\n",
    "plt.plot(predictions['actual']/10**6, 'blue', label='Actual SIE')\n",
    "plt.plot(predictions['predicted']/10**6, 'red', label='Predicted SIE')\n",
    "plt.legend()\n",
    "plt.grid()\n",
    "plt.show\n",
    "\n",
    "predictions['diff'] = predictions['predicted'] - predictions['actual']\n",
    "plt.figure(figsize=(10,10))\n",
    "plt.xlabel('Difference between actual and predicted SIE (10\\u2076 km\\u00b2)')\n",
    "sns.histplot(predictions['diff'])\n",
    "plt.title('Distribution of differences between actual and predicted SIE')\n",
    "plt.show()\n",
    "\n",
    "mspe = (np.mean(np.square((predictions['actual'].values - predictions['predicted'].values) / predictions['actual'].values))) * 100\n",
    "rmspe = (np.sqrt(np.mean(np.square((predictions['actual'].values - predictions['predicted'].values) / predictions['actual'].values)))) * 100\n",
    "\n",
    "print(\"MSE : \", mean_squared_error(predictions['predicted'].values, predictions['actual'].values), \"(10\\u2076 km\\u00b2)\")\n",
    "print(\"MSPE :\", mspe, \"%\")\n",
    "print(\"RMSE : \", sqrt(mean_squared_error(predictions['predicted'].values, predictions['actual'].values)), \"(10\\u2076 km\\u00b2)\")\n",
    "print(\"RMSPE :\", rmspe, \"%\")\n",
    "print(\"MAE : \", mean_absolute_error(predictions['predicted'].values, predictions['actual'].values), \"(10\\u2076 km\\u00b2)\")\n",
    "print(\"MAPE : \", mean_absolute_percentage_error(predictions['predicted'].values, predictions['actual'].values)*100, \"%\")\n",
    "print(\"R2 : \", r2_score(predictions['predicted'].values, predictions['actual'].values))"
   ]
  },
  {
   "cell_type": "code",
   "execution_count": 14,
   "id": "3f3aaf6d",
   "metadata": {
    "executionInfo": {
     "elapsed": 5,
     "status": "ok",
     "timestamp": 1670209305113,
     "user": {
      "displayName": "Emam Hossain",
      "userId": "00475912484380842878"
     },
     "user_tz": 300
    },
    "id": "3f3aaf6d"
   },
   "outputs": [],
   "source": [
    "# while True:pass"
   ]
  }
 ],
 "metadata": {
  "accelerator": "GPU",
  "colab": {
   "provenance": [
    {
     "file_id": "1O5MvgzujuwTPUwG4cziFDsm1Ic3-80Dt",
     "timestamp": 1670205990723
    },
    {
     "file_id": "1LzpzLirjglBWuk6_00PYj79s5EpQBsob",
     "timestamp": 1670205973300
    },
    {
     "file_id": "1j6Vi2hJd4dygU-FpsSnNF9bzmGEqupI_",
     "timestamp": 1670205958889
    },
    {
     "file_id": "15lgTy038TDxYDrD0F5m2FkNIB35bXCug",
     "timestamp": 1670205944008
    },
    {
     "file_id": "1Q_NTENuTekZOgqo7BMVVDOrS4DBsDW4V",
     "timestamp": 1670205900521
    },
    {
     "file_id": "1tsdSY4XF8dbRdNGZQhWw6nd--RLFP4EX",
     "timestamp": 1670202049252
    },
    {
     "file_id": "1L3ixnLeRDivuLSWCq04VtDKnU7YIw_C7",
     "timestamp": 1670201891016
    },
    {
     "file_id": "1VJInZTaupyMxQ6JprjJi2D6639FmXJ-t",
     "timestamp": 1670201115947
    },
    {
     "file_id": "1f-ct_NOq__M1QDGjYMyualvRlVNWtnum",
     "timestamp": 1670201096560
    },
    {
     "file_id": "1S71KBLYU9q_J7PpD1i3PdHnejHsyHk2A",
     "timestamp": 1670201029903
    },
    {
     "file_id": "1ZW2CDeL2Z4e4d7GVtf1CCEU8ioKr_ozr",
     "timestamp": 1670200993047
    },
    {
     "file_id": "11ezPDxEfETgGwyGSoqr5wscr_t65bvL6",
     "timestamp": 1669223899169
    },
    {
     "file_id": "https://github.com/ehfahad/SIE-Prediction-using-Causal-Deep-Learning/blob/main/Models/SIE%20Prediction%20(1-day%20lead)%20upto%202014%20with%20day%2C%20week%2C%20month.ipynb",
     "timestamp": 1666883273850
    }
   ]
  },
  "gpuClass": "standard",
  "kernelspec": {
   "display_name": "Python 3 (ipykernel)",
   "language": "python",
   "name": "python3"
  },
  "language_info": {
   "codemirror_mode": {
    "name": "ipython",
    "version": 3
   },
   "file_extension": ".py",
   "mimetype": "text/x-python",
   "name": "python",
   "nbconvert_exporter": "python",
   "pygments_lexer": "ipython3",
   "version": "3.8.15"
  },
  "varInspector": {
   "cols": {
    "lenName": 16,
    "lenType": 16,
    "lenVar": 40
   },
   "kernels_config": {
    "python": {
     "delete_cmd_postfix": "",
     "delete_cmd_prefix": "del ",
     "library": "var_list.py",
     "varRefreshCmd": "print(var_dic_list())"
    },
    "r": {
     "delete_cmd_postfix": ") ",
     "delete_cmd_prefix": "rm(",
     "library": "var_list.r",
     "varRefreshCmd": "cat(var_dic_list()) "
    }
   },
   "position": {
    "height": "417.844px",
    "left": "1538px",
    "right": "20px",
    "top": "131px",
    "width": "350px"
   },
   "types_to_exclude": [
    "module",
    "function",
    "builtin_function_or_method",
    "instance",
    "_Feature"
   ],
   "window_display": true
  }
 },
 "nbformat": 4,
 "nbformat_minor": 5
}
