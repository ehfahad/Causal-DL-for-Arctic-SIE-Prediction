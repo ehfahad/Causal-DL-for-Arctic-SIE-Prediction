{
 "cells": [
  {
   "cell_type": "code",
   "execution_count": 1,
   "id": "1507a9c1",
   "metadata": {
    "executionInfo": {
     "elapsed": 1659,
     "status": "ok",
     "timestamp": 1670228001903,
     "user": {
      "displayName": "Emam Hossain",
      "userId": "11818338395150337156"
     },
     "user_tz": 300
    },
    "id": "1507a9c1"
   },
   "outputs": [],
   "source": [
    "import numpy as np\n",
    "import pandas as pd\n",
    "import matplotlib.pyplot as plt\n",
    "import seaborn as sns\n",
    "from sklearn.preprocessing import MinMaxScaler"
   ]
  },
  {
   "cell_type": "code",
   "execution_count": 2,
   "id": "ZkC-CdqrYGLW",
   "metadata": {
    "executionInfo": {
     "elapsed": 12,
     "status": "ok",
     "timestamp": 1670228001903,
     "user": {
      "displayName": "Emam Hossain",
      "userId": "11818338395150337156"
     },
     "user_tz": 300
    },
    "id": "ZkC-CdqrYGLW"
   },
   "outputs": [],
   "source": [
    "# global variables\n",
    "\n",
    "look_back = 20\n",
    "lead_time = 6\n",
    "filename = '../../../data/Arctic_Monthy_Mean_1979_2021.csv'"
   ]
  },
  {
   "cell_type": "code",
   "execution_count": 3,
   "id": "zlPFdfw7F9-_",
   "metadata": {
    "colab": {
     "base_uri": "https://localhost:8080/",
     "height": 74
    },
    "executionInfo": {
     "elapsed": 5638,
     "status": "ok",
     "timestamp": 1670228007530,
     "user": {
      "displayName": "Emam Hossain",
      "userId": "11818338395150337156"
     },
     "user_tz": 300
    },
    "id": "zlPFdfw7F9-_",
    "outputId": "39ee54a4-9aaf-4fa5-9a1b-592832a5ebe2"
   },
   "outputs": [
    {
     "data": {
      "text/html": [
       "<div>\n",
       "<style scoped>\n",
       "    .dataframe tbody tr th:only-of-type {\n",
       "        vertical-align: middle;\n",
       "    }\n",
       "\n",
       "    .dataframe tbody tr th {\n",
       "        vertical-align: top;\n",
       "    }\n",
       "\n",
       "    .dataframe thead th {\n",
       "        text-align: right;\n",
       "    }\n",
       "</style>\n",
       "<table border=\"1\" class=\"dataframe\">\n",
       "  <thead>\n",
       "    <tr style=\"text-align: right;\">\n",
       "      <th></th>\n",
       "      <th>Date</th>\n",
       "      <th>wind_10m</th>\n",
       "      <th>specific_humidity</th>\n",
       "      <th>LW_down</th>\n",
       "      <th>SW_down</th>\n",
       "      <th>rainfall</th>\n",
       "      <th>snowfall</th>\n",
       "      <th>sst</th>\n",
       "      <th>t2m</th>\n",
       "      <th>surface_pressure</th>\n",
       "      <th>sea_ice_extent</th>\n",
       "    </tr>\n",
       "  </thead>\n",
       "  <tbody>\n",
       "    <tr>\n",
       "      <th>0</th>\n",
       "      <td>1/1/1979</td>\n",
       "      <td>5.531398</td>\n",
       "      <td>0.811961</td>\n",
       "      <td>186.687054</td>\n",
       "      <td>3.127880</td>\n",
       "      <td>1.009872</td>\n",
       "      <td>0.892319</td>\n",
       "      <td>273.355237</td>\n",
       "      <td>250.388101</td>\n",
       "      <td>984.633032</td>\n",
       "      <td>15604191</td>\n",
       "    </tr>\n",
       "    <tr>\n",
       "      <th>1</th>\n",
       "      <td>2/1/1979</td>\n",
       "      <td>5.328020</td>\n",
       "      <td>0.688896</td>\n",
       "      <td>174.794571</td>\n",
       "      <td>18.541594</td>\n",
       "      <td>0.920831</td>\n",
       "      <td>0.781347</td>\n",
       "      <td>273.121885</td>\n",
       "      <td>247.071202</td>\n",
       "      <td>983.980418</td>\n",
       "      <td>16378929</td>\n",
       "    </tr>\n",
       "    <tr>\n",
       "      <th>2</th>\n",
       "      <td>3/1/1979</td>\n",
       "      <td>5.432511</td>\n",
       "      <td>0.916124</td>\n",
       "      <td>190.741933</td>\n",
       "      <td>67.690429</td>\n",
       "      <td>0.983327</td>\n",
       "      <td>0.855266</td>\n",
       "      <td>273.088099</td>\n",
       "      <td>252.954138</td>\n",
       "      <td>985.140468</td>\n",
       "      <td>16521089</td>\n",
       "    </tr>\n",
       "    <tr>\n",
       "      <th>3</th>\n",
       "      <td>4/1/1979</td>\n",
       "      <td>4.792836</td>\n",
       "      <td>1.272056</td>\n",
       "      <td>212.937925</td>\n",
       "      <td>156.223673</td>\n",
       "      <td>0.890723</td>\n",
       "      <td>0.705203</td>\n",
       "      <td>273.126062</td>\n",
       "      <td>259.557456</td>\n",
       "      <td>989.314698</td>\n",
       "      <td>15561238</td>\n",
       "    </tr>\n",
       "    <tr>\n",
       "      <th>4</th>\n",
       "      <td>5/1/1979</td>\n",
       "      <td>4.819028</td>\n",
       "      <td>2.239776</td>\n",
       "      <td>253.690478</td>\n",
       "      <td>230.950833</td>\n",
       "      <td>1.201308</td>\n",
       "      <td>0.688723</td>\n",
       "      <td>273.393551</td>\n",
       "      <td>269.375118</td>\n",
       "      <td>984.483658</td>\n",
       "      <td>14085613</td>\n",
       "    </tr>\n",
       "  </tbody>\n",
       "</table>\n",
       "</div>"
      ],
      "text/plain": [
       "       Date  wind_10m  specific_humidity     LW_down     SW_down  rainfall  \\\n",
       "0  1/1/1979  5.531398           0.811961  186.687054    3.127880  1.009872   \n",
       "1  2/1/1979  5.328020           0.688896  174.794571   18.541594  0.920831   \n",
       "2  3/1/1979  5.432511           0.916124  190.741933   67.690429  0.983327   \n",
       "3  4/1/1979  4.792836           1.272056  212.937925  156.223673  0.890723   \n",
       "4  5/1/1979  4.819028           2.239776  253.690478  230.950833  1.201308   \n",
       "\n",
       "   snowfall         sst         t2m  surface_pressure  sea_ice_extent  \n",
       "0  0.892319  273.355237  250.388101        984.633032        15604191  \n",
       "1  0.781347  273.121885  247.071202        983.980418        16378929  \n",
       "2  0.855266  273.088099  252.954138        985.140468        16521089  \n",
       "3  0.705203  273.126062  259.557456        989.314698        15561238  \n",
       "4  0.688723  273.393551  269.375118        984.483658        14085613  "
      ]
     },
     "execution_count": 3,
     "metadata": {},
     "output_type": "execute_result"
    }
   ],
   "source": [
    "# from google.colab import files\n",
    "# import io\n",
    "\n",
    "# uploaded = files.upload()\n",
    "# df = pd.read_csv(io.BytesIO(uploaded[filename]))\n",
    "\n",
    "# Reading the dataset\n",
    "df = pd.read_csv(filename)\n",
    "df.head()"
   ]
  },
  {
   "cell_type": "code",
   "execution_count": 4,
   "id": "683fdbc4",
   "metadata": {
    "colab": {
     "base_uri": "https://localhost:8080/",
     "height": 692
    },
    "executionInfo": {
     "elapsed": 7,
     "status": "ok",
     "timestamp": 1670228007531,
     "user": {
      "displayName": "Emam Hossain",
      "userId": "11818338395150337156"
     },
     "user_tz": 300
    },
    "id": "683fdbc4",
    "outputId": "ec503331-78ce-4d2f-e58f-7d17f1f98277"
   },
   "outputs": [
    {
     "data": {
      "text/html": [
       "\n",
       "  <div id=\"df-f73e8401-b713-4a2c-809a-e8662471f4ed\">\n",
       "    <div class=\"colab-df-container\">\n",
       "      <div>\n",
       "<style scoped>\n",
       "    .dataframe tbody tr th:only-of-type {\n",
       "        vertical-align: middle;\n",
       "    }\n",
       "\n",
       "    .dataframe tbody tr th {\n",
       "        vertical-align: top;\n",
       "    }\n",
       "\n",
       "    .dataframe thead th {\n",
       "        text-align: right;\n",
       "    }\n",
       "</style>\n",
       "<table border=\"1\" class=\"dataframe\">\n",
       "  <thead>\n",
       "    <tr style=\"text-align: right;\">\n",
       "      <th></th>\n",
       "      <th>wind_10m</th>\n",
       "      <th>specific_humidity</th>\n",
       "      <th>LW_down</th>\n",
       "      <th>SW_down</th>\n",
       "      <th>rainfall</th>\n",
       "      <th>snowfall</th>\n",
       "      <th>sst</th>\n",
       "      <th>t2m</th>\n",
       "      <th>surface_pressure</th>\n",
       "      <th>sea_ice_extent</th>\n",
       "    </tr>\n",
       "    <tr>\n",
       "      <th>Date</th>\n",
       "      <th></th>\n",
       "      <th></th>\n",
       "      <th></th>\n",
       "      <th></th>\n",
       "      <th></th>\n",
       "      <th></th>\n",
       "      <th></th>\n",
       "      <th></th>\n",
       "      <th></th>\n",
       "      <th></th>\n",
       "    </tr>\n",
       "  </thead>\n",
       "  <tbody>\n",
       "    <tr>\n",
       "      <th>1979-01-01</th>\n",
       "      <td>5.531398</td>\n",
       "      <td>0.811961</td>\n",
       "      <td>186.687054</td>\n",
       "      <td>3.127880</td>\n",
       "      <td>1.009872</td>\n",
       "      <td>0.892319</td>\n",
       "      <td>273.355237</td>\n",
       "      <td>250.388101</td>\n",
       "      <td>984.633032</td>\n",
       "      <td>15604191.0</td>\n",
       "    </tr>\n",
       "    <tr>\n",
       "      <th>1979-02-01</th>\n",
       "      <td>5.328020</td>\n",
       "      <td>0.688896</td>\n",
       "      <td>174.794571</td>\n",
       "      <td>18.541594</td>\n",
       "      <td>0.920831</td>\n",
       "      <td>0.781347</td>\n",
       "      <td>273.121885</td>\n",
       "      <td>247.071202</td>\n",
       "      <td>983.980418</td>\n",
       "      <td>16378929.0</td>\n",
       "    </tr>\n",
       "    <tr>\n",
       "      <th>1979-03-01</th>\n",
       "      <td>5.432511</td>\n",
       "      <td>0.916124</td>\n",
       "      <td>190.741933</td>\n",
       "      <td>67.690429</td>\n",
       "      <td>0.983327</td>\n",
       "      <td>0.855266</td>\n",
       "      <td>273.088099</td>\n",
       "      <td>252.954138</td>\n",
       "      <td>985.140468</td>\n",
       "      <td>16521089.0</td>\n",
       "    </tr>\n",
       "    <tr>\n",
       "      <th>1979-04-01</th>\n",
       "      <td>4.792836</td>\n",
       "      <td>1.272056</td>\n",
       "      <td>212.937925</td>\n",
       "      <td>156.223673</td>\n",
       "      <td>0.890723</td>\n",
       "      <td>0.705203</td>\n",
       "      <td>273.126062</td>\n",
       "      <td>259.557456</td>\n",
       "      <td>989.314698</td>\n",
       "      <td>15561238.0</td>\n",
       "    </tr>\n",
       "    <tr>\n",
       "      <th>1979-05-01</th>\n",
       "      <td>4.819028</td>\n",
       "      <td>2.239776</td>\n",
       "      <td>253.690478</td>\n",
       "      <td>230.950833</td>\n",
       "      <td>1.201308</td>\n",
       "      <td>0.688723</td>\n",
       "      <td>273.393551</td>\n",
       "      <td>269.375118</td>\n",
       "      <td>984.483658</td>\n",
       "      <td>14085613.0</td>\n",
       "    </tr>\n",
       "    <tr>\n",
       "      <th>...</th>\n",
       "      <td>...</td>\n",
       "      <td>...</td>\n",
       "      <td>...</td>\n",
       "      <td>...</td>\n",
       "      <td>...</td>\n",
       "      <td>...</td>\n",
       "      <td>...</td>\n",
       "      <td>...</td>\n",
       "      <td>...</td>\n",
       "      <td>...</td>\n",
       "    </tr>\n",
       "    <tr>\n",
       "      <th>2021-04-01</th>\n",
       "      <td>5.383687</td>\n",
       "      <td>1.529497</td>\n",
       "      <td>225.171796</td>\n",
       "      <td>156.567743</td>\n",
       "      <td>1.159049</td>\n",
       "      <td>0.929777</td>\n",
       "      <td>273.470298</td>\n",
       "      <td>263.146395</td>\n",
       "      <td>985.801841</td>\n",
       "      <td>13840000.0</td>\n",
       "    </tr>\n",
       "    <tr>\n",
       "      <th>2021-05-01</th>\n",
       "      <td>4.777020</td>\n",
       "      <td>2.451088</td>\n",
       "      <td>260.956781</td>\n",
       "      <td>229.604138</td>\n",
       "      <td>1.077705</td>\n",
       "      <td>0.575494</td>\n",
       "      <td>273.888627</td>\n",
       "      <td>271.557464</td>\n",
       "      <td>985.606182</td>\n",
       "      <td>12660000.0</td>\n",
       "    </tr>\n",
       "    <tr>\n",
       "      <th>2021-06-01</th>\n",
       "      <td>4.771453</td>\n",
       "      <td>4.176458</td>\n",
       "      <td>294.931709</td>\n",
       "      <td>244.702852</td>\n",
       "      <td>1.585094</td>\n",
       "      <td>0.360146</td>\n",
       "      <td>275.245088</td>\n",
       "      <td>278.360921</td>\n",
       "      <td>978.436682</td>\n",
       "      <td>10710000.0</td>\n",
       "    </tr>\n",
       "    <tr>\n",
       "      <th>2021-07-01</th>\n",
       "      <td>4.754014</td>\n",
       "      <td>5.193846</td>\n",
       "      <td>313.311345</td>\n",
       "      <td>196.774631</td>\n",
       "      <td>1.957911</td>\n",
       "      <td>0.248088</td>\n",
       "      <td>277.253314</td>\n",
       "      <td>280.413695</td>\n",
       "      <td>978.293303</td>\n",
       "      <td>7690000.0</td>\n",
       "    </tr>\n",
       "    <tr>\n",
       "      <th>2021-08-01</th>\n",
       "      <td>4.635243</td>\n",
       "      <td>5.077386</td>\n",
       "      <td>313.003568</td>\n",
       "      <td>126.146891</td>\n",
       "      <td>2.046782</td>\n",
       "      <td>0.235519</td>\n",
       "      <td>278.556142</td>\n",
       "      <td>279.556077</td>\n",
       "      <td>980.453507</td>\n",
       "      <td>5750000.0</td>\n",
       "    </tr>\n",
       "  </tbody>\n",
       "</table>\n",
       "<p>512 rows × 10 columns</p>\n",
       "</div>\n",
       "      <button class=\"colab-df-convert\" onclick=\"convertToInteractive('df-f73e8401-b713-4a2c-809a-e8662471f4ed')\"\n",
       "              title=\"Convert this dataframe to an interactive table.\"\n",
       "              style=\"display:none;\">\n",
       "        \n",
       "  <svg xmlns=\"http://www.w3.org/2000/svg\" height=\"24px\"viewBox=\"0 0 24 24\"\n",
       "       width=\"24px\">\n",
       "    <path d=\"M0 0h24v24H0V0z\" fill=\"none\"/>\n",
       "    <path d=\"M18.56 5.44l.94 2.06.94-2.06 2.06-.94-2.06-.94-.94-2.06-.94 2.06-2.06.94zm-11 1L8.5 8.5l.94-2.06 2.06-.94-2.06-.94L8.5 2.5l-.94 2.06-2.06.94zm10 10l.94 2.06.94-2.06 2.06-.94-2.06-.94-.94-2.06-.94 2.06-2.06.94z\"/><path d=\"M17.41 7.96l-1.37-1.37c-.4-.4-.92-.59-1.43-.59-.52 0-1.04.2-1.43.59L10.3 9.45l-7.72 7.72c-.78.78-.78 2.05 0 2.83L4 21.41c.39.39.9.59 1.41.59.51 0 1.02-.2 1.41-.59l7.78-7.78 2.81-2.81c.8-.78.8-2.07 0-2.86zM5.41 20L4 18.59l7.72-7.72 1.47 1.35L5.41 20z\"/>\n",
       "  </svg>\n",
       "      </button>\n",
       "      \n",
       "  <style>\n",
       "    .colab-df-container {\n",
       "      display:flex;\n",
       "      flex-wrap:wrap;\n",
       "      gap: 12px;\n",
       "    }\n",
       "\n",
       "    .colab-df-convert {\n",
       "      background-color: #E8F0FE;\n",
       "      border: none;\n",
       "      border-radius: 50%;\n",
       "      cursor: pointer;\n",
       "      display: none;\n",
       "      fill: #1967D2;\n",
       "      height: 32px;\n",
       "      padding: 0 0 0 0;\n",
       "      width: 32px;\n",
       "    }\n",
       "\n",
       "    .colab-df-convert:hover {\n",
       "      background-color: #E2EBFA;\n",
       "      box-shadow: 0px 1px 2px rgba(60, 64, 67, 0.3), 0px 1px 3px 1px rgba(60, 64, 67, 0.15);\n",
       "      fill: #174EA6;\n",
       "    }\n",
       "\n",
       "    [theme=dark] .colab-df-convert {\n",
       "      background-color: #3B4455;\n",
       "      fill: #D2E3FC;\n",
       "    }\n",
       "\n",
       "    [theme=dark] .colab-df-convert:hover {\n",
       "      background-color: #434B5C;\n",
       "      box-shadow: 0px 1px 3px 1px rgba(0, 0, 0, 0.15);\n",
       "      filter: drop-shadow(0px 1px 2px rgba(0, 0, 0, 0.3));\n",
       "      fill: #FFFFFF;\n",
       "    }\n",
       "  </style>\n",
       "\n",
       "      <script>\n",
       "        const buttonEl =\n",
       "          document.querySelector('#df-f73e8401-b713-4a2c-809a-e8662471f4ed button.colab-df-convert');\n",
       "        buttonEl.style.display =\n",
       "          google.colab.kernel.accessAllowed ? 'block' : 'none';\n",
       "\n",
       "        async function convertToInteractive(key) {\n",
       "          const element = document.querySelector('#df-f73e8401-b713-4a2c-809a-e8662471f4ed');\n",
       "          const dataTable =\n",
       "            await google.colab.kernel.invokeFunction('convertToInteractive',\n",
       "                                                     [key], {});\n",
       "          if (!dataTable) return;\n",
       "\n",
       "          const docLinkHtml = 'Like what you see? Visit the ' +\n",
       "            '<a target=\"_blank\" href=https://colab.research.google.com/notebooks/data_table.ipynb>data table notebook</a>'\n",
       "            + ' to learn more about interactive tables.';\n",
       "          element.innerHTML = '';\n",
       "          dataTable['output_type'] = 'display_data';\n",
       "          await google.colab.output.renderOutput(dataTable, element);\n",
       "          const docLink = document.createElement('div');\n",
       "          docLink.innerHTML = docLinkHtml;\n",
       "          element.appendChild(docLink);\n",
       "        }\n",
       "      </script>\n",
       "    </div>\n",
       "  </div>\n",
       "  "
      ],
      "text/plain": [
       "            wind_10m  specific_humidity     LW_down     SW_down  rainfall  \\\n",
       "Date                                                                        \n",
       "1979-01-01  5.531398           0.811961  186.687054    3.127880  1.009872   \n",
       "1979-02-01  5.328020           0.688896  174.794571   18.541594  0.920831   \n",
       "1979-03-01  5.432511           0.916124  190.741933   67.690429  0.983327   \n",
       "1979-04-01  4.792836           1.272056  212.937925  156.223673  0.890723   \n",
       "1979-05-01  4.819028           2.239776  253.690478  230.950833  1.201308   \n",
       "...              ...                ...         ...         ...       ...   \n",
       "2021-04-01  5.383687           1.529497  225.171796  156.567743  1.159049   \n",
       "2021-05-01  4.777020           2.451088  260.956781  229.604138  1.077705   \n",
       "2021-06-01  4.771453           4.176458  294.931709  244.702852  1.585094   \n",
       "2021-07-01  4.754014           5.193846  313.311345  196.774631  1.957911   \n",
       "2021-08-01  4.635243           5.077386  313.003568  126.146891  2.046782   \n",
       "\n",
       "            snowfall         sst         t2m  surface_pressure  sea_ice_extent  \n",
       "Date                                                                            \n",
       "1979-01-01  0.892319  273.355237  250.388101        984.633032      15604191.0  \n",
       "1979-02-01  0.781347  273.121885  247.071202        983.980418      16378929.0  \n",
       "1979-03-01  0.855266  273.088099  252.954138        985.140468      16521089.0  \n",
       "1979-04-01  0.705203  273.126062  259.557456        989.314698      15561238.0  \n",
       "1979-05-01  0.688723  273.393551  269.375118        984.483658      14085613.0  \n",
       "...              ...         ...         ...               ...             ...  \n",
       "2021-04-01  0.929777  273.470298  263.146395        985.801841      13840000.0  \n",
       "2021-05-01  0.575494  273.888627  271.557464        985.606182      12660000.0  \n",
       "2021-06-01  0.360146  275.245088  278.360921        978.436682      10710000.0  \n",
       "2021-07-01  0.248088  277.253314  280.413695        978.293303       7690000.0  \n",
       "2021-08-01  0.235519  278.556142  279.556077        980.453507       5750000.0  \n",
       "\n",
       "[512 rows x 10 columns]"
      ]
     },
     "execution_count": 4,
     "metadata": {},
     "output_type": "execute_result"
    }
   ],
   "source": [
    "df['Date'] = pd.to_datetime(df['Date'], infer_datetime_format=True)\n",
    "df.set_index('Date', inplace=True)\n",
    "df = df.astype(float)                 # cast df to float\n",
    "df.tail(len(df))"
   ]
  },
  {
   "cell_type": "code",
   "execution_count": 5,
   "id": "e5014c30",
   "metadata": {
    "executionInfo": {
     "elapsed": 5,
     "status": "ok",
     "timestamp": 1670228007531,
     "user": {
      "displayName": "Emam Hossain",
      "userId": "11818338395150337156"
     },
     "user_tz": 300
    },
    "id": "e5014c30"
   },
   "outputs": [],
   "source": [
    "def create_model_data (dataset, look_back, lead_time):\n",
    "    dataX, dataY = [], []\n",
    "    \n",
    "    for i in range(len(dataset)-look_back-lead_time):\n",
    "        a = dataset[i:(i+look_back)]\n",
    "        dataX.append(a)\n",
    "        dataY.append(dataset[i + look_back + (lead_time-1)])\n",
    "    return np.array(dataX), np.array(dataY)"
   ]
  },
  {
   "cell_type": "code",
   "execution_count": 6,
   "id": "c1aaa5e4",
   "metadata": {
    "executionInfo": {
     "elapsed": 5,
     "status": "ok",
     "timestamp": 1670228007531,
     "user": {
      "displayName": "Emam Hossain",
      "userId": "11818338395150337156"
     },
     "user_tz": 300
    },
    "id": "c1aaa5e4",
    "scrolled": true
   },
   "outputs": [],
   "source": [
    "target_index = df.columns.tolist().index('sea_ice_extent')\n",
    "\n",
    "dataset = df.values.astype('float32')               # DataFrame converted to Numpy Array\n",
    "\n",
    "scaler = MinMaxScaler(feature_range=(0, 1))\n",
    "dataset = scaler.fit_transform(dataset)\n",
    "\n",
    "X, y = create_model_data (dataset, look_back=look_back, lead_time=lead_time)\n",
    "y = y[:,target_index]"
   ]
  },
  {
   "cell_type": "code",
   "execution_count": 7,
   "id": "KGbRA39Br3S9",
   "metadata": {
    "executionInfo": {
     "elapsed": 344,
     "status": "ok",
     "timestamp": 1670228007870,
     "user": {
      "displayName": "Emam Hossain",
      "userId": "11818338395150337156"
     },
     "user_tz": 300
    },
    "id": "KGbRA39Br3S9"
   },
   "outputs": [],
   "source": [
    "from sklearn.model_selection import train_test_split\n",
    "\n",
    "X_train, X_test, y_train, y_test = train_test_split(X, y, test_size=0.2, shuffle=False)"
   ]
  },
  {
   "cell_type": "code",
   "execution_count": 8,
   "id": "9405d356",
   "metadata": {
    "colab": {
     "base_uri": "https://localhost:8080/",
     "height": 431
    },
    "executionInfo": {
     "elapsed": 1507,
     "status": "ok",
     "timestamp": 1670228009374,
     "user": {
      "displayName": "Emam Hossain",
      "userId": "11818338395150337156"
     },
     "user_tz": 300
    },
    "id": "9405d356",
    "outputId": "4035e2d2-a06c-4ab9-d177-7acfc0f4d2ca"
   },
   "outputs": [
    {
     "data": {
      "text/plain": [
       "<function matplotlib.pyplot.show(*args, **kw)>"
      ]
     },
     "execution_count": 8,
     "metadata": {},
     "output_type": "execute_result"
    },
    {
     "data": {
      "image/png": "[encoded data removed]",
      "text/plain": [
       "<Figure size 1152x432 with 1 Axes>"
      ]
     },
     "metadata": {
      "needs_background": "light"
     },
     "output_type": "display_data"
    }
   ],
   "source": [
    "plt.figure(figsize = (16,6))\n",
    "ax = plt.axes()\n",
    "# ax.set_facecolor('#dcdcdc')\n",
    "\n",
    "plt.title('Arctic Sea Ice Extent Trend from 1979-2018', fontsize = 20,fontweight = \"bold\")\n",
    "plt.xlabel('Time' , fontsize = 14,fontweight = \"bold\")\n",
    "plt.ylabel('Sea Ice Extent (10\\u2076 km\\u00b2)', fontsize = 14,fontweight = \"bold\")\n",
    "plt.plot(df['sea_ice_extent'][:len(df)-len(y_test)]/10**6, 'blue', label='Training Data')\n",
    "plt.plot(df['sea_ice_extent'][len(df)-len(y_test):]/10**6, 'red', label='Testing Data')\n",
    "plt.legend()\n",
    "plt.grid()\n",
    "plt.show"
   ]
  },
  {
   "cell_type": "code",
   "execution_count": 9,
   "id": "86f5e0f3",
   "metadata": {
    "colab": {
     "base_uri": "https://localhost:8080/"
    },
    "executionInfo": {
     "elapsed": 17583,
     "status": "ok",
     "timestamp": 1670228026954,
     "user": {
      "displayName": "Emam Hossain",
      "userId": "11818338395150337156"
     },
     "user_tz": 300
    },
    "id": "86f5e0f3",
    "outputId": "e51db69d-e106-4821-e788-9dfa513cb2cb"
   },
   "outputs": [
    {
     "name": "stdout",
     "output_type": "stream",
     "text": [
      "Model: \"sequential\"\n",
      "_________________________________________________________________\n",
      " Layer (type)                Output Shape              Param #   \n",
      "=================================================================\n",
      " gru (GRU)                   (None, 20, 64)            14592     \n",
      "                                                                 \n",
      " dropout (Dropout)           (None, 20, 64)            0         \n",
      "                                                                 \n",
      " gru_1 (GRU)                 (None, 20, 128)           74496     \n",
      "                                                                 \n",
      " dropout_1 (Dropout)         (None, 20, 128)           0         \n",
      "                                                                 \n",
      " gru_2 (GRU)                 (None, 20, 256)           296448    \n",
      "                                                                 \n",
      " dropout_2 (Dropout)         (None, 20, 256)           0         \n",
      "                                                                 \n",
      " gru_3 (GRU)                 (None, 20, 512)           1182720   \n",
      "                                                                 \n",
      " dropout_3 (Dropout)         (None, 20, 512)           0         \n",
      "                                                                 \n",
      " lstm (LSTM)                 (None, 20, 1024)          6295552   \n",
      "                                                                 \n",
      " dropout_4 (Dropout)         (None, 20, 1024)          0         \n",
      "                                                                 \n",
      " lstm_1 (LSTM)               (None, 20, 512)           3147776   \n",
      "                                                                 \n",
      " dropout_5 (Dropout)         (None, 20, 512)           0         \n",
      "                                                                 \n",
      " lstm_2 (LSTM)               (None, 20, 256)           787456    \n",
      "                                                                 \n",
      " dropout_6 (Dropout)         (None, 20, 256)           0         \n",
      "                                                                 \n",
      " lstm_3 (LSTM)               (None, 128)               197120    \n",
      "                                                                 \n",
      " dropout_7 (Dropout)         (None, 128)               0         \n",
      "                                                                 \n",
      " dense (Dense)               (None, 64)                8256      \n",
      "                                                                 \n",
      " dense_1 (Dense)             (None, 1)                 65        \n",
      "                                                                 \n",
      "=================================================================\n",
      "Total params: 12,004,481\n",
      "Trainable params: 12,004,481\n",
      "Non-trainable params: 0\n",
      "_________________________________________________________________\n",
      "None\n"
     ]
    }
   ],
   "source": [
    "from keras.models import Sequential\n",
    "from keras.layers import Dense, Dropout, Activation, Input, LSTM, GRU, Dense\n",
    "\n",
    "input_shape=(X.shape[1], X.shape[2])\n",
    "\n",
    "model = Sequential()\n",
    "model.add(GRU(64, input_shape=(X.shape[1], X.shape[2]), return_sequences=True))\n",
    "model.add(Dropout(0.2))\n",
    "\n",
    "model.add(GRU(128, return_sequences=True))\n",
    "model.add(Dropout(0.2))\n",
    "\n",
    "model.add(GRU(256, return_sequences=True))\n",
    "model.add(Dropout(0.2))\n",
    "\n",
    "model.add(GRU(512, return_sequences=True))\n",
    "model.add(Dropout(0.2))\n",
    "\n",
    "model.add(LSTM(1024, return_sequences=True))\n",
    "model.add(Dropout(0.2))\n",
    "\n",
    "model.add(LSTM(512, return_sequences=True))\n",
    "model.add(Dropout(0.2))\n",
    "\n",
    "model.add(LSTM(256, return_sequences=True))\n",
    "model.add(Dropout(0.2))\n",
    "\n",
    "model.add(LSTM(128))\n",
    "model.add(Dropout(0.2))\n",
    "\n",
    "model.add(Dense(64 ,  activation = 'relu'))\n",
    "model.add(Dense(1))\n",
    "\n",
    "model.compile(loss='mean_squared_error', optimizer='adam', metrics=['mae', 'mse'])\n",
    "print(model.summary())"
   ]
  },
  {
   "cell_type": "code",
   "execution_count": 10,
   "id": "8a6be2cb",
   "metadata": {
    "colab": {
     "base_uri": "https://localhost:8080/"
    },
    "executionInfo": {
     "elapsed": 46843,
     "status": "ok",
     "timestamp": 1670228073792,
     "user": {
      "displayName": "Emam Hossain",
      "userId": "11818338395150337156"
     },
     "user_tz": 300
    },
    "id": "8a6be2cb",
    "outputId": "39c25143-2676-45e5-9e6e-52b009fcbcf8",
    "scrolled": true
   },
   "outputs": [
    {
     "name": "stdout",
     "output_type": "stream",
     "text": [
      "Epoch 1/100\n",
      "6/6 [==============================] - ETA: 0s - loss: 0.3373 - mae: 0.4960 - mse: 0.3373"
     ]
    },
    {
     "name": "stderr",
     "output_type": "stream",
     "text": [
      "WARNING:tensorflow:Can save best model only with val_mean_squared_error available, skipping.\n"
     ]
    },
    {
     "name": "stdout",
     "output_type": "stream",
     "text": [
      "6/6 [==============================] - 19s 535ms/step - loss: 0.3373 - mae: 0.4960 - mse: 0.3373 - val_loss: 0.1269 - val_mae: 0.3141 - val_mse: 0.1269\n",
      "Epoch 2/100\n",
      "6/6 [==============================] - ETA: 0s - loss: 0.0935 - mae: 0.2560 - mse: 0.0935"
     ]
    },
    {
     "name": "stderr",
     "output_type": "stream",
     "text": [
      "WARNING:tensorflow:Can save best model only with val_mean_squared_error available, skipping.\n"
     ]
    },
    {
     "name": "stdout",
     "output_type": "stream",
     "text": [
      "6/6 [==============================] - 0s 58ms/step - loss: 0.0935 - mae: 0.2560 - mse: 0.0935 - val_loss: 0.0978 - val_mae: 0.2734 - val_mse: 0.0978\n",
      "Epoch 3/100\n",
      "5/6 [========================>.....] - ETA: 0s - loss: 0.0931 - mae: 0.2518 - mse: 0.0931"
     ]
    },
    {
     "name": "stderr",
     "output_type": "stream",
     "text": [
      "WARNING:tensorflow:Can save best model only with val_mean_squared_error available, skipping.\n"
     ]
    },
    {
     "name": "stdout",
     "output_type": "stream",
     "text": [
      "6/6 [==============================] - 0s 45ms/step - loss: 0.0936 - mae: 0.2536 - mse: 0.0936 - val_loss: 0.0895 - val_mae: 0.2698 - val_mse: 0.0895\n",
      "Epoch 4/100\n",
      "5/6 [========================>.....] - ETA: 0s - loss: 0.0738 - mae: 0.2263 - mse: 0.0738"
     ]
    },
    {
     "name": "stderr",
     "output_type": "stream",
     "text": [
      "WARNING:tensorflow:Can save best model only with val_mean_squared_error available, skipping.\n"
     ]
    },
    {
     "name": "stdout",
     "output_type": "stream",
     "text": [
      "6/6 [==============================] - 0s 45ms/step - loss: 0.0729 - mae: 0.2247 - mse: 0.0729 - val_loss: 0.0988 - val_mae: 0.2387 - val_mse: 0.0988\n",
      "Epoch 5/100\n",
      "5/6 [========================>.....] - ETA: 0s - loss: 0.0655 - mae: 0.2152 - mse: 0.0655"
     ]
    },
    {
     "name": "stderr",
     "output_type": "stream",
     "text": [
      "WARNING:tensorflow:Can save best model only with val_mean_squared_error available, skipping.\n"
     ]
    },
    {
     "name": "stdout",
     "output_type": "stream",
     "text": [
      "6/6 [==============================] - 0s 46ms/step - loss: 0.0662 - mae: 0.2171 - mse: 0.0662 - val_loss: 0.0778 - val_mae: 0.2390 - val_mse: 0.0778\n",
      "Epoch 6/100\n",
      "5/6 [========================>.....] - ETA: 0s - loss: 0.0650 - mae: 0.2162 - mse: 0.0650"
     ]
    },
    {
     "name": "stderr",
     "output_type": "stream",
     "text": [
      "WARNING:tensorflow:Can save best model only with val_mean_squared_error available, skipping.\n"
     ]
    },
    {
     "name": "stdout",
     "output_type": "stream",
     "text": [
      "6/6 [==============================] - 0s 44ms/step - loss: 0.0654 - mae: 0.2177 - mse: 0.0654 - val_loss: 0.0953 - val_mae: 0.2374 - val_mse: 0.0953\n",
      "Epoch 7/100\n",
      "5/6 [========================>.....] - ETA: 0s - loss: 0.0628 - mae: 0.2081 - mse: 0.0628"
     ]
    },
    {
     "name": "stderr",
     "output_type": "stream",
     "text": [
      "WARNING:tensorflow:Can save best model only with val_mean_squared_error available, skipping.\n"
     ]
    },
    {
     "name": "stdout",
     "output_type": "stream",
     "text": [
      "6/6 [==============================] - 0s 44ms/step - loss: 0.0639 - mae: 0.2106 - mse: 0.0639 - val_loss: 0.0779 - val_mae: 0.2391 - val_mse: 0.0779\n",
      "Epoch 8/100\n",
      "5/6 [========================>.....] - ETA: 0s - loss: 0.0591 - mae: 0.2045 - mse: 0.0591"
     ]
    },
    {
     "name": "stderr",
     "output_type": "stream",
     "text": [
      "WARNING:tensorflow:Can save best model only with val_mean_squared_error available, skipping.\n"
     ]
    },
    {
     "name": "stdout",
     "output_type": "stream",
     "text": [
      "6/6 [==============================] - 0s 45ms/step - loss: 0.0597 - mae: 0.2059 - mse: 0.0597 - val_loss: 0.0890 - val_mae: 0.2355 - val_mse: 0.0890\n",
      "Epoch 9/100\n",
      "5/6 [========================>.....] - ETA: 0s - loss: 0.0612 - mae: 0.2086 - mse: 0.0612"
     ]
    },
    {
     "name": "stderr",
     "output_type": "stream",
     "text": [
      "WARNING:tensorflow:Can save best model only with val_mean_squared_error available, skipping.\n"
     ]
    },
    {
     "name": "stdout",
     "output_type": "stream",
     "text": [
      "6/6 [==============================] - 0s 46ms/step - loss: 0.0606 - mae: 0.2069 - mse: 0.0606 - val_loss: 0.0808 - val_mae: 0.2366 - val_mse: 0.0808\n",
      "Epoch 10/100\n",
      "5/6 [========================>.....] - ETA: 0s - loss: 0.0645 - mae: 0.2184 - mse: 0.0645"
     ]
    },
    {
     "name": "stderr",
     "output_type": "stream",
     "text": [
      "WARNING:tensorflow:Can save best model only with val_mean_squared_error available, skipping.\n"
     ]
    },
    {
     "name": "stdout",
     "output_type": "stream",
     "text": [
      "6/6 [==============================] - 0s 45ms/step - loss: 0.0638 - mae: 0.2179 - mse: 0.0638 - val_loss: 0.0829 - val_mae: 0.2354 - val_mse: 0.0829\n",
      "Epoch 11/100\n",
      "5/6 [========================>.....] - ETA: 0s - loss: 0.0587 - mae: 0.2075 - mse: 0.0587"
     ]
    },
    {
     "name": "stderr",
     "output_type": "stream",
     "text": [
      "WARNING:tensorflow:Can save best model only with val_mean_squared_error available, skipping.\n"
     ]
    },
    {
     "name": "stdout",
     "output_type": "stream",
     "text": [
      "6/6 [==============================] - 0s 45ms/step - loss: 0.0595 - mae: 0.2092 - mse: 0.0595 - val_loss: 0.0817 - val_mae: 0.2360 - val_mse: 0.0817\n",
      "Epoch 12/100\n",
      "5/6 [========================>.....] - ETA: 0s - loss: 0.0585 - mae: 0.2082 - mse: 0.0585"
     ]
    },
    {
     "name": "stderr",
     "output_type": "stream",
     "text": [
      "WARNING:tensorflow:Can save best model only with val_mean_squared_error available, skipping.\n"
     ]
    },
    {
     "name": "stdout",
     "output_type": "stream",
     "text": [
      "6/6 [==============================] - 0s 46ms/step - loss: 0.0593 - mae: 0.2097 - mse: 0.0593 - val_loss: 0.0833 - val_mae: 0.2350 - val_mse: 0.0833\n",
      "Epoch 13/100\n",
      "5/6 [========================>.....] - ETA: 0s - loss: 0.0614 - mae: 0.2081 - mse: 0.0614"
     ]
    },
    {
     "name": "stderr",
     "output_type": "stream",
     "text": [
      "WARNING:tensorflow:Can save best model only with val_mean_squared_error available, skipping.\n"
     ]
    },
    {
     "name": "stdout",
     "output_type": "stream",
     "text": [
      "6/6 [==============================] - 0s 45ms/step - loss: 0.0615 - mae: 0.2086 - mse: 0.0615 - val_loss: 0.0768 - val_mae: 0.2408 - val_mse: 0.0768\n",
      "Epoch 14/100\n",
      "5/6 [========================>.....] - ETA: 0s - loss: 0.0642 - mae: 0.2194 - mse: 0.0642"
     ]
    },
    {
     "name": "stderr",
     "output_type": "stream",
     "text": [
      "WARNING:tensorflow:Can save best model only with val_mean_squared_error available, skipping.\n"
     ]
    },
    {
     "name": "stdout",
     "output_type": "stream",
     "text": [
      "6/6 [==============================] - 0s 46ms/step - loss: 0.0644 - mae: 0.2194 - mse: 0.0644 - val_loss: 0.0846 - val_mae: 0.2348 - val_mse: 0.0846\n",
      "Epoch 15/100\n",
      "5/6 [========================>.....] - ETA: 0s - loss: 0.0587 - mae: 0.2060 - mse: 0.0587"
     ]
    },
    {
     "name": "stderr",
     "output_type": "stream",
     "text": [
      "WARNING:tensorflow:Can save best model only with val_mean_squared_error available, skipping.\n"
     ]
    },
    {
     "name": "stdout",
     "output_type": "stream",
     "text": [
      "6/6 [==============================] - 0s 44ms/step - loss: 0.0591 - mae: 0.2051 - mse: 0.0591 - val_loss: 0.0784 - val_mae: 0.2377 - val_mse: 0.0784\n",
      "Epoch 16/100\n",
      "5/6 [========================>.....] - ETA: 0s - loss: 0.0538 - mae: 0.1987 - mse: 0.0538"
     ]
    },
    {
     "name": "stderr",
     "output_type": "stream",
     "text": [
      "WARNING:tensorflow:Can save best model only with val_mean_squared_error available, skipping.\n"
     ]
    },
    {
     "name": "stdout",
     "output_type": "stream",
     "text": [
      "6/6 [==============================] - 0s 44ms/step - loss: 0.0555 - mae: 0.2015 - mse: 0.0555 - val_loss: 0.0802 - val_mae: 0.2362 - val_mse: 0.0802\n",
      "Epoch 17/100\n",
      "5/6 [========================>.....] - ETA: 0s - loss: 0.0596 - mae: 0.2076 - mse: 0.0596"
     ]
    },
    {
     "name": "stderr",
     "output_type": "stream",
     "text": [
      "WARNING:tensorflow:Can save best model only with val_mean_squared_error available, skipping.\n"
     ]
    },
    {
     "name": "stdout",
     "output_type": "stream",
     "text": [
      "6/6 [==============================] - 0s 47ms/step - loss: 0.0601 - mae: 0.2088 - mse: 0.0601 - val_loss: 0.0816 - val_mae: 0.2350 - val_mse: 0.0816\n",
      "Epoch 18/100\n",
      "5/6 [========================>.....] - ETA: 0s - loss: 0.0589 - mae: 0.2084 - mse: 0.0589"
     ]
    },
    {
     "name": "stderr",
     "output_type": "stream",
     "text": [
      "WARNING:tensorflow:Can save best model only with val_mean_squared_error available, skipping.\n"
     ]
    },
    {
     "name": "stdout",
     "output_type": "stream",
     "text": [
      "6/6 [==============================] - 0s 45ms/step - loss: 0.0571 - mae: 0.2043 - mse: 0.0571 - val_loss: 0.0836 - val_mae: 0.2336 - val_mse: 0.0836\n",
      "Epoch 19/100\n",
      "5/6 [========================>.....] - ETA: 0s - loss: 0.0593 - mae: 0.2077 - mse: 0.0593"
     ]
    },
    {
     "name": "stderr",
     "output_type": "stream",
     "text": [
      "WARNING:tensorflow:Can save best model only with val_mean_squared_error available, skipping.\n"
     ]
    },
    {
     "name": "stdout",
     "output_type": "stream",
     "text": [
      "6/6 [==============================] - 0s 43ms/step - loss: 0.0580 - mae: 0.2053 - mse: 0.0580 - val_loss: 0.0794 - val_mae: 0.2325 - val_mse: 0.0794\n",
      "Epoch 20/100\n",
      "5/6 [========================>.....] - ETA: 0s - loss: 0.0568 - mae: 0.2057 - mse: 0.0568"
     ]
    },
    {
     "name": "stderr",
     "output_type": "stream",
     "text": [
      "WARNING:tensorflow:Can save best model only with val_mean_squared_error available, skipping.\n"
     ]
    },
    {
     "name": "stdout",
     "output_type": "stream",
     "text": [
      "6/6 [==============================] - 0s 44ms/step - loss: 0.1490 - mae: 0.2270 - mse: 0.1490 - val_loss: 0.0888 - val_mae: 0.2344 - val_mse: 0.0888\n",
      "Epoch 21/100\n",
      "5/6 [========================>.....] - ETA: 0s - loss: 0.0631 - mae: 0.2109 - mse: 0.0631"
     ]
    },
    {
     "name": "stderr",
     "output_type": "stream",
     "text": [
      "WARNING:tensorflow:Can save best model only with val_mean_squared_error available, skipping.\n"
     ]
    },
    {
     "name": "stdout",
     "output_type": "stream",
     "text": [
      "6/6 [==============================] - 0s 44ms/step - loss: 0.0625 - mae: 0.2103 - mse: 0.0625 - val_loss: 0.0774 - val_mae: 0.2393 - val_mse: 0.0774\n",
      "Epoch 22/100\n",
      "5/6 [========================>.....] - ETA: 0s - loss: 0.0641 - mae: 0.2144 - mse: 0.0641"
     ]
    },
    {
     "name": "stderr",
     "output_type": "stream",
     "text": [
      "WARNING:tensorflow:Can save best model only with val_mean_squared_error available, skipping.\n"
     ]
    },
    {
     "name": "stdout",
     "output_type": "stream",
     "text": [
      "6/6 [==============================] - 0s 44ms/step - loss: 0.0639 - mae: 0.2144 - mse: 0.0639 - val_loss: 0.0791 - val_mae: 0.2508 - val_mse: 0.0791\n",
      "Epoch 23/100\n",
      "5/6 [========================>.....] - ETA: 0s - loss: 0.0728 - mae: 0.2252 - mse: 0.0728"
     ]
    },
    {
     "name": "stderr",
     "output_type": "stream",
     "text": [
      "WARNING:tensorflow:Can save best model only with val_mean_squared_error available, skipping.\n"
     ]
    },
    {
     "name": "stdout",
     "output_type": "stream",
     "text": [
      "6/6 [==============================] - 0s 47ms/step - loss: 0.0695 - mae: 0.2193 - mse: 0.0695 - val_loss: 0.0913 - val_mae: 0.2361 - val_mse: 0.0913\n",
      "Epoch 24/100\n",
      "5/6 [========================>.....] - ETA: 0s - loss: 0.0614 - mae: 0.2106 - mse: 0.0614"
     ]
    },
    {
     "name": "stderr",
     "output_type": "stream",
     "text": [
      "WARNING:tensorflow:Can save best model only with val_mean_squared_error available, skipping.\n"
     ]
    },
    {
     "name": "stdout",
     "output_type": "stream",
     "text": [
      "6/6 [==============================] - 0s 47ms/step - loss: 0.0628 - mae: 0.2139 - mse: 0.0628 - val_loss: 0.0803 - val_mae: 0.2335 - val_mse: 0.0803\n",
      "Epoch 25/100\n",
      "5/6 [========================>.....] - ETA: 0s - loss: 0.1034 - mae: 0.2551 - mse: 0.1034"
     ]
    },
    {
     "name": "stderr",
     "output_type": "stream",
     "text": [
      "WARNING:tensorflow:Can save best model only with val_mean_squared_error available, skipping.\n"
     ]
    },
    {
     "name": "stdout",
     "output_type": "stream",
     "text": [
      "6/6 [==============================] - 0s 44ms/step - loss: 0.1014 - mae: 0.2540 - mse: 0.1014 - val_loss: 0.0807 - val_mae: 0.2535 - val_mse: 0.0807\n",
      "Epoch 26/100\n",
      "5/6 [========================>.....] - ETA: 0s - loss: 0.1083 - mae: 0.2679 - mse: 0.1083"
     ]
    },
    {
     "name": "stderr",
     "output_type": "stream",
     "text": [
      "WARNING:tensorflow:Can save best model only with val_mean_squared_error available, skipping.\n"
     ]
    },
    {
     "name": "stdout",
     "output_type": "stream",
     "text": [
      "6/6 [==============================] - 0s 49ms/step - loss: 0.1061 - mae: 0.2651 - mse: 0.1061 - val_loss: 0.0772 - val_mae: 0.2400 - val_mse: 0.0772\n",
      "Epoch 27/100\n",
      "5/6 [========================>.....] - ETA: 0s - loss: 0.0868 - mae: 0.2500 - mse: 0.0868"
     ]
    },
    {
     "name": "stderr",
     "output_type": "stream",
     "text": [
      "WARNING:tensorflow:Can save best model only with val_mean_squared_error available, skipping.\n"
     ]
    },
    {
     "name": "stdout",
     "output_type": "stream",
     "text": [
      "6/6 [==============================] - 0s 45ms/step - loss: 0.0867 - mae: 0.2488 - mse: 0.0867 - val_loss: 0.0980 - val_mae: 0.2385 - val_mse: 0.0980\n",
      "Epoch 28/100\n",
      "5/6 [========================>.....] - ETA: 0s - loss: 0.0751 - mae: 0.2280 - mse: 0.0751"
     ]
    },
    {
     "name": "stderr",
     "output_type": "stream",
     "text": [
      "WARNING:tensorflow:Can save best model only with val_mean_squared_error available, skipping.\n"
     ]
    },
    {
     "name": "stdout",
     "output_type": "stream",
     "text": [
      "6/6 [==============================] - 0s 46ms/step - loss: 0.0737 - mae: 0.2263 - mse: 0.0737 - val_loss: 0.0770 - val_mae: 0.2405 - val_mse: 0.0770\n",
      "Epoch 29/100\n",
      "5/6 [========================>.....] - ETA: 0s - loss: 0.0665 - mae: 0.2162 - mse: 0.0665"
     ]
    },
    {
     "name": "stderr",
     "output_type": "stream",
     "text": [
      "WARNING:tensorflow:Can save best model only with val_mean_squared_error available, skipping.\n"
     ]
    },
    {
     "name": "stdout",
     "output_type": "stream",
     "text": [
      "6/6 [==============================] - 0s 45ms/step - loss: 0.0655 - mae: 0.2138 - mse: 0.0655 - val_loss: 0.0906 - val_mae: 0.2361 - val_mse: 0.0906\n",
      "Epoch 30/100\n",
      "5/6 [========================>.....] - ETA: 0s - loss: 0.0668 - mae: 0.2162 - mse: 0.0668"
     ]
    },
    {
     "name": "stderr",
     "output_type": "stream",
     "text": [
      "WARNING:tensorflow:Can save best model only with val_mean_squared_error available, skipping.\n"
     ]
    },
    {
     "name": "stdout",
     "output_type": "stream",
     "text": [
      "6/6 [==============================] - 0s 44ms/step - loss: 0.0694 - mae: 0.2214 - mse: 0.0694 - val_loss: 0.0785 - val_mae: 0.2379 - val_mse: 0.0785\n",
      "Epoch 31/100\n",
      "5/6 [========================>.....] - ETA: 0s - loss: 0.0651 - mae: 0.2168 - mse: 0.0651"
     ]
    },
    {
     "name": "stderr",
     "output_type": "stream",
     "text": [
      "WARNING:tensorflow:Can save best model only with val_mean_squared_error available, skipping.\n"
     ]
    },
    {
     "name": "stdout",
     "output_type": "stream",
     "text": [
      "6/6 [==============================] - 0s 44ms/step - loss: 0.0637 - mae: 0.2140 - mse: 0.0637 - val_loss: 0.0818 - val_mae: 0.2343 - val_mse: 0.0818\n",
      "Epoch 32/100\n",
      "5/6 [========================>.....] - ETA: 0s - loss: 0.0640 - mae: 0.2117 - mse: 0.0640"
     ]
    },
    {
     "name": "stderr",
     "output_type": "stream",
     "text": [
      "WARNING:tensorflow:Can save best model only with val_mean_squared_error available, skipping.\n"
     ]
    },
    {
     "name": "stdout",
     "output_type": "stream",
     "text": [
      "6/6 [==============================] - 0s 47ms/step - loss: 0.0638 - mae: 0.2116 - mse: 0.0638 - val_loss: 0.0757 - val_mae: 0.2349 - val_mse: 0.0757\n",
      "Epoch 33/100\n",
      "5/6 [========================>.....] - ETA: 0s - loss: 0.0586 - mae: 0.1989 - mse: 0.0586"
     ]
    },
    {
     "name": "stderr",
     "output_type": "stream",
     "text": [
      "WARNING:tensorflow:Can save best model only with val_mean_squared_error available, skipping.\n"
     ]
    },
    {
     "name": "stdout",
     "output_type": "stream",
     "text": [
      "6/6 [==============================] - 0s 45ms/step - loss: 0.0596 - mae: 0.1995 - mse: 0.0596 - val_loss: 0.0706 - val_mae: 0.2219 - val_mse: 0.0706\n",
      "Epoch 34/100\n",
      "5/6 [========================>.....] - ETA: 0s - loss: 0.0497 - mae: 0.1838 - mse: 0.0497"
     ]
    },
    {
     "name": "stderr",
     "output_type": "stream",
     "text": [
      "WARNING:tensorflow:Can save best model only with val_mean_squared_error available, skipping.\n"
     ]
    },
    {
     "name": "stdout",
     "output_type": "stream",
     "text": [
      "6/6 [==============================] - 0s 48ms/step - loss: 0.0497 - mae: 0.1851 - mse: 0.0497 - val_loss: 0.0885 - val_mae: 0.2423 - val_mse: 0.0885\n",
      "Epoch 35/100\n",
      "5/6 [========================>.....] - ETA: 0s - loss: 0.0612 - mae: 0.2085 - mse: 0.0612"
     ]
    },
    {
     "name": "stderr",
     "output_type": "stream",
     "text": [
      "WARNING:tensorflow:Can save best model only with val_mean_squared_error available, skipping.\n"
     ]
    },
    {
     "name": "stdout",
     "output_type": "stream",
     "text": [
      "6/6 [==============================] - 0s 46ms/step - loss: 0.0608 - mae: 0.2077 - mse: 0.0608 - val_loss: 0.0693 - val_mae: 0.2144 - val_mse: 0.0693\n",
      "Epoch 36/100\n",
      "5/6 [========================>.....] - ETA: 0s - loss: 0.0462 - mae: 0.1752 - mse: 0.0462"
     ]
    },
    {
     "name": "stderr",
     "output_type": "stream",
     "text": [
      "WARNING:tensorflow:Can save best model only with val_mean_squared_error available, skipping.\n"
     ]
    },
    {
     "name": "stdout",
     "output_type": "stream",
     "text": [
      "6/6 [==============================] - 0s 47ms/step - loss: 0.0457 - mae: 0.1743 - mse: 0.0457 - val_loss: 0.0337 - val_mae: 0.1408 - val_mse: 0.0337\n",
      "Epoch 37/100\n",
      "5/6 [========================>.....] - ETA: 0s - loss: 0.0230 - mae: 0.1221 - mse: 0.0230"
     ]
    },
    {
     "name": "stderr",
     "output_type": "stream",
     "text": [
      "WARNING:tensorflow:Can save best model only with val_mean_squared_error available, skipping.\n"
     ]
    },
    {
     "name": "stdout",
     "output_type": "stream",
     "text": [
      "6/6 [==============================] - 0s 48ms/step - loss: 0.0222 - mae: 0.1196 - mse: 0.0222 - val_loss: 0.0133 - val_mae: 0.0869 - val_mse: 0.0133\n",
      "Epoch 38/100\n",
      "5/6 [========================>.....] - ETA: 0s - loss: 0.0145 - mae: 0.0948 - mse: 0.0145"
     ]
    },
    {
     "name": "stderr",
     "output_type": "stream",
     "text": [
      "WARNING:tensorflow:Can save best model only with val_mean_squared_error available, skipping.\n"
     ]
    },
    {
     "name": "stdout",
     "output_type": "stream",
     "text": [
      "6/6 [==============================] - 0s 47ms/step - loss: 0.0145 - mae: 0.0949 - mse: 0.0145 - val_loss: 0.0330 - val_mae: 0.1440 - val_mse: 0.0330\n",
      "Epoch 39/100\n",
      "5/6 [========================>.....] - ETA: 0s - loss: 0.0180 - mae: 0.1059 - mse: 0.0180"
     ]
    },
    {
     "name": "stderr",
     "output_type": "stream",
     "text": [
      "WARNING:tensorflow:Can save best model only with val_mean_squared_error available, skipping.\n"
     ]
    },
    {
     "name": "stdout",
     "output_type": "stream",
     "text": [
      "6/6 [==============================] - 0s 46ms/step - loss: 0.0175 - mae: 0.1039 - mse: 0.0175 - val_loss: 0.0315 - val_mae: 0.1581 - val_mse: 0.0315\n",
      "Epoch 40/100\n",
      "5/6 [========================>.....] - ETA: 0s - loss: 0.0153 - mae: 0.0974 - mse: 0.0153"
     ]
    },
    {
     "name": "stderr",
     "output_type": "stream",
     "text": [
      "WARNING:tensorflow:Can save best model only with val_mean_squared_error available, skipping.\n"
     ]
    },
    {
     "name": "stdout",
     "output_type": "stream",
     "text": [
      "6/6 [==============================] - 0s 45ms/step - loss: 0.0155 - mae: 0.0979 - mse: 0.0155 - val_loss: 0.0125 - val_mae: 0.0858 - val_mse: 0.0125\n",
      "Epoch 41/100\n",
      "5/6 [========================>.....] - ETA: 0s - loss: 0.0136 - mae: 0.0910 - mse: 0.0136"
     ]
    },
    {
     "name": "stderr",
     "output_type": "stream",
     "text": [
      "WARNING:tensorflow:Can save best model only with val_mean_squared_error available, skipping.\n"
     ]
    },
    {
     "name": "stdout",
     "output_type": "stream",
     "text": [
      "6/6 [==============================] - 0s 45ms/step - loss: 0.0139 - mae: 0.0926 - mse: 0.0139 - val_loss: 0.0101 - val_mae: 0.0734 - val_mse: 0.0101\n",
      "Epoch 42/100\n",
      "5/6 [========================>.....] - ETA: 0s - loss: 0.0114 - mae: 0.0853 - mse: 0.0114"
     ]
    },
    {
     "name": "stderr",
     "output_type": "stream",
     "text": [
      "WARNING:tensorflow:Can save best model only with val_mean_squared_error available, skipping.\n"
     ]
    },
    {
     "name": "stdout",
     "output_type": "stream",
     "text": [
      "6/6 [==============================] - 0s 47ms/step - loss: 0.0114 - mae: 0.0855 - mse: 0.0114 - val_loss: 0.0083 - val_mae: 0.0670 - val_mse: 0.0083\n",
      "Epoch 43/100\n",
      "5/6 [========================>.....] - ETA: 0s - loss: 0.0089 - mae: 0.0758 - mse: 0.0089"
     ]
    },
    {
     "name": "stderr",
     "output_type": "stream",
     "text": [
      "WARNING:tensorflow:Can save best model only with val_mean_squared_error available, skipping.\n"
     ]
    },
    {
     "name": "stdout",
     "output_type": "stream",
     "text": [
      "6/6 [==============================] - 0s 48ms/step - loss: 0.0089 - mae: 0.0759 - mse: 0.0089 - val_loss: 0.0102 - val_mae: 0.0794 - val_mse: 0.0102\n",
      "Epoch 44/100\n",
      "5/6 [========================>.....] - ETA: 0s - loss: 0.0086 - mae: 0.0712 - mse: 0.0086"
     ]
    },
    {
     "name": "stderr",
     "output_type": "stream",
     "text": [
      "WARNING:tensorflow:Can save best model only with val_mean_squared_error available, skipping.\n"
     ]
    },
    {
     "name": "stdout",
     "output_type": "stream",
     "text": [
      "6/6 [==============================] - 0s 46ms/step - loss: 0.0086 - mae: 0.0712 - mse: 0.0086 - val_loss: 0.0100 - val_mae: 0.0918 - val_mse: 0.0100\n",
      "Epoch 45/100\n",
      "5/6 [========================>.....] - ETA: 0s - loss: 0.0083 - mae: 0.0738 - mse: 0.0083"
     ]
    },
    {
     "name": "stderr",
     "output_type": "stream",
     "text": [
      "WARNING:tensorflow:Can save best model only with val_mean_squared_error available, skipping.\n"
     ]
    },
    {
     "name": "stdout",
     "output_type": "stream",
     "text": [
      "6/6 [==============================] - 0s 47ms/step - loss: 0.0087 - mae: 0.0750 - mse: 0.0087 - val_loss: 0.0045 - val_mae: 0.0529 - val_mse: 0.0045\n",
      "Epoch 46/100\n",
      "5/6 [========================>.....] - ETA: 0s - loss: 0.0075 - mae: 0.0678 - mse: 0.0075"
     ]
    },
    {
     "name": "stderr",
     "output_type": "stream",
     "text": [
      "WARNING:tensorflow:Can save best model only with val_mean_squared_error available, skipping.\n"
     ]
    },
    {
     "name": "stdout",
     "output_type": "stream",
     "text": [
      "6/6 [==============================] - 0s 47ms/step - loss: 0.0075 - mae: 0.0688 - mse: 0.0075 - val_loss: 0.0068 - val_mae: 0.0697 - val_mse: 0.0068\n",
      "Epoch 47/100\n",
      "5/6 [========================>.....] - ETA: 0s - loss: 0.0059 - mae: 0.0614 - mse: 0.0059"
     ]
    },
    {
     "name": "stderr",
     "output_type": "stream",
     "text": [
      "WARNING:tensorflow:Can save best model only with val_mean_squared_error available, skipping.\n"
     ]
    },
    {
     "name": "stdout",
     "output_type": "stream",
     "text": [
      "6/6 [==============================] - 0s 48ms/step - loss: 0.0061 - mae: 0.0622 - mse: 0.0061 - val_loss: 0.0080 - val_mae: 0.0728 - val_mse: 0.0080\n",
      "Epoch 48/100\n",
      "5/6 [========================>.....] - ETA: 0s - loss: 0.0070 - mae: 0.0664 - mse: 0.0070"
     ]
    },
    {
     "name": "stderr",
     "output_type": "stream",
     "text": [
      "WARNING:tensorflow:Can save best model only with val_mean_squared_error available, skipping.\n"
     ]
    },
    {
     "name": "stdout",
     "output_type": "stream",
     "text": [
      "6/6 [==============================] - 0s 49ms/step - loss: 0.0067 - mae: 0.0653 - mse: 0.0067 - val_loss: 0.0076 - val_mae: 0.0738 - val_mse: 0.0076\n",
      "Epoch 49/100\n",
      "5/6 [========================>.....] - ETA: 0s - loss: 0.0071 - mae: 0.0677 - mse: 0.0071"
     ]
    },
    {
     "name": "stderr",
     "output_type": "stream",
     "text": [
      "WARNING:tensorflow:Can save best model only with val_mean_squared_error available, skipping.\n"
     ]
    },
    {
     "name": "stdout",
     "output_type": "stream",
     "text": [
      "6/6 [==============================] - 0s 46ms/step - loss: 0.0069 - mae: 0.0665 - mse: 0.0069 - val_loss: 0.0066 - val_mae: 0.0670 - val_mse: 0.0066\n",
      "Epoch 50/100\n",
      "5/6 [========================>.....] - ETA: 0s - loss: 0.0068 - mae: 0.0668 - mse: 0.0068"
     ]
    },
    {
     "name": "stderr",
     "output_type": "stream",
     "text": [
      "WARNING:tensorflow:Can save best model only with val_mean_squared_error available, skipping.\n"
     ]
    },
    {
     "name": "stdout",
     "output_type": "stream",
     "text": [
      "6/6 [==============================] - 0s 46ms/step - loss: 0.0068 - mae: 0.0663 - mse: 0.0068 - val_loss: 0.0066 - val_mae: 0.0685 - val_mse: 0.0066\n",
      "Epoch 51/100\n",
      "5/6 [========================>.....] - ETA: 0s - loss: 0.0062 - mae: 0.0633 - mse: 0.0062"
     ]
    },
    {
     "name": "stderr",
     "output_type": "stream",
     "text": [
      "WARNING:tensorflow:Can save best model only with val_mean_squared_error available, skipping.\n"
     ]
    },
    {
     "name": "stdout",
     "output_type": "stream",
     "text": [
      "6/6 [==============================] - 0s 47ms/step - loss: 0.0063 - mae: 0.0632 - mse: 0.0063 - val_loss: 0.0068 - val_mae: 0.0676 - val_mse: 0.0068\n",
      "Epoch 52/100\n",
      "5/6 [========================>.....] - ETA: 0s - loss: 0.0071 - mae: 0.0661 - mse: 0.0071"
     ]
    },
    {
     "name": "stderr",
     "output_type": "stream",
     "text": [
      "WARNING:tensorflow:Can save best model only with val_mean_squared_error available, skipping.\n"
     ]
    },
    {
     "name": "stdout",
     "output_type": "stream",
     "text": [
      "6/6 [==============================] - 0s 46ms/step - loss: 0.0070 - mae: 0.0652 - mse: 0.0070 - val_loss: 0.0060 - val_mae: 0.0653 - val_mse: 0.0060\n",
      "Epoch 53/100\n",
      "5/6 [========================>.....] - ETA: 0s - loss: 0.0064 - mae: 0.0644 - mse: 0.0064"
     ]
    },
    {
     "name": "stderr",
     "output_type": "stream",
     "text": [
      "WARNING:tensorflow:Can save best model only with val_mean_squared_error available, skipping.\n"
     ]
    },
    {
     "name": "stdout",
     "output_type": "stream",
     "text": [
      "6/6 [==============================] - 0s 46ms/step - loss: 0.0066 - mae: 0.0651 - mse: 0.0066 - val_loss: 0.0112 - val_mae: 0.0964 - val_mse: 0.0112\n",
      "Epoch 54/100\n",
      "5/6 [========================>.....] - ETA: 0s - loss: 0.0062 - mae: 0.0626 - mse: 0.0062"
     ]
    },
    {
     "name": "stderr",
     "output_type": "stream",
     "text": [
      "WARNING:tensorflow:Can save best model only with val_mean_squared_error available, skipping.\n"
     ]
    },
    {
     "name": "stdout",
     "output_type": "stream",
     "text": [
      "6/6 [==============================] - 0s 48ms/step - loss: 0.0065 - mae: 0.0638 - mse: 0.0065 - val_loss: 0.0060 - val_mae: 0.0587 - val_mse: 0.0060\n",
      "Epoch 55/100\n",
      "5/6 [========================>.....] - ETA: 0s - loss: 0.0058 - mae: 0.0601 - mse: 0.0058"
     ]
    },
    {
     "name": "stderr",
     "output_type": "stream",
     "text": [
      "WARNING:tensorflow:Can save best model only with val_mean_squared_error available, skipping.\n"
     ]
    },
    {
     "name": "stdout",
     "output_type": "stream",
     "text": [
      "6/6 [==============================] - 0s 48ms/step - loss: 0.0058 - mae: 0.0601 - mse: 0.0058 - val_loss: 0.0064 - val_mae: 0.0675 - val_mse: 0.0064\n",
      "Epoch 56/100\n",
      "5/6 [========================>.....] - ETA: 0s - loss: 0.0055 - mae: 0.0590 - mse: 0.0055"
     ]
    },
    {
     "name": "stderr",
     "output_type": "stream",
     "text": [
      "WARNING:tensorflow:Can save best model only with val_mean_squared_error available, skipping.\n"
     ]
    },
    {
     "name": "stdout",
     "output_type": "stream",
     "text": [
      "6/6 [==============================] - 0s 46ms/step - loss: 0.0055 - mae: 0.0583 - mse: 0.0055 - val_loss: 0.0053 - val_mae: 0.0574 - val_mse: 0.0053\n",
      "Epoch 57/100\n",
      "5/6 [========================>.....] - ETA: 0s - loss: 0.0054 - mae: 0.0588 - mse: 0.0054"
     ]
    },
    {
     "name": "stderr",
     "output_type": "stream",
     "text": [
      "WARNING:tensorflow:Can save best model only with val_mean_squared_error available, skipping.\n"
     ]
    },
    {
     "name": "stdout",
     "output_type": "stream",
     "text": [
      "6/6 [==============================] - 0s 45ms/step - loss: 0.0054 - mae: 0.0584 - mse: 0.0054 - val_loss: 0.0069 - val_mae: 0.0636 - val_mse: 0.0069\n",
      "Epoch 58/100\n",
      "5/6 [========================>.....] - ETA: 0s - loss: 0.0056 - mae: 0.0607 - mse: 0.0056"
     ]
    },
    {
     "name": "stderr",
     "output_type": "stream",
     "text": [
      "WARNING:tensorflow:Can save best model only with val_mean_squared_error available, skipping.\n"
     ]
    },
    {
     "name": "stdout",
     "output_type": "stream",
     "text": [
      "6/6 [==============================] - 0s 47ms/step - loss: 0.0056 - mae: 0.0609 - mse: 0.0056 - val_loss: 0.0062 - val_mae: 0.0627 - val_mse: 0.0062\n",
      "Epoch 59/100\n",
      "5/6 [========================>.....] - ETA: 0s - loss: 0.0059 - mae: 0.0610 - mse: 0.0059"
     ]
    },
    {
     "name": "stderr",
     "output_type": "stream",
     "text": [
      "WARNING:tensorflow:Can save best model only with val_mean_squared_error available, skipping.\n"
     ]
    },
    {
     "name": "stdout",
     "output_type": "stream",
     "text": [
      "6/6 [==============================] - 0s 43ms/step - loss: 0.0058 - mae: 0.0601 - mse: 0.0058 - val_loss: 0.0055 - val_mae: 0.0534 - val_mse: 0.0055\n",
      "Epoch 60/100\n",
      "5/6 [========================>.....] - ETA: 0s - loss: 0.0057 - mae: 0.0612 - mse: 0.0057"
     ]
    },
    {
     "name": "stderr",
     "output_type": "stream",
     "text": [
      "WARNING:tensorflow:Can save best model only with val_mean_squared_error available, skipping.\n"
     ]
    },
    {
     "name": "stdout",
     "output_type": "stream",
     "text": [
      "6/6 [==============================] - 0s 47ms/step - loss: 0.0057 - mae: 0.0607 - mse: 0.0057 - val_loss: 0.0062 - val_mae: 0.0614 - val_mse: 0.0062\n",
      "Epoch 61/100\n",
      "5/6 [========================>.....] - ETA: 0s - loss: 0.0049 - mae: 0.0568 - mse: 0.0049"
     ]
    },
    {
     "name": "stderr",
     "output_type": "stream",
     "text": [
      "WARNING:tensorflow:Can save best model only with val_mean_squared_error available, skipping.\n"
     ]
    },
    {
     "name": "stdout",
     "output_type": "stream",
     "text": [
      "6/6 [==============================] - 0s 45ms/step - loss: 0.0048 - mae: 0.0563 - mse: 0.0048 - val_loss: 0.0061 - val_mae: 0.0625 - val_mse: 0.0061\n",
      "Epoch 62/100\n",
      "5/6 [========================>.....] - ETA: 0s - loss: 0.0062 - mae: 0.0626 - mse: 0.0062"
     ]
    },
    {
     "name": "stderr",
     "output_type": "stream",
     "text": [
      "WARNING:tensorflow:Can save best model only with val_mean_squared_error available, skipping.\n"
     ]
    },
    {
     "name": "stdout",
     "output_type": "stream",
     "text": [
      "6/6 [==============================] - 0s 46ms/step - loss: 0.0063 - mae: 0.0633 - mse: 0.0063 - val_loss: 0.0069 - val_mae: 0.0703 - val_mse: 0.0069\n",
      "Epoch 63/100\n",
      "5/6 [========================>.....] - ETA: 0s - loss: 0.0064 - mae: 0.0631 - mse: 0.0064"
     ]
    },
    {
     "name": "stderr",
     "output_type": "stream",
     "text": [
      "WARNING:tensorflow:Can save best model only with val_mean_squared_error available, skipping.\n"
     ]
    },
    {
     "name": "stdout",
     "output_type": "stream",
     "text": [
      "6/6 [==============================] - 0s 48ms/step - loss: 0.0062 - mae: 0.0621 - mse: 0.0062 - val_loss: 0.0111 - val_mae: 0.0910 - val_mse: 0.0111\n",
      "Epoch 64/100\n",
      "5/6 [========================>.....] - ETA: 0s - loss: 0.0057 - mae: 0.0599 - mse: 0.0057"
     ]
    },
    {
     "name": "stderr",
     "output_type": "stream",
     "text": [
      "WARNING:tensorflow:Can save best model only with val_mean_squared_error available, skipping.\n"
     ]
    },
    {
     "name": "stdout",
     "output_type": "stream",
     "text": [
      "6/6 [==============================] - 0s 48ms/step - loss: 0.0056 - mae: 0.0595 - mse: 0.0056 - val_loss: 0.0045 - val_mae: 0.0502 - val_mse: 0.0045\n",
      "Epoch 65/100\n",
      "5/6 [========================>.....] - ETA: 0s - loss: 0.0059 - mae: 0.0621 - mse: 0.0059"
     ]
    },
    {
     "name": "stderr",
     "output_type": "stream",
     "text": [
      "WARNING:tensorflow:Can save best model only with val_mean_squared_error available, skipping.\n"
     ]
    },
    {
     "name": "stdout",
     "output_type": "stream",
     "text": [
      "6/6 [==============================] - 0s 47ms/step - loss: 0.0061 - mae: 0.0630 - mse: 0.0061 - val_loss: 0.0068 - val_mae: 0.0667 - val_mse: 0.0068\n",
      "Epoch 66/100\n",
      "5/6 [========================>.....] - ETA: 0s - loss: 0.0047 - mae: 0.0559 - mse: 0.0047"
     ]
    },
    {
     "name": "stderr",
     "output_type": "stream",
     "text": [
      "WARNING:tensorflow:Can save best model only with val_mean_squared_error available, skipping.\n"
     ]
    },
    {
     "name": "stdout",
     "output_type": "stream",
     "text": [
      "6/6 [==============================] - 0s 46ms/step - loss: 0.0046 - mae: 0.0549 - mse: 0.0046 - val_loss: 0.0063 - val_mae: 0.0566 - val_mse: 0.0063\n",
      "Epoch 67/100\n",
      "5/6 [========================>.....] - ETA: 0s - loss: 0.0050 - mae: 0.0547 - mse: 0.0050"
     ]
    },
    {
     "name": "stderr",
     "output_type": "stream",
     "text": [
      "WARNING:tensorflow:Can save best model only with val_mean_squared_error available, skipping.\n"
     ]
    },
    {
     "name": "stdout",
     "output_type": "stream",
     "text": [
      "6/6 [==============================] - 0s 47ms/step - loss: 0.0050 - mae: 0.0555 - mse: 0.0050 - val_loss: 0.0069 - val_mae: 0.0664 - val_mse: 0.0069\n",
      "Epoch 68/100\n",
      "5/6 [========================>.....] - ETA: 0s - loss: 0.0048 - mae: 0.0536 - mse: 0.0048"
     ]
    },
    {
     "name": "stderr",
     "output_type": "stream",
     "text": [
      "WARNING:tensorflow:Can save best model only with val_mean_squared_error available, skipping.\n"
     ]
    },
    {
     "name": "stdout",
     "output_type": "stream",
     "text": [
      "6/6 [==============================] - 0s 47ms/step - loss: 0.0049 - mae: 0.0542 - mse: 0.0049 - val_loss: 0.0057 - val_mae: 0.0556 - val_mse: 0.0057\n",
      "Epoch 69/100\n",
      "5/6 [========================>.....] - ETA: 0s - loss: 0.0047 - mae: 0.0536 - mse: 0.0047"
     ]
    },
    {
     "name": "stderr",
     "output_type": "stream",
     "text": [
      "WARNING:tensorflow:Can save best model only with val_mean_squared_error available, skipping.\n"
     ]
    },
    {
     "name": "stdout",
     "output_type": "stream",
     "text": [
      "6/6 [==============================] - 0s 46ms/step - loss: 0.0047 - mae: 0.0542 - mse: 0.0047 - val_loss: 0.0038 - val_mae: 0.0459 - val_mse: 0.0038\n",
      "Epoch 70/100\n",
      "5/6 [========================>.....] - ETA: 0s - loss: 0.0051 - mae: 0.0564 - mse: 0.0051"
     ]
    },
    {
     "name": "stderr",
     "output_type": "stream",
     "text": [
      "WARNING:tensorflow:Can save best model only with val_mean_squared_error available, skipping.\n"
     ]
    },
    {
     "name": "stdout",
     "output_type": "stream",
     "text": [
      "6/6 [==============================] - 0s 46ms/step - loss: 0.0053 - mae: 0.0577 - mse: 0.0053 - val_loss: 0.0077 - val_mae: 0.0758 - val_mse: 0.0077\n",
      "Epoch 71/100\n",
      "5/6 [========================>.....] - ETA: 0s - loss: 0.0055 - mae: 0.0601 - mse: 0.0055"
     ]
    },
    {
     "name": "stderr",
     "output_type": "stream",
     "text": [
      "WARNING:tensorflow:Can save best model only with val_mean_squared_error available, skipping.\n"
     ]
    },
    {
     "name": "stdout",
     "output_type": "stream",
     "text": [
      "6/6 [==============================] - 0s 44ms/step - loss: 0.0055 - mae: 0.0597 - mse: 0.0055 - val_loss: 0.0064 - val_mae: 0.0612 - val_mse: 0.0064\n",
      "Epoch 72/100\n",
      "5/6 [========================>.....] - ETA: 0s - loss: 0.0052 - mae: 0.0549 - mse: 0.0052"
     ]
    },
    {
     "name": "stderr",
     "output_type": "stream",
     "text": [
      "WARNING:tensorflow:Can save best model only with val_mean_squared_error available, skipping.\n"
     ]
    },
    {
     "name": "stdout",
     "output_type": "stream",
     "text": [
      "6/6 [==============================] - 0s 47ms/step - loss: 0.0054 - mae: 0.0557 - mse: 0.0054 - val_loss: 0.0052 - val_mae: 0.0538 - val_mse: 0.0052\n",
      "Epoch 73/100\n",
      "5/6 [========================>.....] - ETA: 0s - loss: 0.0058 - mae: 0.0593 - mse: 0.0058"
     ]
    },
    {
     "name": "stderr",
     "output_type": "stream",
     "text": [
      "WARNING:tensorflow:Can save best model only with val_mean_squared_error available, skipping.\n"
     ]
    },
    {
     "name": "stdout",
     "output_type": "stream",
     "text": [
      "6/6 [==============================] - 0s 47ms/step - loss: 0.0060 - mae: 0.0598 - mse: 0.0060 - val_loss: 0.0102 - val_mae: 0.0923 - val_mse: 0.0102\n",
      "Epoch 74/100\n",
      "5/6 [========================>.....] - ETA: 0s - loss: 0.0049 - mae: 0.0557 - mse: 0.0049"
     ]
    },
    {
     "name": "stderr",
     "output_type": "stream",
     "text": [
      "WARNING:tensorflow:Can save best model only with val_mean_squared_error available, skipping.\n"
     ]
    },
    {
     "name": "stdout",
     "output_type": "stream",
     "text": [
      "6/6 [==============================] - 0s 46ms/step - loss: 0.0048 - mae: 0.0548 - mse: 0.0048 - val_loss: 0.0063 - val_mae: 0.0638 - val_mse: 0.0063\n",
      "Epoch 75/100\n",
      "5/6 [========================>.....] - ETA: 0s - loss: 0.0047 - mae: 0.0525 - mse: 0.0047"
     ]
    },
    {
     "name": "stderr",
     "output_type": "stream",
     "text": [
      "WARNING:tensorflow:Can save best model only with val_mean_squared_error available, skipping.\n"
     ]
    },
    {
     "name": "stdout",
     "output_type": "stream",
     "text": [
      "6/6 [==============================] - 0s 46ms/step - loss: 0.0047 - mae: 0.0532 - mse: 0.0047 - val_loss: 0.0057 - val_mae: 0.0564 - val_mse: 0.0057\n",
      "Epoch 76/100\n",
      "5/6 [========================>.....] - ETA: 0s - loss: 0.0051 - mae: 0.0563 - mse: 0.0051"
     ]
    },
    {
     "name": "stderr",
     "output_type": "stream",
     "text": [
      "WARNING:tensorflow:Can save best model only with val_mean_squared_error available, skipping.\n"
     ]
    },
    {
     "name": "stdout",
     "output_type": "stream",
     "text": [
      "6/6 [==============================] - 0s 47ms/step - loss: 0.0050 - mae: 0.0564 - mse: 0.0050 - val_loss: 0.0056 - val_mae: 0.0594 - val_mse: 0.0056\n",
      "Epoch 77/100\n",
      "5/6 [========================>.....] - ETA: 0s - loss: 0.0046 - mae: 0.0539 - mse: 0.0046"
     ]
    },
    {
     "name": "stderr",
     "output_type": "stream",
     "text": [
      "WARNING:tensorflow:Can save best model only with val_mean_squared_error available, skipping.\n"
     ]
    },
    {
     "name": "stdout",
     "output_type": "stream",
     "text": [
      "6/6 [==============================] - 0s 46ms/step - loss: 0.0047 - mae: 0.0540 - mse: 0.0047 - val_loss: 0.0063 - val_mae: 0.0659 - val_mse: 0.0063\n",
      "Epoch 78/100\n",
      "5/6 [========================>.....] - ETA: 0s - loss: 0.0041 - mae: 0.0511 - mse: 0.0041"
     ]
    },
    {
     "name": "stderr",
     "output_type": "stream",
     "text": [
      "WARNING:tensorflow:Can save best model only with val_mean_squared_error available, skipping.\n"
     ]
    },
    {
     "name": "stdout",
     "output_type": "stream",
     "text": [
      "6/6 [==============================] - 0s 48ms/step - loss: 0.0040 - mae: 0.0509 - mse: 0.0040 - val_loss: 0.0055 - val_mae: 0.0562 - val_mse: 0.0055\n",
      "Epoch 79/100\n",
      "5/6 [========================>.....] - ETA: 0s - loss: 0.0042 - mae: 0.0521 - mse: 0.0042"
     ]
    },
    {
     "name": "stderr",
     "output_type": "stream",
     "text": [
      "WARNING:tensorflow:Can save best model only with val_mean_squared_error available, skipping.\n"
     ]
    },
    {
     "name": "stdout",
     "output_type": "stream",
     "text": [
      "6/6 [==============================] - 0s 48ms/step - loss: 0.0044 - mae: 0.0529 - mse: 0.0044 - val_loss: 0.0095 - val_mae: 0.0804 - val_mse: 0.0095\n",
      "Epoch 80/100\n",
      "5/6 [========================>.....] - ETA: 0s - loss: 0.0049 - mae: 0.0550 - mse: 0.0049"
     ]
    },
    {
     "name": "stderr",
     "output_type": "stream",
     "text": [
      "WARNING:tensorflow:Can save best model only with val_mean_squared_error available, skipping.\n"
     ]
    },
    {
     "name": "stdout",
     "output_type": "stream",
     "text": [
      "6/6 [==============================] - 0s 47ms/step - loss: 0.0049 - mae: 0.0554 - mse: 0.0049 - val_loss: 0.0055 - val_mae: 0.0555 - val_mse: 0.0055\n",
      "Epoch 81/100\n",
      "5/6 [========================>.....] - ETA: 0s - loss: 0.0051 - mae: 0.0555 - mse: 0.0051"
     ]
    },
    {
     "name": "stderr",
     "output_type": "stream",
     "text": [
      "WARNING:tensorflow:Can save best model only with val_mean_squared_error available, skipping.\n"
     ]
    },
    {
     "name": "stdout",
     "output_type": "stream",
     "text": [
      "6/6 [==============================] - 0s 47ms/step - loss: 0.0050 - mae: 0.0552 - mse: 0.0050 - val_loss: 0.0048 - val_mae: 0.0514 - val_mse: 0.0048\n",
      "Epoch 82/100\n",
      "5/6 [========================>.....] - ETA: 0s - loss: 0.0045 - mae: 0.0536 - mse: 0.0045"
     ]
    },
    {
     "name": "stderr",
     "output_type": "stream",
     "text": [
      "WARNING:tensorflow:Can save best model only with val_mean_squared_error available, skipping.\n"
     ]
    },
    {
     "name": "stdout",
     "output_type": "stream",
     "text": [
      "6/6 [==============================] - 0s 47ms/step - loss: 0.0047 - mae: 0.0548 - mse: 0.0047 - val_loss: 0.0071 - val_mae: 0.0725 - val_mse: 0.0071\n",
      "Epoch 83/100\n",
      "5/6 [========================>.....] - ETA: 0s - loss: 0.0047 - mae: 0.0548 - mse: 0.0047"
     ]
    },
    {
     "name": "stderr",
     "output_type": "stream",
     "text": [
      "WARNING:tensorflow:Can save best model only with val_mean_squared_error available, skipping.\n"
     ]
    },
    {
     "name": "stdout",
     "output_type": "stream",
     "text": [
      "6/6 [==============================] - 0s 47ms/step - loss: 0.0047 - mae: 0.0545 - mse: 0.0047 - val_loss: 0.0056 - val_mae: 0.0572 - val_mse: 0.0056\n",
      "Epoch 84/100\n",
      "5/6 [========================>.....] - ETA: 0s - loss: 0.0047 - mae: 0.0545 - mse: 0.0047"
     ]
    },
    {
     "name": "stderr",
     "output_type": "stream",
     "text": [
      "WARNING:tensorflow:Can save best model only with val_mean_squared_error available, skipping.\n"
     ]
    },
    {
     "name": "stdout",
     "output_type": "stream",
     "text": [
      "6/6 [==============================] - 0s 49ms/step - loss: 0.0046 - mae: 0.0542 - mse: 0.0046 - val_loss: 0.0055 - val_mae: 0.0567 - val_mse: 0.0055\n",
      "Epoch 85/100\n",
      "5/6 [========================>.....] - ETA: 0s - loss: 0.0048 - mae: 0.0531 - mse: 0.0048"
     ]
    },
    {
     "name": "stderr",
     "output_type": "stream",
     "text": [
      "WARNING:tensorflow:Can save best model only with val_mean_squared_error available, skipping.\n"
     ]
    },
    {
     "name": "stdout",
     "output_type": "stream",
     "text": [
      "6/6 [==============================] - 0s 46ms/step - loss: 0.0048 - mae: 0.0529 - mse: 0.0048 - val_loss: 0.0079 - val_mae: 0.0772 - val_mse: 0.0079\n",
      "Epoch 86/100\n",
      "5/6 [========================>.....] - ETA: 0s - loss: 0.0050 - mae: 0.0559 - mse: 0.0050"
     ]
    },
    {
     "name": "stderr",
     "output_type": "stream",
     "text": [
      "WARNING:tensorflow:Can save best model only with val_mean_squared_error available, skipping.\n"
     ]
    },
    {
     "name": "stdout",
     "output_type": "stream",
     "text": [
      "6/6 [==============================] - 0s 46ms/step - loss: 0.0050 - mae: 0.0555 - mse: 0.0050 - val_loss: 0.0046 - val_mae: 0.0539 - val_mse: 0.0046\n",
      "Epoch 87/100\n",
      "5/6 [========================>.....] - ETA: 0s - loss: 0.0048 - mae: 0.0545 - mse: 0.0048"
     ]
    },
    {
     "name": "stderr",
     "output_type": "stream",
     "text": [
      "WARNING:tensorflow:Can save best model only with val_mean_squared_error available, skipping.\n"
     ]
    },
    {
     "name": "stdout",
     "output_type": "stream",
     "text": [
      "6/6 [==============================] - 0s 47ms/step - loss: 0.0047 - mae: 0.0541 - mse: 0.0047 - val_loss: 0.0092 - val_mae: 0.0812 - val_mse: 0.0092\n",
      "Epoch 88/100\n",
      "5/6 [========================>.....] - ETA: 0s - loss: 0.0039 - mae: 0.0488 - mse: 0.0039"
     ]
    },
    {
     "name": "stderr",
     "output_type": "stream",
     "text": [
      "WARNING:tensorflow:Can save best model only with val_mean_squared_error available, skipping.\n"
     ]
    },
    {
     "name": "stdout",
     "output_type": "stream",
     "text": [
      "6/6 [==============================] - 0s 47ms/step - loss: 0.0039 - mae: 0.0483 - mse: 0.0039 - val_loss: 0.0065 - val_mae: 0.0658 - val_mse: 0.0065\n",
      "Epoch 89/100\n",
      "5/6 [========================>.....] - ETA: 0s - loss: 0.0043 - mae: 0.0529 - mse: 0.0043"
     ]
    },
    {
     "name": "stderr",
     "output_type": "stream",
     "text": [
      "WARNING:tensorflow:Can save best model only with val_mean_squared_error available, skipping.\n"
     ]
    },
    {
     "name": "stdout",
     "output_type": "stream",
     "text": [
      "6/6 [==============================] - 0s 48ms/step - loss: 0.0043 - mae: 0.0526 - mse: 0.0043 - val_loss: 0.0048 - val_mae: 0.0537 - val_mse: 0.0048\n",
      "Epoch 90/100\n",
      "5/6 [========================>.....] - ETA: 0s - loss: 0.0040 - mae: 0.0496 - mse: 0.0040"
     ]
    },
    {
     "name": "stderr",
     "output_type": "stream",
     "text": [
      "WARNING:tensorflow:Can save best model only with val_mean_squared_error available, skipping.\n"
     ]
    },
    {
     "name": "stdout",
     "output_type": "stream",
     "text": [
      "6/6 [==============================] - 0s 47ms/step - loss: 0.0040 - mae: 0.0494 - mse: 0.0040 - val_loss: 0.0098 - val_mae: 0.0862 - val_mse: 0.0098\n",
      "Epoch 91/100\n",
      "5/6 [========================>.....] - ETA: 0s - loss: 0.0041 - mae: 0.0513 - mse: 0.0041"
     ]
    },
    {
     "name": "stderr",
     "output_type": "stream",
     "text": [
      "WARNING:tensorflow:Can save best model only with val_mean_squared_error available, skipping.\n"
     ]
    },
    {
     "name": "stdout",
     "output_type": "stream",
     "text": [
      "6/6 [==============================] - 0s 47ms/step - loss: 0.0041 - mae: 0.0515 - mse: 0.0041 - val_loss: 0.0051 - val_mae: 0.0545 - val_mse: 0.0051\n",
      "Epoch 92/100\n",
      "5/6 [========================>.....] - ETA: 0s - loss: 0.0046 - mae: 0.0544 - mse: 0.0046"
     ]
    },
    {
     "name": "stderr",
     "output_type": "stream",
     "text": [
      "WARNING:tensorflow:Can save best model only with val_mean_squared_error available, skipping.\n"
     ]
    },
    {
     "name": "stdout",
     "output_type": "stream",
     "text": [
      "6/6 [==============================] - 0s 47ms/step - loss: 0.0045 - mae: 0.0537 - mse: 0.0045 - val_loss: 0.0071 - val_mae: 0.0738 - val_mse: 0.0071\n",
      "Epoch 93/100\n",
      "5/6 [========================>.....] - ETA: 0s - loss: 0.0036 - mae: 0.0475 - mse: 0.0036"
     ]
    },
    {
     "name": "stderr",
     "output_type": "stream",
     "text": [
      "WARNING:tensorflow:Can save best model only with val_mean_squared_error available, skipping.\n"
     ]
    },
    {
     "name": "stdout",
     "output_type": "stream",
     "text": [
      "6/6 [==============================] - 0s 46ms/step - loss: 0.0035 - mae: 0.0469 - mse: 0.0035 - val_loss: 0.0049 - val_mae: 0.0508 - val_mse: 0.0049\n",
      "Epoch 94/100\n",
      "5/6 [========================>.....] - ETA: 0s - loss: 0.0041 - mae: 0.0515 - mse: 0.0041"
     ]
    },
    {
     "name": "stderr",
     "output_type": "stream",
     "text": [
      "WARNING:tensorflow:Can save best model only with val_mean_squared_error available, skipping.\n"
     ]
    },
    {
     "name": "stdout",
     "output_type": "stream",
     "text": [
      "6/6 [==============================] - 0s 47ms/step - loss: 0.0041 - mae: 0.0519 - mse: 0.0041 - val_loss: 0.0094 - val_mae: 0.0834 - val_mse: 0.0094\n",
      "Epoch 95/100\n",
      "5/6 [========================>.....] - ETA: 0s - loss: 0.0042 - mae: 0.0512 - mse: 0.0042"
     ]
    },
    {
     "name": "stderr",
     "output_type": "stream",
     "text": [
      "WARNING:tensorflow:Can save best model only with val_mean_squared_error available, skipping.\n"
     ]
    },
    {
     "name": "stdout",
     "output_type": "stream",
     "text": [
      "6/6 [==============================] - 0s 47ms/step - loss: 0.0043 - mae: 0.0523 - mse: 0.0043 - val_loss: 0.0048 - val_mae: 0.0529 - val_mse: 0.0048\n",
      "Epoch 96/100\n",
      "5/6 [========================>.....] - ETA: 0s - loss: 0.0038 - mae: 0.0491 - mse: 0.0038"
     ]
    },
    {
     "name": "stderr",
     "output_type": "stream",
     "text": [
      "WARNING:tensorflow:Can save best model only with val_mean_squared_error available, skipping.\n"
     ]
    },
    {
     "name": "stdout",
     "output_type": "stream",
     "text": [
      "6/6 [==============================] - 0s 46ms/step - loss: 0.0038 - mae: 0.0492 - mse: 0.0038 - val_loss: 0.0066 - val_mae: 0.0624 - val_mse: 0.0066\n",
      "Epoch 97/100\n",
      "5/6 [========================>.....] - ETA: 0s - loss: 0.0030 - mae: 0.0439 - mse: 0.0030"
     ]
    },
    {
     "name": "stderr",
     "output_type": "stream",
     "text": [
      "WARNING:tensorflow:Can save best model only with val_mean_squared_error available, skipping.\n"
     ]
    },
    {
     "name": "stdout",
     "output_type": "stream",
     "text": [
      "6/6 [==============================] - 0s 47ms/step - loss: 0.0033 - mae: 0.0452 - mse: 0.0033 - val_loss: 0.0049 - val_mae: 0.0507 - val_mse: 0.0049\n",
      "Epoch 98/100\n",
      "5/6 [========================>.....] - ETA: 0s - loss: 0.0042 - mae: 0.0512 - mse: 0.0042"
     ]
    },
    {
     "name": "stderr",
     "output_type": "stream",
     "text": [
      "WARNING:tensorflow:Can save best model only with val_mean_squared_error available, skipping.\n"
     ]
    },
    {
     "name": "stdout",
     "output_type": "stream",
     "text": [
      "6/6 [==============================] - 0s 46ms/step - loss: 0.0043 - mae: 0.0508 - mse: 0.0043 - val_loss: 0.0053 - val_mae: 0.0574 - val_mse: 0.0053\n",
      "Epoch 99/100\n",
      "5/6 [========================>.....] - ETA: 0s - loss: 0.0038 - mae: 0.0493 - mse: 0.0038"
     ]
    },
    {
     "name": "stderr",
     "output_type": "stream",
     "text": [
      "WARNING:tensorflow:Can save best model only with val_mean_squared_error available, skipping.\n"
     ]
    },
    {
     "name": "stdout",
     "output_type": "stream",
     "text": [
      "6/6 [==============================] - 0s 47ms/step - loss: 0.0040 - mae: 0.0501 - mse: 0.0040 - val_loss: 0.0088 - val_mae: 0.0787 - val_mse: 0.0088\n",
      "Epoch 100/100\n",
      "5/6 [========================>.....] - ETA: 0s - loss: 0.0039 - mae: 0.0497 - mse: 0.0039"
     ]
    },
    {
     "name": "stderr",
     "output_type": "stream",
     "text": [
      "WARNING:tensorflow:Can save best model only with val_mean_squared_error available, skipping.\n"
     ]
    },
    {
     "name": "stdout",
     "output_type": "stream",
     "text": [
      "6/6 [==============================] - 0s 47ms/step - loss: 0.0038 - mae: 0.0488 - mse: 0.0038 - val_loss: 0.0040 - val_mae: 0.0494 - val_mse: 0.0040\n"
     ]
    }
   ],
   "source": [
    "from keras.callbacks import ModelCheckpoint\n",
    "checkpoint = ModelCheckpoint(\"weights.best.hdf5\", monitor='val_mean_squared_error', verbose=1, save_best_only=True, mode='min')\n",
    "\n",
    "callbacks_list = [checkpoint]\n",
    "history = model.fit(X_train, y_train, epochs=100, batch_size=64, verbose=1, callbacks=callbacks_list, validation_split=0.1)"
   ]
  },
  {
   "cell_type": "code",
   "execution_count": 11,
   "id": "520a7400",
   "metadata": {
    "colab": {
     "base_uri": "https://localhost:8080/",
     "height": 851
    },
    "executionInfo": {
     "elapsed": 806,
     "status": "ok",
     "timestamp": 1670228074590,
     "user": {
      "displayName": "Emam Hossain",
      "userId": "11818338395150337156"
     },
     "user_tz": 300
    },
    "id": "520a7400",
    "outputId": "e965a79b-f97e-4a26-d6c7-993aa2135ab6"
   },
   "outputs": [
    {
     "data": {
      "image/png": "[encoded data removed]",
      "text/plain": [
       "<Figure size 432x288 with 1 Axes>"
      ]
     },
     "metadata": {
      "needs_background": "light"
     },
     "output_type": "display_data"
    },
    {
     "data": {
      "image/png": "[encoded data removed]",
      "text/plain": [
       "<Figure size 432x288 with 1 Axes>"
      ]
     },
     "metadata": {
      "needs_background": "light"
     },
     "output_type": "display_data"
    },
    {
     "data": {
      "image/png": "[encoded data removed]",
      "text/plain": [
       "<Figure size 432x288 with 1 Axes>"
      ]
     },
     "metadata": {
      "needs_background": "light"
     },
     "output_type": "display_data"
    }
   ],
   "source": [
    "plt.plot(history.history['mse'])\n",
    "plt.plot(history.history['val_mse'])\n",
    "plt.title('Mean Squared Error of SIE Prediction')\n",
    "plt.ylabel('MSE')\n",
    "plt.xlabel('Epoch')\n",
    "plt.legend(['train', 'validation'], loc='upper right')\n",
    "plt.show()\n",
    "\n",
    "plt.plot(history.history['mae'])\n",
    "plt.plot(history.history['val_mae'])\n",
    "plt.title('Mean Absolute Error of SIE Prediction')\n",
    "plt.ylabel('MAE')\n",
    "plt.xlabel('Epoch')\n",
    "plt.legend(['train', 'validation'], loc='upper right')\n",
    "plt.show()\n",
    "\n",
    "plt.plot(history.history['loss'])\n",
    "plt.plot(history.history['val_loss'])\n",
    "plt.title('Loss of SIE Prediction')\n",
    "plt.ylabel('Loss')\n",
    "plt.xlabel('Epoch')\n",
    "plt.legend(['train', 'validation'], loc='upper right')\n",
    "plt.show()"
   ]
  },
  {
   "cell_type": "code",
   "execution_count": 12,
   "id": "733c794b",
   "metadata": {
    "colab": {
     "base_uri": "https://localhost:8080/"
    },
    "executionInfo": {
     "elapsed": 2180,
     "status": "ok",
     "timestamp": 1670228076768,
     "user": {
      "displayName": "Emam Hossain",
      "userId": "11818338395150337156"
     },
     "user_tz": 300
    },
    "id": "733c794b",
    "outputId": "b290222c-d2b9-4288-b4e6-99432a57d753"
   },
   "outputs": [
    {
     "name": "stdout",
     "output_type": "stream",
     "text": [
      "4/4 [==============================] - 2s 20ms/step\n"
     ]
    }
   ],
   "source": [
    "from sklearn.metrics import mean_squared_error, mean_absolute_error, mean_absolute_percentage_error, r2_score\n",
    "from numpy import sqrt\n",
    "\n",
    "#model.load_weights(\"weights.best.hdf5\")\n",
    "\n",
    "cols = len(df.columns)\n",
    "pred = model.predict(X_test)\n",
    "\n",
    "predicted_dataset = dataset\n",
    "predicted_dataset[len(predicted_dataset)-len(pred):, cols-1] = pred[:, 0]\n",
    "scaled_predicted_dataset = scaler.inverse_transform(predicted_dataset)\n",
    "\n",
    "predicted_df = df.copy()\n",
    "predicted_df['sea_ice_extent'][len(predicted_dataset)-len(pred):] = scaled_predicted_dataset[len(predicted_dataset)-len(pred):, cols-1]\n",
    "\n",
    "predictions = pd.DataFrame()\n",
    "predictions['predicted'] = (predicted_df['sea_ice_extent'][len(predicted_dataset)-len(pred):])\n",
    "predictions['actual'] = (df['sea_ice_extent'][len(predicted_dataset)-len(pred):])\n",
    "predictions = predictions.astype(float)"
   ]
  },
  {
   "cell_type": "code",
   "execution_count": 13,
   "id": "O8XcnKMZNPgv",
   "metadata": {
    "colab": {
     "base_uri": "https://localhost:8080/",
     "height": 1000
    },
    "executionInfo": {
     "elapsed": 955,
     "status": "ok",
     "timestamp": 1670228077720,
     "user": {
      "displayName": "Emam Hossain",
      "userId": "11818338395150337156"
     },
     "user_tz": 300
    },
    "id": "O8XcnKMZNPgv",
    "outputId": "ecdadc7e-fc93-4749-95fc-ead889d02b9e"
   },
   "outputs": [
    {
     "data": {
      "image/png": "[encoded data removed]",
      "text/plain": [
       "<Figure size 1152x432 with 1 Axes>"
      ]
     },
     "metadata": {
      "needs_background": "light"
     },
     "output_type": "display_data"
    },
    {
     "data": {
      "image/png": "[encoded data removed]",
      "text/plain": [
       "<Figure size 720x720 with 1 Axes>"
      ]
     },
     "metadata": {
      "needs_background": "light"
     },
     "output_type": "display_data"
    },
    {
     "name": "stdout",
     "output_type": "stream",
     "text": [
      "MSE :  3653592954421.814 (10⁶ km²)\n",
      "MSPE : 7.737 %\n",
      "RMSE :  1911437.4053109388 (10⁶ km²)\n",
      "RMSPE : 27.815 %\n",
      "MAE :  1611932.8214285714 (10⁶ km²)\n",
      "MAPE :  16.328 %\n",
      "R2 :  59.321\n"
     ]
    }
   ],
   "source": [
    "plt.figure(figsize = (16,6))\n",
    "ax = plt.axes()\n",
    "# ax.set_facecolor('#dcdcdc')\n",
    "\n",
    "plt.title('Arctic Sea Ice Extent Actual vs Prediction Curve for Test Data', fontsize = 20,fontweight = \"bold\")\n",
    "plt.xlabel('Time' , fontsize = 14,fontweight = \"bold\")\n",
    "plt.ylabel('Sea Ice Extent (10\\u2076 km\\u00b2)', fontsize = 14,fontweight = \"bold\")\n",
    "plt.plot(predictions['actual']/10**6, 'blue', label='Actual SIE')\n",
    "plt.plot(predictions['predicted']/10**6, 'red', label='Predicted SIE')\n",
    "plt.legend()\n",
    "plt.grid()\n",
    "plt.show\n",
    "\n",
    "predictions['diff'] = predictions['predicted'] - predictions['actual']\n",
    "plt.figure(figsize=(10,10))\n",
    "plt.xlabel('Difference between actual and predicted SIE (10\\u2076 km\\u00b2)')\n",
    "sns.histplot(predictions['diff'])\n",
    "plt.title('Distribution of differences between actual and predicted SIE')\n",
    "plt.show()\n",
    "\n",
    "mspe = (np.mean(np.square((predictions['actual'].values - predictions['predicted'].values) / predictions['actual'].values))) * 100\n",
    "rmspe = (np.sqrt(np.mean(np.square((predictions['actual'].values - predictions['predicted'].values) / predictions['actual'].values)))) * 100\n",
    "\n",
    "print(\"MSE : \", mean_squared_error(predictions['predicted'].values, predictions['actual'].values), \"(10\\u2076 km\\u00b2)\")\n",
    "print(\"MSPE :\", round(mspe,3), \"%\")\n",
    "print(\"RMSE : \", sqrt(mean_squared_error(predictions['predicted'].values, predictions['actual'].values)), \"(10\\u2076 km\\u00b2)\")\n",
    "print(\"RMSPE :\", round(rmspe,3), \"%\")\n",
    "print(\"MAE : \", mean_absolute_error(predictions['predicted'].values, predictions['actual'].values), \"(10\\u2076 km\\u00b2)\")\n",
    "print(\"MAPE : \", round(mean_absolute_percentage_error(predictions['predicted'].values, predictions['actual'].values)*100,3), \"%\")\n",
    "print(\"R2 : \", round(r2_score(predictions['predicted'].values, predictions['actual'].values)*100,3))"
   ]
  },
  {
   "cell_type": "code",
   "execution_count": 14,
   "id": "3f3aaf6d",
   "metadata": {
    "executionInfo": {
     "elapsed": 3,
     "status": "ok",
     "timestamp": 1670228077720,
     "user": {
      "displayName": "Emam Hossain",
      "userId": "11818338395150337156"
     },
     "user_tz": 300
    },
    "id": "3f3aaf6d"
   },
   "outputs": [],
   "source": [
    "# while True:pass"
   ]
  }
 ],
 "metadata": {
  "accelerator": "GPU",
  "colab": {
   "provenance": [
    {
     "file_id": "1tsdSY4XF8dbRdNGZQhWw6nd--RLFP4EX",
     "timestamp": 1670202049252
    },
    {
     "file_id": "1L3ixnLeRDivuLSWCq04VtDKnU7YIw_C7",
     "timestamp": 1670201891016
    },
    {
     "file_id": "1VJInZTaupyMxQ6JprjJi2D6639FmXJ-t",
     "timestamp": 1670201115947
    },
    {
     "file_id": "1f-ct_NOq__M1QDGjYMyualvRlVNWtnum",
     "timestamp": 1670201096560
    },
    {
     "file_id": "1S71KBLYU9q_J7PpD1i3PdHnejHsyHk2A",
     "timestamp": 1670201029903
    },
    {
     "file_id": "1ZW2CDeL2Z4e4d7GVtf1CCEU8ioKr_ozr",
     "timestamp": 1670200993047
    },
    {
     "file_id": "11ezPDxEfETgGwyGSoqr5wscr_t65bvL6",
     "timestamp": 1669223899169
    },
    {
     "file_id": "https://github.com/ehfahad/SIE-Prediction-using-Causal-Deep-Learning/blob/main/Models/SIE%20Prediction%20(1-day%20lead)%20upto%202014%20with%20day%2C%20week%2C%20month.ipynb",
     "timestamp": 1666883273850
    }
   ]
  },
  "gpuClass": "standard",
  "kernelspec": {
   "display_name": "Python 3 (ipykernel)",
   "language": "python",
   "name": "python3"
  },
  "language_info": {
   "codemirror_mode": {
    "name": "ipython",
    "version": 3
   },
   "file_extension": ".py",
   "mimetype": "text/x-python",
   "name": "python",
   "nbconvert_exporter": "python",
   "pygments_lexer": "ipython3",
   "version": "3.8.15"
  },
  "varInspector": {
   "cols": {
    "lenName": 16,
    "lenType": 16,
    "lenVar": 40
   },
   "kernels_config": {
    "python": {
     "delete_cmd_postfix": "",
     "delete_cmd_prefix": "del ",
     "library": "var_list.py",
     "varRefreshCmd": "print(var_dic_list())"
    },
    "r": {
     "delete_cmd_postfix": ") ",
     "delete_cmd_prefix": "rm(",
     "library": "var_list.r",
     "varRefreshCmd": "cat(var_dic_list()) "
    }
   },
   "position": {
    "height": "417.844px",
    "left": "1538px",
    "right": "20px",
    "top": "131px",
    "width": "350px"
   },
   "types_to_exclude": [
    "module",
    "function",
    "builtin_function_or_method",
    "instance",
    "_Feature"
   ],
   "window_display": true
  }
 },
 "nbformat": 4,
 "nbformat_minor": 5
}
