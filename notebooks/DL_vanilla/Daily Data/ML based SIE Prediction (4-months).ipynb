{
 "cells": [
  {
   "cell_type": "code",
   "execution_count": 1,
   "id": "1507a9c1",
   "metadata": {
    "executionInfo": {
     "elapsed": 738,
     "status": "ok",
     "timestamp": 1670201412703,
     "user": {
      "displayName": "Emam Hossain",
      "userId": "00475912484380842878"
     },
     "user_tz": 300
    },
    "id": "1507a9c1"
   },
   "outputs": [],
   "source": [
    "import numpy as np\n",
    "import pandas as pd\n",
    "import matplotlib.pyplot as plt\n",
    "import seaborn as sns\n",
    "from sklearn.preprocessing import MinMaxScaler"
   ]
  },
  {
   "cell_type": "code",
   "execution_count": 2,
   "id": "ZkC-CdqrYGLW",
   "metadata": {
    "executionInfo": {
     "elapsed": 6,
     "status": "ok",
     "timestamp": 1670201412703,
     "user": {
      "displayName": "Emam Hossain",
      "userId": "00475912484380842878"
     },
     "user_tz": 300
    },
    "id": "ZkC-CdqrYGLW"
   },
   "outputs": [],
   "source": [
    "# global variables\n",
    "\n",
    "look_back = 21\n",
    "lead_time = 120\n",
    "filename = '../../../data/Arctic_domain_mean_1979_2018 - Curated.csv'\n",
    "pcmciplus_features = ['LW_down', 'snowfall', 'sst', 'sosaline', 'surface_pressure', 'sea_ice_extent']"
   ]
  },
  {
   "cell_type": "code",
   "execution_count": 3,
   "id": "zlPFdfw7F9-_",
   "metadata": {
    "colab": {
     "base_uri": "https://localhost:8080/",
     "height": 481
    },
    "executionInfo": {
     "elapsed": 23932,
     "status": "ok",
     "timestamp": 1670201436630,
     "user": {
      "displayName": "Emam Hossain",
      "userId": "00475912484380842878"
     },
     "user_tz": 300
    },
    "id": "zlPFdfw7F9-_",
    "outputId": "5c813e3c-b36b-4d58-ac45-b8642c8081d0"
   },
   "outputs": [
    {
     "data": {
      "text/html": [
       "<div>\n",
       "<style scoped>\n",
       "    .dataframe tbody tr th:only-of-type {\n",
       "        vertical-align: middle;\n",
       "    }\n",
       "\n",
       "    .dataframe tbody tr th {\n",
       "        vertical-align: top;\n",
       "    }\n",
       "\n",
       "    .dataframe thead th {\n",
       "        text-align: right;\n",
       "    }\n",
       "</style>\n",
       "<table border=\"1\" class=\"dataframe\">\n",
       "  <thead>\n",
       "    <tr style=\"text-align: right;\">\n",
       "      <th></th>\n",
       "      <th>Day</th>\n",
       "      <th>wind_10m</th>\n",
       "      <th>specific_humidity</th>\n",
       "      <th>LW_down</th>\n",
       "      <th>SW_down</th>\n",
       "      <th>rainfall</th>\n",
       "      <th>snowfall</th>\n",
       "      <th>sosaline</th>\n",
       "      <th>sst</th>\n",
       "      <th>t2m</th>\n",
       "      <th>surface_pressure</th>\n",
       "      <th>sea_ice_extent</th>\n",
       "    </tr>\n",
       "  </thead>\n",
       "  <tbody>\n",
       "    <tr>\n",
       "      <th>7305</th>\n",
       "      <td>1/1/1999</td>\n",
       "      <td>4.987515</td>\n",
       "      <td>0.891843</td>\n",
       "      <td>183.786092</td>\n",
       "      <td>1.120906</td>\n",
       "      <td>0.700735</td>\n",
       "      <td>0.501109</td>\n",
       "      <td>33.316996</td>\n",
       "      <td>273.467869</td>\n",
       "      <td>250.884060</td>\n",
       "      <td>985.112721</td>\n",
       "      <td>13823248</td>\n",
       "    </tr>\n",
       "    <tr>\n",
       "      <th>7306</th>\n",
       "      <td>1/2/1999</td>\n",
       "      <td>5.075952</td>\n",
       "      <td>0.905535</td>\n",
       "      <td>183.851814</td>\n",
       "      <td>1.193514</td>\n",
       "      <td>0.712730</td>\n",
       "      <td>0.482221</td>\n",
       "      <td>33.316996</td>\n",
       "      <td>273.453826</td>\n",
       "      <td>250.359328</td>\n",
       "      <td>984.092282</td>\n",
       "      <td>13885522</td>\n",
       "    </tr>\n",
       "    <tr>\n",
       "      <th>7307</th>\n",
       "      <td>1/3/1999</td>\n",
       "      <td>4.931520</td>\n",
       "      <td>0.911672</td>\n",
       "      <td>184.426913</td>\n",
       "      <td>1.263909</td>\n",
       "      <td>0.677339</td>\n",
       "      <td>0.480718</td>\n",
       "      <td>33.316996</td>\n",
       "      <td>273.454385</td>\n",
       "      <td>250.327500</td>\n",
       "      <td>982.300080</td>\n",
       "      <td>13884279</td>\n",
       "    </tr>\n",
       "    <tr>\n",
       "      <th>7308</th>\n",
       "      <td>1/4/1999</td>\n",
       "      <td>4.761644</td>\n",
       "      <td>0.911301</td>\n",
       "      <td>187.528326</td>\n",
       "      <td>1.269229</td>\n",
       "      <td>0.824016</td>\n",
       "      <td>0.697950</td>\n",
       "      <td>33.316996</td>\n",
       "      <td>273.459797</td>\n",
       "      <td>249.905730</td>\n",
       "      <td>983.250565</td>\n",
       "      <td>13912624</td>\n",
       "    </tr>\n",
       "    <tr>\n",
       "      <th>7309</th>\n",
       "      <td>1/5/1999</td>\n",
       "      <td>4.739850</td>\n",
       "      <td>0.901353</td>\n",
       "      <td>187.326709</td>\n",
       "      <td>1.552208</td>\n",
       "      <td>0.926681</td>\n",
       "      <td>0.835868</td>\n",
       "      <td>33.316996</td>\n",
       "      <td>273.463975</td>\n",
       "      <td>250.254873</td>\n",
       "      <td>984.247389</td>\n",
       "      <td>13890148</td>\n",
       "    </tr>\n",
       "  </tbody>\n",
       "</table>\n",
       "</div>"
      ],
      "text/plain": [
       "           Day  wind_10m  specific_humidity     LW_down   SW_down  rainfall  \\\n",
       "7305  1/1/1999  4.987515           0.891843  183.786092  1.120906  0.700735   \n",
       "7306  1/2/1999  5.075952           0.905535  183.851814  1.193514  0.712730   \n",
       "7307  1/3/1999  4.931520           0.911672  184.426913  1.263909  0.677339   \n",
       "7308  1/4/1999  4.761644           0.911301  187.528326  1.269229  0.824016   \n",
       "7309  1/5/1999  4.739850           0.901353  187.326709  1.552208  0.926681   \n",
       "\n",
       "      snowfall   sosaline         sst         t2m  surface_pressure  \\\n",
       "7305  0.501109  33.316996  273.467869  250.884060        985.112721   \n",
       "7306  0.482221  33.316996  273.453826  250.359328        984.092282   \n",
       "7307  0.480718  33.316996  273.454385  250.327500        982.300080   \n",
       "7308  0.697950  33.316996  273.459797  249.905730        983.250565   \n",
       "7309  0.835868  33.316996  273.463975  250.254873        984.247389   \n",
       "\n",
       "      sea_ice_extent  \n",
       "7305        13823248  \n",
       "7306        13885522  \n",
       "7307        13884279  \n",
       "7308        13912624  \n",
       "7309        13890148  "
      ]
     },
     "execution_count": 3,
     "metadata": {},
     "output_type": "execute_result"
    }
   ],
   "source": [
    "# from google.colab import files\n",
    "# import io\n",
    "\n",
    "# uploaded = files.upload()\n",
    "# df = pd.read_csv(io.BytesIO(uploaded[filename]))\n",
    "# df = df[7305:]\n",
    "# df\n",
    "\n",
    "# Reading the dataset\n",
    "df = pd.read_csv(filename)\n",
    "df = df[7305:]\n",
    "df.head()"
   ]
  },
  {
   "cell_type": "code",
   "execution_count": 4,
   "id": "683fdbc4",
   "metadata": {
    "executionInfo": {
     "elapsed": 7,
     "status": "ok",
     "timestamp": 1670201436630,
     "user": {
      "displayName": "Emam Hossain",
      "userId": "00475912484380842878"
     },
     "user_tz": 300
    },
    "id": "683fdbc4"
   },
   "outputs": [],
   "source": [
    "df['Day'] = pd.to_datetime(df['Day'], infer_datetime_format=True)\n",
    "df.set_index('Day', inplace=True)\n",
    "df = df.astype(float)                 # cast df to float\n",
    "# df = df[pcmciplus_features]\n",
    "# df.tail(len(df))"
   ]
  },
  {
   "cell_type": "code",
   "execution_count": 5,
   "id": "e5014c30",
   "metadata": {
    "executionInfo": {
     "elapsed": 6,
     "status": "ok",
     "timestamp": 1670201436630,
     "user": {
      "displayName": "Emam Hossain",
      "userId": "00475912484380842878"
     },
     "user_tz": 300
    },
    "id": "e5014c30"
   },
   "outputs": [],
   "source": [
    "def create_model_data (dataset, look_back, lead_time):\n",
    "    dataX, dataY = [], []\n",
    "    \n",
    "    for i in range(len(dataset)-look_back-lead_time):\n",
    "        a = dataset[i:(i+look_back)]\n",
    "        dataX.append(a)\n",
    "        dataY.append(dataset[i + look_back + lead_time])\n",
    "    return np.array(dataX), np.array(dataY)"
   ]
  },
  {
   "cell_type": "code",
   "execution_count": 6,
   "id": "c1aaa5e4",
   "metadata": {
    "executionInfo": {
     "elapsed": 6,
     "status": "ok",
     "timestamp": 1670201436631,
     "user": {
      "displayName": "Emam Hossain",
      "userId": "00475912484380842878"
     },
     "user_tz": 300
    },
    "id": "c1aaa5e4",
    "scrolled": true
   },
   "outputs": [],
   "source": [
    "target_index = df.columns.tolist().index('sea_ice_extent')\n",
    "\n",
    "dataset = df.values.astype('float32')               # DataFrame converted to Numpy Array\n",
    "\n",
    "scaler = MinMaxScaler(feature_range=(0, 1))\n",
    "dataset = scaler.fit_transform(dataset)\n",
    "\n",
    "X, y = create_model_data (dataset, look_back=look_back, lead_time=lead_time)\n",
    "y = y[:,target_index]"
   ]
  },
  {
   "cell_type": "code",
   "execution_count": 7,
   "id": "KGbRA39Br3S9",
   "metadata": {
    "executionInfo": {
     "elapsed": 6,
     "status": "ok",
     "timestamp": 1670201436631,
     "user": {
      "displayName": "Emam Hossain",
      "userId": "00475912484380842878"
     },
     "user_tz": 300
    },
    "id": "KGbRA39Br3S9"
   },
   "outputs": [],
   "source": [
    "from sklearn.model_selection import train_test_split\n",
    "\n",
    "X_train, X_test, y_train, y_test = train_test_split(X, y, test_size=0.2, shuffle=False)"
   ]
  },
  {
   "cell_type": "code",
   "execution_count": 8,
   "id": "9405d356",
   "metadata": {
    "colab": {
     "base_uri": "https://localhost:8080/",
     "height": 431
    },
    "executionInfo": {
     "elapsed": 638,
     "status": "ok",
     "timestamp": 1670201437264,
     "user": {
      "displayName": "Emam Hossain",
      "userId": "00475912484380842878"
     },
     "user_tz": 300
    },
    "id": "9405d356",
    "outputId": "e7892953-a2f6-41d5-a528-53bffa5f4053"
   },
   "outputs": [
    {
     "data": {
      "text/plain": [
       "<function matplotlib.pyplot.show(*args, **kw)>"
      ]
     },
     "execution_count": 8,
     "metadata": {},
     "output_type": "execute_result"
    },
    {
     "data": {
      "image/png": "[encoded data removed]",
      "text/plain": [
       "<Figure size 1152x432 with 1 Axes>"
      ]
     },
     "metadata": {
      "needs_background": "light"
     },
     "output_type": "display_data"
    }
   ],
   "source": [
    "plt.figure(figsize = (16,6))\n",
    "ax = plt.axes()\n",
    "# ax.set_facecolor('#dcdcdc')\n",
    "\n",
    "plt.title('Arctic Sea Ice Extent Trend from 1979-2018', fontsize = 20,fontweight = \"bold\")\n",
    "plt.xlabel('Time' , fontsize = 14,fontweight = \"bold\")\n",
    "plt.ylabel('Sea Ice Extent (10\\u2076 km\\u00b2)', fontsize = 14,fontweight = \"bold\")\n",
    "plt.plot(df['sea_ice_extent'][:len(df)-len(y_test)]/10**6, 'blue', label='Training Data')\n",
    "plt.plot(df['sea_ice_extent'][len(df)-len(y_test):]/10**6, 'red', label='Testing Data')\n",
    "plt.legend()\n",
    "plt.grid()\n",
    "plt.show"
   ]
  },
  {
   "cell_type": "code",
   "execution_count": 9,
   "id": "86f5e0f3",
   "metadata": {
    "colab": {
     "base_uri": "https://localhost:8080/"
    },
    "executionInfo": {
     "elapsed": 5393,
     "status": "ok",
     "timestamp": 1670201442654,
     "user": {
      "displayName": "Emam Hossain",
      "userId": "00475912484380842878"
     },
     "user_tz": 300
    },
    "id": "86f5e0f3",
    "outputId": "bf5c07e1-7add-4eff-e1c6-0cb20ed82da8"
   },
   "outputs": [
    {
     "name": "stdout",
     "output_type": "stream",
     "text": [
      "Model: \"sequential\"\n",
      "_________________________________________________________________\n",
      " Layer (type)                Output Shape              Param #   \n",
      "=================================================================\n",
      " gru (GRU)                   (None, 21, 64)            14784     \n",
      "                                                                 \n",
      " dropout (Dropout)           (None, 21, 64)            0         \n",
      "                                                                 \n",
      " lstm (LSTM)                 (None, 128)               98816     \n",
      "                                                                 \n",
      " dropout_1 (Dropout)         (None, 128)               0         \n",
      "                                                                 \n",
      " dense (Dense)               (None, 64)                8256      \n",
      "                                                                 \n",
      " dense_1 (Dense)             (None, 1)                 65        \n",
      "                                                                 \n",
      "=================================================================\n",
      "Total params: 121,921\n",
      "Trainable params: 121,921\n",
      "Non-trainable params: 0\n",
      "_________________________________________________________________\n",
      "None\n"
     ]
    }
   ],
   "source": [
    "from keras.models import Sequential\n",
    "from keras.layers import Dense, Dropout, Activation, Input, LSTM, GRU, Dense\n",
    "\n",
    "input_shape=(X.shape[1], X.shape[2])\n",
    "\n",
    "model = Sequential()\n",
    "model.add(GRU(64, input_shape=(X.shape[1], X.shape[2]), return_sequences=True))\n",
    "model.add(Dropout(0.2))\n",
    "\n",
    "model.add(LSTM(128))\n",
    "model.add(Dropout(0.2))\n",
    "\n",
    "model.add(Dense(64 ,  activation = 'relu'))\n",
    "model.add(Dense(1))\n",
    "\n",
    "model.compile(loss='mean_squared_error', optimizer='adam', metrics=['mae', 'mse'])\n",
    "print(model.summary())"
   ]
  },
  {
   "cell_type": "code",
   "execution_count": 10,
   "id": "8a6be2cb",
   "metadata": {
    "colab": {
     "base_uri": "https://localhost:8080/"
    },
    "executionInfo": {
     "elapsed": 76008,
     "status": "ok",
     "timestamp": 1670201518658,
     "user": {
      "displayName": "Emam Hossain",
      "userId": "00475912484380842878"
     },
     "user_tz": 300
    },
    "id": "8a6be2cb",
    "outputId": "55581f78-a289-4a78-849a-cfe98cb1c56f",
    "scrolled": true
   },
   "outputs": [
    {
     "name": "stdout",
     "output_type": "stream",
     "text": [
      "Epoch 1/100\n",
      "77/81 [===========================>..] - ETA: 0s - loss: 0.0304 - mae: 0.1173 - mse: 0.0304"
     ]
    },
    {
     "name": "stderr",
     "output_type": "stream",
     "text": [
      "WARNING:tensorflow:Can save best model only with val_mean_squared_error available, skipping.\n"
     ]
    },
    {
     "name": "stdout",
     "output_type": "stream",
     "text": [
      "81/81 [==============================] - 10s 19ms/step - loss: 0.0294 - mae: 0.1151 - mse: 0.0294 - val_loss: 0.0019 - val_mae: 0.0330 - val_mse: 0.0019\n",
      "Epoch 2/100\n",
      "79/81 [============================>.] - ETA: 0s - loss: 0.0068 - mae: 0.0658 - mse: 0.0068"
     ]
    },
    {
     "name": "stderr",
     "output_type": "stream",
     "text": [
      "WARNING:tensorflow:Can save best model only with val_mean_squared_error available, skipping.\n"
     ]
    },
    {
     "name": "stdout",
     "output_type": "stream",
     "text": [
      "81/81 [==============================] - 1s 7ms/step - loss: 0.0068 - mae: 0.0658 - mse: 0.0068 - val_loss: 0.0016 - val_mae: 0.0301 - val_mse: 0.0016\n",
      "Epoch 3/100\n",
      "77/81 [===========================>..] - ETA: 0s - loss: 0.0056 - mae: 0.0598 - mse: 0.0056"
     ]
    },
    {
     "name": "stderr",
     "output_type": "stream",
     "text": [
      "WARNING:tensorflow:Can save best model only with val_mean_squared_error available, skipping.\n"
     ]
    },
    {
     "name": "stdout",
     "output_type": "stream",
     "text": [
      "81/81 [==============================] - 1s 8ms/step - loss: 0.0055 - mae: 0.0596 - mse: 0.0055 - val_loss: 0.0013 - val_mae: 0.0316 - val_mse: 0.0013\n",
      "Epoch 4/100\n",
      "78/81 [===========================>..] - ETA: 0s - loss: 0.0046 - mae: 0.0547 - mse: 0.0046"
     ]
    },
    {
     "name": "stderr",
     "output_type": "stream",
     "text": [
      "WARNING:tensorflow:Can save best model only with val_mean_squared_error available, skipping.\n"
     ]
    },
    {
     "name": "stdout",
     "output_type": "stream",
     "text": [
      "81/81 [==============================] - 1s 8ms/step - loss: 0.0046 - mae: 0.0546 - mse: 0.0046 - val_loss: 8.5572e-04 - val_mae: 0.0238 - val_mse: 8.5572e-04\n",
      "Epoch 5/100\n",
      "78/81 [===========================>..] - ETA: 0s - loss: 0.0044 - mae: 0.0530 - mse: 0.0044"
     ]
    },
    {
     "name": "stderr",
     "output_type": "stream",
     "text": [
      "WARNING:tensorflow:Can save best model only with val_mean_squared_error available, skipping.\n"
     ]
    },
    {
     "name": "stdout",
     "output_type": "stream",
     "text": [
      "81/81 [==============================] - 1s 8ms/step - loss: 0.0044 - mae: 0.0528 - mse: 0.0044 - val_loss: 6.4185e-04 - val_mae: 0.0212 - val_mse: 6.4185e-04\n",
      "Epoch 6/100\n",
      "79/81 [============================>.] - ETA: 0s - loss: 0.0039 - mae: 0.0495 - mse: 0.0039"
     ]
    },
    {
     "name": "stderr",
     "output_type": "stream",
     "text": [
      "WARNING:tensorflow:Can save best model only with val_mean_squared_error available, skipping.\n"
     ]
    },
    {
     "name": "stdout",
     "output_type": "stream",
     "text": [
      "81/81 [==============================] - 1s 7ms/step - loss: 0.0039 - mae: 0.0494 - mse: 0.0039 - val_loss: 0.0012 - val_mae: 0.0279 - val_mse: 0.0012\n",
      "Epoch 7/100\n",
      "80/81 [============================>.] - ETA: 0s - loss: 0.0036 - mae: 0.0479 - mse: 0.0036"
     ]
    },
    {
     "name": "stderr",
     "output_type": "stream",
     "text": [
      "WARNING:tensorflow:Can save best model only with val_mean_squared_error available, skipping.\n"
     ]
    },
    {
     "name": "stdout",
     "output_type": "stream",
     "text": [
      "81/81 [==============================] - 1s 7ms/step - loss: 0.0036 - mae: 0.0479 - mse: 0.0036 - val_loss: 8.0081e-04 - val_mae: 0.0226 - val_mse: 8.0081e-04\n",
      "Epoch 8/100\n",
      "79/81 [============================>.] - ETA: 0s - loss: 0.0035 - mae: 0.0471 - mse: 0.0035"
     ]
    },
    {
     "name": "stderr",
     "output_type": "stream",
     "text": [
      "WARNING:tensorflow:Can save best model only with val_mean_squared_error available, skipping.\n"
     ]
    },
    {
     "name": "stdout",
     "output_type": "stream",
     "text": [
      "81/81 [==============================] - 1s 8ms/step - loss: 0.0035 - mae: 0.0471 - mse: 0.0035 - val_loss: 5.6587e-04 - val_mae: 0.0193 - val_mse: 5.6587e-04\n",
      "Epoch 9/100\n",
      "77/81 [===========================>..] - ETA: 0s - loss: 0.0034 - mae: 0.0461 - mse: 0.0034"
     ]
    },
    {
     "name": "stderr",
     "output_type": "stream",
     "text": [
      "WARNING:tensorflow:Can save best model only with val_mean_squared_error available, skipping.\n"
     ]
    },
    {
     "name": "stdout",
     "output_type": "stream",
     "text": [
      "81/81 [==============================] - 1s 7ms/step - loss: 0.0034 - mae: 0.0459 - mse: 0.0034 - val_loss: 0.0012 - val_mae: 0.0287 - val_mse: 0.0012\n",
      "Epoch 10/100\n",
      "80/81 [============================>.] - ETA: 0s - loss: 0.0035 - mae: 0.0465 - mse: 0.0035"
     ]
    },
    {
     "name": "stderr",
     "output_type": "stream",
     "text": [
      "WARNING:tensorflow:Can save best model only with val_mean_squared_error available, skipping.\n"
     ]
    },
    {
     "name": "stdout",
     "output_type": "stream",
     "text": [
      "81/81 [==============================] - 1s 7ms/step - loss: 0.0035 - mae: 0.0464 - mse: 0.0035 - val_loss: 0.0018 - val_mae: 0.0342 - val_mse: 0.0018\n",
      "Epoch 11/100\n",
      "80/81 [============================>.] - ETA: 0s - loss: 0.0032 - mae: 0.0453 - mse: 0.0032"
     ]
    },
    {
     "name": "stderr",
     "output_type": "stream",
     "text": [
      "WARNING:tensorflow:Can save best model only with val_mean_squared_error available, skipping.\n"
     ]
    },
    {
     "name": "stdout",
     "output_type": "stream",
     "text": [
      "81/81 [==============================] - 1s 7ms/step - loss: 0.0032 - mae: 0.0453 - mse: 0.0032 - val_loss: 8.0908e-04 - val_mae: 0.0241 - val_mse: 8.0908e-04\n",
      "Epoch 12/100\n",
      "80/81 [============================>.] - ETA: 0s - loss: 0.0030 - mae: 0.0427 - mse: 0.0030"
     ]
    },
    {
     "name": "stderr",
     "output_type": "stream",
     "text": [
      "WARNING:tensorflow:Can save best model only with val_mean_squared_error available, skipping.\n"
     ]
    },
    {
     "name": "stdout",
     "output_type": "stream",
     "text": [
      "81/81 [==============================] - 1s 8ms/step - loss: 0.0030 - mae: 0.0427 - mse: 0.0030 - val_loss: 0.0012 - val_mae: 0.0297 - val_mse: 0.0012\n",
      "Epoch 13/100\n",
      "79/81 [============================>.] - ETA: 0s - loss: 0.0028 - mae: 0.0414 - mse: 0.0028"
     ]
    },
    {
     "name": "stderr",
     "output_type": "stream",
     "text": [
      "WARNING:tensorflow:Can save best model only with val_mean_squared_error available, skipping.\n"
     ]
    },
    {
     "name": "stdout",
     "output_type": "stream",
     "text": [
      "81/81 [==============================] - 1s 7ms/step - loss: 0.0028 - mae: 0.0414 - mse: 0.0028 - val_loss: 0.0012 - val_mae: 0.0277 - val_mse: 0.0012\n",
      "Epoch 14/100\n",
      "78/81 [===========================>..] - ETA: 0s - loss: 0.0027 - mae: 0.0409 - mse: 0.0027"
     ]
    },
    {
     "name": "stderr",
     "output_type": "stream",
     "text": [
      "WARNING:tensorflow:Can save best model only with val_mean_squared_error available, skipping.\n"
     ]
    },
    {
     "name": "stdout",
     "output_type": "stream",
     "text": [
      "81/81 [==============================] - 1s 8ms/step - loss: 0.0027 - mae: 0.0408 - mse: 0.0027 - val_loss: 0.0011 - val_mae: 0.0259 - val_mse: 0.0011\n",
      "Epoch 15/100\n",
      "80/81 [============================>.] - ETA: 0s - loss: 0.0027 - mae: 0.0403 - mse: 0.0027"
     ]
    },
    {
     "name": "stderr",
     "output_type": "stream",
     "text": [
      "WARNING:tensorflow:Can save best model only with val_mean_squared_error available, skipping.\n"
     ]
    },
    {
     "name": "stdout",
     "output_type": "stream",
     "text": [
      "81/81 [==============================] - 1s 7ms/step - loss: 0.0026 - mae: 0.0403 - mse: 0.0026 - val_loss: 0.0010 - val_mae: 0.0272 - val_mse: 0.0010\n",
      "Epoch 16/100\n",
      "79/81 [============================>.] - ETA: 0s - loss: 0.0027 - mae: 0.0402 - mse: 0.0027"
     ]
    },
    {
     "name": "stderr",
     "output_type": "stream",
     "text": [
      "WARNING:tensorflow:Can save best model only with val_mean_squared_error available, skipping.\n"
     ]
    },
    {
     "name": "stdout",
     "output_type": "stream",
     "text": [
      "81/81 [==============================] - 1s 7ms/step - loss: 0.0027 - mae: 0.0402 - mse: 0.0027 - val_loss: 9.8188e-04 - val_mae: 0.0247 - val_mse: 9.8188e-04\n",
      "Epoch 17/100\n",
      "74/81 [==========================>...] - ETA: 0s - loss: 0.0024 - mae: 0.0387 - mse: 0.0024"
     ]
    },
    {
     "name": "stderr",
     "output_type": "stream",
     "text": [
      "WARNING:tensorflow:Can save best model only with val_mean_squared_error available, skipping.\n"
     ]
    },
    {
     "name": "stdout",
     "output_type": "stream",
     "text": [
      "81/81 [==============================] - 1s 7ms/step - loss: 0.0024 - mae: 0.0389 - mse: 0.0024 - val_loss: 7.4050e-04 - val_mae: 0.0222 - val_mse: 7.4050e-04\n",
      "Epoch 18/100\n",
      "77/81 [===========================>..] - ETA: 0s - loss: 0.0024 - mae: 0.0382 - mse: 0.0024"
     ]
    },
    {
     "name": "stderr",
     "output_type": "stream",
     "text": [
      "WARNING:tensorflow:Can save best model only with val_mean_squared_error available, skipping.\n"
     ]
    },
    {
     "name": "stdout",
     "output_type": "stream",
     "text": [
      "81/81 [==============================] - 1s 8ms/step - loss: 0.0024 - mae: 0.0382 - mse: 0.0024 - val_loss: 6.9470e-04 - val_mae: 0.0208 - val_mse: 6.9470e-04\n",
      "Epoch 19/100\n",
      "77/81 [===========================>..] - ETA: 0s - loss: 0.0022 - mae: 0.0367 - mse: 0.0022"
     ]
    },
    {
     "name": "stderr",
     "output_type": "stream",
     "text": [
      "WARNING:tensorflow:Can save best model only with val_mean_squared_error available, skipping.\n"
     ]
    },
    {
     "name": "stdout",
     "output_type": "stream",
     "text": [
      "81/81 [==============================] - 1s 8ms/step - loss: 0.0022 - mae: 0.0367 - mse: 0.0022 - val_loss: 0.0014 - val_mae: 0.0290 - val_mse: 0.0014\n",
      "Epoch 20/100\n",
      "80/81 [============================>.] - ETA: 0s - loss: 0.0024 - mae: 0.0382 - mse: 0.0024"
     ]
    },
    {
     "name": "stderr",
     "output_type": "stream",
     "text": [
      "WARNING:tensorflow:Can save best model only with val_mean_squared_error available, skipping.\n"
     ]
    },
    {
     "name": "stdout",
     "output_type": "stream",
     "text": [
      "81/81 [==============================] - 1s 7ms/step - loss: 0.0025 - mae: 0.0384 - mse: 0.0025 - val_loss: 0.0013 - val_mae: 0.0304 - val_mse: 0.0013\n",
      "Epoch 21/100\n",
      "81/81 [==============================] - ETA: 0s - loss: 0.0023 - mae: 0.0377 - mse: 0.0023"
     ]
    },
    {
     "name": "stderr",
     "output_type": "stream",
     "text": [
      "WARNING:tensorflow:Can save best model only with val_mean_squared_error available, skipping.\n"
     ]
    },
    {
     "name": "stdout",
     "output_type": "stream",
     "text": [
      "81/81 [==============================] - 1s 7ms/step - loss: 0.0023 - mae: 0.0377 - mse: 0.0023 - val_loss: 8.6113e-04 - val_mae: 0.0226 - val_mse: 8.6113e-04\n",
      "Epoch 22/100\n",
      "77/81 [===========================>..] - ETA: 0s - loss: 0.0021 - mae: 0.0357 - mse: 0.0021"
     ]
    },
    {
     "name": "stderr",
     "output_type": "stream",
     "text": [
      "WARNING:tensorflow:Can save best model only with val_mean_squared_error available, skipping.\n"
     ]
    },
    {
     "name": "stdout",
     "output_type": "stream",
     "text": [
      "81/81 [==============================] - 1s 7ms/step - loss: 0.0021 - mae: 0.0358 - mse: 0.0021 - val_loss: 0.0012 - val_mae: 0.0272 - val_mse: 0.0012\n",
      "Epoch 23/100\n",
      "79/81 [============================>.] - ETA: 0s - loss: 0.0021 - mae: 0.0355 - mse: 0.0021"
     ]
    },
    {
     "name": "stderr",
     "output_type": "stream",
     "text": [
      "WARNING:tensorflow:Can save best model only with val_mean_squared_error available, skipping.\n"
     ]
    },
    {
     "name": "stdout",
     "output_type": "stream",
     "text": [
      "81/81 [==============================] - 1s 7ms/step - loss: 0.0021 - mae: 0.0356 - mse: 0.0021 - val_loss: 0.0013 - val_mae: 0.0277 - val_mse: 0.0013\n",
      "Epoch 24/100\n",
      "79/81 [============================>.] - ETA: 0s - loss: 0.0021 - mae: 0.0356 - mse: 0.0021"
     ]
    },
    {
     "name": "stderr",
     "output_type": "stream",
     "text": [
      "WARNING:tensorflow:Can save best model only with val_mean_squared_error available, skipping.\n"
     ]
    },
    {
     "name": "stdout",
     "output_type": "stream",
     "text": [
      "81/81 [==============================] - 1s 8ms/step - loss: 0.0021 - mae: 0.0356 - mse: 0.0021 - val_loss: 0.0014 - val_mae: 0.0297 - val_mse: 0.0014\n",
      "Epoch 25/100\n",
      "81/81 [==============================] - ETA: 0s - loss: 0.0020 - mae: 0.0349 - mse: 0.0020"
     ]
    },
    {
     "name": "stderr",
     "output_type": "stream",
     "text": [
      "WARNING:tensorflow:Can save best model only with val_mean_squared_error available, skipping.\n"
     ]
    },
    {
     "name": "stdout",
     "output_type": "stream",
     "text": [
      "81/81 [==============================] - 1s 7ms/step - loss: 0.0020 - mae: 0.0349 - mse: 0.0020 - val_loss: 0.0013 - val_mae: 0.0264 - val_mse: 0.0013\n",
      "Epoch 26/100\n",
      "80/81 [============================>.] - ETA: 0s - loss: 0.0020 - mae: 0.0347 - mse: 0.0020"
     ]
    },
    {
     "name": "stderr",
     "output_type": "stream",
     "text": [
      "WARNING:tensorflow:Can save best model only with val_mean_squared_error available, skipping.\n"
     ]
    },
    {
     "name": "stdout",
     "output_type": "stream",
     "text": [
      "81/81 [==============================] - 1s 7ms/step - loss: 0.0020 - mae: 0.0347 - mse: 0.0020 - val_loss: 9.4493e-04 - val_mae: 0.0243 - val_mse: 9.4493e-04\n",
      "Epoch 27/100\n",
      "80/81 [============================>.] - ETA: 0s - loss: 0.0020 - mae: 0.0347 - mse: 0.0020"
     ]
    },
    {
     "name": "stderr",
     "output_type": "stream",
     "text": [
      "WARNING:tensorflow:Can save best model only with val_mean_squared_error available, skipping.\n"
     ]
    },
    {
     "name": "stdout",
     "output_type": "stream",
     "text": [
      "81/81 [==============================] - 1s 7ms/step - loss: 0.0020 - mae: 0.0348 - mse: 0.0020 - val_loss: 0.0013 - val_mae: 0.0288 - val_mse: 0.0013\n",
      "Epoch 28/100\n",
      "79/81 [============================>.] - ETA: 0s - loss: 0.0020 - mae: 0.0347 - mse: 0.0020"
     ]
    },
    {
     "name": "stderr",
     "output_type": "stream",
     "text": [
      "WARNING:tensorflow:Can save best model only with val_mean_squared_error available, skipping.\n"
     ]
    },
    {
     "name": "stdout",
     "output_type": "stream",
     "text": [
      "81/81 [==============================] - 1s 8ms/step - loss: 0.0020 - mae: 0.0346 - mse: 0.0020 - val_loss: 0.0011 - val_mae: 0.0275 - val_mse: 0.0011\n",
      "Epoch 29/100\n",
      "78/81 [===========================>..] - ETA: 0s - loss: 0.0019 - mae: 0.0333 - mse: 0.0019"
     ]
    },
    {
     "name": "stderr",
     "output_type": "stream",
     "text": [
      "WARNING:tensorflow:Can save best model only with val_mean_squared_error available, skipping.\n"
     ]
    },
    {
     "name": "stdout",
     "output_type": "stream",
     "text": [
      "81/81 [==============================] - 1s 8ms/step - loss: 0.0019 - mae: 0.0332 - mse: 0.0019 - val_loss: 0.0014 - val_mae: 0.0290 - val_mse: 0.0014\n",
      "Epoch 30/100\n",
      "80/81 [============================>.] - ETA: 0s - loss: 0.0018 - mae: 0.0330 - mse: 0.0018"
     ]
    },
    {
     "name": "stderr",
     "output_type": "stream",
     "text": [
      "WARNING:tensorflow:Can save best model only with val_mean_squared_error available, skipping.\n"
     ]
    },
    {
     "name": "stdout",
     "output_type": "stream",
     "text": [
      "81/81 [==============================] - 1s 8ms/step - loss: 0.0018 - mae: 0.0330 - mse: 0.0018 - val_loss: 0.0015 - val_mae: 0.0316 - val_mse: 0.0015\n",
      "Epoch 31/100\n",
      "74/81 [==========================>...] - ETA: 0s - loss: 0.0018 - mae: 0.0326 - mse: 0.0018"
     ]
    },
    {
     "name": "stderr",
     "output_type": "stream",
     "text": [
      "WARNING:tensorflow:Can save best model only with val_mean_squared_error available, skipping.\n"
     ]
    },
    {
     "name": "stdout",
     "output_type": "stream",
     "text": [
      "81/81 [==============================] - 1s 8ms/step - loss: 0.0018 - mae: 0.0325 - mse: 0.0018 - val_loss: 9.2801e-04 - val_mae: 0.0242 - val_mse: 9.2801e-04\n",
      "Epoch 32/100\n",
      "80/81 [============================>.] - ETA: 0s - loss: 0.0019 - mae: 0.0340 - mse: 0.0019"
     ]
    },
    {
     "name": "stderr",
     "output_type": "stream",
     "text": [
      "WARNING:tensorflow:Can save best model only with val_mean_squared_error available, skipping.\n"
     ]
    },
    {
     "name": "stdout",
     "output_type": "stream",
     "text": [
      "81/81 [==============================] - 1s 7ms/step - loss: 0.0019 - mae: 0.0340 - mse: 0.0019 - val_loss: 0.0014 - val_mae: 0.0268 - val_mse: 0.0014\n",
      "Epoch 33/100\n",
      "80/81 [============================>.] - ETA: 0s - loss: 0.0020 - mae: 0.0342 - mse: 0.0020"
     ]
    },
    {
     "name": "stderr",
     "output_type": "stream",
     "text": [
      "WARNING:tensorflow:Can save best model only with val_mean_squared_error available, skipping.\n"
     ]
    },
    {
     "name": "stdout",
     "output_type": "stream",
     "text": [
      "81/81 [==============================] - 1s 7ms/step - loss: 0.0020 - mae: 0.0342 - mse: 0.0020 - val_loss: 0.0011 - val_mae: 0.0250 - val_mse: 0.0011\n",
      "Epoch 34/100\n",
      "78/81 [===========================>..] - ETA: 0s - loss: 0.0018 - mae: 0.0325 - mse: 0.0018"
     ]
    },
    {
     "name": "stderr",
     "output_type": "stream",
     "text": [
      "WARNING:tensorflow:Can save best model only with val_mean_squared_error available, skipping.\n"
     ]
    },
    {
     "name": "stdout",
     "output_type": "stream",
     "text": [
      "81/81 [==============================] - 1s 8ms/step - loss: 0.0017 - mae: 0.0324 - mse: 0.0017 - val_loss: 0.0016 - val_mae: 0.0317 - val_mse: 0.0016\n",
      "Epoch 35/100\n",
      "79/81 [============================>.] - ETA: 0s - loss: 0.0017 - mae: 0.0317 - mse: 0.0017"
     ]
    },
    {
     "name": "stderr",
     "output_type": "stream",
     "text": [
      "WARNING:tensorflow:Can save best model only with val_mean_squared_error available, skipping.\n"
     ]
    },
    {
     "name": "stdout",
     "output_type": "stream",
     "text": [
      "81/81 [==============================] - 1s 7ms/step - loss: 0.0017 - mae: 0.0317 - mse: 0.0017 - val_loss: 0.0011 - val_mae: 0.0242 - val_mse: 0.0011\n",
      "Epoch 36/100\n",
      "80/81 [============================>.] - ETA: 0s - loss: 0.0019 - mae: 0.0332 - mse: 0.0019"
     ]
    },
    {
     "name": "stderr",
     "output_type": "stream",
     "text": [
      "WARNING:tensorflow:Can save best model only with val_mean_squared_error available, skipping.\n"
     ]
    },
    {
     "name": "stdout",
     "output_type": "stream",
     "text": [
      "81/81 [==============================] - 1s 8ms/step - loss: 0.0018 - mae: 0.0331 - mse: 0.0018 - val_loss: 0.0016 - val_mae: 0.0286 - val_mse: 0.0016\n",
      "Epoch 37/100\n",
      "80/81 [============================>.] - ETA: 0s - loss: 0.0016 - mae: 0.0305 - mse: 0.0016"
     ]
    },
    {
     "name": "stderr",
     "output_type": "stream",
     "text": [
      "WARNING:tensorflow:Can save best model only with val_mean_squared_error available, skipping.\n"
     ]
    },
    {
     "name": "stdout",
     "output_type": "stream",
     "text": [
      "81/81 [==============================] - 1s 7ms/step - loss: 0.0016 - mae: 0.0305 - mse: 0.0016 - val_loss: 0.0013 - val_mae: 0.0268 - val_mse: 0.0013\n",
      "Epoch 38/100\n",
      "76/81 [===========================>..] - ETA: 0s - loss: 0.0016 - mae: 0.0307 - mse: 0.0016"
     ]
    },
    {
     "name": "stderr",
     "output_type": "stream",
     "text": [
      "WARNING:tensorflow:Can save best model only with val_mean_squared_error available, skipping.\n"
     ]
    },
    {
     "name": "stdout",
     "output_type": "stream",
     "text": [
      "81/81 [==============================] - 1s 8ms/step - loss: 0.0016 - mae: 0.0308 - mse: 0.0016 - val_loss: 0.0015 - val_mae: 0.0316 - val_mse: 0.0015\n",
      "Epoch 39/100\n",
      "78/81 [===========================>..] - ETA: 0s - loss: 0.0016 - mae: 0.0306 - mse: 0.0016"
     ]
    },
    {
     "name": "stderr",
     "output_type": "stream",
     "text": [
      "WARNING:tensorflow:Can save best model only with val_mean_squared_error available, skipping.\n"
     ]
    },
    {
     "name": "stdout",
     "output_type": "stream",
     "text": [
      "81/81 [==============================] - 1s 8ms/step - loss: 0.0016 - mae: 0.0306 - mse: 0.0016 - val_loss: 0.0023 - val_mae: 0.0374 - val_mse: 0.0023\n",
      "Epoch 40/100\n",
      "78/81 [===========================>..] - ETA: 0s - loss: 0.0017 - mae: 0.0317 - mse: 0.0017"
     ]
    },
    {
     "name": "stderr",
     "output_type": "stream",
     "text": [
      "WARNING:tensorflow:Can save best model only with val_mean_squared_error available, skipping.\n"
     ]
    },
    {
     "name": "stdout",
     "output_type": "stream",
     "text": [
      "81/81 [==============================] - 1s 9ms/step - loss: 0.0017 - mae: 0.0318 - mse: 0.0017 - val_loss: 0.0014 - val_mae: 0.0275 - val_mse: 0.0014\n",
      "Epoch 41/100\n",
      "81/81 [==============================] - ETA: 0s - loss: 0.0016 - mae: 0.0310 - mse: 0.0016"
     ]
    },
    {
     "name": "stderr",
     "output_type": "stream",
     "text": [
      "WARNING:tensorflow:Can save best model only with val_mean_squared_error available, skipping.\n"
     ]
    },
    {
     "name": "stdout",
     "output_type": "stream",
     "text": [
      "81/81 [==============================] - 1s 11ms/step - loss: 0.0016 - mae: 0.0310 - mse: 0.0016 - val_loss: 0.0014 - val_mae: 0.0265 - val_mse: 0.0014\n",
      "Epoch 42/100\n",
      "79/81 [============================>.] - ETA: 0s - loss: 0.0015 - mae: 0.0295 - mse: 0.0015"
     ]
    },
    {
     "name": "stderr",
     "output_type": "stream",
     "text": [
      "WARNING:tensorflow:Can save best model only with val_mean_squared_error available, skipping.\n"
     ]
    },
    {
     "name": "stdout",
     "output_type": "stream",
     "text": [
      "81/81 [==============================] - 1s 11ms/step - loss: 0.0015 - mae: 0.0296 - mse: 0.0015 - val_loss: 0.0011 - val_mae: 0.0250 - val_mse: 0.0011\n",
      "Epoch 43/100\n",
      "81/81 [==============================] - ETA: 0s - loss: 0.0016 - mae: 0.0311 - mse: 0.0016"
     ]
    },
    {
     "name": "stderr",
     "output_type": "stream",
     "text": [
      "WARNING:tensorflow:Can save best model only with val_mean_squared_error available, skipping.\n"
     ]
    },
    {
     "name": "stdout",
     "output_type": "stream",
     "text": [
      "81/81 [==============================] - 1s 9ms/step - loss: 0.0016 - mae: 0.0311 - mse: 0.0016 - val_loss: 0.0012 - val_mae: 0.0258 - val_mse: 0.0012\n",
      "Epoch 44/100\n",
      "79/81 [============================>.] - ETA: 0s - loss: 0.0015 - mae: 0.0296 - mse: 0.0015"
     ]
    },
    {
     "name": "stderr",
     "output_type": "stream",
     "text": [
      "WARNING:tensorflow:Can save best model only with val_mean_squared_error available, skipping.\n"
     ]
    },
    {
     "name": "stdout",
     "output_type": "stream",
     "text": [
      "81/81 [==============================] - 1s 7ms/step - loss: 0.0015 - mae: 0.0296 - mse: 0.0015 - val_loss: 0.0013 - val_mae: 0.0270 - val_mse: 0.0013\n",
      "Epoch 45/100\n",
      "80/81 [============================>.] - ETA: 0s - loss: 0.0014 - mae: 0.0288 - mse: 0.0014"
     ]
    },
    {
     "name": "stderr",
     "output_type": "stream",
     "text": [
      "WARNING:tensorflow:Can save best model only with val_mean_squared_error available, skipping.\n"
     ]
    },
    {
     "name": "stdout",
     "output_type": "stream",
     "text": [
      "81/81 [==============================] - 1s 7ms/step - loss: 0.0014 - mae: 0.0288 - mse: 0.0014 - val_loss: 0.0014 - val_mae: 0.0328 - val_mse: 0.0014\n",
      "Epoch 46/100\n",
      "80/81 [============================>.] - ETA: 0s - loss: 0.0014 - mae: 0.0289 - mse: 0.0014"
     ]
    },
    {
     "name": "stderr",
     "output_type": "stream",
     "text": [
      "WARNING:tensorflow:Can save best model only with val_mean_squared_error available, skipping.\n"
     ]
    },
    {
     "name": "stdout",
     "output_type": "stream",
     "text": [
      "81/81 [==============================] - 1s 7ms/step - loss: 0.0014 - mae: 0.0289 - mse: 0.0014 - val_loss: 0.0023 - val_mae: 0.0355 - val_mse: 0.0023\n",
      "Epoch 47/100\n",
      "77/81 [===========================>..] - ETA: 0s - loss: 0.0014 - mae: 0.0286 - mse: 0.0014"
     ]
    },
    {
     "name": "stderr",
     "output_type": "stream",
     "text": [
      "WARNING:tensorflow:Can save best model only with val_mean_squared_error available, skipping.\n"
     ]
    },
    {
     "name": "stdout",
     "output_type": "stream",
     "text": [
      "81/81 [==============================] - 1s 8ms/step - loss: 0.0014 - mae: 0.0286 - mse: 0.0014 - val_loss: 0.0017 - val_mae: 0.0318 - val_mse: 0.0017\n",
      "Epoch 48/100\n",
      "79/81 [============================>.] - ETA: 0s - loss: 0.0015 - mae: 0.0295 - mse: 0.0015"
     ]
    },
    {
     "name": "stderr",
     "output_type": "stream",
     "text": [
      "WARNING:tensorflow:Can save best model only with val_mean_squared_error available, skipping.\n"
     ]
    },
    {
     "name": "stdout",
     "output_type": "stream",
     "text": [
      "81/81 [==============================] - 1s 8ms/step - loss: 0.0015 - mae: 0.0295 - mse: 0.0015 - val_loss: 0.0012 - val_mae: 0.0262 - val_mse: 0.0012\n",
      "Epoch 49/100\n",
      "79/81 [============================>.] - ETA: 0s - loss: 0.0015 - mae: 0.0303 - mse: 0.0015"
     ]
    },
    {
     "name": "stderr",
     "output_type": "stream",
     "text": [
      "WARNING:tensorflow:Can save best model only with val_mean_squared_error available, skipping.\n"
     ]
    },
    {
     "name": "stdout",
     "output_type": "stream",
     "text": [
      "81/81 [==============================] - 1s 8ms/step - loss: 0.0015 - mae: 0.0302 - mse: 0.0015 - val_loss: 0.0020 - val_mae: 0.0348 - val_mse: 0.0020\n",
      "Epoch 50/100\n",
      "79/81 [============================>.] - ETA: 0s - loss: 0.0014 - mae: 0.0296 - mse: 0.0014"
     ]
    },
    {
     "name": "stderr",
     "output_type": "stream",
     "text": [
      "WARNING:tensorflow:Can save best model only with val_mean_squared_error available, skipping.\n"
     ]
    },
    {
     "name": "stdout",
     "output_type": "stream",
     "text": [
      "81/81 [==============================] - 1s 8ms/step - loss: 0.0014 - mae: 0.0296 - mse: 0.0014 - val_loss: 0.0014 - val_mae: 0.0280 - val_mse: 0.0014\n",
      "Epoch 51/100\n",
      "76/81 [===========================>..] - ETA: 0s - loss: 0.0015 - mae: 0.0299 - mse: 0.0015"
     ]
    },
    {
     "name": "stderr",
     "output_type": "stream",
     "text": [
      "WARNING:tensorflow:Can save best model only with val_mean_squared_error available, skipping.\n"
     ]
    },
    {
     "name": "stdout",
     "output_type": "stream",
     "text": [
      "81/81 [==============================] - 1s 8ms/step - loss: 0.0015 - mae: 0.0300 - mse: 0.0015 - val_loss: 0.0014 - val_mae: 0.0268 - val_mse: 0.0014\n",
      "Epoch 52/100\n",
      "80/81 [============================>.] - ETA: 0s - loss: 0.0013 - mae: 0.0280 - mse: 0.0013"
     ]
    },
    {
     "name": "stderr",
     "output_type": "stream",
     "text": [
      "WARNING:tensorflow:Can save best model only with val_mean_squared_error available, skipping.\n"
     ]
    },
    {
     "name": "stdout",
     "output_type": "stream",
     "text": [
      "81/81 [==============================] - 1s 7ms/step - loss: 0.0013 - mae: 0.0280 - mse: 0.0013 - val_loss: 0.0014 - val_mae: 0.0280 - val_mse: 0.0014\n",
      "Epoch 53/100\n",
      "80/81 [============================>.] - ETA: 0s - loss: 0.0013 - mae: 0.0283 - mse: 0.0013"
     ]
    },
    {
     "name": "stderr",
     "output_type": "stream",
     "text": [
      "WARNING:tensorflow:Can save best model only with val_mean_squared_error available, skipping.\n"
     ]
    },
    {
     "name": "stdout",
     "output_type": "stream",
     "text": [
      "81/81 [==============================] - 1s 8ms/step - loss: 0.0013 - mae: 0.0282 - mse: 0.0013 - val_loss: 0.0018 - val_mae: 0.0325 - val_mse: 0.0018\n",
      "Epoch 54/100\n",
      "74/81 [==========================>...] - ETA: 0s - loss: 0.0014 - mae: 0.0291 - mse: 0.0014"
     ]
    },
    {
     "name": "stderr",
     "output_type": "stream",
     "text": [
      "WARNING:tensorflow:Can save best model only with val_mean_squared_error available, skipping.\n"
     ]
    },
    {
     "name": "stdout",
     "output_type": "stream",
     "text": [
      "81/81 [==============================] - 1s 8ms/step - loss: 0.0014 - mae: 0.0291 - mse: 0.0014 - val_loss: 0.0016 - val_mae: 0.0308 - val_mse: 0.0016\n",
      "Epoch 55/100\n",
      "76/81 [===========================>..] - ETA: 0s - loss: 0.0014 - mae: 0.0286 - mse: 0.0014"
     ]
    },
    {
     "name": "stderr",
     "output_type": "stream",
     "text": [
      "WARNING:tensorflow:Can save best model only with val_mean_squared_error available, skipping.\n"
     ]
    },
    {
     "name": "stdout",
     "output_type": "stream",
     "text": [
      "81/81 [==============================] - 1s 8ms/step - loss: 0.0014 - mae: 0.0285 - mse: 0.0014 - val_loss: 0.0011 - val_mae: 0.0236 - val_mse: 0.0011\n",
      "Epoch 56/100\n",
      "80/81 [============================>.] - ETA: 0s - loss: 0.0012 - mae: 0.0272 - mse: 0.0012"
     ]
    },
    {
     "name": "stderr",
     "output_type": "stream",
     "text": [
      "WARNING:tensorflow:Can save best model only with val_mean_squared_error available, skipping.\n"
     ]
    },
    {
     "name": "stdout",
     "output_type": "stream",
     "text": [
      "81/81 [==============================] - 1s 8ms/step - loss: 0.0012 - mae: 0.0272 - mse: 0.0012 - val_loss: 0.0016 - val_mae: 0.0288 - val_mse: 0.0016\n",
      "Epoch 57/100\n",
      "79/81 [============================>.] - ETA: 0s - loss: 0.0013 - mae: 0.0278 - mse: 0.0013"
     ]
    },
    {
     "name": "stderr",
     "output_type": "stream",
     "text": [
      "WARNING:tensorflow:Can save best model only with val_mean_squared_error available, skipping.\n"
     ]
    },
    {
     "name": "stdout",
     "output_type": "stream",
     "text": [
      "81/81 [==============================] - 1s 7ms/step - loss: 0.0013 - mae: 0.0278 - mse: 0.0013 - val_loss: 0.0018 - val_mae: 0.0304 - val_mse: 0.0018\n",
      "Epoch 58/100\n",
      "80/81 [============================>.] - ETA: 0s - loss: 0.0015 - mae: 0.0296 - mse: 0.0015"
     ]
    },
    {
     "name": "stderr",
     "output_type": "stream",
     "text": [
      "WARNING:tensorflow:Can save best model only with val_mean_squared_error available, skipping.\n"
     ]
    },
    {
     "name": "stdout",
     "output_type": "stream",
     "text": [
      "81/81 [==============================] - 1s 7ms/step - loss: 0.0015 - mae: 0.0296 - mse: 0.0015 - val_loss: 0.0016 - val_mae: 0.0311 - val_mse: 0.0016\n",
      "Epoch 59/100\n",
      "77/81 [===========================>..] - ETA: 0s - loss: 0.0012 - mae: 0.0268 - mse: 0.0012"
     ]
    },
    {
     "name": "stderr",
     "output_type": "stream",
     "text": [
      "WARNING:tensorflow:Can save best model only with val_mean_squared_error available, skipping.\n"
     ]
    },
    {
     "name": "stdout",
     "output_type": "stream",
     "text": [
      "81/81 [==============================] - 1s 8ms/step - loss: 0.0012 - mae: 0.0268 - mse: 0.0012 - val_loss: 0.0025 - val_mae: 0.0383 - val_mse: 0.0025\n",
      "Epoch 60/100\n",
      "79/81 [============================>.] - ETA: 0s - loss: 0.0012 - mae: 0.0270 - mse: 0.0012"
     ]
    },
    {
     "name": "stderr",
     "output_type": "stream",
     "text": [
      "WARNING:tensorflow:Can save best model only with val_mean_squared_error available, skipping.\n"
     ]
    },
    {
     "name": "stdout",
     "output_type": "stream",
     "text": [
      "81/81 [==============================] - 1s 8ms/step - loss: 0.0012 - mae: 0.0270 - mse: 0.0012 - val_loss: 0.0017 - val_mae: 0.0309 - val_mse: 0.0017\n",
      "Epoch 61/100\n",
      "75/81 [==========================>...] - ETA: 0s - loss: 0.0012 - mae: 0.0275 - mse: 0.0012"
     ]
    },
    {
     "name": "stderr",
     "output_type": "stream",
     "text": [
      "WARNING:tensorflow:Can save best model only with val_mean_squared_error available, skipping.\n"
     ]
    },
    {
     "name": "stdout",
     "output_type": "stream",
     "text": [
      "81/81 [==============================] - 1s 8ms/step - loss: 0.0012 - mae: 0.0274 - mse: 0.0012 - val_loss: 0.0023 - val_mae: 0.0383 - val_mse: 0.0023\n",
      "Epoch 62/100\n",
      "77/81 [===========================>..] - ETA: 0s - loss: 0.0011 - mae: 0.0260 - mse: 0.0011"
     ]
    },
    {
     "name": "stderr",
     "output_type": "stream",
     "text": [
      "WARNING:tensorflow:Can save best model only with val_mean_squared_error available, skipping.\n"
     ]
    },
    {
     "name": "stdout",
     "output_type": "stream",
     "text": [
      "81/81 [==============================] - 1s 8ms/step - loss: 0.0011 - mae: 0.0260 - mse: 0.0011 - val_loss: 0.0014 - val_mae: 0.0276 - val_mse: 0.0014\n",
      "Epoch 63/100\n",
      "78/81 [===========================>..] - ETA: 0s - loss: 0.0011 - mae: 0.0261 - mse: 0.0011"
     ]
    },
    {
     "name": "stderr",
     "output_type": "stream",
     "text": [
      "WARNING:tensorflow:Can save best model only with val_mean_squared_error available, skipping.\n"
     ]
    },
    {
     "name": "stdout",
     "output_type": "stream",
     "text": [
      "81/81 [==============================] - 1s 8ms/step - loss: 0.0011 - mae: 0.0261 - mse: 0.0011 - val_loss: 0.0019 - val_mae: 0.0335 - val_mse: 0.0019\n",
      "Epoch 64/100\n",
      "79/81 [============================>.] - ETA: 0s - loss: 0.0014 - mae: 0.0281 - mse: 0.0014"
     ]
    },
    {
     "name": "stderr",
     "output_type": "stream",
     "text": [
      "WARNING:tensorflow:Can save best model only with val_mean_squared_error available, skipping.\n"
     ]
    },
    {
     "name": "stdout",
     "output_type": "stream",
     "text": [
      "81/81 [==============================] - 1s 8ms/step - loss: 0.0014 - mae: 0.0280 - mse: 0.0014 - val_loss: 0.0020 - val_mae: 0.0343 - val_mse: 0.0020\n",
      "Epoch 65/100\n",
      "79/81 [============================>.] - ETA: 0s - loss: 0.0011 - mae: 0.0261 - mse: 0.0011"
     ]
    },
    {
     "name": "stderr",
     "output_type": "stream",
     "text": [
      "WARNING:tensorflow:Can save best model only with val_mean_squared_error available, skipping.\n"
     ]
    },
    {
     "name": "stdout",
     "output_type": "stream",
     "text": [
      "81/81 [==============================] - 1s 7ms/step - loss: 0.0011 - mae: 0.0262 - mse: 0.0011 - val_loss: 0.0024 - val_mae: 0.0356 - val_mse: 0.0024\n",
      "Epoch 66/100\n",
      "78/81 [===========================>..] - ETA: 0s - loss: 0.0013 - mae: 0.0276 - mse: 0.0013"
     ]
    },
    {
     "name": "stderr",
     "output_type": "stream",
     "text": [
      "WARNING:tensorflow:Can save best model only with val_mean_squared_error available, skipping.\n"
     ]
    },
    {
     "name": "stdout",
     "output_type": "stream",
     "text": [
      "81/81 [==============================] - 1s 8ms/step - loss: 0.0013 - mae: 0.0275 - mse: 0.0013 - val_loss: 0.0018 - val_mae: 0.0311 - val_mse: 0.0018\n",
      "Epoch 67/100\n",
      "76/81 [===========================>..] - ETA: 0s - loss: 0.0010 - mae: 0.0251 - mse: 0.0010"
     ]
    },
    {
     "name": "stderr",
     "output_type": "stream",
     "text": [
      "WARNING:tensorflow:Can save best model only with val_mean_squared_error available, skipping.\n"
     ]
    },
    {
     "name": "stdout",
     "output_type": "stream",
     "text": [
      "81/81 [==============================] - 1s 8ms/step - loss: 0.0011 - mae: 0.0252 - mse: 0.0011 - val_loss: 0.0022 - val_mae: 0.0361 - val_mse: 0.0022\n",
      "Epoch 68/100\n",
      "80/81 [============================>.] - ETA: 0s - loss: 9.9261e-04 - mae: 0.0247 - mse: 9.9261e-04"
     ]
    },
    {
     "name": "stderr",
     "output_type": "stream",
     "text": [
      "WARNING:tensorflow:Can save best model only with val_mean_squared_error available, skipping.\n"
     ]
    },
    {
     "name": "stdout",
     "output_type": "stream",
     "text": [
      "81/81 [==============================] - 1s 7ms/step - loss: 9.9229e-04 - mae: 0.0247 - mse: 9.9229e-04 - val_loss: 0.0015 - val_mae: 0.0306 - val_mse: 0.0015\n",
      "Epoch 69/100\n",
      "77/81 [===========================>..] - ETA: 0s - loss: 0.0011 - mae: 0.0257 - mse: 0.0011"
     ]
    },
    {
     "name": "stderr",
     "output_type": "stream",
     "text": [
      "WARNING:tensorflow:Can save best model only with val_mean_squared_error available, skipping.\n"
     ]
    },
    {
     "name": "stdout",
     "output_type": "stream",
     "text": [
      "81/81 [==============================] - 1s 8ms/step - loss: 0.0011 - mae: 0.0258 - mse: 0.0011 - val_loss: 0.0013 - val_mae: 0.0272 - val_mse: 0.0013\n",
      "Epoch 70/100\n",
      "76/81 [===========================>..] - ETA: 0s - loss: 0.0012 - mae: 0.0270 - mse: 0.0012"
     ]
    },
    {
     "name": "stderr",
     "output_type": "stream",
     "text": [
      "WARNING:tensorflow:Can save best model only with val_mean_squared_error available, skipping.\n"
     ]
    },
    {
     "name": "stdout",
     "output_type": "stream",
     "text": [
      "81/81 [==============================] - 1s 8ms/step - loss: 0.0012 - mae: 0.0268 - mse: 0.0012 - val_loss: 0.0018 - val_mae: 0.0308 - val_mse: 0.0018\n",
      "Epoch 71/100\n",
      "79/81 [============================>.] - ETA: 0s - loss: 9.9501e-04 - mae: 0.0249 - mse: 9.9501e-04"
     ]
    },
    {
     "name": "stderr",
     "output_type": "stream",
     "text": [
      "WARNING:tensorflow:Can save best model only with val_mean_squared_error available, skipping.\n"
     ]
    },
    {
     "name": "stdout",
     "output_type": "stream",
     "text": [
      "81/81 [==============================] - 1s 7ms/step - loss: 9.9676e-04 - mae: 0.0249 - mse: 9.9676e-04 - val_loss: 0.0020 - val_mae: 0.0339 - val_mse: 0.0020\n",
      "Epoch 72/100\n",
      "78/81 [===========================>..] - ETA: 0s - loss: 0.0011 - mae: 0.0254 - mse: 0.0011"
     ]
    },
    {
     "name": "stderr",
     "output_type": "stream",
     "text": [
      "WARNING:tensorflow:Can save best model only with val_mean_squared_error available, skipping.\n"
     ]
    },
    {
     "name": "stdout",
     "output_type": "stream",
     "text": [
      "81/81 [==============================] - 1s 8ms/step - loss: 0.0011 - mae: 0.0255 - mse: 0.0011 - val_loss: 0.0013 - val_mae: 0.0280 - val_mse: 0.0013\n",
      "Epoch 73/100\n",
      "79/81 [============================>.] - ETA: 0s - loss: 0.0010 - mae: 0.0251 - mse: 0.0010"
     ]
    },
    {
     "name": "stderr",
     "output_type": "stream",
     "text": [
      "WARNING:tensorflow:Can save best model only with val_mean_squared_error available, skipping.\n"
     ]
    },
    {
     "name": "stdout",
     "output_type": "stream",
     "text": [
      "81/81 [==============================] - 1s 8ms/step - loss: 0.0010 - mae: 0.0251 - mse: 0.0010 - val_loss: 0.0027 - val_mae: 0.0423 - val_mse: 0.0027\n",
      "Epoch 74/100\n",
      "79/81 [============================>.] - ETA: 0s - loss: 0.0011 - mae: 0.0262 - mse: 0.0011"
     ]
    },
    {
     "name": "stderr",
     "output_type": "stream",
     "text": [
      "WARNING:tensorflow:Can save best model only with val_mean_squared_error available, skipping.\n"
     ]
    },
    {
     "name": "stdout",
     "output_type": "stream",
     "text": [
      "81/81 [==============================] - 1s 8ms/step - loss: 0.0011 - mae: 0.0262 - mse: 0.0011 - val_loss: 0.0019 - val_mae: 0.0350 - val_mse: 0.0019\n",
      "Epoch 75/100\n",
      "74/81 [==========================>...] - ETA: 0s - loss: 8.8962e-04 - mae: 0.0234 - mse: 8.8962e-04"
     ]
    },
    {
     "name": "stderr",
     "output_type": "stream",
     "text": [
      "WARNING:tensorflow:Can save best model only with val_mean_squared_error available, skipping.\n"
     ]
    },
    {
     "name": "stdout",
     "output_type": "stream",
     "text": [
      "81/81 [==============================] - 1s 8ms/step - loss: 8.8293e-04 - mae: 0.0233 - mse: 8.8293e-04 - val_loss: 0.0018 - val_mae: 0.0331 - val_mse: 0.0018\n",
      "Epoch 76/100\n",
      "77/81 [===========================>..] - ETA: 0s - loss: 9.7047e-04 - mae: 0.0244 - mse: 9.7047e-04"
     ]
    },
    {
     "name": "stderr",
     "output_type": "stream",
     "text": [
      "WARNING:tensorflow:Can save best model only with val_mean_squared_error available, skipping.\n"
     ]
    },
    {
     "name": "stdout",
     "output_type": "stream",
     "text": [
      "81/81 [==============================] - 1s 12ms/step - loss: 9.6786e-04 - mae: 0.0243 - mse: 9.6786e-04 - val_loss: 0.0017 - val_mae: 0.0307 - val_mse: 0.0017\n",
      "Epoch 77/100\n",
      "81/81 [==============================] - ETA: 0s - loss: 9.7807e-04 - mae: 0.0246 - mse: 9.7807e-04"
     ]
    },
    {
     "name": "stderr",
     "output_type": "stream",
     "text": [
      "WARNING:tensorflow:Can save best model only with val_mean_squared_error available, skipping.\n"
     ]
    },
    {
     "name": "stdout",
     "output_type": "stream",
     "text": [
      "81/81 [==============================] - 1s 10ms/step - loss: 9.7807e-04 - mae: 0.0246 - mse: 9.7807e-04 - val_loss: 0.0024 - val_mae: 0.0374 - val_mse: 0.0024\n",
      "Epoch 78/100\n",
      "79/81 [============================>.] - ETA: 0s - loss: 9.4048e-04 - mae: 0.0240 - mse: 9.4048e-04"
     ]
    },
    {
     "name": "stderr",
     "output_type": "stream",
     "text": [
      "WARNING:tensorflow:Can save best model only with val_mean_squared_error available, skipping.\n"
     ]
    },
    {
     "name": "stdout",
     "output_type": "stream",
     "text": [
      "81/81 [==============================] - 1s 14ms/step - loss: 9.4212e-04 - mae: 0.0240 - mse: 9.4212e-04 - val_loss: 0.0020 - val_mae: 0.0348 - val_mse: 0.0020\n",
      "Epoch 79/100\n",
      "80/81 [============================>.] - ETA: 0s - loss: 9.5434e-04 - mae: 0.0242 - mse: 9.5434e-04"
     ]
    },
    {
     "name": "stderr",
     "output_type": "stream",
     "text": [
      "WARNING:tensorflow:Can save best model only with val_mean_squared_error available, skipping.\n"
     ]
    },
    {
     "name": "stdout",
     "output_type": "stream",
     "text": [
      "81/81 [==============================] - 1s 12ms/step - loss: 9.5674e-04 - mae: 0.0242 - mse: 9.5674e-04 - val_loss: 0.0019 - val_mae: 0.0335 - val_mse: 0.0019\n",
      "Epoch 80/100\n",
      "80/81 [============================>.] - ETA: 0s - loss: 9.3211e-04 - mae: 0.0240 - mse: 9.3211e-04"
     ]
    },
    {
     "name": "stderr",
     "output_type": "stream",
     "text": [
      "WARNING:tensorflow:Can save best model only with val_mean_squared_error available, skipping.\n"
     ]
    },
    {
     "name": "stdout",
     "output_type": "stream",
     "text": [
      "81/81 [==============================] - 1s 10ms/step - loss: 9.3002e-04 - mae: 0.0240 - mse: 9.3002e-04 - val_loss: 0.0017 - val_mae: 0.0315 - val_mse: 0.0017\n",
      "Epoch 81/100\n",
      "80/81 [============================>.] - ETA: 0s - loss: 9.8433e-04 - mae: 0.0243 - mse: 9.8433e-04"
     ]
    },
    {
     "name": "stderr",
     "output_type": "stream",
     "text": [
      "WARNING:tensorflow:Can save best model only with val_mean_squared_error available, skipping.\n"
     ]
    },
    {
     "name": "stdout",
     "output_type": "stream",
     "text": [
      "81/81 [==============================] - 1s 7ms/step - loss: 9.8531e-04 - mae: 0.0243 - mse: 9.8531e-04 - val_loss: 0.0018 - val_mae: 0.0337 - val_mse: 0.0018\n",
      "Epoch 82/100\n",
      "76/81 [===========================>..] - ETA: 0s - loss: 9.1895e-04 - mae: 0.0234 - mse: 9.1895e-04"
     ]
    },
    {
     "name": "stderr",
     "output_type": "stream",
     "text": [
      "WARNING:tensorflow:Can save best model only with val_mean_squared_error available, skipping.\n"
     ]
    },
    {
     "name": "stdout",
     "output_type": "stream",
     "text": [
      "81/81 [==============================] - 1s 8ms/step - loss: 9.0964e-04 - mae: 0.0233 - mse: 9.0964e-04 - val_loss: 0.0018 - val_mae: 0.0324 - val_mse: 0.0018\n",
      "Epoch 83/100\n",
      "80/81 [============================>.] - ETA: 0s - loss: 8.9657e-04 - mae: 0.0234 - mse: 8.9657e-04"
     ]
    },
    {
     "name": "stderr",
     "output_type": "stream",
     "text": [
      "WARNING:tensorflow:Can save best model only with val_mean_squared_error available, skipping.\n"
     ]
    },
    {
     "name": "stdout",
     "output_type": "stream",
     "text": [
      "81/81 [==============================] - 1s 7ms/step - loss: 8.9702e-04 - mae: 0.0234 - mse: 8.9702e-04 - val_loss: 0.0017 - val_mae: 0.0333 - val_mse: 0.0017\n",
      "Epoch 84/100\n",
      "77/81 [===========================>..] - ETA: 0s - loss: 0.0011 - mae: 0.0248 - mse: 0.0011"
     ]
    },
    {
     "name": "stderr",
     "output_type": "stream",
     "text": [
      "WARNING:tensorflow:Can save best model only with val_mean_squared_error available, skipping.\n"
     ]
    },
    {
     "name": "stdout",
     "output_type": "stream",
     "text": [
      "81/81 [==============================] - 1s 8ms/step - loss: 0.0011 - mae: 0.0246 - mse: 0.0011 - val_loss: 0.0020 - val_mae: 0.0323 - val_mse: 0.0020\n",
      "Epoch 85/100\n",
      "76/81 [===========================>..] - ETA: 0s - loss: 8.1955e-04 - mae: 0.0223 - mse: 8.1955e-04"
     ]
    },
    {
     "name": "stderr",
     "output_type": "stream",
     "text": [
      "WARNING:tensorflow:Can save best model only with val_mean_squared_error available, skipping.\n"
     ]
    },
    {
     "name": "stdout",
     "output_type": "stream",
     "text": [
      "81/81 [==============================] - 1s 8ms/step - loss: 8.1956e-04 - mae: 0.0223 - mse: 8.1956e-04 - val_loss: 0.0021 - val_mae: 0.0354 - val_mse: 0.0021\n",
      "Epoch 86/100\n",
      "77/81 [===========================>..] - ETA: 0s - loss: 8.7066e-04 - mae: 0.0229 - mse: 8.7066e-04"
     ]
    },
    {
     "name": "stderr",
     "output_type": "stream",
     "text": [
      "WARNING:tensorflow:Can save best model only with val_mean_squared_error available, skipping.\n"
     ]
    },
    {
     "name": "stdout",
     "output_type": "stream",
     "text": [
      "81/81 [==============================] - 1s 8ms/step - loss: 8.7800e-04 - mae: 0.0230 - mse: 8.7800e-04 - val_loss: 0.0021 - val_mae: 0.0353 - val_mse: 0.0021\n",
      "Epoch 87/100\n",
      "80/81 [============================>.] - ETA: 0s - loss: 7.8287e-04 - mae: 0.0218 - mse: 7.8287e-04"
     ]
    },
    {
     "name": "stderr",
     "output_type": "stream",
     "text": [
      "WARNING:tensorflow:Can save best model only with val_mean_squared_error available, skipping.\n"
     ]
    },
    {
     "name": "stdout",
     "output_type": "stream",
     "text": [
      "81/81 [==============================] - 1s 7ms/step - loss: 7.8137e-04 - mae: 0.0218 - mse: 7.8137e-04 - val_loss: 0.0017 - val_mae: 0.0307 - val_mse: 0.0017\n",
      "Epoch 88/100\n",
      "76/81 [===========================>..] - ETA: 0s - loss: 8.4741e-04 - mae: 0.0227 - mse: 8.4741e-04"
     ]
    },
    {
     "name": "stderr",
     "output_type": "stream",
     "text": [
      "WARNING:tensorflow:Can save best model only with val_mean_squared_error available, skipping.\n"
     ]
    },
    {
     "name": "stdout",
     "output_type": "stream",
     "text": [
      "81/81 [==============================] - 1s 8ms/step - loss: 8.5461e-04 - mae: 0.0227 - mse: 8.5461e-04 - val_loss: 0.0023 - val_mae: 0.0367 - val_mse: 0.0023\n",
      "Epoch 89/100\n",
      "75/81 [==========================>...] - ETA: 0s - loss: 8.0621e-04 - mae: 0.0221 - mse: 8.0621e-04"
     ]
    },
    {
     "name": "stderr",
     "output_type": "stream",
     "text": [
      "WARNING:tensorflow:Can save best model only with val_mean_squared_error available, skipping.\n"
     ]
    },
    {
     "name": "stdout",
     "output_type": "stream",
     "text": [
      "81/81 [==============================] - 1s 8ms/step - loss: 8.4438e-04 - mae: 0.0224 - mse: 8.4438e-04 - val_loss: 0.0018 - val_mae: 0.0329 - val_mse: 0.0018\n",
      "Epoch 90/100\n",
      "80/81 [============================>.] - ETA: 0s - loss: 9.8303e-04 - mae: 0.0244 - mse: 9.8303e-04"
     ]
    },
    {
     "name": "stderr",
     "output_type": "stream",
     "text": [
      "WARNING:tensorflow:Can save best model only with val_mean_squared_error available, skipping.\n"
     ]
    },
    {
     "name": "stdout",
     "output_type": "stream",
     "text": [
      "81/81 [==============================] - 1s 8ms/step - loss: 9.8055e-04 - mae: 0.0243 - mse: 9.8055e-04 - val_loss: 0.0014 - val_mae: 0.0283 - val_mse: 0.0014\n",
      "Epoch 91/100\n",
      "77/81 [===========================>..] - ETA: 0s - loss: 9.2358e-04 - mae: 0.0235 - mse: 9.2358e-04"
     ]
    },
    {
     "name": "stderr",
     "output_type": "stream",
     "text": [
      "WARNING:tensorflow:Can save best model only with val_mean_squared_error available, skipping.\n"
     ]
    },
    {
     "name": "stdout",
     "output_type": "stream",
     "text": [
      "81/81 [==============================] - 1s 8ms/step - loss: 9.1953e-04 - mae: 0.0234 - mse: 9.1953e-04 - val_loss: 0.0028 - val_mae: 0.0399 - val_mse: 0.0028\n",
      "Epoch 92/100\n",
      "74/81 [==========================>...] - ETA: 0s - loss: 7.9357e-04 - mae: 0.0219 - mse: 7.9357e-04"
     ]
    },
    {
     "name": "stderr",
     "output_type": "stream",
     "text": [
      "WARNING:tensorflow:Can save best model only with val_mean_squared_error available, skipping.\n"
     ]
    },
    {
     "name": "stdout",
     "output_type": "stream",
     "text": [
      "81/81 [==============================] - 1s 8ms/step - loss: 8.0301e-04 - mae: 0.0220 - mse: 8.0301e-04 - val_loss: 0.0021 - val_mae: 0.0347 - val_mse: 0.0021\n",
      "Epoch 93/100\n",
      "80/81 [============================>.] - ETA: 0s - loss: 7.3134e-04 - mae: 0.0212 - mse: 7.3134e-04"
     ]
    },
    {
     "name": "stderr",
     "output_type": "stream",
     "text": [
      "WARNING:tensorflow:Can save best model only with val_mean_squared_error available, skipping.\n"
     ]
    },
    {
     "name": "stdout",
     "output_type": "stream",
     "text": [
      "81/81 [==============================] - 1s 8ms/step - loss: 7.3083e-04 - mae: 0.0212 - mse: 7.3083e-04 - val_loss: 0.0030 - val_mae: 0.0417 - val_mse: 0.0030\n",
      "Epoch 94/100\n",
      "79/81 [============================>.] - ETA: 0s - loss: 7.9982e-04 - mae: 0.0219 - mse: 7.9982e-04"
     ]
    },
    {
     "name": "stderr",
     "output_type": "stream",
     "text": [
      "WARNING:tensorflow:Can save best model only with val_mean_squared_error available, skipping.\n"
     ]
    },
    {
     "name": "stdout",
     "output_type": "stream",
     "text": [
      "81/81 [==============================] - 1s 9ms/step - loss: 7.9733e-04 - mae: 0.0219 - mse: 7.9733e-04 - val_loss: 0.0024 - val_mae: 0.0369 - val_mse: 0.0024\n",
      "Epoch 95/100\n",
      "81/81 [==============================] - ETA: 0s - loss: 6.8073e-04 - mae: 0.0203 - mse: 6.8073e-04"
     ]
    },
    {
     "name": "stderr",
     "output_type": "stream",
     "text": [
      "WARNING:tensorflow:Can save best model only with val_mean_squared_error available, skipping.\n"
     ]
    },
    {
     "name": "stdout",
     "output_type": "stream",
     "text": [
      "81/81 [==============================] - 1s 8ms/step - loss: 6.8073e-04 - mae: 0.0203 - mse: 6.8073e-04 - val_loss: 0.0029 - val_mae: 0.0400 - val_mse: 0.0029\n",
      "Epoch 96/100\n",
      "75/81 [==========================>...] - ETA: 0s - loss: 8.7607e-04 - mae: 0.0231 - mse: 8.7607e-04"
     ]
    },
    {
     "name": "stderr",
     "output_type": "stream",
     "text": [
      "WARNING:tensorflow:Can save best model only with val_mean_squared_error available, skipping.\n"
     ]
    },
    {
     "name": "stdout",
     "output_type": "stream",
     "text": [
      "81/81 [==============================] - 1s 8ms/step - loss: 8.6285e-04 - mae: 0.0229 - mse: 8.6285e-04 - val_loss: 0.0023 - val_mae: 0.0365 - val_mse: 0.0023\n",
      "Epoch 97/100\n",
      "79/81 [============================>.] - ETA: 0s - loss: 7.1860e-04 - mae: 0.0211 - mse: 7.1860e-04"
     ]
    },
    {
     "name": "stderr",
     "output_type": "stream",
     "text": [
      "WARNING:tensorflow:Can save best model only with val_mean_squared_error available, skipping.\n"
     ]
    },
    {
     "name": "stdout",
     "output_type": "stream",
     "text": [
      "81/81 [==============================] - 1s 8ms/step - loss: 7.1993e-04 - mae: 0.0211 - mse: 7.1993e-04 - val_loss: 0.0028 - val_mae: 0.0387 - val_mse: 0.0028\n",
      "Epoch 98/100\n",
      "78/81 [===========================>..] - ETA: 0s - loss: 7.7128e-04 - mae: 0.0218 - mse: 7.7128e-04"
     ]
    },
    {
     "name": "stderr",
     "output_type": "stream",
     "text": [
      "WARNING:tensorflow:Can save best model only with val_mean_squared_error available, skipping.\n"
     ]
    },
    {
     "name": "stdout",
     "output_type": "stream",
     "text": [
      "81/81 [==============================] - 1s 10ms/step - loss: 7.6722e-04 - mae: 0.0217 - mse: 7.6722e-04 - val_loss: 0.0031 - val_mae: 0.0423 - val_mse: 0.0031\n",
      "Epoch 99/100\n",
      "79/81 [============================>.] - ETA: 0s - loss: 7.1539e-04 - mae: 0.0207 - mse: 7.1539e-04"
     ]
    },
    {
     "name": "stderr",
     "output_type": "stream",
     "text": [
      "WARNING:tensorflow:Can save best model only with val_mean_squared_error available, skipping.\n"
     ]
    },
    {
     "name": "stdout",
     "output_type": "stream",
     "text": [
      "81/81 [==============================] - 1s 12ms/step - loss: 7.1830e-04 - mae: 0.0208 - mse: 7.1830e-04 - val_loss: 0.0020 - val_mae: 0.0351 - val_mse: 0.0020\n",
      "Epoch 100/100\n",
      "76/81 [===========================>..] - ETA: 0s - loss: 6.9303e-04 - mae: 0.0204 - mse: 6.9303e-04"
     ]
    },
    {
     "name": "stderr",
     "output_type": "stream",
     "text": [
      "WARNING:tensorflow:Can save best model only with val_mean_squared_error available, skipping.\n"
     ]
    },
    {
     "name": "stdout",
     "output_type": "stream",
     "text": [
      "81/81 [==============================] - 1s 15ms/step - loss: 6.9628e-04 - mae: 0.0205 - mse: 6.9628e-04 - val_loss: 0.0027 - val_mae: 0.0379 - val_mse: 0.0027\n"
     ]
    }
   ],
   "source": [
    "from keras.callbacks import ModelCheckpoint\n",
    "checkpoint = ModelCheckpoint(\"weights.best.hdf5\", monitor='val_mean_squared_error', verbose=1, save_best_only=True, mode='min')\n",
    "\n",
    "callbacks_list = [checkpoint]\n",
    "history = model.fit(X_train, y_train, epochs=100, batch_size=64, verbose=1, callbacks=callbacks_list, validation_split=0.1)"
   ]
  },
  {
   "cell_type": "code",
   "execution_count": 11,
   "id": "520a7400",
   "metadata": {
    "colab": {
     "base_uri": "https://localhost:8080/",
     "height": 851
    },
    "executionInfo": {
     "elapsed": 361,
     "status": "ok",
     "timestamp": 1670201519008,
     "user": {
      "displayName": "Emam Hossain",
      "userId": "00475912484380842878"
     },
     "user_tz": 300
    },
    "id": "520a7400",
    "outputId": "fdbde059-fa86-4062-de99-34bc5eacefaa"
   },
   "outputs": [
    {
     "data": {
      "image/png": "[encoded data removed]",
      "text/plain": [
       "<Figure size 432x288 with 1 Axes>"
      ]
     },
     "metadata": {
      "needs_background": "light"
     },
     "output_type": "display_data"
    },
    {
     "data": {
      "image/png": "[encoded data removed]",
      "text/plain": [
       "<Figure size 432x288 with 1 Axes>"
      ]
     },
     "metadata": {
      "needs_background": "light"
     },
     "output_type": "display_data"
    },
    {
     "data": {
      "image/png": "[encoded data removed]",
      "text/plain": [
       "<Figure size 432x288 with 1 Axes>"
      ]
     },
     "metadata": {
      "needs_background": "light"
     },
     "output_type": "display_data"
    }
   ],
   "source": [
    "plt.plot(history.history['mse'])\n",
    "plt.plot(history.history['val_mse'])\n",
    "plt.title('Mean Squared Error of SIE Prediction')\n",
    "plt.ylabel('MSE')\n",
    "plt.xlabel('Epoch')\n",
    "plt.legend(['train', 'validation'], loc='upper right')\n",
    "plt.show()\n",
    "\n",
    "plt.plot(history.history['mae'])\n",
    "plt.plot(history.history['val_mae'])\n",
    "plt.title('Mean Absolute Error of SIE Prediction')\n",
    "plt.ylabel('MAE')\n",
    "plt.xlabel('Epoch')\n",
    "plt.legend(['train', 'validation'], loc='upper right')\n",
    "plt.show()\n",
    "\n",
    "plt.plot(history.history['loss'])\n",
    "plt.plot(history.history['val_loss'])\n",
    "plt.title('Loss of SIE Prediction')\n",
    "plt.ylabel('Loss')\n",
    "plt.xlabel('Epoch')\n",
    "plt.legend(['train', 'validation'], loc='upper right')\n",
    "plt.show()"
   ]
  },
  {
   "cell_type": "code",
   "execution_count": 12,
   "id": "733c794b",
   "metadata": {
    "colab": {
     "base_uri": "https://localhost:8080/"
    },
    "executionInfo": {
     "elapsed": 1629,
     "status": "ok",
     "timestamp": 1670201520636,
     "user": {
      "displayName": "Emam Hossain",
      "userId": "00475912484380842878"
     },
     "user_tz": 300
    },
    "id": "733c794b",
    "outputId": "f17c8cb9-f48e-4304-dc4d-8231bfee37f4"
   },
   "outputs": [
    {
     "name": "stdout",
     "output_type": "stream",
     "text": [
      "45/45 [==============================] - 1s 4ms/step\n"
     ]
    }
   ],
   "source": [
    "from sklearn.metrics import mean_squared_error, mean_absolute_error, mean_absolute_percentage_error, r2_score\n",
    "from numpy import sqrt\n",
    "\n",
    "#model.load_weights(\"weights.best.hdf5\")\n",
    "\n",
    "cols = len(df.columns)\n",
    "pred = model.predict(X_test)\n",
    "\n",
    "predicted_dataset = dataset\n",
    "predicted_dataset[len(predicted_dataset)-len(pred):, cols-1] = pred[:, 0]\n",
    "scaled_predicted_dataset = scaler.inverse_transform(predicted_dataset)\n",
    "\n",
    "predicted_df = df.copy()\n",
    "predicted_df['sea_ice_extent'][len(predicted_dataset)-len(pred):] = scaled_predicted_dataset[len(predicted_dataset)-len(pred):, cols-1]\n",
    "\n",
    "predictions = pd.DataFrame()\n",
    "predictions['predicted'] = (predicted_df['sea_ice_extent'][len(predicted_dataset)-len(pred):])\n",
    "predictions['actual'] = (df['sea_ice_extent'][len(predicted_dataset)-len(pred):])\n",
    "predictions = predictions.astype(float)"
   ]
  },
  {
   "cell_type": "code",
   "execution_count": 13,
   "id": "3c545246",
   "metadata": {
    "colab": {
     "base_uri": "https://localhost:8080/",
     "height": 1000
    },
    "executionInfo": {
     "elapsed": 1115,
     "status": "ok",
     "timestamp": 1670201521748,
     "user": {
      "displayName": "Emam Hossain",
      "userId": "00475912484380842878"
     },
     "user_tz": 300
    },
    "id": "3c545246",
    "outputId": "d69c4658-cde5-4726-e652-63f4d87c9dc7"
   },
   "outputs": [
    {
     "data": {
      "image/png": "[encoded data removed]",
      "text/plain": [
       "<Figure size 1152x432 with 1 Axes>"
      ]
     },
     "metadata": {
      "needs_background": "light"
     },
     "output_type": "display_data"
    },
    {
     "data": {
      "image/png": "[encoded data removed]",
      "text/plain": [
       "<Figure size 720x720 with 1 Axes>"
      ]
     },
     "metadata": {
      "needs_background": "light"
     },
     "output_type": "display_data"
    },
    {
     "name": "stdout",
     "output_type": "stream",
     "text": [
      "MSE :  773050574491.5127 (10⁶ km²)\n",
      "MSPE : 1.8791873761342652 %\n",
      "RMSE :  879232.9466594803 (10⁶ km²)\n",
      "RMSPE : 13.708345546178302 %\n",
      "MAE :  687238.6140963015 (10⁶ km²)\n",
      "MAPE :  7.659406149506866 %\n",
      "R2 :  0.9286530945126767\n"
     ]
    }
   ],
   "source": [
    "plt.figure(figsize = (16,6))\n",
    "ax = plt.axes()\n",
    "# ax.set_facecolor('#dcdcdc')\n",
    "\n",
    "plt.title('Arctic Sea Ice Extent Actual vs Prediction Curve for Test Data', fontsize = 20,fontweight = \"bold\")\n",
    "plt.xlabel('Time' , fontsize = 14,fontweight = \"bold\")\n",
    "plt.ylabel('Sea Ice Extent (10\\u2076 km\\u00b2)', fontsize = 14,fontweight = \"bold\")\n",
    "plt.plot(predictions['actual']/10**6, 'blue', label='Actual SIE')\n",
    "plt.plot(predictions['predicted']/10**6, 'red', label='Predicted SIE')\n",
    "plt.legend()\n",
    "plt.grid()\n",
    "plt.show\n",
    "\n",
    "predictions['diff'] = predictions['predicted'] - predictions['actual']\n",
    "plt.figure(figsize=(10,10))\n",
    "plt.xlabel('Difference between actual and predicted SIE (10\\u2076 km\\u00b2)')\n",
    "sns.histplot(predictions['diff'])\n",
    "plt.title('Distribution of differences between actual and predicted SIE')\n",
    "plt.show()\n",
    "\n",
    "mspe = (np.mean(np.square((predictions['actual'].values - predictions['predicted'].values) / predictions['actual'].values))) * 100\n",
    "rmspe = (np.sqrt(np.mean(np.square((predictions['actual'].values - predictions['predicted'].values) / predictions['actual'].values)))) * 100\n",
    "\n",
    "print(\"MSE : \", mean_squared_error(predictions['predicted'].values, predictions['actual'].values), \"(10\\u2076 km\\u00b2)\")\n",
    "print(\"MSPE :\", mspe, \"%\")\n",
    "print(\"RMSE : \", sqrt(mean_squared_error(predictions['predicted'].values, predictions['actual'].values)), \"(10\\u2076 km\\u00b2)\")\n",
    "print(\"RMSPE :\", rmspe, \"%\")\n",
    "print(\"MAE : \", mean_absolute_error(predictions['predicted'].values, predictions['actual'].values), \"(10\\u2076 km\\u00b2)\")\n",
    "print(\"MAPE : \", mean_absolute_percentage_error(predictions['predicted'].values, predictions['actual'].values)*100, \"%\")\n",
    "print(\"R2 : \", r2_score(predictions['predicted'].values, predictions['actual'].values))"
   ]
  },
  {
   "cell_type": "code",
   "execution_count": 15,
   "id": "3f3aaf6d",
   "metadata": {
    "executionInfo": {
     "elapsed": 1,
     "status": "ok",
     "timestamp": 1670201525036,
     "user": {
      "displayName": "Emam Hossain",
      "userId": "00475912484380842878"
     },
     "user_tz": 300
    },
    "id": "3f3aaf6d"
   },
   "outputs": [],
   "source": [
    "# while True:pass"
   ]
  }
 ],
 "metadata": {
  "accelerator": "GPU",
  "colab": {
   "provenance": [
    {
     "file_id": "1S71KBLYU9q_J7PpD1i3PdHnejHsyHk2A",
     "timestamp": 1670201029903
    },
    {
     "file_id": "1ZW2CDeL2Z4e4d7GVtf1CCEU8ioKr_ozr",
     "timestamp": 1670200993047
    },
    {
     "file_id": "11ezPDxEfETgGwyGSoqr5wscr_t65bvL6",
     "timestamp": 1669223899169
    },
    {
     "file_id": "https://github.com/ehfahad/SIE-Prediction-using-Causal-Deep-Learning/blob/main/Models/SIE%20Prediction%20(1-day%20lead)%20upto%202014%20with%20day%2C%20week%2C%20month.ipynb",
     "timestamp": 1666883273850
    }
   ]
  },
  "gpuClass": "standard",
  "kernelspec": {
   "display_name": "Python 3 (ipykernel)",
   "language": "python",
   "name": "python3"
  },
  "language_info": {
   "codemirror_mode": {
    "name": "ipython",
    "version": 3
   },
   "file_extension": ".py",
   "mimetype": "text/x-python",
   "name": "python",
   "nbconvert_exporter": "python",
   "pygments_lexer": "ipython3",
   "version": "3.8.15"
  },
  "varInspector": {
   "cols": {
    "lenName": 16,
    "lenType": 16,
    "lenVar": 40
   },
   "kernels_config": {
    "python": {
     "delete_cmd_postfix": "",
     "delete_cmd_prefix": "del ",
     "library": "var_list.py",
     "varRefreshCmd": "print(var_dic_list())"
    },
    "r": {
     "delete_cmd_postfix": ") ",
     "delete_cmd_prefix": "rm(",
     "library": "var_list.r",
     "varRefreshCmd": "cat(var_dic_list()) "
    }
   },
   "position": {
    "height": "417.844px",
    "left": "1538px",
    "right": "20px",
    "top": "131px",
    "width": "350px"
   },
   "types_to_exclude": [
    "module",
    "function",
    "builtin_function_or_method",
    "instance",
    "_Feature"
   ],
   "window_display": true
  }
 },
 "nbformat": 4,
 "nbformat_minor": 5
}
