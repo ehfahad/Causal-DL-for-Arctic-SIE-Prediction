{
 "cells": [
  {
   "cell_type": "code",
   "execution_count": 1,
   "id": "1507a9c1",
   "metadata": {
    "executionInfo": {
     "elapsed": 219,
     "status": "ok",
     "timestamp": 1670204018630,
     "user": {
      "displayName": "Emam Hossain",
      "userId": "00475912484380842878"
     },
     "user_tz": 300
    },
    "id": "1507a9c1"
   },
   "outputs": [],
   "source": [
    "import numpy as np\n",
    "import pandas as pd\n",
    "import matplotlib.pyplot as plt\n",
    "import seaborn as sns\n",
    "from sklearn.preprocessing import MinMaxScaler"
   ]
  },
  {
   "cell_type": "code",
   "execution_count": 2,
   "id": "ZkC-CdqrYGLW",
   "metadata": {
    "executionInfo": {
     "elapsed": 4,
     "status": "ok",
     "timestamp": 1670204018881,
     "user": {
      "displayName": "Emam Hossain",
      "userId": "00475912484380842878"
     },
     "user_tz": 300
    },
    "id": "ZkC-CdqrYGLW"
   },
   "outputs": [],
   "source": [
    "# global variables\n",
    "\n",
    "look_back = 21\n",
    "lead_time = 150\n",
    "filename = '../../../data/Arctic_domain_mean_1979_2018 - Curated.csv'\n",
    "pcmciplus_features = ['LW_down', 'snowfall', 'sst', 'sosaline', 'surface_pressure', 'sea_ice_extent']"
   ]
  },
  {
   "cell_type": "code",
   "execution_count": 3,
   "id": "zlPFdfw7F9-_",
   "metadata": {
    "colab": {
     "base_uri": "https://localhost:8080/",
     "height": 74
    },
    "executionInfo": {
     "elapsed": 24487,
     "status": "ok",
     "timestamp": 1670204043365,
     "user": {
      "displayName": "Emam Hossain",
      "userId": "00475912484380842878"
     },
     "user_tz": 300
    },
    "id": "zlPFdfw7F9-_",
    "outputId": "fa78cc2a-57d3-42ad-ef71-f7b2de315eff"
   },
   "outputs": [
    {
     "data": {
      "text/html": [
       "<div>\n",
       "<style scoped>\n",
       "    .dataframe tbody tr th:only-of-type {\n",
       "        vertical-align: middle;\n",
       "    }\n",
       "\n",
       "    .dataframe tbody tr th {\n",
       "        vertical-align: top;\n",
       "    }\n",
       "\n",
       "    .dataframe thead th {\n",
       "        text-align: right;\n",
       "    }\n",
       "</style>\n",
       "<table border=\"1\" class=\"dataframe\">\n",
       "  <thead>\n",
       "    <tr style=\"text-align: right;\">\n",
       "      <th></th>\n",
       "      <th>Day</th>\n",
       "      <th>wind_10m</th>\n",
       "      <th>specific_humidity</th>\n",
       "      <th>LW_down</th>\n",
       "      <th>SW_down</th>\n",
       "      <th>rainfall</th>\n",
       "      <th>snowfall</th>\n",
       "      <th>sosaline</th>\n",
       "      <th>sst</th>\n",
       "      <th>t2m</th>\n",
       "      <th>surface_pressure</th>\n",
       "      <th>sea_ice_extent</th>\n",
       "    </tr>\n",
       "  </thead>\n",
       "  <tbody>\n",
       "    <tr>\n",
       "      <th>7305</th>\n",
       "      <td>1/1/1999</td>\n",
       "      <td>4.987515</td>\n",
       "      <td>0.891843</td>\n",
       "      <td>183.786092</td>\n",
       "      <td>1.120906</td>\n",
       "      <td>0.700735</td>\n",
       "      <td>0.501109</td>\n",
       "      <td>33.316996</td>\n",
       "      <td>273.467869</td>\n",
       "      <td>250.884060</td>\n",
       "      <td>985.112721</td>\n",
       "      <td>13823248</td>\n",
       "    </tr>\n",
       "    <tr>\n",
       "      <th>7306</th>\n",
       "      <td>1/2/1999</td>\n",
       "      <td>5.075952</td>\n",
       "      <td>0.905535</td>\n",
       "      <td>183.851814</td>\n",
       "      <td>1.193514</td>\n",
       "      <td>0.712730</td>\n",
       "      <td>0.482221</td>\n",
       "      <td>33.316996</td>\n",
       "      <td>273.453826</td>\n",
       "      <td>250.359328</td>\n",
       "      <td>984.092282</td>\n",
       "      <td>13885522</td>\n",
       "    </tr>\n",
       "    <tr>\n",
       "      <th>7307</th>\n",
       "      <td>1/3/1999</td>\n",
       "      <td>4.931520</td>\n",
       "      <td>0.911672</td>\n",
       "      <td>184.426913</td>\n",
       "      <td>1.263909</td>\n",
       "      <td>0.677339</td>\n",
       "      <td>0.480718</td>\n",
       "      <td>33.316996</td>\n",
       "      <td>273.454385</td>\n",
       "      <td>250.327500</td>\n",
       "      <td>982.300080</td>\n",
       "      <td>13884279</td>\n",
       "    </tr>\n",
       "    <tr>\n",
       "      <th>7308</th>\n",
       "      <td>1/4/1999</td>\n",
       "      <td>4.761644</td>\n",
       "      <td>0.911301</td>\n",
       "      <td>187.528326</td>\n",
       "      <td>1.269229</td>\n",
       "      <td>0.824016</td>\n",
       "      <td>0.697950</td>\n",
       "      <td>33.316996</td>\n",
       "      <td>273.459797</td>\n",
       "      <td>249.905730</td>\n",
       "      <td>983.250565</td>\n",
       "      <td>13912624</td>\n",
       "    </tr>\n",
       "    <tr>\n",
       "      <th>7309</th>\n",
       "      <td>1/5/1999</td>\n",
       "      <td>4.739850</td>\n",
       "      <td>0.901353</td>\n",
       "      <td>187.326709</td>\n",
       "      <td>1.552208</td>\n",
       "      <td>0.926681</td>\n",
       "      <td>0.835868</td>\n",
       "      <td>33.316996</td>\n",
       "      <td>273.463975</td>\n",
       "      <td>250.254873</td>\n",
       "      <td>984.247389</td>\n",
       "      <td>13890148</td>\n",
       "    </tr>\n",
       "  </tbody>\n",
       "</table>\n",
       "</div>"
      ],
      "text/plain": [
       "           Day  wind_10m  specific_humidity     LW_down   SW_down  rainfall  \\\n",
       "7305  1/1/1999  4.987515           0.891843  183.786092  1.120906  0.700735   \n",
       "7306  1/2/1999  5.075952           0.905535  183.851814  1.193514  0.712730   \n",
       "7307  1/3/1999  4.931520           0.911672  184.426913  1.263909  0.677339   \n",
       "7308  1/4/1999  4.761644           0.911301  187.528326  1.269229  0.824016   \n",
       "7309  1/5/1999  4.739850           0.901353  187.326709  1.552208  0.926681   \n",
       "\n",
       "      snowfall   sosaline         sst         t2m  surface_pressure  \\\n",
       "7305  0.501109  33.316996  273.467869  250.884060        985.112721   \n",
       "7306  0.482221  33.316996  273.453826  250.359328        984.092282   \n",
       "7307  0.480718  33.316996  273.454385  250.327500        982.300080   \n",
       "7308  0.697950  33.316996  273.459797  249.905730        983.250565   \n",
       "7309  0.835868  33.316996  273.463975  250.254873        984.247389   \n",
       "\n",
       "      sea_ice_extent  \n",
       "7305        13823248  \n",
       "7306        13885522  \n",
       "7307        13884279  \n",
       "7308        13912624  \n",
       "7309        13890148  "
      ]
     },
     "execution_count": 3,
     "metadata": {},
     "output_type": "execute_result"
    }
   ],
   "source": [
    "# from google.colab import files\n",
    "# import io\n",
    "\n",
    "# uploaded = files.upload()\n",
    "# df = pd.read_csv(io.BytesIO(uploaded[filename]))\n",
    "# df = df[7305:]\n",
    "# df\n",
    "\n",
    "# Reading the dataset\n",
    "df = pd.read_csv(filename)\n",
    "df = df[7305:]\n",
    "df.head()"
   ]
  },
  {
   "cell_type": "code",
   "execution_count": 18,
   "id": "683fdbc4",
   "metadata": {
    "colab": {
     "base_uri": "https://localhost:8080/",
     "height": 455
    },
    "executionInfo": {
     "elapsed": 9,
     "status": "ok",
     "timestamp": 1670204043365,
     "user": {
      "displayName": "Emam Hossain",
      "userId": "00475912484380842878"
     },
     "user_tz": 300
    },
    "id": "683fdbc4",
    "outputId": "9a00da7a-9e74-4950-ff8b-b7840ddb4919"
   },
   "outputs": [
    {
     "data": {
      "text/html": [
       "\n",
       "  <div id=\"df-21350386-0398-472b-b173-bf4b5a4762eb\">\n",
       "    <div class=\"colab-df-container\">\n",
       "      <div>\n",
       "<style scoped>\n",
       "    .dataframe tbody tr th:only-of-type {\n",
       "        vertical-align: middle;\n",
       "    }\n",
       "\n",
       "    .dataframe tbody tr th {\n",
       "        vertical-align: top;\n",
       "    }\n",
       "\n",
       "    .dataframe thead th {\n",
       "        text-align: right;\n",
       "    }\n",
       "</style>\n",
       "<table border=\"1\" class=\"dataframe\">\n",
       "  <thead>\n",
       "    <tr style=\"text-align: right;\">\n",
       "      <th></th>\n",
       "      <th>LW_down</th>\n",
       "      <th>snowfall</th>\n",
       "      <th>sst</th>\n",
       "      <th>sosaline</th>\n",
       "      <th>surface_pressure</th>\n",
       "      <th>sea_ice_extent</th>\n",
       "    </tr>\n",
       "    <tr>\n",
       "      <th>Day</th>\n",
       "      <th></th>\n",
       "      <th></th>\n",
       "      <th></th>\n",
       "      <th></th>\n",
       "      <th></th>\n",
       "      <th></th>\n",
       "    </tr>\n",
       "  </thead>\n",
       "  <tbody>\n",
       "    <tr>\n",
       "      <th>1999-01-01</th>\n",
       "      <td>183.786092</td>\n",
       "      <td>0.501109</td>\n",
       "      <td>273.467869</td>\n",
       "      <td>33.316996</td>\n",
       "      <td>985.112721</td>\n",
       "      <td>13823248.0</td>\n",
       "    </tr>\n",
       "    <tr>\n",
       "      <th>1999-01-02</th>\n",
       "      <td>183.851814</td>\n",
       "      <td>0.482221</td>\n",
       "      <td>273.453826</td>\n",
       "      <td>33.316996</td>\n",
       "      <td>984.092282</td>\n",
       "      <td>13885522.0</td>\n",
       "    </tr>\n",
       "    <tr>\n",
       "      <th>1999-01-03</th>\n",
       "      <td>184.426913</td>\n",
       "      <td>0.480718</td>\n",
       "      <td>273.454385</td>\n",
       "      <td>33.316996</td>\n",
       "      <td>982.300080</td>\n",
       "      <td>13884279.0</td>\n",
       "    </tr>\n",
       "    <tr>\n",
       "      <th>1999-01-04</th>\n",
       "      <td>187.528326</td>\n",
       "      <td>0.697950</td>\n",
       "      <td>273.459797</td>\n",
       "      <td>33.316996</td>\n",
       "      <td>983.250565</td>\n",
       "      <td>13912624.0</td>\n",
       "    </tr>\n",
       "    <tr>\n",
       "      <th>1999-01-05</th>\n",
       "      <td>187.326709</td>\n",
       "      <td>0.835868</td>\n",
       "      <td>273.463975</td>\n",
       "      <td>33.316996</td>\n",
       "      <td>984.247389</td>\n",
       "      <td>13890148.0</td>\n",
       "    </tr>\n",
       "    <tr>\n",
       "      <th>...</th>\n",
       "      <td>...</td>\n",
       "      <td>...</td>\n",
       "      <td>...</td>\n",
       "      <td>...</td>\n",
       "      <td>...</td>\n",
       "      <td>...</td>\n",
       "    </tr>\n",
       "    <tr>\n",
       "      <th>2018-12-27</th>\n",
       "      <td>195.631612</td>\n",
       "      <td>0.807935</td>\n",
       "      <td>273.993458</td>\n",
       "      <td>33.437008</td>\n",
       "      <td>983.214961</td>\n",
       "      <td>12324834.0</td>\n",
       "    </tr>\n",
       "    <tr>\n",
       "      <th>2018-12-28</th>\n",
       "      <td>195.926366</td>\n",
       "      <td>0.906977</td>\n",
       "      <td>274.009713</td>\n",
       "      <td>33.437008</td>\n",
       "      <td>983.126983</td>\n",
       "      <td>12343956.0</td>\n",
       "    </tr>\n",
       "    <tr>\n",
       "      <th>2018-12-29</th>\n",
       "      <td>197.973447</td>\n",
       "      <td>1.065541</td>\n",
       "      <td>273.986577</td>\n",
       "      <td>33.437008</td>\n",
       "      <td>981.042709</td>\n",
       "      <td>12523124.0</td>\n",
       "    </tr>\n",
       "    <tr>\n",
       "      <th>2018-12-30</th>\n",
       "      <td>198.412025</td>\n",
       "      <td>1.145141</td>\n",
       "      <td>273.976200</td>\n",
       "      <td>33.437008</td>\n",
       "      <td>978.119315</td>\n",
       "      <td>12569464.0</td>\n",
       "    </tr>\n",
       "    <tr>\n",
       "      <th>2018-12-31</th>\n",
       "      <td>201.779379</td>\n",
       "      <td>1.362761</td>\n",
       "      <td>273.969103</td>\n",
       "      <td>33.437008</td>\n",
       "      <td>975.886335</td>\n",
       "      <td>12621146.0</td>\n",
       "    </tr>\n",
       "  </tbody>\n",
       "</table>\n",
       "<p>7305 rows × 6 columns</p>\n",
       "</div>\n",
       "      <button class=\"colab-df-convert\" onclick=\"convertToInteractive('df-21350386-0398-472b-b173-bf4b5a4762eb')\"\n",
       "              title=\"Convert this dataframe to an interactive table.\"\n",
       "              style=\"display:none;\">\n",
       "        \n",
       "  <svg xmlns=\"http://www.w3.org/2000/svg\" height=\"24px\"viewBox=\"0 0 24 24\"\n",
       "       width=\"24px\">\n",
       "    <path d=\"M0 0h24v24H0V0z\" fill=\"none\"/>\n",
       "    <path d=\"M18.56 5.44l.94 2.06.94-2.06 2.06-.94-2.06-.94-.94-2.06-.94 2.06-2.06.94zm-11 1L8.5 8.5l.94-2.06 2.06-.94-2.06-.94L8.5 2.5l-.94 2.06-2.06.94zm10 10l.94 2.06.94-2.06 2.06-.94-2.06-.94-.94-2.06-.94 2.06-2.06.94z\"/><path d=\"M17.41 7.96l-1.37-1.37c-.4-.4-.92-.59-1.43-.59-.52 0-1.04.2-1.43.59L10.3 9.45l-7.72 7.72c-.78.78-.78 2.05 0 2.83L4 21.41c.39.39.9.59 1.41.59.51 0 1.02-.2 1.41-.59l7.78-7.78 2.81-2.81c.8-.78.8-2.07 0-2.86zM5.41 20L4 18.59l7.72-7.72 1.47 1.35L5.41 20z\"/>\n",
       "  </svg>\n",
       "      </button>\n",
       "      \n",
       "  <style>\n",
       "    .colab-df-container {\n",
       "      display:flex;\n",
       "      flex-wrap:wrap;\n",
       "      gap: 12px;\n",
       "    }\n",
       "\n",
       "    .colab-df-convert {\n",
       "      background-color: #E8F0FE;\n",
       "      border: none;\n",
       "      border-radius: 50%;\n",
       "      cursor: pointer;\n",
       "      display: none;\n",
       "      fill: #1967D2;\n",
       "      height: 32px;\n",
       "      padding: 0 0 0 0;\n",
       "      width: 32px;\n",
       "    }\n",
       "\n",
       "    .colab-df-convert:hover {\n",
       "      background-color: #E2EBFA;\n",
       "      box-shadow: 0px 1px 2px rgba(60, 64, 67, 0.3), 0px 1px 3px 1px rgba(60, 64, 67, 0.15);\n",
       "      fill: #174EA6;\n",
       "    }\n",
       "\n",
       "    [theme=dark] .colab-df-convert {\n",
       "      background-color: #3B4455;\n",
       "      fill: #D2E3FC;\n",
       "    }\n",
       "\n",
       "    [theme=dark] .colab-df-convert:hover {\n",
       "      background-color: #434B5C;\n",
       "      box-shadow: 0px 1px 3px 1px rgba(0, 0, 0, 0.15);\n",
       "      filter: drop-shadow(0px 1px 2px rgba(0, 0, 0, 0.3));\n",
       "      fill: #FFFFFF;\n",
       "    }\n",
       "  </style>\n",
       "\n",
       "      <script>\n",
       "        const buttonEl =\n",
       "          document.querySelector('#df-21350386-0398-472b-b173-bf4b5a4762eb button.colab-df-convert');\n",
       "        buttonEl.style.display =\n",
       "          google.colab.kernel.accessAllowed ? 'block' : 'none';\n",
       "\n",
       "        async function convertToInteractive(key) {\n",
       "          const element = document.querySelector('#df-21350386-0398-472b-b173-bf4b5a4762eb');\n",
       "          const dataTable =\n",
       "            await google.colab.kernel.invokeFunction('convertToInteractive',\n",
       "                                                     [key], {});\n",
       "          if (!dataTable) return;\n",
       "\n",
       "          const docLinkHtml = 'Like what you see? Visit the ' +\n",
       "            '<a target=\"_blank\" href=https://colab.research.google.com/notebooks/data_table.ipynb>data table notebook</a>'\n",
       "            + ' to learn more about interactive tables.';\n",
       "          element.innerHTML = '';\n",
       "          dataTable['output_type'] = 'display_data';\n",
       "          await google.colab.output.renderOutput(dataTable, element);\n",
       "          const docLink = document.createElement('div');\n",
       "          docLink.innerHTML = docLinkHtml;\n",
       "          element.appendChild(docLink);\n",
       "        }\n",
       "      </script>\n",
       "    </div>\n",
       "  </div>\n",
       "  "
      ],
      "text/plain": [
       "               LW_down  snowfall         sst   sosaline  surface_pressure  \\\n",
       "Day                                                                         \n",
       "1999-01-01  183.786092  0.501109  273.467869  33.316996        985.112721   \n",
       "1999-01-02  183.851814  0.482221  273.453826  33.316996        984.092282   \n",
       "1999-01-03  184.426913  0.480718  273.454385  33.316996        982.300080   \n",
       "1999-01-04  187.528326  0.697950  273.459797  33.316996        983.250565   \n",
       "1999-01-05  187.326709  0.835868  273.463975  33.316996        984.247389   \n",
       "...                ...       ...         ...        ...               ...   \n",
       "2018-12-27  195.631612  0.807935  273.993458  33.437008        983.214961   \n",
       "2018-12-28  195.926366  0.906977  274.009713  33.437008        983.126983   \n",
       "2018-12-29  197.973447  1.065541  273.986577  33.437008        981.042709   \n",
       "2018-12-30  198.412025  1.145141  273.976200  33.437008        978.119315   \n",
       "2018-12-31  201.779379  1.362761  273.969103  33.437008        975.886335   \n",
       "\n",
       "            sea_ice_extent  \n",
       "Day                         \n",
       "1999-01-01      13823248.0  \n",
       "1999-01-02      13885522.0  \n",
       "1999-01-03      13884279.0  \n",
       "1999-01-04      13912624.0  \n",
       "1999-01-05      13890148.0  \n",
       "...                    ...  \n",
       "2018-12-27      12324834.0  \n",
       "2018-12-28      12343956.0  \n",
       "2018-12-29      12523124.0  \n",
       "2018-12-30      12569464.0  \n",
       "2018-12-31      12621146.0  \n",
       "\n",
       "[7305 rows x 6 columns]"
      ]
     },
     "execution_count": 18,
     "metadata": {},
     "output_type": "execute_result"
    }
   ],
   "source": [
    "df['Day'] = pd.to_datetime(df['Day'], infer_datetime_format=True)\n",
    "df.set_index('Day', inplace=True)\n",
    "df = df.astype(float)                 # cast df to float\n",
    "df = df[pcmciplus_features]\n",
    "df.tail(len(df))"
   ]
  },
  {
   "cell_type": "code",
   "execution_count": 19,
   "id": "e5014c30",
   "metadata": {
    "executionInfo": {
     "elapsed": 9,
     "status": "ok",
     "timestamp": 1670204043366,
     "user": {
      "displayName": "Emam Hossain",
      "userId": "00475912484380842878"
     },
     "user_tz": 300
    },
    "id": "e5014c30"
   },
   "outputs": [],
   "source": [
    "def create_model_data (dataset, look_back, lead_time):\n",
    "    dataX, dataY = [], []\n",
    "    \n",
    "    for i in range(len(dataset)-look_back-lead_time):\n",
    "        a = dataset[i:(i+look_back)]\n",
    "        dataX.append(a)\n",
    "        dataY.append(dataset[i + look_back + (lead_time-1)])\n",
    "    return np.array(dataX), np.array(dataY)"
   ]
  },
  {
   "cell_type": "code",
   "execution_count": 20,
   "id": "c1aaa5e4",
   "metadata": {
    "executionInfo": {
     "elapsed": 8,
     "status": "ok",
     "timestamp": 1670204043366,
     "user": {
      "displayName": "Emam Hossain",
      "userId": "00475912484380842878"
     },
     "user_tz": 300
    },
    "id": "c1aaa5e4",
    "scrolled": true
   },
   "outputs": [],
   "source": [
    "target_index = df.columns.tolist().index('sea_ice_extent')\n",
    "\n",
    "dataset = df.values.astype('float32')               # DataFrame converted to Numpy Array\n",
    "\n",
    "scaler = MinMaxScaler(feature_range=(0, 1))\n",
    "dataset = scaler.fit_transform(dataset)\n",
    "\n",
    "X, y = create_model_data (dataset, look_back=look_back, lead_time=lead_time)\n",
    "y = y[:,target_index]"
   ]
  },
  {
   "cell_type": "code",
   "execution_count": 21,
   "id": "KGbRA39Br3S9",
   "metadata": {
    "executionInfo": {
     "elapsed": 8,
     "status": "ok",
     "timestamp": 1670204043366,
     "user": {
      "displayName": "Emam Hossain",
      "userId": "00475912484380842878"
     },
     "user_tz": 300
    },
    "id": "KGbRA39Br3S9"
   },
   "outputs": [],
   "source": [
    "from sklearn.model_selection import train_test_split\n",
    "\n",
    "X_train, X_test, y_train, y_test = train_test_split(X, y, test_size=0.2, shuffle=False)"
   ]
  },
  {
   "cell_type": "code",
   "execution_count": 22,
   "id": "9405d356",
   "metadata": {
    "colab": {
     "base_uri": "https://localhost:8080/",
     "height": 382
    },
    "executionInfo": {
     "elapsed": 413,
     "status": "ok",
     "timestamp": 1670204043771,
     "user": {
      "displayName": "Emam Hossain",
      "userId": "00475912484380842878"
     },
     "user_tz": 300
    },
    "id": "9405d356",
    "outputId": "3ffdd72e-d674-4708-d760-3aa5bd853dad"
   },
   "outputs": [
    {
     "data": {
      "text/plain": [
       "<function matplotlib.pyplot.show(*args, **kw)>"
      ]
     },
     "execution_count": 22,
     "metadata": {},
     "output_type": "execute_result"
    },
    {
     "data": {
      "image/png": "[encoded data removed]",
      "text/plain": [
       "<Figure size 1152x432 with 1 Axes>"
      ]
     },
     "metadata": {
      "needs_background": "light"
     },
     "output_type": "display_data"
    }
   ],
   "source": [
    "plt.figure(figsize = (16,6))\n",
    "ax = plt.axes()\n",
    "# ax.set_facecolor('#dcdcdc')\n",
    "\n",
    "plt.title('Arctic Sea Ice Extent Trend from 1979-2018', fontsize = 20,fontweight = \"bold\")\n",
    "plt.xlabel('Time' , fontsize = 14,fontweight = \"bold\")\n",
    "plt.ylabel('Sea Ice Extent (10\\u2076 km\\u00b2)', fontsize = 14,fontweight = \"bold\")\n",
    "plt.plot(df['sea_ice_extent'][:len(df)-len(y_test)]/10**6, 'blue', label='Training Data')\n",
    "plt.plot(df['sea_ice_extent'][len(df)-len(y_test):]/10**6, 'red', label='Testing Data')\n",
    "plt.legend()\n",
    "plt.grid()\n",
    "plt.show"
   ]
  },
  {
   "cell_type": "code",
   "execution_count": 23,
   "id": "86f5e0f3",
   "metadata": {
    "colab": {
     "base_uri": "https://localhost:8080/"
    },
    "executionInfo": {
     "elapsed": 470,
     "status": "ok",
     "timestamp": 1670204044238,
     "user": {
      "displayName": "Emam Hossain",
      "userId": "00475912484380842878"
     },
     "user_tz": 300
    },
    "id": "86f5e0f3",
    "outputId": "681301fe-398e-43fb-8dc3-506fc9f0a7b8"
   },
   "outputs": [
    {
     "name": "stdout",
     "output_type": "stream",
     "text": [
      "Model: \"sequential_1\"\n",
      "_________________________________________________________________\n",
      " Layer (type)                Output Shape              Param #   \n",
      "=================================================================\n",
      " gru_1 (GRU)                 (None, 21, 64)            13824     \n",
      "                                                                 \n",
      " dropout_2 (Dropout)         (None, 21, 64)            0         \n",
      "                                                                 \n",
      " lstm_1 (LSTM)               (None, 128)               98816     \n",
      "                                                                 \n",
      " dropout_3 (Dropout)         (None, 128)               0         \n",
      "                                                                 \n",
      " dense_2 (Dense)             (None, 64)                8256      \n",
      "                                                                 \n",
      " dense_3 (Dense)             (None, 1)                 65        \n",
      "                                                                 \n",
      "=================================================================\n",
      "Total params: 120,961\n",
      "Trainable params: 120,961\n",
      "Non-trainable params: 0\n",
      "_________________________________________________________________\n",
      "None\n"
     ]
    }
   ],
   "source": [
    "from keras.models import Sequential\n",
    "from keras.layers import Dense, Dropout, Activation, Input, LSTM, GRU, Dense\n",
    "\n",
    "input_shape=(X.shape[1], X.shape[2])\n",
    "\n",
    "model = Sequential()\n",
    "model.add(GRU(64, input_shape=(X.shape[1], X.shape[2]), return_sequences=True))\n",
    "model.add(Dropout(0.2))\n",
    "\n",
    "model.add(LSTM(128))\n",
    "model.add(Dropout(0.2))\n",
    "\n",
    "model.add(Dense(64 ,  activation = 'relu'))\n",
    "model.add(Dense(1))\n",
    "\n",
    "model.compile(loss='mean_squared_error', optimizer='adam', metrics=['mae', 'mse'])\n",
    "print(model.summary())"
   ]
  },
  {
   "cell_type": "code",
   "execution_count": 24,
   "id": "8a6be2cb",
   "metadata": {
    "colab": {
     "base_uri": "https://localhost:8080/"
    },
    "executionInfo": {
     "elapsed": 84814,
     "status": "ok",
     "timestamp": 1670204129048,
     "user": {
      "displayName": "Emam Hossain",
      "userId": "00475912484380842878"
     },
     "user_tz": 300
    },
    "id": "8a6be2cb",
    "outputId": "92fcc0e4-5d65-4000-9706-7a8d5a17e740",
    "scrolled": true
   },
   "outputs": [
    {
     "name": "stdout",
     "output_type": "stream",
     "text": [
      "Epoch 1/100\n",
      "75/81 [==========================>...] - ETA: 0s - loss: 0.0319 - mae: 0.1296 - mse: 0.0319"
     ]
    },
    {
     "name": "stderr",
     "output_type": "stream",
     "text": [
      "WARNING:tensorflow:Can save best model only with val_mean_squared_error available, skipping.\n"
     ]
    },
    {
     "name": "stdout",
     "output_type": "stream",
     "text": [
      "81/81 [==============================] - 4s 16ms/step - loss: 0.0305 - mae: 0.1265 - mse: 0.0305 - val_loss: 0.0045 - val_mae: 0.0548 - val_mse: 0.0045\n",
      "Epoch 2/100\n",
      "79/81 [============================>.] - ETA: 0s - loss: 0.0087 - mae: 0.0739 - mse: 0.0087"
     ]
    },
    {
     "name": "stderr",
     "output_type": "stream",
     "text": [
      "WARNING:tensorflow:Can save best model only with val_mean_squared_error available, skipping.\n"
     ]
    },
    {
     "name": "stdout",
     "output_type": "stream",
     "text": [
      "81/81 [==============================] - 1s 8ms/step - loss: 0.0087 - mae: 0.0738 - mse: 0.0087 - val_loss: 0.0042 - val_mae: 0.0548 - val_mse: 0.0042\n",
      "Epoch 3/100\n",
      "80/81 [============================>.] - ETA: 0s - loss: 0.0063 - mae: 0.0627 - mse: 0.0063"
     ]
    },
    {
     "name": "stderr",
     "output_type": "stream",
     "text": [
      "WARNING:tensorflow:Can save best model only with val_mean_squared_error available, skipping.\n"
     ]
    },
    {
     "name": "stdout",
     "output_type": "stream",
     "text": [
      "81/81 [==============================] - 1s 8ms/step - loss: 0.0063 - mae: 0.0627 - mse: 0.0063 - val_loss: 0.0053 - val_mae: 0.0631 - val_mse: 0.0053\n",
      "Epoch 4/100\n",
      "77/81 [===========================>..] - ETA: 0s - loss: 0.0060 - mae: 0.0614 - mse: 0.0060"
     ]
    },
    {
     "name": "stderr",
     "output_type": "stream",
     "text": [
      "WARNING:tensorflow:Can save best model only with val_mean_squared_error available, skipping.\n"
     ]
    },
    {
     "name": "stdout",
     "output_type": "stream",
     "text": [
      "81/81 [==============================] - 1s 8ms/step - loss: 0.0060 - mae: 0.0614 - mse: 0.0060 - val_loss: 0.0041 - val_mae: 0.0461 - val_mse: 0.0041\n",
      "Epoch 5/100\n",
      "76/81 [===========================>..] - ETA: 0s - loss: 0.0053 - mae: 0.0573 - mse: 0.0053"
     ]
    },
    {
     "name": "stderr",
     "output_type": "stream",
     "text": [
      "WARNING:tensorflow:Can save best model only with val_mean_squared_error available, skipping.\n"
     ]
    },
    {
     "name": "stdout",
     "output_type": "stream",
     "text": [
      "81/81 [==============================] - 1s 8ms/step - loss: 0.0052 - mae: 0.0570 - mse: 0.0052 - val_loss: 0.0022 - val_mae: 0.0349 - val_mse: 0.0022\n",
      "Epoch 6/100\n",
      "79/81 [============================>.] - ETA: 0s - loss: 0.0046 - mae: 0.0533 - mse: 0.0046"
     ]
    },
    {
     "name": "stderr",
     "output_type": "stream",
     "text": [
      "WARNING:tensorflow:Can save best model only with val_mean_squared_error available, skipping.\n"
     ]
    },
    {
     "name": "stdout",
     "output_type": "stream",
     "text": [
      "81/81 [==============================] - 1s 8ms/step - loss: 0.0046 - mae: 0.0533 - mse: 0.0046 - val_loss: 0.0037 - val_mae: 0.0515 - val_mse: 0.0037\n",
      "Epoch 7/100\n",
      "77/81 [===========================>..] - ETA: 0s - loss: 0.0045 - mae: 0.0521 - mse: 0.0045"
     ]
    },
    {
     "name": "stderr",
     "output_type": "stream",
     "text": [
      "WARNING:tensorflow:Can save best model only with val_mean_squared_error available, skipping.\n"
     ]
    },
    {
     "name": "stdout",
     "output_type": "stream",
     "text": [
      "81/81 [==============================] - 1s 8ms/step - loss: 0.0045 - mae: 0.0520 - mse: 0.0045 - val_loss: 0.0044 - val_mae: 0.0455 - val_mse: 0.0044\n",
      "Epoch 8/100\n",
      "79/81 [============================>.] - ETA: 0s - loss: 0.0042 - mae: 0.0501 - mse: 0.0042"
     ]
    },
    {
     "name": "stderr",
     "output_type": "stream",
     "text": [
      "WARNING:tensorflow:Can save best model only with val_mean_squared_error available, skipping.\n"
     ]
    },
    {
     "name": "stdout",
     "output_type": "stream",
     "text": [
      "81/81 [==============================] - 1s 9ms/step - loss: 0.0042 - mae: 0.0501 - mse: 0.0042 - val_loss: 0.0029 - val_mae: 0.0381 - val_mse: 0.0029\n",
      "Epoch 9/100\n",
      "74/81 [==========================>...] - ETA: 0s - loss: 0.0041 - mae: 0.0495 - mse: 0.0041"
     ]
    },
    {
     "name": "stderr",
     "output_type": "stream",
     "text": [
      "WARNING:tensorflow:Can save best model only with val_mean_squared_error available, skipping.\n"
     ]
    },
    {
     "name": "stdout",
     "output_type": "stream",
     "text": [
      "81/81 [==============================] - 1s 8ms/step - loss: 0.0040 - mae: 0.0494 - mse: 0.0040 - val_loss: 0.0035 - val_mae: 0.0449 - val_mse: 0.0035\n",
      "Epoch 10/100\n",
      "74/81 [==========================>...] - ETA: 0s - loss: 0.0041 - mae: 0.0499 - mse: 0.0041"
     ]
    },
    {
     "name": "stderr",
     "output_type": "stream",
     "text": [
      "WARNING:tensorflow:Can save best model only with val_mean_squared_error available, skipping.\n"
     ]
    },
    {
     "name": "stdout",
     "output_type": "stream",
     "text": [
      "81/81 [==============================] - 1s 8ms/step - loss: 0.0042 - mae: 0.0501 - mse: 0.0042 - val_loss: 0.0021 - val_mae: 0.0371 - val_mse: 0.0021\n",
      "Epoch 11/100\n",
      "77/81 [===========================>..] - ETA: 0s - loss: 0.0037 - mae: 0.0474 - mse: 0.0037"
     ]
    },
    {
     "name": "stderr",
     "output_type": "stream",
     "text": [
      "WARNING:tensorflow:Can save best model only with val_mean_squared_error available, skipping.\n"
     ]
    },
    {
     "name": "stdout",
     "output_type": "stream",
     "text": [
      "81/81 [==============================] - 1s 8ms/step - loss: 0.0038 - mae: 0.0475 - mse: 0.0038 - val_loss: 0.0045 - val_mae: 0.0441 - val_mse: 0.0045\n",
      "Epoch 12/100\n",
      "81/81 [==============================] - ETA: 0s - loss: 0.0038 - mae: 0.0475 - mse: 0.0038"
     ]
    },
    {
     "name": "stderr",
     "output_type": "stream",
     "text": [
      "WARNING:tensorflow:Can save best model only with val_mean_squared_error available, skipping.\n"
     ]
    },
    {
     "name": "stdout",
     "output_type": "stream",
     "text": [
      "81/81 [==============================] - 1s 10ms/step - loss: 0.0038 - mae: 0.0475 - mse: 0.0038 - val_loss: 0.0028 - val_mae: 0.0409 - val_mse: 0.0028\n",
      "Epoch 13/100\n",
      "79/81 [============================>.] - ETA: 0s - loss: 0.0036 - mae: 0.0462 - mse: 0.0036"
     ]
    },
    {
     "name": "stderr",
     "output_type": "stream",
     "text": [
      "WARNING:tensorflow:Can save best model only with val_mean_squared_error available, skipping.\n"
     ]
    },
    {
     "name": "stdout",
     "output_type": "stream",
     "text": [
      "81/81 [==============================] - 1s 11ms/step - loss: 0.0036 - mae: 0.0462 - mse: 0.0036 - val_loss: 0.0030 - val_mae: 0.0418 - val_mse: 0.0030\n",
      "Epoch 14/100\n",
      "78/81 [===========================>..] - ETA: 0s - loss: 0.0038 - mae: 0.0475 - mse: 0.0038"
     ]
    },
    {
     "name": "stderr",
     "output_type": "stream",
     "text": [
      "WARNING:tensorflow:Can save best model only with val_mean_squared_error available, skipping.\n"
     ]
    },
    {
     "name": "stdout",
     "output_type": "stream",
     "text": [
      "81/81 [==============================] - 1s 11ms/step - loss: 0.0038 - mae: 0.0475 - mse: 0.0038 - val_loss: 0.0027 - val_mae: 0.0367 - val_mse: 0.0027\n",
      "Epoch 15/100\n",
      "81/81 [==============================] - ETA: 0s - loss: 0.0034 - mae: 0.0452 - mse: 0.0034"
     ]
    },
    {
     "name": "stderr",
     "output_type": "stream",
     "text": [
      "WARNING:tensorflow:Can save best model only with val_mean_squared_error available, skipping.\n"
     ]
    },
    {
     "name": "stdout",
     "output_type": "stream",
     "text": [
      "81/81 [==============================] - 1s 8ms/step - loss: 0.0034 - mae: 0.0452 - mse: 0.0034 - val_loss: 0.0024 - val_mae: 0.0390 - val_mse: 0.0024\n",
      "Epoch 16/100\n",
      "79/81 [============================>.] - ETA: 0s - loss: 0.0036 - mae: 0.0459 - mse: 0.0036"
     ]
    },
    {
     "name": "stderr",
     "output_type": "stream",
     "text": [
      "WARNING:tensorflow:Can save best model only with val_mean_squared_error available, skipping.\n"
     ]
    },
    {
     "name": "stdout",
     "output_type": "stream",
     "text": [
      "81/81 [==============================] - 1s 8ms/step - loss: 0.0036 - mae: 0.0461 - mse: 0.0036 - val_loss: 0.0035 - val_mae: 0.0436 - val_mse: 0.0035\n",
      "Epoch 17/100\n",
      "74/81 [==========================>...] - ETA: 0s - loss: 0.0037 - mae: 0.0467 - mse: 0.0037"
     ]
    },
    {
     "name": "stderr",
     "output_type": "stream",
     "text": [
      "WARNING:tensorflow:Can save best model only with val_mean_squared_error available, skipping.\n"
     ]
    },
    {
     "name": "stdout",
     "output_type": "stream",
     "text": [
      "81/81 [==============================] - 1s 8ms/step - loss: 0.0037 - mae: 0.0466 - mse: 0.0037 - val_loss: 0.0026 - val_mae: 0.0424 - val_mse: 0.0026\n",
      "Epoch 18/100\n",
      "78/81 [===========================>..] - ETA: 0s - loss: 0.0034 - mae: 0.0448 - mse: 0.0034"
     ]
    },
    {
     "name": "stderr",
     "output_type": "stream",
     "text": [
      "WARNING:tensorflow:Can save best model only with val_mean_squared_error available, skipping.\n"
     ]
    },
    {
     "name": "stdout",
     "output_type": "stream",
     "text": [
      "81/81 [==============================] - 1s 8ms/step - loss: 0.0034 - mae: 0.0447 - mse: 0.0034 - val_loss: 0.0024 - val_mae: 0.0346 - val_mse: 0.0024\n",
      "Epoch 19/100\n",
      "75/81 [==========================>...] - ETA: 0s - loss: 0.0033 - mae: 0.0442 - mse: 0.0033"
     ]
    },
    {
     "name": "stderr",
     "output_type": "stream",
     "text": [
      "WARNING:tensorflow:Can save best model only with val_mean_squared_error available, skipping.\n"
     ]
    },
    {
     "name": "stdout",
     "output_type": "stream",
     "text": [
      "81/81 [==============================] - 1s 8ms/step - loss: 0.0033 - mae: 0.0442 - mse: 0.0033 - val_loss: 0.0031 - val_mae: 0.0397 - val_mse: 0.0031\n",
      "Epoch 20/100\n",
      "75/81 [==========================>...] - ETA: 0s - loss: 0.0036 - mae: 0.0455 - mse: 0.0036"
     ]
    },
    {
     "name": "stderr",
     "output_type": "stream",
     "text": [
      "WARNING:tensorflow:Can save best model only with val_mean_squared_error available, skipping.\n"
     ]
    },
    {
     "name": "stdout",
     "output_type": "stream",
     "text": [
      "81/81 [==============================] - 1s 8ms/step - loss: 0.0036 - mae: 0.0459 - mse: 0.0036 - val_loss: 0.0026 - val_mae: 0.0356 - val_mse: 0.0026\n",
      "Epoch 21/100\n",
      "76/81 [===========================>..] - ETA: 0s - loss: 0.0034 - mae: 0.0443 - mse: 0.0034"
     ]
    },
    {
     "name": "stderr",
     "output_type": "stream",
     "text": [
      "WARNING:tensorflow:Can save best model only with val_mean_squared_error available, skipping.\n"
     ]
    },
    {
     "name": "stdout",
     "output_type": "stream",
     "text": [
      "81/81 [==============================] - 1s 8ms/step - loss: 0.0034 - mae: 0.0444 - mse: 0.0034 - val_loss: 0.0018 - val_mae: 0.0324 - val_mse: 0.0018\n",
      "Epoch 22/100\n",
      "79/81 [============================>.] - ETA: 0s - loss: 0.0033 - mae: 0.0443 - mse: 0.0033"
     ]
    },
    {
     "name": "stderr",
     "output_type": "stream",
     "text": [
      "WARNING:tensorflow:Can save best model only with val_mean_squared_error available, skipping.\n"
     ]
    },
    {
     "name": "stdout",
     "output_type": "stream",
     "text": [
      "81/81 [==============================] - 1s 8ms/step - loss: 0.0033 - mae: 0.0443 - mse: 0.0033 - val_loss: 0.0029 - val_mae: 0.0396 - val_mse: 0.0029\n",
      "Epoch 23/100\n",
      "78/81 [===========================>..] - ETA: 0s - loss: 0.0033 - mae: 0.0436 - mse: 0.0033"
     ]
    },
    {
     "name": "stderr",
     "output_type": "stream",
     "text": [
      "WARNING:tensorflow:Can save best model only with val_mean_squared_error available, skipping.\n"
     ]
    },
    {
     "name": "stdout",
     "output_type": "stream",
     "text": [
      "81/81 [==============================] - 1s 8ms/step - loss: 0.0033 - mae: 0.0436 - mse: 0.0033 - val_loss: 0.0026 - val_mae: 0.0369 - val_mse: 0.0026\n",
      "Epoch 24/100\n",
      "77/81 [===========================>..] - ETA: 0s - loss: 0.0030 - mae: 0.0416 - mse: 0.0030"
     ]
    },
    {
     "name": "stderr",
     "output_type": "stream",
     "text": [
      "WARNING:tensorflow:Can save best model only with val_mean_squared_error available, skipping.\n"
     ]
    },
    {
     "name": "stdout",
     "output_type": "stream",
     "text": [
      "81/81 [==============================] - 1s 8ms/step - loss: 0.0030 - mae: 0.0417 - mse: 0.0030 - val_loss: 0.0034 - val_mae: 0.0434 - val_mse: 0.0034\n",
      "Epoch 25/100\n",
      "76/81 [===========================>..] - ETA: 0s - loss: 0.0031 - mae: 0.0425 - mse: 0.0031"
     ]
    },
    {
     "name": "stderr",
     "output_type": "stream",
     "text": [
      "WARNING:tensorflow:Can save best model only with val_mean_squared_error available, skipping.\n"
     ]
    },
    {
     "name": "stdout",
     "output_type": "stream",
     "text": [
      "81/81 [==============================] - 1s 8ms/step - loss: 0.0031 - mae: 0.0425 - mse: 0.0031 - val_loss: 0.0028 - val_mae: 0.0381 - val_mse: 0.0028\n",
      "Epoch 26/100\n",
      "78/81 [===========================>..] - ETA: 0s - loss: 0.0031 - mae: 0.0429 - mse: 0.0031"
     ]
    },
    {
     "name": "stderr",
     "output_type": "stream",
     "text": [
      "WARNING:tensorflow:Can save best model only with val_mean_squared_error available, skipping.\n"
     ]
    },
    {
     "name": "stdout",
     "output_type": "stream",
     "text": [
      "81/81 [==============================] - 1s 8ms/step - loss: 0.0031 - mae: 0.0428 - mse: 0.0031 - val_loss: 0.0034 - val_mae: 0.0396 - val_mse: 0.0034\n",
      "Epoch 27/100\n",
      "78/81 [===========================>..] - ETA: 0s - loss: 0.0031 - mae: 0.0425 - mse: 0.0031"
     ]
    },
    {
     "name": "stderr",
     "output_type": "stream",
     "text": [
      "WARNING:tensorflow:Can save best model only with val_mean_squared_error available, skipping.\n"
     ]
    },
    {
     "name": "stdout",
     "output_type": "stream",
     "text": [
      "81/81 [==============================] - 1s 8ms/step - loss: 0.0031 - mae: 0.0426 - mse: 0.0031 - val_loss: 0.0052 - val_mae: 0.0504 - val_mse: 0.0052\n",
      "Epoch 28/100\n",
      "76/81 [===========================>..] - ETA: 0s - loss: 0.0033 - mae: 0.0435 - mse: 0.0033"
     ]
    },
    {
     "name": "stderr",
     "output_type": "stream",
     "text": [
      "WARNING:tensorflow:Can save best model only with val_mean_squared_error available, skipping.\n"
     ]
    },
    {
     "name": "stdout",
     "output_type": "stream",
     "text": [
      "81/81 [==============================] - 1s 8ms/step - loss: 0.0032 - mae: 0.0434 - mse: 0.0032 - val_loss: 0.0035 - val_mae: 0.0416 - val_mse: 0.0035\n",
      "Epoch 29/100\n",
      "79/81 [============================>.] - ETA: 0s - loss: 0.0030 - mae: 0.0422 - mse: 0.0030"
     ]
    },
    {
     "name": "stderr",
     "output_type": "stream",
     "text": [
      "WARNING:tensorflow:Can save best model only with val_mean_squared_error available, skipping.\n"
     ]
    },
    {
     "name": "stdout",
     "output_type": "stream",
     "text": [
      "81/81 [==============================] - 1s 8ms/step - loss: 0.0030 - mae: 0.0421 - mse: 0.0030 - val_loss: 0.0031 - val_mae: 0.0373 - val_mse: 0.0031\n",
      "Epoch 30/100\n",
      "81/81 [==============================] - ETA: 0s - loss: 0.0028 - mae: 0.0402 - mse: 0.0028"
     ]
    },
    {
     "name": "stderr",
     "output_type": "stream",
     "text": [
      "WARNING:tensorflow:Can save best model only with val_mean_squared_error available, skipping.\n"
     ]
    },
    {
     "name": "stdout",
     "output_type": "stream",
     "text": [
      "81/81 [==============================] - 1s 8ms/step - loss: 0.0028 - mae: 0.0402 - mse: 0.0028 - val_loss: 0.0042 - val_mae: 0.0406 - val_mse: 0.0042\n",
      "Epoch 31/100\n",
      "81/81 [==============================] - ETA: 0s - loss: 0.0030 - mae: 0.0415 - mse: 0.0030"
     ]
    },
    {
     "name": "stderr",
     "output_type": "stream",
     "text": [
      "WARNING:tensorflow:Can save best model only with val_mean_squared_error available, skipping.\n"
     ]
    },
    {
     "name": "stdout",
     "output_type": "stream",
     "text": [
      "81/81 [==============================] - 1s 8ms/step - loss: 0.0030 - mae: 0.0415 - mse: 0.0030 - val_loss: 0.0038 - val_mae: 0.0418 - val_mse: 0.0038\n",
      "Epoch 32/100\n",
      "81/81 [==============================] - ETA: 0s - loss: 0.0027 - mae: 0.0394 - mse: 0.0027"
     ]
    },
    {
     "name": "stderr",
     "output_type": "stream",
     "text": [
      "WARNING:tensorflow:Can save best model only with val_mean_squared_error available, skipping.\n"
     ]
    },
    {
     "name": "stdout",
     "output_type": "stream",
     "text": [
      "81/81 [==============================] - 1s 8ms/step - loss: 0.0027 - mae: 0.0394 - mse: 0.0027 - val_loss: 0.0055 - val_mae: 0.0514 - val_mse: 0.0055\n",
      "Epoch 33/100\n",
      "77/81 [===========================>..] - ETA: 0s - loss: 0.0028 - mae: 0.0406 - mse: 0.0028"
     ]
    },
    {
     "name": "stderr",
     "output_type": "stream",
     "text": [
      "WARNING:tensorflow:Can save best model only with val_mean_squared_error available, skipping.\n"
     ]
    },
    {
     "name": "stdout",
     "output_type": "stream",
     "text": [
      "81/81 [==============================] - 1s 8ms/step - loss: 0.0029 - mae: 0.0406 - mse: 0.0029 - val_loss: 0.0042 - val_mae: 0.0414 - val_mse: 0.0042\n",
      "Epoch 34/100\n",
      "79/81 [============================>.] - ETA: 0s - loss: 0.0026 - mae: 0.0382 - mse: 0.0026"
     ]
    },
    {
     "name": "stderr",
     "output_type": "stream",
     "text": [
      "WARNING:tensorflow:Can save best model only with val_mean_squared_error available, skipping.\n"
     ]
    },
    {
     "name": "stdout",
     "output_type": "stream",
     "text": [
      "81/81 [==============================] - 1s 8ms/step - loss: 0.0026 - mae: 0.0383 - mse: 0.0026 - val_loss: 0.0028 - val_mae: 0.0369 - val_mse: 0.0028\n",
      "Epoch 35/100\n",
      "81/81 [==============================] - ETA: 0s - loss: 0.0028 - mae: 0.0401 - mse: 0.0028"
     ]
    },
    {
     "name": "stderr",
     "output_type": "stream",
     "text": [
      "WARNING:tensorflow:Can save best model only with val_mean_squared_error available, skipping.\n"
     ]
    },
    {
     "name": "stdout",
     "output_type": "stream",
     "text": [
      "81/81 [==============================] - 1s 8ms/step - loss: 0.0028 - mae: 0.0401 - mse: 0.0028 - val_loss: 0.0027 - val_mae: 0.0377 - val_mse: 0.0027\n",
      "Epoch 36/100\n",
      "78/81 [===========================>..] - ETA: 0s - loss: 0.0026 - mae: 0.0393 - mse: 0.0026"
     ]
    },
    {
     "name": "stderr",
     "output_type": "stream",
     "text": [
      "WARNING:tensorflow:Can save best model only with val_mean_squared_error available, skipping.\n"
     ]
    },
    {
     "name": "stdout",
     "output_type": "stream",
     "text": [
      "81/81 [==============================] - 1s 8ms/step - loss: 0.0027 - mae: 0.0394 - mse: 0.0027 - val_loss: 0.0029 - val_mae: 0.0392 - val_mse: 0.0029\n",
      "Epoch 37/100\n",
      "78/81 [===========================>..] - ETA: 0s - loss: 0.0026 - mae: 0.0390 - mse: 0.0026"
     ]
    },
    {
     "name": "stderr",
     "output_type": "stream",
     "text": [
      "WARNING:tensorflow:Can save best model only with val_mean_squared_error available, skipping.\n"
     ]
    },
    {
     "name": "stdout",
     "output_type": "stream",
     "text": [
      "81/81 [==============================] - 1s 8ms/step - loss: 0.0026 - mae: 0.0390 - mse: 0.0026 - val_loss: 0.0031 - val_mae: 0.0421 - val_mse: 0.0031\n",
      "Epoch 38/100\n",
      "81/81 [==============================] - ETA: 0s - loss: 0.0028 - mae: 0.0402 - mse: 0.0028"
     ]
    },
    {
     "name": "stderr",
     "output_type": "stream",
     "text": [
      "WARNING:tensorflow:Can save best model only with val_mean_squared_error available, skipping.\n"
     ]
    },
    {
     "name": "stdout",
     "output_type": "stream",
     "text": [
      "81/81 [==============================] - 1s 8ms/step - loss: 0.0028 - mae: 0.0402 - mse: 0.0028 - val_loss: 0.0022 - val_mae: 0.0356 - val_mse: 0.0022\n",
      "Epoch 39/100\n",
      "78/81 [===========================>..] - ETA: 0s - loss: 0.0025 - mae: 0.0383 - mse: 0.0025"
     ]
    },
    {
     "name": "stderr",
     "output_type": "stream",
     "text": [
      "WARNING:tensorflow:Can save best model only with val_mean_squared_error available, skipping.\n"
     ]
    },
    {
     "name": "stdout",
     "output_type": "stream",
     "text": [
      "81/81 [==============================] - 1s 8ms/step - loss: 0.0026 - mae: 0.0384 - mse: 0.0026 - val_loss: 0.0032 - val_mae: 0.0454 - val_mse: 0.0032\n",
      "Epoch 40/100\n",
      "79/81 [============================>.] - ETA: 0s - loss: 0.0028 - mae: 0.0406 - mse: 0.0028"
     ]
    },
    {
     "name": "stderr",
     "output_type": "stream",
     "text": [
      "WARNING:tensorflow:Can save best model only with val_mean_squared_error available, skipping.\n"
     ]
    },
    {
     "name": "stdout",
     "output_type": "stream",
     "text": [
      "81/81 [==============================] - 1s 8ms/step - loss: 0.0028 - mae: 0.0406 - mse: 0.0028 - val_loss: 0.0031 - val_mae: 0.0438 - val_mse: 0.0031\n",
      "Epoch 41/100\n",
      "77/81 [===========================>..] - ETA: 0s - loss: 0.0026 - mae: 0.0390 - mse: 0.0026"
     ]
    },
    {
     "name": "stderr",
     "output_type": "stream",
     "text": [
      "WARNING:tensorflow:Can save best model only with val_mean_squared_error available, skipping.\n"
     ]
    },
    {
     "name": "stdout",
     "output_type": "stream",
     "text": [
      "81/81 [==============================] - 1s 8ms/step - loss: 0.0026 - mae: 0.0390 - mse: 0.0026 - val_loss: 0.0042 - val_mae: 0.0461 - val_mse: 0.0042\n",
      "Epoch 42/100\n",
      "79/81 [============================>.] - ETA: 0s - loss: 0.0024 - mae: 0.0370 - mse: 0.0024"
     ]
    },
    {
     "name": "stderr",
     "output_type": "stream",
     "text": [
      "WARNING:tensorflow:Can save best model only with val_mean_squared_error available, skipping.\n"
     ]
    },
    {
     "name": "stdout",
     "output_type": "stream",
     "text": [
      "81/81 [==============================] - 1s 8ms/step - loss: 0.0024 - mae: 0.0370 - mse: 0.0024 - val_loss: 0.0032 - val_mae: 0.0415 - val_mse: 0.0032\n",
      "Epoch 43/100\n",
      "81/81 [==============================] - ETA: 0s - loss: 0.0024 - mae: 0.0377 - mse: 0.0024"
     ]
    },
    {
     "name": "stderr",
     "output_type": "stream",
     "text": [
      "WARNING:tensorflow:Can save best model only with val_mean_squared_error available, skipping.\n"
     ]
    },
    {
     "name": "stdout",
     "output_type": "stream",
     "text": [
      "81/81 [==============================] - 1s 10ms/step - loss: 0.0024 - mae: 0.0377 - mse: 0.0024 - val_loss: 0.0045 - val_mae: 0.0479 - val_mse: 0.0045\n",
      "Epoch 44/100\n",
      "77/81 [===========================>..] - ETA: 0s - loss: 0.0024 - mae: 0.0375 - mse: 0.0024"
     ]
    },
    {
     "name": "stderr",
     "output_type": "stream",
     "text": [
      "WARNING:tensorflow:Can save best model only with val_mean_squared_error available, skipping.\n"
     ]
    },
    {
     "name": "stdout",
     "output_type": "stream",
     "text": [
      "81/81 [==============================] - 1s 11ms/step - loss: 0.0024 - mae: 0.0375 - mse: 0.0024 - val_loss: 0.0047 - val_mae: 0.0492 - val_mse: 0.0047\n",
      "Epoch 45/100\n",
      "76/81 [===========================>..] - ETA: 0s - loss: 0.0023 - mae: 0.0367 - mse: 0.0023"
     ]
    },
    {
     "name": "stderr",
     "output_type": "stream",
     "text": [
      "WARNING:tensorflow:Can save best model only with val_mean_squared_error available, skipping.\n"
     ]
    },
    {
     "name": "stdout",
     "output_type": "stream",
     "text": [
      "81/81 [==============================] - 1s 12ms/step - loss: 0.0023 - mae: 0.0370 - mse: 0.0023 - val_loss: 0.0059 - val_mae: 0.0593 - val_mse: 0.0059\n",
      "Epoch 46/100\n",
      "79/81 [============================>.] - ETA: 0s - loss: 0.0024 - mae: 0.0375 - mse: 0.0024"
     ]
    },
    {
     "name": "stderr",
     "output_type": "stream",
     "text": [
      "WARNING:tensorflow:Can save best model only with val_mean_squared_error available, skipping.\n"
     ]
    },
    {
     "name": "stdout",
     "output_type": "stream",
     "text": [
      "81/81 [==============================] - 1s 8ms/step - loss: 0.0024 - mae: 0.0375 - mse: 0.0024 - val_loss: 0.0032 - val_mae: 0.0431 - val_mse: 0.0032\n",
      "Epoch 47/100\n",
      "81/81 [==============================] - ETA: 0s - loss: 0.0024 - mae: 0.0370 - mse: 0.0024"
     ]
    },
    {
     "name": "stderr",
     "output_type": "stream",
     "text": [
      "WARNING:tensorflow:Can save best model only with val_mean_squared_error available, skipping.\n"
     ]
    },
    {
     "name": "stdout",
     "output_type": "stream",
     "text": [
      "81/81 [==============================] - 1s 8ms/step - loss: 0.0024 - mae: 0.0370 - mse: 0.0024 - val_loss: 0.0044 - val_mae: 0.0491 - val_mse: 0.0044\n",
      "Epoch 48/100\n",
      "80/81 [============================>.] - ETA: 0s - loss: 0.0022 - mae: 0.0354 - mse: 0.0022"
     ]
    },
    {
     "name": "stderr",
     "output_type": "stream",
     "text": [
      "WARNING:tensorflow:Can save best model only with val_mean_squared_error available, skipping.\n"
     ]
    },
    {
     "name": "stdout",
     "output_type": "stream",
     "text": [
      "81/81 [==============================] - 1s 8ms/step - loss: 0.0022 - mae: 0.0354 - mse: 0.0022 - val_loss: 0.0035 - val_mae: 0.0470 - val_mse: 0.0035\n",
      "Epoch 49/100\n",
      "75/81 [==========================>...] - ETA: 0s - loss: 0.0024 - mae: 0.0372 - mse: 0.0024"
     ]
    },
    {
     "name": "stderr",
     "output_type": "stream",
     "text": [
      "WARNING:tensorflow:Can save best model only with val_mean_squared_error available, skipping.\n"
     ]
    },
    {
     "name": "stdout",
     "output_type": "stream",
     "text": [
      "81/81 [==============================] - 1s 8ms/step - loss: 0.0023 - mae: 0.0371 - mse: 0.0023 - val_loss: 0.0038 - val_mae: 0.0496 - val_mse: 0.0038\n",
      "Epoch 50/100\n",
      "76/81 [===========================>..] - ETA: 0s - loss: 0.0023 - mae: 0.0370 - mse: 0.0023"
     ]
    },
    {
     "name": "stderr",
     "output_type": "stream",
     "text": [
      "WARNING:tensorflow:Can save best model only with val_mean_squared_error available, skipping.\n"
     ]
    },
    {
     "name": "stdout",
     "output_type": "stream",
     "text": [
      "81/81 [==============================] - 1s 8ms/step - loss: 0.0023 - mae: 0.0371 - mse: 0.0023 - val_loss: 0.0034 - val_mae: 0.0428 - val_mse: 0.0034\n",
      "Epoch 51/100\n",
      "81/81 [==============================] - ETA: 0s - loss: 0.0023 - mae: 0.0371 - mse: 0.0023"
     ]
    },
    {
     "name": "stderr",
     "output_type": "stream",
     "text": [
      "WARNING:tensorflow:Can save best model only with val_mean_squared_error available, skipping.\n"
     ]
    },
    {
     "name": "stdout",
     "output_type": "stream",
     "text": [
      "81/81 [==============================] - 1s 8ms/step - loss: 0.0023 - mae: 0.0371 - mse: 0.0023 - val_loss: 0.0041 - val_mae: 0.0438 - val_mse: 0.0041\n",
      "Epoch 52/100\n",
      "80/81 [============================>.] - ETA: 0s - loss: 0.0022 - mae: 0.0358 - mse: 0.0022"
     ]
    },
    {
     "name": "stderr",
     "output_type": "stream",
     "text": [
      "WARNING:tensorflow:Can save best model only with val_mean_squared_error available, skipping.\n"
     ]
    },
    {
     "name": "stdout",
     "output_type": "stream",
     "text": [
      "81/81 [==============================] - 1s 8ms/step - loss: 0.0022 - mae: 0.0358 - mse: 0.0022 - val_loss: 0.0031 - val_mae: 0.0395 - val_mse: 0.0031\n",
      "Epoch 53/100\n",
      "80/81 [============================>.] - ETA: 0s - loss: 0.0023 - mae: 0.0365 - mse: 0.0023"
     ]
    },
    {
     "name": "stderr",
     "output_type": "stream",
     "text": [
      "WARNING:tensorflow:Can save best model only with val_mean_squared_error available, skipping.\n"
     ]
    },
    {
     "name": "stdout",
     "output_type": "stream",
     "text": [
      "81/81 [==============================] - 1s 8ms/step - loss: 0.0023 - mae: 0.0364 - mse: 0.0023 - val_loss: 0.0058 - val_mae: 0.0586 - val_mse: 0.0058\n",
      "Epoch 54/100\n",
      "81/81 [==============================] - ETA: 0s - loss: 0.0020 - mae: 0.0342 - mse: 0.0020"
     ]
    },
    {
     "name": "stderr",
     "output_type": "stream",
     "text": [
      "WARNING:tensorflow:Can save best model only with val_mean_squared_error available, skipping.\n"
     ]
    },
    {
     "name": "stdout",
     "output_type": "stream",
     "text": [
      "81/81 [==============================] - 1s 8ms/step - loss: 0.0020 - mae: 0.0342 - mse: 0.0020 - val_loss: 0.0037 - val_mae: 0.0445 - val_mse: 0.0037\n",
      "Epoch 55/100\n",
      "81/81 [==============================] - ETA: 0s - loss: 0.0022 - mae: 0.0354 - mse: 0.0022"
     ]
    },
    {
     "name": "stderr",
     "output_type": "stream",
     "text": [
      "WARNING:tensorflow:Can save best model only with val_mean_squared_error available, skipping.\n"
     ]
    },
    {
     "name": "stdout",
     "output_type": "stream",
     "text": [
      "81/81 [==============================] - 1s 9ms/step - loss: 0.0022 - mae: 0.0354 - mse: 0.0022 - val_loss: 0.0035 - val_mae: 0.0464 - val_mse: 0.0035\n",
      "Epoch 56/100\n",
      "78/81 [===========================>..] - ETA: 0s - loss: 0.0021 - mae: 0.0352 - mse: 0.0021"
     ]
    },
    {
     "name": "stderr",
     "output_type": "stream",
     "text": [
      "WARNING:tensorflow:Can save best model only with val_mean_squared_error available, skipping.\n"
     ]
    },
    {
     "name": "stdout",
     "output_type": "stream",
     "text": [
      "81/81 [==============================] - 1s 8ms/step - loss: 0.0021 - mae: 0.0352 - mse: 0.0021 - val_loss: 0.0050 - val_mae: 0.0520 - val_mse: 0.0050\n",
      "Epoch 57/100\n",
      "80/81 [============================>.] - ETA: 0s - loss: 0.0020 - mae: 0.0347 - mse: 0.0020"
     ]
    },
    {
     "name": "stderr",
     "output_type": "stream",
     "text": [
      "WARNING:tensorflow:Can save best model only with val_mean_squared_error available, skipping.\n"
     ]
    },
    {
     "name": "stdout",
     "output_type": "stream",
     "text": [
      "81/81 [==============================] - 1s 9ms/step - loss: 0.0020 - mae: 0.0347 - mse: 0.0020 - val_loss: 0.0036 - val_mae: 0.0471 - val_mse: 0.0036\n",
      "Epoch 58/100\n",
      "79/81 [============================>.] - ETA: 0s - loss: 0.0019 - mae: 0.0340 - mse: 0.0019"
     ]
    },
    {
     "name": "stderr",
     "output_type": "stream",
     "text": [
      "WARNING:tensorflow:Can save best model only with val_mean_squared_error available, skipping.\n"
     ]
    },
    {
     "name": "stdout",
     "output_type": "stream",
     "text": [
      "81/81 [==============================] - 1s 10ms/step - loss: 0.0019 - mae: 0.0339 - mse: 0.0019 - val_loss: 0.0047 - val_mae: 0.0556 - val_mse: 0.0047\n",
      "Epoch 59/100\n",
      "74/81 [==========================>...] - ETA: 0s - loss: 0.0019 - mae: 0.0336 - mse: 0.0019"
     ]
    },
    {
     "name": "stderr",
     "output_type": "stream",
     "text": [
      "WARNING:tensorflow:Can save best model only with val_mean_squared_error available, skipping.\n"
     ]
    },
    {
     "name": "stdout",
     "output_type": "stream",
     "text": [
      "81/81 [==============================] - 1s 10ms/step - loss: 0.0019 - mae: 0.0337 - mse: 0.0019 - val_loss: 0.0042 - val_mae: 0.0508 - val_mse: 0.0042\n",
      "Epoch 60/100\n",
      "78/81 [===========================>..] - ETA: 0s - loss: 0.0019 - mae: 0.0336 - mse: 0.0019"
     ]
    },
    {
     "name": "stderr",
     "output_type": "stream",
     "text": [
      "WARNING:tensorflow:Can save best model only with val_mean_squared_error available, skipping.\n"
     ]
    },
    {
     "name": "stdout",
     "output_type": "stream",
     "text": [
      "81/81 [==============================] - 1s 8ms/step - loss: 0.0019 - mae: 0.0336 - mse: 0.0019 - val_loss: 0.0050 - val_mae: 0.0564 - val_mse: 0.0050\n",
      "Epoch 61/100\n",
      "74/81 [==========================>...] - ETA: 0s - loss: 0.0018 - mae: 0.0334 - mse: 0.0018"
     ]
    },
    {
     "name": "stderr",
     "output_type": "stream",
     "text": [
      "WARNING:tensorflow:Can save best model only with val_mean_squared_error available, skipping.\n"
     ]
    },
    {
     "name": "stdout",
     "output_type": "stream",
     "text": [
      "81/81 [==============================] - 1s 8ms/step - loss: 0.0018 - mae: 0.0335 - mse: 0.0018 - val_loss: 0.0045 - val_mae: 0.0506 - val_mse: 0.0045\n",
      "Epoch 62/100\n",
      "79/81 [============================>.] - ETA: 0s - loss: 0.0017 - mae: 0.0321 - mse: 0.0017"
     ]
    },
    {
     "name": "stderr",
     "output_type": "stream",
     "text": [
      "WARNING:tensorflow:Can save best model only with val_mean_squared_error available, skipping.\n"
     ]
    },
    {
     "name": "stdout",
     "output_type": "stream",
     "text": [
      "81/81 [==============================] - 1s 8ms/step - loss: 0.0017 - mae: 0.0322 - mse: 0.0017 - val_loss: 0.0061 - val_mae: 0.0609 - val_mse: 0.0061\n",
      "Epoch 63/100\n",
      "81/81 [==============================] - ETA: 0s - loss: 0.0018 - mae: 0.0327 - mse: 0.0018"
     ]
    },
    {
     "name": "stderr",
     "output_type": "stream",
     "text": [
      "WARNING:tensorflow:Can save best model only with val_mean_squared_error available, skipping.\n"
     ]
    },
    {
     "name": "stdout",
     "output_type": "stream",
     "text": [
      "81/81 [==============================] - 1s 8ms/step - loss: 0.0018 - mae: 0.0327 - mse: 0.0018 - val_loss: 0.0039 - val_mae: 0.0514 - val_mse: 0.0039\n",
      "Epoch 64/100\n",
      "74/81 [==========================>...] - ETA: 0s - loss: 0.0020 - mae: 0.0345 - mse: 0.0020"
     ]
    },
    {
     "name": "stderr",
     "output_type": "stream",
     "text": [
      "WARNING:tensorflow:Can save best model only with val_mean_squared_error available, skipping.\n"
     ]
    },
    {
     "name": "stdout",
     "output_type": "stream",
     "text": [
      "81/81 [==============================] - 1s 8ms/step - loss: 0.0020 - mae: 0.0344 - mse: 0.0020 - val_loss: 0.0027 - val_mae: 0.0389 - val_mse: 0.0027\n",
      "Epoch 65/100\n",
      "77/81 [===========================>..] - ETA: 0s - loss: 0.0018 - mae: 0.0327 - mse: 0.0018"
     ]
    },
    {
     "name": "stderr",
     "output_type": "stream",
     "text": [
      "WARNING:tensorflow:Can save best model only with val_mean_squared_error available, skipping.\n"
     ]
    },
    {
     "name": "stdout",
     "output_type": "stream",
     "text": [
      "81/81 [==============================] - 1s 8ms/step - loss: 0.0018 - mae: 0.0326 - mse: 0.0018 - val_loss: 0.0040 - val_mae: 0.0531 - val_mse: 0.0040\n",
      "Epoch 66/100\n",
      "80/81 [============================>.] - ETA: 0s - loss: 0.0019 - mae: 0.0337 - mse: 0.0019"
     ]
    },
    {
     "name": "stderr",
     "output_type": "stream",
     "text": [
      "WARNING:tensorflow:Can save best model only with val_mean_squared_error available, skipping.\n"
     ]
    },
    {
     "name": "stdout",
     "output_type": "stream",
     "text": [
      "81/81 [==============================] - 1s 8ms/step - loss: 0.0019 - mae: 0.0337 - mse: 0.0019 - val_loss: 0.0039 - val_mae: 0.0503 - val_mse: 0.0039\n",
      "Epoch 67/100\n",
      "74/81 [==========================>...] - ETA: 0s - loss: 0.0017 - mae: 0.0324 - mse: 0.0017"
     ]
    },
    {
     "name": "stderr",
     "output_type": "stream",
     "text": [
      "WARNING:tensorflow:Can save best model only with val_mean_squared_error available, skipping.\n"
     ]
    },
    {
     "name": "stdout",
     "output_type": "stream",
     "text": [
      "81/81 [==============================] - 1s 8ms/step - loss: 0.0017 - mae: 0.0323 - mse: 0.0017 - val_loss: 0.0051 - val_mae: 0.0562 - val_mse: 0.0051\n",
      "Epoch 68/100\n",
      "81/81 [==============================] - ETA: 0s - loss: 0.0019 - mae: 0.0338 - mse: 0.0019"
     ]
    },
    {
     "name": "stderr",
     "output_type": "stream",
     "text": [
      "WARNING:tensorflow:Can save best model only with val_mean_squared_error available, skipping.\n"
     ]
    },
    {
     "name": "stdout",
     "output_type": "stream",
     "text": [
      "81/81 [==============================] - 1s 8ms/step - loss: 0.0019 - mae: 0.0338 - mse: 0.0019 - val_loss: 0.0040 - val_mae: 0.0478 - val_mse: 0.0040\n",
      "Epoch 69/100\n",
      "75/81 [==========================>...] - ETA: 0s - loss: 0.0016 - mae: 0.0309 - mse: 0.0016"
     ]
    },
    {
     "name": "stderr",
     "output_type": "stream",
     "text": [
      "WARNING:tensorflow:Can save best model only with val_mean_squared_error available, skipping.\n"
     ]
    },
    {
     "name": "stdout",
     "output_type": "stream",
     "text": [
      "81/81 [==============================] - 1s 8ms/step - loss: 0.0016 - mae: 0.0311 - mse: 0.0016 - val_loss: 0.0052 - val_mae: 0.0562 - val_mse: 0.0052\n",
      "Epoch 70/100\n",
      "78/81 [===========================>..] - ETA: 0s - loss: 0.0016 - mae: 0.0317 - mse: 0.0016"
     ]
    },
    {
     "name": "stderr",
     "output_type": "stream",
     "text": [
      "WARNING:tensorflow:Can save best model only with val_mean_squared_error available, skipping.\n"
     ]
    },
    {
     "name": "stdout",
     "output_type": "stream",
     "text": [
      "81/81 [==============================] - 1s 8ms/step - loss: 0.0017 - mae: 0.0318 - mse: 0.0017 - val_loss: 0.0047 - val_mae: 0.0526 - val_mse: 0.0047\n",
      "Epoch 71/100\n",
      "76/81 [===========================>..] - ETA: 0s - loss: 0.0016 - mae: 0.0312 - mse: 0.0016"
     ]
    },
    {
     "name": "stderr",
     "output_type": "stream",
     "text": [
      "WARNING:tensorflow:Can save best model only with val_mean_squared_error available, skipping.\n"
     ]
    },
    {
     "name": "stdout",
     "output_type": "stream",
     "text": [
      "81/81 [==============================] - 1s 8ms/step - loss: 0.0016 - mae: 0.0312 - mse: 0.0016 - val_loss: 0.0050 - val_mae: 0.0537 - val_mse: 0.0050\n",
      "Epoch 72/100\n",
      "78/81 [===========================>..] - ETA: 0s - loss: 0.0014 - mae: 0.0295 - mse: 0.0014"
     ]
    },
    {
     "name": "stderr",
     "output_type": "stream",
     "text": [
      "WARNING:tensorflow:Can save best model only with val_mean_squared_error available, skipping.\n"
     ]
    },
    {
     "name": "stdout",
     "output_type": "stream",
     "text": [
      "81/81 [==============================] - 1s 7ms/step - loss: 0.0014 - mae: 0.0296 - mse: 0.0014 - val_loss: 0.0038 - val_mae: 0.0468 - val_mse: 0.0038\n",
      "Epoch 73/100\n",
      "81/81 [==============================] - ETA: 0s - loss: 0.0014 - mae: 0.0291 - mse: 0.0014"
     ]
    },
    {
     "name": "stderr",
     "output_type": "stream",
     "text": [
      "WARNING:tensorflow:Can save best model only with val_mean_squared_error available, skipping.\n"
     ]
    },
    {
     "name": "stdout",
     "output_type": "stream",
     "text": [
      "81/81 [==============================] - 1s 8ms/step - loss: 0.0014 - mae: 0.0291 - mse: 0.0014 - val_loss: 0.0036 - val_mae: 0.0482 - val_mse: 0.0036\n",
      "Epoch 74/100\n",
      "79/81 [============================>.] - ETA: 0s - loss: 0.0016 - mae: 0.0308 - mse: 0.0016"
     ]
    },
    {
     "name": "stderr",
     "output_type": "stream",
     "text": [
      "WARNING:tensorflow:Can save best model only with val_mean_squared_error available, skipping.\n"
     ]
    },
    {
     "name": "stdout",
     "output_type": "stream",
     "text": [
      "81/81 [==============================] - 1s 8ms/step - loss: 0.0016 - mae: 0.0308 - mse: 0.0016 - val_loss: 0.0043 - val_mae: 0.0521 - val_mse: 0.0043\n",
      "Epoch 75/100\n",
      "77/81 [===========================>..] - ETA: 0s - loss: 0.0015 - mae: 0.0298 - mse: 0.0015"
     ]
    },
    {
     "name": "stderr",
     "output_type": "stream",
     "text": [
      "WARNING:tensorflow:Can save best model only with val_mean_squared_error available, skipping.\n"
     ]
    },
    {
     "name": "stdout",
     "output_type": "stream",
     "text": [
      "81/81 [==============================] - 1s 8ms/step - loss: 0.0015 - mae: 0.0297 - mse: 0.0015 - val_loss: 0.0038 - val_mae: 0.0462 - val_mse: 0.0038\n",
      "Epoch 76/100\n",
      "74/81 [==========================>...] - ETA: 0s - loss: 0.0015 - mae: 0.0301 - mse: 0.0015"
     ]
    },
    {
     "name": "stderr",
     "output_type": "stream",
     "text": [
      "WARNING:tensorflow:Can save best model only with val_mean_squared_error available, skipping.\n"
     ]
    },
    {
     "name": "stdout",
     "output_type": "stream",
     "text": [
      "81/81 [==============================] - 1s 8ms/step - loss: 0.0015 - mae: 0.0300 - mse: 0.0015 - val_loss: 0.0039 - val_mae: 0.0473 - val_mse: 0.0039\n",
      "Epoch 77/100\n",
      "81/81 [==============================] - ETA: 0s - loss: 0.0016 - mae: 0.0310 - mse: 0.0016"
     ]
    },
    {
     "name": "stderr",
     "output_type": "stream",
     "text": [
      "WARNING:tensorflow:Can save best model only with val_mean_squared_error available, skipping.\n"
     ]
    },
    {
     "name": "stdout",
     "output_type": "stream",
     "text": [
      "81/81 [==============================] - 1s 8ms/step - loss: 0.0016 - mae: 0.0310 - mse: 0.0016 - val_loss: 0.0046 - val_mae: 0.0546 - val_mse: 0.0046\n",
      "Epoch 78/100\n",
      "81/81 [==============================] - ETA: 0s - loss: 0.0013 - mae: 0.0279 - mse: 0.0013"
     ]
    },
    {
     "name": "stderr",
     "output_type": "stream",
     "text": [
      "WARNING:tensorflow:Can save best model only with val_mean_squared_error available, skipping.\n"
     ]
    },
    {
     "name": "stdout",
     "output_type": "stream",
     "text": [
      "81/81 [==============================] - 1s 8ms/step - loss: 0.0013 - mae: 0.0279 - mse: 0.0013 - val_loss: 0.0041 - val_mae: 0.0474 - val_mse: 0.0041\n",
      "Epoch 79/100\n",
      "78/81 [===========================>..] - ETA: 0s - loss: 0.0013 - mae: 0.0284 - mse: 0.0013"
     ]
    },
    {
     "name": "stderr",
     "output_type": "stream",
     "text": [
      "WARNING:tensorflow:Can save best model only with val_mean_squared_error available, skipping.\n"
     ]
    },
    {
     "name": "stdout",
     "output_type": "stream",
     "text": [
      "81/81 [==============================] - 1s 8ms/step - loss: 0.0013 - mae: 0.0284 - mse: 0.0013 - val_loss: 0.0046 - val_mae: 0.0538 - val_mse: 0.0046\n",
      "Epoch 80/100\n",
      "81/81 [==============================] - ETA: 0s - loss: 0.0013 - mae: 0.0284 - mse: 0.0013"
     ]
    },
    {
     "name": "stderr",
     "output_type": "stream",
     "text": [
      "WARNING:tensorflow:Can save best model only with val_mean_squared_error available, skipping.\n"
     ]
    },
    {
     "name": "stdout",
     "output_type": "stream",
     "text": [
      "81/81 [==============================] - 1s 8ms/step - loss: 0.0013 - mae: 0.0284 - mse: 0.0013 - val_loss: 0.0061 - val_mae: 0.0584 - val_mse: 0.0061\n",
      "Epoch 81/100\n",
      "81/81 [==============================] - ETA: 0s - loss: 0.0013 - mae: 0.0282 - mse: 0.0013"
     ]
    },
    {
     "name": "stderr",
     "output_type": "stream",
     "text": [
      "WARNING:tensorflow:Can save best model only with val_mean_squared_error available, skipping.\n"
     ]
    },
    {
     "name": "stdout",
     "output_type": "stream",
     "text": [
      "81/81 [==============================] - 1s 8ms/step - loss: 0.0013 - mae: 0.0282 - mse: 0.0013 - val_loss: 0.0051 - val_mae: 0.0554 - val_mse: 0.0051\n",
      "Epoch 82/100\n",
      "75/81 [==========================>...] - ETA: 0s - loss: 0.0012 - mae: 0.0274 - mse: 0.0012"
     ]
    },
    {
     "name": "stderr",
     "output_type": "stream",
     "text": [
      "WARNING:tensorflow:Can save best model only with val_mean_squared_error available, skipping.\n"
     ]
    },
    {
     "name": "stdout",
     "output_type": "stream",
     "text": [
      "81/81 [==============================] - 1s 8ms/step - loss: 0.0012 - mae: 0.0275 - mse: 0.0012 - val_loss: 0.0074 - val_mae: 0.0681 - val_mse: 0.0074\n",
      "Epoch 83/100\n",
      "75/81 [==========================>...] - ETA: 0s - loss: 0.0013 - mae: 0.0282 - mse: 0.0013"
     ]
    },
    {
     "name": "stderr",
     "output_type": "stream",
     "text": [
      "WARNING:tensorflow:Can save best model only with val_mean_squared_error available, skipping.\n"
     ]
    },
    {
     "name": "stdout",
     "output_type": "stream",
     "text": [
      "81/81 [==============================] - 1s 8ms/step - loss: 0.0013 - mae: 0.0283 - mse: 0.0013 - val_loss: 0.0042 - val_mae: 0.0512 - val_mse: 0.0042\n",
      "Epoch 84/100\n",
      "79/81 [============================>.] - ETA: 0s - loss: 0.0012 - mae: 0.0277 - mse: 0.0012"
     ]
    },
    {
     "name": "stderr",
     "output_type": "stream",
     "text": [
      "WARNING:tensorflow:Can save best model only with val_mean_squared_error available, skipping.\n"
     ]
    },
    {
     "name": "stdout",
     "output_type": "stream",
     "text": [
      "81/81 [==============================] - 1s 8ms/step - loss: 0.0012 - mae: 0.0277 - mse: 0.0012 - val_loss: 0.0044 - val_mae: 0.0518 - val_mse: 0.0044\n",
      "Epoch 85/100\n",
      "74/81 [==========================>...] - ETA: 0s - loss: 0.0012 - mae: 0.0269 - mse: 0.0012"
     ]
    },
    {
     "name": "stderr",
     "output_type": "stream",
     "text": [
      "WARNING:tensorflow:Can save best model only with val_mean_squared_error available, skipping.\n"
     ]
    },
    {
     "name": "stdout",
     "output_type": "stream",
     "text": [
      "81/81 [==============================] - 1s 8ms/step - loss: 0.0011 - mae: 0.0267 - mse: 0.0011 - val_loss: 0.0046 - val_mae: 0.0563 - val_mse: 0.0046\n",
      "Epoch 86/100\n",
      "76/81 [===========================>..] - ETA: 0s - loss: 0.0012 - mae: 0.0272 - mse: 0.0012"
     ]
    },
    {
     "name": "stderr",
     "output_type": "stream",
     "text": [
      "WARNING:tensorflow:Can save best model only with val_mean_squared_error available, skipping.\n"
     ]
    },
    {
     "name": "stdout",
     "output_type": "stream",
     "text": [
      "81/81 [==============================] - 1s 8ms/step - loss: 0.0012 - mae: 0.0272 - mse: 0.0012 - val_loss: 0.0063 - val_mae: 0.0642 - val_mse: 0.0063\n",
      "Epoch 87/100\n",
      "81/81 [==============================] - ETA: 0s - loss: 0.0012 - mae: 0.0278 - mse: 0.0012"
     ]
    },
    {
     "name": "stderr",
     "output_type": "stream",
     "text": [
      "WARNING:tensorflow:Can save best model only with val_mean_squared_error available, skipping.\n"
     ]
    },
    {
     "name": "stdout",
     "output_type": "stream",
     "text": [
      "81/81 [==============================] - 1s 8ms/step - loss: 0.0012 - mae: 0.0278 - mse: 0.0012 - val_loss: 0.0043 - val_mae: 0.0496 - val_mse: 0.0043\n",
      "Epoch 88/100\n",
      "75/81 [==========================>...] - ETA: 0s - loss: 0.0012 - mae: 0.0270 - mse: 0.0012"
     ]
    },
    {
     "name": "stderr",
     "output_type": "stream",
     "text": [
      "WARNING:tensorflow:Can save best model only with val_mean_squared_error available, skipping.\n"
     ]
    },
    {
     "name": "stdout",
     "output_type": "stream",
     "text": [
      "81/81 [==============================] - 1s 9ms/step - loss: 0.0012 - mae: 0.0269 - mse: 0.0012 - val_loss: 0.0049 - val_mae: 0.0525 - val_mse: 0.0049\n",
      "Epoch 89/100\n",
      "76/81 [===========================>..] - ETA: 0s - loss: 0.0011 - mae: 0.0257 - mse: 0.0011"
     ]
    },
    {
     "name": "stderr",
     "output_type": "stream",
     "text": [
      "WARNING:tensorflow:Can save best model only with val_mean_squared_error available, skipping.\n"
     ]
    },
    {
     "name": "stdout",
     "output_type": "stream",
     "text": [
      "81/81 [==============================] - 1s 8ms/step - loss: 0.0011 - mae: 0.0257 - mse: 0.0011 - val_loss: 0.0060 - val_mae: 0.0568 - val_mse: 0.0060\n",
      "Epoch 90/100\n",
      "75/81 [==========================>...] - ETA: 0s - loss: 0.0012 - mae: 0.0266 - mse: 0.0012"
     ]
    },
    {
     "name": "stderr",
     "output_type": "stream",
     "text": [
      "WARNING:tensorflow:Can save best model only with val_mean_squared_error available, skipping.\n"
     ]
    },
    {
     "name": "stdout",
     "output_type": "stream",
     "text": [
      "81/81 [==============================] - 1s 8ms/step - loss: 0.0012 - mae: 0.0267 - mse: 0.0012 - val_loss: 0.0028 - val_mae: 0.0403 - val_mse: 0.0028\n",
      "Epoch 91/100\n",
      "79/81 [============================>.] - ETA: 0s - loss: 0.0011 - mae: 0.0257 - mse: 0.0011"
     ]
    },
    {
     "name": "stderr",
     "output_type": "stream",
     "text": [
      "WARNING:tensorflow:Can save best model only with val_mean_squared_error available, skipping.\n"
     ]
    },
    {
     "name": "stdout",
     "output_type": "stream",
     "text": [
      "81/81 [==============================] - 1s 8ms/step - loss: 0.0011 - mae: 0.0257 - mse: 0.0011 - val_loss: 0.0043 - val_mae: 0.0493 - val_mse: 0.0043\n",
      "Epoch 92/100\n",
      "77/81 [===========================>..] - ETA: 0s - loss: 0.0011 - mae: 0.0266 - mse: 0.0011"
     ]
    },
    {
     "name": "stderr",
     "output_type": "stream",
     "text": [
      "WARNING:tensorflow:Can save best model only with val_mean_squared_error available, skipping.\n"
     ]
    },
    {
     "name": "stdout",
     "output_type": "stream",
     "text": [
      "81/81 [==============================] - 1s 8ms/step - loss: 0.0011 - mae: 0.0265 - mse: 0.0011 - val_loss: 0.0038 - val_mae: 0.0489 - val_mse: 0.0038\n",
      "Epoch 93/100\n",
      "77/81 [===========================>..] - ETA: 0s - loss: 0.0011 - mae: 0.0257 - mse: 0.0011"
     ]
    },
    {
     "name": "stderr",
     "output_type": "stream",
     "text": [
      "WARNING:tensorflow:Can save best model only with val_mean_squared_error available, skipping.\n"
     ]
    },
    {
     "name": "stdout",
     "output_type": "stream",
     "text": [
      "81/81 [==============================] - 1s 8ms/step - loss: 0.0011 - mae: 0.0256 - mse: 0.0011 - val_loss: 0.0045 - val_mae: 0.0526 - val_mse: 0.0045\n",
      "Epoch 94/100\n",
      "80/81 [============================>.] - ETA: 0s - loss: 0.0011 - mae: 0.0260 - mse: 0.0011"
     ]
    },
    {
     "name": "stderr",
     "output_type": "stream",
     "text": [
      "WARNING:tensorflow:Can save best model only with val_mean_squared_error available, skipping.\n"
     ]
    },
    {
     "name": "stdout",
     "output_type": "stream",
     "text": [
      "81/81 [==============================] - 1s 9ms/step - loss: 0.0011 - mae: 0.0260 - mse: 0.0011 - val_loss: 0.0071 - val_mae: 0.0645 - val_mse: 0.0071\n",
      "Epoch 95/100\n",
      "79/81 [============================>.] - ETA: 0s - loss: 0.0018 - mae: 0.0319 - mse: 0.0018"
     ]
    },
    {
     "name": "stderr",
     "output_type": "stream",
     "text": [
      "WARNING:tensorflow:Can save best model only with val_mean_squared_error available, skipping.\n"
     ]
    },
    {
     "name": "stdout",
     "output_type": "stream",
     "text": [
      "81/81 [==============================] - 1s 8ms/step - loss: 0.0018 - mae: 0.0318 - mse: 0.0018 - val_loss: 0.0039 - val_mae: 0.0467 - val_mse: 0.0039\n",
      "Epoch 96/100\n",
      "78/81 [===========================>..] - ETA: 0s - loss: 0.0012 - mae: 0.0271 - mse: 0.0012"
     ]
    },
    {
     "name": "stderr",
     "output_type": "stream",
     "text": [
      "WARNING:tensorflow:Can save best model only with val_mean_squared_error available, skipping.\n"
     ]
    },
    {
     "name": "stdout",
     "output_type": "stream",
     "text": [
      "81/81 [==============================] - 1s 8ms/step - loss: 0.0012 - mae: 0.0272 - mse: 0.0012 - val_loss: 0.0036 - val_mae: 0.0471 - val_mse: 0.0036\n",
      "Epoch 97/100\n",
      "74/81 [==========================>...] - ETA: 0s - loss: 0.0010 - mae: 0.0250 - mse: 0.0010"
     ]
    },
    {
     "name": "stderr",
     "output_type": "stream",
     "text": [
      "WARNING:tensorflow:Can save best model only with val_mean_squared_error available, skipping.\n"
     ]
    },
    {
     "name": "stdout",
     "output_type": "stream",
     "text": [
      "81/81 [==============================] - 1s 9ms/step - loss: 0.0010 - mae: 0.0251 - mse: 0.0010 - val_loss: 0.0054 - val_mae: 0.0591 - val_mse: 0.0054\n",
      "Epoch 98/100\n",
      "74/81 [==========================>...] - ETA: 0s - loss: 0.0010 - mae: 0.0251 - mse: 0.0010"
     ]
    },
    {
     "name": "stderr",
     "output_type": "stream",
     "text": [
      "WARNING:tensorflow:Can save best model only with val_mean_squared_error available, skipping.\n"
     ]
    },
    {
     "name": "stdout",
     "output_type": "stream",
     "text": [
      "81/81 [==============================] - 1s 8ms/step - loss: 0.0010 - mae: 0.0252 - mse: 0.0010 - val_loss: 0.0054 - val_mae: 0.0554 - val_mse: 0.0054\n",
      "Epoch 99/100\n",
      "76/81 [===========================>..] - ETA: 0s - loss: 0.0011 - mae: 0.0256 - mse: 0.0011"
     ]
    },
    {
     "name": "stderr",
     "output_type": "stream",
     "text": [
      "WARNING:tensorflow:Can save best model only with val_mean_squared_error available, skipping.\n"
     ]
    },
    {
     "name": "stdout",
     "output_type": "stream",
     "text": [
      "81/81 [==============================] - 1s 8ms/step - loss: 0.0011 - mae: 0.0257 - mse: 0.0011 - val_loss: 0.0050 - val_mae: 0.0559 - val_mse: 0.0050\n",
      "Epoch 100/100\n",
      "76/81 [===========================>..] - ETA: 0s - loss: 0.0013 - mae: 0.0282 - mse: 0.0013"
     ]
    },
    {
     "name": "stderr",
     "output_type": "stream",
     "text": [
      "WARNING:tensorflow:Can save best model only with val_mean_squared_error available, skipping.\n"
     ]
    },
    {
     "name": "stdout",
     "output_type": "stream",
     "text": [
      "81/81 [==============================] - 1s 8ms/step - loss: 0.0013 - mae: 0.0280 - mse: 0.0013 - val_loss: 0.0056 - val_mae: 0.0629 - val_mse: 0.0056\n"
     ]
    }
   ],
   "source": [
    "from keras.callbacks import ModelCheckpoint\n",
    "checkpoint = ModelCheckpoint(\"weights.best.hdf5\", monitor='val_mean_squared_error', verbose=1, save_best_only=True, mode='min')\n",
    "\n",
    "callbacks_list = [checkpoint]\n",
    "history = model.fit(X_train, y_train, epochs=100, batch_size=64, verbose=1, callbacks=callbacks_list, validation_split=0.1)"
   ]
  },
  {
   "cell_type": "code",
   "execution_count": 25,
   "id": "520a7400",
   "metadata": {
    "colab": {
     "base_uri": "https://localhost:8080/",
     "height": 851
    },
    "executionInfo": {
     "elapsed": 306,
     "status": "ok",
     "timestamp": 1670204129348,
     "user": {
      "displayName": "Emam Hossain",
      "userId": "00475912484380842878"
     },
     "user_tz": 300
    },
    "id": "520a7400",
    "outputId": "86044b2a-ca8a-484b-d0ef-0e5d9b953ccd"
   },
   "outputs": [
    {
     "data": {
      "image/png": "[encoded data removed]",
      "text/plain": [
       "<Figure size 432x288 with 1 Axes>"
      ]
     },
     "metadata": {
      "needs_background": "light"
     },
     "output_type": "display_data"
    },
    {
     "data": {
      "image/png": "[encoded data removed]",
      "text/plain": [
       "<Figure size 432x288 with 1 Axes>"
      ]
     },
     "metadata": {
      "needs_background": "light"
     },
     "output_type": "display_data"
    },
    {
     "data": {
      "image/png": "[encoded data removed]",
      "text/plain": [
       "<Figure size 432x288 with 1 Axes>"
      ]
     },
     "metadata": {
      "needs_background": "light"
     },
     "output_type": "display_data"
    }
   ],
   "source": [
    "plt.plot(history.history['mse'])\n",
    "plt.plot(history.history['val_mse'])\n",
    "plt.title('Mean Squared Error of SIE Prediction')\n",
    "plt.ylabel('MSE')\n",
    "plt.xlabel('Epoch')\n",
    "plt.legend(['train', 'validation'], loc='upper right')\n",
    "plt.show()\n",
    "\n",
    "plt.plot(history.history['mae'])\n",
    "plt.plot(history.history['val_mae'])\n",
    "plt.title('Mean Absolute Error of SIE Prediction')\n",
    "plt.ylabel('MAE')\n",
    "plt.xlabel('Epoch')\n",
    "plt.legend(['train', 'validation'], loc='upper right')\n",
    "plt.show()\n",
    "\n",
    "plt.plot(history.history['loss'])\n",
    "plt.plot(history.history['val_loss'])\n",
    "plt.title('Loss of SIE Prediction')\n",
    "plt.ylabel('Loss')\n",
    "plt.xlabel('Epoch')\n",
    "plt.legend(['train', 'validation'], loc='upper right')\n",
    "plt.show()"
   ]
  },
  {
   "cell_type": "code",
   "execution_count": 26,
   "id": "733c794b",
   "metadata": {
    "colab": {
     "base_uri": "https://localhost:8080/"
    },
    "executionInfo": {
     "elapsed": 1550,
     "status": "ok",
     "timestamp": 1670204130896,
     "user": {
      "displayName": "Emam Hossain",
      "userId": "00475912484380842878"
     },
     "user_tz": 300
    },
    "id": "733c794b",
    "outputId": "be15a1ba-dc1f-4775-b196-1c6e6e054f1c"
   },
   "outputs": [
    {
     "name": "stdout",
     "output_type": "stream",
     "text": [
      "45/45 [==============================] - 1s 3ms/step\n"
     ]
    }
   ],
   "source": [
    "from sklearn.metrics import mean_squared_error, mean_absolute_error, mean_absolute_percentage_error, r2_score\n",
    "from numpy import sqrt\n",
    "\n",
    "#model.load_weights(\"weights.best.hdf5\")\n",
    "\n",
    "cols = len(df.columns)\n",
    "pred = model.predict(X_test)\n",
    "\n",
    "predicted_dataset = dataset\n",
    "predicted_dataset[len(predicted_dataset)-len(pred):, cols-1] = pred[:, 0]\n",
    "scaled_predicted_dataset = scaler.inverse_transform(predicted_dataset)\n",
    "\n",
    "predicted_df = df.copy()\n",
    "predicted_df['sea_ice_extent'][len(predicted_dataset)-len(pred):] = scaled_predicted_dataset[len(predicted_dataset)-len(pred):, cols-1]\n",
    "\n",
    "predictions = pd.DataFrame()\n",
    "predictions['predicted'] = (predicted_df['sea_ice_extent'][len(predicted_dataset)-len(pred):])\n",
    "predictions['actual'] = (df['sea_ice_extent'][len(predicted_dataset)-len(pred):])\n",
    "predictions = predictions.astype(float)"
   ]
  },
  {
   "cell_type": "code",
   "execution_count": 27,
   "id": "3c545246",
   "metadata": {
    "colab": {
     "base_uri": "https://localhost:8080/",
     "height": 1000
    },
    "executionInfo": {
     "elapsed": 395,
     "status": "ok",
     "timestamp": 1670204131287,
     "user": {
      "displayName": "Emam Hossain",
      "userId": "00475912484380842878"
     },
     "user_tz": 300
    },
    "id": "3c545246",
    "outputId": "43c24137-e2dd-4d4c-9bd3-5cd12440e099"
   },
   "outputs": [
    {
     "data": {
      "image/png": "[encoded data removed]",
      "text/plain": [
       "<Figure size 1152x432 with 1 Axes>"
      ]
     },
     "metadata": {
      "needs_background": "light"
     },
     "output_type": "display_data"
    },
    {
     "data": {
      "image/png": "[encoded data removed]",
      "text/plain": [
       "<Figure size 720x720 with 1 Axes>"
      ]
     },
     "metadata": {
      "needs_background": "light"
     },
     "output_type": "display_data"
    },
    {
     "name": "stdout",
     "output_type": "stream",
     "text": [
      "MSE :  1644300877355.4019 (10⁶ km²)\n",
      "MSPE : 4.335544679980473 %\n",
      "RMSE :  1282302.958491246 (10⁶ km²)\n",
      "RMSPE : 20.821970800047897 %\n",
      "MAE :  933500.7442186405 (10⁶ km²)\n",
      "MAPE :  10.29374489271814 %\n",
      "R2 :  0.7843303735432314\n"
     ]
    }
   ],
   "source": [
    "plt.figure(figsize = (16,6))\n",
    "ax = plt.axes()\n",
    "# ax.set_facecolor('#dcdcdc')\n",
    "\n",
    "plt.title('Arctic Sea Ice Extent Actual vs Prediction Curve for Test Data', fontsize = 20,fontweight = \"bold\")\n",
    "plt.xlabel('Time' , fontsize = 14,fontweight = \"bold\")\n",
    "plt.ylabel('Sea Ice Extent (10\\u2076 km\\u00b2)', fontsize = 14,fontweight = \"bold\")\n",
    "plt.plot(predictions['actual']/10**6, 'blue', label='Actual SIE')\n",
    "plt.plot(predictions['predicted']/10**6, 'red', label='Predicted SIE')\n",
    "plt.legend()\n",
    "plt.grid()\n",
    "plt.show\n",
    "\n",
    "predictions['diff'] = predictions['predicted'] - predictions['actual']\n",
    "plt.figure(figsize=(10,10))\n",
    "plt.xlabel('Difference between actual and predicted SIE (10\\u2076 km\\u00b2)')\n",
    "sns.histplot(predictions['diff'])\n",
    "plt.title('Distribution of differences between actual and predicted SIE')\n",
    "plt.show()\n",
    "\n",
    "mspe = (np.mean(np.square((predictions['actual'].values - predictions['predicted'].values) / predictions['actual'].values))) * 100\n",
    "rmspe = (np.sqrt(np.mean(np.square((predictions['actual'].values - predictions['predicted'].values) / predictions['actual'].values)))) * 100\n",
    "\n",
    "print(\"MSE : \", mean_squared_error(predictions['predicted'].values, predictions['actual'].values), \"(10\\u2076 km\\u00b2)\")\n",
    "print(\"MSPE :\", mspe, \"%\")\n",
    "print(\"RMSE : \", sqrt(mean_squared_error(predictions['predicted'].values, predictions['actual'].values)), \"(10\\u2076 km\\u00b2)\")\n",
    "print(\"RMSPE :\", rmspe, \"%\")\n",
    "print(\"MAE : \", mean_absolute_error(predictions['predicted'].values, predictions['actual'].values), \"(10\\u2076 km\\u00b2)\")\n",
    "print(\"MAPE : \", mean_absolute_percentage_error(predictions['predicted'].values, predictions['actual'].values)*100, \"%\")\n",
    "print(\"R2 : \", r2_score(predictions['predicted'].values, predictions['actual'].values))"
   ]
  },
  {
   "cell_type": "code",
   "execution_count": 28,
   "id": "3f3aaf6d",
   "metadata": {
    "executionInfo": {
     "elapsed": 5,
     "status": "ok",
     "timestamp": 1670204131287,
     "user": {
      "displayName": "Emam Hossain",
      "userId": "00475912484380842878"
     },
     "user_tz": 300
    },
    "id": "3f3aaf6d"
   },
   "outputs": [],
   "source": [
    "# while True:pass"
   ]
  }
 ],
 "metadata": {
  "accelerator": "GPU",
  "colab": {
   "provenance": [
    {
     "file_id": "13XJ9sbcsOPdQwhCKfhR2zFAAfI1OwjtN",
     "timestamp": 1670202530322
    },
    {
     "file_id": "1FChDhPH3bJ7lz4JeYs8kmn3SC6Dfjo0e",
     "timestamp": 1670202513352
    },
    {
     "file_id": "1-7H4zTP8Obgm9UpeXrth907b5kWN0SCA",
     "timestamp": 1670202496403
    },
    {
     "file_id": "152YHWqSd0O1EC66rovTZWcu7Jk-6espl",
     "timestamp": 1670202211776
    },
    {
     "file_id": "1tsdSY4XF8dbRdNGZQhWw6nd--RLFP4EX",
     "timestamp": 1670202049252
    },
    {
     "file_id": "1L3ixnLeRDivuLSWCq04VtDKnU7YIw_C7",
     "timestamp": 1670201891016
    },
    {
     "file_id": "1VJInZTaupyMxQ6JprjJi2D6639FmXJ-t",
     "timestamp": 1670201115947
    },
    {
     "file_id": "1f-ct_NOq__M1QDGjYMyualvRlVNWtnum",
     "timestamp": 1670201096560
    },
    {
     "file_id": "1S71KBLYU9q_J7PpD1i3PdHnejHsyHk2A",
     "timestamp": 1670201029903
    },
    {
     "file_id": "1ZW2CDeL2Z4e4d7GVtf1CCEU8ioKr_ozr",
     "timestamp": 1670200993047
    },
    {
     "file_id": "11ezPDxEfETgGwyGSoqr5wscr_t65bvL6",
     "timestamp": 1669223899169
    },
    {
     "file_id": "https://github.com/ehfahad/SIE-Prediction-using-Causal-Deep-Learning/blob/main/Models/SIE%20Prediction%20(1-day%20lead)%20upto%202014%20with%20day%2C%20week%2C%20month.ipynb",
     "timestamp": 1666883273850
    }
   ]
  },
  "gpuClass": "standard",
  "kernelspec": {
   "display_name": "Python 3 (ipykernel)",
   "language": "python",
   "name": "python3"
  },
  "language_info": {
   "codemirror_mode": {
    "name": "ipython",
    "version": 3
   },
   "file_extension": ".py",
   "mimetype": "text/x-python",
   "name": "python",
   "nbconvert_exporter": "python",
   "pygments_lexer": "ipython3",
   "version": "3.8.15"
  },
  "varInspector": {
   "cols": {
    "lenName": 16,
    "lenType": 16,
    "lenVar": 40
   },
   "kernels_config": {
    "python": {
     "delete_cmd_postfix": "",
     "delete_cmd_prefix": "del ",
     "library": "var_list.py",
     "varRefreshCmd": "print(var_dic_list())"
    },
    "r": {
     "delete_cmd_postfix": ") ",
     "delete_cmd_prefix": "rm(",
     "library": "var_list.r",
     "varRefreshCmd": "cat(var_dic_list()) "
    }
   },
   "position": {
    "height": "417.844px",
    "left": "1538px",
    "right": "20px",
    "top": "131px",
    "width": "350px"
   },
   "types_to_exclude": [
    "module",
    "function",
    "builtin_function_or_method",
    "instance",
    "_Feature"
   ],
   "window_display": true
  }
 },
 "nbformat": 4,
 "nbformat_minor": 5
}
