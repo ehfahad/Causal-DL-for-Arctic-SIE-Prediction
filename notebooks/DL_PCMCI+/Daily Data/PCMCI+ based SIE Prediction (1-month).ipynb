{
 "cells": [
  {
   "cell_type": "code",
   "execution_count": 1,
   "id": "1507a9c1",
   "metadata": {
    "executionInfo": {
     "elapsed": 2709,
     "status": "ok",
     "timestamp": 1670204572574,
     "user": {
      "displayName": "Emam Hossain",
      "userId": "00475912484380842878"
     },
     "user_tz": 300
    },
    "id": "1507a9c1"
   },
   "outputs": [],
   "source": [
    "import numpy as np\n",
    "import pandas as pd\n",
    "import matplotlib.pyplot as plt\n",
    "import seaborn as sns\n",
    "from sklearn.preprocessing import MinMaxScaler"
   ]
  },
  {
   "cell_type": "code",
   "execution_count": 2,
   "id": "ZkC-CdqrYGLW",
   "metadata": {
    "executionInfo": {
     "elapsed": 6,
     "status": "ok",
     "timestamp": 1670204572575,
     "user": {
      "displayName": "Emam Hossain",
      "userId": "00475912484380842878"
     },
     "user_tz": 300
    },
    "id": "ZkC-CdqrYGLW"
   },
   "outputs": [],
   "source": [
    "# global variables\n",
    "\n",
    "look_back = 21\n",
    "lead_time = 30\n",
    "filename = '../../../data/Arctic_domain_mean_1979_2018 - Curated.csv'\n",
    "pcmciplus_features = ['LW_down', 'snowfall', 'sst', 'sosaline', 'surface_pressure', 'sea_ice_extent']"
   ]
  },
  {
   "cell_type": "code",
   "execution_count": 3,
   "id": "zlPFdfw7F9-_",
   "metadata": {
    "colab": {
     "base_uri": "https://localhost:8080/",
     "height": 562
    },
    "executionInfo": {
     "elapsed": 10402,
     "status": "ok",
     "timestamp": 1670204582972,
     "user": {
      "displayName": "Emam Hossain",
      "userId": "00475912484380842878"
     },
     "user_tz": 300
    },
    "id": "zlPFdfw7F9-_",
    "outputId": "04b5b59b-84b0-4b72-fce7-e1106bf529fe"
   },
   "outputs": [
    {
     "data": {
      "text/html": [
       "<div>\n",
       "<style scoped>\n",
       "    .dataframe tbody tr th:only-of-type {\n",
       "        vertical-align: middle;\n",
       "    }\n",
       "\n",
       "    .dataframe tbody tr th {\n",
       "        vertical-align: top;\n",
       "    }\n",
       "\n",
       "    .dataframe thead th {\n",
       "        text-align: right;\n",
       "    }\n",
       "</style>\n",
       "<table border=\"1\" class=\"dataframe\">\n",
       "  <thead>\n",
       "    <tr style=\"text-align: right;\">\n",
       "      <th></th>\n",
       "      <th>Day</th>\n",
       "      <th>wind_10m</th>\n",
       "      <th>specific_humidity</th>\n",
       "      <th>LW_down</th>\n",
       "      <th>SW_down</th>\n",
       "      <th>rainfall</th>\n",
       "      <th>snowfall</th>\n",
       "      <th>sosaline</th>\n",
       "      <th>sst</th>\n",
       "      <th>t2m</th>\n",
       "      <th>surface_pressure</th>\n",
       "      <th>sea_ice_extent</th>\n",
       "    </tr>\n",
       "  </thead>\n",
       "  <tbody>\n",
       "    <tr>\n",
       "      <th>7305</th>\n",
       "      <td>1/1/1999</td>\n",
       "      <td>4.987515</td>\n",
       "      <td>0.891843</td>\n",
       "      <td>183.786092</td>\n",
       "      <td>1.120906</td>\n",
       "      <td>0.700735</td>\n",
       "      <td>0.501109</td>\n",
       "      <td>33.316996</td>\n",
       "      <td>273.467869</td>\n",
       "      <td>250.884060</td>\n",
       "      <td>985.112721</td>\n",
       "      <td>13823248</td>\n",
       "    </tr>\n",
       "    <tr>\n",
       "      <th>7306</th>\n",
       "      <td>1/2/1999</td>\n",
       "      <td>5.075952</td>\n",
       "      <td>0.905535</td>\n",
       "      <td>183.851814</td>\n",
       "      <td>1.193514</td>\n",
       "      <td>0.712730</td>\n",
       "      <td>0.482221</td>\n",
       "      <td>33.316996</td>\n",
       "      <td>273.453826</td>\n",
       "      <td>250.359328</td>\n",
       "      <td>984.092282</td>\n",
       "      <td>13885522</td>\n",
       "    </tr>\n",
       "    <tr>\n",
       "      <th>7307</th>\n",
       "      <td>1/3/1999</td>\n",
       "      <td>4.931520</td>\n",
       "      <td>0.911672</td>\n",
       "      <td>184.426913</td>\n",
       "      <td>1.263909</td>\n",
       "      <td>0.677339</td>\n",
       "      <td>0.480718</td>\n",
       "      <td>33.316996</td>\n",
       "      <td>273.454385</td>\n",
       "      <td>250.327500</td>\n",
       "      <td>982.300080</td>\n",
       "      <td>13884279</td>\n",
       "    </tr>\n",
       "    <tr>\n",
       "      <th>7308</th>\n",
       "      <td>1/4/1999</td>\n",
       "      <td>4.761644</td>\n",
       "      <td>0.911301</td>\n",
       "      <td>187.528326</td>\n",
       "      <td>1.269229</td>\n",
       "      <td>0.824016</td>\n",
       "      <td>0.697950</td>\n",
       "      <td>33.316996</td>\n",
       "      <td>273.459797</td>\n",
       "      <td>249.905730</td>\n",
       "      <td>983.250565</td>\n",
       "      <td>13912624</td>\n",
       "    </tr>\n",
       "    <tr>\n",
       "      <th>7309</th>\n",
       "      <td>1/5/1999</td>\n",
       "      <td>4.739850</td>\n",
       "      <td>0.901353</td>\n",
       "      <td>187.326709</td>\n",
       "      <td>1.552208</td>\n",
       "      <td>0.926681</td>\n",
       "      <td>0.835868</td>\n",
       "      <td>33.316996</td>\n",
       "      <td>273.463975</td>\n",
       "      <td>250.254873</td>\n",
       "      <td>984.247389</td>\n",
       "      <td>13890148</td>\n",
       "    </tr>\n",
       "  </tbody>\n",
       "</table>\n",
       "</div>"
      ],
      "text/plain": [
       "           Day  wind_10m  specific_humidity     LW_down   SW_down  rainfall  \\\n",
       "7305  1/1/1999  4.987515           0.891843  183.786092  1.120906  0.700735   \n",
       "7306  1/2/1999  5.075952           0.905535  183.851814  1.193514  0.712730   \n",
       "7307  1/3/1999  4.931520           0.911672  184.426913  1.263909  0.677339   \n",
       "7308  1/4/1999  4.761644           0.911301  187.528326  1.269229  0.824016   \n",
       "7309  1/5/1999  4.739850           0.901353  187.326709  1.552208  0.926681   \n",
       "\n",
       "      snowfall   sosaline         sst         t2m  surface_pressure  \\\n",
       "7305  0.501109  33.316996  273.467869  250.884060        985.112721   \n",
       "7306  0.482221  33.316996  273.453826  250.359328        984.092282   \n",
       "7307  0.480718  33.316996  273.454385  250.327500        982.300080   \n",
       "7308  0.697950  33.316996  273.459797  249.905730        983.250565   \n",
       "7309  0.835868  33.316996  273.463975  250.254873        984.247389   \n",
       "\n",
       "      sea_ice_extent  \n",
       "7305        13823248  \n",
       "7306        13885522  \n",
       "7307        13884279  \n",
       "7308        13912624  \n",
       "7309        13890148  "
      ]
     },
     "execution_count": 3,
     "metadata": {},
     "output_type": "execute_result"
    }
   ],
   "source": [
    "# from google.colab import files\n",
    "# import io\n",
    "\n",
    "# uploaded = files.upload()\n",
    "# df = pd.read_csv(io.BytesIO(uploaded[filename]))\n",
    "# df = df[7305:]\n",
    "# df\n",
    "\n",
    "# Reading the dataset\n",
    "df = pd.read_csv(filename)\n",
    "df = df[7305:]\n",
    "df.head()"
   ]
  },
  {
   "cell_type": "code",
   "execution_count": 4,
   "id": "683fdbc4",
   "metadata": {
    "executionInfo": {
     "elapsed": 219,
     "status": "ok",
     "timestamp": 1670204583188,
     "user": {
      "displayName": "Emam Hossain",
      "userId": "00475912484380842878"
     },
     "user_tz": 300
    },
    "id": "683fdbc4"
   },
   "outputs": [],
   "source": [
    "df['Day'] = pd.to_datetime(df['Day'], infer_datetime_format=True)\n",
    "df.set_index('Day', inplace=True)\n",
    "df = df.astype(float)                 # cast df to float\n",
    "df = df[pcmciplus_features]\n",
    "# df.tail(len(df))"
   ]
  },
  {
   "cell_type": "code",
   "execution_count": 5,
   "id": "e5014c30",
   "metadata": {
    "executionInfo": {
     "elapsed": 5,
     "status": "ok",
     "timestamp": 1670204583189,
     "user": {
      "displayName": "Emam Hossain",
      "userId": "00475912484380842878"
     },
     "user_tz": 300
    },
    "id": "e5014c30"
   },
   "outputs": [],
   "source": [
    "def create_model_data (dataset, look_back, lead_time):\n",
    "    dataX, dataY = [], []\n",
    "    \n",
    "    for i in range(len(dataset)-look_back-lead_time):\n",
    "        a = dataset[i:(i+look_back)]\n",
    "        dataX.append(a)\n",
    "        dataY.append(dataset[i + look_back + (lead_time-1)])\n",
    "    return np.array(dataX), np.array(dataY)"
   ]
  },
  {
   "cell_type": "code",
   "execution_count": 6,
   "id": "c1aaa5e4",
   "metadata": {
    "executionInfo": {
     "elapsed": 5,
     "status": "ok",
     "timestamp": 1670204583190,
     "user": {
      "displayName": "Emam Hossain",
      "userId": "00475912484380842878"
     },
     "user_tz": 300
    },
    "id": "c1aaa5e4",
    "scrolled": true
   },
   "outputs": [],
   "source": [
    "target_index = df.columns.tolist().index('sea_ice_extent')\n",
    "\n",
    "dataset = df.values.astype('float32')               # DataFrame converted to Numpy Array\n",
    "\n",
    "scaler = MinMaxScaler(feature_range=(0, 1))\n",
    "dataset = scaler.fit_transform(dataset)\n",
    "\n",
    "X, y = create_model_data (dataset, look_back=look_back, lead_time=lead_time)\n",
    "y = y[:,target_index]"
   ]
  },
  {
   "cell_type": "code",
   "execution_count": 7,
   "id": "KGbRA39Br3S9",
   "metadata": {
    "executionInfo": {
     "elapsed": 164,
     "status": "ok",
     "timestamp": 1670204583349,
     "user": {
      "displayName": "Emam Hossain",
      "userId": "00475912484380842878"
     },
     "user_tz": 300
    },
    "id": "KGbRA39Br3S9"
   },
   "outputs": [],
   "source": [
    "from sklearn.model_selection import train_test_split\n",
    "\n",
    "X_train, X_test, y_train, y_test = train_test_split(X, y, test_size=0.2, shuffle=False)"
   ]
  },
  {
   "cell_type": "code",
   "execution_count": 8,
   "id": "9405d356",
   "metadata": {
    "colab": {
     "base_uri": "https://localhost:8080/",
     "height": 305
    },
    "executionInfo": {
     "elapsed": 790,
     "status": "ok",
     "timestamp": 1670204584138,
     "user": {
      "displayName": "Emam Hossain",
      "userId": "00475912484380842878"
     },
     "user_tz": 300
    },
    "id": "9405d356",
    "outputId": "3a5628b3-1149-4b6a-b50f-39ce7cd1314e"
   },
   "outputs": [
    {
     "data": {
      "text/plain": [
       "<function matplotlib.pyplot.show(*args, **kw)>"
      ]
     },
     "execution_count": 8,
     "metadata": {},
     "output_type": "execute_result"
    },
    {
     "data": {
      "image/png": "[encoded data removed]",
      "text/plain": [
       "<Figure size 1152x432 with 1 Axes>"
      ]
     },
     "metadata": {
      "needs_background": "light"
     },
     "output_type": "display_data"
    }
   ],
   "source": [
    "plt.figure(figsize = (16,6))\n",
    "ax = plt.axes()\n",
    "# ax.set_facecolor('#dcdcdc')\n",
    "\n",
    "plt.title('Arctic Sea Ice Extent Trend from 1979-2018', fontsize = 20,fontweight = \"bold\")\n",
    "plt.xlabel('Time' , fontsize = 14,fontweight = \"bold\")\n",
    "plt.ylabel('Sea Ice Extent (10\\u2076 km\\u00b2)', fontsize = 14,fontweight = \"bold\")\n",
    "plt.plot(df['sea_ice_extent'][:len(df)-len(y_test)]/10**6, 'blue', label='Training Data')\n",
    "plt.plot(df['sea_ice_extent'][len(df)-len(y_test):]/10**6, 'red', label='Testing Data')\n",
    "plt.legend()\n",
    "plt.grid()\n",
    "plt.show"
   ]
  },
  {
   "cell_type": "code",
   "execution_count": 9,
   "id": "86f5e0f3",
   "metadata": {
    "colab": {
     "base_uri": "https://localhost:8080/"
    },
    "executionInfo": {
     "elapsed": 13703,
     "status": "ok",
     "timestamp": 1670204597838,
     "user": {
      "displayName": "Emam Hossain",
      "userId": "00475912484380842878"
     },
     "user_tz": 300
    },
    "id": "86f5e0f3",
    "outputId": "de271bfb-2fb3-4dc0-d577-80106edb6b6b"
   },
   "outputs": [
    {
     "name": "stdout",
     "output_type": "stream",
     "text": [
      "Model: \"sequential\"\n",
      "_________________________________________________________________\n",
      " Layer (type)                Output Shape              Param #   \n",
      "=================================================================\n",
      " gru (GRU)                   (None, 21, 64)            13824     \n",
      "                                                                 \n",
      " dropout (Dropout)           (None, 21, 64)            0         \n",
      "                                                                 \n",
      " lstm (LSTM)                 (None, 128)               98816     \n",
      "                                                                 \n",
      " dropout_1 (Dropout)         (None, 128)               0         \n",
      "                                                                 \n",
      " dense (Dense)               (None, 64)                8256      \n",
      "                                                                 \n",
      " dense_1 (Dense)             (None, 1)                 65        \n",
      "                                                                 \n",
      "=================================================================\n",
      "Total params: 120,961\n",
      "Trainable params: 120,961\n",
      "Non-trainable params: 0\n",
      "_________________________________________________________________\n",
      "None\n"
     ]
    }
   ],
   "source": [
    "from keras.models import Sequential\n",
    "from keras.layers import Dense, Dropout, Activation, Input, LSTM, GRU, Dense\n",
    "\n",
    "input_shape=(X.shape[1], X.shape[2])\n",
    "\n",
    "model = Sequential()\n",
    "model.add(GRU(64, input_shape=(X.shape[1], X.shape[2]), return_sequences=True))\n",
    "model.add(Dropout(0.2))\n",
    "\n",
    "model.add(LSTM(128))\n",
    "model.add(Dropout(0.2))\n",
    "\n",
    "model.add(Dense(64 ,  activation = 'relu'))\n",
    "model.add(Dense(1))\n",
    "\n",
    "model.compile(loss='mean_squared_error', optimizer='adam', metrics=['mae', 'mse'])\n",
    "print(model.summary())"
   ]
  },
  {
   "cell_type": "code",
   "execution_count": 10,
   "id": "8a6be2cb",
   "metadata": {
    "colab": {
     "base_uri": "https://localhost:8080/"
    },
    "executionInfo": {
     "elapsed": 86774,
     "status": "ok",
     "timestamp": 1670204684602,
     "user": {
      "displayName": "Emam Hossain",
      "userId": "00475912484380842878"
     },
     "user_tz": 300
    },
    "id": "8a6be2cb",
    "outputId": "bbca7157-d4f8-4408-e3a7-25de1003aa50",
    "scrolled": true
   },
   "outputs": [
    {
     "name": "stdout",
     "output_type": "stream",
     "text": [
      "Epoch 1/100\n",
      "76/82 [==========================>...] - ETA: 0s - loss: 0.0382 - mae: 0.1183 - mse: 0.0382"
     ]
    },
    {
     "name": "stderr",
     "output_type": "stream",
     "text": [
      "WARNING:tensorflow:Can save best model only with val_mean_squared_error available, skipping.\n"
     ]
    },
    {
     "name": "stdout",
     "output_type": "stream",
     "text": [
      "82/82 [==============================] - 11s 18ms/step - loss: 0.0359 - mae: 0.1139 - mse: 0.0359 - val_loss: 0.0024 - val_mae: 0.0422 - val_mse: 0.0024\n",
      "Epoch 2/100\n",
      "77/82 [===========================>..] - ETA: 0s - loss: 0.0041 - mae: 0.0509 - mse: 0.0041"
     ]
    },
    {
     "name": "stderr",
     "output_type": "stream",
     "text": [
      "WARNING:tensorflow:Can save best model only with val_mean_squared_error available, skipping.\n"
     ]
    },
    {
     "name": "stdout",
     "output_type": "stream",
     "text": [
      "82/82 [==============================] - 1s 8ms/step - loss: 0.0040 - mae: 0.0505 - mse: 0.0040 - val_loss: 0.0021 - val_mae: 0.0345 - val_mse: 0.0021\n",
      "Epoch 3/100\n",
      "82/82 [==============================] - ETA: 0s - loss: 0.0034 - mae: 0.0465 - mse: 0.0034"
     ]
    },
    {
     "name": "stderr",
     "output_type": "stream",
     "text": [
      "WARNING:tensorflow:Can save best model only with val_mean_squared_error available, skipping.\n"
     ]
    },
    {
     "name": "stdout",
     "output_type": "stream",
     "text": [
      "82/82 [==============================] - 1s 8ms/step - loss: 0.0034 - mae: 0.0465 - mse: 0.0034 - val_loss: 0.0016 - val_mae: 0.0341 - val_mse: 0.0016\n",
      "Epoch 4/100\n",
      "78/82 [===========================>..] - ETA: 0s - loss: 0.0030 - mae: 0.0434 - mse: 0.0030"
     ]
    },
    {
     "name": "stderr",
     "output_type": "stream",
     "text": [
      "WARNING:tensorflow:Can save best model only with val_mean_squared_error available, skipping.\n"
     ]
    },
    {
     "name": "stdout",
     "output_type": "stream",
     "text": [
      "82/82 [==============================] - 1s 8ms/step - loss: 0.0030 - mae: 0.0433 - mse: 0.0030 - val_loss: 0.0013 - val_mae: 0.0291 - val_mse: 0.0013\n",
      "Epoch 5/100\n",
      "78/82 [===========================>..] - ETA: 0s - loss: 0.0028 - mae: 0.0417 - mse: 0.0028"
     ]
    },
    {
     "name": "stderr",
     "output_type": "stream",
     "text": [
      "WARNING:tensorflow:Can save best model only with val_mean_squared_error available, skipping.\n"
     ]
    },
    {
     "name": "stdout",
     "output_type": "stream",
     "text": [
      "82/82 [==============================] - 1s 7ms/step - loss: 0.0028 - mae: 0.0416 - mse: 0.0028 - val_loss: 0.0012 - val_mae: 0.0284 - val_mse: 0.0012\n",
      "Epoch 6/100\n",
      "78/82 [===========================>..] - ETA: 0s - loss: 0.0025 - mae: 0.0402 - mse: 0.0025"
     ]
    },
    {
     "name": "stderr",
     "output_type": "stream",
     "text": [
      "WARNING:tensorflow:Can save best model only with val_mean_squared_error available, skipping.\n"
     ]
    },
    {
     "name": "stdout",
     "output_type": "stream",
     "text": [
      "82/82 [==============================] - 1s 8ms/step - loss: 0.0025 - mae: 0.0402 - mse: 0.0025 - val_loss: 0.0012 - val_mae: 0.0276 - val_mse: 0.0012\n",
      "Epoch 7/100\n",
      "78/82 [===========================>..] - ETA: 0s - loss: 0.0023 - mae: 0.0382 - mse: 0.0023"
     ]
    },
    {
     "name": "stderr",
     "output_type": "stream",
     "text": [
      "WARNING:tensorflow:Can save best model only with val_mean_squared_error available, skipping.\n"
     ]
    },
    {
     "name": "stdout",
     "output_type": "stream",
     "text": [
      "82/82 [==============================] - 1s 8ms/step - loss: 0.0023 - mae: 0.0383 - mse: 0.0023 - val_loss: 0.0015 - val_mae: 0.0318 - val_mse: 0.0015\n",
      "Epoch 8/100\n",
      "76/82 [==========================>...] - ETA: 0s - loss: 0.0023 - mae: 0.0380 - mse: 0.0023"
     ]
    },
    {
     "name": "stderr",
     "output_type": "stream",
     "text": [
      "WARNING:tensorflow:Can save best model only with val_mean_squared_error available, skipping.\n"
     ]
    },
    {
     "name": "stdout",
     "output_type": "stream",
     "text": [
      "82/82 [==============================] - 1s 8ms/step - loss: 0.0023 - mae: 0.0378 - mse: 0.0023 - val_loss: 0.0011 - val_mae: 0.0265 - val_mse: 0.0011\n",
      "Epoch 9/100\n",
      "77/82 [===========================>..] - ETA: 0s - loss: 0.0021 - mae: 0.0363 - mse: 0.0021"
     ]
    },
    {
     "name": "stderr",
     "output_type": "stream",
     "text": [
      "WARNING:tensorflow:Can save best model only with val_mean_squared_error available, skipping.\n"
     ]
    },
    {
     "name": "stdout",
     "output_type": "stream",
     "text": [
      "82/82 [==============================] - 1s 8ms/step - loss: 0.0021 - mae: 0.0364 - mse: 0.0021 - val_loss: 0.0010 - val_mae: 0.0262 - val_mse: 0.0010\n",
      "Epoch 10/100\n",
      "80/82 [============================>.] - ETA: 0s - loss: 0.0020 - mae: 0.0356 - mse: 0.0020"
     ]
    },
    {
     "name": "stderr",
     "output_type": "stream",
     "text": [
      "WARNING:tensorflow:Can save best model only with val_mean_squared_error available, skipping.\n"
     ]
    },
    {
     "name": "stdout",
     "output_type": "stream",
     "text": [
      "82/82 [==============================] - 1s 8ms/step - loss: 0.0020 - mae: 0.0356 - mse: 0.0020 - val_loss: 9.1104e-04 - val_mae: 0.0241 - val_mse: 9.1104e-04\n",
      "Epoch 11/100\n",
      "77/82 [===========================>..] - ETA: 0s - loss: 0.0018 - mae: 0.0341 - mse: 0.0018"
     ]
    },
    {
     "name": "stderr",
     "output_type": "stream",
     "text": [
      "WARNING:tensorflow:Can save best model only with val_mean_squared_error available, skipping.\n"
     ]
    },
    {
     "name": "stdout",
     "output_type": "stream",
     "text": [
      "82/82 [==============================] - 1s 8ms/step - loss: 0.0018 - mae: 0.0340 - mse: 0.0018 - val_loss: 9.2812e-04 - val_mae: 0.0240 - val_mse: 9.2812e-04\n",
      "Epoch 12/100\n",
      "76/82 [==========================>...] - ETA: 0s - loss: 0.0020 - mae: 0.0354 - mse: 0.0020"
     ]
    },
    {
     "name": "stderr",
     "output_type": "stream",
     "text": [
      "WARNING:tensorflow:Can save best model only with val_mean_squared_error available, skipping.\n"
     ]
    },
    {
     "name": "stdout",
     "output_type": "stream",
     "text": [
      "82/82 [==============================] - 1s 8ms/step - loss: 0.0019 - mae: 0.0352 - mse: 0.0019 - val_loss: 0.0011 - val_mae: 0.0267 - val_mse: 0.0011\n",
      "Epoch 13/100\n",
      "79/82 [===========================>..] - ETA: 0s - loss: 0.0018 - mae: 0.0341 - mse: 0.0018"
     ]
    },
    {
     "name": "stderr",
     "output_type": "stream",
     "text": [
      "WARNING:tensorflow:Can save best model only with val_mean_squared_error available, skipping.\n"
     ]
    },
    {
     "name": "stdout",
     "output_type": "stream",
     "text": [
      "82/82 [==============================] - 1s 8ms/step - loss: 0.0018 - mae: 0.0341 - mse: 0.0018 - val_loss: 8.8547e-04 - val_mae: 0.0238 - val_mse: 8.8547e-04\n",
      "Epoch 14/100\n",
      "77/82 [===========================>..] - ETA: 0s - loss: 0.0016 - mae: 0.0324 - mse: 0.0016"
     ]
    },
    {
     "name": "stderr",
     "output_type": "stream",
     "text": [
      "WARNING:tensorflow:Can save best model only with val_mean_squared_error available, skipping.\n"
     ]
    },
    {
     "name": "stdout",
     "output_type": "stream",
     "text": [
      "82/82 [==============================] - 1s 8ms/step - loss: 0.0016 - mae: 0.0324 - mse: 0.0016 - val_loss: 0.0011 - val_mae: 0.0263 - val_mse: 0.0011\n",
      "Epoch 15/100\n",
      "78/82 [===========================>..] - ETA: 0s - loss: 0.0017 - mae: 0.0323 - mse: 0.0017"
     ]
    },
    {
     "name": "stderr",
     "output_type": "stream",
     "text": [
      "WARNING:tensorflow:Can save best model only with val_mean_squared_error available, skipping.\n"
     ]
    },
    {
     "name": "stdout",
     "output_type": "stream",
     "text": [
      "82/82 [==============================] - 1s 8ms/step - loss: 0.0017 - mae: 0.0323 - mse: 0.0017 - val_loss: 8.9263e-04 - val_mae: 0.0240 - val_mse: 8.9263e-04\n",
      "Epoch 16/100\n",
      "76/82 [==========================>...] - ETA: 0s - loss: 0.0018 - mae: 0.0335 - mse: 0.0018"
     ]
    },
    {
     "name": "stderr",
     "output_type": "stream",
     "text": [
      "WARNING:tensorflow:Can save best model only with val_mean_squared_error available, skipping.\n"
     ]
    },
    {
     "name": "stdout",
     "output_type": "stream",
     "text": [
      "82/82 [==============================] - 1s 8ms/step - loss: 0.0018 - mae: 0.0335 - mse: 0.0018 - val_loss: 0.0011 - val_mae: 0.0258 - val_mse: 0.0011\n",
      "Epoch 17/100\n",
      "79/82 [===========================>..] - ETA: 0s - loss: 0.0016 - mae: 0.0317 - mse: 0.0016"
     ]
    },
    {
     "name": "stderr",
     "output_type": "stream",
     "text": [
      "WARNING:tensorflow:Can save best model only with val_mean_squared_error available, skipping.\n"
     ]
    },
    {
     "name": "stdout",
     "output_type": "stream",
     "text": [
      "82/82 [==============================] - 1s 7ms/step - loss: 0.0016 - mae: 0.0318 - mse: 0.0016 - val_loss: 8.5576e-04 - val_mae: 0.0234 - val_mse: 8.5576e-04\n",
      "Epoch 18/100\n",
      "81/82 [============================>.] - ETA: 0s - loss: 0.0015 - mae: 0.0309 - mse: 0.0015"
     ]
    },
    {
     "name": "stderr",
     "output_type": "stream",
     "text": [
      "WARNING:tensorflow:Can save best model only with val_mean_squared_error available, skipping.\n"
     ]
    },
    {
     "name": "stdout",
     "output_type": "stream",
     "text": [
      "82/82 [==============================] - 1s 7ms/step - loss: 0.0015 - mae: 0.0309 - mse: 0.0015 - val_loss: 0.0012 - val_mae: 0.0275 - val_mse: 0.0012\n",
      "Epoch 19/100\n",
      "76/82 [==========================>...] - ETA: 0s - loss: 0.0015 - mae: 0.0309 - mse: 0.0015"
     ]
    },
    {
     "name": "stderr",
     "output_type": "stream",
     "text": [
      "WARNING:tensorflow:Can save best model only with val_mean_squared_error available, skipping.\n"
     ]
    },
    {
     "name": "stdout",
     "output_type": "stream",
     "text": [
      "82/82 [==============================] - 1s 8ms/step - loss: 0.0015 - mae: 0.0308 - mse: 0.0015 - val_loss: 0.0011 - val_mae: 0.0253 - val_mse: 0.0011\n",
      "Epoch 20/100\n",
      "79/82 [===========================>..] - ETA: 0s - loss: 0.0014 - mae: 0.0300 - mse: 0.0014"
     ]
    },
    {
     "name": "stderr",
     "output_type": "stream",
     "text": [
      "WARNING:tensorflow:Can save best model only with val_mean_squared_error available, skipping.\n"
     ]
    },
    {
     "name": "stdout",
     "output_type": "stream",
     "text": [
      "82/82 [==============================] - 1s 7ms/step - loss: 0.0014 - mae: 0.0300 - mse: 0.0014 - val_loss: 0.0012 - val_mae: 0.0283 - val_mse: 0.0012\n",
      "Epoch 21/100\n",
      "77/82 [===========================>..] - ETA: 0s - loss: 0.0015 - mae: 0.0302 - mse: 0.0015"
     ]
    },
    {
     "name": "stderr",
     "output_type": "stream",
     "text": [
      "WARNING:tensorflow:Can save best model only with val_mean_squared_error available, skipping.\n"
     ]
    },
    {
     "name": "stdout",
     "output_type": "stream",
     "text": [
      "82/82 [==============================] - 1s 7ms/step - loss: 0.0015 - mae: 0.0302 - mse: 0.0015 - val_loss: 0.0010 - val_mae: 0.0251 - val_mse: 0.0010\n",
      "Epoch 22/100\n",
      "77/82 [===========================>..] - ETA: 0s - loss: 0.0015 - mae: 0.0302 - mse: 0.0015"
     ]
    },
    {
     "name": "stderr",
     "output_type": "stream",
     "text": [
      "WARNING:tensorflow:Can save best model only with val_mean_squared_error available, skipping.\n"
     ]
    },
    {
     "name": "stdout",
     "output_type": "stream",
     "text": [
      "82/82 [==============================] - 1s 8ms/step - loss: 0.0014 - mae: 0.0300 - mse: 0.0014 - val_loss: 8.5416e-04 - val_mae: 0.0236 - val_mse: 8.5416e-04\n",
      "Epoch 23/100\n",
      "78/82 [===========================>..] - ETA: 0s - loss: 0.0015 - mae: 0.0301 - mse: 0.0015"
     ]
    },
    {
     "name": "stderr",
     "output_type": "stream",
     "text": [
      "WARNING:tensorflow:Can save best model only with val_mean_squared_error available, skipping.\n"
     ]
    },
    {
     "name": "stdout",
     "output_type": "stream",
     "text": [
      "82/82 [==============================] - 1s 8ms/step - loss: 0.0014 - mae: 0.0301 - mse: 0.0014 - val_loss: 9.7127e-04 - val_mae: 0.0248 - val_mse: 9.7127e-04\n",
      "Epoch 24/100\n",
      "82/82 [==============================] - ETA: 0s - loss: 0.0014 - mae: 0.0292 - mse: 0.0014"
     ]
    },
    {
     "name": "stderr",
     "output_type": "stream",
     "text": [
      "WARNING:tensorflow:Can save best model only with val_mean_squared_error available, skipping.\n"
     ]
    },
    {
     "name": "stdout",
     "output_type": "stream",
     "text": [
      "82/82 [==============================] - 1s 8ms/step - loss: 0.0014 - mae: 0.0292 - mse: 0.0014 - val_loss: 0.0012 - val_mae: 0.0279 - val_mse: 0.0012\n",
      "Epoch 25/100\n",
      "80/82 [============================>.] - ETA: 0s - loss: 0.0014 - mae: 0.0291 - mse: 0.0014"
     ]
    },
    {
     "name": "stderr",
     "output_type": "stream",
     "text": [
      "WARNING:tensorflow:Can save best model only with val_mean_squared_error available, skipping.\n"
     ]
    },
    {
     "name": "stdout",
     "output_type": "stream",
     "text": [
      "82/82 [==============================] - 1s 7ms/step - loss: 0.0014 - mae: 0.0292 - mse: 0.0014 - val_loss: 8.0859e-04 - val_mae: 0.0227 - val_mse: 8.0859e-04\n",
      "Epoch 26/100\n",
      "77/82 [===========================>..] - ETA: 0s - loss: 0.0013 - mae: 0.0291 - mse: 0.0013"
     ]
    },
    {
     "name": "stderr",
     "output_type": "stream",
     "text": [
      "WARNING:tensorflow:Can save best model only with val_mean_squared_error available, skipping.\n"
     ]
    },
    {
     "name": "stdout",
     "output_type": "stream",
     "text": [
      "82/82 [==============================] - 1s 8ms/step - loss: 0.0013 - mae: 0.0291 - mse: 0.0013 - val_loss: 0.0014 - val_mae: 0.0297 - val_mse: 0.0014\n",
      "Epoch 27/100\n",
      "76/82 [==========================>...] - ETA: 0s - loss: 0.0013 - mae: 0.0291 - mse: 0.0013"
     ]
    },
    {
     "name": "stderr",
     "output_type": "stream",
     "text": [
      "WARNING:tensorflow:Can save best model only with val_mean_squared_error available, skipping.\n"
     ]
    },
    {
     "name": "stdout",
     "output_type": "stream",
     "text": [
      "82/82 [==============================] - 1s 8ms/step - loss: 0.0014 - mae: 0.0290 - mse: 0.0014 - val_loss: 7.5454e-04 - val_mae: 0.0216 - val_mse: 7.5454e-04\n",
      "Epoch 28/100\n",
      "79/82 [===========================>..] - ETA: 0s - loss: 0.0014 - mae: 0.0292 - mse: 0.0014"
     ]
    },
    {
     "name": "stderr",
     "output_type": "stream",
     "text": [
      "WARNING:tensorflow:Can save best model only with val_mean_squared_error available, skipping.\n"
     ]
    },
    {
     "name": "stdout",
     "output_type": "stream",
     "text": [
      "82/82 [==============================] - 1s 8ms/step - loss: 0.0014 - mae: 0.0292 - mse: 0.0014 - val_loss: 7.7885e-04 - val_mae: 0.0223 - val_mse: 7.7885e-04\n",
      "Epoch 29/100\n",
      "78/82 [===========================>..] - ETA: 0s - loss: 0.0013 - mae: 0.0283 - mse: 0.0013"
     ]
    },
    {
     "name": "stderr",
     "output_type": "stream",
     "text": [
      "WARNING:tensorflow:Can save best model only with val_mean_squared_error available, skipping.\n"
     ]
    },
    {
     "name": "stdout",
     "output_type": "stream",
     "text": [
      "82/82 [==============================] - 1s 8ms/step - loss: 0.0013 - mae: 0.0282 - mse: 0.0013 - val_loss: 8.4394e-04 - val_mae: 0.0233 - val_mse: 8.4394e-04\n",
      "Epoch 30/100\n",
      "79/82 [===========================>..] - ETA: 0s - loss: 0.0013 - mae: 0.0290 - mse: 0.0013"
     ]
    },
    {
     "name": "stderr",
     "output_type": "stream",
     "text": [
      "WARNING:tensorflow:Can save best model only with val_mean_squared_error available, skipping.\n"
     ]
    },
    {
     "name": "stdout",
     "output_type": "stream",
     "text": [
      "82/82 [==============================] - 1s 8ms/step - loss: 0.0014 - mae: 0.0291 - mse: 0.0014 - val_loss: 0.0012 - val_mae: 0.0267 - val_mse: 0.0012\n",
      "Epoch 31/100\n",
      "76/82 [==========================>...] - ETA: 0s - loss: 0.0013 - mae: 0.0292 - mse: 0.0013"
     ]
    },
    {
     "name": "stderr",
     "output_type": "stream",
     "text": [
      "WARNING:tensorflow:Can save best model only with val_mean_squared_error available, skipping.\n"
     ]
    },
    {
     "name": "stdout",
     "output_type": "stream",
     "text": [
      "82/82 [==============================] - 1s 8ms/step - loss: 0.0013 - mae: 0.0292 - mse: 0.0013 - val_loss: 0.0011 - val_mae: 0.0266 - val_mse: 0.0011\n",
      "Epoch 32/100\n",
      "78/82 [===========================>..] - ETA: 0s - loss: 0.0013 - mae: 0.0284 - mse: 0.0013"
     ]
    },
    {
     "name": "stderr",
     "output_type": "stream",
     "text": [
      "WARNING:tensorflow:Can save best model only with val_mean_squared_error available, skipping.\n"
     ]
    },
    {
     "name": "stdout",
     "output_type": "stream",
     "text": [
      "82/82 [==============================] - 1s 8ms/step - loss: 0.0013 - mae: 0.0283 - mse: 0.0013 - val_loss: 7.7762e-04 - val_mae: 0.0222 - val_mse: 7.7762e-04\n",
      "Epoch 33/100\n",
      "79/82 [===========================>..] - ETA: 0s - loss: 0.0013 - mae: 0.0281 - mse: 0.0013"
     ]
    },
    {
     "name": "stderr",
     "output_type": "stream",
     "text": [
      "WARNING:tensorflow:Can save best model only with val_mean_squared_error available, skipping.\n"
     ]
    },
    {
     "name": "stdout",
     "output_type": "stream",
     "text": [
      "82/82 [==============================] - 1s 8ms/step - loss: 0.0013 - mae: 0.0282 - mse: 0.0013 - val_loss: 0.0016 - val_mae: 0.0334 - val_mse: 0.0016\n",
      "Epoch 34/100\n",
      "78/82 [===========================>..] - ETA: 0s - loss: 0.0014 - mae: 0.0291 - mse: 0.0014"
     ]
    },
    {
     "name": "stderr",
     "output_type": "stream",
     "text": [
      "WARNING:tensorflow:Can save best model only with val_mean_squared_error available, skipping.\n"
     ]
    },
    {
     "name": "stdout",
     "output_type": "stream",
     "text": [
      "82/82 [==============================] - 1s 7ms/step - loss: 0.0013 - mae: 0.0289 - mse: 0.0013 - val_loss: 8.6565e-04 - val_mae: 0.0233 - val_mse: 8.6565e-04\n",
      "Epoch 35/100\n",
      "77/82 [===========================>..] - ETA: 0s - loss: 0.0012 - mae: 0.0279 - mse: 0.0012"
     ]
    },
    {
     "name": "stderr",
     "output_type": "stream",
     "text": [
      "WARNING:tensorflow:Can save best model only with val_mean_squared_error available, skipping.\n"
     ]
    },
    {
     "name": "stdout",
     "output_type": "stream",
     "text": [
      "82/82 [==============================] - 1s 8ms/step - loss: 0.0013 - mae: 0.0279 - mse: 0.0013 - val_loss: 7.1514e-04 - val_mae: 0.0212 - val_mse: 7.1514e-04\n",
      "Epoch 36/100\n",
      "76/82 [==========================>...] - ETA: 0s - loss: 0.0013 - mae: 0.0290 - mse: 0.0013"
     ]
    },
    {
     "name": "stderr",
     "output_type": "stream",
     "text": [
      "WARNING:tensorflow:Can save best model only with val_mean_squared_error available, skipping.\n"
     ]
    },
    {
     "name": "stdout",
     "output_type": "stream",
     "text": [
      "82/82 [==============================] - 1s 8ms/step - loss: 0.0013 - mae: 0.0289 - mse: 0.0013 - val_loss: 8.4844e-04 - val_mae: 0.0234 - val_mse: 8.4844e-04\n",
      "Epoch 37/100\n",
      "77/82 [===========================>..] - ETA: 0s - loss: 0.0012 - mae: 0.0273 - mse: 0.0012"
     ]
    },
    {
     "name": "stderr",
     "output_type": "stream",
     "text": [
      "WARNING:tensorflow:Can save best model only with val_mean_squared_error available, skipping.\n"
     ]
    },
    {
     "name": "stdout",
     "output_type": "stream",
     "text": [
      "82/82 [==============================] - 1s 8ms/step - loss: 0.0012 - mae: 0.0273 - mse: 0.0012 - val_loss: 9.7783e-04 - val_mae: 0.0247 - val_mse: 9.7783e-04\n",
      "Epoch 38/100\n",
      "76/82 [==========================>...] - ETA: 0s - loss: 0.0012 - mae: 0.0272 - mse: 0.0012"
     ]
    },
    {
     "name": "stderr",
     "output_type": "stream",
     "text": [
      "WARNING:tensorflow:Can save best model only with val_mean_squared_error available, skipping.\n"
     ]
    },
    {
     "name": "stdout",
     "output_type": "stream",
     "text": [
      "82/82 [==============================] - 1s 7ms/step - loss: 0.0012 - mae: 0.0274 - mse: 0.0012 - val_loss: 0.0015 - val_mae: 0.0325 - val_mse: 0.0015\n",
      "Epoch 39/100\n",
      "80/82 [============================>.] - ETA: 0s - loss: 0.0013 - mae: 0.0281 - mse: 0.0013"
     ]
    },
    {
     "name": "stderr",
     "output_type": "stream",
     "text": [
      "WARNING:tensorflow:Can save best model only with val_mean_squared_error available, skipping.\n"
     ]
    },
    {
     "name": "stdout",
     "output_type": "stream",
     "text": [
      "82/82 [==============================] - 1s 8ms/step - loss: 0.0013 - mae: 0.0281 - mse: 0.0013 - val_loss: 8.9357e-04 - val_mae: 0.0239 - val_mse: 8.9357e-04\n",
      "Epoch 40/100\n",
      "76/82 [==========================>...] - ETA: 0s - loss: 0.0012 - mae: 0.0276 - mse: 0.0012"
     ]
    },
    {
     "name": "stderr",
     "output_type": "stream",
     "text": [
      "WARNING:tensorflow:Can save best model only with val_mean_squared_error available, skipping.\n"
     ]
    },
    {
     "name": "stdout",
     "output_type": "stream",
     "text": [
      "82/82 [==============================] - 1s 8ms/step - loss: 0.0012 - mae: 0.0276 - mse: 0.0012 - val_loss: 8.1633e-04 - val_mae: 0.0222 - val_mse: 8.1633e-04\n",
      "Epoch 41/100\n",
      "79/82 [===========================>..] - ETA: 0s - loss: 0.0012 - mae: 0.0274 - mse: 0.0012"
     ]
    },
    {
     "name": "stderr",
     "output_type": "stream",
     "text": [
      "WARNING:tensorflow:Can save best model only with val_mean_squared_error available, skipping.\n"
     ]
    },
    {
     "name": "stdout",
     "output_type": "stream",
     "text": [
      "82/82 [==============================] - 1s 8ms/step - loss: 0.0012 - mae: 0.0274 - mse: 0.0012 - val_loss: 0.0012 - val_mae: 0.0294 - val_mse: 0.0012\n",
      "Epoch 42/100\n",
      "79/82 [===========================>..] - ETA: 0s - loss: 0.0012 - mae: 0.0273 - mse: 0.0012"
     ]
    },
    {
     "name": "stderr",
     "output_type": "stream",
     "text": [
      "WARNING:tensorflow:Can save best model only with val_mean_squared_error available, skipping.\n"
     ]
    },
    {
     "name": "stdout",
     "output_type": "stream",
     "text": [
      "82/82 [==============================] - 1s 8ms/step - loss: 0.0012 - mae: 0.0273 - mse: 0.0012 - val_loss: 8.2931e-04 - val_mae: 0.0230 - val_mse: 8.2931e-04\n",
      "Epoch 43/100\n",
      "76/82 [==========================>...] - ETA: 0s - loss: 0.0011 - mae: 0.0267 - mse: 0.0011"
     ]
    },
    {
     "name": "stderr",
     "output_type": "stream",
     "text": [
      "WARNING:tensorflow:Can save best model only with val_mean_squared_error available, skipping.\n"
     ]
    },
    {
     "name": "stdout",
     "output_type": "stream",
     "text": [
      "82/82 [==============================] - 1s 8ms/step - loss: 0.0011 - mae: 0.0267 - mse: 0.0011 - val_loss: 9.7109e-04 - val_mae: 0.0248 - val_mse: 9.7109e-04\n",
      "Epoch 44/100\n",
      "76/82 [==========================>...] - ETA: 0s - loss: 0.0012 - mae: 0.0277 - mse: 0.0012"
     ]
    },
    {
     "name": "stderr",
     "output_type": "stream",
     "text": [
      "WARNING:tensorflow:Can save best model only with val_mean_squared_error available, skipping.\n"
     ]
    },
    {
     "name": "stdout",
     "output_type": "stream",
     "text": [
      "82/82 [==============================] - 1s 8ms/step - loss: 0.0012 - mae: 0.0276 - mse: 0.0012 - val_loss: 7.5130e-04 - val_mae: 0.0224 - val_mse: 7.5130e-04\n",
      "Epoch 45/100\n",
      "76/82 [==========================>...] - ETA: 0s - loss: 0.0012 - mae: 0.0272 - mse: 0.0012"
     ]
    },
    {
     "name": "stderr",
     "output_type": "stream",
     "text": [
      "WARNING:tensorflow:Can save best model only with val_mean_squared_error available, skipping.\n"
     ]
    },
    {
     "name": "stdout",
     "output_type": "stream",
     "text": [
      "82/82 [==============================] - 1s 8ms/step - loss: 0.0012 - mae: 0.0273 - mse: 0.0012 - val_loss: 9.8962e-04 - val_mae: 0.0245 - val_mse: 9.8962e-04\n",
      "Epoch 46/100\n",
      "77/82 [===========================>..] - ETA: 0s - loss: 0.0012 - mae: 0.0273 - mse: 0.0012"
     ]
    },
    {
     "name": "stderr",
     "output_type": "stream",
     "text": [
      "WARNING:tensorflow:Can save best model only with val_mean_squared_error available, skipping.\n"
     ]
    },
    {
     "name": "stdout",
     "output_type": "stream",
     "text": [
      "82/82 [==============================] - 1s 8ms/step - loss: 0.0012 - mae: 0.0274 - mse: 0.0012 - val_loss: 0.0011 - val_mae: 0.0259 - val_mse: 0.0011\n",
      "Epoch 47/100\n",
      "76/82 [==========================>...] - ETA: 0s - loss: 0.0012 - mae: 0.0274 - mse: 0.0012"
     ]
    },
    {
     "name": "stderr",
     "output_type": "stream",
     "text": [
      "WARNING:tensorflow:Can save best model only with val_mean_squared_error available, skipping.\n"
     ]
    },
    {
     "name": "stdout",
     "output_type": "stream",
     "text": [
      "82/82 [==============================] - 1s 8ms/step - loss: 0.0012 - mae: 0.0274 - mse: 0.0012 - val_loss: 0.0010 - val_mae: 0.0247 - val_mse: 0.0010\n",
      "Epoch 48/100\n",
      "78/82 [===========================>..] - ETA: 0s - loss: 0.0012 - mae: 0.0270 - mse: 0.0012"
     ]
    },
    {
     "name": "stderr",
     "output_type": "stream",
     "text": [
      "WARNING:tensorflow:Can save best model only with val_mean_squared_error available, skipping.\n"
     ]
    },
    {
     "name": "stdout",
     "output_type": "stream",
     "text": [
      "82/82 [==============================] - 1s 8ms/step - loss: 0.0012 - mae: 0.0272 - mse: 0.0012 - val_loss: 7.0371e-04 - val_mae: 0.0208 - val_mse: 7.0371e-04\n",
      "Epoch 49/100\n",
      "82/82 [==============================] - ETA: 0s - loss: 0.0012 - mae: 0.0272 - mse: 0.0012"
     ]
    },
    {
     "name": "stderr",
     "output_type": "stream",
     "text": [
      "WARNING:tensorflow:Can save best model only with val_mean_squared_error available, skipping.\n"
     ]
    },
    {
     "name": "stdout",
     "output_type": "stream",
     "text": [
      "82/82 [==============================] - 1s 8ms/step - loss: 0.0012 - mae: 0.0272 - mse: 0.0012 - val_loss: 6.6217e-04 - val_mae: 0.0207 - val_mse: 6.6217e-04\n",
      "Epoch 50/100\n",
      "80/82 [============================>.] - ETA: 0s - loss: 0.0012 - mae: 0.0270 - mse: 0.0012"
     ]
    },
    {
     "name": "stderr",
     "output_type": "stream",
     "text": [
      "WARNING:tensorflow:Can save best model only with val_mean_squared_error available, skipping.\n"
     ]
    },
    {
     "name": "stdout",
     "output_type": "stream",
     "text": [
      "82/82 [==============================] - 1s 8ms/step - loss: 0.0012 - mae: 0.0270 - mse: 0.0012 - val_loss: 8.9880e-04 - val_mae: 0.0242 - val_mse: 8.9880e-04\n",
      "Epoch 51/100\n",
      "81/82 [============================>.] - ETA: 0s - loss: 0.0011 - mae: 0.0265 - mse: 0.0011"
     ]
    },
    {
     "name": "stderr",
     "output_type": "stream",
     "text": [
      "WARNING:tensorflow:Can save best model only with val_mean_squared_error available, skipping.\n"
     ]
    },
    {
     "name": "stdout",
     "output_type": "stream",
     "text": [
      "82/82 [==============================] - 1s 8ms/step - loss: 0.0011 - mae: 0.0265 - mse: 0.0011 - val_loss: 9.9616e-04 - val_mae: 0.0260 - val_mse: 9.9616e-04\n",
      "Epoch 52/100\n",
      "77/82 [===========================>..] - ETA: 0s - loss: 0.0011 - mae: 0.0267 - mse: 0.0011"
     ]
    },
    {
     "name": "stderr",
     "output_type": "stream",
     "text": [
      "WARNING:tensorflow:Can save best model only with val_mean_squared_error available, skipping.\n"
     ]
    },
    {
     "name": "stdout",
     "output_type": "stream",
     "text": [
      "82/82 [==============================] - 1s 8ms/step - loss: 0.0011 - mae: 0.0266 - mse: 0.0011 - val_loss: 0.0011 - val_mae: 0.0267 - val_mse: 0.0011\n",
      "Epoch 53/100\n",
      "76/82 [==========================>...] - ETA: 0s - loss: 0.0011 - mae: 0.0262 - mse: 0.0011"
     ]
    },
    {
     "name": "stderr",
     "output_type": "stream",
     "text": [
      "WARNING:tensorflow:Can save best model only with val_mean_squared_error available, skipping.\n"
     ]
    },
    {
     "name": "stdout",
     "output_type": "stream",
     "text": [
      "82/82 [==============================] - 1s 8ms/step - loss: 0.0011 - mae: 0.0263 - mse: 0.0011 - val_loss: 7.8137e-04 - val_mae: 0.0224 - val_mse: 7.8137e-04\n",
      "Epoch 54/100\n",
      "79/82 [===========================>..] - ETA: 0s - loss: 0.0011 - mae: 0.0258 - mse: 0.0011"
     ]
    },
    {
     "name": "stderr",
     "output_type": "stream",
     "text": [
      "WARNING:tensorflow:Can save best model only with val_mean_squared_error available, skipping.\n"
     ]
    },
    {
     "name": "stdout",
     "output_type": "stream",
     "text": [
      "82/82 [==============================] - 1s 9ms/step - loss: 0.0011 - mae: 0.0259 - mse: 0.0011 - val_loss: 7.5507e-04 - val_mae: 0.0220 - val_mse: 7.5507e-04\n",
      "Epoch 55/100\n",
      "75/82 [==========================>...] - ETA: 0s - loss: 0.0011 - mae: 0.0260 - mse: 0.0011"
     ]
    },
    {
     "name": "stderr",
     "output_type": "stream",
     "text": [
      "WARNING:tensorflow:Can save best model only with val_mean_squared_error available, skipping.\n"
     ]
    },
    {
     "name": "stdout",
     "output_type": "stream",
     "text": [
      "82/82 [==============================] - 1s 8ms/step - loss: 0.0011 - mae: 0.0260 - mse: 0.0011 - val_loss: 8.6737e-04 - val_mae: 0.0233 - val_mse: 8.6737e-04\n",
      "Epoch 56/100\n",
      "77/82 [===========================>..] - ETA: 0s - loss: 0.0012 - mae: 0.0272 - mse: 0.0012"
     ]
    },
    {
     "name": "stderr",
     "output_type": "stream",
     "text": [
      "WARNING:tensorflow:Can save best model only with val_mean_squared_error available, skipping.\n"
     ]
    },
    {
     "name": "stdout",
     "output_type": "stream",
     "text": [
      "82/82 [==============================] - 1s 8ms/step - loss: 0.0012 - mae: 0.0270 - mse: 0.0012 - val_loss: 7.6159e-04 - val_mae: 0.0227 - val_mse: 7.6159e-04\n",
      "Epoch 57/100\n",
      "75/82 [==========================>...] - ETA: 0s - loss: 0.0011 - mae: 0.0260 - mse: 0.0011"
     ]
    },
    {
     "name": "stderr",
     "output_type": "stream",
     "text": [
      "WARNING:tensorflow:Can save best model only with val_mean_squared_error available, skipping.\n"
     ]
    },
    {
     "name": "stdout",
     "output_type": "stream",
     "text": [
      "82/82 [==============================] - 1s 8ms/step - loss: 0.0011 - mae: 0.0260 - mse: 0.0011 - val_loss: 0.0011 - val_mae: 0.0265 - val_mse: 0.0011\n",
      "Epoch 58/100\n",
      "77/82 [===========================>..] - ETA: 0s - loss: 0.0011 - mae: 0.0262 - mse: 0.0011"
     ]
    },
    {
     "name": "stderr",
     "output_type": "stream",
     "text": [
      "WARNING:tensorflow:Can save best model only with val_mean_squared_error available, skipping.\n"
     ]
    },
    {
     "name": "stdout",
     "output_type": "stream",
     "text": [
      "82/82 [==============================] - 1s 8ms/step - loss: 0.0011 - mae: 0.0262 - mse: 0.0011 - val_loss: 9.0996e-04 - val_mae: 0.0236 - val_mse: 9.0996e-04\n",
      "Epoch 59/100\n",
      "76/82 [==========================>...] - ETA: 0s - loss: 0.0012 - mae: 0.0271 - mse: 0.0012"
     ]
    },
    {
     "name": "stderr",
     "output_type": "stream",
     "text": [
      "WARNING:tensorflow:Can save best model only with val_mean_squared_error available, skipping.\n"
     ]
    },
    {
     "name": "stdout",
     "output_type": "stream",
     "text": [
      "82/82 [==============================] - 1s 8ms/step - loss: 0.0012 - mae: 0.0270 - mse: 0.0012 - val_loss: 7.5837e-04 - val_mae: 0.0219 - val_mse: 7.5837e-04\n",
      "Epoch 60/100\n",
      "80/82 [============================>.] - ETA: 0s - loss: 0.0011 - mae: 0.0260 - mse: 0.0011"
     ]
    },
    {
     "name": "stderr",
     "output_type": "stream",
     "text": [
      "WARNING:tensorflow:Can save best model only with val_mean_squared_error available, skipping.\n"
     ]
    },
    {
     "name": "stdout",
     "output_type": "stream",
     "text": [
      "82/82 [==============================] - 1s 8ms/step - loss: 0.0011 - mae: 0.0259 - mse: 0.0011 - val_loss: 6.2482e-04 - val_mae: 0.0197 - val_mse: 6.2482e-04\n",
      "Epoch 61/100\n",
      "79/82 [===========================>..] - ETA: 0s - loss: 0.0011 - mae: 0.0260 - mse: 0.0011"
     ]
    },
    {
     "name": "stderr",
     "output_type": "stream",
     "text": [
      "WARNING:tensorflow:Can save best model only with val_mean_squared_error available, skipping.\n"
     ]
    },
    {
     "name": "stdout",
     "output_type": "stream",
     "text": [
      "82/82 [==============================] - 1s 8ms/step - loss: 0.0011 - mae: 0.0260 - mse: 0.0011 - val_loss: 8.2312e-04 - val_mae: 0.0230 - val_mse: 8.2312e-04\n",
      "Epoch 62/100\n",
      "79/82 [===========================>..] - ETA: 0s - loss: 0.0010 - mae: 0.0255 - mse: 0.0010"
     ]
    },
    {
     "name": "stderr",
     "output_type": "stream",
     "text": [
      "WARNING:tensorflow:Can save best model only with val_mean_squared_error available, skipping.\n"
     ]
    },
    {
     "name": "stdout",
     "output_type": "stream",
     "text": [
      "82/82 [==============================] - 1s 8ms/step - loss: 0.0010 - mae: 0.0255 - mse: 0.0010 - val_loss: 9.3973e-04 - val_mae: 0.0252 - val_mse: 9.3973e-04\n",
      "Epoch 63/100\n",
      "82/82 [==============================] - ETA: 0s - loss: 0.0010 - mae: 0.0251 - mse: 0.0010"
     ]
    },
    {
     "name": "stderr",
     "output_type": "stream",
     "text": [
      "WARNING:tensorflow:Can save best model only with val_mean_squared_error available, skipping.\n"
     ]
    },
    {
     "name": "stdout",
     "output_type": "stream",
     "text": [
      "82/82 [==============================] - 1s 8ms/step - loss: 0.0010 - mae: 0.0251 - mse: 0.0010 - val_loss: 7.9529e-04 - val_mae: 0.0221 - val_mse: 7.9529e-04\n",
      "Epoch 64/100\n",
      "79/82 [===========================>..] - ETA: 0s - loss: 0.0011 - mae: 0.0258 - mse: 0.0011"
     ]
    },
    {
     "name": "stderr",
     "output_type": "stream",
     "text": [
      "WARNING:tensorflow:Can save best model only with val_mean_squared_error available, skipping.\n"
     ]
    },
    {
     "name": "stdout",
     "output_type": "stream",
     "text": [
      "82/82 [==============================] - 1s 7ms/step - loss: 0.0011 - mae: 0.0259 - mse: 0.0011 - val_loss: 8.4268e-04 - val_mae: 0.0222 - val_mse: 8.4268e-04\n",
      "Epoch 65/100\n",
      "76/82 [==========================>...] - ETA: 0s - loss: 0.0010 - mae: 0.0255 - mse: 0.0010"
     ]
    },
    {
     "name": "stderr",
     "output_type": "stream",
     "text": [
      "WARNING:tensorflow:Can save best model only with val_mean_squared_error available, skipping.\n"
     ]
    },
    {
     "name": "stdout",
     "output_type": "stream",
     "text": [
      "82/82 [==============================] - 1s 8ms/step - loss: 0.0011 - mae: 0.0256 - mse: 0.0011 - val_loss: 6.9709e-04 - val_mae: 0.0198 - val_mse: 6.9709e-04\n",
      "Epoch 66/100\n",
      "76/82 [==========================>...] - ETA: 0s - loss: 0.0011 - mae: 0.0263 - mse: 0.0011"
     ]
    },
    {
     "name": "stderr",
     "output_type": "stream",
     "text": [
      "WARNING:tensorflow:Can save best model only with val_mean_squared_error available, skipping.\n"
     ]
    },
    {
     "name": "stdout",
     "output_type": "stream",
     "text": [
      "82/82 [==============================] - 1s 8ms/step - loss: 0.0011 - mae: 0.0264 - mse: 0.0011 - val_loss: 6.2769e-04 - val_mae: 0.0200 - val_mse: 6.2769e-04\n",
      "Epoch 67/100\n",
      "76/82 [==========================>...] - ETA: 0s - loss: 0.0011 - mae: 0.0256 - mse: 0.0011"
     ]
    },
    {
     "name": "stderr",
     "output_type": "stream",
     "text": [
      "WARNING:tensorflow:Can save best model only with val_mean_squared_error available, skipping.\n"
     ]
    },
    {
     "name": "stdout",
     "output_type": "stream",
     "text": [
      "82/82 [==============================] - 1s 8ms/step - loss: 0.0011 - mae: 0.0255 - mse: 0.0011 - val_loss: 7.2872e-04 - val_mae: 0.0214 - val_mse: 7.2872e-04\n",
      "Epoch 68/100\n",
      "82/82 [==============================] - ETA: 0s - loss: 0.0011 - mae: 0.0268 - mse: 0.0011"
     ]
    },
    {
     "name": "stderr",
     "output_type": "stream",
     "text": [
      "WARNING:tensorflow:Can save best model only with val_mean_squared_error available, skipping.\n"
     ]
    },
    {
     "name": "stdout",
     "output_type": "stream",
     "text": [
      "82/82 [==============================] - 1s 8ms/step - loss: 0.0011 - mae: 0.0268 - mse: 0.0011 - val_loss: 5.6929e-04 - val_mae: 0.0183 - val_mse: 5.6929e-04\n",
      "Epoch 69/100\n",
      "75/82 [==========================>...] - ETA: 0s - loss: 0.0010 - mae: 0.0253 - mse: 0.0010"
     ]
    },
    {
     "name": "stderr",
     "output_type": "stream",
     "text": [
      "WARNING:tensorflow:Can save best model only with val_mean_squared_error available, skipping.\n"
     ]
    },
    {
     "name": "stdout",
     "output_type": "stream",
     "text": [
      "82/82 [==============================] - 1s 8ms/step - loss: 0.0010 - mae: 0.0251 - mse: 0.0010 - val_loss: 8.4424e-04 - val_mae: 0.0232 - val_mse: 8.4424e-04\n",
      "Epoch 70/100\n",
      "76/82 [==========================>...] - ETA: 0s - loss: 0.0010 - mae: 0.0251 - mse: 0.0010        "
     ]
    },
    {
     "name": "stderr",
     "output_type": "stream",
     "text": [
      "WARNING:tensorflow:Can save best model only with val_mean_squared_error available, skipping.\n"
     ]
    },
    {
     "name": "stdout",
     "output_type": "stream",
     "text": [
      "82/82 [==============================] - 1s 8ms/step - loss: 0.0010 - mae: 0.0253 - mse: 0.0010 - val_loss: 9.7034e-04 - val_mae: 0.0245 - val_mse: 9.7034e-04\n",
      "Epoch 71/100\n",
      "77/82 [===========================>..] - ETA: 0s - loss: 0.0011 - mae: 0.0255 - mse: 0.0011"
     ]
    },
    {
     "name": "stderr",
     "output_type": "stream",
     "text": [
      "WARNING:tensorflow:Can save best model only with val_mean_squared_error available, skipping.\n"
     ]
    },
    {
     "name": "stdout",
     "output_type": "stream",
     "text": [
      "82/82 [==============================] - 1s 8ms/step - loss: 0.0010 - mae: 0.0255 - mse: 0.0010 - val_loss: 7.2016e-04 - val_mae: 0.0210 - val_mse: 7.2016e-04\n",
      "Epoch 72/100\n",
      "76/82 [==========================>...] - ETA: 0s - loss: 0.0011 - mae: 0.0262 - mse: 0.0011"
     ]
    },
    {
     "name": "stderr",
     "output_type": "stream",
     "text": [
      "WARNING:tensorflow:Can save best model only with val_mean_squared_error available, skipping.\n"
     ]
    },
    {
     "name": "stdout",
     "output_type": "stream",
     "text": [
      "82/82 [==============================] - 1s 8ms/step - loss: 0.0011 - mae: 0.0261 - mse: 0.0011 - val_loss: 6.7776e-04 - val_mae: 0.0214 - val_mse: 6.7776e-04\n",
      "Epoch 73/100\n",
      "75/82 [==========================>...] - ETA: 0s - loss: 9.6167e-04 - mae: 0.0244 - mse: 9.6167e-04"
     ]
    },
    {
     "name": "stderr",
     "output_type": "stream",
     "text": [
      "WARNING:tensorflow:Can save best model only with val_mean_squared_error available, skipping.\n"
     ]
    },
    {
     "name": "stdout",
     "output_type": "stream",
     "text": [
      "82/82 [==============================] - 1s 8ms/step - loss: 9.6867e-04 - mae: 0.0245 - mse: 9.6867e-04 - val_loss: 9.4669e-04 - val_mae: 0.0242 - val_mse: 9.4669e-04\n",
      "Epoch 74/100\n",
      "75/82 [==========================>...] - ETA: 0s - loss: 9.9072e-04 - mae: 0.0248 - mse: 9.9072e-04"
     ]
    },
    {
     "name": "stderr",
     "output_type": "stream",
     "text": [
      "WARNING:tensorflow:Can save best model only with val_mean_squared_error available, skipping.\n"
     ]
    },
    {
     "name": "stdout",
     "output_type": "stream",
     "text": [
      "82/82 [==============================] - 1s 8ms/step - loss: 9.8462e-04 - mae: 0.0248 - mse: 9.8462e-04 - val_loss: 9.7329e-04 - val_mae: 0.0246 - val_mse: 9.7329e-04\n",
      "Epoch 75/100\n",
      "76/82 [==========================>...] - ETA: 0s - loss: 9.8335e-04 - mae: 0.0248 - mse: 9.8335e-04"
     ]
    },
    {
     "name": "stderr",
     "output_type": "stream",
     "text": [
      "WARNING:tensorflow:Can save best model only with val_mean_squared_error available, skipping.\n"
     ]
    },
    {
     "name": "stdout",
     "output_type": "stream",
     "text": [
      "82/82 [==============================] - 1s 8ms/step - loss: 9.8011e-04 - mae: 0.0248 - mse: 9.8011e-04 - val_loss: 7.0240e-04 - val_mae: 0.0221 - val_mse: 7.0240e-04\n",
      "Epoch 76/100\n",
      "80/82 [============================>.] - ETA: 0s - loss: 9.5140e-04 - mae: 0.0245 - mse: 9.5140e-04"
     ]
    },
    {
     "name": "stderr",
     "output_type": "stream",
     "text": [
      "WARNING:tensorflow:Can save best model only with val_mean_squared_error available, skipping.\n"
     ]
    },
    {
     "name": "stdout",
     "output_type": "stream",
     "text": [
      "82/82 [==============================] - 1s 13ms/step - loss: 9.5231e-04 - mae: 0.0245 - mse: 9.5231e-04 - val_loss: 7.5073e-04 - val_mae: 0.0216 - val_mse: 7.5073e-04\n",
      "Epoch 77/100\n",
      "77/82 [===========================>..] - ETA: 0s - loss: 9.5538e-04 - mae: 0.0244 - mse: 9.5538e-04"
     ]
    },
    {
     "name": "stderr",
     "output_type": "stream",
     "text": [
      "WARNING:tensorflow:Can save best model only with val_mean_squared_error available, skipping.\n"
     ]
    },
    {
     "name": "stdout",
     "output_type": "stream",
     "text": [
      "82/82 [==============================] - 1s 10ms/step - loss: 9.5452e-04 - mae: 0.0244 - mse: 9.5452e-04 - val_loss: 9.3856e-04 - val_mae: 0.0254 - val_mse: 9.3856e-04\n",
      "Epoch 78/100\n",
      "78/82 [===========================>..] - ETA: 0s - loss: 0.0010 - mae: 0.0254 - mse: 0.0010"
     ]
    },
    {
     "name": "stderr",
     "output_type": "stream",
     "text": [
      "WARNING:tensorflow:Can save best model only with val_mean_squared_error available, skipping.\n"
     ]
    },
    {
     "name": "stdout",
     "output_type": "stream",
     "text": [
      "82/82 [==============================] - 1s 15ms/step - loss: 0.0010 - mae: 0.0253 - mse: 0.0010 - val_loss: 7.3288e-04 - val_mae: 0.0213 - val_mse: 7.3288e-04\n",
      "Epoch 79/100\n",
      "81/82 [============================>.] - ETA: 0s - loss: 9.4294e-04 - mae: 0.0243 - mse: 9.4294e-04"
     ]
    },
    {
     "name": "stderr",
     "output_type": "stream",
     "text": [
      "WARNING:tensorflow:Can save best model only with val_mean_squared_error available, skipping.\n"
     ]
    },
    {
     "name": "stdout",
     "output_type": "stream",
     "text": [
      "82/82 [==============================] - 1s 13ms/step - loss: 9.4313e-04 - mae: 0.0243 - mse: 9.4313e-04 - val_loss: 5.5863e-04 - val_mae: 0.0185 - val_mse: 5.5863e-04\n",
      "Epoch 80/100\n",
      "82/82 [==============================] - ETA: 0s - loss: 9.4385e-04 - mae: 0.0241 - mse: 9.4385e-04"
     ]
    },
    {
     "name": "stderr",
     "output_type": "stream",
     "text": [
      "WARNING:tensorflow:Can save best model only with val_mean_squared_error available, skipping.\n"
     ]
    },
    {
     "name": "stdout",
     "output_type": "stream",
     "text": [
      "82/82 [==============================] - 1s 9ms/step - loss: 9.4385e-04 - mae: 0.0241 - mse: 9.4385e-04 - val_loss: 7.8244e-04 - val_mae: 0.0232 - val_mse: 7.8244e-04\n",
      "Epoch 81/100\n",
      "75/82 [==========================>...] - ETA: 0s - loss: 0.0011 - mae: 0.0263 - mse: 0.0011"
     ]
    },
    {
     "name": "stderr",
     "output_type": "stream",
     "text": [
      "WARNING:tensorflow:Can save best model only with val_mean_squared_error available, skipping.\n"
     ]
    },
    {
     "name": "stdout",
     "output_type": "stream",
     "text": [
      "82/82 [==============================] - 1s 8ms/step - loss: 0.0011 - mae: 0.0262 - mse: 0.0011 - val_loss: 7.7556e-04 - val_mae: 0.0223 - val_mse: 7.7556e-04\n",
      "Epoch 82/100\n",
      "77/82 [===========================>..] - ETA: 0s - loss: 9.2763e-04 - mae: 0.0241 - mse: 9.2763e-04"
     ]
    },
    {
     "name": "stderr",
     "output_type": "stream",
     "text": [
      "WARNING:tensorflow:Can save best model only with val_mean_squared_error available, skipping.\n"
     ]
    },
    {
     "name": "stdout",
     "output_type": "stream",
     "text": [
      "82/82 [==============================] - 1s 8ms/step - loss: 9.2501e-04 - mae: 0.0240 - mse: 9.2501e-04 - val_loss: 6.2364e-04 - val_mae: 0.0194 - val_mse: 6.2364e-04\n",
      "Epoch 83/100\n",
      "78/82 [===========================>..] - ETA: 0s - loss: 9.2585e-04 - mae: 0.0241 - mse: 9.2585e-04"
     ]
    },
    {
     "name": "stderr",
     "output_type": "stream",
     "text": [
      "WARNING:tensorflow:Can save best model only with val_mean_squared_error available, skipping.\n"
     ]
    },
    {
     "name": "stdout",
     "output_type": "stream",
     "text": [
      "82/82 [==============================] - 1s 8ms/step - loss: 9.3207e-04 - mae: 0.0241 - mse: 9.3207e-04 - val_loss: 5.7598e-04 - val_mae: 0.0194 - val_mse: 5.7598e-04\n",
      "Epoch 84/100\n",
      "82/82 [==============================] - ETA: 0s - loss: 9.2859e-04 - mae: 0.0240 - mse: 9.2859e-04"
     ]
    },
    {
     "name": "stderr",
     "output_type": "stream",
     "text": [
      "WARNING:tensorflow:Can save best model only with val_mean_squared_error available, skipping.\n"
     ]
    },
    {
     "name": "stdout",
     "output_type": "stream",
     "text": [
      "82/82 [==============================] - 1s 8ms/step - loss: 9.2859e-04 - mae: 0.0240 - mse: 9.2859e-04 - val_loss: 6.7637e-04 - val_mae: 0.0209 - val_mse: 6.7637e-04\n",
      "Epoch 85/100\n",
      "78/82 [===========================>..] - ETA: 0s - loss: 9.4233e-04 - mae: 0.0242 - mse: 9.4233e-04"
     ]
    },
    {
     "name": "stderr",
     "output_type": "stream",
     "text": [
      "WARNING:tensorflow:Can save best model only with val_mean_squared_error available, skipping.\n"
     ]
    },
    {
     "name": "stdout",
     "output_type": "stream",
     "text": [
      "82/82 [==============================] - 1s 8ms/step - loss: 9.3863e-04 - mae: 0.0242 - mse: 9.3863e-04 - val_loss: 7.6158e-04 - val_mae: 0.0227 - val_mse: 7.6158e-04\n",
      "Epoch 86/100\n",
      "82/82 [==============================] - ETA: 0s - loss: 8.8296e-04 - mae: 0.0235 - mse: 8.8296e-04"
     ]
    },
    {
     "name": "stderr",
     "output_type": "stream",
     "text": [
      "WARNING:tensorflow:Can save best model only with val_mean_squared_error available, skipping.\n"
     ]
    },
    {
     "name": "stdout",
     "output_type": "stream",
     "text": [
      "82/82 [==============================] - 1s 8ms/step - loss: 8.8296e-04 - mae: 0.0235 - mse: 8.8296e-04 - val_loss: 6.8811e-04 - val_mae: 0.0207 - val_mse: 6.8811e-04\n",
      "Epoch 87/100\n",
      "75/82 [==========================>...] - ETA: 0s - loss: 8.5044e-04 - mae: 0.0229 - mse: 8.5044e-04"
     ]
    },
    {
     "name": "stderr",
     "output_type": "stream",
     "text": [
      "WARNING:tensorflow:Can save best model only with val_mean_squared_error available, skipping.\n"
     ]
    },
    {
     "name": "stdout",
     "output_type": "stream",
     "text": [
      "82/82 [==============================] - 1s 8ms/step - loss: 8.6672e-04 - mae: 0.0231 - mse: 8.6672e-04 - val_loss: 8.2403e-04 - val_mae: 0.0241 - val_mse: 8.2403e-04\n",
      "Epoch 88/100\n",
      "77/82 [===========================>..] - ETA: 0s - loss: 9.2148e-04 - mae: 0.0239 - mse: 9.2148e-04"
     ]
    },
    {
     "name": "stderr",
     "output_type": "stream",
     "text": [
      "WARNING:tensorflow:Can save best model only with val_mean_squared_error available, skipping.\n"
     ]
    },
    {
     "name": "stdout",
     "output_type": "stream",
     "text": [
      "82/82 [==============================] - 1s 8ms/step - loss: 9.3100e-04 - mae: 0.0240 - mse: 9.3100e-04 - val_loss: 7.1439e-04 - val_mae: 0.0206 - val_mse: 7.1439e-04\n",
      "Epoch 89/100\n",
      "80/82 [============================>.] - ETA: 0s - loss: 9.0330e-04 - mae: 0.0237 - mse: 9.0330e-04"
     ]
    },
    {
     "name": "stderr",
     "output_type": "stream",
     "text": [
      "WARNING:tensorflow:Can save best model only with val_mean_squared_error available, skipping.\n"
     ]
    },
    {
     "name": "stdout",
     "output_type": "stream",
     "text": [
      "82/82 [==============================] - 1s 8ms/step - loss: 9.0100e-04 - mae: 0.0237 - mse: 9.0100e-04 - val_loss: 7.4255e-04 - val_mae: 0.0213 - val_mse: 7.4255e-04\n",
      "Epoch 90/100\n",
      "76/82 [==========================>...] - ETA: 0s - loss: 8.3711e-04 - mae: 0.0226 - mse: 8.3711e-04"
     ]
    },
    {
     "name": "stderr",
     "output_type": "stream",
     "text": [
      "WARNING:tensorflow:Can save best model only with val_mean_squared_error available, skipping.\n"
     ]
    },
    {
     "name": "stdout",
     "output_type": "stream",
     "text": [
      "82/82 [==============================] - 1s 8ms/step - loss: 8.3426e-04 - mae: 0.0226 - mse: 8.3426e-04 - val_loss: 8.6813e-04 - val_mae: 0.0224 - val_mse: 8.6813e-04\n",
      "Epoch 91/100\n",
      "75/82 [==========================>...] - ETA: 0s - loss: 9.0704e-04 - mae: 0.0236 - mse: 9.0704e-04"
     ]
    },
    {
     "name": "stderr",
     "output_type": "stream",
     "text": [
      "WARNING:tensorflow:Can save best model only with val_mean_squared_error available, skipping.\n"
     ]
    },
    {
     "name": "stdout",
     "output_type": "stream",
     "text": [
      "82/82 [==============================] - 1s 8ms/step - loss: 8.9640e-04 - mae: 0.0235 - mse: 8.9640e-04 - val_loss: 6.6665e-04 - val_mae: 0.0210 - val_mse: 6.6665e-04\n",
      "Epoch 92/100\n",
      "76/82 [==========================>...] - ETA: 0s - loss: 8.4318e-04 - mae: 0.0227 - mse: 8.4318e-04"
     ]
    },
    {
     "name": "stderr",
     "output_type": "stream",
     "text": [
      "WARNING:tensorflow:Can save best model only with val_mean_squared_error available, skipping.\n"
     ]
    },
    {
     "name": "stdout",
     "output_type": "stream",
     "text": [
      "82/82 [==============================] - 1s 8ms/step - loss: 8.4113e-04 - mae: 0.0226 - mse: 8.4113e-04 - val_loss: 8.0213e-04 - val_mae: 0.0234 - val_mse: 8.0213e-04\n",
      "Epoch 93/100\n",
      "76/82 [==========================>...] - ETA: 0s - loss: 8.8414e-04 - mae: 0.0233 - mse: 8.8414e-04"
     ]
    },
    {
     "name": "stderr",
     "output_type": "stream",
     "text": [
      "WARNING:tensorflow:Can save best model only with val_mean_squared_error available, skipping.\n"
     ]
    },
    {
     "name": "stdout",
     "output_type": "stream",
     "text": [
      "82/82 [==============================] - 1s 8ms/step - loss: 8.8143e-04 - mae: 0.0232 - mse: 8.8143e-04 - val_loss: 7.8983e-04 - val_mae: 0.0214 - val_mse: 7.8983e-04\n",
      "Epoch 94/100\n",
      "79/82 [===========================>..] - ETA: 0s - loss: 9.1612e-04 - mae: 0.0238 - mse: 9.1612e-04"
     ]
    },
    {
     "name": "stderr",
     "output_type": "stream",
     "text": [
      "WARNING:tensorflow:Can save best model only with val_mean_squared_error available, skipping.\n"
     ]
    },
    {
     "name": "stdout",
     "output_type": "stream",
     "text": [
      "82/82 [==============================] - 1s 8ms/step - loss: 9.1666e-04 - mae: 0.0238 - mse: 9.1666e-04 - val_loss: 7.6878e-04 - val_mae: 0.0215 - val_mse: 7.6878e-04\n",
      "Epoch 95/100\n",
      "76/82 [==========================>...] - ETA: 0s - loss: 8.9462e-04 - mae: 0.0236 - mse: 8.9462e-04"
     ]
    },
    {
     "name": "stderr",
     "output_type": "stream",
     "text": [
      "WARNING:tensorflow:Can save best model only with val_mean_squared_error available, skipping.\n"
     ]
    },
    {
     "name": "stdout",
     "output_type": "stream",
     "text": [
      "82/82 [==============================] - 1s 8ms/step - loss: 8.8503e-04 - mae: 0.0235 - mse: 8.8503e-04 - val_loss: 7.3738e-04 - val_mae: 0.0221 - val_mse: 7.3738e-04\n",
      "Epoch 96/100\n",
      "75/82 [==========================>...] - ETA: 0s - loss: 8.3090e-04 - mae: 0.0227 - mse: 8.3090e-04"
     ]
    },
    {
     "name": "stderr",
     "output_type": "stream",
     "text": [
      "WARNING:tensorflow:Can save best model only with val_mean_squared_error available, skipping.\n"
     ]
    },
    {
     "name": "stdout",
     "output_type": "stream",
     "text": [
      "82/82 [==============================] - 1s 8ms/step - loss: 8.3389e-04 - mae: 0.0227 - mse: 8.3389e-04 - val_loss: 6.7193e-04 - val_mae: 0.0201 - val_mse: 6.7193e-04\n",
      "Epoch 97/100\n",
      "76/82 [==========================>...] - ETA: 0s - loss: 7.6612e-04 - mae: 0.0218 - mse: 7.6612e-04"
     ]
    },
    {
     "name": "stderr",
     "output_type": "stream",
     "text": [
      "WARNING:tensorflow:Can save best model only with val_mean_squared_error available, skipping.\n"
     ]
    },
    {
     "name": "stdout",
     "output_type": "stream",
     "text": [
      "82/82 [==============================] - 1s 8ms/step - loss: 7.7245e-04 - mae: 0.0219 - mse: 7.7245e-04 - val_loss: 7.0899e-04 - val_mae: 0.0205 - val_mse: 7.0899e-04\n",
      "Epoch 98/100\n",
      "77/82 [===========================>..] - ETA: 0s - loss: 7.7874e-04 - mae: 0.0219 - mse: 7.7874e-04"
     ]
    },
    {
     "name": "stderr",
     "output_type": "stream",
     "text": [
      "WARNING:tensorflow:Can save best model only with val_mean_squared_error available, skipping.\n"
     ]
    },
    {
     "name": "stdout",
     "output_type": "stream",
     "text": [
      "82/82 [==============================] - 1s 8ms/step - loss: 7.7736e-04 - mae: 0.0219 - mse: 7.7736e-04 - val_loss: 6.9011e-04 - val_mae: 0.0212 - val_mse: 6.9011e-04\n",
      "Epoch 99/100\n",
      "81/82 [============================>.] - ETA: 0s - loss: 8.1437e-04 - mae: 0.0224 - mse: 8.1437e-04"
     ]
    },
    {
     "name": "stderr",
     "output_type": "stream",
     "text": [
      "WARNING:tensorflow:Can save best model only with val_mean_squared_error available, skipping.\n"
     ]
    },
    {
     "name": "stdout",
     "output_type": "stream",
     "text": [
      "82/82 [==============================] - 1s 8ms/step - loss: 8.1382e-04 - mae: 0.0224 - mse: 8.1382e-04 - val_loss: 6.1759e-04 - val_mae: 0.0200 - val_mse: 6.1759e-04\n",
      "Epoch 100/100\n",
      "76/82 [==========================>...] - ETA: 0s - loss: 8.0252e-04 - mae: 0.0220 - mse: 8.0252e-04"
     ]
    },
    {
     "name": "stderr",
     "output_type": "stream",
     "text": [
      "WARNING:tensorflow:Can save best model only with val_mean_squared_error available, skipping.\n"
     ]
    },
    {
     "name": "stdout",
     "output_type": "stream",
     "text": [
      "82/82 [==============================] - 1s 8ms/step - loss: 8.0809e-04 - mae: 0.0221 - mse: 8.0809e-04 - val_loss: 5.8937e-04 - val_mae: 0.0191 - val_mse: 5.8937e-04\n"
     ]
    }
   ],
   "source": [
    "from keras.callbacks import ModelCheckpoint\n",
    "checkpoint = ModelCheckpoint(\"weights.best.hdf5\", monitor='val_mean_squared_error', verbose=1, save_best_only=True, mode='min')\n",
    "\n",
    "callbacks_list = [checkpoint]\n",
    "history = model.fit(X_train, y_train, epochs=100, batch_size=64, verbose=1, callbacks=callbacks_list, validation_split=0.1)"
   ]
  },
  {
   "cell_type": "code",
   "execution_count": 11,
   "id": "520a7400",
   "metadata": {
    "colab": {
     "base_uri": "https://localhost:8080/",
     "height": 851
    },
    "executionInfo": {
     "elapsed": 364,
     "status": "ok",
     "timestamp": 1670204684954,
     "user": {
      "displayName": "Emam Hossain",
      "userId": "00475912484380842878"
     },
     "user_tz": 300
    },
    "id": "520a7400",
    "outputId": "0292ec9c-185a-41a0-fab1-43aefa04330d"
   },
   "outputs": [
    {
     "data": {
      "image/png": "[encoded data removed]",
      "text/plain": [
       "<Figure size 432x288 with 1 Axes>"
      ]
     },
     "metadata": {
      "needs_background": "light"
     },
     "output_type": "display_data"
    },
    {
     "data": {
      "image/png": "[encoded data removed]",
      "text/plain": [
       "<Figure size 432x288 with 1 Axes>"
      ]
     },
     "metadata": {
      "needs_background": "light"
     },
     "output_type": "display_data"
    },
    {
     "data": {
      "image/png": "[encoded data removed]",
      "text/plain": [
       "<Figure size 432x288 with 1 Axes>"
      ]
     },
     "metadata": {
      "needs_background": "light"
     },
     "output_type": "display_data"
    }
   ],
   "source": [
    "plt.plot(history.history['mse'])\n",
    "plt.plot(history.history['val_mse'])\n",
    "plt.title('Mean Squared Error of SIE Prediction')\n",
    "plt.ylabel('MSE')\n",
    "plt.xlabel('Epoch')\n",
    "plt.legend(['train', 'validation'], loc='upper right')\n",
    "plt.show()\n",
    "\n",
    "plt.plot(history.history['mae'])\n",
    "plt.plot(history.history['val_mae'])\n",
    "plt.title('Mean Absolute Error of SIE Prediction')\n",
    "plt.ylabel('MAE')\n",
    "plt.xlabel('Epoch')\n",
    "plt.legend(['train', 'validation'], loc='upper right')\n",
    "plt.show()\n",
    "\n",
    "plt.plot(history.history['loss'])\n",
    "plt.plot(history.history['val_loss'])\n",
    "plt.title('Loss of SIE Prediction')\n",
    "plt.ylabel('Loss')\n",
    "plt.xlabel('Epoch')\n",
    "plt.legend(['train', 'validation'], loc='upper right')\n",
    "plt.show()"
   ]
  },
  {
   "cell_type": "code",
   "execution_count": 12,
   "id": "733c794b",
   "metadata": {
    "colab": {
     "base_uri": "https://localhost:8080/"
    },
    "executionInfo": {
     "elapsed": 1062,
     "status": "ok",
     "timestamp": 1670204686012,
     "user": {
      "displayName": "Emam Hossain",
      "userId": "00475912484380842878"
     },
     "user_tz": 300
    },
    "id": "733c794b",
    "outputId": "f3d648ad-6859-40a9-f877-ae15dd49efaf"
   },
   "outputs": [
    {
     "name": "stdout",
     "output_type": "stream",
     "text": [
      "46/46 [==============================] - 1s 3ms/step\n"
     ]
    }
   ],
   "source": [
    "from sklearn.metrics import mean_squared_error, mean_absolute_error, mean_absolute_percentage_error, r2_score\n",
    "from numpy import sqrt\n",
    "\n",
    "#model.load_weights(\"weights.best.hdf5\")\n",
    "\n",
    "cols = len(df.columns)\n",
    "pred = model.predict(X_test)\n",
    "\n",
    "predicted_dataset = dataset\n",
    "predicted_dataset[len(predicted_dataset)-len(pred):, cols-1] = pred[:, 0]\n",
    "scaled_predicted_dataset = scaler.inverse_transform(predicted_dataset)\n",
    "\n",
    "predicted_df = df.copy()\n",
    "predicted_df['sea_ice_extent'][len(predicted_dataset)-len(pred):] = scaled_predicted_dataset[len(predicted_dataset)-len(pred):, cols-1]\n",
    "\n",
    "predictions = pd.DataFrame()\n",
    "predictions['predicted'] = (predicted_df['sea_ice_extent'][len(predicted_dataset)-len(pred):])\n",
    "predictions['actual'] = (df['sea_ice_extent'][len(predicted_dataset)-len(pred):])\n",
    "predictions = predictions.astype(float)"
   ]
  },
  {
   "cell_type": "code",
   "execution_count": 13,
   "id": "3c545246",
   "metadata": {
    "colab": {
     "base_uri": "https://localhost:8080/",
     "height": 1000
    },
    "executionInfo": {
     "elapsed": 495,
     "status": "ok",
     "timestamp": 1670204686505,
     "user": {
      "displayName": "Emam Hossain",
      "userId": "00475912484380842878"
     },
     "user_tz": 300
    },
    "id": "3c545246",
    "outputId": "626875c9-37ac-49c7-f3e4-484017ad878b"
   },
   "outputs": [
    {
     "data": {
      "image/png": "[encoded data removed]",
      "text/plain": [
       "<Figure size 1152x432 with 1 Axes>"
      ]
     },
     "metadata": {
      "needs_background": "light"
     },
     "output_type": "display_data"
    },
    {
     "data": {
      "image/png": "[encoded data removed]",
      "text/plain": [
       "<Figure size 720x720 with 1 Axes>"
      ]
     },
     "metadata": {
      "needs_background": "light"
     },
     "output_type": "display_data"
    },
    {
     "name": "stdout",
     "output_type": "stream",
     "text": [
      "MSE :  361496127125.87683 (10⁶ km²)\n",
      "MSPE : 0.6469156069917854 %\n",
      "RMSE :  601245.4799213685 (10⁶ km²)\n",
      "RMSPE : 8.043106408545055 %\n",
      "MAE :  435374.02860096487 (10⁶ km²)\n",
      "MAPE :  4.6250466247782045 %\n",
      "R2 :  0.9676949500470741\n"
     ]
    }
   ],
   "source": [
    "plt.figure(figsize = (16,6))\n",
    "ax = plt.axes()\n",
    "# ax.set_facecolor('#dcdcdc')\n",
    "\n",
    "plt.title('Arctic Sea Ice Extent Actual vs Prediction Curve for Test Data', fontsize = 20,fontweight = \"bold\")\n",
    "plt.xlabel('Time' , fontsize = 14,fontweight = \"bold\")\n",
    "plt.ylabel('Sea Ice Extent (10\\u2076 km\\u00b2)', fontsize = 14,fontweight = \"bold\")\n",
    "plt.plot(predictions['actual']/10**6, 'blue', label='Actual SIE')\n",
    "plt.plot(predictions['predicted']/10**6, 'red', label='Predicted SIE')\n",
    "plt.legend()\n",
    "plt.grid()\n",
    "plt.show\n",
    "\n",
    "predictions['diff'] = predictions['predicted'] - predictions['actual']\n",
    "plt.figure(figsize=(10,10))\n",
    "plt.xlabel('Difference between actual and predicted SIE (10\\u2076 km\\u00b2)')\n",
    "sns.histplot(predictions['diff'])\n",
    "plt.title('Distribution of differences between actual and predicted SIE')\n",
    "plt.show()\n",
    "\n",
    "mspe = (np.mean(np.square((predictions['actual'].values - predictions['predicted'].values) / predictions['actual'].values))) * 100\n",
    "rmspe = (np.sqrt(np.mean(np.square((predictions['actual'].values - predictions['predicted'].values) / predictions['actual'].values)))) * 100\n",
    "\n",
    "print(\"MSE : \", mean_squared_error(predictions['predicted'].values, predictions['actual'].values), \"(10\\u2076 km\\u00b2)\")\n",
    "print(\"MSPE :\", mspe, \"%\")\n",
    "print(\"RMSE : \", sqrt(mean_squared_error(predictions['predicted'].values, predictions['actual'].values)), \"(10\\u2076 km\\u00b2)\")\n",
    "print(\"RMSPE :\", rmspe, \"%\")\n",
    "print(\"MAE : \", mean_absolute_error(predictions['predicted'].values, predictions['actual'].values), \"(10\\u2076 km\\u00b2)\")\n",
    "print(\"MAPE : \", mean_absolute_percentage_error(predictions['predicted'].values, predictions['actual'].values)*100, \"%\")\n",
    "print(\"R2 : \", r2_score(predictions['predicted'].values, predictions['actual'].values))"
   ]
  },
  {
   "cell_type": "code",
   "execution_count": 14,
   "id": "3f3aaf6d",
   "metadata": {
    "executionInfo": {
     "elapsed": 5,
     "status": "ok",
     "timestamp": 1670204686505,
     "user": {
      "displayName": "Emam Hossain",
      "userId": "00475912484380842878"
     },
     "user_tz": 300
    },
    "id": "3f3aaf6d"
   },
   "outputs": [],
   "source": [
    "# while True:pass"
   ]
  }
 ],
 "metadata": {
  "accelerator": "GPU",
  "colab": {
   "provenance": [
    {
     "file_id": "1tsdSY4XF8dbRdNGZQhWw6nd--RLFP4EX",
     "timestamp": 1670202049252
    },
    {
     "file_id": "1L3ixnLeRDivuLSWCq04VtDKnU7YIw_C7",
     "timestamp": 1670201891016
    },
    {
     "file_id": "1VJInZTaupyMxQ6JprjJi2D6639FmXJ-t",
     "timestamp": 1670201115947
    },
    {
     "file_id": "1f-ct_NOq__M1QDGjYMyualvRlVNWtnum",
     "timestamp": 1670201096560
    },
    {
     "file_id": "1S71KBLYU9q_J7PpD1i3PdHnejHsyHk2A",
     "timestamp": 1670201029903
    },
    {
     "file_id": "1ZW2CDeL2Z4e4d7GVtf1CCEU8ioKr_ozr",
     "timestamp": 1670200993047
    },
    {
     "file_id": "11ezPDxEfETgGwyGSoqr5wscr_t65bvL6",
     "timestamp": 1669223899169
    },
    {
     "file_id": "https://github.com/ehfahad/SIE-Prediction-using-Causal-Deep-Learning/blob/main/Models/SIE%20Prediction%20(1-day%20lead)%20upto%202014%20with%20day%2C%20week%2C%20month.ipynb",
     "timestamp": 1666883273850
    }
   ]
  },
  "gpuClass": "standard",
  "kernelspec": {
   "display_name": "Python 3 (ipykernel)",
   "language": "python",
   "name": "python3"
  },
  "language_info": {
   "codemirror_mode": {
    "name": "ipython",
    "version": 3
   },
   "file_extension": ".py",
   "mimetype": "text/x-python",
   "name": "python",
   "nbconvert_exporter": "python",
   "pygments_lexer": "ipython3",
   "version": "3.8.15"
  },
  "varInspector": {
   "cols": {
    "lenName": 16,
    "lenType": 16,
    "lenVar": 40
   },
   "kernels_config": {
    "python": {
     "delete_cmd_postfix": "",
     "delete_cmd_prefix": "del ",
     "library": "var_list.py",
     "varRefreshCmd": "print(var_dic_list())"
    },
    "r": {
     "delete_cmd_postfix": ") ",
     "delete_cmd_prefix": "rm(",
     "library": "var_list.r",
     "varRefreshCmd": "cat(var_dic_list()) "
    }
   },
   "position": {
    "height": "417.844px",
    "left": "1538px",
    "right": "20px",
    "top": "131px",
    "width": "350px"
   },
   "types_to_exclude": [
    "module",
    "function",
    "builtin_function_or_method",
    "instance",
    "_Feature"
   ],
   "window_display": true
  }
 },
 "nbformat": 4,
 "nbformat_minor": 5
}
