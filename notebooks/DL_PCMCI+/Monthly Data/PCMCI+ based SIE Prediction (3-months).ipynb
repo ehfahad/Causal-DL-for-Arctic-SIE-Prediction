{
 "cells": [
  {
   "cell_type": "code",
   "execution_count": 1,
   "id": "1507a9c1",
   "metadata": {
    "executionInfo": {
     "elapsed": 1521,
     "status": "ok",
     "timestamp": 1670226461152,
     "user": {
      "displayName": "Emam Hossain",
      "userId": "13589795966077461357"
     },
     "user_tz": 300
    },
    "id": "1507a9c1"
   },
   "outputs": [],
   "source": [
    "import numpy as np\n",
    "import pandas as pd\n",
    "import matplotlib.pyplot as plt\n",
    "import seaborn as sns\n",
    "from sklearn.preprocessing import MinMaxScaler"
   ]
  },
  {
   "cell_type": "code",
   "execution_count": 2,
   "id": "ZkC-CdqrYGLW",
   "metadata": {
    "executionInfo": {
     "elapsed": 8,
     "status": "ok",
     "timestamp": 1670226461153,
     "user": {
      "displayName": "Emam Hossain",
      "userId": "13589795966077461357"
     },
     "user_tz": 300
    },
    "id": "ZkC-CdqrYGLW"
   },
   "outputs": [],
   "source": [
    "# global variables\n",
    "\n",
    "look_back = 20\n",
    "lead_time = 3\n",
    "filename = '../../../data/Arctic_Monthy_Mean_1979_2021.csv'\n",
    "pcmciplus_features = ['LW_down', 'sst', 'sea_ice_extent']"
   ]
  },
  {
   "cell_type": "code",
   "execution_count": 3,
   "id": "zlPFdfw7F9-_",
   "metadata": {
    "colab": {
     "base_uri": "https://localhost:8080/",
     "height": 74
    },
    "executionInfo": {
     "elapsed": 15821,
     "status": "ok",
     "timestamp": 1670226476967,
     "user": {
      "displayName": "Emam Hossain",
      "userId": "13589795966077461357"
     },
     "user_tz": 300
    },
    "id": "zlPFdfw7F9-_",
    "outputId": "6b1a8c7d-c08f-4c28-e164-d7f6d981eff0"
   },
   "outputs": [
    {
     "data": {
      "text/html": [
       "<div>\n",
       "<style scoped>\n",
       "    .dataframe tbody tr th:only-of-type {\n",
       "        vertical-align: middle;\n",
       "    }\n",
       "\n",
       "    .dataframe tbody tr th {\n",
       "        vertical-align: top;\n",
       "    }\n",
       "\n",
       "    .dataframe thead th {\n",
       "        text-align: right;\n",
       "    }\n",
       "</style>\n",
       "<table border=\"1\" class=\"dataframe\">\n",
       "  <thead>\n",
       "    <tr style=\"text-align: right;\">\n",
       "      <th></th>\n",
       "      <th>Date</th>\n",
       "      <th>wind_10m</th>\n",
       "      <th>specific_humidity</th>\n",
       "      <th>LW_down</th>\n",
       "      <th>SW_down</th>\n",
       "      <th>rainfall</th>\n",
       "      <th>snowfall</th>\n",
       "      <th>sst</th>\n",
       "      <th>t2m</th>\n",
       "      <th>surface_pressure</th>\n",
       "      <th>sea_ice_extent</th>\n",
       "    </tr>\n",
       "  </thead>\n",
       "  <tbody>\n",
       "    <tr>\n",
       "      <th>0</th>\n",
       "      <td>1/1/1979</td>\n",
       "      <td>5.531398</td>\n",
       "      <td>0.811961</td>\n",
       "      <td>186.687054</td>\n",
       "      <td>3.127880</td>\n",
       "      <td>1.009872</td>\n",
       "      <td>0.892319</td>\n",
       "      <td>273.355237</td>\n",
       "      <td>250.388101</td>\n",
       "      <td>984.633032</td>\n",
       "      <td>15604191</td>\n",
       "    </tr>\n",
       "    <tr>\n",
       "      <th>1</th>\n",
       "      <td>2/1/1979</td>\n",
       "      <td>5.328020</td>\n",
       "      <td>0.688896</td>\n",
       "      <td>174.794571</td>\n",
       "      <td>18.541594</td>\n",
       "      <td>0.920831</td>\n",
       "      <td>0.781347</td>\n",
       "      <td>273.121885</td>\n",
       "      <td>247.071202</td>\n",
       "      <td>983.980418</td>\n",
       "      <td>16378929</td>\n",
       "    </tr>\n",
       "    <tr>\n",
       "      <th>2</th>\n",
       "      <td>3/1/1979</td>\n",
       "      <td>5.432511</td>\n",
       "      <td>0.916124</td>\n",
       "      <td>190.741933</td>\n",
       "      <td>67.690429</td>\n",
       "      <td>0.983327</td>\n",
       "      <td>0.855266</td>\n",
       "      <td>273.088099</td>\n",
       "      <td>252.954138</td>\n",
       "      <td>985.140468</td>\n",
       "      <td>16521089</td>\n",
       "    </tr>\n",
       "    <tr>\n",
       "      <th>3</th>\n",
       "      <td>4/1/1979</td>\n",
       "      <td>4.792836</td>\n",
       "      <td>1.272056</td>\n",
       "      <td>212.937925</td>\n",
       "      <td>156.223673</td>\n",
       "      <td>0.890723</td>\n",
       "      <td>0.705203</td>\n",
       "      <td>273.126062</td>\n",
       "      <td>259.557456</td>\n",
       "      <td>989.314698</td>\n",
       "      <td>15561238</td>\n",
       "    </tr>\n",
       "    <tr>\n",
       "      <th>4</th>\n",
       "      <td>5/1/1979</td>\n",
       "      <td>4.819028</td>\n",
       "      <td>2.239776</td>\n",
       "      <td>253.690478</td>\n",
       "      <td>230.950833</td>\n",
       "      <td>1.201308</td>\n",
       "      <td>0.688723</td>\n",
       "      <td>273.393551</td>\n",
       "      <td>269.375118</td>\n",
       "      <td>984.483658</td>\n",
       "      <td>14085613</td>\n",
       "    </tr>\n",
       "  </tbody>\n",
       "</table>\n",
       "</div>"
      ],
      "text/plain": [
       "       Date  wind_10m  specific_humidity     LW_down     SW_down  rainfall  \\\n",
       "0  1/1/1979  5.531398           0.811961  186.687054    3.127880  1.009872   \n",
       "1  2/1/1979  5.328020           0.688896  174.794571   18.541594  0.920831   \n",
       "2  3/1/1979  5.432511           0.916124  190.741933   67.690429  0.983327   \n",
       "3  4/1/1979  4.792836           1.272056  212.937925  156.223673  0.890723   \n",
       "4  5/1/1979  4.819028           2.239776  253.690478  230.950833  1.201308   \n",
       "\n",
       "   snowfall         sst         t2m  surface_pressure  sea_ice_extent  \n",
       "0  0.892319  273.355237  250.388101        984.633032        15604191  \n",
       "1  0.781347  273.121885  247.071202        983.980418        16378929  \n",
       "2  0.855266  273.088099  252.954138        985.140468        16521089  \n",
       "3  0.705203  273.126062  259.557456        989.314698        15561238  \n",
       "4  0.688723  273.393551  269.375118        984.483658        14085613  "
      ]
     },
     "execution_count": 3,
     "metadata": {},
     "output_type": "execute_result"
    }
   ],
   "source": [
    "# from google.colab import files\n",
    "# import io\n",
    "\n",
    "# uploaded = files.upload()\n",
    "# df = pd.read_csv(io.BytesIO(uploaded[filename]))\n",
    "\n",
    "# Reading the dataset\n",
    "df = pd.read_csv(filename)\n",
    "df.head()"
   ]
  },
  {
   "cell_type": "code",
   "execution_count": 4,
   "id": "683fdbc4",
   "metadata": {
    "colab": {
     "base_uri": "https://localhost:8080/",
     "height": 455
    },
    "executionInfo": {
     "elapsed": 201,
     "status": "ok",
     "timestamp": 1670226477164,
     "user": {
      "displayName": "Emam Hossain",
      "userId": "13589795966077461357"
     },
     "user_tz": 300
    },
    "id": "683fdbc4",
    "outputId": "20c22ee7-65d7-440b-dbef-64e405e942d0"
   },
   "outputs": [
    {
     "data": {
      "text/html": [
       "\n",
       "  <div id=\"df-92263cdf-0d2b-42a8-9f6f-3e32a231e862\">\n",
       "    <div class=\"colab-df-container\">\n",
       "      <div>\n",
       "<style scoped>\n",
       "    .dataframe tbody tr th:only-of-type {\n",
       "        vertical-align: middle;\n",
       "    }\n",
       "\n",
       "    .dataframe tbody tr th {\n",
       "        vertical-align: top;\n",
       "    }\n",
       "\n",
       "    .dataframe thead th {\n",
       "        text-align: right;\n",
       "    }\n",
       "</style>\n",
       "<table border=\"1\" class=\"dataframe\">\n",
       "  <thead>\n",
       "    <tr style=\"text-align: right;\">\n",
       "      <th></th>\n",
       "      <th>LW_down</th>\n",
       "      <th>sst</th>\n",
       "      <th>sea_ice_extent</th>\n",
       "    </tr>\n",
       "    <tr>\n",
       "      <th>Date</th>\n",
       "      <th></th>\n",
       "      <th></th>\n",
       "      <th></th>\n",
       "    </tr>\n",
       "  </thead>\n",
       "  <tbody>\n",
       "    <tr>\n",
       "      <th>1979-01-01</th>\n",
       "      <td>186.687054</td>\n",
       "      <td>273.355237</td>\n",
       "      <td>15604191.0</td>\n",
       "    </tr>\n",
       "    <tr>\n",
       "      <th>1979-02-01</th>\n",
       "      <td>174.794571</td>\n",
       "      <td>273.121885</td>\n",
       "      <td>16378929.0</td>\n",
       "    </tr>\n",
       "    <tr>\n",
       "      <th>1979-03-01</th>\n",
       "      <td>190.741933</td>\n",
       "      <td>273.088099</td>\n",
       "      <td>16521089.0</td>\n",
       "    </tr>\n",
       "    <tr>\n",
       "      <th>1979-04-01</th>\n",
       "      <td>212.937925</td>\n",
       "      <td>273.126062</td>\n",
       "      <td>15561238.0</td>\n",
       "    </tr>\n",
       "    <tr>\n",
       "      <th>1979-05-01</th>\n",
       "      <td>253.690478</td>\n",
       "      <td>273.393551</td>\n",
       "      <td>14085613.0</td>\n",
       "    </tr>\n",
       "    <tr>\n",
       "      <th>...</th>\n",
       "      <td>...</td>\n",
       "      <td>...</td>\n",
       "      <td>...</td>\n",
       "    </tr>\n",
       "    <tr>\n",
       "      <th>2021-04-01</th>\n",
       "      <td>225.171796</td>\n",
       "      <td>273.470298</td>\n",
       "      <td>13840000.0</td>\n",
       "    </tr>\n",
       "    <tr>\n",
       "      <th>2021-05-01</th>\n",
       "      <td>260.956781</td>\n",
       "      <td>273.888627</td>\n",
       "      <td>12660000.0</td>\n",
       "    </tr>\n",
       "    <tr>\n",
       "      <th>2021-06-01</th>\n",
       "      <td>294.931709</td>\n",
       "      <td>275.245088</td>\n",
       "      <td>10710000.0</td>\n",
       "    </tr>\n",
       "    <tr>\n",
       "      <th>2021-07-01</th>\n",
       "      <td>313.311345</td>\n",
       "      <td>277.253314</td>\n",
       "      <td>7690000.0</td>\n",
       "    </tr>\n",
       "    <tr>\n",
       "      <th>2021-08-01</th>\n",
       "      <td>313.003568</td>\n",
       "      <td>278.556142</td>\n",
       "      <td>5750000.0</td>\n",
       "    </tr>\n",
       "  </tbody>\n",
       "</table>\n",
       "<p>512 rows × 3 columns</p>\n",
       "</div>\n",
       "      <button class=\"colab-df-convert\" onclick=\"convertToInteractive('df-92263cdf-0d2b-42a8-9f6f-3e32a231e862')\"\n",
       "              title=\"Convert this dataframe to an interactive table.\"\n",
       "              style=\"display:none;\">\n",
       "        \n",
       "  <svg xmlns=\"http://www.w3.org/2000/svg\" height=\"24px\"viewBox=\"0 0 24 24\"\n",
       "       width=\"24px\">\n",
       "    <path d=\"M0 0h24v24H0V0z\" fill=\"none\"/>\n",
       "    <path d=\"M18.56 5.44l.94 2.06.94-2.06 2.06-.94-2.06-.94-.94-2.06-.94 2.06-2.06.94zm-11 1L8.5 8.5l.94-2.06 2.06-.94-2.06-.94L8.5 2.5l-.94 2.06-2.06.94zm10 10l.94 2.06.94-2.06 2.06-.94-2.06-.94-.94-2.06-.94 2.06-2.06.94z\"/><path d=\"M17.41 7.96l-1.37-1.37c-.4-.4-.92-.59-1.43-.59-.52 0-1.04.2-1.43.59L10.3 9.45l-7.72 7.72c-.78.78-.78 2.05 0 2.83L4 21.41c.39.39.9.59 1.41.59.51 0 1.02-.2 1.41-.59l7.78-7.78 2.81-2.81c.8-.78.8-2.07 0-2.86zM5.41 20L4 18.59l7.72-7.72 1.47 1.35L5.41 20z\"/>\n",
       "  </svg>\n",
       "      </button>\n",
       "      \n",
       "  <style>\n",
       "    .colab-df-container {\n",
       "      display:flex;\n",
       "      flex-wrap:wrap;\n",
       "      gap: 12px;\n",
       "    }\n",
       "\n",
       "    .colab-df-convert {\n",
       "      background-color: #E8F0FE;\n",
       "      border: none;\n",
       "      border-radius: 50%;\n",
       "      cursor: pointer;\n",
       "      display: none;\n",
       "      fill: #1967D2;\n",
       "      height: 32px;\n",
       "      padding: 0 0 0 0;\n",
       "      width: 32px;\n",
       "    }\n",
       "\n",
       "    .colab-df-convert:hover {\n",
       "      background-color: #E2EBFA;\n",
       "      box-shadow: 0px 1px 2px rgba(60, 64, 67, 0.3), 0px 1px 3px 1px rgba(60, 64, 67, 0.15);\n",
       "      fill: #174EA6;\n",
       "    }\n",
       "\n",
       "    [theme=dark] .colab-df-convert {\n",
       "      background-color: #3B4455;\n",
       "      fill: #D2E3FC;\n",
       "    }\n",
       "\n",
       "    [theme=dark] .colab-df-convert:hover {\n",
       "      background-color: #434B5C;\n",
       "      box-shadow: 0px 1px 3px 1px rgba(0, 0, 0, 0.15);\n",
       "      filter: drop-shadow(0px 1px 2px rgba(0, 0, 0, 0.3));\n",
       "      fill: #FFFFFF;\n",
       "    }\n",
       "  </style>\n",
       "\n",
       "      <script>\n",
       "        const buttonEl =\n",
       "          document.querySelector('#df-92263cdf-0d2b-42a8-9f6f-3e32a231e862 button.colab-df-convert');\n",
       "        buttonEl.style.display =\n",
       "          google.colab.kernel.accessAllowed ? 'block' : 'none';\n",
       "\n",
       "        async function convertToInteractive(key) {\n",
       "          const element = document.querySelector('#df-92263cdf-0d2b-42a8-9f6f-3e32a231e862');\n",
       "          const dataTable =\n",
       "            await google.colab.kernel.invokeFunction('convertToInteractive',\n",
       "                                                     [key], {});\n",
       "          if (!dataTable) return;\n",
       "\n",
       "          const docLinkHtml = 'Like what you see? Visit the ' +\n",
       "            '<a target=\"_blank\" href=https://colab.research.google.com/notebooks/data_table.ipynb>data table notebook</a>'\n",
       "            + ' to learn more about interactive tables.';\n",
       "          element.innerHTML = '';\n",
       "          dataTable['output_type'] = 'display_data';\n",
       "          await google.colab.output.renderOutput(dataTable, element);\n",
       "          const docLink = document.createElement('div');\n",
       "          docLink.innerHTML = docLinkHtml;\n",
       "          element.appendChild(docLink);\n",
       "        }\n",
       "      </script>\n",
       "    </div>\n",
       "  </div>\n",
       "  "
      ],
      "text/plain": [
       "               LW_down         sst  sea_ice_extent\n",
       "Date                                              \n",
       "1979-01-01  186.687054  273.355237      15604191.0\n",
       "1979-02-01  174.794571  273.121885      16378929.0\n",
       "1979-03-01  190.741933  273.088099      16521089.0\n",
       "1979-04-01  212.937925  273.126062      15561238.0\n",
       "1979-05-01  253.690478  273.393551      14085613.0\n",
       "...                ...         ...             ...\n",
       "2021-04-01  225.171796  273.470298      13840000.0\n",
       "2021-05-01  260.956781  273.888627      12660000.0\n",
       "2021-06-01  294.931709  275.245088      10710000.0\n",
       "2021-07-01  313.311345  277.253314       7690000.0\n",
       "2021-08-01  313.003568  278.556142       5750000.0\n",
       "\n",
       "[512 rows x 3 columns]"
      ]
     },
     "execution_count": 4,
     "metadata": {},
     "output_type": "execute_result"
    }
   ],
   "source": [
    "df['Date'] = pd.to_datetime(df['Date'], infer_datetime_format=True)\n",
    "df.set_index('Date', inplace=True)\n",
    "df = df.astype(float)                 # cast df to float\n",
    "df = df[pcmciplus_features]\n",
    "df.tail(len(df))"
   ]
  },
  {
   "cell_type": "code",
   "execution_count": 5,
   "id": "e5014c30",
   "metadata": {
    "executionInfo": {
     "elapsed": 3,
     "status": "ok",
     "timestamp": 1670226477165,
     "user": {
      "displayName": "Emam Hossain",
      "userId": "13589795966077461357"
     },
     "user_tz": 300
    },
    "id": "e5014c30"
   },
   "outputs": [],
   "source": [
    "def create_model_data (dataset, look_back, lead_time):\n",
    "    dataX, dataY = [], []\n",
    "    \n",
    "    for i in range(len(dataset)-look_back-lead_time):\n",
    "        a = dataset[i:(i+look_back)]\n",
    "        dataX.append(a)\n",
    "        dataY.append(dataset[i + look_back + (lead_time-1)])\n",
    "    return np.array(dataX), np.array(dataY)"
   ]
  },
  {
   "cell_type": "code",
   "execution_count": 6,
   "id": "c1aaa5e4",
   "metadata": {
    "executionInfo": {
     "elapsed": 3,
     "status": "ok",
     "timestamp": 1670226477165,
     "user": {
      "displayName": "Emam Hossain",
      "userId": "13589795966077461357"
     },
     "user_tz": 300
    },
    "id": "c1aaa5e4",
    "scrolled": true
   },
   "outputs": [],
   "source": [
    "target_index = df.columns.tolist().index('sea_ice_extent')\n",
    "\n",
    "dataset = df.values.astype('float32')               # DataFrame converted to Numpy Array\n",
    "\n",
    "scaler = MinMaxScaler(feature_range=(0, 1))\n",
    "dataset = scaler.fit_transform(dataset)\n",
    "\n",
    "X, y = create_model_data (dataset, look_back=look_back, lead_time=lead_time)\n",
    "y = y[:,target_index]"
   ]
  },
  {
   "cell_type": "code",
   "execution_count": 7,
   "id": "KGbRA39Br3S9",
   "metadata": {
    "executionInfo": {
     "elapsed": 230,
     "status": "ok",
     "timestamp": 1670226477393,
     "user": {
      "displayName": "Emam Hossain",
      "userId": "13589795966077461357"
     },
     "user_tz": 300
    },
    "id": "KGbRA39Br3S9"
   },
   "outputs": [],
   "source": [
    "from sklearn.model_selection import train_test_split\n",
    "\n",
    "X_train, X_test, y_train, y_test = train_test_split(X, y, test_size=0.2, shuffle=False)"
   ]
  },
  {
   "cell_type": "code",
   "execution_count": 8,
   "id": "9405d356",
   "metadata": {
    "colab": {
     "base_uri": "https://localhost:8080/",
     "height": 431
    },
    "executionInfo": {
     "elapsed": 941,
     "status": "ok",
     "timestamp": 1670226478331,
     "user": {
      "displayName": "Emam Hossain",
      "userId": "13589795966077461357"
     },
     "user_tz": 300
    },
    "id": "9405d356",
    "outputId": "cad517a1-0581-45ff-a4d1-fc1cc203bdcb"
   },
   "outputs": [
    {
     "data": {
      "text/plain": [
       "<function matplotlib.pyplot.show(*args, **kw)>"
      ]
     },
     "execution_count": 8,
     "metadata": {},
     "output_type": "execute_result"
    },
    {
     "data": {
      "image/png": "[encoded data removed]",
      "text/plain": [
       "<Figure size 1152x432 with 1 Axes>"
      ]
     },
     "metadata": {
      "needs_background": "light"
     },
     "output_type": "display_data"
    }
   ],
   "source": [
    "plt.figure(figsize = (16,6))\n",
    "ax = plt.axes()\n",
    "# ax.set_facecolor('#dcdcdc')\n",
    "\n",
    "plt.title('Arctic Sea Ice Extent Trend from 1979-2018', fontsize = 20,fontweight = \"bold\")\n",
    "plt.xlabel('Time' , fontsize = 14,fontweight = \"bold\")\n",
    "plt.ylabel('Sea Ice Extent (10\\u2076 km\\u00b2)', fontsize = 14,fontweight = \"bold\")\n",
    "plt.plot(df['sea_ice_extent'][:len(df)-len(y_test)]/10**6, 'blue', label='Training Data')\n",
    "plt.plot(df['sea_ice_extent'][len(df)-len(y_test):]/10**6, 'red', label='Testing Data')\n",
    "plt.legend()\n",
    "plt.grid()\n",
    "plt.show"
   ]
  },
  {
   "cell_type": "code",
   "execution_count": 9,
   "id": "86f5e0f3",
   "metadata": {
    "colab": {
     "base_uri": "https://localhost:8080/"
    },
    "executionInfo": {
     "elapsed": 11482,
     "status": "ok",
     "timestamp": 1670226489810,
     "user": {
      "displayName": "Emam Hossain",
      "userId": "13589795966077461357"
     },
     "user_tz": 300
    },
    "id": "86f5e0f3",
    "outputId": "e4a88ef6-ac73-4bde-e6ee-6eb097e9a683"
   },
   "outputs": [
    {
     "name": "stdout",
     "output_type": "stream",
     "text": [
      "Model: \"sequential\"\n",
      "_________________________________________________________________\n",
      " Layer (type)                Output Shape              Param #   \n",
      "=================================================================\n",
      " gru (GRU)                   (None, 20, 64)            13248     \n",
      "                                                                 \n",
      " dropout (Dropout)           (None, 20, 64)            0         \n",
      "                                                                 \n",
      " gru_1 (GRU)                 (None, 20, 128)           74496     \n",
      "                                                                 \n",
      " dropout_1 (Dropout)         (None, 20, 128)           0         \n",
      "                                                                 \n",
      " gru_2 (GRU)                 (None, 20, 256)           296448    \n",
      "                                                                 \n",
      " dropout_2 (Dropout)         (None, 20, 256)           0         \n",
      "                                                                 \n",
      " gru_3 (GRU)                 (None, 20, 512)           1182720   \n",
      "                                                                 \n",
      " dropout_3 (Dropout)         (None, 20, 512)           0         \n",
      "                                                                 \n",
      " lstm (LSTM)                 (None, 20, 1024)          6295552   \n",
      "                                                                 \n",
      " dropout_4 (Dropout)         (None, 20, 1024)          0         \n",
      "                                                                 \n",
      " lstm_1 (LSTM)               (None, 20, 512)           3147776   \n",
      "                                                                 \n",
      " dropout_5 (Dropout)         (None, 20, 512)           0         \n",
      "                                                                 \n",
      " lstm_2 (LSTM)               (None, 20, 256)           787456    \n",
      "                                                                 \n",
      " dropout_6 (Dropout)         (None, 20, 256)           0         \n",
      "                                                                 \n",
      " lstm_3 (LSTM)               (None, 128)               197120    \n",
      "                                                                 \n",
      " dropout_7 (Dropout)         (None, 128)               0         \n",
      "                                                                 \n",
      " dense (Dense)               (None, 64)                8256      \n",
      "                                                                 \n",
      " dense_1 (Dense)             (None, 1)                 65        \n",
      "                                                                 \n",
      "=================================================================\n",
      "Total params: 12,003,137\n",
      "Trainable params: 12,003,137\n",
      "Non-trainable params: 0\n",
      "_________________________________________________________________\n",
      "None\n"
     ]
    }
   ],
   "source": [
    "from keras.models import Sequential\n",
    "from keras.layers import Dense, Dropout, Activation, Input, LSTM, GRU, Dense\n",
    "\n",
    "input_shape=(X.shape[1], X.shape[2])\n",
    "\n",
    "model = Sequential()\n",
    "model.add(GRU(64, input_shape=(X.shape[1], X.shape[2]), return_sequences=True))\n",
    "model.add(Dropout(0.2))\n",
    "\n",
    "model.add(GRU(128, return_sequences=True))\n",
    "model.add(Dropout(0.2))\n",
    "\n",
    "model.add(GRU(256, return_sequences=True))\n",
    "model.add(Dropout(0.2))\n",
    "\n",
    "model.add(GRU(512, return_sequences=True))\n",
    "model.add(Dropout(0.2))\n",
    "\n",
    "model.add(LSTM(1024, return_sequences=True))\n",
    "model.add(Dropout(0.2))\n",
    "\n",
    "model.add(LSTM(512, return_sequences=True))\n",
    "model.add(Dropout(0.2))\n",
    "\n",
    "model.add(LSTM(256, return_sequences=True))\n",
    "model.add(Dropout(0.2))\n",
    "\n",
    "model.add(LSTM(128))\n",
    "model.add(Dropout(0.2))\n",
    "\n",
    "model.add(Dense(64 ,  activation = 'relu'))\n",
    "model.add(Dense(1))\n",
    "\n",
    "model.compile(loss='mean_squared_error', optimizer='adam', metrics=['mae', 'mse'])\n",
    "print(model.summary())"
   ]
  },
  {
   "cell_type": "code",
   "execution_count": 10,
   "id": "8a6be2cb",
   "metadata": {
    "colab": {
     "base_uri": "https://localhost:8080/"
    },
    "executionInfo": {
     "elapsed": 51366,
     "status": "ok",
     "timestamp": 1670226541172,
     "user": {
      "displayName": "Emam Hossain",
      "userId": "13589795966077461357"
     },
     "user_tz": 300
    },
    "id": "8a6be2cb",
    "outputId": "c52bce92-add0-4033-ebaa-485c920e5836",
    "scrolled": true
   },
   "outputs": [
    {
     "name": "stdout",
     "output_type": "stream",
     "text": [
      "Epoch 1/100\n",
      "6/6 [==============================] - ETA: 0s - loss: 1.0801 - mae: 0.7585 - mse: 1.0801"
     ]
    },
    {
     "name": "stderr",
     "output_type": "stream",
     "text": [
      "WARNING:tensorflow:Can save best model only with val_mean_squared_error available, skipping.\n"
     ]
    },
    {
     "name": "stdout",
     "output_type": "stream",
     "text": [
      "6/6 [==============================] - 18s 526ms/step - loss: 1.0801 - mae: 0.7585 - mse: 1.0801 - val_loss: 0.3013 - val_mae: 0.4827 - val_mse: 0.3013\n",
      "Epoch 2/100\n",
      "5/6 [========================>.....] - ETA: 0s - loss: 0.1984 - mae: 0.3720 - mse: 0.1984"
     ]
    },
    {
     "name": "stderr",
     "output_type": "stream",
     "text": [
      "WARNING:tensorflow:Can save best model only with val_mean_squared_error available, skipping.\n"
     ]
    },
    {
     "name": "stdout",
     "output_type": "stream",
     "text": [
      "6/6 [==============================] - 0s 56ms/step - loss: 0.2039 - mae: 0.3770 - mse: 0.2039 - val_loss: 0.1228 - val_mae: 0.2528 - val_mse: 0.1228\n",
      "Epoch 3/100\n",
      "5/6 [========================>.....] - ETA: 0s - loss: 0.0809 - mae: 0.2362 - mse: 0.0809"
     ]
    },
    {
     "name": "stderr",
     "output_type": "stream",
     "text": [
      "WARNING:tensorflow:Can save best model only with val_mean_squared_error available, skipping.\n"
     ]
    },
    {
     "name": "stdout",
     "output_type": "stream",
     "text": [
      "6/6 [==============================] - 0s 45ms/step - loss: 0.0820 - mae: 0.2384 - mse: 0.0820 - val_loss: 0.0750 - val_mae: 0.2329 - val_mse: 0.0750\n",
      "Epoch 4/100\n",
      "5/6 [========================>.....] - ETA: 0s - loss: 0.0609 - mae: 0.2018 - mse: 0.0609"
     ]
    },
    {
     "name": "stderr",
     "output_type": "stream",
     "text": [
      "WARNING:tensorflow:Can save best model only with val_mean_squared_error available, skipping.\n"
     ]
    },
    {
     "name": "stdout",
     "output_type": "stream",
     "text": [
      "6/6 [==============================] - 0s 44ms/step - loss: 0.0591 - mae: 0.1977 - mse: 0.0591 - val_loss: 0.0665 - val_mae: 0.2198 - val_mse: 0.0665\n",
      "Epoch 5/100\n",
      "5/6 [========================>.....] - ETA: 0s - loss: 0.0528 - mae: 0.1972 - mse: 0.0528"
     ]
    },
    {
     "name": "stderr",
     "output_type": "stream",
     "text": [
      "WARNING:tensorflow:Can save best model only with val_mean_squared_error available, skipping.\n"
     ]
    },
    {
     "name": "stdout",
     "output_type": "stream",
     "text": [
      "6/6 [==============================] - 0s 44ms/step - loss: 0.0528 - mae: 0.1960 - mse: 0.0528 - val_loss: 0.0663 - val_mae: 0.1853 - val_mse: 0.0663\n",
      "Epoch 6/100\n",
      "5/6 [========================>.....] - ETA: 0s - loss: 0.0455 - mae: 0.1696 - mse: 0.0455"
     ]
    },
    {
     "name": "stderr",
     "output_type": "stream",
     "text": [
      "WARNING:tensorflow:Can save best model only with val_mean_squared_error available, skipping.\n"
     ]
    },
    {
     "name": "stdout",
     "output_type": "stream",
     "text": [
      "6/6 [==============================] - 0s 45ms/step - loss: 0.0449 - mae: 0.1695 - mse: 0.0449 - val_loss: 0.0561 - val_mae: 0.1735 - val_mse: 0.0561\n",
      "Epoch 7/100\n",
      "5/6 [========================>.....] - ETA: 0s - loss: 0.0360 - mae: 0.1583 - mse: 0.0360"
     ]
    },
    {
     "name": "stderr",
     "output_type": "stream",
     "text": [
      "WARNING:tensorflow:Can save best model only with val_mean_squared_error available, skipping.\n"
     ]
    },
    {
     "name": "stdout",
     "output_type": "stream",
     "text": [
      "6/6 [==============================] - 0s 46ms/step - loss: 0.0361 - mae: 0.1586 - mse: 0.0361 - val_loss: 0.0930 - val_mae: 0.2189 - val_mse: 0.0930\n",
      "Epoch 8/100\n",
      "5/6 [========================>.....] - ETA: 0s - loss: 0.0399 - mae: 0.1559 - mse: 0.0399"
     ]
    },
    {
     "name": "stderr",
     "output_type": "stream",
     "text": [
      "WARNING:tensorflow:Can save best model only with val_mean_squared_error available, skipping.\n"
     ]
    },
    {
     "name": "stdout",
     "output_type": "stream",
     "text": [
      "6/6 [==============================] - 0s 44ms/step - loss: 0.0391 - mae: 0.1554 - mse: 0.0391 - val_loss: 0.0442 - val_mae: 0.1552 - val_mse: 0.0442\n",
      "Epoch 9/100\n",
      "5/6 [========================>.....] - ETA: 0s - loss: 0.0233 - mae: 0.1173 - mse: 0.0233"
     ]
    },
    {
     "name": "stderr",
     "output_type": "stream",
     "text": [
      "WARNING:tensorflow:Can save best model only with val_mean_squared_error available, skipping.\n"
     ]
    },
    {
     "name": "stdout",
     "output_type": "stream",
     "text": [
      "6/6 [==============================] - 0s 44ms/step - loss: 0.0233 - mae: 0.1168 - mse: 0.0233 - val_loss: 0.0326 - val_mae: 0.1275 - val_mse: 0.0326\n",
      "Epoch 10/100\n",
      "5/6 [========================>.....] - ETA: 0s - loss: 0.0184 - mae: 0.1096 - mse: 0.0184"
     ]
    },
    {
     "name": "stderr",
     "output_type": "stream",
     "text": [
      "WARNING:tensorflow:Can save best model only with val_mean_squared_error available, skipping.\n"
     ]
    },
    {
     "name": "stdout",
     "output_type": "stream",
     "text": [
      "6/6 [==============================] - 0s 45ms/step - loss: 0.0180 - mae: 0.1087 - mse: 0.0180 - val_loss: 0.0700 - val_mae: 0.2164 - val_mse: 0.0700\n",
      "Epoch 11/100\n",
      "5/6 [========================>.....] - ETA: 0s - loss: 0.0187 - mae: 0.1065 - mse: 0.0187"
     ]
    },
    {
     "name": "stderr",
     "output_type": "stream",
     "text": [
      "WARNING:tensorflow:Can save best model only with val_mean_squared_error available, skipping.\n"
     ]
    },
    {
     "name": "stdout",
     "output_type": "stream",
     "text": [
      "6/6 [==============================] - 0s 47ms/step - loss: 0.0186 - mae: 0.1071 - mse: 0.0186 - val_loss: 0.0540 - val_mae: 0.2063 - val_mse: 0.0540\n",
      "Epoch 12/100\n",
      "5/6 [========================>.....] - ETA: 0s - loss: 0.0181 - mae: 0.1015 - mse: 0.0181"
     ]
    },
    {
     "name": "stderr",
     "output_type": "stream",
     "text": [
      "WARNING:tensorflow:Can save best model only with val_mean_squared_error available, skipping.\n"
     ]
    },
    {
     "name": "stdout",
     "output_type": "stream",
     "text": [
      "6/6 [==============================] - 0s 44ms/step - loss: 0.0178 - mae: 0.1016 - mse: 0.0178 - val_loss: 0.0260 - val_mae: 0.1107 - val_mse: 0.0260\n",
      "Epoch 13/100\n",
      "5/6 [========================>.....] - ETA: 0s - loss: 0.0120 - mae: 0.0846 - mse: 0.0120"
     ]
    },
    {
     "name": "stderr",
     "output_type": "stream",
     "text": [
      "WARNING:tensorflow:Can save best model only with val_mean_squared_error available, skipping.\n"
     ]
    },
    {
     "name": "stdout",
     "output_type": "stream",
     "text": [
      "6/6 [==============================] - 0s 46ms/step - loss: 0.0127 - mae: 0.0863 - mse: 0.0127 - val_loss: 0.0291 - val_mae: 0.1231 - val_mse: 0.0291\n",
      "Epoch 14/100\n",
      "5/6 [========================>.....] - ETA: 0s - loss: 0.0109 - mae: 0.0843 - mse: 0.0109"
     ]
    },
    {
     "name": "stderr",
     "output_type": "stream",
     "text": [
      "WARNING:tensorflow:Can save best model only with val_mean_squared_error available, skipping.\n"
     ]
    },
    {
     "name": "stdout",
     "output_type": "stream",
     "text": [
      "6/6 [==============================] - 0s 46ms/step - loss: 0.0115 - mae: 0.0856 - mse: 0.0115 - val_loss: 0.0275 - val_mae: 0.1148 - val_mse: 0.0275\n",
      "Epoch 15/100\n",
      "5/6 [========================>.....] - ETA: 0s - loss: 0.0114 - mae: 0.0831 - mse: 0.0114"
     ]
    },
    {
     "name": "stderr",
     "output_type": "stream",
     "text": [
      "WARNING:tensorflow:Can save best model only with val_mean_squared_error available, skipping.\n"
     ]
    },
    {
     "name": "stdout",
     "output_type": "stream",
     "text": [
      "6/6 [==============================] - 0s 46ms/step - loss: 0.0113 - mae: 0.0830 - mse: 0.0113 - val_loss: 0.0238 - val_mae: 0.1262 - val_mse: 0.0238\n",
      "Epoch 16/100\n",
      "5/6 [========================>.....] - ETA: 0s - loss: 0.0094 - mae: 0.0755 - mse: 0.0094"
     ]
    },
    {
     "name": "stderr",
     "output_type": "stream",
     "text": [
      "WARNING:tensorflow:Can save best model only with val_mean_squared_error available, skipping.\n"
     ]
    },
    {
     "name": "stdout",
     "output_type": "stream",
     "text": [
      "6/6 [==============================] - 0s 45ms/step - loss: 0.0094 - mae: 0.0760 - mse: 0.0094 - val_loss: 0.0278 - val_mae: 0.1272 - val_mse: 0.0278\n",
      "Epoch 17/100\n",
      "5/6 [========================>.....] - ETA: 0s - loss: 0.0119 - mae: 0.0827 - mse: 0.0119"
     ]
    },
    {
     "name": "stderr",
     "output_type": "stream",
     "text": [
      "WARNING:tensorflow:Can save best model only with val_mean_squared_error available, skipping.\n"
     ]
    },
    {
     "name": "stdout",
     "output_type": "stream",
     "text": [
      "6/6 [==============================] - 0s 45ms/step - loss: 0.0115 - mae: 0.0816 - mse: 0.0115 - val_loss: 0.0178 - val_mae: 0.0979 - val_mse: 0.0178\n",
      "Epoch 18/100\n",
      "5/6 [========================>.....] - ETA: 0s - loss: 0.0094 - mae: 0.0748 - mse: 0.0094"
     ]
    },
    {
     "name": "stderr",
     "output_type": "stream",
     "text": [
      "WARNING:tensorflow:Can save best model only with val_mean_squared_error available, skipping.\n"
     ]
    },
    {
     "name": "stdout",
     "output_type": "stream",
     "text": [
      "6/6 [==============================] - 0s 45ms/step - loss: 0.0093 - mae: 0.0751 - mse: 0.0093 - val_loss: 0.0133 - val_mae: 0.0715 - val_mse: 0.0133\n",
      "Epoch 19/100\n",
      "5/6 [========================>.....] - ETA: 0s - loss: 0.0088 - mae: 0.0719 - mse: 0.0088"
     ]
    },
    {
     "name": "stderr",
     "output_type": "stream",
     "text": [
      "WARNING:tensorflow:Can save best model only with val_mean_squared_error available, skipping.\n"
     ]
    },
    {
     "name": "stdout",
     "output_type": "stream",
     "text": [
      "6/6 [==============================] - 0s 44ms/step - loss: 0.0088 - mae: 0.0710 - mse: 0.0088 - val_loss: 0.0081 - val_mae: 0.0512 - val_mse: 0.0081\n",
      "Epoch 20/100\n",
      "5/6 [========================>.....] - ETA: 0s - loss: 0.0097 - mae: 0.0767 - mse: 0.0097"
     ]
    },
    {
     "name": "stderr",
     "output_type": "stream",
     "text": [
      "WARNING:tensorflow:Can save best model only with val_mean_squared_error available, skipping.\n"
     ]
    },
    {
     "name": "stdout",
     "output_type": "stream",
     "text": [
      "6/6 [==============================] - 0s 44ms/step - loss: 0.0095 - mae: 0.0757 - mse: 0.0095 - val_loss: 0.0134 - val_mae: 0.0782 - val_mse: 0.0134\n",
      "Epoch 21/100\n",
      "5/6 [========================>.....] - ETA: 0s - loss: 0.0080 - mae: 0.0702 - mse: 0.0080"
     ]
    },
    {
     "name": "stderr",
     "output_type": "stream",
     "text": [
      "WARNING:tensorflow:Can save best model only with val_mean_squared_error available, skipping.\n"
     ]
    },
    {
     "name": "stdout",
     "output_type": "stream",
     "text": [
      "6/6 [==============================] - 0s 43ms/step - loss: 0.0078 - mae: 0.0692 - mse: 0.0078 - val_loss: 0.0189 - val_mae: 0.0940 - val_mse: 0.0189\n",
      "Epoch 22/100\n",
      "5/6 [========================>.....] - ETA: 0s - loss: 0.0077 - mae: 0.0676 - mse: 0.0077"
     ]
    },
    {
     "name": "stderr",
     "output_type": "stream",
     "text": [
      "WARNING:tensorflow:Can save best model only with val_mean_squared_error available, skipping.\n"
     ]
    },
    {
     "name": "stdout",
     "output_type": "stream",
     "text": [
      "6/6 [==============================] - 0s 44ms/step - loss: 0.0076 - mae: 0.0670 - mse: 0.0076 - val_loss: 0.0098 - val_mae: 0.0701 - val_mse: 0.0098\n",
      "Epoch 23/100\n",
      "5/6 [========================>.....] - ETA: 0s - loss: 0.0076 - mae: 0.0689 - mse: 0.0076"
     ]
    },
    {
     "name": "stderr",
     "output_type": "stream",
     "text": [
      "WARNING:tensorflow:Can save best model only with val_mean_squared_error available, skipping.\n"
     ]
    },
    {
     "name": "stdout",
     "output_type": "stream",
     "text": [
      "6/6 [==============================] - 0s 44ms/step - loss: 0.0083 - mae: 0.0711 - mse: 0.0083 - val_loss: 0.0113 - val_mae: 0.0711 - val_mse: 0.0113\n",
      "Epoch 24/100\n",
      "5/6 [========================>.....] - ETA: 0s - loss: 0.0093 - mae: 0.0746 - mse: 0.0093"
     ]
    },
    {
     "name": "stderr",
     "output_type": "stream",
     "text": [
      "WARNING:tensorflow:Can save best model only with val_mean_squared_error available, skipping.\n"
     ]
    },
    {
     "name": "stdout",
     "output_type": "stream",
     "text": [
      "6/6 [==============================] - 0s 46ms/step - loss: 0.0093 - mae: 0.0743 - mse: 0.0093 - val_loss: 0.0054 - val_mae: 0.0419 - val_mse: 0.0054\n",
      "Epoch 25/100\n",
      "5/6 [========================>.....] - ETA: 0s - loss: 0.0067 - mae: 0.0633 - mse: 0.0067"
     ]
    },
    {
     "name": "stderr",
     "output_type": "stream",
     "text": [
      "WARNING:tensorflow:Can save best model only with val_mean_squared_error available, skipping.\n"
     ]
    },
    {
     "name": "stdout",
     "output_type": "stream",
     "text": [
      "6/6 [==============================] - 0s 46ms/step - loss: 0.0069 - mae: 0.0639 - mse: 0.0069 - val_loss: 0.0122 - val_mae: 0.0737 - val_mse: 0.0122\n",
      "Epoch 26/100\n",
      "5/6 [========================>.....] - ETA: 0s - loss: 0.0071 - mae: 0.0666 - mse: 0.0071"
     ]
    },
    {
     "name": "stderr",
     "output_type": "stream",
     "text": [
      "WARNING:tensorflow:Can save best model only with val_mean_squared_error available, skipping.\n"
     ]
    },
    {
     "name": "stdout",
     "output_type": "stream",
     "text": [
      "6/6 [==============================] - 0s 46ms/step - loss: 0.0071 - mae: 0.0663 - mse: 0.0071 - val_loss: 0.0190 - val_mae: 0.1041 - val_mse: 0.0190\n",
      "Epoch 27/100\n",
      "5/6 [========================>.....] - ETA: 0s - loss: 0.0072 - mae: 0.0670 - mse: 0.0072"
     ]
    },
    {
     "name": "stderr",
     "output_type": "stream",
     "text": [
      "WARNING:tensorflow:Can save best model only with val_mean_squared_error available, skipping.\n"
     ]
    },
    {
     "name": "stdout",
     "output_type": "stream",
     "text": [
      "6/6 [==============================] - 0s 45ms/step - loss: 0.0069 - mae: 0.0655 - mse: 0.0069 - val_loss: 0.0201 - val_mae: 0.1083 - val_mse: 0.0201\n",
      "Epoch 28/100\n",
      "5/6 [========================>.....] - ETA: 0s - loss: 0.0078 - mae: 0.0706 - mse: 0.0078"
     ]
    },
    {
     "name": "stderr",
     "output_type": "stream",
     "text": [
      "WARNING:tensorflow:Can save best model only with val_mean_squared_error available, skipping.\n"
     ]
    },
    {
     "name": "stdout",
     "output_type": "stream",
     "text": [
      "6/6 [==============================] - 0s 43ms/step - loss: 0.0076 - mae: 0.0691 - mse: 0.0076 - val_loss: 0.0177 - val_mae: 0.1024 - val_mse: 0.0177\n",
      "Epoch 29/100\n",
      "5/6 [========================>.....] - ETA: 0s - loss: 0.0078 - mae: 0.0700 - mse: 0.0078"
     ]
    },
    {
     "name": "stderr",
     "output_type": "stream",
     "text": [
      "WARNING:tensorflow:Can save best model only with val_mean_squared_error available, skipping.\n"
     ]
    },
    {
     "name": "stdout",
     "output_type": "stream",
     "text": [
      "6/6 [==============================] - 0s 45ms/step - loss: 0.0077 - mae: 0.0693 - mse: 0.0077 - val_loss: 0.0143 - val_mae: 0.0970 - val_mse: 0.0143\n",
      "Epoch 30/100\n",
      "5/6 [========================>.....] - ETA: 0s - loss: 0.0064 - mae: 0.0632 - mse: 0.0064"
     ]
    },
    {
     "name": "stderr",
     "output_type": "stream",
     "text": [
      "WARNING:tensorflow:Can save best model only with val_mean_squared_error available, skipping.\n"
     ]
    },
    {
     "name": "stdout",
     "output_type": "stream",
     "text": [
      "6/6 [==============================] - 0s 46ms/step - loss: 0.0063 - mae: 0.0630 - mse: 0.0063 - val_loss: 0.0057 - val_mae: 0.0506 - val_mse: 0.0057\n",
      "Epoch 31/100\n",
      "5/6 [========================>.....] - ETA: 0s - loss: 0.0074 - mae: 0.0680 - mse: 0.0074"
     ]
    },
    {
     "name": "stderr",
     "output_type": "stream",
     "text": [
      "WARNING:tensorflow:Can save best model only with val_mean_squared_error available, skipping.\n"
     ]
    },
    {
     "name": "stdout",
     "output_type": "stream",
     "text": [
      "6/6 [==============================] - 0s 45ms/step - loss: 0.0073 - mae: 0.0677 - mse: 0.0073 - val_loss: 0.0030 - val_mae: 0.0376 - val_mse: 0.0030\n",
      "Epoch 32/100\n",
      "5/6 [========================>.....] - ETA: 0s - loss: 0.0084 - mae: 0.0687 - mse: 0.0084"
     ]
    },
    {
     "name": "stderr",
     "output_type": "stream",
     "text": [
      "WARNING:tensorflow:Can save best model only with val_mean_squared_error available, skipping.\n"
     ]
    },
    {
     "name": "stdout",
     "output_type": "stream",
     "text": [
      "6/6 [==============================] - 0s 45ms/step - loss: 0.0084 - mae: 0.0695 - mse: 0.0084 - val_loss: 0.0047 - val_mae: 0.0532 - val_mse: 0.0047\n",
      "Epoch 33/100\n",
      "5/6 [========================>.....] - ETA: 0s - loss: 0.0076 - mae: 0.0707 - mse: 0.0076"
     ]
    },
    {
     "name": "stderr",
     "output_type": "stream",
     "text": [
      "WARNING:tensorflow:Can save best model only with val_mean_squared_error available, skipping.\n"
     ]
    },
    {
     "name": "stdout",
     "output_type": "stream",
     "text": [
      "6/6 [==============================] - 0s 46ms/step - loss: 0.0074 - mae: 0.0698 - mse: 0.0074 - val_loss: 0.0044 - val_mae: 0.0402 - val_mse: 0.0044\n",
      "Epoch 34/100\n",
      "5/6 [========================>.....] - ETA: 0s - loss: 0.0070 - mae: 0.0652 - mse: 0.0070"
     ]
    },
    {
     "name": "stderr",
     "output_type": "stream",
     "text": [
      "WARNING:tensorflow:Can save best model only with val_mean_squared_error available, skipping.\n"
     ]
    },
    {
     "name": "stdout",
     "output_type": "stream",
     "text": [
      "6/6 [==============================] - 0s 47ms/step - loss: 0.0069 - mae: 0.0650 - mse: 0.0069 - val_loss: 0.0069 - val_mae: 0.0574 - val_mse: 0.0069\n",
      "Epoch 35/100\n",
      "5/6 [========================>.....] - ETA: 0s - loss: 0.0053 - mae: 0.0581 - mse: 0.0053"
     ]
    },
    {
     "name": "stderr",
     "output_type": "stream",
     "text": [
      "WARNING:tensorflow:Can save best model only with val_mean_squared_error available, skipping.\n"
     ]
    },
    {
     "name": "stdout",
     "output_type": "stream",
     "text": [
      "6/6 [==============================] - 0s 45ms/step - loss: 0.0053 - mae: 0.0585 - mse: 0.0053 - val_loss: 0.0068 - val_mae: 0.0552 - val_mse: 0.0068\n",
      "Epoch 36/100\n",
      "5/6 [========================>.....] - ETA: 0s - loss: 0.0044 - mae: 0.0512 - mse: 0.0044"
     ]
    },
    {
     "name": "stderr",
     "output_type": "stream",
     "text": [
      "WARNING:tensorflow:Can save best model only with val_mean_squared_error available, skipping.\n"
     ]
    },
    {
     "name": "stdout",
     "output_type": "stream",
     "text": [
      "6/6 [==============================] - 0s 44ms/step - loss: 0.0043 - mae: 0.0514 - mse: 0.0043 - val_loss: 0.0052 - val_mae: 0.0442 - val_mse: 0.0052\n",
      "Epoch 37/100\n",
      "5/6 [========================>.....] - ETA: 0s - loss: 0.0041 - mae: 0.0509 - mse: 0.0041"
     ]
    },
    {
     "name": "stderr",
     "output_type": "stream",
     "text": [
      "WARNING:tensorflow:Can save best model only with val_mean_squared_error available, skipping.\n"
     ]
    },
    {
     "name": "stdout",
     "output_type": "stream",
     "text": [
      "6/6 [==============================] - 0s 46ms/step - loss: 0.0043 - mae: 0.0524 - mse: 0.0043 - val_loss: 0.0040 - val_mae: 0.0425 - val_mse: 0.0040\n",
      "Epoch 38/100\n",
      "5/6 [========================>.....] - ETA: 0s - loss: 0.0045 - mae: 0.0528 - mse: 0.0045"
     ]
    },
    {
     "name": "stderr",
     "output_type": "stream",
     "text": [
      "WARNING:tensorflow:Can save best model only with val_mean_squared_error available, skipping.\n"
     ]
    },
    {
     "name": "stdout",
     "output_type": "stream",
     "text": [
      "6/6 [==============================] - 0s 46ms/step - loss: 0.0044 - mae: 0.0525 - mse: 0.0044 - val_loss: 0.0030 - val_mae: 0.0360 - val_mse: 0.0030\n",
      "Epoch 39/100\n",
      "5/6 [========================>.....] - ETA: 0s - loss: 0.0042 - mae: 0.0514 - mse: 0.0042"
     ]
    },
    {
     "name": "stderr",
     "output_type": "stream",
     "text": [
      "WARNING:tensorflow:Can save best model only with val_mean_squared_error available, skipping.\n"
     ]
    },
    {
     "name": "stdout",
     "output_type": "stream",
     "text": [
      "6/6 [==============================] - 0s 46ms/step - loss: 0.0041 - mae: 0.0513 - mse: 0.0041 - val_loss: 0.0033 - val_mae: 0.0359 - val_mse: 0.0033\n",
      "Epoch 40/100\n",
      "5/6 [========================>.....] - ETA: 0s - loss: 0.0043 - mae: 0.0514 - mse: 0.0043"
     ]
    },
    {
     "name": "stderr",
     "output_type": "stream",
     "text": [
      "WARNING:tensorflow:Can save best model only with val_mean_squared_error available, skipping.\n"
     ]
    },
    {
     "name": "stdout",
     "output_type": "stream",
     "text": [
      "6/6 [==============================] - 0s 48ms/step - loss: 0.0042 - mae: 0.0506 - mse: 0.0042 - val_loss: 0.0026 - val_mae: 0.0357 - val_mse: 0.0026\n",
      "Epoch 41/100\n",
      "5/6 [========================>.....] - ETA: 0s - loss: 0.0043 - mae: 0.0514 - mse: 0.0043"
     ]
    },
    {
     "name": "stderr",
     "output_type": "stream",
     "text": [
      "WARNING:tensorflow:Can save best model only with val_mean_squared_error available, skipping.\n"
     ]
    },
    {
     "name": "stdout",
     "output_type": "stream",
     "text": [
      "6/6 [==============================] - 0s 47ms/step - loss: 0.0041 - mae: 0.0507 - mse: 0.0041 - val_loss: 0.0029 - val_mae: 0.0423 - val_mse: 0.0029\n",
      "Epoch 42/100\n",
      "5/6 [========================>.....] - ETA: 0s - loss: 0.0038 - mae: 0.0488 - mse: 0.0038"
     ]
    },
    {
     "name": "stderr",
     "output_type": "stream",
     "text": [
      "WARNING:tensorflow:Can save best model only with val_mean_squared_error available, skipping.\n"
     ]
    },
    {
     "name": "stdout",
     "output_type": "stream",
     "text": [
      "6/6 [==============================] - 0s 46ms/step - loss: 0.0039 - mae: 0.0498 - mse: 0.0039 - val_loss: 0.0032 - val_mae: 0.0417 - val_mse: 0.0032\n",
      "Epoch 43/100\n",
      "5/6 [========================>.....] - ETA: 0s - loss: 0.0038 - mae: 0.0485 - mse: 0.0038"
     ]
    },
    {
     "name": "stderr",
     "output_type": "stream",
     "text": [
      "WARNING:tensorflow:Can save best model only with val_mean_squared_error available, skipping.\n"
     ]
    },
    {
     "name": "stdout",
     "output_type": "stream",
     "text": [
      "6/6 [==============================] - 0s 46ms/step - loss: 0.0037 - mae: 0.0481 - mse: 0.0037 - val_loss: 0.0024 - val_mae: 0.0338 - val_mse: 0.0024\n",
      "Epoch 44/100\n",
      "5/6 [========================>.....] - ETA: 0s - loss: 0.0039 - mae: 0.0484 - mse: 0.0039"
     ]
    },
    {
     "name": "stderr",
     "output_type": "stream",
     "text": [
      "WARNING:tensorflow:Can save best model only with val_mean_squared_error available, skipping.\n"
     ]
    },
    {
     "name": "stdout",
     "output_type": "stream",
     "text": [
      "6/6 [==============================] - 0s 44ms/step - loss: 0.0039 - mae: 0.0487 - mse: 0.0039 - val_loss: 0.0027 - val_mae: 0.0403 - val_mse: 0.0027\n",
      "Epoch 45/100\n",
      "5/6 [========================>.....] - ETA: 0s - loss: 0.0043 - mae: 0.0521 - mse: 0.0043"
     ]
    },
    {
     "name": "stderr",
     "output_type": "stream",
     "text": [
      "WARNING:tensorflow:Can save best model only with val_mean_squared_error available, skipping.\n"
     ]
    },
    {
     "name": "stdout",
     "output_type": "stream",
     "text": [
      "6/6 [==============================] - 0s 46ms/step - loss: 0.0042 - mae: 0.0521 - mse: 0.0042 - val_loss: 0.0048 - val_mae: 0.0524 - val_mse: 0.0048\n",
      "Epoch 46/100\n",
      "5/6 [========================>.....] - ETA: 0s - loss: 0.0042 - mae: 0.0494 - mse: 0.0042"
     ]
    },
    {
     "name": "stderr",
     "output_type": "stream",
     "text": [
      "WARNING:tensorflow:Can save best model only with val_mean_squared_error available, skipping.\n"
     ]
    },
    {
     "name": "stdout",
     "output_type": "stream",
     "text": [
      "6/6 [==============================] - 0s 45ms/step - loss: 0.0041 - mae: 0.0492 - mse: 0.0041 - val_loss: 0.0030 - val_mae: 0.0436 - val_mse: 0.0030\n",
      "Epoch 47/100\n",
      "5/6 [========================>.....] - ETA: 0s - loss: 0.0037 - mae: 0.0497 - mse: 0.0037"
     ]
    },
    {
     "name": "stderr",
     "output_type": "stream",
     "text": [
      "WARNING:tensorflow:Can save best model only with val_mean_squared_error available, skipping.\n"
     ]
    },
    {
     "name": "stdout",
     "output_type": "stream",
     "text": [
      "6/6 [==============================] - 0s 47ms/step - loss: 0.0038 - mae: 0.0498 - mse: 0.0038 - val_loss: 0.0025 - val_mae: 0.0397 - val_mse: 0.0025\n",
      "Epoch 48/100\n",
      "5/6 [========================>.....] - ETA: 0s - loss: 0.0033 - mae: 0.0463 - mse: 0.0033"
     ]
    },
    {
     "name": "stderr",
     "output_type": "stream",
     "text": [
      "WARNING:tensorflow:Can save best model only with val_mean_squared_error available, skipping.\n"
     ]
    },
    {
     "name": "stdout",
     "output_type": "stream",
     "text": [
      "6/6 [==============================] - 0s 45ms/step - loss: 0.0034 - mae: 0.0466 - mse: 0.0034 - val_loss: 0.0032 - val_mae: 0.0473 - val_mse: 0.0032\n",
      "Epoch 49/100\n",
      "5/6 [========================>.....] - ETA: 0s - loss: 0.0038 - mae: 0.0487 - mse: 0.0038"
     ]
    },
    {
     "name": "stderr",
     "output_type": "stream",
     "text": [
      "WARNING:tensorflow:Can save best model only with val_mean_squared_error available, skipping.\n"
     ]
    },
    {
     "name": "stdout",
     "output_type": "stream",
     "text": [
      "6/6 [==============================] - 0s 45ms/step - loss: 0.0038 - mae: 0.0486 - mse: 0.0038 - val_loss: 0.0033 - val_mae: 0.0437 - val_mse: 0.0033\n",
      "Epoch 50/100\n",
      "5/6 [========================>.....] - ETA: 0s - loss: 0.0041 - mae: 0.0516 - mse: 0.0041"
     ]
    },
    {
     "name": "stderr",
     "output_type": "stream",
     "text": [
      "WARNING:tensorflow:Can save best model only with val_mean_squared_error available, skipping.\n"
     ]
    },
    {
     "name": "stdout",
     "output_type": "stream",
     "text": [
      "6/6 [==============================] - 0s 46ms/step - loss: 0.0041 - mae: 0.0513 - mse: 0.0041 - val_loss: 0.0042 - val_mae: 0.0449 - val_mse: 0.0042\n",
      "Epoch 51/100\n",
      "5/6 [========================>.....] - ETA: 0s - loss: 0.0038 - mae: 0.0502 - mse: 0.0038"
     ]
    },
    {
     "name": "stderr",
     "output_type": "stream",
     "text": [
      "WARNING:tensorflow:Can save best model only with val_mean_squared_error available, skipping.\n"
     ]
    },
    {
     "name": "stdout",
     "output_type": "stream",
     "text": [
      "6/6 [==============================] - 0s 45ms/step - loss: 0.0040 - mae: 0.0511 - mse: 0.0040 - val_loss: 0.0032 - val_mae: 0.0385 - val_mse: 0.0032\n",
      "Epoch 52/100\n",
      "5/6 [========================>.....] - ETA: 0s - loss: 0.0040 - mae: 0.0494 - mse: 0.0040"
     ]
    },
    {
     "name": "stderr",
     "output_type": "stream",
     "text": [
      "WARNING:tensorflow:Can save best model only with val_mean_squared_error available, skipping.\n"
     ]
    },
    {
     "name": "stdout",
     "output_type": "stream",
     "text": [
      "6/6 [==============================] - 0s 46ms/step - loss: 0.0043 - mae: 0.0509 - mse: 0.0043 - val_loss: 0.0035 - val_mae: 0.0462 - val_mse: 0.0035\n",
      "Epoch 53/100\n",
      "5/6 [========================>.....] - ETA: 0s - loss: 0.0035 - mae: 0.0473 - mse: 0.0035"
     ]
    },
    {
     "name": "stderr",
     "output_type": "stream",
     "text": [
      "WARNING:tensorflow:Can save best model only with val_mean_squared_error available, skipping.\n"
     ]
    },
    {
     "name": "stdout",
     "output_type": "stream",
     "text": [
      "6/6 [==============================] - 0s 47ms/step - loss: 0.0035 - mae: 0.0473 - mse: 0.0035 - val_loss: 0.0024 - val_mae: 0.0316 - val_mse: 0.0024\n",
      "Epoch 54/100\n",
      "5/6 [========================>.....] - ETA: 0s - loss: 0.0036 - mae: 0.0473 - mse: 0.0036"
     ]
    },
    {
     "name": "stderr",
     "output_type": "stream",
     "text": [
      "WARNING:tensorflow:Can save best model only with val_mean_squared_error available, skipping.\n"
     ]
    },
    {
     "name": "stdout",
     "output_type": "stream",
     "text": [
      "6/6 [==============================] - 0s 47ms/step - loss: 0.0037 - mae: 0.0479 - mse: 0.0037 - val_loss: 0.0026 - val_mae: 0.0381 - val_mse: 0.0026\n",
      "Epoch 55/100\n",
      "5/6 [========================>.....] - ETA: 0s - loss: 0.0039 - mae: 0.0501 - mse: 0.0039"
     ]
    },
    {
     "name": "stderr",
     "output_type": "stream",
     "text": [
      "WARNING:tensorflow:Can save best model only with val_mean_squared_error available, skipping.\n"
     ]
    },
    {
     "name": "stdout",
     "output_type": "stream",
     "text": [
      "6/6 [==============================] - 0s 44ms/step - loss: 0.0038 - mae: 0.0499 - mse: 0.0038 - val_loss: 0.0029 - val_mae: 0.0429 - val_mse: 0.0029\n",
      "Epoch 56/100\n",
      "5/6 [========================>.....] - ETA: 0s - loss: 0.0033 - mae: 0.0460 - mse: 0.0033"
     ]
    },
    {
     "name": "stderr",
     "output_type": "stream",
     "text": [
      "WARNING:tensorflow:Can save best model only with val_mean_squared_error available, skipping.\n"
     ]
    },
    {
     "name": "stdout",
     "output_type": "stream",
     "text": [
      "6/6 [==============================] - 0s 46ms/step - loss: 0.0034 - mae: 0.0468 - mse: 0.0034 - val_loss: 0.0036 - val_mae: 0.0500 - val_mse: 0.0036\n",
      "Epoch 57/100\n",
      "5/6 [========================>.....] - ETA: 0s - loss: 0.0036 - mae: 0.0478 - mse: 0.0036"
     ]
    },
    {
     "name": "stderr",
     "output_type": "stream",
     "text": [
      "WARNING:tensorflow:Can save best model only with val_mean_squared_error available, skipping.\n"
     ]
    },
    {
     "name": "stdout",
     "output_type": "stream",
     "text": [
      "6/6 [==============================] - 0s 44ms/step - loss: 0.0035 - mae: 0.0471 - mse: 0.0035 - val_loss: 0.0019 - val_mae: 0.0329 - val_mse: 0.0019\n",
      "Epoch 58/100\n",
      "5/6 [========================>.....] - ETA: 0s - loss: 0.0040 - mae: 0.0507 - mse: 0.0040"
     ]
    },
    {
     "name": "stderr",
     "output_type": "stream",
     "text": [
      "WARNING:tensorflow:Can save best model only with val_mean_squared_error available, skipping.\n"
     ]
    },
    {
     "name": "stdout",
     "output_type": "stream",
     "text": [
      "6/6 [==============================] - 0s 45ms/step - loss: 0.0040 - mae: 0.0509 - mse: 0.0040 - val_loss: 0.0045 - val_mae: 0.0592 - val_mse: 0.0045\n",
      "Epoch 59/100\n",
      "5/6 [========================>.....] - ETA: 0s - loss: 0.0036 - mae: 0.0490 - mse: 0.0036"
     ]
    },
    {
     "name": "stderr",
     "output_type": "stream",
     "text": [
      "WARNING:tensorflow:Can save best model only with val_mean_squared_error available, skipping.\n"
     ]
    },
    {
     "name": "stdout",
     "output_type": "stream",
     "text": [
      "6/6 [==============================] - 0s 46ms/step - loss: 0.0036 - mae: 0.0492 - mse: 0.0036 - val_loss: 0.0027 - val_mae: 0.0374 - val_mse: 0.0027\n",
      "Epoch 60/100\n",
      "5/6 [========================>.....] - ETA: 0s - loss: 0.0040 - mae: 0.0507 - mse: 0.0040"
     ]
    },
    {
     "name": "stderr",
     "output_type": "stream",
     "text": [
      "WARNING:tensorflow:Can save best model only with val_mean_squared_error available, skipping.\n"
     ]
    },
    {
     "name": "stdout",
     "output_type": "stream",
     "text": [
      "6/6 [==============================] - 0s 45ms/step - loss: 0.0040 - mae: 0.0507 - mse: 0.0040 - val_loss: 0.0038 - val_mae: 0.0530 - val_mse: 0.0038\n",
      "Epoch 61/100\n",
      "5/6 [========================>.....] - ETA: 0s - loss: 0.0031 - mae: 0.0459 - mse: 0.0031"
     ]
    },
    {
     "name": "stderr",
     "output_type": "stream",
     "text": [
      "WARNING:tensorflow:Can save best model only with val_mean_squared_error available, skipping.\n"
     ]
    },
    {
     "name": "stdout",
     "output_type": "stream",
     "text": [
      "6/6 [==============================] - 0s 47ms/step - loss: 0.0033 - mae: 0.0461 - mse: 0.0033 - val_loss: 0.0030 - val_mae: 0.0426 - val_mse: 0.0030\n",
      "Epoch 62/100\n",
      "5/6 [========================>.....] - ETA: 0s - loss: 0.0032 - mae: 0.0455 - mse: 0.0032"
     ]
    },
    {
     "name": "stderr",
     "output_type": "stream",
     "text": [
      "WARNING:tensorflow:Can save best model only with val_mean_squared_error available, skipping.\n"
     ]
    },
    {
     "name": "stdout",
     "output_type": "stream",
     "text": [
      "6/6 [==============================] - 0s 46ms/step - loss: 0.0032 - mae: 0.0458 - mse: 0.0032 - val_loss: 0.0029 - val_mae: 0.0408 - val_mse: 0.0029\n",
      "Epoch 63/100\n",
      "5/6 [========================>.....] - ETA: 0s - loss: 0.0038 - mae: 0.0483 - mse: 0.0038"
     ]
    },
    {
     "name": "stderr",
     "output_type": "stream",
     "text": [
      "WARNING:tensorflow:Can save best model only with val_mean_squared_error available, skipping.\n"
     ]
    },
    {
     "name": "stdout",
     "output_type": "stream",
     "text": [
      "6/6 [==============================] - 0s 44ms/step - loss: 0.0038 - mae: 0.0482 - mse: 0.0038 - val_loss: 0.0014 - val_mae: 0.0293 - val_mse: 0.0014\n",
      "Epoch 64/100\n",
      "5/6 [========================>.....] - ETA: 0s - loss: 0.0037 - mae: 0.0484 - mse: 0.0037"
     ]
    },
    {
     "name": "stderr",
     "output_type": "stream",
     "text": [
      "WARNING:tensorflow:Can save best model only with val_mean_squared_error available, skipping.\n"
     ]
    },
    {
     "name": "stdout",
     "output_type": "stream",
     "text": [
      "6/6 [==============================] - 0s 46ms/step - loss: 0.0036 - mae: 0.0483 - mse: 0.0036 - val_loss: 0.0042 - val_mae: 0.0532 - val_mse: 0.0042\n",
      "Epoch 65/100\n",
      "5/6 [========================>.....] - ETA: 0s - loss: 0.0034 - mae: 0.0460 - mse: 0.0034"
     ]
    },
    {
     "name": "stderr",
     "output_type": "stream",
     "text": [
      "WARNING:tensorflow:Can save best model only with val_mean_squared_error available, skipping.\n"
     ]
    },
    {
     "name": "stdout",
     "output_type": "stream",
     "text": [
      "6/6 [==============================] - 0s 44ms/step - loss: 0.0033 - mae: 0.0451 - mse: 0.0033 - val_loss: 0.0019 - val_mae: 0.0319 - val_mse: 0.0019\n",
      "Epoch 66/100\n",
      "5/6 [========================>.....] - ETA: 0s - loss: 0.0029 - mae: 0.0419 - mse: 0.0029"
     ]
    },
    {
     "name": "stderr",
     "output_type": "stream",
     "text": [
      "WARNING:tensorflow:Can save best model only with val_mean_squared_error available, skipping.\n"
     ]
    },
    {
     "name": "stdout",
     "output_type": "stream",
     "text": [
      "6/6 [==============================] - 0s 44ms/step - loss: 0.0030 - mae: 0.0427 - mse: 0.0030 - val_loss: 0.0025 - val_mae: 0.0359 - val_mse: 0.0025\n",
      "Epoch 67/100\n",
      "5/6 [========================>.....] - ETA: 0s - loss: 0.0031 - mae: 0.0440 - mse: 0.0031"
     ]
    },
    {
     "name": "stderr",
     "output_type": "stream",
     "text": [
      "WARNING:tensorflow:Can save best model only with val_mean_squared_error available, skipping.\n"
     ]
    },
    {
     "name": "stdout",
     "output_type": "stream",
     "text": [
      "6/6 [==============================] - 0s 46ms/step - loss: 0.0031 - mae: 0.0437 - mse: 0.0031 - val_loss: 0.0021 - val_mae: 0.0375 - val_mse: 0.0021\n",
      "Epoch 68/100\n",
      "5/6 [========================>.....] - ETA: 0s - loss: 0.0031 - mae: 0.0441 - mse: 0.0031"
     ]
    },
    {
     "name": "stderr",
     "output_type": "stream",
     "text": [
      "WARNING:tensorflow:Can save best model only with val_mean_squared_error available, skipping.\n"
     ]
    },
    {
     "name": "stdout",
     "output_type": "stream",
     "text": [
      "6/6 [==============================] - 0s 44ms/step - loss: 0.0030 - mae: 0.0435 - mse: 0.0030 - val_loss: 0.0025 - val_mae: 0.0366 - val_mse: 0.0025\n",
      "Epoch 69/100\n",
      "5/6 [========================>.....] - ETA: 0s - loss: 0.0028 - mae: 0.0427 - mse: 0.0028"
     ]
    },
    {
     "name": "stderr",
     "output_type": "stream",
     "text": [
      "WARNING:tensorflow:Can save best model only with val_mean_squared_error available, skipping.\n"
     ]
    },
    {
     "name": "stdout",
     "output_type": "stream",
     "text": [
      "6/6 [==============================] - 0s 44ms/step - loss: 0.0027 - mae: 0.0416 - mse: 0.0027 - val_loss: 0.0025 - val_mae: 0.0421 - val_mse: 0.0025\n",
      "Epoch 70/100\n",
      "5/6 [========================>.....] - ETA: 0s - loss: 0.0028 - mae: 0.0419 - mse: 0.0028"
     ]
    },
    {
     "name": "stderr",
     "output_type": "stream",
     "text": [
      "WARNING:tensorflow:Can save best model only with val_mean_squared_error available, skipping.\n"
     ]
    },
    {
     "name": "stdout",
     "output_type": "stream",
     "text": [
      "6/6 [==============================] - 0s 44ms/step - loss: 0.0027 - mae: 0.0414 - mse: 0.0027 - val_loss: 0.0017 - val_mae: 0.0313 - val_mse: 0.0017\n",
      "Epoch 71/100\n",
      "5/6 [========================>.....] - ETA: 0s - loss: 0.0029 - mae: 0.0427 - mse: 0.0029"
     ]
    },
    {
     "name": "stderr",
     "output_type": "stream",
     "text": [
      "WARNING:tensorflow:Can save best model only with val_mean_squared_error available, skipping.\n"
     ]
    },
    {
     "name": "stdout",
     "output_type": "stream",
     "text": [
      "6/6 [==============================] - 0s 44ms/step - loss: 0.0028 - mae: 0.0422 - mse: 0.0028 - val_loss: 0.0039 - val_mae: 0.0558 - val_mse: 0.0039\n",
      "Epoch 72/100\n",
      "5/6 [========================>.....] - ETA: 0s - loss: 0.0028 - mae: 0.0419 - mse: 0.0028"
     ]
    },
    {
     "name": "stderr",
     "output_type": "stream",
     "text": [
      "WARNING:tensorflow:Can save best model only with val_mean_squared_error available, skipping.\n"
     ]
    },
    {
     "name": "stdout",
     "output_type": "stream",
     "text": [
      "6/6 [==============================] - 0s 47ms/step - loss: 0.0029 - mae: 0.0427 - mse: 0.0029 - val_loss: 0.0020 - val_mae: 0.0389 - val_mse: 0.0020\n",
      "Epoch 73/100\n",
      "5/6 [========================>.....] - ETA: 0s - loss: 0.0025 - mae: 0.0384 - mse: 0.0025"
     ]
    },
    {
     "name": "stderr",
     "output_type": "stream",
     "text": [
      "WARNING:tensorflow:Can save best model only with val_mean_squared_error available, skipping.\n"
     ]
    },
    {
     "name": "stdout",
     "output_type": "stream",
     "text": [
      "6/6 [==============================] - 0s 45ms/step - loss: 0.0025 - mae: 0.0388 - mse: 0.0025 - val_loss: 0.0028 - val_mae: 0.0437 - val_mse: 0.0028\n",
      "Epoch 74/100\n",
      "5/6 [========================>.....] - ETA: 0s - loss: 0.0030 - mae: 0.0426 - mse: 0.0030"
     ]
    },
    {
     "name": "stderr",
     "output_type": "stream",
     "text": [
      "WARNING:tensorflow:Can save best model only with val_mean_squared_error available, skipping.\n"
     ]
    },
    {
     "name": "stdout",
     "output_type": "stream",
     "text": [
      "6/6 [==============================] - 0s 46ms/step - loss: 0.0029 - mae: 0.0420 - mse: 0.0029 - val_loss: 0.0031 - val_mae: 0.0440 - val_mse: 0.0031\n",
      "Epoch 75/100\n",
      "5/6 [========================>.....] - ETA: 0s - loss: 0.0031 - mae: 0.0448 - mse: 0.0031"
     ]
    },
    {
     "name": "stderr",
     "output_type": "stream",
     "text": [
      "WARNING:tensorflow:Can save best model only with val_mean_squared_error available, skipping.\n"
     ]
    },
    {
     "name": "stdout",
     "output_type": "stream",
     "text": [
      "6/6 [==============================] - 0s 45ms/step - loss: 0.0032 - mae: 0.0454 - mse: 0.0032 - val_loss: 0.0021 - val_mae: 0.0347 - val_mse: 0.0021\n",
      "Epoch 76/100\n",
      "5/6 [========================>.....] - ETA: 0s - loss: 0.0040 - mae: 0.0501 - mse: 0.0040"
     ]
    },
    {
     "name": "stderr",
     "output_type": "stream",
     "text": [
      "WARNING:tensorflow:Can save best model only with val_mean_squared_error available, skipping.\n"
     ]
    },
    {
     "name": "stdout",
     "output_type": "stream",
     "text": [
      "6/6 [==============================] - 0s 46ms/step - loss: 0.0039 - mae: 0.0496 - mse: 0.0039 - val_loss: 0.0030 - val_mae: 0.0380 - val_mse: 0.0030\n",
      "Epoch 77/100\n",
      "5/6 [========================>.....] - ETA: 0s - loss: 0.0034 - mae: 0.0466 - mse: 0.0034"
     ]
    },
    {
     "name": "stderr",
     "output_type": "stream",
     "text": [
      "WARNING:tensorflow:Can save best model only with val_mean_squared_error available, skipping.\n"
     ]
    },
    {
     "name": "stdout",
     "output_type": "stream",
     "text": [
      "6/6 [==============================] - 0s 46ms/step - loss: 0.0033 - mae: 0.0459 - mse: 0.0033 - val_loss: 0.0036 - val_mae: 0.0470 - val_mse: 0.0036\n",
      "Epoch 78/100\n",
      "5/6 [========================>.....] - ETA: 0s - loss: 0.0029 - mae: 0.0417 - mse: 0.0029"
     ]
    },
    {
     "name": "stderr",
     "output_type": "stream",
     "text": [
      "WARNING:tensorflow:Can save best model only with val_mean_squared_error available, skipping.\n"
     ]
    },
    {
     "name": "stdout",
     "output_type": "stream",
     "text": [
      "6/6 [==============================] - 0s 46ms/step - loss: 0.0030 - mae: 0.0424 - mse: 0.0030 - val_loss: 0.0028 - val_mae: 0.0427 - val_mse: 0.0028\n",
      "Epoch 79/100\n",
      "5/6 [========================>.....] - ETA: 0s - loss: 0.0034 - mae: 0.0458 - mse: 0.0034"
     ]
    },
    {
     "name": "stderr",
     "output_type": "stream",
     "text": [
      "WARNING:tensorflow:Can save best model only with val_mean_squared_error available, skipping.\n"
     ]
    },
    {
     "name": "stdout",
     "output_type": "stream",
     "text": [
      "6/6 [==============================] - 0s 45ms/step - loss: 0.0034 - mae: 0.0461 - mse: 0.0034 - val_loss: 0.0025 - val_mae: 0.0405 - val_mse: 0.0025\n",
      "Epoch 80/100\n",
      "5/6 [========================>.....] - ETA: 0s - loss: 0.0030 - mae: 0.0417 - mse: 0.0030"
     ]
    },
    {
     "name": "stderr",
     "output_type": "stream",
     "text": [
      "WARNING:tensorflow:Can save best model only with val_mean_squared_error available, skipping.\n"
     ]
    },
    {
     "name": "stdout",
     "output_type": "stream",
     "text": [
      "6/6 [==============================] - 0s 47ms/step - loss: 0.0030 - mae: 0.0419 - mse: 0.0030 - val_loss: 0.0021 - val_mae: 0.0352 - val_mse: 0.0021\n",
      "Epoch 81/100\n",
      "5/6 [========================>.....] - ETA: 0s - loss: 0.0028 - mae: 0.0414 - mse: 0.0028"
     ]
    },
    {
     "name": "stderr",
     "output_type": "stream",
     "text": [
      "WARNING:tensorflow:Can save best model only with val_mean_squared_error available, skipping.\n"
     ]
    },
    {
     "name": "stdout",
     "output_type": "stream",
     "text": [
      "6/6 [==============================] - 0s 47ms/step - loss: 0.0029 - mae: 0.0417 - mse: 0.0029 - val_loss: 0.0025 - val_mae: 0.0433 - val_mse: 0.0025\n",
      "Epoch 82/100\n",
      "5/6 [========================>.....] - ETA: 0s - loss: 0.0030 - mae: 0.0430 - mse: 0.0030"
     ]
    },
    {
     "name": "stderr",
     "output_type": "stream",
     "text": [
      "WARNING:tensorflow:Can save best model only with val_mean_squared_error available, skipping.\n"
     ]
    },
    {
     "name": "stdout",
     "output_type": "stream",
     "text": [
      "6/6 [==============================] - 0s 47ms/step - loss: 0.0030 - mae: 0.0431 - mse: 0.0030 - val_loss: 0.0052 - val_mae: 0.0645 - val_mse: 0.0052\n",
      "Epoch 83/100\n",
      "5/6 [========================>.....] - ETA: 0s - loss: 0.0033 - mae: 0.0477 - mse: 0.0033"
     ]
    },
    {
     "name": "stderr",
     "output_type": "stream",
     "text": [
      "WARNING:tensorflow:Can save best model only with val_mean_squared_error available, skipping.\n"
     ]
    },
    {
     "name": "stdout",
     "output_type": "stream",
     "text": [
      "6/6 [==============================] - 0s 45ms/step - loss: 0.0034 - mae: 0.0478 - mse: 0.0034 - val_loss: 0.0024 - val_mae: 0.0412 - val_mse: 0.0024\n",
      "Epoch 84/100\n",
      "5/6 [========================>.....] - ETA: 0s - loss: 0.0030 - mae: 0.0447 - mse: 0.0030"
     ]
    },
    {
     "name": "stderr",
     "output_type": "stream",
     "text": [
      "WARNING:tensorflow:Can save best model only with val_mean_squared_error available, skipping.\n"
     ]
    },
    {
     "name": "stdout",
     "output_type": "stream",
     "text": [
      "6/6 [==============================] - 0s 48ms/step - loss: 0.0030 - mae: 0.0443 - mse: 0.0030 - val_loss: 0.0044 - val_mae: 0.0599 - val_mse: 0.0044\n",
      "Epoch 85/100\n",
      "5/6 [========================>.....] - ETA: 0s - loss: 0.0030 - mae: 0.0425 - mse: 0.0030"
     ]
    },
    {
     "name": "stderr",
     "output_type": "stream",
     "text": [
      "WARNING:tensorflow:Can save best model only with val_mean_squared_error available, skipping.\n"
     ]
    },
    {
     "name": "stdout",
     "output_type": "stream",
     "text": [
      "6/6 [==============================] - 0s 48ms/step - loss: 0.0030 - mae: 0.0421 - mse: 0.0030 - val_loss: 0.0020 - val_mae: 0.0352 - val_mse: 0.0020\n",
      "Epoch 86/100\n",
      "5/6 [========================>.....] - ETA: 0s - loss: 0.0025 - mae: 0.0399 - mse: 0.0025"
     ]
    },
    {
     "name": "stderr",
     "output_type": "stream",
     "text": [
      "WARNING:tensorflow:Can save best model only with val_mean_squared_error available, skipping.\n"
     ]
    },
    {
     "name": "stdout",
     "output_type": "stream",
     "text": [
      "6/6 [==============================] - 0s 47ms/step - loss: 0.0025 - mae: 0.0401 - mse: 0.0025 - val_loss: 0.0025 - val_mae: 0.0363 - val_mse: 0.0025\n",
      "Epoch 87/100\n",
      "5/6 [========================>.....] - ETA: 0s - loss: 0.0032 - mae: 0.0447 - mse: 0.0032"
     ]
    },
    {
     "name": "stderr",
     "output_type": "stream",
     "text": [
      "WARNING:tensorflow:Can save best model only with val_mean_squared_error available, skipping.\n"
     ]
    },
    {
     "name": "stdout",
     "output_type": "stream",
     "text": [
      "6/6 [==============================] - 0s 46ms/step - loss: 0.0031 - mae: 0.0442 - mse: 0.0031 - val_loss: 0.0019 - val_mae: 0.0319 - val_mse: 0.0019\n",
      "Epoch 88/100\n",
      "5/6 [========================>.....] - ETA: 0s - loss: 0.0029 - mae: 0.0432 - mse: 0.0029"
     ]
    },
    {
     "name": "stderr",
     "output_type": "stream",
     "text": [
      "WARNING:tensorflow:Can save best model only with val_mean_squared_error available, skipping.\n"
     ]
    },
    {
     "name": "stdout",
     "output_type": "stream",
     "text": [
      "6/6 [==============================] - 0s 45ms/step - loss: 0.0029 - mae: 0.0434 - mse: 0.0029 - val_loss: 0.0028 - val_mae: 0.0403 - val_mse: 0.0028\n",
      "Epoch 89/100\n",
      "5/6 [========================>.....] - ETA: 0s - loss: 0.0027 - mae: 0.0421 - mse: 0.0027"
     ]
    },
    {
     "name": "stderr",
     "output_type": "stream",
     "text": [
      "WARNING:tensorflow:Can save best model only with val_mean_squared_error available, skipping.\n"
     ]
    },
    {
     "name": "stdout",
     "output_type": "stream",
     "text": [
      "6/6 [==============================] - 0s 47ms/step - loss: 0.0027 - mae: 0.0422 - mse: 0.0027 - val_loss: 0.0021 - val_mae: 0.0335 - val_mse: 0.0021\n",
      "Epoch 90/100\n",
      "5/6 [========================>.....] - ETA: 0s - loss: 0.0028 - mae: 0.0405 - mse: 0.0028"
     ]
    },
    {
     "name": "stderr",
     "output_type": "stream",
     "text": [
      "WARNING:tensorflow:Can save best model only with val_mean_squared_error available, skipping.\n"
     ]
    },
    {
     "name": "stdout",
     "output_type": "stream",
     "text": [
      "6/6 [==============================] - 0s 47ms/step - loss: 0.0028 - mae: 0.0399 - mse: 0.0028 - val_loss: 0.0020 - val_mae: 0.0350 - val_mse: 0.0020\n",
      "Epoch 91/100\n",
      "5/6 [========================>.....] - ETA: 0s - loss: 0.0029 - mae: 0.0419 - mse: 0.0029"
     ]
    },
    {
     "name": "stderr",
     "output_type": "stream",
     "text": [
      "WARNING:tensorflow:Can save best model only with val_mean_squared_error available, skipping.\n"
     ]
    },
    {
     "name": "stdout",
     "output_type": "stream",
     "text": [
      "6/6 [==============================] - 0s 48ms/step - loss: 0.0029 - mae: 0.0424 - mse: 0.0029 - val_loss: 0.0025 - val_mae: 0.0441 - val_mse: 0.0025\n",
      "Epoch 92/100\n",
      "5/6 [========================>.....] - ETA: 0s - loss: 0.0023 - mae: 0.0389 - mse: 0.0023"
     ]
    },
    {
     "name": "stderr",
     "output_type": "stream",
     "text": [
      "WARNING:tensorflow:Can save best model only with val_mean_squared_error available, skipping.\n"
     ]
    },
    {
     "name": "stdout",
     "output_type": "stream",
     "text": [
      "6/6 [==============================] - 0s 46ms/step - loss: 0.0023 - mae: 0.0389 - mse: 0.0023 - val_loss: 0.0024 - val_mae: 0.0396 - val_mse: 0.0024\n",
      "Epoch 93/100\n",
      "5/6 [========================>.....] - ETA: 0s - loss: 0.0026 - mae: 0.0406 - mse: 0.0026"
     ]
    },
    {
     "name": "stderr",
     "output_type": "stream",
     "text": [
      "WARNING:tensorflow:Can save best model only with val_mean_squared_error available, skipping.\n"
     ]
    },
    {
     "name": "stdout",
     "output_type": "stream",
     "text": [
      "6/6 [==============================] - 0s 45ms/step - loss: 0.0026 - mae: 0.0403 - mse: 0.0026 - val_loss: 0.0024 - val_mae: 0.0393 - val_mse: 0.0024\n",
      "Epoch 94/100\n",
      "5/6 [========================>.....] - ETA: 0s - loss: 0.0030 - mae: 0.0433 - mse: 0.0030"
     ]
    },
    {
     "name": "stderr",
     "output_type": "stream",
     "text": [
      "WARNING:tensorflow:Can save best model only with val_mean_squared_error available, skipping.\n"
     ]
    },
    {
     "name": "stdout",
     "output_type": "stream",
     "text": [
      "6/6 [==============================] - 0s 47ms/step - loss: 0.0029 - mae: 0.0430 - mse: 0.0029 - val_loss: 0.0013 - val_mae: 0.0257 - val_mse: 0.0013\n",
      "Epoch 95/100\n",
      "5/6 [========================>.....] - ETA: 0s - loss: 0.0032 - mae: 0.0461 - mse: 0.0032"
     ]
    },
    {
     "name": "stderr",
     "output_type": "stream",
     "text": [
      "WARNING:tensorflow:Can save best model only with val_mean_squared_error available, skipping.\n"
     ]
    },
    {
     "name": "stdout",
     "output_type": "stream",
     "text": [
      "6/6 [==============================] - 0s 48ms/step - loss: 0.0032 - mae: 0.0459 - mse: 0.0032 - val_loss: 0.0025 - val_mae: 0.0393 - val_mse: 0.0025\n",
      "Epoch 96/100\n",
      "5/6 [========================>.....] - ETA: 0s - loss: 0.0031 - mae: 0.0447 - mse: 0.0031"
     ]
    },
    {
     "name": "stderr",
     "output_type": "stream",
     "text": [
      "WARNING:tensorflow:Can save best model only with val_mean_squared_error available, skipping.\n"
     ]
    },
    {
     "name": "stdout",
     "output_type": "stream",
     "text": [
      "6/6 [==============================] - 0s 47ms/step - loss: 0.0032 - mae: 0.0455 - mse: 0.0032 - val_loss: 0.0016 - val_mae: 0.0280 - val_mse: 0.0016\n",
      "Epoch 97/100\n",
      "5/6 [========================>.....] - ETA: 0s - loss: 0.0028 - mae: 0.0422 - mse: 0.0028"
     ]
    },
    {
     "name": "stderr",
     "output_type": "stream",
     "text": [
      "WARNING:tensorflow:Can save best model only with val_mean_squared_error available, skipping.\n"
     ]
    },
    {
     "name": "stdout",
     "output_type": "stream",
     "text": [
      "6/6 [==============================] - 0s 46ms/step - loss: 0.0028 - mae: 0.0416 - mse: 0.0028 - val_loss: 0.0027 - val_mae: 0.0462 - val_mse: 0.0027\n",
      "Epoch 98/100\n",
      "5/6 [========================>.....] - ETA: 0s - loss: 0.0026 - mae: 0.0406 - mse: 0.0026"
     ]
    },
    {
     "name": "stderr",
     "output_type": "stream",
     "text": [
      "WARNING:tensorflow:Can save best model only with val_mean_squared_error available, skipping.\n"
     ]
    },
    {
     "name": "stdout",
     "output_type": "stream",
     "text": [
      "6/6 [==============================] - 0s 44ms/step - loss: 0.0026 - mae: 0.0403 - mse: 0.0026 - val_loss: 0.0017 - val_mae: 0.0324 - val_mse: 0.0017\n",
      "Epoch 99/100\n",
      "5/6 [========================>.....] - ETA: 0s - loss: 0.0027 - mae: 0.0424 - mse: 0.0027"
     ]
    },
    {
     "name": "stderr",
     "output_type": "stream",
     "text": [
      "WARNING:tensorflow:Can save best model only with val_mean_squared_error available, skipping.\n"
     ]
    },
    {
     "name": "stdout",
     "output_type": "stream",
     "text": [
      "6/6 [==============================] - 0s 48ms/step - loss: 0.0026 - mae: 0.0412 - mse: 0.0026 - val_loss: 0.0021 - val_mae: 0.0372 - val_mse: 0.0021\n",
      "Epoch 100/100\n",
      "5/6 [========================>.....] - ETA: 0s - loss: 0.0022 - mae: 0.0359 - mse: 0.0022"
     ]
    },
    {
     "name": "stderr",
     "output_type": "stream",
     "text": [
      "WARNING:tensorflow:Can save best model only with val_mean_squared_error available, skipping.\n"
     ]
    },
    {
     "name": "stdout",
     "output_type": "stream",
     "text": [
      "6/6 [==============================] - 0s 46ms/step - loss: 0.0022 - mae: 0.0363 - mse: 0.0022 - val_loss: 0.0020 - val_mae: 0.0343 - val_mse: 0.0020\n"
     ]
    }
   ],
   "source": [
    "from keras.callbacks import ModelCheckpoint\n",
    "checkpoint = ModelCheckpoint(\"weights.best.hdf5\", monitor='val_mean_squared_error', verbose=1, save_best_only=True, mode='min')\n",
    "\n",
    "callbacks_list = [checkpoint]\n",
    "history = model.fit(X_train, y_train, epochs=100, batch_size=64, verbose=1, callbacks=callbacks_list, validation_split=0.1)"
   ]
  },
  {
   "cell_type": "code",
   "execution_count": 11,
   "id": "520a7400",
   "metadata": {
    "colab": {
     "base_uri": "https://localhost:8080/",
     "height": 851
    },
    "executionInfo": {
     "elapsed": 9,
     "status": "ok",
     "timestamp": 1670226541177,
     "user": {
      "displayName": "Emam Hossain",
      "userId": "13589795966077461357"
     },
     "user_tz": 300
    },
    "id": "520a7400",
    "outputId": "058b99a5-cb9b-455f-cbf0-fcc2200fea4e"
   },
   "outputs": [
    {
     "data": {
      "image/png": "[encoded data removed]",
      "text/plain": [
       "<Figure size 432x288 with 1 Axes>"
      ]
     },
     "metadata": {
      "needs_background": "light"
     },
     "output_type": "display_data"
    },
    {
     "data": {
      "image/png": "[encoded data removed]",
      "text/plain": [
       "<Figure size 432x288 with 1 Axes>"
      ]
     },
     "metadata": {
      "needs_background": "light"
     },
     "output_type": "display_data"
    },
    {
     "data": {
      "image/png": "[encoded data removed]",
      "text/plain": [
       "<Figure size 432x288 with 1 Axes>"
      ]
     },
     "metadata": {
      "needs_background": "light"
     },
     "output_type": "display_data"
    }
   ],
   "source": [
    "plt.plot(history.history['mse'])\n",
    "plt.plot(history.history['val_mse'])\n",
    "plt.title('Mean Squared Error of SIE Prediction')\n",
    "plt.ylabel('MSE')\n",
    "plt.xlabel('Epoch')\n",
    "plt.legend(['train', 'validation'], loc='upper right')\n",
    "plt.show()\n",
    "\n",
    "plt.plot(history.history['mae'])\n",
    "plt.plot(history.history['val_mae'])\n",
    "plt.title('Mean Absolute Error of SIE Prediction')\n",
    "plt.ylabel('MAE')\n",
    "plt.xlabel('Epoch')\n",
    "plt.legend(['train', 'validation'], loc='upper right')\n",
    "plt.show()\n",
    "\n",
    "plt.plot(history.history['loss'])\n",
    "plt.plot(history.history['val_loss'])\n",
    "plt.title('Loss of SIE Prediction')\n",
    "plt.ylabel('Loss')\n",
    "plt.xlabel('Epoch')\n",
    "plt.legend(['train', 'validation'], loc='upper right')\n",
    "plt.show()"
   ]
  },
  {
   "cell_type": "code",
   "execution_count": 12,
   "id": "733c794b",
   "metadata": {
    "colab": {
     "base_uri": "https://localhost:8080/"
    },
    "executionInfo": {
     "elapsed": 2510,
     "status": "ok",
     "timestamp": 1670226543680,
     "user": {
      "displayName": "Emam Hossain",
      "userId": "13589795966077461357"
     },
     "user_tz": 300
    },
    "id": "733c794b",
    "outputId": "e4ab619e-7cbc-46fe-8aac-a770e9040af9"
   },
   "outputs": [
    {
     "name": "stdout",
     "output_type": "stream",
     "text": [
      "4/4 [==============================] - 2s 20ms/step\n"
     ]
    }
   ],
   "source": [
    "from sklearn.metrics import mean_squared_error, mean_absolute_error, mean_absolute_percentage_error, r2_score\n",
    "from numpy import sqrt\n",
    "\n",
    "#model.load_weights(\"weights.best.hdf5\")\n",
    "\n",
    "cols = len(df.columns)\n",
    "pred = model.predict(X_test)\n",
    "\n",
    "predicted_dataset = dataset\n",
    "predicted_dataset[len(predicted_dataset)-len(pred):, cols-1] = pred[:, 0]\n",
    "scaled_predicted_dataset = scaler.inverse_transform(predicted_dataset)\n",
    "\n",
    "predicted_df = df.copy()\n",
    "predicted_df['sea_ice_extent'][len(predicted_dataset)-len(pred):] = scaled_predicted_dataset[len(predicted_dataset)-len(pred):, cols-1]\n",
    "\n",
    "predictions = pd.DataFrame()\n",
    "predictions['predicted'] = (predicted_df['sea_ice_extent'][len(predicted_dataset)-len(pred):])\n",
    "predictions['actual'] = (df['sea_ice_extent'][len(predicted_dataset)-len(pred):])\n",
    "predictions = predictions.astype(float)"
   ]
  },
  {
   "cell_type": "code",
   "execution_count": 13,
   "id": "O8XcnKMZNPgv",
   "metadata": {
    "colab": {
     "base_uri": "https://localhost:8080/",
     "height": 1000
    },
    "executionInfo": {
     "elapsed": 446,
     "status": "ok",
     "timestamp": 1670226544117,
     "user": {
      "displayName": "Emam Hossain",
      "userId": "13589795966077461357"
     },
     "user_tz": 300
    },
    "id": "O8XcnKMZNPgv",
    "outputId": "306cd6da-2f0a-4a99-c58e-7c25c073b3b0"
   },
   "outputs": [
    {
     "data": {
      "image/png": "[encoded data removed]",
      "text/plain": [
       "<Figure size 1152x432 with 1 Axes>"
      ]
     },
     "metadata": {
      "needs_background": "light"
     },
     "output_type": "display_data"
    },
    {
     "data": {
      "image/png": "[encoded data removed]",
      "text/plain": [
       "<Figure size 720x720 with 1 Axes>"
      ]
     },
     "metadata": {
      "needs_background": "light"
     },
     "output_type": "display_data"
    },
    {
     "name": "stdout",
     "output_type": "stream",
     "text": [
      "MSE :  3679790729765.5996 (10⁶ km²)\n",
      "MSPE : 5.818 %\n",
      "RMSE :  1918278.063724235 (10⁶ km²)\n",
      "RMSPE : 24.12 %\n",
      "MAE :  1668152.525510204 (10⁶ km²)\n",
      "MAPE :  18.783 %\n",
      "R2 :  62.516\n"
     ]
    }
   ],
   "source": [
    "plt.figure(figsize = (16,6))\n",
    "ax = plt.axes()\n",
    "# ax.set_facecolor('#dcdcdc')\n",
    "\n",
    "plt.title('Arctic Sea Ice Extent Actual vs Prediction Curve for Test Data', fontsize = 20,fontweight = \"bold\")\n",
    "plt.xlabel('Time' , fontsize = 14,fontweight = \"bold\")\n",
    "plt.ylabel('Sea Ice Extent (10\\u2076 km\\u00b2)', fontsize = 14,fontweight = \"bold\")\n",
    "plt.plot(predictions['actual']/10**6, 'blue', label='Actual SIE')\n",
    "plt.plot(predictions['predicted']/10**6, 'red', label='Predicted SIE')\n",
    "plt.legend()\n",
    "plt.grid()\n",
    "plt.show\n",
    "\n",
    "predictions['diff'] = predictions['predicted'] - predictions['actual']\n",
    "plt.figure(figsize=(10,10))\n",
    "plt.xlabel('Difference between actual and predicted SIE (10\\u2076 km\\u00b2)')\n",
    "sns.histplot(predictions['diff'])\n",
    "plt.title('Distribution of differences between actual and predicted SIE')\n",
    "plt.show()\n",
    "\n",
    "mspe = (np.mean(np.square((predictions['actual'].values - predictions['predicted'].values) / predictions['actual'].values))) * 100\n",
    "rmspe = (np.sqrt(np.mean(np.square((predictions['actual'].values - predictions['predicted'].values) / predictions['actual'].values)))) * 100\n",
    "\n",
    "print(\"MSE : \", mean_squared_error(predictions['predicted'].values, predictions['actual'].values), \"(10\\u2076 km\\u00b2)\")\n",
    "print(\"MSPE :\", round(mspe,3), \"%\")\n",
    "print(\"RMSE : \", sqrt(mean_squared_error(predictions['predicted'].values, predictions['actual'].values)), \"(10\\u2076 km\\u00b2)\")\n",
    "print(\"RMSPE :\", round(rmspe,3), \"%\")\n",
    "print(\"MAE : \", mean_absolute_error(predictions['predicted'].values, predictions['actual'].values), \"(10\\u2076 km\\u00b2)\")\n",
    "print(\"MAPE : \", round(mean_absolute_percentage_error(predictions['predicted'].values, predictions['actual'].values)*100,3), \"%\")\n",
    "print(\"R2 : \", round(r2_score(predictions['predicted'].values, predictions['actual'].values)*100,3))"
   ]
  },
  {
   "cell_type": "code",
   "execution_count": 14,
   "id": "3f3aaf6d",
   "metadata": {
    "executionInfo": {
     "elapsed": 3,
     "status": "ok",
     "timestamp": 1670226544117,
     "user": {
      "displayName": "Emam Hossain",
      "userId": "13589795966077461357"
     },
     "user_tz": 300
    },
    "id": "3f3aaf6d"
   },
   "outputs": [],
   "source": [
    "# while True:pass"
   ]
  }
 ],
 "metadata": {
  "accelerator": "GPU",
  "colab": {
   "provenance": [
    {
     "file_id": "1tsdSY4XF8dbRdNGZQhWw6nd--RLFP4EX",
     "timestamp": 1670202049252
    },
    {
     "file_id": "1L3ixnLeRDivuLSWCq04VtDKnU7YIw_C7",
     "timestamp": 1670201891016
    },
    {
     "file_id": "1VJInZTaupyMxQ6JprjJi2D6639FmXJ-t",
     "timestamp": 1670201115947
    },
    {
     "file_id": "1f-ct_NOq__M1QDGjYMyualvRlVNWtnum",
     "timestamp": 1670201096560
    },
    {
     "file_id": "1S71KBLYU9q_J7PpD1i3PdHnejHsyHk2A",
     "timestamp": 1670201029903
    },
    {
     "file_id": "1ZW2CDeL2Z4e4d7GVtf1CCEU8ioKr_ozr",
     "timestamp": 1670200993047
    },
    {
     "file_id": "11ezPDxEfETgGwyGSoqr5wscr_t65bvL6",
     "timestamp": 1669223899169
    },
    {
     "file_id": "https://github.com/ehfahad/SIE-Prediction-using-Causal-Deep-Learning/blob/main/Models/SIE%20Prediction%20(1-day%20lead)%20upto%202014%20with%20day%2C%20week%2C%20month.ipynb",
     "timestamp": 1666883273850
    }
   ]
  },
  "gpuClass": "standard",
  "kernelspec": {
   "display_name": "Python 3 (ipykernel)",
   "language": "python",
   "name": "python3"
  },
  "language_info": {
   "codemirror_mode": {
    "name": "ipython",
    "version": 3
   },
   "file_extension": ".py",
   "mimetype": "text/x-python",
   "name": "python",
   "nbconvert_exporter": "python",
   "pygments_lexer": "ipython3",
   "version": "3.8.15"
  },
  "varInspector": {
   "cols": {
    "lenName": 16,
    "lenType": 16,
    "lenVar": 40
   },
   "kernels_config": {
    "python": {
     "delete_cmd_postfix": "",
     "delete_cmd_prefix": "del ",
     "library": "var_list.py",
     "varRefreshCmd": "print(var_dic_list())"
    },
    "r": {
     "delete_cmd_postfix": ") ",
     "delete_cmd_prefix": "rm(",
     "library": "var_list.r",
     "varRefreshCmd": "cat(var_dic_list()) "
    }
   },
   "position": {
    "height": "417.844px",
    "left": "1538px",
    "right": "20px",
    "top": "131px",
    "width": "350px"
   },
   "types_to_exclude": [
    "module",
    "function",
    "builtin_function_or_method",
    "instance",
    "_Feature"
   ],
   "window_display": true
  }
 },
 "nbformat": 4,
 "nbformat_minor": 5
}
