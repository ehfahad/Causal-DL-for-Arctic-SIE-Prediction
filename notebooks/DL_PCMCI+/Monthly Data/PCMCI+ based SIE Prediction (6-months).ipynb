{
 "cells": [
  {
   "cell_type": "code",
   "execution_count": 1,
   "id": "1507a9c1",
   "metadata": {
    "executionInfo": {
     "elapsed": 1262,
     "status": "ok",
     "timestamp": 1670226866470,
     "user": {
      "displayName": "Emam Hossain",
      "userId": "13589795966077461357"
     },
     "user_tz": 300
    },
    "id": "1507a9c1"
   },
   "outputs": [],
   "source": [
    "import numpy as np\n",
    "import pandas as pd\n",
    "import matplotlib.pyplot as plt\n",
    "import seaborn as sns\n",
    "from sklearn.preprocessing import MinMaxScaler"
   ]
  },
  {
   "cell_type": "code",
   "execution_count": 2,
   "id": "ZkC-CdqrYGLW",
   "metadata": {
    "executionInfo": {
     "elapsed": 7,
     "status": "ok",
     "timestamp": 1670226866471,
     "user": {
      "displayName": "Emam Hossain",
      "userId": "13589795966077461357"
     },
     "user_tz": 300
    },
    "id": "ZkC-CdqrYGLW"
   },
   "outputs": [],
   "source": [
    "# global variables\n",
    "\n",
    "look_back = 20\n",
    "lead_time = 6\n",
    "filename = '../../../data/Arctic_Monthy_Mean_1979_2021.csv'\n",
    "pcmciplus_features = ['LW_down', 'sst', 'sea_ice_extent']"
   ]
  },
  {
   "cell_type": "code",
   "execution_count": 3,
   "id": "zlPFdfw7F9-_",
   "metadata": {
    "colab": {
     "base_uri": "https://localhost:8080/",
     "height": 74
    },
    "executionInfo": {
     "elapsed": 6027,
     "status": "ok",
     "timestamp": 1670226872492,
     "user": {
      "displayName": "Emam Hossain",
      "userId": "13589795966077461357"
     },
     "user_tz": 300
    },
    "id": "zlPFdfw7F9-_",
    "outputId": "3ab517ee-3064-4e99-a11a-e0622a013adc"
   },
   "outputs": [
    {
     "data": {
      "text/html": [
       "<div>\n",
       "<style scoped>\n",
       "    .dataframe tbody tr th:only-of-type {\n",
       "        vertical-align: middle;\n",
       "    }\n",
       "\n",
       "    .dataframe tbody tr th {\n",
       "        vertical-align: top;\n",
       "    }\n",
       "\n",
       "    .dataframe thead th {\n",
       "        text-align: right;\n",
       "    }\n",
       "</style>\n",
       "<table border=\"1\" class=\"dataframe\">\n",
       "  <thead>\n",
       "    <tr style=\"text-align: right;\">\n",
       "      <th></th>\n",
       "      <th>Date</th>\n",
       "      <th>wind_10m</th>\n",
       "      <th>specific_humidity</th>\n",
       "      <th>LW_down</th>\n",
       "      <th>SW_down</th>\n",
       "      <th>rainfall</th>\n",
       "      <th>snowfall</th>\n",
       "      <th>sst</th>\n",
       "      <th>t2m</th>\n",
       "      <th>surface_pressure</th>\n",
       "      <th>sea_ice_extent</th>\n",
       "    </tr>\n",
       "  </thead>\n",
       "  <tbody>\n",
       "    <tr>\n",
       "      <th>0</th>\n",
       "      <td>1/1/1979</td>\n",
       "      <td>5.531398</td>\n",
       "      <td>0.811961</td>\n",
       "      <td>186.687054</td>\n",
       "      <td>3.127880</td>\n",
       "      <td>1.009872</td>\n",
       "      <td>0.892319</td>\n",
       "      <td>273.355237</td>\n",
       "      <td>250.388101</td>\n",
       "      <td>984.633032</td>\n",
       "      <td>15604191</td>\n",
       "    </tr>\n",
       "    <tr>\n",
       "      <th>1</th>\n",
       "      <td>2/1/1979</td>\n",
       "      <td>5.328020</td>\n",
       "      <td>0.688896</td>\n",
       "      <td>174.794571</td>\n",
       "      <td>18.541594</td>\n",
       "      <td>0.920831</td>\n",
       "      <td>0.781347</td>\n",
       "      <td>273.121885</td>\n",
       "      <td>247.071202</td>\n",
       "      <td>983.980418</td>\n",
       "      <td>16378929</td>\n",
       "    </tr>\n",
       "    <tr>\n",
       "      <th>2</th>\n",
       "      <td>3/1/1979</td>\n",
       "      <td>5.432511</td>\n",
       "      <td>0.916124</td>\n",
       "      <td>190.741933</td>\n",
       "      <td>67.690429</td>\n",
       "      <td>0.983327</td>\n",
       "      <td>0.855266</td>\n",
       "      <td>273.088099</td>\n",
       "      <td>252.954138</td>\n",
       "      <td>985.140468</td>\n",
       "      <td>16521089</td>\n",
       "    </tr>\n",
       "    <tr>\n",
       "      <th>3</th>\n",
       "      <td>4/1/1979</td>\n",
       "      <td>4.792836</td>\n",
       "      <td>1.272056</td>\n",
       "      <td>212.937925</td>\n",
       "      <td>156.223673</td>\n",
       "      <td>0.890723</td>\n",
       "      <td>0.705203</td>\n",
       "      <td>273.126062</td>\n",
       "      <td>259.557456</td>\n",
       "      <td>989.314698</td>\n",
       "      <td>15561238</td>\n",
       "    </tr>\n",
       "    <tr>\n",
       "      <th>4</th>\n",
       "      <td>5/1/1979</td>\n",
       "      <td>4.819028</td>\n",
       "      <td>2.239776</td>\n",
       "      <td>253.690478</td>\n",
       "      <td>230.950833</td>\n",
       "      <td>1.201308</td>\n",
       "      <td>0.688723</td>\n",
       "      <td>273.393551</td>\n",
       "      <td>269.375118</td>\n",
       "      <td>984.483658</td>\n",
       "      <td>14085613</td>\n",
       "    </tr>\n",
       "  </tbody>\n",
       "</table>\n",
       "</div>"
      ],
      "text/plain": [
       "       Date  wind_10m  specific_humidity     LW_down     SW_down  rainfall  \\\n",
       "0  1/1/1979  5.531398           0.811961  186.687054    3.127880  1.009872   \n",
       "1  2/1/1979  5.328020           0.688896  174.794571   18.541594  0.920831   \n",
       "2  3/1/1979  5.432511           0.916124  190.741933   67.690429  0.983327   \n",
       "3  4/1/1979  4.792836           1.272056  212.937925  156.223673  0.890723   \n",
       "4  5/1/1979  4.819028           2.239776  253.690478  230.950833  1.201308   \n",
       "\n",
       "   snowfall         sst         t2m  surface_pressure  sea_ice_extent  \n",
       "0  0.892319  273.355237  250.388101        984.633032        15604191  \n",
       "1  0.781347  273.121885  247.071202        983.980418        16378929  \n",
       "2  0.855266  273.088099  252.954138        985.140468        16521089  \n",
       "3  0.705203  273.126062  259.557456        989.314698        15561238  \n",
       "4  0.688723  273.393551  269.375118        984.483658        14085613  "
      ]
     },
     "execution_count": 3,
     "metadata": {},
     "output_type": "execute_result"
    }
   ],
   "source": [
    "# from google.colab import files\n",
    "# import io\n",
    "\n",
    "# uploaded = files.upload()\n",
    "# df = pd.read_csv(io.BytesIO(uploaded[filename]))\n",
    "\n",
    "# Reading the dataset\n",
    "df = pd.read_csv(filename)\n",
    "df.head()"
   ]
  },
  {
   "cell_type": "code",
   "execution_count": 4,
   "id": "683fdbc4",
   "metadata": {
    "colab": {
     "base_uri": "https://localhost:8080/",
     "height": 455
    },
    "executionInfo": {
     "elapsed": 7,
     "status": "ok",
     "timestamp": 1670226872492,
     "user": {
      "displayName": "Emam Hossain",
      "userId": "13589795966077461357"
     },
     "user_tz": 300
    },
    "id": "683fdbc4",
    "outputId": "1366ba6a-bcf3-402d-954b-bab56d27357e"
   },
   "outputs": [
    {
     "data": {
      "text/html": [
       "\n",
       "  <div id=\"df-c6e8b4c3-ff14-4ecf-993d-7277c4cab7d7\">\n",
       "    <div class=\"colab-df-container\">\n",
       "      <div>\n",
       "<style scoped>\n",
       "    .dataframe tbody tr th:only-of-type {\n",
       "        vertical-align: middle;\n",
       "    }\n",
       "\n",
       "    .dataframe tbody tr th {\n",
       "        vertical-align: top;\n",
       "    }\n",
       "\n",
       "    .dataframe thead th {\n",
       "        text-align: right;\n",
       "    }\n",
       "</style>\n",
       "<table border=\"1\" class=\"dataframe\">\n",
       "  <thead>\n",
       "    <tr style=\"text-align: right;\">\n",
       "      <th></th>\n",
       "      <th>LW_down</th>\n",
       "      <th>sst</th>\n",
       "      <th>sea_ice_extent</th>\n",
       "    </tr>\n",
       "    <tr>\n",
       "      <th>Date</th>\n",
       "      <th></th>\n",
       "      <th></th>\n",
       "      <th></th>\n",
       "    </tr>\n",
       "  </thead>\n",
       "  <tbody>\n",
       "    <tr>\n",
       "      <th>1979-01-01</th>\n",
       "      <td>186.687054</td>\n",
       "      <td>273.355237</td>\n",
       "      <td>15604191.0</td>\n",
       "    </tr>\n",
       "    <tr>\n",
       "      <th>1979-02-01</th>\n",
       "      <td>174.794571</td>\n",
       "      <td>273.121885</td>\n",
       "      <td>16378929.0</td>\n",
       "    </tr>\n",
       "    <tr>\n",
       "      <th>1979-03-01</th>\n",
       "      <td>190.741933</td>\n",
       "      <td>273.088099</td>\n",
       "      <td>16521089.0</td>\n",
       "    </tr>\n",
       "    <tr>\n",
       "      <th>1979-04-01</th>\n",
       "      <td>212.937925</td>\n",
       "      <td>273.126062</td>\n",
       "      <td>15561238.0</td>\n",
       "    </tr>\n",
       "    <tr>\n",
       "      <th>1979-05-01</th>\n",
       "      <td>253.690478</td>\n",
       "      <td>273.393551</td>\n",
       "      <td>14085613.0</td>\n",
       "    </tr>\n",
       "    <tr>\n",
       "      <th>...</th>\n",
       "      <td>...</td>\n",
       "      <td>...</td>\n",
       "      <td>...</td>\n",
       "    </tr>\n",
       "    <tr>\n",
       "      <th>2021-04-01</th>\n",
       "      <td>225.171796</td>\n",
       "      <td>273.470298</td>\n",
       "      <td>13840000.0</td>\n",
       "    </tr>\n",
       "    <tr>\n",
       "      <th>2021-05-01</th>\n",
       "      <td>260.956781</td>\n",
       "      <td>273.888627</td>\n",
       "      <td>12660000.0</td>\n",
       "    </tr>\n",
       "    <tr>\n",
       "      <th>2021-06-01</th>\n",
       "      <td>294.931709</td>\n",
       "      <td>275.245088</td>\n",
       "      <td>10710000.0</td>\n",
       "    </tr>\n",
       "    <tr>\n",
       "      <th>2021-07-01</th>\n",
       "      <td>313.311345</td>\n",
       "      <td>277.253314</td>\n",
       "      <td>7690000.0</td>\n",
       "    </tr>\n",
       "    <tr>\n",
       "      <th>2021-08-01</th>\n",
       "      <td>313.003568</td>\n",
       "      <td>278.556142</td>\n",
       "      <td>5750000.0</td>\n",
       "    </tr>\n",
       "  </tbody>\n",
       "</table>\n",
       "<p>512 rows × 3 columns</p>\n",
       "</div>\n",
       "      <button class=\"colab-df-convert\" onclick=\"convertToInteractive('df-c6e8b4c3-ff14-4ecf-993d-7277c4cab7d7')\"\n",
       "              title=\"Convert this dataframe to an interactive table.\"\n",
       "              style=\"display:none;\">\n",
       "        \n",
       "  <svg xmlns=\"http://www.w3.org/2000/svg\" height=\"24px\"viewBox=\"0 0 24 24\"\n",
       "       width=\"24px\">\n",
       "    <path d=\"M0 0h24v24H0V0z\" fill=\"none\"/>\n",
       "    <path d=\"M18.56 5.44l.94 2.06.94-2.06 2.06-.94-2.06-.94-.94-2.06-.94 2.06-2.06.94zm-11 1L8.5 8.5l.94-2.06 2.06-.94-2.06-.94L8.5 2.5l-.94 2.06-2.06.94zm10 10l.94 2.06.94-2.06 2.06-.94-2.06-.94-.94-2.06-.94 2.06-2.06.94z\"/><path d=\"M17.41 7.96l-1.37-1.37c-.4-.4-.92-.59-1.43-.59-.52 0-1.04.2-1.43.59L10.3 9.45l-7.72 7.72c-.78.78-.78 2.05 0 2.83L4 21.41c.39.39.9.59 1.41.59.51 0 1.02-.2 1.41-.59l7.78-7.78 2.81-2.81c.8-.78.8-2.07 0-2.86zM5.41 20L4 18.59l7.72-7.72 1.47 1.35L5.41 20z\"/>\n",
       "  </svg>\n",
       "      </button>\n",
       "      \n",
       "  <style>\n",
       "    .colab-df-container {\n",
       "      display:flex;\n",
       "      flex-wrap:wrap;\n",
       "      gap: 12px;\n",
       "    }\n",
       "\n",
       "    .colab-df-convert {\n",
       "      background-color: #E8F0FE;\n",
       "      border: none;\n",
       "      border-radius: 50%;\n",
       "      cursor: pointer;\n",
       "      display: none;\n",
       "      fill: #1967D2;\n",
       "      height: 32px;\n",
       "      padding: 0 0 0 0;\n",
       "      width: 32px;\n",
       "    }\n",
       "\n",
       "    .colab-df-convert:hover {\n",
       "      background-color: #E2EBFA;\n",
       "      box-shadow: 0px 1px 2px rgba(60, 64, 67, 0.3), 0px 1px 3px 1px rgba(60, 64, 67, 0.15);\n",
       "      fill: #174EA6;\n",
       "    }\n",
       "\n",
       "    [theme=dark] .colab-df-convert {\n",
       "      background-color: #3B4455;\n",
       "      fill: #D2E3FC;\n",
       "    }\n",
       "\n",
       "    [theme=dark] .colab-df-convert:hover {\n",
       "      background-color: #434B5C;\n",
       "      box-shadow: 0px 1px 3px 1px rgba(0, 0, 0, 0.15);\n",
       "      filter: drop-shadow(0px 1px 2px rgba(0, 0, 0, 0.3));\n",
       "      fill: #FFFFFF;\n",
       "    }\n",
       "  </style>\n",
       "\n",
       "      <script>\n",
       "        const buttonEl =\n",
       "          document.querySelector('#df-c6e8b4c3-ff14-4ecf-993d-7277c4cab7d7 button.colab-df-convert');\n",
       "        buttonEl.style.display =\n",
       "          google.colab.kernel.accessAllowed ? 'block' : 'none';\n",
       "\n",
       "        async function convertToInteractive(key) {\n",
       "          const element = document.querySelector('#df-c6e8b4c3-ff14-4ecf-993d-7277c4cab7d7');\n",
       "          const dataTable =\n",
       "            await google.colab.kernel.invokeFunction('convertToInteractive',\n",
       "                                                     [key], {});\n",
       "          if (!dataTable) return;\n",
       "\n",
       "          const docLinkHtml = 'Like what you see? Visit the ' +\n",
       "            '<a target=\"_blank\" href=https://colab.research.google.com/notebooks/data_table.ipynb>data table notebook</a>'\n",
       "            + ' to learn more about interactive tables.';\n",
       "          element.innerHTML = '';\n",
       "          dataTable['output_type'] = 'display_data';\n",
       "          await google.colab.output.renderOutput(dataTable, element);\n",
       "          const docLink = document.createElement('div');\n",
       "          docLink.innerHTML = docLinkHtml;\n",
       "          element.appendChild(docLink);\n",
       "        }\n",
       "      </script>\n",
       "    </div>\n",
       "  </div>\n",
       "  "
      ],
      "text/plain": [
       "               LW_down         sst  sea_ice_extent\n",
       "Date                                              \n",
       "1979-01-01  186.687054  273.355237      15604191.0\n",
       "1979-02-01  174.794571  273.121885      16378929.0\n",
       "1979-03-01  190.741933  273.088099      16521089.0\n",
       "1979-04-01  212.937925  273.126062      15561238.0\n",
       "1979-05-01  253.690478  273.393551      14085613.0\n",
       "...                ...         ...             ...\n",
       "2021-04-01  225.171796  273.470298      13840000.0\n",
       "2021-05-01  260.956781  273.888627      12660000.0\n",
       "2021-06-01  294.931709  275.245088      10710000.0\n",
       "2021-07-01  313.311345  277.253314       7690000.0\n",
       "2021-08-01  313.003568  278.556142       5750000.0\n",
       "\n",
       "[512 rows x 3 columns]"
      ]
     },
     "execution_count": 4,
     "metadata": {},
     "output_type": "execute_result"
    }
   ],
   "source": [
    "df['Date'] = pd.to_datetime(df['Date'], infer_datetime_format=True)\n",
    "df.set_index('Date', inplace=True)\n",
    "df = df.astype(float)                 # cast df to float\n",
    "df = df[pcmciplus_features]\n",
    "df.tail(len(df))"
   ]
  },
  {
   "cell_type": "code",
   "execution_count": 5,
   "id": "e5014c30",
   "metadata": {
    "executionInfo": {
     "elapsed": 6,
     "status": "ok",
     "timestamp": 1670226872493,
     "user": {
      "displayName": "Emam Hossain",
      "userId": "13589795966077461357"
     },
     "user_tz": 300
    },
    "id": "e5014c30"
   },
   "outputs": [],
   "source": [
    "def create_model_data (dataset, look_back, lead_time):\n",
    "    dataX, dataY = [], []\n",
    "    \n",
    "    for i in range(len(dataset)-look_back-lead_time):\n",
    "        a = dataset[i:(i+look_back)]\n",
    "        dataX.append(a)\n",
    "        dataY.append(dataset[i + look_back + (lead_time-1)])\n",
    "    return np.array(dataX), np.array(dataY)"
   ]
  },
  {
   "cell_type": "code",
   "execution_count": 6,
   "id": "c1aaa5e4",
   "metadata": {
    "executionInfo": {
     "elapsed": 6,
     "status": "ok",
     "timestamp": 1670226872493,
     "user": {
      "displayName": "Emam Hossain",
      "userId": "13589795966077461357"
     },
     "user_tz": 300
    },
    "id": "c1aaa5e4",
    "scrolled": true
   },
   "outputs": [],
   "source": [
    "target_index = df.columns.tolist().index('sea_ice_extent')\n",
    "\n",
    "dataset = df.values.astype('float32')               # DataFrame converted to Numpy Array\n",
    "\n",
    "scaler = MinMaxScaler(feature_range=(0, 1))\n",
    "dataset = scaler.fit_transform(dataset)\n",
    "\n",
    "X, y = create_model_data (dataset, look_back=look_back, lead_time=lead_time)\n",
    "y = y[:,target_index]"
   ]
  },
  {
   "cell_type": "code",
   "execution_count": 7,
   "id": "KGbRA39Br3S9",
   "metadata": {
    "executionInfo": {
     "elapsed": 5,
     "status": "ok",
     "timestamp": 1670226872493,
     "user": {
      "displayName": "Emam Hossain",
      "userId": "13589795966077461357"
     },
     "user_tz": 300
    },
    "id": "KGbRA39Br3S9"
   },
   "outputs": [],
   "source": [
    "from sklearn.model_selection import train_test_split\n",
    "\n",
    "X_train, X_test, y_train, y_test = train_test_split(X, y, test_size=0.2, shuffle=False)"
   ]
  },
  {
   "cell_type": "code",
   "execution_count": 8,
   "id": "9405d356",
   "metadata": {
    "colab": {
     "base_uri": "https://localhost:8080/",
     "height": 431
    },
    "executionInfo": {
     "elapsed": 1598,
     "status": "ok",
     "timestamp": 1670226874086,
     "user": {
      "displayName": "Emam Hossain",
      "userId": "13589795966077461357"
     },
     "user_tz": 300
    },
    "id": "9405d356",
    "outputId": "67ba8a8c-9f18-4954-f273-3afc6e657036"
   },
   "outputs": [
    {
     "data": {
      "text/plain": [
       "<function matplotlib.pyplot.show(*args, **kw)>"
      ]
     },
     "execution_count": 8,
     "metadata": {},
     "output_type": "execute_result"
    },
    {
     "data": {
      "image/png": "[encoded data removed]",
      "text/plain": [
       "<Figure size 1152x432 with 1 Axes>"
      ]
     },
     "metadata": {
      "needs_background": "light"
     },
     "output_type": "display_data"
    }
   ],
   "source": [
    "plt.figure(figsize = (16,6))\n",
    "ax = plt.axes()\n",
    "# ax.set_facecolor('#dcdcdc')\n",
    "\n",
    "plt.title('Arctic Sea Ice Extent Trend from 1979-2018', fontsize = 20,fontweight = \"bold\")\n",
    "plt.xlabel('Time' , fontsize = 14,fontweight = \"bold\")\n",
    "plt.ylabel('Sea Ice Extent (10\\u2076 km\\u00b2)', fontsize = 14,fontweight = \"bold\")\n",
    "plt.plot(df['sea_ice_extent'][:len(df)-len(y_test)]/10**6, 'blue', label='Training Data')\n",
    "plt.plot(df['sea_ice_extent'][len(df)-len(y_test):]/10**6, 'red', label='Testing Data')\n",
    "plt.legend()\n",
    "plt.grid()\n",
    "plt.show"
   ]
  },
  {
   "cell_type": "code",
   "execution_count": 9,
   "id": "86f5e0f3",
   "metadata": {
    "colab": {
     "base_uri": "https://localhost:8080/"
    },
    "executionInfo": {
     "elapsed": 15329,
     "status": "ok",
     "timestamp": 1670226889412,
     "user": {
      "displayName": "Emam Hossain",
      "userId": "13589795966077461357"
     },
     "user_tz": 300
    },
    "id": "86f5e0f3",
    "outputId": "c8b45c57-b279-4ed7-bb81-86548c9ae948"
   },
   "outputs": [
    {
     "name": "stdout",
     "output_type": "stream",
     "text": [
      "Model: \"sequential\"\n",
      "_________________________________________________________________\n",
      " Layer (type)                Output Shape              Param #   \n",
      "=================================================================\n",
      " gru (GRU)                   (None, 20, 64)            13248     \n",
      "                                                                 \n",
      " dropout (Dropout)           (None, 20, 64)            0         \n",
      "                                                                 \n",
      " gru_1 (GRU)                 (None, 20, 128)           74496     \n",
      "                                                                 \n",
      " dropout_1 (Dropout)         (None, 20, 128)           0         \n",
      "                                                                 \n",
      " gru_2 (GRU)                 (None, 20, 256)           296448    \n",
      "                                                                 \n",
      " dropout_2 (Dropout)         (None, 20, 256)           0         \n",
      "                                                                 \n",
      " gru_3 (GRU)                 (None, 20, 512)           1182720   \n",
      "                                                                 \n",
      " dropout_3 (Dropout)         (None, 20, 512)           0         \n",
      "                                                                 \n",
      " lstm (LSTM)                 (None, 20, 1024)          6295552   \n",
      "                                                                 \n",
      " dropout_4 (Dropout)         (None, 20, 1024)          0         \n",
      "                                                                 \n",
      " lstm_1 (LSTM)               (None, 20, 512)           3147776   \n",
      "                                                                 \n",
      " dropout_5 (Dropout)         (None, 20, 512)           0         \n",
      "                                                                 \n",
      " lstm_2 (LSTM)               (None, 20, 256)           787456    \n",
      "                                                                 \n",
      " dropout_6 (Dropout)         (None, 20, 256)           0         \n",
      "                                                                 \n",
      " lstm_3 (LSTM)               (None, 128)               197120    \n",
      "                                                                 \n",
      " dropout_7 (Dropout)         (None, 128)               0         \n",
      "                                                                 \n",
      " dense (Dense)               (None, 64)                8256      \n",
      "                                                                 \n",
      " dense_1 (Dense)             (None, 1)                 65        \n",
      "                                                                 \n",
      "=================================================================\n",
      "Total params: 12,003,137\n",
      "Trainable params: 12,003,137\n",
      "Non-trainable params: 0\n",
      "_________________________________________________________________\n",
      "None\n"
     ]
    }
   ],
   "source": [
    "from keras.models import Sequential\n",
    "from keras.layers import Dense, Dropout, Activation, Input, LSTM, GRU, Dense\n",
    "\n",
    "input_shape=(X.shape[1], X.shape[2])\n",
    "\n",
    "model = Sequential()\n",
    "model.add(GRU(64, input_shape=(X.shape[1], X.shape[2]), return_sequences=True))\n",
    "model.add(Dropout(0.2))\n",
    "\n",
    "model.add(GRU(128, return_sequences=True))\n",
    "model.add(Dropout(0.2))\n",
    "\n",
    "model.add(GRU(256, return_sequences=True))\n",
    "model.add(Dropout(0.2))\n",
    "\n",
    "model.add(GRU(512, return_sequences=True))\n",
    "model.add(Dropout(0.2))\n",
    "\n",
    "model.add(LSTM(1024, return_sequences=True))\n",
    "model.add(Dropout(0.2))\n",
    "\n",
    "model.add(LSTM(512, return_sequences=True))\n",
    "model.add(Dropout(0.2))\n",
    "\n",
    "model.add(LSTM(256, return_sequences=True))\n",
    "model.add(Dropout(0.2))\n",
    "\n",
    "model.add(LSTM(128))\n",
    "model.add(Dropout(0.2))\n",
    "\n",
    "model.add(Dense(64 ,  activation = 'relu'))\n",
    "model.add(Dense(1))\n",
    "\n",
    "model.compile(loss='mean_squared_error', optimizer='adam', metrics=['mae', 'mse'])\n",
    "print(model.summary())"
   ]
  },
  {
   "cell_type": "code",
   "execution_count": 10,
   "id": "8a6be2cb",
   "metadata": {
    "colab": {
     "base_uri": "https://localhost:8080/"
    },
    "executionInfo": {
     "elapsed": 48669,
     "status": "ok",
     "timestamp": 1670226938075,
     "user": {
      "displayName": "Emam Hossain",
      "userId": "13589795966077461357"
     },
     "user_tz": 300
    },
    "id": "8a6be2cb",
    "outputId": "f2fea8c2-0f76-46c8-8ab5-6681ca59c560",
    "scrolled": true
   },
   "outputs": [
    {
     "name": "stdout",
     "output_type": "stream",
     "text": [
      "Epoch 1/100\n",
      "6/6 [==============================] - ETA: 0s - loss: 0.5132 - mae: 0.5992 - mse: 0.5132"
     ]
    },
    {
     "name": "stderr",
     "output_type": "stream",
     "text": [
      "WARNING:tensorflow:Can save best model only with val_mean_squared_error available, skipping.\n"
     ]
    },
    {
     "name": "stdout",
     "output_type": "stream",
     "text": [
      "6/6 [==============================] - 20s 633ms/step - loss: 0.5132 - mae: 0.5992 - mse: 0.5132 - val_loss: 0.1573 - val_mae: 0.3450 - val_mse: 0.1573\n",
      "Epoch 2/100\n",
      "5/6 [========================>.....] - ETA: 0s - loss: 0.0972 - mae: 0.2585 - mse: 0.0972"
     ]
    },
    {
     "name": "stderr",
     "output_type": "stream",
     "text": [
      "WARNING:tensorflow:Can save best model only with val_mean_squared_error available, skipping.\n"
     ]
    },
    {
     "name": "stdout",
     "output_type": "stream",
     "text": [
      "6/6 [==============================] - 0s 66ms/step - loss: 0.0991 - mae: 0.2626 - mse: 0.0991 - val_loss: 0.0780 - val_mae: 0.2396 - val_mse: 0.0780\n",
      "Epoch 3/100\n",
      "5/6 [========================>.....] - ETA: 0s - loss: 0.0720 - mae: 0.2207 - mse: 0.0720"
     ]
    },
    {
     "name": "stderr",
     "output_type": "stream",
     "text": [
      "WARNING:tensorflow:Can save best model only with val_mean_squared_error available, skipping.\n"
     ]
    },
    {
     "name": "stdout",
     "output_type": "stream",
     "text": [
      "6/6 [==============================] - 0s 54ms/step - loss: 0.0733 - mae: 0.2236 - mse: 0.0733 - val_loss: 0.0789 - val_mae: 0.2381 - val_mse: 0.0789\n",
      "Epoch 4/100\n",
      "5/6 [========================>.....] - ETA: 0s - loss: 0.0645 - mae: 0.2158 - mse: 0.0645"
     ]
    },
    {
     "name": "stderr",
     "output_type": "stream",
     "text": [
      "WARNING:tensorflow:Can save best model only with val_mean_squared_error available, skipping.\n"
     ]
    },
    {
     "name": "stdout",
     "output_type": "stream",
     "text": [
      "6/6 [==============================] - 0s 47ms/step - loss: 0.0645 - mae: 0.2162 - mse: 0.0645 - val_loss: 0.0780 - val_mae: 0.2389 - val_mse: 0.0780\n",
      "Epoch 5/100\n",
      "5/6 [========================>.....] - ETA: 0s - loss: 0.0623 - mae: 0.2080 - mse: 0.0623"
     ]
    },
    {
     "name": "stderr",
     "output_type": "stream",
     "text": [
      "WARNING:tensorflow:Can save best model only with val_mean_squared_error available, skipping.\n"
     ]
    },
    {
     "name": "stdout",
     "output_type": "stream",
     "text": [
      "6/6 [==============================] - 0s 46ms/step - loss: 0.0635 - mae: 0.2109 - mse: 0.0635 - val_loss: 0.0771 - val_mae: 0.2397 - val_mse: 0.0771\n",
      "Epoch 6/100\n",
      "5/6 [========================>.....] - ETA: 0s - loss: 0.0689 - mae: 0.2250 - mse: 0.0689"
     ]
    },
    {
     "name": "stderr",
     "output_type": "stream",
     "text": [
      "WARNING:tensorflow:Can save best model only with val_mean_squared_error available, skipping.\n"
     ]
    },
    {
     "name": "stdout",
     "output_type": "stream",
     "text": [
      "6/6 [==============================] - 0s 47ms/step - loss: 0.0667 - mae: 0.2194 - mse: 0.0667 - val_loss: 0.0871 - val_mae: 0.2347 - val_mse: 0.0871\n",
      "Epoch 7/100\n",
      "5/6 [========================>.....] - ETA: 0s - loss: 0.0626 - mae: 0.2093 - mse: 0.0626"
     ]
    },
    {
     "name": "stderr",
     "output_type": "stream",
     "text": [
      "WARNING:tensorflow:Can save best model only with val_mean_squared_error available, skipping.\n"
     ]
    },
    {
     "name": "stdout",
     "output_type": "stream",
     "text": [
      "6/6 [==============================] - 0s 47ms/step - loss: 0.0614 - mae: 0.2075 - mse: 0.0614 - val_loss: 0.0792 - val_mae: 0.2366 - val_mse: 0.0792\n",
      "Epoch 8/100\n",
      "5/6 [========================>.....] - ETA: 0s - loss: 0.0624 - mae: 0.2144 - mse: 0.0624"
     ]
    },
    {
     "name": "stderr",
     "output_type": "stream",
     "text": [
      "WARNING:tensorflow:Can save best model only with val_mean_squared_error available, skipping.\n"
     ]
    },
    {
     "name": "stdout",
     "output_type": "stream",
     "text": [
      "6/6 [==============================] - 0s 46ms/step - loss: 0.0632 - mae: 0.2161 - mse: 0.0632 - val_loss: 0.0904 - val_mae: 0.2352 - val_mse: 0.0904\n",
      "Epoch 9/100\n",
      "5/6 [========================>.....] - ETA: 0s - loss: 0.0601 - mae: 0.2028 - mse: 0.0601"
     ]
    },
    {
     "name": "stderr",
     "output_type": "stream",
     "text": [
      "WARNING:tensorflow:Can save best model only with val_mean_squared_error available, skipping.\n"
     ]
    },
    {
     "name": "stdout",
     "output_type": "stream",
     "text": [
      "6/6 [==============================] - 0s 44ms/step - loss: 0.0615 - mae: 0.2053 - mse: 0.0615 - val_loss: 0.0771 - val_mae: 0.2366 - val_mse: 0.0771\n",
      "Epoch 10/100\n",
      "5/6 [========================>.....] - ETA: 0s - loss: 0.0614 - mae: 0.2142 - mse: 0.0614"
     ]
    },
    {
     "name": "stderr",
     "output_type": "stream",
     "text": [
      "WARNING:tensorflow:Can save best model only with val_mean_squared_error available, skipping.\n"
     ]
    },
    {
     "name": "stdout",
     "output_type": "stream",
     "text": [
      "6/6 [==============================] - 0s 46ms/step - loss: 0.0621 - mae: 0.2145 - mse: 0.0621 - val_loss: 0.0800 - val_mae: 0.2295 - val_mse: 0.0800\n",
      "Epoch 11/100\n",
      "5/6 [========================>.....] - ETA: 0s - loss: 0.0643 - mae: 0.2109 - mse: 0.0643"
     ]
    },
    {
     "name": "stderr",
     "output_type": "stream",
     "text": [
      "WARNING:tensorflow:Can save best model only with val_mean_squared_error available, skipping.\n"
     ]
    },
    {
     "name": "stdout",
     "output_type": "stream",
     "text": [
      "6/6 [==============================] - 0s 45ms/step - loss: 0.0643 - mae: 0.2114 - mse: 0.0643 - val_loss: 0.0914 - val_mae: 0.2344 - val_mse: 0.0914\n",
      "Epoch 12/100\n",
      "5/6 [========================>.....] - ETA: 0s - loss: 0.0659 - mae: 0.2142 - mse: 0.0659"
     ]
    },
    {
     "name": "stderr",
     "output_type": "stream",
     "text": [
      "WARNING:tensorflow:Can save best model only with val_mean_squared_error available, skipping.\n"
     ]
    },
    {
     "name": "stdout",
     "output_type": "stream",
     "text": [
      "6/6 [==============================] - 0s 48ms/step - loss: 0.0651 - mae: 0.2128 - mse: 0.0651 - val_loss: 0.0841 - val_mae: 0.2599 - val_mse: 0.0841\n",
      "Epoch 13/100\n",
      "5/6 [========================>.....] - ETA: 0s - loss: 0.0639 - mae: 0.2192 - mse: 0.0639"
     ]
    },
    {
     "name": "stderr",
     "output_type": "stream",
     "text": [
      "WARNING:tensorflow:Can save best model only with val_mean_squared_error available, skipping.\n"
     ]
    },
    {
     "name": "stdout",
     "output_type": "stream",
     "text": [
      "6/6 [==============================] - 0s 48ms/step - loss: 0.0627 - mae: 0.2164 - mse: 0.0627 - val_loss: 0.0957 - val_mae: 0.2375 - val_mse: 0.0957\n",
      "Epoch 14/100\n",
      "5/6 [========================>.....] - ETA: 0s - loss: 0.0614 - mae: 0.2067 - mse: 0.0614"
     ]
    },
    {
     "name": "stderr",
     "output_type": "stream",
     "text": [
      "WARNING:tensorflow:Can save best model only with val_mean_squared_error available, skipping.\n"
     ]
    },
    {
     "name": "stdout",
     "output_type": "stream",
     "text": [
      "6/6 [==============================] - 0s 47ms/step - loss: 0.0609 - mae: 0.2076 - mse: 0.0609 - val_loss: 0.0781 - val_mae: 0.2481 - val_mse: 0.0781\n",
      "Epoch 15/100\n",
      "5/6 [========================>.....] - ETA: 0s - loss: 0.0656 - mae: 0.2191 - mse: 0.0656"
     ]
    },
    {
     "name": "stderr",
     "output_type": "stream",
     "text": [
      "WARNING:tensorflow:Can save best model only with val_mean_squared_error available, skipping.\n"
     ]
    },
    {
     "name": "stdout",
     "output_type": "stream",
     "text": [
      "6/6 [==============================] - 0s 48ms/step - loss: 0.0657 - mae: 0.2197 - mse: 0.0657 - val_loss: 0.0820 - val_mae: 0.2358 - val_mse: 0.0820\n",
      "Epoch 16/100\n",
      "5/6 [========================>.....] - ETA: 0s - loss: 0.0609 - mae: 0.2102 - mse: 0.0609"
     ]
    },
    {
     "name": "stderr",
     "output_type": "stream",
     "text": [
      "WARNING:tensorflow:Can save best model only with val_mean_squared_error available, skipping.\n"
     ]
    },
    {
     "name": "stdout",
     "output_type": "stream",
     "text": [
      "6/6 [==============================] - 0s 50ms/step - loss: 0.0612 - mae: 0.2108 - mse: 0.0612 - val_loss: 0.0770 - val_mae: 0.2406 - val_mse: 0.0770\n",
      "Epoch 17/100\n",
      "5/6 [========================>.....] - ETA: 0s - loss: 0.0621 - mae: 0.2163 - mse: 0.0621"
     ]
    },
    {
     "name": "stderr",
     "output_type": "stream",
     "text": [
      "WARNING:tensorflow:Can save best model only with val_mean_squared_error available, skipping.\n"
     ]
    },
    {
     "name": "stdout",
     "output_type": "stream",
     "text": [
      "6/6 [==============================] - 0s 47ms/step - loss: 0.0614 - mae: 0.2146 - mse: 0.0614 - val_loss: 0.0789 - val_mae: 0.2379 - val_mse: 0.0789\n",
      "Epoch 18/100\n",
      "5/6 [========================>.....] - ETA: 0s - loss: 0.0600 - mae: 0.2084 - mse: 0.0600"
     ]
    },
    {
     "name": "stderr",
     "output_type": "stream",
     "text": [
      "WARNING:tensorflow:Can save best model only with val_mean_squared_error available, skipping.\n"
     ]
    },
    {
     "name": "stdout",
     "output_type": "stream",
     "text": [
      "6/6 [==============================] - 0s 46ms/step - loss: 0.0587 - mae: 0.2052 - mse: 0.0587 - val_loss: 0.0779 - val_mae: 0.2386 - val_mse: 0.0779\n",
      "Epoch 19/100\n",
      "5/6 [========================>.....] - ETA: 0s - loss: 0.0582 - mae: 0.2085 - mse: 0.0582"
     ]
    },
    {
     "name": "stderr",
     "output_type": "stream",
     "text": [
      "WARNING:tensorflow:Can save best model only with val_mean_squared_error available, skipping.\n"
     ]
    },
    {
     "name": "stdout",
     "output_type": "stream",
     "text": [
      "6/6 [==============================] - 0s 45ms/step - loss: 0.0584 - mae: 0.2094 - mse: 0.0584 - val_loss: 0.0784 - val_mae: 0.2380 - val_mse: 0.0784\n",
      "Epoch 20/100\n",
      "5/6 [========================>.....] - ETA: 0s - loss: 0.0593 - mae: 0.2052 - mse: 0.0593"
     ]
    },
    {
     "name": "stderr",
     "output_type": "stream",
     "text": [
      "WARNING:tensorflow:Can save best model only with val_mean_squared_error available, skipping.\n"
     ]
    },
    {
     "name": "stdout",
     "output_type": "stream",
     "text": [
      "6/6 [==============================] - 0s 46ms/step - loss: 0.0598 - mae: 0.2083 - mse: 0.0598 - val_loss: 0.0787 - val_mae: 0.2376 - val_mse: 0.0787\n",
      "Epoch 21/100\n",
      "5/6 [========================>.....] - ETA: 0s - loss: 0.0621 - mae: 0.2152 - mse: 0.0621"
     ]
    },
    {
     "name": "stderr",
     "output_type": "stream",
     "text": [
      "WARNING:tensorflow:Can save best model only with val_mean_squared_error available, skipping.\n"
     ]
    },
    {
     "name": "stdout",
     "output_type": "stream",
     "text": [
      "6/6 [==============================] - 0s 45ms/step - loss: 0.0610 - mae: 0.2130 - mse: 0.0610 - val_loss: 0.0812 - val_mae: 0.2357 - val_mse: 0.0812\n",
      "Epoch 22/100\n",
      "5/6 [========================>.....] - ETA: 0s - loss: 0.0593 - mae: 0.2087 - mse: 0.0593"
     ]
    },
    {
     "name": "stderr",
     "output_type": "stream",
     "text": [
      "WARNING:tensorflow:Can save best model only with val_mean_squared_error available, skipping.\n"
     ]
    },
    {
     "name": "stdout",
     "output_type": "stream",
     "text": [
      "6/6 [==============================] - 0s 48ms/step - loss: 0.0601 - mae: 0.2098 - mse: 0.0601 - val_loss: 0.0778 - val_mae: 0.2380 - val_mse: 0.0778\n",
      "Epoch 23/100\n",
      "5/6 [========================>.....] - ETA: 0s - loss: 0.0568 - mae: 0.2077 - mse: 0.0568"
     ]
    },
    {
     "name": "stderr",
     "output_type": "stream",
     "text": [
      "WARNING:tensorflow:Can save best model only with val_mean_squared_error available, skipping.\n"
     ]
    },
    {
     "name": "stdout",
     "output_type": "stream",
     "text": [
      "6/6 [==============================] - 0s 47ms/step - loss: 0.0568 - mae: 0.2070 - mse: 0.0568 - val_loss: 0.0802 - val_mae: 0.2358 - val_mse: 0.0802\n",
      "Epoch 24/100\n",
      "5/6 [========================>.....] - ETA: 0s - loss: 0.0591 - mae: 0.2081 - mse: 0.0591"
     ]
    },
    {
     "name": "stderr",
     "output_type": "stream",
     "text": [
      "WARNING:tensorflow:Can save best model only with val_mean_squared_error available, skipping.\n"
     ]
    },
    {
     "name": "stdout",
     "output_type": "stream",
     "text": [
      "6/6 [==============================] - 0s 47ms/step - loss: 0.0605 - mae: 0.2101 - mse: 0.0605 - val_loss: 0.0771 - val_mae: 0.2378 - val_mse: 0.0771\n",
      "Epoch 25/100\n",
      "5/6 [========================>.....] - ETA: 0s - loss: 0.0654 - mae: 0.2246 - mse: 0.0654"
     ]
    },
    {
     "name": "stderr",
     "output_type": "stream",
     "text": [
      "WARNING:tensorflow:Can save best model only with val_mean_squared_error available, skipping.\n"
     ]
    },
    {
     "name": "stdout",
     "output_type": "stream",
     "text": [
      "6/6 [==============================] - 0s 47ms/step - loss: 0.0632 - mae: 0.2195 - mse: 0.0632 - val_loss: 0.0805 - val_mae: 0.2343 - val_mse: 0.0805\n",
      "Epoch 26/100\n",
      "5/6 [========================>.....] - ETA: 0s - loss: 0.0610 - mae: 0.2040 - mse: 0.0610"
     ]
    },
    {
     "name": "stderr",
     "output_type": "stream",
     "text": [
      "WARNING:tensorflow:Can save best model only with val_mean_squared_error available, skipping.\n"
     ]
    },
    {
     "name": "stdout",
     "output_type": "stream",
     "text": [
      "6/6 [==============================] - 0s 45ms/step - loss: 0.0602 - mae: 0.2038 - mse: 0.0602 - val_loss: 0.0787 - val_mae: 0.2343 - val_mse: 0.0787\n",
      "Epoch 27/100\n",
      "5/6 [========================>.....] - ETA: 0s - loss: 0.0576 - mae: 0.2069 - mse: 0.0576"
     ]
    },
    {
     "name": "stderr",
     "output_type": "stream",
     "text": [
      "WARNING:tensorflow:Can save best model only with val_mean_squared_error available, skipping.\n"
     ]
    },
    {
     "name": "stdout",
     "output_type": "stream",
     "text": [
      "6/6 [==============================] - 0s 47ms/step - loss: 0.0572 - mae: 0.2053 - mse: 0.0572 - val_loss: 0.0724 - val_mae: 0.2349 - val_mse: 0.0724\n",
      "Epoch 28/100\n",
      "5/6 [========================>.....] - ETA: 0s - loss: 0.0546 - mae: 0.1997 - mse: 0.0546"
     ]
    },
    {
     "name": "stderr",
     "output_type": "stream",
     "text": [
      "WARNING:tensorflow:Can save best model only with val_mean_squared_error available, skipping.\n"
     ]
    },
    {
     "name": "stdout",
     "output_type": "stream",
     "text": [
      "6/6 [==============================] - 0s 47ms/step - loss: 0.0543 - mae: 0.1987 - mse: 0.0543 - val_loss: 0.0862 - val_mae: 0.2295 - val_mse: 0.0862\n",
      "Epoch 29/100\n",
      "5/6 [========================>.....] - ETA: 0s - loss: 0.0634 - mae: 0.2109 - mse: 0.0634"
     ]
    },
    {
     "name": "stderr",
     "output_type": "stream",
     "text": [
      "WARNING:tensorflow:Can save best model only with val_mean_squared_error available, skipping.\n"
     ]
    },
    {
     "name": "stdout",
     "output_type": "stream",
     "text": [
      "6/6 [==============================] - 0s 45ms/step - loss: 0.0627 - mae: 0.2099 - mse: 0.0627 - val_loss: 0.0769 - val_mae: 0.2465 - val_mse: 0.0769\n",
      "Epoch 30/100\n",
      "5/6 [========================>.....] - ETA: 0s - loss: 0.0616 - mae: 0.2150 - mse: 0.0616"
     ]
    },
    {
     "name": "stderr",
     "output_type": "stream",
     "text": [
      "WARNING:tensorflow:Can save best model only with val_mean_squared_error available, skipping.\n"
     ]
    },
    {
     "name": "stdout",
     "output_type": "stream",
     "text": [
      "6/6 [==============================] - 0s 48ms/step - loss: 0.0609 - mae: 0.2135 - mse: 0.0609 - val_loss: 0.0825 - val_mae: 0.2340 - val_mse: 0.0825\n",
      "Epoch 31/100\n",
      "5/6 [========================>.....] - ETA: 0s - loss: 0.0605 - mae: 0.2060 - mse: 0.0605"
     ]
    },
    {
     "name": "stderr",
     "output_type": "stream",
     "text": [
      "WARNING:tensorflow:Can save best model only with val_mean_squared_error available, skipping.\n"
     ]
    },
    {
     "name": "stdout",
     "output_type": "stream",
     "text": [
      "6/6 [==============================] - 0s 48ms/step - loss: 0.0596 - mae: 0.2052 - mse: 0.0596 - val_loss: 0.0756 - val_mae: 0.2377 - val_mse: 0.0756\n",
      "Epoch 32/100\n",
      "5/6 [========================>.....] - ETA: 0s - loss: 0.0582 - mae: 0.2102 - mse: 0.0582"
     ]
    },
    {
     "name": "stderr",
     "output_type": "stream",
     "text": [
      "WARNING:tensorflow:Can save best model only with val_mean_squared_error available, skipping.\n"
     ]
    },
    {
     "name": "stdout",
     "output_type": "stream",
     "text": [
      "6/6 [==============================] - 0s 46ms/step - loss: 0.0586 - mae: 0.2106 - mse: 0.0586 - val_loss: 0.0809 - val_mae: 0.2319 - val_mse: 0.0809\n",
      "Epoch 33/100\n",
      "5/6 [========================>.....] - ETA: 0s - loss: 0.0577 - mae: 0.2070 - mse: 0.0577"
     ]
    },
    {
     "name": "stderr",
     "output_type": "stream",
     "text": [
      "WARNING:tensorflow:Can save best model only with val_mean_squared_error available, skipping.\n"
     ]
    },
    {
     "name": "stdout",
     "output_type": "stream",
     "text": [
      "6/6 [==============================] - 0s 48ms/step - loss: 0.0571 - mae: 0.2065 - mse: 0.0571 - val_loss: 0.0755 - val_mae: 0.2259 - val_mse: 0.0755\n",
      "Epoch 34/100\n",
      "6/6 [==============================] - ETA: 0s - loss: 0.0631 - mae: 0.2104 - mse: 0.0631"
     ]
    },
    {
     "name": "stderr",
     "output_type": "stream",
     "text": [
      "WARNING:tensorflow:Can save best model only with val_mean_squared_error available, skipping.\n"
     ]
    },
    {
     "name": "stdout",
     "output_type": "stream",
     "text": [
      "6/6 [==============================] - 0s 52ms/step - loss: 0.0631 - mae: 0.2104 - mse: 0.0631 - val_loss: 0.0948 - val_mae: 0.2332 - val_mse: 0.0948\n",
      "Epoch 35/100\n",
      "5/6 [========================>.....] - ETA: 0s - loss: 0.0622 - mae: 0.2046 - mse: 0.0622"
     ]
    },
    {
     "name": "stderr",
     "output_type": "stream",
     "text": [
      "WARNING:tensorflow:Can save best model only with val_mean_squared_error available, skipping.\n"
     ]
    },
    {
     "name": "stdout",
     "output_type": "stream",
     "text": [
      "6/6 [==============================] - 0s 48ms/step - loss: 0.0630 - mae: 0.2076 - mse: 0.0630 - val_loss: 0.0764 - val_mae: 0.2424 - val_mse: 0.0764\n",
      "Epoch 36/100\n",
      "5/6 [========================>.....] - ETA: 0s - loss: 0.0623 - mae: 0.2148 - mse: 0.0623"
     ]
    },
    {
     "name": "stderr",
     "output_type": "stream",
     "text": [
      "WARNING:tensorflow:Can save best model only with val_mean_squared_error available, skipping.\n"
     ]
    },
    {
     "name": "stdout",
     "output_type": "stream",
     "text": [
      "6/6 [==============================] - 0s 48ms/step - loss: 0.0613 - mae: 0.2119 - mse: 0.0613 - val_loss: 0.0817 - val_mae: 0.2349 - val_mse: 0.0817\n",
      "Epoch 37/100\n",
      "5/6 [========================>.....] - ETA: 0s - loss: 0.0581 - mae: 0.2074 - mse: 0.0581"
     ]
    },
    {
     "name": "stderr",
     "output_type": "stream",
     "text": [
      "WARNING:tensorflow:Can save best model only with val_mean_squared_error available, skipping.\n"
     ]
    },
    {
     "name": "stdout",
     "output_type": "stream",
     "text": [
      "6/6 [==============================] - 0s 47ms/step - loss: 0.0585 - mae: 0.2076 - mse: 0.0585 - val_loss: 0.0757 - val_mae: 0.2382 - val_mse: 0.0757\n",
      "Epoch 38/100\n",
      "5/6 [========================>.....] - ETA: 0s - loss: 0.0592 - mae: 0.2093 - mse: 0.0592"
     ]
    },
    {
     "name": "stderr",
     "output_type": "stream",
     "text": [
      "WARNING:tensorflow:Can save best model only with val_mean_squared_error available, skipping.\n"
     ]
    },
    {
     "name": "stdout",
     "output_type": "stream",
     "text": [
      "6/6 [==============================] - 0s 47ms/step - loss: 0.0592 - mae: 0.2088 - mse: 0.0592 - val_loss: 0.0778 - val_mae: 0.2344 - val_mse: 0.0778\n",
      "Epoch 39/100\n",
      "5/6 [========================>.....] - ETA: 0s - loss: 0.0571 - mae: 0.2047 - mse: 0.0571"
     ]
    },
    {
     "name": "stderr",
     "output_type": "stream",
     "text": [
      "WARNING:tensorflow:Can save best model only with val_mean_squared_error available, skipping.\n"
     ]
    },
    {
     "name": "stdout",
     "output_type": "stream",
     "text": [
      "6/6 [==============================] - 0s 47ms/step - loss: 0.0575 - mae: 0.2060 - mse: 0.0575 - val_loss: 0.0758 - val_mae: 0.2359 - val_mse: 0.0758\n",
      "Epoch 40/100\n",
      "5/6 [========================>.....] - ETA: 0s - loss: 0.0580 - mae: 0.2048 - mse: 0.0580"
     ]
    },
    {
     "name": "stderr",
     "output_type": "stream",
     "text": [
      "WARNING:tensorflow:Can save best model only with val_mean_squared_error available, skipping.\n"
     ]
    },
    {
     "name": "stdout",
     "output_type": "stream",
     "text": [
      "6/6 [==============================] - 0s 48ms/step - loss: 0.0576 - mae: 0.2039 - mse: 0.0576 - val_loss: 0.0725 - val_mae: 0.2325 - val_mse: 0.0725\n",
      "Epoch 41/100\n",
      "5/6 [========================>.....] - ETA: 0s - loss: 0.0589 - mae: 0.2126 - mse: 0.0589"
     ]
    },
    {
     "name": "stderr",
     "output_type": "stream",
     "text": [
      "WARNING:tensorflow:Can save best model only with val_mean_squared_error available, skipping.\n"
     ]
    },
    {
     "name": "stdout",
     "output_type": "stream",
     "text": [
      "6/6 [==============================] - 0s 48ms/step - loss: 0.0579 - mae: 0.2101 - mse: 0.0579 - val_loss: 0.0759 - val_mae: 0.2213 - val_mse: 0.0759\n",
      "Epoch 42/100\n",
      "5/6 [========================>.....] - ETA: 0s - loss: 0.0544 - mae: 0.1970 - mse: 0.0544"
     ]
    },
    {
     "name": "stderr",
     "output_type": "stream",
     "text": [
      "WARNING:tensorflow:Can save best model only with val_mean_squared_error available, skipping.\n"
     ]
    },
    {
     "name": "stdout",
     "output_type": "stream",
     "text": [
      "6/6 [==============================] - 0s 47ms/step - loss: 0.0542 - mae: 0.1958 - mse: 0.0542 - val_loss: 0.0597 - val_mae: 0.2179 - val_mse: 0.0597\n",
      "Epoch 43/100\n",
      "5/6 [========================>.....] - ETA: 0s - loss: 0.0450 - mae: 0.1795 - mse: 0.0450"
     ]
    },
    {
     "name": "stderr",
     "output_type": "stream",
     "text": [
      "WARNING:tensorflow:Can save best model only with val_mean_squared_error available, skipping.\n"
     ]
    },
    {
     "name": "stdout",
     "output_type": "stream",
     "text": [
      "6/6 [==============================] - 0s 46ms/step - loss: 0.0441 - mae: 0.1778 - mse: 0.0441 - val_loss: 0.0606 - val_mae: 0.2042 - val_mse: 0.0606\n",
      "Epoch 44/100\n",
      "5/6 [========================>.....] - ETA: 0s - loss: 0.0345 - mae: 0.1511 - mse: 0.0345"
     ]
    },
    {
     "name": "stderr",
     "output_type": "stream",
     "text": [
      "WARNING:tensorflow:Can save best model only with val_mean_squared_error available, skipping.\n"
     ]
    },
    {
     "name": "stdout",
     "output_type": "stream",
     "text": [
      "6/6 [==============================] - 0s 48ms/step - loss: 0.0336 - mae: 0.1497 - mse: 0.0336 - val_loss: 0.0567 - val_mae: 0.1814 - val_mse: 0.0567\n",
      "Epoch 45/100\n",
      "5/6 [========================>.....] - ETA: 0s - loss: 0.0334 - mae: 0.1490 - mse: 0.0334"
     ]
    },
    {
     "name": "stderr",
     "output_type": "stream",
     "text": [
      "WARNING:tensorflow:Can save best model only with val_mean_squared_error available, skipping.\n"
     ]
    },
    {
     "name": "stdout",
     "output_type": "stream",
     "text": [
      "6/6 [==============================] - 0s 49ms/step - loss: 0.0322 - mae: 0.1462 - mse: 0.0322 - val_loss: 0.0218 - val_mae: 0.1214 - val_mse: 0.0218\n",
      "Epoch 46/100\n",
      "5/6 [========================>.....] - ETA: 0s - loss: 0.0184 - mae: 0.1129 - mse: 0.0184"
     ]
    },
    {
     "name": "stderr",
     "output_type": "stream",
     "text": [
      "WARNING:tensorflow:Can save best model only with val_mean_squared_error available, skipping.\n"
     ]
    },
    {
     "name": "stdout",
     "output_type": "stream",
     "text": [
      "6/6 [==============================] - 0s 45ms/step - loss: 0.0183 - mae: 0.1121 - mse: 0.0183 - val_loss: 0.0192 - val_mae: 0.1060 - val_mse: 0.0192\n",
      "Epoch 47/100\n",
      "5/6 [========================>.....] - ETA: 0s - loss: 0.0199 - mae: 0.1137 - mse: 0.0199"
     ]
    },
    {
     "name": "stderr",
     "output_type": "stream",
     "text": [
      "WARNING:tensorflow:Can save best model only with val_mean_squared_error available, skipping.\n"
     ]
    },
    {
     "name": "stdout",
     "output_type": "stream",
     "text": [
      "6/6 [==============================] - 0s 49ms/step - loss: 0.0194 - mae: 0.1129 - mse: 0.0194 - val_loss: 0.0213 - val_mae: 0.1269 - val_mse: 0.0213\n",
      "Epoch 48/100\n",
      "5/6 [========================>.....] - ETA: 0s - loss: 0.0215 - mae: 0.1239 - mse: 0.0215"
     ]
    },
    {
     "name": "stderr",
     "output_type": "stream",
     "text": [
      "WARNING:tensorflow:Can save best model only with val_mean_squared_error available, skipping.\n"
     ]
    },
    {
     "name": "stdout",
     "output_type": "stream",
     "text": [
      "6/6 [==============================] - 0s 46ms/step - loss: 0.0208 - mae: 0.1207 - mse: 0.0208 - val_loss: 0.0286 - val_mae: 0.1333 - val_mse: 0.0286\n",
      "Epoch 49/100\n",
      "5/6 [========================>.....] - ETA: 0s - loss: 0.0232 - mae: 0.1263 - mse: 0.0232"
     ]
    },
    {
     "name": "stderr",
     "output_type": "stream",
     "text": [
      "WARNING:tensorflow:Can save best model only with val_mean_squared_error available, skipping.\n"
     ]
    },
    {
     "name": "stdout",
     "output_type": "stream",
     "text": [
      "6/6 [==============================] - 0s 49ms/step - loss: 0.0234 - mae: 0.1269 - mse: 0.0234 - val_loss: 0.0186 - val_mae: 0.1163 - val_mse: 0.0186\n",
      "Epoch 50/100\n",
      "6/6 [==============================] - ETA: 0s - loss: 0.0173 - mae: 0.1081 - mse: 0.0173"
     ]
    },
    {
     "name": "stderr",
     "output_type": "stream",
     "text": [
      "WARNING:tensorflow:Can save best model only with val_mean_squared_error available, skipping.\n"
     ]
    },
    {
     "name": "stdout",
     "output_type": "stream",
     "text": [
      "6/6 [==============================] - 0s 49ms/step - loss: 0.0173 - mae: 0.1081 - mse: 0.0173 - val_loss: 0.0106 - val_mae: 0.0839 - val_mse: 0.0106\n",
      "Epoch 51/100\n",
      "5/6 [========================>.....] - ETA: 0s - loss: 0.0123 - mae: 0.0905 - mse: 0.0123"
     ]
    },
    {
     "name": "stderr",
     "output_type": "stream",
     "text": [
      "WARNING:tensorflow:Can save best model only with val_mean_squared_error available, skipping.\n"
     ]
    },
    {
     "name": "stdout",
     "output_type": "stream",
     "text": [
      "6/6 [==============================] - 0s 47ms/step - loss: 0.0120 - mae: 0.0884 - mse: 0.0120 - val_loss: 0.0167 - val_mae: 0.0950 - val_mse: 0.0167\n",
      "Epoch 52/100\n",
      "5/6 [========================>.....] - ETA: 0s - loss: 0.0123 - mae: 0.0886 - mse: 0.0123"
     ]
    },
    {
     "name": "stderr",
     "output_type": "stream",
     "text": [
      "WARNING:tensorflow:Can save best model only with val_mean_squared_error available, skipping.\n"
     ]
    },
    {
     "name": "stdout",
     "output_type": "stream",
     "text": [
      "6/6 [==============================] - 0s 46ms/step - loss: 0.0117 - mae: 0.0862 - mse: 0.0117 - val_loss: 0.0101 - val_mae: 0.0732 - val_mse: 0.0101\n",
      "Epoch 53/100\n",
      "5/6 [========================>.....] - ETA: 0s - loss: 0.0096 - mae: 0.0784 - mse: 0.0096"
     ]
    },
    {
     "name": "stderr",
     "output_type": "stream",
     "text": [
      "WARNING:tensorflow:Can save best model only with val_mean_squared_error available, skipping.\n"
     ]
    },
    {
     "name": "stdout",
     "output_type": "stream",
     "text": [
      "6/6 [==============================] - 0s 49ms/step - loss: 0.0094 - mae: 0.0773 - mse: 0.0094 - val_loss: 0.0057 - val_mae: 0.0570 - val_mse: 0.0057\n",
      "Epoch 54/100\n",
      "5/6 [========================>.....] - ETA: 0s - loss: 0.0080 - mae: 0.0703 - mse: 0.0080"
     ]
    },
    {
     "name": "stderr",
     "output_type": "stream",
     "text": [
      "WARNING:tensorflow:Can save best model only with val_mean_squared_error available, skipping.\n"
     ]
    },
    {
     "name": "stdout",
     "output_type": "stream",
     "text": [
      "6/6 [==============================] - 0s 47ms/step - loss: 0.0085 - mae: 0.0724 - mse: 0.0085 - val_loss: 0.0069 - val_mae: 0.0607 - val_mse: 0.0069\n",
      "Epoch 55/100\n",
      "5/6 [========================>.....] - ETA: 0s - loss: 0.0062 - mae: 0.0628 - mse: 0.0062"
     ]
    },
    {
     "name": "stderr",
     "output_type": "stream",
     "text": [
      "WARNING:tensorflow:Can save best model only with val_mean_squared_error available, skipping.\n"
     ]
    },
    {
     "name": "stdout",
     "output_type": "stream",
     "text": [
      "6/6 [==============================] - 0s 48ms/step - loss: 0.0069 - mae: 0.0659 - mse: 0.0069 - val_loss: 0.0056 - val_mae: 0.0606 - val_mse: 0.0056\n",
      "Epoch 56/100\n",
      "5/6 [========================>.....] - ETA: 0s - loss: 0.0081 - mae: 0.0720 - mse: 0.0081"
     ]
    },
    {
     "name": "stderr",
     "output_type": "stream",
     "text": [
      "WARNING:tensorflow:Can save best model only with val_mean_squared_error available, skipping.\n"
     ]
    },
    {
     "name": "stdout",
     "output_type": "stream",
     "text": [
      "6/6 [==============================] - 0s 47ms/step - loss: 0.0079 - mae: 0.0714 - mse: 0.0079 - val_loss: 0.0051 - val_mae: 0.0498 - val_mse: 0.0051\n",
      "Epoch 57/100\n",
      "5/6 [========================>.....] - ETA: 0s - loss: 0.0053 - mae: 0.0571 - mse: 0.0053"
     ]
    },
    {
     "name": "stderr",
     "output_type": "stream",
     "text": [
      "WARNING:tensorflow:Can save best model only with val_mean_squared_error available, skipping.\n"
     ]
    },
    {
     "name": "stdout",
     "output_type": "stream",
     "text": [
      "6/6 [==============================] - 0s 47ms/step - loss: 0.0052 - mae: 0.0567 - mse: 0.0052 - val_loss: 0.0033 - val_mae: 0.0437 - val_mse: 0.0033\n",
      "Epoch 58/100\n",
      "5/6 [========================>.....] - ETA: 0s - loss: 0.0065 - mae: 0.0646 - mse: 0.0065"
     ]
    },
    {
     "name": "stderr",
     "output_type": "stream",
     "text": [
      "WARNING:tensorflow:Can save best model only with val_mean_squared_error available, skipping.\n"
     ]
    },
    {
     "name": "stdout",
     "output_type": "stream",
     "text": [
      "6/6 [==============================] - 0s 46ms/step - loss: 0.0065 - mae: 0.0643 - mse: 0.0065 - val_loss: 0.0036 - val_mae: 0.0450 - val_mse: 0.0036\n",
      "Epoch 59/100\n",
      "5/6 [========================>.....] - ETA: 0s - loss: 0.0055 - mae: 0.0589 - mse: 0.0055"
     ]
    },
    {
     "name": "stderr",
     "output_type": "stream",
     "text": [
      "WARNING:tensorflow:Can save best model only with val_mean_squared_error available, skipping.\n"
     ]
    },
    {
     "name": "stdout",
     "output_type": "stream",
     "text": [
      "6/6 [==============================] - 0s 47ms/step - loss: 0.0056 - mae: 0.0600 - mse: 0.0056 - val_loss: 0.0038 - val_mae: 0.0452 - val_mse: 0.0038\n",
      "Epoch 60/100\n",
      "5/6 [========================>.....] - ETA: 0s - loss: 0.0062 - mae: 0.0635 - mse: 0.0062"
     ]
    },
    {
     "name": "stderr",
     "output_type": "stream",
     "text": [
      "WARNING:tensorflow:Can save best model only with val_mean_squared_error available, skipping.\n"
     ]
    },
    {
     "name": "stdout",
     "output_type": "stream",
     "text": [
      "6/6 [==============================] - 0s 46ms/step - loss: 0.0061 - mae: 0.0630 - mse: 0.0061 - val_loss: 0.0146 - val_mae: 0.1079 - val_mse: 0.0146\n",
      "Epoch 61/100\n",
      "5/6 [========================>.....] - ETA: 0s - loss: 0.0110 - mae: 0.0861 - mse: 0.0110"
     ]
    },
    {
     "name": "stderr",
     "output_type": "stream",
     "text": [
      "WARNING:tensorflow:Can save best model only with val_mean_squared_error available, skipping.\n"
     ]
    },
    {
     "name": "stdout",
     "output_type": "stream",
     "text": [
      "6/6 [==============================] - 0s 48ms/step - loss: 0.0109 - mae: 0.0853 - mse: 0.0109 - val_loss: 0.0047 - val_mae: 0.0521 - val_mse: 0.0047\n",
      "Epoch 62/100\n",
      "5/6 [========================>.....] - ETA: 0s - loss: 0.0065 - mae: 0.0649 - mse: 0.0065"
     ]
    },
    {
     "name": "stderr",
     "output_type": "stream",
     "text": [
      "WARNING:tensorflow:Can save best model only with val_mean_squared_error available, skipping.\n"
     ]
    },
    {
     "name": "stdout",
     "output_type": "stream",
     "text": [
      "6/6 [==============================] - 0s 48ms/step - loss: 0.0066 - mae: 0.0651 - mse: 0.0066 - val_loss: 0.0049 - val_mae: 0.0534 - val_mse: 0.0049\n",
      "Epoch 63/100\n",
      "5/6 [========================>.....] - ETA: 0s - loss: 0.0064 - mae: 0.0635 - mse: 0.0064"
     ]
    },
    {
     "name": "stderr",
     "output_type": "stream",
     "text": [
      "WARNING:tensorflow:Can save best model only with val_mean_squared_error available, skipping.\n"
     ]
    },
    {
     "name": "stdout",
     "output_type": "stream",
     "text": [
      "6/6 [==============================] - 0s 47ms/step - loss: 0.0065 - mae: 0.0635 - mse: 0.0065 - val_loss: 0.0036 - val_mae: 0.0457 - val_mse: 0.0036\n",
      "Epoch 64/100\n",
      "5/6 [========================>.....] - ETA: 0s - loss: 0.0046 - mae: 0.0536 - mse: 0.0046"
     ]
    },
    {
     "name": "stderr",
     "output_type": "stream",
     "text": [
      "WARNING:tensorflow:Can save best model only with val_mean_squared_error available, skipping.\n"
     ]
    },
    {
     "name": "stdout",
     "output_type": "stream",
     "text": [
      "6/6 [==============================] - 0s 48ms/step - loss: 0.0049 - mae: 0.0550 - mse: 0.0049 - val_loss: 0.0028 - val_mae: 0.0383 - val_mse: 0.0028\n",
      "Epoch 65/100\n",
      "5/6 [========================>.....] - ETA: 0s - loss: 0.0062 - mae: 0.0625 - mse: 0.0062"
     ]
    },
    {
     "name": "stderr",
     "output_type": "stream",
     "text": [
      "WARNING:tensorflow:Can save best model only with val_mean_squared_error available, skipping.\n"
     ]
    },
    {
     "name": "stdout",
     "output_type": "stream",
     "text": [
      "6/6 [==============================] - 0s 47ms/step - loss: 0.0060 - mae: 0.0620 - mse: 0.0060 - val_loss: 0.0064 - val_mae: 0.0527 - val_mse: 0.0064\n",
      "Epoch 66/100\n",
      "5/6 [========================>.....] - ETA: 0s - loss: 0.0060 - mae: 0.0618 - mse: 0.0060"
     ]
    },
    {
     "name": "stderr",
     "output_type": "stream",
     "text": [
      "WARNING:tensorflow:Can save best model only with val_mean_squared_error available, skipping.\n"
     ]
    },
    {
     "name": "stdout",
     "output_type": "stream",
     "text": [
      "6/6 [==============================] - 0s 47ms/step - loss: 0.0060 - mae: 0.0619 - mse: 0.0060 - val_loss: 0.0027 - val_mae: 0.0401 - val_mse: 0.0027\n",
      "Epoch 67/100\n",
      "5/6 [========================>.....] - ETA: 0s - loss: 0.0062 - mae: 0.0648 - mse: 0.0062"
     ]
    },
    {
     "name": "stderr",
     "output_type": "stream",
     "text": [
      "WARNING:tensorflow:Can save best model only with val_mean_squared_error available, skipping.\n"
     ]
    },
    {
     "name": "stdout",
     "output_type": "stream",
     "text": [
      "6/6 [==============================] - 0s 47ms/step - loss: 0.0065 - mae: 0.0661 - mse: 0.0065 - val_loss: 0.0088 - val_mae: 0.0805 - val_mse: 0.0088\n",
      "Epoch 68/100\n",
      "5/6 [========================>.....] - ETA: 0s - loss: 0.0065 - mae: 0.0637 - mse: 0.0065"
     ]
    },
    {
     "name": "stderr",
     "output_type": "stream",
     "text": [
      "WARNING:tensorflow:Can save best model only with val_mean_squared_error available, skipping.\n"
     ]
    },
    {
     "name": "stdout",
     "output_type": "stream",
     "text": [
      "6/6 [==============================] - 0s 48ms/step - loss: 0.0066 - mae: 0.0646 - mse: 0.0066 - val_loss: 0.0036 - val_mae: 0.0482 - val_mse: 0.0036\n",
      "Epoch 69/100\n",
      "5/6 [========================>.....] - ETA: 0s - loss: 0.0057 - mae: 0.0618 - mse: 0.0057"
     ]
    },
    {
     "name": "stderr",
     "output_type": "stream",
     "text": [
      "WARNING:tensorflow:Can save best model only with val_mean_squared_error available, skipping.\n"
     ]
    },
    {
     "name": "stdout",
     "output_type": "stream",
     "text": [
      "6/6 [==============================] - 0s 49ms/step - loss: 0.0057 - mae: 0.0619 - mse: 0.0057 - val_loss: 0.0042 - val_mae: 0.0546 - val_mse: 0.0042\n",
      "Epoch 70/100\n",
      "5/6 [========================>.....] - ETA: 0s - loss: 0.0043 - mae: 0.0529 - mse: 0.0043"
     ]
    },
    {
     "name": "stderr",
     "output_type": "stream",
     "text": [
      "WARNING:tensorflow:Can save best model only with val_mean_squared_error available, skipping.\n"
     ]
    },
    {
     "name": "stdout",
     "output_type": "stream",
     "text": [
      "6/6 [==============================] - 0s 47ms/step - loss: 0.0043 - mae: 0.0526 - mse: 0.0043 - val_loss: 0.0021 - val_mae: 0.0371 - val_mse: 0.0021\n",
      "Epoch 71/100\n",
      "5/6 [========================>.....] - ETA: 0s - loss: 0.0047 - mae: 0.0547 - mse: 0.0047"
     ]
    },
    {
     "name": "stderr",
     "output_type": "stream",
     "text": [
      "WARNING:tensorflow:Can save best model only with val_mean_squared_error available, skipping.\n"
     ]
    },
    {
     "name": "stdout",
     "output_type": "stream",
     "text": [
      "6/6 [==============================] - 0s 45ms/step - loss: 0.0046 - mae: 0.0539 - mse: 0.0046 - val_loss: 0.0021 - val_mae: 0.0355 - val_mse: 0.0021\n",
      "Epoch 72/100\n",
      "5/6 [========================>.....] - ETA: 0s - loss: 0.0046 - mae: 0.0542 - mse: 0.0046"
     ]
    },
    {
     "name": "stderr",
     "output_type": "stream",
     "text": [
      "WARNING:tensorflow:Can save best model only with val_mean_squared_error available, skipping.\n"
     ]
    },
    {
     "name": "stdout",
     "output_type": "stream",
     "text": [
      "6/6 [==============================] - 0s 46ms/step - loss: 0.0045 - mae: 0.0536 - mse: 0.0045 - val_loss: 0.0026 - val_mae: 0.0382 - val_mse: 0.0026\n",
      "Epoch 73/100\n",
      "5/6 [========================>.....] - ETA: 0s - loss: 0.0048 - mae: 0.0528 - mse: 0.0048"
     ]
    },
    {
     "name": "stderr",
     "output_type": "stream",
     "text": [
      "WARNING:tensorflow:Can save best model only with val_mean_squared_error available, skipping.\n"
     ]
    },
    {
     "name": "stdout",
     "output_type": "stream",
     "text": [
      "6/6 [==============================] - 0s 48ms/step - loss: 0.0047 - mae: 0.0531 - mse: 0.0047 - val_loss: 0.0020 - val_mae: 0.0338 - val_mse: 0.0020\n",
      "Epoch 74/100\n",
      "5/6 [========================>.....] - ETA: 0s - loss: 0.0046 - mae: 0.0526 - mse: 0.0046"
     ]
    },
    {
     "name": "stderr",
     "output_type": "stream",
     "text": [
      "WARNING:tensorflow:Can save best model only with val_mean_squared_error available, skipping.\n"
     ]
    },
    {
     "name": "stdout",
     "output_type": "stream",
     "text": [
      "6/6 [==============================] - 0s 48ms/step - loss: 0.0045 - mae: 0.0523 - mse: 0.0045 - val_loss: 0.0029 - val_mae: 0.0428 - val_mse: 0.0029\n",
      "Epoch 75/100\n",
      "5/6 [========================>.....] - ETA: 0s - loss: 0.0038 - mae: 0.0496 - mse: 0.0038"
     ]
    },
    {
     "name": "stderr",
     "output_type": "stream",
     "text": [
      "WARNING:tensorflow:Can save best model only with val_mean_squared_error available, skipping.\n"
     ]
    },
    {
     "name": "stdout",
     "output_type": "stream",
     "text": [
      "6/6 [==============================] - 0s 49ms/step - loss: 0.0037 - mae: 0.0492 - mse: 0.0037 - val_loss: 0.0032 - val_mae: 0.0467 - val_mse: 0.0032\n",
      "Epoch 76/100\n",
      "5/6 [========================>.....] - ETA: 0s - loss: 0.0038 - mae: 0.0483 - mse: 0.0038"
     ]
    },
    {
     "name": "stderr",
     "output_type": "stream",
     "text": [
      "WARNING:tensorflow:Can save best model only with val_mean_squared_error available, skipping.\n"
     ]
    },
    {
     "name": "stdout",
     "output_type": "stream",
     "text": [
      "6/6 [==============================] - 0s 48ms/step - loss: 0.0037 - mae: 0.0476 - mse: 0.0037 - val_loss: 0.0026 - val_mae: 0.0423 - val_mse: 0.0026\n",
      "Epoch 77/100\n",
      "5/6 [========================>.....] - ETA: 0s - loss: 0.0045 - mae: 0.0519 - mse: 0.0045"
     ]
    },
    {
     "name": "stderr",
     "output_type": "stream",
     "text": [
      "WARNING:tensorflow:Can save best model only with val_mean_squared_error available, skipping.\n"
     ]
    },
    {
     "name": "stdout",
     "output_type": "stream",
     "text": [
      "6/6 [==============================] - 0s 46ms/step - loss: 0.0044 - mae: 0.0515 - mse: 0.0044 - val_loss: 0.0046 - val_mae: 0.0602 - val_mse: 0.0046\n",
      "Epoch 78/100\n",
      "5/6 [========================>.....] - ETA: 0s - loss: 0.0043 - mae: 0.0516 - mse: 0.0043"
     ]
    },
    {
     "name": "stderr",
     "output_type": "stream",
     "text": [
      "WARNING:tensorflow:Can save best model only with val_mean_squared_error available, skipping.\n"
     ]
    },
    {
     "name": "stdout",
     "output_type": "stream",
     "text": [
      "6/6 [==============================] - 0s 47ms/step - loss: 0.0043 - mae: 0.0518 - mse: 0.0043 - val_loss: 0.0060 - val_mae: 0.0688 - val_mse: 0.0060\n",
      "Epoch 79/100\n",
      "5/6 [========================>.....] - ETA: 0s - loss: 0.0054 - mae: 0.0556 - mse: 0.0054"
     ]
    },
    {
     "name": "stderr",
     "output_type": "stream",
     "text": [
      "WARNING:tensorflow:Can save best model only with val_mean_squared_error available, skipping.\n"
     ]
    },
    {
     "name": "stdout",
     "output_type": "stream",
     "text": [
      "6/6 [==============================] - 0s 48ms/step - loss: 0.0052 - mae: 0.0549 - mse: 0.0052 - val_loss: 0.0024 - val_mae: 0.0396 - val_mse: 0.0024\n",
      "Epoch 80/100\n",
      "5/6 [========================>.....] - ETA: 0s - loss: 0.0036 - mae: 0.0481 - mse: 0.0036"
     ]
    },
    {
     "name": "stderr",
     "output_type": "stream",
     "text": [
      "WARNING:tensorflow:Can save best model only with val_mean_squared_error available, skipping.\n"
     ]
    },
    {
     "name": "stdout",
     "output_type": "stream",
     "text": [
      "6/6 [==============================] - 0s 47ms/step - loss: 0.0036 - mae: 0.0482 - mse: 0.0036 - val_loss: 0.0024 - val_mae: 0.0384 - val_mse: 0.0024\n",
      "Epoch 81/100\n",
      "5/6 [========================>.....] - ETA: 0s - loss: 0.0039 - mae: 0.0485 - mse: 0.0039"
     ]
    },
    {
     "name": "stderr",
     "output_type": "stream",
     "text": [
      "WARNING:tensorflow:Can save best model only with val_mean_squared_error available, skipping.\n"
     ]
    },
    {
     "name": "stdout",
     "output_type": "stream",
     "text": [
      "6/6 [==============================] - 0s 47ms/step - loss: 0.0039 - mae: 0.0491 - mse: 0.0039 - val_loss: 0.0031 - val_mae: 0.0407 - val_mse: 0.0031\n",
      "Epoch 82/100\n",
      "5/6 [========================>.....] - ETA: 0s - loss: 0.0038 - mae: 0.0496 - mse: 0.0038"
     ]
    },
    {
     "name": "stderr",
     "output_type": "stream",
     "text": [
      "WARNING:tensorflow:Can save best model only with val_mean_squared_error available, skipping.\n"
     ]
    },
    {
     "name": "stdout",
     "output_type": "stream",
     "text": [
      "6/6 [==============================] - 0s 48ms/step - loss: 0.0038 - mae: 0.0493 - mse: 0.0038 - val_loss: 0.0023 - val_mae: 0.0381 - val_mse: 0.0023\n",
      "Epoch 83/100\n",
      "5/6 [========================>.....] - ETA: 0s - loss: 0.0039 - mae: 0.0502 - mse: 0.0039"
     ]
    },
    {
     "name": "stderr",
     "output_type": "stream",
     "text": [
      "WARNING:tensorflow:Can save best model only with val_mean_squared_error available, skipping.\n"
     ]
    },
    {
     "name": "stdout",
     "output_type": "stream",
     "text": [
      "6/6 [==============================] - 0s 48ms/step - loss: 0.0040 - mae: 0.0511 - mse: 0.0040 - val_loss: 0.0015 - val_mae: 0.0305 - val_mse: 0.0015\n",
      "Epoch 84/100\n",
      "5/6 [========================>.....] - ETA: 0s - loss: 0.0036 - mae: 0.0478 - mse: 0.0036"
     ]
    },
    {
     "name": "stderr",
     "output_type": "stream",
     "text": [
      "WARNING:tensorflow:Can save best model only with val_mean_squared_error available, skipping.\n"
     ]
    },
    {
     "name": "stdout",
     "output_type": "stream",
     "text": [
      "6/6 [==============================] - 0s 47ms/step - loss: 0.0037 - mae: 0.0490 - mse: 0.0037 - val_loss: 0.0018 - val_mae: 0.0339 - val_mse: 0.0018\n",
      "Epoch 85/100\n",
      "5/6 [========================>.....] - ETA: 0s - loss: 0.0049 - mae: 0.0578 - mse: 0.0049"
     ]
    },
    {
     "name": "stderr",
     "output_type": "stream",
     "text": [
      "WARNING:tensorflow:Can save best model only with val_mean_squared_error available, skipping.\n"
     ]
    },
    {
     "name": "stdout",
     "output_type": "stream",
     "text": [
      "6/6 [==============================] - 0s 48ms/step - loss: 0.0048 - mae: 0.0572 - mse: 0.0048 - val_loss: 0.0015 - val_mae: 0.0303 - val_mse: 0.0015\n",
      "Epoch 86/100\n",
      "5/6 [========================>.....] - ETA: 0s - loss: 0.0043 - mae: 0.0510 - mse: 0.0043"
     ]
    },
    {
     "name": "stderr",
     "output_type": "stream",
     "text": [
      "WARNING:tensorflow:Can save best model only with val_mean_squared_error available, skipping.\n"
     ]
    },
    {
     "name": "stdout",
     "output_type": "stream",
     "text": [
      "6/6 [==============================] - 0s 46ms/step - loss: 0.0043 - mae: 0.0516 - mse: 0.0043 - val_loss: 0.0043 - val_mae: 0.0543 - val_mse: 0.0043\n",
      "Epoch 87/100\n",
      "5/6 [========================>.....] - ETA: 0s - loss: 0.0048 - mae: 0.0555 - mse: 0.0048"
     ]
    },
    {
     "name": "stderr",
     "output_type": "stream",
     "text": [
      "WARNING:tensorflow:Can save best model only with val_mean_squared_error available, skipping.\n"
     ]
    },
    {
     "name": "stdout",
     "output_type": "stream",
     "text": [
      "6/6 [==============================] - 0s 49ms/step - loss: 0.0047 - mae: 0.0545 - mse: 0.0047 - val_loss: 0.0050 - val_mae: 0.0614 - val_mse: 0.0050\n",
      "Epoch 88/100\n",
      "5/6 [========================>.....] - ETA: 0s - loss: 0.0052 - mae: 0.0572 - mse: 0.0052"
     ]
    },
    {
     "name": "stderr",
     "output_type": "stream",
     "text": [
      "WARNING:tensorflow:Can save best model only with val_mean_squared_error available, skipping.\n"
     ]
    },
    {
     "name": "stdout",
     "output_type": "stream",
     "text": [
      "6/6 [==============================] - 0s 46ms/step - loss: 0.0050 - mae: 0.0561 - mse: 0.0050 - val_loss: 0.0027 - val_mae: 0.0433 - val_mse: 0.0027\n",
      "Epoch 89/100\n",
      "5/6 [========================>.....] - ETA: 0s - loss: 0.0040 - mae: 0.0492 - mse: 0.0040"
     ]
    },
    {
     "name": "stderr",
     "output_type": "stream",
     "text": [
      "WARNING:tensorflow:Can save best model only with val_mean_squared_error available, skipping.\n"
     ]
    },
    {
     "name": "stdout",
     "output_type": "stream",
     "text": [
      "6/6 [==============================] - 0s 48ms/step - loss: 0.0040 - mae: 0.0492 - mse: 0.0040 - val_loss: 0.0020 - val_mae: 0.0331 - val_mse: 0.0020\n",
      "Epoch 90/100\n",
      "5/6 [========================>.....] - ETA: 0s - loss: 0.0036 - mae: 0.0473 - mse: 0.0036"
     ]
    },
    {
     "name": "stderr",
     "output_type": "stream",
     "text": [
      "WARNING:tensorflow:Can save best model only with val_mean_squared_error available, skipping.\n"
     ]
    },
    {
     "name": "stdout",
     "output_type": "stream",
     "text": [
      "6/6 [==============================] - 0s 46ms/step - loss: 0.0036 - mae: 0.0473 - mse: 0.0036 - val_loss: 0.0015 - val_mae: 0.0297 - val_mse: 0.0015\n",
      "Epoch 91/100\n",
      "5/6 [========================>.....] - ETA: 0s - loss: 0.0037 - mae: 0.0486 - mse: 0.0037"
     ]
    },
    {
     "name": "stderr",
     "output_type": "stream",
     "text": [
      "WARNING:tensorflow:Can save best model only with val_mean_squared_error available, skipping.\n"
     ]
    },
    {
     "name": "stdout",
     "output_type": "stream",
     "text": [
      "6/6 [==============================] - 0s 47ms/step - loss: 0.0037 - mae: 0.0486 - mse: 0.0037 - val_loss: 0.0011 - val_mae: 0.0256 - val_mse: 0.0011\n",
      "Epoch 92/100\n",
      "5/6 [========================>.....] - ETA: 0s - loss: 0.0037 - mae: 0.0479 - mse: 0.0037"
     ]
    },
    {
     "name": "stderr",
     "output_type": "stream",
     "text": [
      "WARNING:tensorflow:Can save best model only with val_mean_squared_error available, skipping.\n"
     ]
    },
    {
     "name": "stdout",
     "output_type": "stream",
     "text": [
      "6/6 [==============================] - 0s 47ms/step - loss: 0.0036 - mae: 0.0473 - mse: 0.0036 - val_loss: 0.0019 - val_mae: 0.0364 - val_mse: 0.0019\n",
      "Epoch 93/100\n",
      "5/6 [========================>.....] - ETA: 0s - loss: 0.0040 - mae: 0.0485 - mse: 0.0040"
     ]
    },
    {
     "name": "stderr",
     "output_type": "stream",
     "text": [
      "WARNING:tensorflow:Can save best model only with val_mean_squared_error available, skipping.\n"
     ]
    },
    {
     "name": "stdout",
     "output_type": "stream",
     "text": [
      "6/6 [==============================] - 0s 49ms/step - loss: 0.0041 - mae: 0.0485 - mse: 0.0041 - val_loss: 0.0035 - val_mae: 0.0469 - val_mse: 0.0035\n",
      "Epoch 94/100\n",
      "5/6 [========================>.....] - ETA: 0s - loss: 0.0038 - mae: 0.0510 - mse: 0.0038"
     ]
    },
    {
     "name": "stderr",
     "output_type": "stream",
     "text": [
      "WARNING:tensorflow:Can save best model only with val_mean_squared_error available, skipping.\n"
     ]
    },
    {
     "name": "stdout",
     "output_type": "stream",
     "text": [
      "6/6 [==============================] - 0s 48ms/step - loss: 0.0037 - mae: 0.0500 - mse: 0.0037 - val_loss: 0.0022 - val_mae: 0.0356 - val_mse: 0.0022\n",
      "Epoch 95/100\n",
      "5/6 [========================>.....] - ETA: 0s - loss: 0.0038 - mae: 0.0499 - mse: 0.0038"
     ]
    },
    {
     "name": "stderr",
     "output_type": "stream",
     "text": [
      "WARNING:tensorflow:Can save best model only with val_mean_squared_error available, skipping.\n"
     ]
    },
    {
     "name": "stdout",
     "output_type": "stream",
     "text": [
      "6/6 [==============================] - 0s 48ms/step - loss: 0.0037 - mae: 0.0491 - mse: 0.0037 - val_loss: 0.0011 - val_mae: 0.0241 - val_mse: 0.0011\n",
      "Epoch 96/100\n",
      "5/6 [========================>.....] - ETA: 0s - loss: 0.0039 - mae: 0.0503 - mse: 0.0039"
     ]
    },
    {
     "name": "stderr",
     "output_type": "stream",
     "text": [
      "WARNING:tensorflow:Can save best model only with val_mean_squared_error available, skipping.\n"
     ]
    },
    {
     "name": "stdout",
     "output_type": "stream",
     "text": [
      "6/6 [==============================] - 0s 50ms/step - loss: 0.0038 - mae: 0.0491 - mse: 0.0038 - val_loss: 0.0034 - val_mae: 0.0437 - val_mse: 0.0034\n",
      "Epoch 97/100\n",
      "5/6 [========================>.....] - ETA: 0s - loss: 0.0032 - mae: 0.0454 - mse: 0.0032"
     ]
    },
    {
     "name": "stderr",
     "output_type": "stream",
     "text": [
      "WARNING:tensorflow:Can save best model only with val_mean_squared_error available, skipping.\n"
     ]
    },
    {
     "name": "stdout",
     "output_type": "stream",
     "text": [
      "6/6 [==============================] - 0s 48ms/step - loss: 0.0032 - mae: 0.0451 - mse: 0.0032 - val_loss: 0.0025 - val_mae: 0.0390 - val_mse: 0.0025\n",
      "Epoch 98/100\n",
      "5/6 [========================>.....] - ETA: 0s - loss: 0.0029 - mae: 0.0437 - mse: 0.0029"
     ]
    },
    {
     "name": "stderr",
     "output_type": "stream",
     "text": [
      "WARNING:tensorflow:Can save best model only with val_mean_squared_error available, skipping.\n"
     ]
    },
    {
     "name": "stdout",
     "output_type": "stream",
     "text": [
      "6/6 [==============================] - 0s 47ms/step - loss: 0.0029 - mae: 0.0437 - mse: 0.0029 - val_loss: 0.0015 - val_mae: 0.0307 - val_mse: 0.0015\n",
      "Epoch 99/100\n",
      "5/6 [========================>.....] - ETA: 0s - loss: 0.0034 - mae: 0.0465 - mse: 0.0034"
     ]
    },
    {
     "name": "stderr",
     "output_type": "stream",
     "text": [
      "WARNING:tensorflow:Can save best model only with val_mean_squared_error available, skipping.\n"
     ]
    },
    {
     "name": "stdout",
     "output_type": "stream",
     "text": [
      "6/6 [==============================] - 0s 48ms/step - loss: 0.0034 - mae: 0.0465 - mse: 0.0034 - val_loss: 0.0014 - val_mae: 0.0295 - val_mse: 0.0014\n",
      "Epoch 100/100\n",
      "5/6 [========================>.....] - ETA: 0s - loss: 0.0032 - mae: 0.0456 - mse: 0.0032"
     ]
    },
    {
     "name": "stderr",
     "output_type": "stream",
     "text": [
      "WARNING:tensorflow:Can save best model only with val_mean_squared_error available, skipping.\n"
     ]
    },
    {
     "name": "stdout",
     "output_type": "stream",
     "text": [
      "6/6 [==============================] - 0s 45ms/step - loss: 0.0034 - mae: 0.0467 - mse: 0.0034 - val_loss: 0.0041 - val_mae: 0.0556 - val_mse: 0.0041\n"
     ]
    }
   ],
   "source": [
    "from keras.callbacks import ModelCheckpoint\n",
    "checkpoint = ModelCheckpoint(\"weights.best.hdf5\", monitor='val_mean_squared_error', verbose=1, save_best_only=True, mode='min')\n",
    "\n",
    "callbacks_list = [checkpoint]\n",
    "history = model.fit(X_train, y_train, epochs=100, batch_size=64, verbose=1, callbacks=callbacks_list, validation_split=0.1)"
   ]
  },
  {
   "cell_type": "code",
   "execution_count": 11,
   "id": "520a7400",
   "metadata": {
    "colab": {
     "base_uri": "https://localhost:8080/",
     "height": 851
    },
    "executionInfo": {
     "elapsed": 829,
     "status": "ok",
     "timestamp": 1670226938893,
     "user": {
      "displayName": "Emam Hossain",
      "userId": "13589795966077461357"
     },
     "user_tz": 300
    },
    "id": "520a7400",
    "outputId": "b025b71d-1b68-4c5b-d311-3523622f9b64"
   },
   "outputs": [
    {
     "data": {
      "image/png": "[encoded data removed]",
      "text/plain": [
       "<Figure size 432x288 with 1 Axes>"
      ]
     },
     "metadata": {
      "needs_background": "light"
     },
     "output_type": "display_data"
    },
    {
     "data": {
      "image/png": "[encoded data removed]",
      "text/plain": [
       "<Figure size 432x288 with 1 Axes>"
      ]
     },
     "metadata": {
      "needs_background": "light"
     },
     "output_type": "display_data"
    },
    {
     "data": {
      "image/png": "[encoded data removed]",
      "text/plain": [
       "<Figure size 432x288 with 1 Axes>"
      ]
     },
     "metadata": {
      "needs_background": "light"
     },
     "output_type": "display_data"
    }
   ],
   "source": [
    "plt.plot(history.history['mse'])\n",
    "plt.plot(history.history['val_mse'])\n",
    "plt.title('Mean Squared Error of SIE Prediction')\n",
    "plt.ylabel('MSE')\n",
    "plt.xlabel('Epoch')\n",
    "plt.legend(['train', 'validation'], loc='upper right')\n",
    "plt.show()\n",
    "\n",
    "plt.plot(history.history['mae'])\n",
    "plt.plot(history.history['val_mae'])\n",
    "plt.title('Mean Absolute Error of SIE Prediction')\n",
    "plt.ylabel('MAE')\n",
    "plt.xlabel('Epoch')\n",
    "plt.legend(['train', 'validation'], loc='upper right')\n",
    "plt.show()\n",
    "\n",
    "plt.plot(history.history['loss'])\n",
    "plt.plot(history.history['val_loss'])\n",
    "plt.title('Loss of SIE Prediction')\n",
    "plt.ylabel('Loss')\n",
    "plt.xlabel('Epoch')\n",
    "plt.legend(['train', 'validation'], loc='upper right')\n",
    "plt.show()"
   ]
  },
  {
   "cell_type": "code",
   "execution_count": 12,
   "id": "733c794b",
   "metadata": {
    "colab": {
     "base_uri": "https://localhost:8080/"
    },
    "executionInfo": {
     "elapsed": 2341,
     "status": "ok",
     "timestamp": 1670226941230,
     "user": {
      "displayName": "Emam Hossain",
      "userId": "13589795966077461357"
     },
     "user_tz": 300
    },
    "id": "733c794b",
    "outputId": "b71de119-0c99-4421-8abf-b6826c5d8a15"
   },
   "outputs": [
    {
     "name": "stdout",
     "output_type": "stream",
     "text": [
      "4/4 [==============================] - 2s 20ms/step\n"
     ]
    }
   ],
   "source": [
    "from sklearn.metrics import mean_squared_error, mean_absolute_error, mean_absolute_percentage_error, r2_score\n",
    "from numpy import sqrt\n",
    "\n",
    "#model.load_weights(\"weights.best.hdf5\")\n",
    "\n",
    "cols = len(df.columns)\n",
    "pred = model.predict(X_test)\n",
    "\n",
    "predicted_dataset = dataset\n",
    "predicted_dataset[len(predicted_dataset)-len(pred):, cols-1] = pred[:, 0]\n",
    "scaled_predicted_dataset = scaler.inverse_transform(predicted_dataset)\n",
    "\n",
    "predicted_df = df.copy()\n",
    "predicted_df['sea_ice_extent'][len(predicted_dataset)-len(pred):] = scaled_predicted_dataset[len(predicted_dataset)-len(pred):, cols-1]\n",
    "\n",
    "predictions = pd.DataFrame()\n",
    "predictions['predicted'] = (predicted_df['sea_ice_extent'][len(predicted_dataset)-len(pred):])\n",
    "predictions['actual'] = (df['sea_ice_extent'][len(predicted_dataset)-len(pred):])\n",
    "predictions = predictions.astype(float)"
   ]
  },
  {
   "cell_type": "code",
   "execution_count": 13,
   "id": "O8XcnKMZNPgv",
   "metadata": {
    "colab": {
     "base_uri": "https://localhost:8080/",
     "height": 1000
    },
    "executionInfo": {
     "elapsed": 318,
     "status": "ok",
     "timestamp": 1670226941542,
     "user": {
      "displayName": "Emam Hossain",
      "userId": "13589795966077461357"
     },
     "user_tz": 300
    },
    "id": "O8XcnKMZNPgv",
    "outputId": "2a8638fa-aa4f-4b2f-b7ba-e1d07e4b7a87"
   },
   "outputs": [
    {
     "data": {
      "image/png": "[encoded data removed]",
      "text/plain": [
       "<Figure size 1152x432 with 1 Axes>"
      ]
     },
     "metadata": {
      "needs_background": "light"
     },
     "output_type": "display_data"
    },
    {
     "data": {
      "image/png": "[encoded data removed]",
      "text/plain": [
       "<Figure size 720x720 with 1 Axes>"
      ]
     },
     "metadata": {
      "needs_background": "light"
     },
     "output_type": "display_data"
    },
    {
     "name": "stdout",
     "output_type": "stream",
     "text": [
      "MSE :  4336049660675.9233 (10⁶ km²)\n",
      "MSPE : 7.274 %\n",
      "RMSE :  2082318.3379771507 (10⁶ km²)\n",
      "RMSPE : 26.971 %\n",
      "MAE :  1783790.8979591837 (10⁶ km²)\n",
      "MAPE :  20.094 %\n",
      "R2 :  52.349\n"
     ]
    }
   ],
   "source": [
    "plt.figure(figsize = (16,6))\n",
    "ax = plt.axes()\n",
    "# ax.set_facecolor('#dcdcdc')\n",
    "\n",
    "plt.title('Arctic Sea Ice Extent Actual vs Prediction Curve for Test Data', fontsize = 20,fontweight = \"bold\")\n",
    "plt.xlabel('Time' , fontsize = 14,fontweight = \"bold\")\n",
    "plt.ylabel('Sea Ice Extent (10\\u2076 km\\u00b2)', fontsize = 14,fontweight = \"bold\")\n",
    "plt.plot(predictions['actual']/10**6, 'blue', label='Actual SIE')\n",
    "plt.plot(predictions['predicted']/10**6, 'red', label='Predicted SIE')\n",
    "plt.legend()\n",
    "plt.grid()\n",
    "plt.show\n",
    "\n",
    "predictions['diff'] = predictions['predicted'] - predictions['actual']\n",
    "plt.figure(figsize=(10,10))\n",
    "plt.xlabel('Difference between actual and predicted SIE (10\\u2076 km\\u00b2)')\n",
    "sns.histplot(predictions['diff'])\n",
    "plt.title('Distribution of differences between actual and predicted SIE')\n",
    "plt.show()\n",
    "\n",
    "mspe = (np.mean(np.square((predictions['actual'].values - predictions['predicted'].values) / predictions['actual'].values))) * 100\n",
    "rmspe = (np.sqrt(np.mean(np.square((predictions['actual'].values - predictions['predicted'].values) / predictions['actual'].values)))) * 100\n",
    "\n",
    "print(\"MSE : \", mean_squared_error(predictions['predicted'].values, predictions['actual'].values), \"(10\\u2076 km\\u00b2)\")\n",
    "print(\"MSPE :\", round(mspe,3), \"%\")\n",
    "print(\"RMSE : \", sqrt(mean_squared_error(predictions['predicted'].values, predictions['actual'].values)), \"(10\\u2076 km\\u00b2)\")\n",
    "print(\"RMSPE :\", round(rmspe,3), \"%\")\n",
    "print(\"MAE : \", mean_absolute_error(predictions['predicted'].values, predictions['actual'].values), \"(10\\u2076 km\\u00b2)\")\n",
    "print(\"MAPE : \", round(mean_absolute_percentage_error(predictions['predicted'].values, predictions['actual'].values)*100,3), \"%\")\n",
    "print(\"R2 : \", round(r2_score(predictions['predicted'].values, predictions['actual'].values)*100,3))"
   ]
  },
  {
   "cell_type": "code",
   "execution_count": 14,
   "id": "3f3aaf6d",
   "metadata": {
    "executionInfo": {
     "elapsed": 5,
     "status": "ok",
     "timestamp": 1670226941543,
     "user": {
      "displayName": "Emam Hossain",
      "userId": "13589795966077461357"
     },
     "user_tz": 300
    },
    "id": "3f3aaf6d"
   },
   "outputs": [],
   "source": [
    "# while True:pass"
   ]
  }
 ],
 "metadata": {
  "accelerator": "GPU",
  "colab": {
   "provenance": [
    {
     "file_id": "1tsdSY4XF8dbRdNGZQhWw6nd--RLFP4EX",
     "timestamp": 1670202049252
    },
    {
     "file_id": "1L3ixnLeRDivuLSWCq04VtDKnU7YIw_C7",
     "timestamp": 1670201891016
    },
    {
     "file_id": "1VJInZTaupyMxQ6JprjJi2D6639FmXJ-t",
     "timestamp": 1670201115947
    },
    {
     "file_id": "1f-ct_NOq__M1QDGjYMyualvRlVNWtnum",
     "timestamp": 1670201096560
    },
    {
     "file_id": "1S71KBLYU9q_J7PpD1i3PdHnejHsyHk2A",
     "timestamp": 1670201029903
    },
    {
     "file_id": "1ZW2CDeL2Z4e4d7GVtf1CCEU8ioKr_ozr",
     "timestamp": 1670200993047
    },
    {
     "file_id": "11ezPDxEfETgGwyGSoqr5wscr_t65bvL6",
     "timestamp": 1669223899169
    },
    {
     "file_id": "https://github.com/ehfahad/SIE-Prediction-using-Causal-Deep-Learning/blob/main/Models/SIE%20Prediction%20(1-day%20lead)%20upto%202014%20with%20day%2C%20week%2C%20month.ipynb",
     "timestamp": 1666883273850
    }
   ]
  },
  "gpuClass": "standard",
  "kernelspec": {
   "display_name": "Python 3 (ipykernel)",
   "language": "python",
   "name": "python3"
  },
  "language_info": {
   "codemirror_mode": {
    "name": "ipython",
    "version": 3
   },
   "file_extension": ".py",
   "mimetype": "text/x-python",
   "name": "python",
   "nbconvert_exporter": "python",
   "pygments_lexer": "ipython3",
   "version": "3.8.15"
  },
  "varInspector": {
   "cols": {
    "lenName": 16,
    "lenType": 16,
    "lenVar": 40
   },
   "kernels_config": {
    "python": {
     "delete_cmd_postfix": "",
     "delete_cmd_prefix": "del ",
     "library": "var_list.py",
     "varRefreshCmd": "print(var_dic_list())"
    },
    "r": {
     "delete_cmd_postfix": ") ",
     "delete_cmd_prefix": "rm(",
     "library": "var_list.r",
     "varRefreshCmd": "cat(var_dic_list()) "
    }
   },
   "position": {
    "height": "417.844px",
    "left": "1538px",
    "right": "20px",
    "top": "131px",
    "width": "350px"
   },
   "types_to_exclude": [
    "module",
    "function",
    "builtin_function_or_method",
    "instance",
    "_Feature"
   ],
   "window_display": true
  }
 },
 "nbformat": 4,
 "nbformat_minor": 5
}
