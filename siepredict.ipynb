{
 "cells": [
  {
   "cell_type": "markdown",
   "metadata": {},
   "source": [
    "# Incorporating Causality with Deep Learning in Predicting Short-Term and Seasonal Sea Ice\n",
    "\n",
    "The paper "Correlation to Causation: A Causal Deep Learning Framework for Arctic Sea Ice Prediction" has been accepted in the Causal AI for Robust Decision Making (CARD) Workshop in Pervasive Computing and Communications (PerCom 2025). This research investigates the impact of causality-aware feature selection on the performance of deep learning models for Arctic Sea Ice Extent (SIE) prediction using daily and monthly datasets. Below, you will find details about the experiments conducted and links to the corresponding notebooks."
   ]
  },
  {
   "cell_type": "markdown",
   "metadata": {},
   "source": [
    "## Overview of the Experiments\n",
    "\n",
    "We conducted experiments on two datasets: **Arctic Daily Data** and **Arctic Monthly Data**, using three deep learning model configurations for each dataset:\n",
    "\n",
    "1. **$DL_{\\text{vanilla}}$**: A hybrid GRU-LSTM model trained on all available features.\n",
    "2. **$DL_{\\text{GC}}$**: A hybrid GRU-LSTM model trained on causal features identified using the Granger Causality algorithm.\n",
    "3. **$DL_{\\text{PCMCI+}}$**: A hybrid GRU-LSTM model trained on causal features identified using the PCMCI+ algorithm.\n",
    "\n",
    "Each model was evaluated based on standard metrics such as RMSE, MAE, and $R^2$ for lead times ranging from 1 to 6 months."
   ]
  },
  {
   "cell_type": "markdown",
   "metadata": {},
   "source": [
    "## Dataset Descriptions\n",
    "\n",
    "### 1. **Arctic Daily Data**\n",
    "- Time Period: 1979-2018\n",
    "- Variables: 11 ocean-atmospheric variables, including surface pressure, wind velocity, specific humidity, and others.\n",
    "- Causal Features:\n",
    "  - **GC**: All features except sea surface temperature.\n",
    "  - **PCMCI+**: Longwave radiation, snowfall, sea surface temperature, sea surface salinity, surface pressure, and sea ice extent.\n",
    "\n",
    "### 2. **Arctic Monthly Data**\n",
    "- Time Period: 1979-2021\n",
    "- Variables: Same as daily data.\n",
    "- Causal Features:\n",
    "  - **GC**: All features except sea surface temperature.\n",
    "  - **PCMCI+**: Longwave radiation, sea surface temperature, and sea ice extent."
   ]
  },
  {
   "cell_type": "markdown",
   "metadata": {
    "tags": []
   },
   "source": [
    "## Experiment Notebooks\n",
    "\n",
    "Each notebook includes data preprocessing, model training, evaluation, and visualization for a specific configuration. Click on a notebook link to explore the details.\n",
    "\n",
    "### Arctic Daily Data\n",
    "\n",
    "1. **$DL_{\\text{vanilla}}$ on Daily Data**  \n",
    "   A traditional deep learning model using all available features.  \n",
    "   [1-Month](./notebooks/DL_vanilla/Daily%20Data/ML%20based%20SIE%20Prediction%20(1-month).ipynb) | [2-Month](./notebooks/DL_vanilla/Daily%20Data/ML%20based%20SIE%20Prediction%20(2-months).ipynb) | [3-Month](./notebooks/DL_vanilla/Daily%20Data/ML%20based%20SIE%20Prediction%20(3-months).ipynb) | [4-Month](./notebooks/DL_vanilla/Daily%20Data/ML%20based%20SIE%20Prediction%20(4-months).ipynb) | [5-Month](./notebooks/DL_vanilla/Daily%20Data/ML%20based%20SIE%20Prediction%20(5-months).ipynb) | [6-Month](./notebooks/DL_vanilla/Daily%20Data/ML%20based%20SIE%20Prediction%20(6-months).ipynb)\n",
    "\n",
    "2. **$DL_{\\text{GC}}$ on Daily Data**  \n",
    "   A causality-driven model trained on features identified by the Granger Causality algorithm.  \n",
    "   [1-Month](./notebooks/DL_GC/Daily%20Data/GC%20based%20SIE%20Prediction%20(1-month).ipynb) | [2-Month](./notebooks/DL_GC/Daily%20Data/GC%20based%20SIE%20Prediction%20(2-months).ipynb) | [3-Month](./notebooks/DL_GC/Daily%20Data/GC%20based%20SIE%20Prediction%20(3-months).ipynb) | [4-Month](./notebooks/DL_GC/Daily%20Data/GC%20based%20SIE%20Prediction%20(4-months).ipynb) | [5-Month](./notebooks/DL_GC/Daily%20Data/GC%20based%20SIE%20Prediction%20(5-months).ipynb) | [6-Month](./notebooks/DL_GC/Daily%20Data/GC%20based%20SIE%20Prediction%20(6-months).ipynb)\n",
    "\n",
    "3. **$DL_{\\text{PCMCI+}}$ on Daily Data**  \n",
    "   A causality-driven model trained on features identified by the PCMCI+ algorithm.  \n",
    "   [1-Month](./notebooks/DL_PCMCI+/Daily%20Data/PCMCI+%20based%20SIE%20Prediction%20(1-month).ipynb) | [2-Month](./notebooks/DL_PCMCI+/Daily%20Data/PCMCI+%20based%20SIE%20Prediction%20(2-months).ipynb) | [3-Month](./notebooks/DL_PCMCI+/Daily%20Data/PCMCI+%20based%20SIE%20Prediction%20(3-months).ipynb) | [4-Month](./notebooks/DL_PCMCI+/Daily%20Data/PCMCI+%20based%20SIE%20Prediction%20(4-months).ipynb) | [5-Month](./notebooks/DL_PCMCI+/Daily%20Data/PCMCI+%20based%20SIE%20Prediction%20(5-months).ipynb) | [6-Month](./notebooks/DL_PCMCI+/Daily%20Data/PCMCI+%20based%20SIE%20Prediction%20(6-months).ipynb)\n",
    "\n",
    "### Arctic Monthly Data\n",
    "\n",
    "1. **$DL_{\\text{vanilla}}$ on Monthly Data**  \n",
    "   A traditional deep learning model using all available features.  \n",
    "   [1-Month](./notebooks/DL_vanilla/Monthly%20Data/ML%20based%20SIE%20Prediction%20(1-month).ipynb) | [2-Month](./notebooks/DL_vanilla/Monthly%20Data/ML%20based%20SIE%20Prediction%20(2-months).ipynb) | [3-Month](./notebooks/DL_vanilla/Monthly%20Data/ML%20based%20SIE%20Prediction%20(3-months).ipynb) | [4-Month](./notebooks/DL_vanilla/Monthly%20Data/ML%20based%20SIE%20Prediction%20(4-months).ipynb) | [5-Month](./notebooks/DL_vanilla/Monthly%20Data/ML%20based%20SIE%20Prediction%20(5-months).ipynb) | [6-Month](./notebooks/DL_vanilla/Monthly%20Data/ML%20based%20SIE%20Prediction%20(6-months).ipynb)\n",
    "\n",
    "2. **$DL_{\\text{GC}}$ on Monthly Data**  \n",
    "   A causality-driven model trained on features identified by the Granger Causality algorithm.  \n",
    "   [1-Month](./notebooks/DL_GC/Monthly%20Data/GC%20based%20SIE%20Prediction%20(1-month).ipynb) | [2-Month](./notebooks/DL_GC/Monthly%20Data/GC%20based%20SIE%20Prediction%20(2-months).ipynb) | [3-Month](./notebooks/DL_GC/Monthly%20Data/GC%20based%20SIE%20Prediction%20(3-months).ipynb) | [4-Month](./notebooks/DL_GC/Monthly%20Data/GC%20based%20SIE%20Prediction%20(4-months).ipynb) | [5-Month](./notebooks/DL_GC/Monthly%20Data/GC%20based%20SIE%20Prediction%20(5-months).ipynb) | [6-Month](./notebooks/DL_GC/Monthly%20Data/GC%20based%20SIE%20Prediction%20(6-months).ipynb)\n",
    "\n",
    "3. **$DL_{\\text{PCMCI+}}$ on Monthly Data**  \n",
    "   A causality-driven model trained on features identified by the PCMCI+ algorithm.  \n",
    "   [1-Month](./notebooks/DL_PCMCI+/Monthly%20Data/PCMCI+%20based%20SIE%20Prediction%20(1-month).ipynb) | [2-Month](./notebooks/DL_PCMCI+/Monthly%20Data/PCMCI+%20based%20SIE%20Prediction%20(2-months).ipynb) | [3-Month](./notebooks/DL_PCMCI+/Monthly%20Data/PCMCI+%20based%20SIE%20Prediction%20(3-months).ipynb) | [4-Month](./notebooks/DL_PCMCI+/Monthly%20Data/PCMCI+%20based%20SIE%20Prediction%20(4-months).ipynb) | [5-Month](./notebooks/DL_PCMCI+/Monthly%20Data/PCMCI+%20based%20SIE%20Prediction%20(5-months).ipynb) | [6-Month](./notebooks/DL_PCMCI+/Monthly%20Data/PCMCI+%20based%20SIE%20Prediction%20(6-months).ipynb)\n"
   ]
  },
  {
   "cell_type": "markdown",
   "metadata": {},
   "source": [
    "## Results and Observations\n",
    "\n",
    "- **Daily Data**: Models trained on causal features (GC and PCMCI+) generally outperformed the DL_vanilla model, especially for longer lead times.\n",
    "- **Monthly Data**: Similar trends were observed, with causal models showing better predictive capability, particularly for PCMCI+ features derived from daily data."
   ]
  },
  {
   "cell_type": "markdown",
   "metadata": {},
   "source": [
    "## Future Directions\n",
    "\n",
    "- Incorporating time lags for causal features into training to improve model performance.\n",
    "- Exploring advanced architectures like Transformer models to enhance causal feature integration."
   ]
  },
  {
   "cell_type": "markdown",
   "metadata": {},
   "source": [
    "Feel free to navigate through the notebooks and explore how causality influences sea ice predictions."
   ]
  }
 ],
 "metadata": {
  "kernelspec": {
   "display_name": "Python 3 (ipykernel)",
   "language": "python",
   "name": "python3"
  },
  "language_info": {
   "codemirror_mode": {
    "name": "ipython",
    "version": 3
   },
   "file_extension": ".py",
   "mimetype": "text/x-python",
   "name": "python",
   "nbconvert_exporter": "python",
   "pygments_lexer": "ipython3",
   "version": "3.8.15"
  }
 },
 "nbformat": 4,
 "nbformat_minor": 4
}
